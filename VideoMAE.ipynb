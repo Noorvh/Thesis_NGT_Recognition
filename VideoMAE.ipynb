{
 "cells": [
  {
   "cell_type": "markdown",
   "id": "5e4ef7cb-6dd0-4115-b8c3-8e798527d0d7",
   "metadata": {},
   "source": [
    "Here we implement the VideoMAE Feature extraction\n"
   ]
  },
  {
   "cell_type": "code",
   "execution_count": 17,
   "id": "c7f429a1-0d68-45a0-9453-2d0015751d53",
   "metadata": {},
   "outputs": [
    {
     "name": "stdout",
     "output_type": "stream",
     "text": [
      "Defaulting to user installation because normal site-packages is not writeable\n",
      "Requirement already satisfied: filelock in /usr/local/lib/python3.10/dist-packages (3.17.0)\n",
      "Defaulting to user installation because normal site-packages is not writeable\n",
      "Collecting huggingface-hub\n",
      "  Downloading huggingface_hub-0.29.1-py3-none-any.whl.metadata (13 kB)\n",
      "Requirement already satisfied: filelock in /usr/local/lib/python3.10/dist-packages (from huggingface-hub) (3.17.0)\n",
      "Collecting fsspec>=2023.5.0 (from huggingface-hub)\n",
      "  Using cached fsspec-2025.2.0-py3-none-any.whl.metadata (11 kB)\n",
      "Requirement already satisfied: packaging>=20.9 in /usr/local/lib/python3.10/dist-packages (from huggingface-hub) (24.2)\n",
      "Requirement already satisfied: pyyaml>=5.1 in /usr/lib/python3/dist-packages (from huggingface-hub) (5.3.1)\n",
      "Requirement already satisfied: requests in /usr/local/lib/python3.10/dist-packages (from huggingface-hub) (2.32.3)\n",
      "Collecting tqdm>=4.42.1 (from huggingface-hub)\n",
      "  Downloading tqdm-4.67.1-py3-none-any.whl.metadata (57 kB)\n",
      "Requirement already satisfied: typing-extensions>=3.7.4.3 in /usr/local/lib/python3.10/dist-packages (from huggingface-hub) (4.12.2)\n",
      "Requirement already satisfied: charset-normalizer<4,>=2 in /usr/local/lib/python3.10/dist-packages (from requests->huggingface-hub) (3.4.1)\n",
      "Requirement already satisfied: idna<4,>=2.5 in /usr/lib/python3/dist-packages (from requests->huggingface-hub) (2.8)\n",
      "Requirement already satisfied: urllib3<3,>=1.21.1 in /usr/local/lib/python3.10/dist-packages (from requests->huggingface-hub) (2.3.0)\n",
      "Requirement already satisfied: certifi>=2017.4.17 in /usr/lib/python3/dist-packages (from requests->huggingface-hub) (2019.11.28)\n",
      "Downloading huggingface_hub-0.29.1-py3-none-any.whl (468 kB)\n",
      "Using cached fsspec-2025.2.0-py3-none-any.whl (184 kB)\n",
      "Downloading tqdm-4.67.1-py3-none-any.whl (78 kB)\n",
      "Installing collected packages: tqdm, fsspec, huggingface-hub\n",
      "\u001b[33m  WARNING: The script tqdm is installed in '/home/nvanhooijd/.local/bin' which is not on PATH.\n",
      "  Consider adding this directory to PATH or, if you prefer to suppress this warning, use --no-warn-script-location.\u001b[0m\u001b[33m\n",
      "\u001b[0m\u001b[33m  WARNING: The script huggingface-cli is installed in '/home/nvanhooijd/.local/bin' which is not on PATH.\n",
      "  Consider adding this directory to PATH or, if you prefer to suppress this warning, use --no-warn-script-location.\u001b[0m\u001b[33m\n",
      "\u001b[0mSuccessfully installed fsspec-2025.2.0 huggingface-hub-0.29.1 tqdm-4.67.1\n",
      "Defaulting to user installation because normal site-packages is not writeable\n",
      "Collecting numpy\n",
      "  Downloading numpy-2.2.3-cp310-cp310-manylinux_2_17_x86_64.manylinux2014_x86_64.whl.metadata (62 kB)\n",
      "Downloading numpy-2.2.3-cp310-cp310-manylinux_2_17_x86_64.manylinux2014_x86_64.whl (16.4 MB)\n",
      "\u001b[2K   \u001b[90m━━━━━━━━━━━━━━━━━━━━━━━━━━━━━━━━━━━━━━━━\u001b[0m \u001b[32m16.4/16.4 MB\u001b[0m \u001b[31m65.4 MB/s\u001b[0m eta \u001b[36m0:00:00\u001b[0m00:01\u001b[0m\n",
      "\u001b[?25hInstalling collected packages: numpy\n",
      "\u001b[33m  WARNING: The scripts f2py and numpy-config are installed in '/home/nvanhooijd/.local/bin' which is not on PATH.\n",
      "  Consider adding this directory to PATH or, if you prefer to suppress this warning, use --no-warn-script-location.\u001b[0m\u001b[33m\n",
      "\u001b[0mSuccessfully installed numpy-2.2.3\n",
      "Defaulting to user installation because normal site-packages is not writeable\n",
      "Requirement already satisfied: packaging in /usr/local/lib/python3.10/dist-packages (24.2)\n",
      "Defaulting to user installation because normal site-packages is not writeable\n",
      "Requirement already satisfied: pyyaml in /usr/lib/python3/dist-packages (5.3.1)\n",
      "Defaulting to user installation because normal site-packages is not writeable\n",
      "Collecting regex\n",
      "  Downloading regex-2024.11.6-cp310-cp310-manylinux_2_17_x86_64.manylinux2014_x86_64.whl.metadata (40 kB)\n",
      "Downloading regex-2024.11.6-cp310-cp310-manylinux_2_17_x86_64.manylinux2014_x86_64.whl (781 kB)\n",
      "\u001b[2K   \u001b[90m━━━━━━━━━━━━━━━━━━━━━━━━━━━━━━━━━━━━━━━━\u001b[0m \u001b[32m781.7/781.7 kB\u001b[0m \u001b[31m39.4 MB/s\u001b[0m eta \u001b[36m0:00:00\u001b[0m\n",
      "\u001b[?25hInstalling collected packages: regex\n",
      "Successfully installed regex-2024.11.6\n",
      "Defaulting to user installation because normal site-packages is not writeable\n",
      "Requirement already satisfied: requests in /usr/local/lib/python3.10/dist-packages (2.32.3)\n",
      "Requirement already satisfied: charset-normalizer<4,>=2 in /usr/local/lib/python3.10/dist-packages (from requests) (3.4.1)\n",
      "Requirement already satisfied: idna<4,>=2.5 in /usr/lib/python3/dist-packages (from requests) (2.8)\n",
      "Requirement already satisfied: urllib3<3,>=1.21.1 in /usr/local/lib/python3.10/dist-packages (from requests) (2.3.0)\n",
      "Requirement already satisfied: certifi>=2017.4.17 in /usr/lib/python3/dist-packages (from requests) (2019.11.28)\n",
      "Defaulting to user installation because normal site-packages is not writeable\n",
      "Collecting safetensors\n",
      "  Downloading safetensors-0.5.2-cp38-abi3-manylinux_2_17_x86_64.manylinux2014_x86_64.whl.metadata (3.8 kB)\n",
      "Downloading safetensors-0.5.2-cp38-abi3-manylinux_2_17_x86_64.manylinux2014_x86_64.whl (461 kB)\n",
      "Installing collected packages: safetensors\n",
      "Successfully installed safetensors-0.5.2\n",
      "Defaulting to user installation because normal site-packages is not writeable\n",
      "Collecting tokenizers\n",
      "  Downloading tokenizers-0.21.0-cp39-abi3-manylinux_2_17_x86_64.manylinux2014_x86_64.whl.metadata (6.7 kB)\n",
      "Requirement already satisfied: huggingface-hub<1.0,>=0.16.4 in ./.local/lib/python3.10/site-packages (from tokenizers) (0.29.1)\n",
      "Requirement already satisfied: filelock in /usr/local/lib/python3.10/dist-packages (from huggingface-hub<1.0,>=0.16.4->tokenizers) (3.17.0)\n",
      "Requirement already satisfied: fsspec>=2023.5.0 in ./.local/lib/python3.10/site-packages (from huggingface-hub<1.0,>=0.16.4->tokenizers) (2025.2.0)\n",
      "Requirement already satisfied: packaging>=20.9 in /usr/local/lib/python3.10/dist-packages (from huggingface-hub<1.0,>=0.16.4->tokenizers) (24.2)\n",
      "Requirement already satisfied: pyyaml>=5.1 in /usr/lib/python3/dist-packages (from huggingface-hub<1.0,>=0.16.4->tokenizers) (5.3.1)\n",
      "Requirement already satisfied: requests in /usr/local/lib/python3.10/dist-packages (from huggingface-hub<1.0,>=0.16.4->tokenizers) (2.32.3)\n",
      "Requirement already satisfied: tqdm>=4.42.1 in ./.local/lib/python3.10/site-packages (from huggingface-hub<1.0,>=0.16.4->tokenizers) (4.67.1)\n",
      "Requirement already satisfied: typing-extensions>=3.7.4.3 in /usr/local/lib/python3.10/dist-packages (from huggingface-hub<1.0,>=0.16.4->tokenizers) (4.12.2)\n",
      "Requirement already satisfied: charset-normalizer<4,>=2 in /usr/local/lib/python3.10/dist-packages (from requests->huggingface-hub<1.0,>=0.16.4->tokenizers) (3.4.1)\n",
      "Requirement already satisfied: idna<4,>=2.5 in /usr/lib/python3/dist-packages (from requests->huggingface-hub<1.0,>=0.16.4->tokenizers) (2.8)\n",
      "Requirement already satisfied: urllib3<3,>=1.21.1 in /usr/local/lib/python3.10/dist-packages (from requests->huggingface-hub<1.0,>=0.16.4->tokenizers) (2.3.0)\n",
      "Requirement already satisfied: certifi>=2017.4.17 in /usr/lib/python3/dist-packages (from requests->huggingface-hub<1.0,>=0.16.4->tokenizers) (2019.11.28)\n",
      "Downloading tokenizers-0.21.0-cp39-abi3-manylinux_2_17_x86_64.manylinux2014_x86_64.whl (3.0 MB)\n",
      "\u001b[2K   \u001b[90m━━━━━━━━━━━━━━━━━━━━━━━━━━━━━━━━━━━━━━━━\u001b[0m \u001b[32m3.0/3.0 MB\u001b[0m \u001b[31m83.3 MB/s\u001b[0m eta \u001b[36m0:00:00\u001b[0m\n",
      "\u001b[?25hInstalling collected packages: tokenizers\n",
      "Successfully installed tokenizers-0.21.0\n",
      "Defaulting to user installation because normal site-packages is not writeable\n",
      "Requirement already satisfied: tqdm in ./.local/lib/python3.10/site-packages (4.67.1)\n"
     ]
    }
   ],
   "source": [
    "!pip install filelock\n",
    "!pip install huggingface-hub\n",
    "!pip install numpy\n",
    "!pip install packaging\n",
    "!pip install pyyaml\n",
    "!pip install regex\n",
    "!pip install requests\n",
    "!pip install safetensors\n",
    "!pip install tokenizers\n",
    "!pip install tqdm"
   ]
  },
  {
   "cell_type": "code",
   "execution_count": 18,
   "id": "fd01eefa-6e51-4301-bc7c-e81888d8b528",
   "metadata": {},
   "outputs": [
    {
     "name": "stdout",
     "output_type": "stream",
     "text": [
      "Defaulting to user installation because normal site-packages is not writeable\n",
      "Collecting transformers\n",
      "  Downloading transformers-4.49.0-py3-none-any.whl.metadata (44 kB)\n",
      "Requirement already satisfied: filelock in /usr/local/lib/python3.10/dist-packages (from transformers) (3.17.0)\n",
      "Requirement already satisfied: huggingface-hub<1.0,>=0.26.0 in ./.local/lib/python3.10/site-packages (from transformers) (0.29.1)\n",
      "Requirement already satisfied: numpy>=1.17 in ./.local/lib/python3.10/site-packages (from transformers) (2.2.3)\n",
      "Requirement already satisfied: packaging>=20.0 in /usr/local/lib/python3.10/dist-packages (from transformers) (24.2)\n",
      "Requirement already satisfied: pyyaml>=5.1 in /usr/lib/python3/dist-packages (from transformers) (5.3.1)\n",
      "Requirement already satisfied: regex!=2019.12.17 in ./.local/lib/python3.10/site-packages (from transformers) (2024.11.6)\n",
      "Requirement already satisfied: requests in /usr/local/lib/python3.10/dist-packages (from transformers) (2.32.3)\n",
      "Requirement already satisfied: tokenizers<0.22,>=0.21 in ./.local/lib/python3.10/site-packages (from transformers) (0.21.0)\n",
      "Requirement already satisfied: safetensors>=0.4.1 in ./.local/lib/python3.10/site-packages (from transformers) (0.5.2)\n",
      "Requirement already satisfied: tqdm>=4.27 in ./.local/lib/python3.10/site-packages (from transformers) (4.67.1)\n",
      "Requirement already satisfied: fsspec>=2023.5.0 in ./.local/lib/python3.10/site-packages (from huggingface-hub<1.0,>=0.26.0->transformers) (2025.2.0)\n",
      "Requirement already satisfied: typing-extensions>=3.7.4.3 in /usr/local/lib/python3.10/dist-packages (from huggingface-hub<1.0,>=0.26.0->transformers) (4.12.2)\n",
      "Requirement already satisfied: charset-normalizer<4,>=2 in /usr/local/lib/python3.10/dist-packages (from requests->transformers) (3.4.1)\n",
      "Requirement already satisfied: idna<4,>=2.5 in /usr/lib/python3/dist-packages (from requests->transformers) (2.8)\n",
      "Requirement already satisfied: urllib3<3,>=1.21.1 in /usr/local/lib/python3.10/dist-packages (from requests->transformers) (2.3.0)\n",
      "Requirement already satisfied: certifi>=2017.4.17 in /usr/lib/python3/dist-packages (from requests->transformers) (2019.11.28)\n",
      "Downloading transformers-4.49.0-py3-none-any.whl (10.0 MB)\n",
      "\u001b[2K   \u001b[90m━━━━━━━━━━━━━━━━━━━━━━━━━━━━━━━━━━━━━━━━\u001b[0m \u001b[32m10.0/10.0 MB\u001b[0m \u001b[31m104.4 MB/s\u001b[0m eta \u001b[36m0:00:00\u001b[0m\n",
      "\u001b[?25hInstalling collected packages: transformers\n",
      "\u001b[33m  WARNING: The script transformers-cli is installed in '/home/nvanhooijd/.local/bin' which is not on PATH.\n",
      "  Consider adding this directory to PATH or, if you prefer to suppress this warning, use --no-warn-script-location.\u001b[0m\u001b[33m\n",
      "\u001b[0mSuccessfully installed transformers-4.49.0\n",
      "Name: transformers\n",
      "Version: 4.49.0\n",
      "Summary: State-of-the-art Machine Learning for JAX, PyTorch and TensorFlow\n",
      "Home-page: https://github.com/huggingface/transformers\n",
      "Author: The Hugging Face team (past and future) with the help of all our contributors (https://github.com/huggingface/transformers/graphs/contributors)\n",
      "Author-email: transformers@huggingface.co\n",
      "License: Apache 2.0 License\n",
      "Location: /home/nvanhooijd/.local/lib/python3.10/site-packages\n",
      "Requires: filelock, huggingface-hub, numpy, packaging, pyyaml, regex, requests, safetensors, tokenizers, tqdm\n",
      "Required-by: \n"
     ]
    }
   ],
   "source": [
    "!pip install --upgrade transformers\n",
    "!pip show transformers \n",
    "#needs to be at least version 4.26.0+ to include VideoMAE, so we check with !pip show"
   ]
  },
  {
   "cell_type": "code",
   "execution_count": 28,
   "id": "fae82d60-0b57-46ad-8450-67e30ce19e9d",
   "metadata": {},
   "outputs": [],
   "source": [
    "import transformers\n",
    "from transformers import VideoMAEImageProcessor, VideoMAEForVideoClassification, VideoMAEForPreTraining"
   ]
  },
  {
   "cell_type": "code",
   "execution_count": 2,
   "id": "56328c80-f09a-4eff-87a1-3f9dbcfda28d",
   "metadata": {},
   "outputs": [],
   "source": [
    "import os\n",
    "import shutil\n",
    "import pandas as pd\n",
    "import numpy as np\n",
    "from numpy import asarray\n",
    "import cv2 as cv\n",
    "import re\n",
    "import math\n",
    "from subprocess import check_call, PIPE, Popen\n",
    "import shlex\n",
    "import torch\n",
    "import torchvision\n",
    "import torchvision.transforms as transforms\n",
    "from PIL import Image\n",
    "from torchvision import models\n",
    "from torch import nn\n",
    "import torcheval\n",
    "from torcheval.metrics.functional import multiclass_auprc\n",
    "from torch.utils.data import Dataset, DataLoader, Subset\n",
    "import glob\n",
    "import random\n",
    "from torchvision.transforms.functional import to_pil_image\n",
    "import matplotlib.pylab as plt"
   ]
  },
  {
   "cell_type": "markdown",
   "id": "667241d0-b35e-4c38-9f7b-bf407a545f07",
   "metadata": {},
   "source": [
    "## 1 Load Data"
   ]
  },
  {
   "cell_type": "code",
   "execution_count": 3,
   "id": "b78b44e5-150e-4613-a765-aa19a612ade5",
   "metadata": {},
   "outputs": [
    {
     "name": "stdout",
     "output_type": "stream",
     "text": [
      "100531 100531\n"
     ]
    }
   ],
   "source": [
    "gloss_path = 'data/noor2/CorpusNGT/gloss_split_8frames'\n",
    "\n",
    "def preprocess_datasubset():\n",
    "    split_ids = []\n",
    "    split_labels = []\n",
    "\n",
    "    with os.scandir(gloss_path) as gloss_folders:\n",
    "        for gloss_entry in gloss_folders:\n",
    "            if gloss_entry.is_dir():  # Ensure it's a directory\n",
    "                gloss_label = gloss_entry.name  # Extract gloss label\n",
    "                \n",
    "                with os.scandir(gloss_entry.path) as instance_folders:\n",
    "                    for instance_entry in instance_folders:\n",
    "                        if instance_entry.is_dir():  # Ensure it's a directory\n",
    "                            split_ids.append(instance_entry.path)  # Store full path\n",
    "                            split_labels.append(gloss_label)  # Store gloss label\n",
    "\n",
    "    print(len(split_ids), len(split_labels))\n",
    "    return split_ids, split_labels\n",
    "\n",
    "split_ids, split_labels = preprocess_datasubset()"
   ]
  },
  {
   "cell_type": "code",
   "execution_count": 4,
   "id": "bb347054-597e-4922-bdfd-45310436aec3",
   "metadata": {},
   "outputs": [
    {
     "name": "stdout",
     "output_type": "stream",
     "text": [
      "['0-A' '0-B' '0-C' ... 'ZWETEN-A' 'ZWETEN-B' 'ZWITSERLAND']\n"
     ]
    }
   ],
   "source": [
    "catgs = np.unique(split_labels)\n",
    "print(catgs)\n",
    "num_classes = len(catgs)\n",
    "labels_dict = {}\n",
    "ind = 0\n",
    "for uc in catgs:\n",
    "    labels_dict[uc] = ind\n",
    "    ind+=1"
   ]
  },
  {
   "cell_type": "markdown",
   "id": "1e8b4158-2621-4537-b6c6-6bab2b9e9946",
   "metadata": {},
   "source": [
    "### 2 Datasets and Transforms"
   ]
  },
  {
   "cell_type": "code",
   "execution_count": 5,
   "id": "fd09982b-0eec-439c-8daf-e662d78dc16e",
   "metadata": {},
   "outputs": [
    {
     "data": {
      "text/plain": [
       "<torch._C.Generator at 0x7ff16cbe41f0>"
      ]
     },
     "execution_count": 5,
     "metadata": {},
     "output_type": "execute_result"
    }
   ],
   "source": [
    "np.random.seed(2024)\n",
    "random.seed(2024)\n",
    "torch.manual_seed(2024)"
   ]
  },
  {
   "cell_type": "code",
   "execution_count": 6,
   "id": "6089460a-1dfb-4eff-864e-c04585878fce",
   "metadata": {},
   "outputs": [],
   "source": [
    "# Choose some of the data transform values\n",
    "\n",
    "timesteps = 8\n",
    "\n",
    "data_aug = False\n",
    "batch_size = 32\n",
    "\n",
    "h, w =224, 224\n",
    "mean = [0.485, 0.456, 0.406]\n",
    "std = [0.229, 0.224, 0.225]\n",
    "# h, w = 270, 270\n",
    "# mean = [0.43216, 0.394666, 0.37645]\n",
    "# std = [0.22803, 0.22145, 0.216989]"
   ]
  },
  {
   "cell_type": "code",
   "execution_count": 7,
   "id": "a4afd9e7-057c-4b44-9b5c-a33c0d099e99",
   "metadata": {},
   "outputs": [],
   "source": [
    "class VideoDataset(Dataset):\n",
    "    def __init__(self, ids, labels, transform):\n",
    "        self.transform = transform\n",
    "        self.ids = ids\n",
    "        self.labels = labels\n",
    "    def __len__(self):\n",
    "        return len(self.ids)\n",
    "    def __getitem__(self, idx):\n",
    "        path2imgs=glob.glob(self.ids[idx]+\"/*.jpg\")\n",
    "        path2imgs = path2imgs[:timesteps]\n",
    "        label = labels_dict[self.labels[idx]]\n",
    "        frames = []\n",
    "        for p2i in path2imgs:\n",
    "            frame = Image.open(p2i)\n",
    "            frames.append(frame)\n",
    "\n",
    "        seed = np.random.randint(1e9)\n",
    "        frames_tr = []\n",
    "        for frame in frames:\n",
    "            random.seed(seed)\n",
    "            np.random.seed(seed)\n",
    "            frame = self.transform(frame)\n",
    "            frames_tr.append(frame)\n",
    "        if len(frames_tr)>0:\n",
    "            frames_tr = torch.stack(frames_tr)\n",
    "        return frames_tr, label"
   ]
  },
  {
   "cell_type": "code",
   "execution_count": 8,
   "id": "74b3644d-bc6f-4de3-8954-c0ccc373e4b1",
   "metadata": {},
   "outputs": [],
   "source": [
    "# define helper functions\n",
    "\n",
    "def transform_frames(frames):\n",
    "    test_transformer = transforms.Compose([\n",
    "                transforms.Resize((h,w)),\n",
    "                transforms.ToTensor(),\n",
    "                transforms.Normalize(mean, std)])\n",
    "\n",
    "    frames_tr = []\n",
    "    for frame in frames:\n",
    "        frame = Image.fromarray(frame)\n",
    "        frame_tr = test_transformer(frame)\n",
    "        frames_tr.append(frame_tr)\n",
    "    imgs_tensor = torch.stack(frames_tr)\n",
    "\n",
    "        # imgs_tensor = torch.transpose(imgs_tensor, 1, 0)\n",
    "    imgs_tensor = imgs_tensor.unsqueeze(0)\n",
    "    return imgs_tensor\n",
    "\n",
    "\n",
    "def denormalize(x_, mean, std):\n",
    "    x = x_.clone()\n",
    "    for i in range(3):\n",
    "        x[i] = x[i]*std[i]+mean[i]\n",
    "    x = to_pil_image(x)\n",
    "    return x"
   ]
  },
  {
   "cell_type": "code",
   "execution_count": 9,
   "id": "a00bed5a-1959-4a51-9545-06489e7b9470",
   "metadata": {},
   "outputs": [
    {
     "name": "stdout",
     "output_type": "stream",
     "text": [
      "100531\n",
      "<__main__.VideoDataset object at 0x7ff14f8bd9d0>\n"
     ]
    }
   ],
   "source": [
    "train_transformer = transforms.Compose([\n",
    "            transforms.Resize((h,w)),\n",
    "            transforms.RandomHorizontalFlip(p=0.5),\n",
    "            transforms.RandomAffine(degrees=0, translate=(0.1,0.1)),\n",
    "            transforms.ToTensor(),\n",
    "            transforms.Normalize(mean, std),\n",
    "            ])\n",
    "\n",
    "\n",
    "all_ds = VideoDataset(ids= split_ids, labels= split_labels, transform= train_transformer)\n",
    "print(len(all_ds))\n",
    "print(all_ds)"
   ]
  },
  {
   "cell_type": "code",
   "execution_count": 10,
   "id": "2620ae21-5188-45e6-9281-9d32566213b6",
   "metadata": {},
   "outputs": [
    {
     "data": {
      "image/png": "[encoded data removed]",
      "text/plain": [
       "<Figure size 1200x1200 with 8 Axes>"
      ]
     },
     "metadata": {},
     "output_type": "display_data"
    }
   ],
   "source": [
    "%matplotlib inline\n",
    "\n",
    "# inspect\n",
    "imgs, label = all_ds[10]\n",
    "imgs.shape, label, torch.min(imgs), torch.max(imgs)\n",
    "\n",
    "## For image condition, not keypoints\n",
    "plt.figure(figsize=(12,12))\n",
    "for ii,img in enumerate(imgs[::1]):\n",
    "    plt.subplot(2,9,ii+1)\n",
    "    plt.imshow(denormalize(img, mean, std))\n",
    "    plt.title(label)"
   ]
  },
  {
   "cell_type": "markdown",
   "id": "24c9ba51-9422-4a00-aac8-3b80ffe62938",
   "metadata": {},
   "source": [
    "### 3 Dataloader"
   ]
  },
  {
   "cell_type": "code",
   "execution_count": 11,
   "id": "46ae26b4-8254-4916-8a0f-47f0f3e65056",
   "metadata": {},
   "outputs": [
    {
     "name": "stdout",
     "output_type": "stream",
     "text": [
      "cuda\n"
     ]
    }
   ],
   "source": [
    "device = torch.device(\"cuda\" if torch.cuda.is_available() else \"cpu\")\n",
    "print(device)"
   ]
  },
  {
   "cell_type": "code",
   "execution_count": 12,
   "id": "1c4a409b-cfde-4930-8a51-5237881b20e8",
   "metadata": {},
   "outputs": [
    {
     "name": "stdout",
     "output_type": "stream",
     "text": [
      "True\n"
     ]
    }
   ],
   "source": [
    "print(torch.cuda.is_available())\n"
   ]
  },
  {
   "cell_type": "raw",
   "id": "45696c95-67fd-4240-95b9-ffd720a7e809",
   "metadata": {},
   "source": [
    "!pip3 install torch torchvision torchaudio --index-url https://download.pytorch.org/whl/cu126"
   ]
  },
  {
   "cell_type": "code",
   "execution_count": 13,
   "id": "6a4ca9e9-91a7-47b5-8666-b7e97427db17",
   "metadata": {},
   "outputs": [
    {
     "name": "stdout",
     "output_type": "stream",
     "text": [
      "torch.Size([32, 3, 8, 224, 224]) torch.Size([32])\n"
     ]
    }
   ],
   "source": [
    "def collate_fn(batch):\n",
    "    imgs_batch, label_batch = list(zip(*batch))\n",
    "    imgs_batch = [imgs for imgs in imgs_batch if len(imgs)>0]\n",
    "    label_batch = [torch.tensor(l) for l, imgs in zip(label_batch, imgs_batch) if len(imgs)>0]\n",
    "    imgs_tensor = torch.stack(imgs_batch)\n",
    "    imgs_tensor = torch.transpose(imgs_tensor, 2, 1)\n",
    "    labels_tensor = torch.stack(label_batch)\n",
    "    return imgs_tensor,labels_tensor\n",
    "\n",
    "# Collate function\n",
    "def collate_fn2(batch):\n",
    "    imgs_batch, label_batch = list(zip(*batch))\n",
    "    imgs_batch = [imgs for imgs in imgs_batch if len(imgs) > 0]\n",
    "    label_batch = [torch.tensor(l) for l, imgs in zip(label_batch, imgs_batch) if len(imgs) > 0]\n",
    "    imgs_tensor = torch.stack(imgs_batch).to(device)  # Move tensors to GPU if available\n",
    "    imgs_tensor = torch.transpose(imgs_tensor, 2, 1)\n",
    "    labels_tensor = torch.stack(label_batch).to(device)\n",
    "    return imgs_tensor, labels_tensor\n",
    "\n",
    "all_dl = DataLoader(all_ds, batch_size= batch_size,\n",
    "                      shuffle=True, collate_fn= collate_fn2)\n",
    "\n",
    "for xb,yb in all_dl:\n",
    "    print(xb.shape, yb.shape)\n",
    "    break"
   ]
  },
  {
   "cell_type": "markdown",
   "id": "96b5bcd6-0a75-4f56-bd2f-3e46f3f5611c",
   "metadata": {},
   "source": [
    "### Testrun"
   ]
  },
  {
   "cell_type": "code",
   "execution_count": 37,
   "id": "509119a2-aebb-4502-9f73-558fe3a60473",
   "metadata": {
    "scrolled": true
   },
   "outputs": [
    {
     "name": "stdout",
     "output_type": "stream",
     "text": [
      "tensor([[[ 0.0320,  0.0724,  0.0790,  ...,  0.3149,  0.1251,  0.1961],\n",
      "         [-0.0093, -0.0122, -0.2366,  ..., -0.1335,  0.0277,  0.1079],\n",
      "         [-0.0201, -0.0530,  0.0005,  ..., -0.2188, -0.0768, -0.1374],\n",
      "         ...,\n",
      "         [-0.3197,  0.1633,  0.1287,  ...,  0.2856,  0.1056, -0.0017],\n",
      "         [ 0.1593, -0.1954, -0.1797,  ...,  0.0560,  0.0373,  0.0639],\n",
      "         [-0.0472,  0.2162,  0.0513,  ..., -0.4557, -0.2069, -0.0529]]],\n",
      "       grad_fn=<ViewBackward0>)\n"
     ]
    }
   ],
   "source": [
    "num_frames = 16\n",
    "video = list(np.random.uniform(0.0, 1,(16, 3, 224, 224)))\n",
    "\n",
    "processor = VideoMAEImageProcessor.from_pretrained(\"MCG-NJU/videomae-base\")\n",
    "model = VideoMAEForPreTraining.from_pretrained(\"MCG-NJU/videomae-base\")\n",
    "\n",
    "pixel_values = processor(video, return_tensors=\"pt\").pixel_values\n",
    "\n",
    "num_patches_per_frame = (model.config.image_size // model.config.patch_size) ** 2\n",
    "seq_length = (num_frames // model.config.tubelet_size) * num_patches_per_frame\n",
    "bool_masked_pos = torch.randint(0, 2, (1, seq_length)).bool()\n",
    "\n",
    "outputs = model(pixel_values, bool_masked_pos=bool_masked_pos)\n",
    "features = outputs.logits\n",
    "print(features)"
   ]
  },
  {
   "cell_type": "code",
   "execution_count": 38,
   "id": "6ed5639c-cf46-477a-bbc3-fa948909a645",
   "metadata": {
    "scrolled": true
   },
   "outputs": [
    {
     "name": "stdout",
     "output_type": "stream",
     "text": [
      "Predicted class: dancing ballet\n",
      "\n",
      "tensor([[ 0.1136,  0.9234, -0.2557, -0.7710, -0.6061,  0.5372,  0.5820, -0.8431,\n",
      "         -0.5542, -1.0932,  0.0470, -0.0030, -0.2336, -0.5399,  0.2307, -0.5674,\n",
      "          0.5955, -0.7999,  0.6993,  0.3872, -0.0918, -0.8024,  0.2212, -0.6779,\n",
      "          0.0509, -0.4848, -0.2093,  0.4684, -0.3761, -0.1872, -0.3976,  0.4219,\n",
      "         -0.1680, -0.8188,  0.1440, -0.6344,  0.1202,  0.1261, -0.7865, -0.8387,\n",
      "          0.3728, -0.3066,  0.1204,  0.3597, -0.1570, -0.2654, -0.2105, -0.4662,\n",
      "          0.5040,  0.5988,  0.0444, -0.4125, -0.2122, -0.6088, -0.3176,  0.2636,\n",
      "          0.2334, -0.6386, -0.7939,  0.3077, -0.2017, -0.6013, -0.9748, -0.1898,\n",
      "         -0.7858, -0.3010, -0.9193, -0.1774,  0.4157,  0.7489,  0.0197, -0.5820,\n",
      "         -0.9481, -0.7397, -0.2167,  0.0513, -0.1606,  0.5137,  0.1323,  0.4607,\n",
      "          0.1488, -0.4348, -0.4175, -0.1540,  1.2531, -0.2059,  0.2087,  0.2126,\n",
      "          0.1889, -0.5819, -0.7496, -0.1720, -0.3562,  0.2845, -0.2322, -0.9084,\n",
      "         -0.8783,  0.1123, -0.2448,  0.0231, -0.4730, -0.2612, -0.6578,  0.0736,\n",
      "         -0.2554, -0.0298, -0.5294,  0.5610,  0.1843,  0.2285, -0.9480, -0.4560,\n",
      "          0.3447, -0.6687, -0.3080,  0.2389,  0.5670, -0.3094, -0.6179, -0.5398,\n",
      "         -0.5562, -0.4164, -0.8884,  0.0963, -0.0093, -0.0096,  0.3477,  0.2313,\n",
      "         -0.1089, -0.2155,  0.3227, -0.0789, -0.1660,  0.1693,  0.5793, -0.5067,\n",
      "         -1.0202, -0.9943, -0.2572, -0.1000,  0.0757, -0.2159,  0.2980,  0.3641,\n",
      "         -0.9222, -0.4993, -0.5050,  0.5215,  0.0785,  0.6918, -0.3323,  0.3944,\n",
      "          0.2127,  0.3969, -0.2699, -0.7633, -0.1506, -0.0174, -0.4994,  0.4875,\n",
      "         -0.6112, -0.2593,  0.2460, -0.1953,  0.5728, -0.8989, -0.1450,  0.1692,\n",
      "         -0.3680,  0.2611,  0.1644, -0.6722,  0.3228, -0.1818,  0.2901,  0.1486,\n",
      "         -0.3656, -0.1017, -0.1112, -0.2860,  0.0547, -1.1613, -0.3087,  0.3377,\n",
      "         -1.0370, -0.6108, -0.3149, -0.2603,  0.2490, -0.3179, -0.8635, -0.8171,\n",
      "          0.1363,  0.2870, -0.4111, -0.5191, -0.3207,  0.2336, -0.3516,  0.3265,\n",
      "         -0.9132,  0.4162, -1.2491, -0.1683,  0.0557, -0.0270,  0.1584, -0.2360,\n",
      "         -0.2460,  0.4785, -0.5486, -0.8261, -0.3854, -0.0647, -0.1815, -0.5068,\n",
      "         -1.3046,  0.1050,  0.0955,  0.0561,  0.4368,  0.5689,  0.2646,  0.3981,\n",
      "          0.0469,  0.3782, -0.5821, -0.3124, -0.2420,  0.3996, -0.0873, -0.6836,\n",
      "          0.4574,  0.4155,  0.5158, -0.0232,  0.1891, -0.5252,  0.0235, -0.1567,\n",
      "          0.2990,  0.2072,  0.2058,  0.5732,  0.3474,  0.2034,  0.0569,  0.4347,\n",
      "          0.4370,  0.7229,  0.2893, -0.2223,  0.0316, -0.1980, -0.2017,  0.6472,\n",
      "          0.4163, -0.5097,  0.9516, -0.9099, -0.1455,  0.4041,  0.2522, -0.1636,\n",
      "          0.6356, -0.8469, -0.4749, -0.5809, -0.2992,  0.2957, -0.2406, -0.4764,\n",
      "         -0.7635,  0.2971,  0.1779,  0.1347,  0.0771,  0.5291,  0.8906, -0.1937,\n",
      "         -0.0830, -0.6350,  0.0802,  0.6280, -0.5347, -0.2596,  0.0310, -0.5385,\n",
      "          0.0933,  0.2188, -0.7467,  0.0682,  0.0474, -0.6537,  0.0984, -0.5908,\n",
      "         -0.3815, -0.2632,  0.1281,  0.1711, -0.5714,  0.5793,  0.1387, -0.3133,\n",
      "          1.0066,  0.0099,  0.0573,  0.1275,  0.3003, -0.4212, -0.8680, -0.7029,\n",
      "         -0.8320,  0.2833, -0.4375, -0.0179,  0.6302,  0.2848,  0.7513, -0.2528,\n",
      "         -0.9114,  0.3512,  0.2176,  0.4430, -0.3191,  0.0712,  1.1236, -0.2441,\n",
      "         -0.7433, -0.6947,  0.6362,  0.1237, -0.7793,  0.1759,  0.1421, -0.7640,\n",
      "          0.0858, -0.1576, -0.3571,  0.1589, -0.3347, -0.3984, -0.4539, -0.5762,\n",
      "         -0.8720, -0.3942,  0.5169, -1.0366,  0.6814,  0.1140,  0.3788, -0.0988,\n",
      "         -0.4972, -0.5471, -0.2350,  0.1833,  0.0813, -0.1536,  0.2826, -0.5707,\n",
      "          0.3809, -0.4726, -0.8211, -0.7025, -0.0753,  0.1698, -0.1698, -0.3796,\n",
      "         -0.6218,  0.3196,  0.0348, -0.0688, -1.0546,  0.1068, -0.2610, -0.9085,\n",
      "         -0.6402, -0.6157,  0.8055,  0.1263, -0.0260, -0.9590,  0.3062, -0.1114,\n",
      "         -0.8487, -0.3630, -0.3878, -0.0648, -0.3118,  0.2055, -0.5272,  0.0018,\n",
      "         -0.4464,  0.2009, -0.0929, -0.5762, -0.3545, -0.7190,  0.5019,  0.2903]])\n",
      "ImageClassifierOutput(loss=None, logits=tensor([[ 0.1136,  0.9234, -0.2557, -0.7710, -0.6061,  0.5372,  0.5820, -0.8431,\n",
      "         -0.5542, -1.0932,  0.0470, -0.0030, -0.2336, -0.5399,  0.2307, -0.5674,\n",
      "          0.5955, -0.7999,  0.6993,  0.3872, -0.0918, -0.8024,  0.2212, -0.6779,\n",
      "          0.0509, -0.4848, -0.2093,  0.4684, -0.3761, -0.1872, -0.3976,  0.4219,\n",
      "         -0.1680, -0.8188,  0.1440, -0.6344,  0.1202,  0.1261, -0.7865, -0.8387,\n",
      "          0.3728, -0.3066,  0.1204,  0.3597, -0.1570, -0.2654, -0.2105, -0.4662,\n",
      "          0.5040,  0.5988,  0.0444, -0.4125, -0.2122, -0.6088, -0.3176,  0.2636,\n",
      "          0.2334, -0.6386, -0.7939,  0.3077, -0.2017, -0.6013, -0.9748, -0.1898,\n",
      "         -0.7858, -0.3010, -0.9193, -0.1774,  0.4157,  0.7489,  0.0197, -0.5820,\n",
      "         -0.9481, -0.7397, -0.2167,  0.0513, -0.1606,  0.5137,  0.1323,  0.4607,\n",
      "          0.1488, -0.4348, -0.4175, -0.1540,  1.2531, -0.2059,  0.2087,  0.2126,\n",
      "          0.1889, -0.5819, -0.7496, -0.1720, -0.3562,  0.2845, -0.2322, -0.9084,\n",
      "         -0.8783,  0.1123, -0.2448,  0.0231, -0.4730, -0.2612, -0.6578,  0.0736,\n",
      "         -0.2554, -0.0298, -0.5294,  0.5610,  0.1843,  0.2285, -0.9480, -0.4560,\n",
      "          0.3447, -0.6687, -0.3080,  0.2389,  0.5670, -0.3094, -0.6179, -0.5398,\n",
      "         -0.5562, -0.4164, -0.8884,  0.0963, -0.0093, -0.0096,  0.3477,  0.2313,\n",
      "         -0.1089, -0.2155,  0.3227, -0.0789, -0.1660,  0.1693,  0.5793, -0.5067,\n",
      "         -1.0202, -0.9943, -0.2572, -0.1000,  0.0757, -0.2159,  0.2980,  0.3641,\n",
      "         -0.9222, -0.4993, -0.5050,  0.5215,  0.0785,  0.6918, -0.3323,  0.3944,\n",
      "          0.2127,  0.3969, -0.2699, -0.7633, -0.1506, -0.0174, -0.4994,  0.4875,\n",
      "         -0.6112, -0.2593,  0.2460, -0.1953,  0.5728, -0.8989, -0.1450,  0.1692,\n",
      "         -0.3680,  0.2611,  0.1644, -0.6722,  0.3228, -0.1818,  0.2901,  0.1486,\n",
      "         -0.3656, -0.1017, -0.1112, -0.2860,  0.0547, -1.1613, -0.3087,  0.3377,\n",
      "         -1.0370, -0.6108, -0.3149, -0.2603,  0.2490, -0.3179, -0.8635, -0.8171,\n",
      "          0.1363,  0.2870, -0.4111, -0.5191, -0.3207,  0.2336, -0.3516,  0.3265,\n",
      "         -0.9132,  0.4162, -1.2491, -0.1683,  0.0557, -0.0270,  0.1584, -0.2360,\n",
      "         -0.2460,  0.4785, -0.5486, -0.8261, -0.3854, -0.0647, -0.1815, -0.5068,\n",
      "         -1.3046,  0.1050,  0.0955,  0.0561,  0.4368,  0.5689,  0.2646,  0.3981,\n",
      "          0.0469,  0.3782, -0.5821, -0.3124, -0.2420,  0.3996, -0.0873, -0.6836,\n",
      "          0.4574,  0.4155,  0.5158, -0.0232,  0.1891, -0.5252,  0.0235, -0.1567,\n",
      "          0.2990,  0.2072,  0.2058,  0.5732,  0.3474,  0.2034,  0.0569,  0.4347,\n",
      "          0.4370,  0.7229,  0.2893, -0.2223,  0.0316, -0.1980, -0.2017,  0.6472,\n",
      "          0.4163, -0.5097,  0.9516, -0.9099, -0.1455,  0.4041,  0.2522, -0.1636,\n",
      "          0.6356, -0.8469, -0.4749, -0.5809, -0.2992,  0.2957, -0.2406, -0.4764,\n",
      "         -0.7635,  0.2971,  0.1779,  0.1347,  0.0771,  0.5291,  0.8906, -0.1937,\n",
      "         -0.0830, -0.6350,  0.0802,  0.6280, -0.5347, -0.2596,  0.0310, -0.5385,\n",
      "          0.0933,  0.2188, -0.7467,  0.0682,  0.0474, -0.6537,  0.0984, -0.5908,\n",
      "         -0.3815, -0.2632,  0.1281,  0.1711, -0.5714,  0.5793,  0.1387, -0.3133,\n",
      "          1.0066,  0.0099,  0.0573,  0.1275,  0.3003, -0.4212, -0.8680, -0.7029,\n",
      "         -0.8320,  0.2833, -0.4375, -0.0179,  0.6302,  0.2848,  0.7513, -0.2528,\n",
      "         -0.9114,  0.3512,  0.2176,  0.4430, -0.3191,  0.0712,  1.1236, -0.2441,\n",
      "         -0.7433, -0.6947,  0.6362,  0.1237, -0.7793,  0.1759,  0.1421, -0.7640,\n",
      "          0.0858, -0.1576, -0.3571,  0.1589, -0.3347, -0.3984, -0.4539, -0.5762,\n",
      "         -0.8720, -0.3942,  0.5169, -1.0366,  0.6814,  0.1140,  0.3788, -0.0988,\n",
      "         -0.4972, -0.5471, -0.2350,  0.1833,  0.0813, -0.1536,  0.2826, -0.5707,\n",
      "          0.3809, -0.4726, -0.8211, -0.7025, -0.0753,  0.1698, -0.1698, -0.3796,\n",
      "         -0.6218,  0.3196,  0.0348, -0.0688, -1.0546,  0.1068, -0.2610, -0.9085,\n",
      "         -0.6402, -0.6157,  0.8055,  0.1263, -0.0260, -0.9590,  0.3062, -0.1114,\n",
      "         -0.8487, -0.3630, -0.3878, -0.0648, -0.3118,  0.2055, -0.5272,  0.0018,\n",
      "         -0.4464,  0.2009, -0.0929, -0.5762, -0.3545, -0.7190,  0.5019,  0.2903]]), hidden_states=None, attentions=None)\n"
     ]
    }
   ],
   "source": [
    "## Here a we implement the VideoMAE network from the model page and test it on one random video and it works!\n",
    "\n",
    "\"\"\"\n",
    "Implementation of the VIDEOMAE model finetuned on the kinetics dataset from https://huggingface.co/MCG-NJU/videomae-base-finetuned-kinetics\n",
    "\"\"\"\n",
    "\n",
    "video = list(np.random.rand(16, 3, 224, 224))  ## this video would be 16 frames with 3 channels and 224 by 224 height and width\n",
    "\n",
    "processor = VideoMAEImageProcessor.from_pretrained(\"MCG-NJU/videomae-base-finetuned-kinetics\")\n",
    "model = VideoMAEForVideoClassification.from_pretrained(\"MCG-NJU/videomae-base-finetuned-kinetics\")\n",
    "\n",
    "inputs = processor(video, return_tensors=\"pt\")\n",
    "\n",
    "with torch.no_grad():\n",
    "  outputs = model(**inputs)\n",
    "  logits = outputs.logits\n",
    "\n",
    "predicted_class_idx = logits.argmax(-1).item()\n",
    "print(\"Predicted class:\", model.config.id2label[predicted_class_idx])\n",
    "print()\n",
    "print(logits)\n",
    "print(outputs)"
   ]
  },
  {
   "cell_type": "markdown",
   "id": "e75b6f20-3383-4c01-a1d0-2fe3b3fafd2c",
   "metadata": {},
   "source": [
    "### Run for all videos"
   ]
  },
  {
   "cell_type": "code",
   "execution_count": 56,
   "id": "b32e0735-55d8-4a24-adbf-553e63094d33",
   "metadata": {
    "scrolled": true
   },
   "outputs": [],
   "source": [
    "import os\n",
    "import torch\n",
    "from PIL import Image\n",
    "from transformers import VideoMAEImageProcessor, VideoMAEForVideoClassification\n",
    "from tqdm import tqdm\n",
    "\n",
    "# Function to load frames from a directory\n",
    "def load_video_from_directory(video_dir, target_size=(224, 224)):\n",
    "    frames = []\n",
    "    \n",
    "    # List all image files in the directory and sort them (assuming frame names are in order)\n",
    "    frame_files = sorted(os.listdir(video_dir))\n",
    "    \n",
    "    for frame_file in frame_files:\n",
    "        if frame_file.endswith(('.jpg', '.png', '.jpeg')):  # Process image files\n",
    "            frame_path = os.path.join(video_dir, frame_file)\n",
    "            frame = Image.open(frame_path).convert(\"RGB\")  # Open as RGB image\n",
    "            frame = frame.resize(target_size)  # Resize to target size (224x224)\n",
    "            frames.append(frame)\n",
    "            frames.append(frame)\n",
    "            \n",
    "    return frames\n",
    "\n",
    "# Initialize VideoMAE processor and model\n",
    "processor = VideoMAEImageProcessor.from_pretrained(\"MCG-NJU/videomae-base-finetuned-kinetics\")\n",
    "model = VideoMAEForVideoClassification.from_pretrained(\"MCG-NJU/videomae-base-finetuned-kinetics\")\n",
    "device = torch.device(\"cuda\" if torch.cuda.is_available() else \"cpu\")\n",
    "model.to(device)  # Move model to GPU if available\n",
    "model.eval()  # Set the model to evaluation mode to ensure consistent model behavior\n",
    "\n",
    "# Path to the parent directory containing multiple video frame folders\n",
    "parent_dir = \"data/noor2/CorpusNGT/gloss_split_8frames\"  # Replace with your actual path\n"
   ]
  },
  {
   "cell_type": "markdown",
   "id": "7a24d8ac-41e9-424f-974f-60d540c79c80",
   "metadata": {},
   "source": [
    "# Remove all and start over\n",
    "\n",
    "for gloss_name in tqdm(sorted(os.listdir(parent_dir))):\n",
    "    gloss_dir = os.path.join(parent_dir, gloss_name)\n",
    "    for video_name in sorted(os.listdir(gloss_dir)):\n",
    "        video_dir = os.path.join(gloss_dir, video_name)\n",
    "        \n",
    "        if os.path.isdir(video_dir):  # Ensure it's a directory\n",
    "\n",
    "            save_path = f\"{parent_dir}/{gloss_name}/{video_name}/VideoMAE_Features.pt\"\n",
    "            os.remove(save_path) "
   ]
  },
  {
   "cell_type": "code",
   "execution_count": 64,
   "id": "b704f9b4-00fc-47a7-90f0-c0b1bc4304d5",
   "metadata": {
    "scrolled": true
   },
   "outputs": [
    {
     "name": "stderr",
     "output_type": "stream",
     "text": [
      "100%|██████████| 3780/3780 [2:21:12<00:00,  2.24s/it]    \n"
     ]
    }
   ],
   "source": [
    "# Iterate over each subdirectory (each representing a video)\n",
    "for gloss_name in tqdm(sorted(os.listdir(parent_dir))):\n",
    "    gloss_dir = os.path.join(parent_dir, gloss_name)\n",
    "    for video_name in sorted(os.listdir(gloss_dir)):\n",
    "        video_dir = os.path.join(gloss_dir, video_name)\n",
    "        \n",
    "        if os.path.isdir(video_dir):  # Ensure it's a directory\n",
    "            #print(f\"Processing video: {video_name}\")\n",
    "            video_frames = load_video_from_directory(video_dir)\n",
    "            \n",
    "            if not video_frames:\n",
    "                print(f\"Skipping {video_name} (no valid frames found).\")\n",
    "                continue\n",
    "            \n",
    "            inputs = processor(video_frames, return_tensors=\"pt\").to(device)\n",
    "            with torch.no_grad():\n",
    "                outputs = model(**inputs)\n",
    "                logits = outputs.logits\n",
    "    \n",
    "            #predicted_class_idx = logits.argmax(-1).item()\n",
    "            #print(f\"Predicted class for {video_name}: {model.config.id2label[predicted_class_idx]}\")\n",
    "\n",
    "            # Save features\n",
    "            logits = logits.half().squeeze()\n",
    "            save_path = f\"{parent_dir}/{gloss_name}/{video_name}/VideoMAE_Features.npz\"\n",
    "\n",
    "            feature_array = logits.cpu().numpy()  # Convert to NumPy\n",
    "            np.savez_compressed(save_path, features=feature_array)\n",
    "            \n",
    "            #torch.save(features_half.cpu().squeeze(), save_path, _use_new_zipfile_serialization=True)\n",
    "            #print(f\"Features saved for {video_name} at {save_path}\")"
   ]
  },
  {
   "cell_type": "code",
   "execution_count": 65,
   "id": "d96b0f86-20c0-480f-9780-6256621dd2b8",
   "metadata": {
    "scrolled": true
   },
   "outputs": [
    {
     "name": "stdout",
     "output_type": "stream",
     "text": [
      "tensor([ 1.8616e-01, -5.2734e-01,  7.1240e-01, -1.6357e+00,  7.9541e-01,\n",
      "         5.1367e-01,  1.2158e+00,  1.2393e+00,  1.9373e-01, -5.1514e-01,\n",
      "        -1.6689e+00,  1.5552e-01,  2.1797e+00,  7.3828e-01,  4.5557e-01,\n",
      "        -1.0974e-01, -2.4451e-01, -1.4326e+00,  5.1611e-01,  3.1006e-01,\n",
      "        -1.2031e+00,  3.9727e+00,  8.6914e-01,  3.9990e-01,  1.1514e+00,\n",
      "        -1.0361e+00, -2.8345e-01,  1.0352e-01, -4.4482e-01, -6.0986e-01,\n",
      "        -9.1553e-01,  1.5762e+00, -5.2490e-01, -7.3535e-01,  3.2739e-01,\n",
      "        -4.6680e-01, -9.7070e-01,  3.6348e+00, -7.6025e-01, -1.4082e+00,\n",
      "         6.2500e-02, -5.7861e-01,  7.1631e-01,  4.3311e-01, -1.3984e+00,\n",
      "         4.8340e-01,  9.2102e-02, -5.5225e-01,  7.7100e-01,  2.5000e-01,\n",
      "         2.5195e-01, -1.9788e-01,  6.5918e-02,  3.0762e-01, -2.1777e-01,\n",
      "        -1.3306e-01,  1.6174e-01, -5.8643e-01, -1.0361e+00, -3.0957e-01,\n",
      "         3.7378e-01, -9.7534e-02, -1.5742e+00,  5.2002e-01, -8.5571e-02,\n",
      "        -9.2236e-01, -8.0762e-01,  2.2461e-01,  3.2153e-01,  2.1582e+00,\n",
      "         4.0503e-01, -1.3428e+00, -1.1562e+00, -2.5391e-01, -6.3428e-01,\n",
      "         1.5796e-01,  1.5488e+00,  2.7771e-02,  1.1102e-01,  3.1641e-01,\n",
      "        -1.5137e+00, -5.6494e-01, -3.5034e-01,  6.4941e-01, -7.2168e-01,\n",
      "        -1.5100e-01, -1.3652e+00, -1.1426e+00,  2.6733e-01, -5.3760e-01,\n",
      "        -7.0312e-01,  2.8711e-01, -1.1670e+00,  2.3486e-01, -5.2539e-01,\n",
      "        -1.2988e+00, -9.2432e-01,  6.5039e-01, -1.5605e+00, -2.5040e-02,\n",
      "        -4.5654e-01,  7.6416e-01, -1.6514e+00,  6.5283e-01,  5.7129e-01,\n",
      "         4.2419e-02, -2.4414e+00,  1.8726e-01,  1.9446e-01,  1.5322e+00,\n",
      "         4.8975e-01, -1.9746e+00,  4.2358e-01,  1.0537e+00,  1.0635e+00,\n",
      "         1.8447e+00,  1.9258e+00,  1.4912e+00, -4.2700e-01, -6.6406e-01,\n",
      "        -2.6758e-01, -7.7698e-02, -1.2457e-01, -5.8868e-02, -2.8540e-01,\n",
      "        -5.9668e-01, -2.6147e-01,  3.3828e+00, -3.1860e-01, -7.7783e-01,\n",
      "         4.2798e-01, -1.1572e+00, -2.4283e-04,  5.4639e-01, -5.5371e-01,\n",
      "        -3.8867e-01, -1.8774e-01, -1.1387e+00, -8.7988e-01, -4.0161e-01,\n",
      "         1.9690e-01, -6.3281e-01, -6.2744e-02,  6.9580e-02, -2.3926e-01,\n",
      "         9.0771e-01, -4.4971e-01,  3.9160e-01, -3.1860e-01, -6.1133e-01,\n",
      "        -3.1274e-01, -2.8442e-01, -8.9844e-01, -2.9565e-01, -3.0298e-01,\n",
      "        -6.2500e-02, -1.0283e+00, -3.9771e-01, -6.9336e-01,  2.1655e-01,\n",
      "         6.7688e-02, -7.9529e-02, -6.6211e-01,  5.3223e-01,  1.5735e-01,\n",
      "        -5.8154e-01,  3.0688e-01,  6.9287e-01, -2.0059e+00,  4.5898e-01,\n",
      "        -1.4082e+00, -9.5764e-02,  1.0088e+00, -6.9885e-02, -8.3545e-01,\n",
      "        -8.9453e-01, -1.0068e+00,  1.8335e-01,  8.8525e-01, -8.3203e-01,\n",
      "        -8.3643e-01, -5.0293e-01, -9.8896e-04,  1.1084e-01, -6.3281e-01,\n",
      "        -5.0537e-01, -7.2314e-01,  3.5938e-01,  3.5474e-01, -5.6839e-03,\n",
      "        -2.4829e-01,  8.4521e-01,  5.5078e-01,  6.2305e-01, -1.5186e+00,\n",
      "        -2.4597e-01, -2.1619e-01,  6.4697e-01, -1.0234e+00,  6.1621e-01,\n",
      "        -9.1748e-01,  7.7332e-02, -1.5454e-01,  5.2295e-01, -4.3433e-01,\n",
      "        -4.8340e-01, -2.2156e-01, -2.3254e-02, -1.2471e+00,  5.0684e-01,\n",
      "         1.7920e-01, -7.4170e-01, -3.3594e-01, -5.9863e-01, -1.9995e-01,\n",
      "         1.2396e-01, -1.1670e+00,  7.3975e-01,  6.1670e-01, -3.8721e-01,\n",
      "        -4.2847e-01,  5.2930e-01, -9.5361e-01, -5.1270e-02, -4.4189e-01,\n",
      "        -8.2861e-01, -1.0166e+00,  3.5522e-01,  1.0566e+00,  4.3628e-01,\n",
      "        -1.5791e+00, -1.8662e+00,  3.9648e-01,  1.7969e+00,  1.0713e+00,\n",
      "        -2.9175e-01, -1.3223e+00, -8.4473e-01, -1.4922e+00, -1.3428e+00,\n",
      "         1.6296e-01, -1.4727e+00, -8.8501e-02,  6.4844e-01, -5.2979e-01,\n",
      "        -8.7207e-01,  6.0156e-01,  6.5137e-01, -6.2256e-02, -2.9688e-01,\n",
      "        -1.6003e-01, -3.1885e-01,  4.6655e-01,  7.3364e-02, -2.8809e-01,\n",
      "         9.4141e-01, -3.8159e-01, -4.7363e-01,  4.4653e-01,  1.1787e+00,\n",
      "        -7.1924e-01,  1.9775e-01,  9.2090e-01, -6.1523e-01,  1.0938e+00,\n",
      "        -2.1621e+00, -1.5747e-02,  8.0566e-01,  7.0654e-01,  6.3049e-02,\n",
      "         5.9387e-02, -8.0127e-01, -8.2373e-01, -1.5625e-01, -4.3359e-01,\n",
      "         5.5469e-01, -1.7793e+00, -3.4155e-01,  7.9053e-01, -1.6719e+00,\n",
      "        -1.3896e+00, -1.4219e+00,  1.8994e-01, -5.5206e-02,  3.2886e-01,\n",
      "        -7.5195e-01, -3.2422e-01, -8.2812e-01, -1.8389e+00, -1.0020e+00,\n",
      "        -2.6196e-01,  9.7119e-01,  3.7109e-01, -5.2393e-01,  2.6343e-01,\n",
      "         7.1533e-01, -5.3564e-01, -1.1523e+00, -7.1973e-01, -1.8445e-01,\n",
      "        -1.4521e+00, -1.0083e-01, -4.2920e-01,  3.0293e+00,  1.1543e+00,\n",
      "        -7.9492e-01,  8.9990e-01,  3.0151e-01,  5.3027e-01, -7.2119e-01,\n",
      "         1.8323e-01, -1.3359e+00, -1.3994e+00, -7.2705e-01, -8.0664e-01,\n",
      "        -3.2104e-01,  3.5508e+00, -4.7632e-01,  1.2808e-03, -9.2432e-01,\n",
      "         1.7793e+00, -4.2358e-01,  5.6915e-02, -8.9941e-01, -6.1475e-01,\n",
      "        -5.5469e-01,  2.9321e-01,  1.7749e-01, -1.4062e+00, -1.4424e+00,\n",
      "        -2.3535e-01,  6.1182e-01,  3.4131e-01,  5.5322e-01,  1.4319e-01,\n",
      "        -3.2935e-01, -3.3630e-02, -5.0934e-02,  1.5686e-01,  3.3008e-01,\n",
      "        -2.4426e-01, -3.1689e-01, -6.2256e-01, -1.6924e+00,  1.3818e-01,\n",
      "        -2.1855e+00,  4.0552e-01, -6.9238e-01, -1.1699e+00, -4.9438e-01,\n",
      "         5.2441e-01, -8.5303e-01, -7.0068e-01,  5.3613e-01, -6.7041e-01,\n",
      "         6.7215e-03, -2.0667e-01, -7.1143e-01, -7.1631e-01, -7.5244e-01,\n",
      "         7.7734e-01, -5.0830e-01,  8.4900e-02, -8.3984e-01, -9.9414e-01,\n",
      "         2.3652e+00,  9.8096e-01, -8.9990e-01,  8.8721e-01,  3.2559e+00,\n",
      "         5.8716e-02, -7.3389e-01,  1.0039e+00, -2.5781e-01, -9.8291e-01,\n",
      "        -8.2422e-01,  3.6499e-01, -5.4248e-01, -1.1871e-01,  8.7549e-01,\n",
      "         1.4526e-01, -6.9824e-01,  2.5537e-01,  3.9502e-01, -2.1411e-01,\n",
      "        -3.6316e-02, -7.0264e-01, -5.6496e-03, -9.8584e-01,  1.8750e-01,\n",
      "         6.3281e-01,  9.1797e-01,  2.8672e+00,  1.8811e-01,  4.1821e-01,\n",
      "        -9.3945e-01, -8.6328e-01,  4.3262e-01,  5.2344e-01, -4.1333e-01],\n",
      "       dtype=torch.float16)\n",
      "torch.Size([400])\n"
     ]
    }
   ],
   "source": [
    "## Test that the features saved properly\n",
    "\n",
    "#loaded_features = torch.load(f\"{parent_dir}/0-A/0/VideoMAE_Features.pt\")\n",
    "\n",
    "loaded_features = np.load(f\"{parent_dir}/0-A/0/VideoMAE_Features.npz\")[\"features\"]\n",
    "loaded_features = torch.tensor(loaded_features)  # Convert back to torch if needed\n",
    "\n",
    "print(loaded_features)\n",
    "print(loaded_features.shape)"
   ]
  },
  {
   "cell_type": "code",
   "execution_count": null,
   "id": "cbf07efc-187a-4e03-8c82-a58dd86cd4b7",
   "metadata": {},
   "outputs": [],
   "source": []
  }
 ],
 "metadata": {
  "kernelspec": {
   "display_name": "my-env-kernel",
   "language": "python",
   "name": "my-env"
  },
  "language_info": {
   "codemirror_mode": {
    "name": "ipython",
    "version": 3
   },
   "file_extension": ".py",
   "mimetype": "text/x-python",
   "name": "python",
   "nbconvert_exporter": "python",
   "pygments_lexer": "ipython3",
   "version": "3.12.9"
  }
 },
 "nbformat": 4,
 "nbformat_minor": 5
}
