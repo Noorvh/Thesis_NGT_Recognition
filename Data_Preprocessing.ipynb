{
 "cells": [
  {
   "cell_type": "markdown",
   "metadata": {
    "id": "4sLGLDPgqWuX"
   },
   "source": [
    "## Load video and gloss data, and prepare for classification\n",
    "\n",
    "1 load the segmented gloss videos\n",
    "\n",
    "2 extract labels for data; get data statistics\n",
    "\n",
    "3 split videos into gloss chunks\n",
    "\n",
    "3.1 turn those gloss chunks into frames and save frames as array\n",
    "\n",
    "4 create sentences dataframe and dataframe of frame arrays"
   ]
  },
  {
   "cell_type": "code",
   "execution_count": 1,
   "metadata": {
    "colab": {
     "base_uri": "https://localhost:8080/"
    },
    "id": "dfs5xYLuqXDv",
    "outputId": "632f2bbb-d526-433d-fb8d-833dc3122bf8"
   },
   "outputs": [],
   "source": [
    "#1\n",
    "#!pip install ffmpeg\n",
    "#!pip install Pillow\n",
    "\n",
    "from PIL import Image\n",
    "import os\n",
    "import shutil\n",
    "import pandas as pd\n",
    "import ffmpeg\n",
    "import numpy as np\n",
    "from numpy import asarray\n",
    "import cv2 as cv\n",
    "import re\n",
    "import math\n",
    "from subprocess import check_call, PIPE, Popen\n",
    "import shlex\n",
    "from tqdm import tqdm"
   ]
  },
  {
   "cell_type": "markdown",
   "metadata": {
    "id": "rhgc9KeKcD3J"
   },
   "source": [
    "\n",
    "\n",
    "---\n",
    "\n"
   ]
  },
  {
   "cell_type": "markdown",
   "metadata": {
    "id": "jJQyBKCucFVZ"
   },
   "source": [
    "## Get statistics for ECHO and CorpusNGT:"
   ]
  },
  {
   "cell_type": "markdown",
   "metadata": {
    "id": "Vxkx5hedKjXA"
   },
   "source": [
    "First we have to split the CorpusNGT videos by speaker"
   ]
  },
  {
   "cell_type": "code",
   "execution_count": 11,
   "metadata": {
    "id": "gZrjMphIT1la"
   },
   "outputs": [],
   "source": [
    "def cleanItemStrict(item):\n",
    "    if \"(p-)\" in item:  item = item.replace(\"(p-)\", \"\")\n",
    "    if \"(g-)\" in item:  item = item.replace(\"(g-)\", \"\")\n",
    "    if \"/\" in item:  item = item.split(\"/\")[0] # make sure the gloss name is regularized:\n",
    "    if \" (\" in item:  item = item.split(\" (\")[0]\n",
    "    if \") \" in item:  item = item.split(\") \")[1]\n",
    "    if \")-\" in item:  item = item.split(\")-\")[1]\n",
    "    if \" \" in item:  item = item.replace(\" \", \"\")\n",
    "    if '\"' in item:  item = item.replace('\"', \"\")\n",
    "    if \"'\" in item:  item = item.replace(\"'\", \"\")\n",
    "    if \"~\" in item:  item = item.replace(\"~\", \"\")\n",
    "    if \".\" in item:  item = item.replace(\".\", \"-\")\n",
    "    if \"_\" in item:  item = item.replace(\"_\", \"-\")\n",
    "    if \"?\" in item:  item = item.replace(\"?\", \"\")\n",
    "    if \">\" in item:  item = item.replace(\">\", \"\")\n",
    "    if \"<\" in item:  item = item.replace(\"<\", \"\")\n",
    "    if \"%\" in item:  item = item.replace(\"%\", \"\")\n",
    "    if \"#\" in item:  item = item.replace(\"#\", \"\")\n",
    "    if \"!\" in item:  item = item.replace(\"!\", \"\")\n",
    "    if \"$\" in item:  item = item.replace(\"$\", \"\")\n",
    "    if \"*\" in item:  item = item.replace(\"*\", \"\")\n",
    "    if \"&\" in item:  item = item.replace(\"&\", \"\")\n",
    "    if \"+\" in item:  item = item.replace(\"+\", \"\")\n",
    "    if \"`\" in item:  item = item.replace(\"`\", \"\")\n",
    "    if \"-1\" in item:  item = item.replace(\"-1\", \"\")\n",
    "    if \"-2\" in item:  item = item.replace(\"-2\", \"\")\n",
    "    if \"-3\" in item:  item = item.replace(\"-3\", \"\")\n",
    "    if \"-4\" in item:  item = item.replace(\"-4\", \"\")\n",
    "    if \"-5\" in item:  item = item.replace(\"-5\", \"\")\n",
    "    if \"-6\" in item:  item = item.replace(\"-6\", \"\")\n",
    "    if \"-7\" in item:  item = item.replace(\"-7\", \"\")\n",
    "    if \"-8\" in item:  item = item.replace(\"-8\", \"\")\n",
    "    if \"-9\" in item:  item = item.replace(\"-9\", \"\")\n",
    "    if \"-0\" in item:  item = item.replace(\"-0\", \"\")\n",
    "    if \"-EC\" in item:  item = item.split(\"-EC\")[0]\n",
    "    if \"-HC\" in item:  item = item.split(\"-HC\")[0]\n",
    "    if \"+PT\" in item:  item = item.replace(\"+PT\", \"\")\n",
    "    if \"+PO\" in item:  item = item.replace(\"+PO\", \"\")\n",
    "    if \"-RC\" in item:  item = item.replace(\"-RC\", \"\")\n",
    "    if \"-A\" in item:  item = item.replace(\"-A\", \"\")\n",
    "    if \"-B\" in item:  item = item.replace(\"-B\", \"\")\n",
    "    if \"-C\" in item:  item = item.replace(\"-C\", \"\")\n",
    "    if \"-D\" in item:  item = item.replace(\"-D\", \"\")\n",
    "    if \"-E\" in item:  item = item.replace(\"-E\", \"\")\n",
    "    if \"-F\" in item:  item = item.replace(\"-F\", \"\")\n",
    "    if \"-G\" in item:  item = item.replace(\"-G\", \"\")\n",
    "    if \"-H\" in item:  item = item.replace(\"-H\", \"\")\n",
    "    if \"(H)\" in item:  item = item.replace(\"(H)\", \"\")\n",
    "    if \"(-H)\" in item:  item = item.replace(\"(-H)\", \"\")\n",
    "    if \"(2H)\" in item:  item = item.replace(\"(2H)\", \"\")\n",
    "    item = item.upper()\n",
    "    return(item)\n",
    "\n",
    "def cleanItem(series):\n",
    "    output = []\n",
    "    for item in series:\n",
    "        item = cleanItemPunct(item)\n",
    "        output.append(item)\n",
    "    return output\n",
    "\n",
    "def cleanItemPunct(item):\n",
    "    if \"/\" in item:  item = item.split(\"/\")[0] # make sure the gloss name is regularized:\n",
    "    if \" (\" in item:  item = item.split(\" (\")[0]\n",
    "    if \") \" in item:  item = item.split(\") \")[1]\n",
    "    if \")-\" in item:  item = item.split(\")-\")[1]\n",
    "    if \" \" in item:  item = item.replace(\" \", \"\")\n",
    "    if '\"' in item:  item = item.replace('\"', \"\")\n",
    "    if \"'\" in item:  item = item.replace(\"'\", \"\")\n",
    "    if \"~\" in item:  item = item.replace(\"~\", \"\")\n",
    "    if \".\" in item:  item = item.replace(\".\", \"-\")\n",
    "    if \"_\" in item:  item = item.replace(\"_\", \"-\")\n",
    "    if \"?\" in item:  item = item.replace(\"?\", \"\")\n",
    "    if \">\" in item:  item = item.replace(\">\", \"\")\n",
    "    if \"<\" in item:  item = item.replace(\"<\", \"\")\n",
    "    if \"%\" in item:  item = item.replace(\"%\", \"\")\n",
    "    if \"#\" in item:  item = item.replace(\"#\", \"\")\n",
    "    if \"!\" in item:  item = item.replace(\"!\", \"\")\n",
    "    if \"$\" in item:  item = item.replace(\"$\", \"\")\n",
    "    if \"*\" in item:  item = item.replace(\"*\", \"\")\n",
    "    if \"&\" in item:  item = item.replace(\"&\", \"\")\n",
    "    if \"+\" in item:  item = item.replace(\"+\", \"\")\n",
    "    if \"`\" in item:  item = item.replace(\"`\", \"\")\n",
    "    if \":\" in item:  item = item.replace(\":\", \"-\")\n",
    "    if \";\" in item:  item = item.replace(\";\", \"-\")\n",
    "    if \",\" in item:  item = item.replace(\",\", \"-\")\n",
    "    if \"[\" in item:  item = item.replace(\"[\", \"\")\n",
    "    if \"]\" in item:  item = item.replace(\"]\", \"\")\n",
    "    item = item.upper()\n",
    "    return(item)"
   ]
  },
  {
   "cell_type": "code",
   "execution_count": 12,
   "metadata": {
    "colab": {
     "base_uri": "https://localhost:8080/"
    },
    "id": "ODXEdX61Ki44",
    "outputId": "1017364a-744a-4907-db9e-c8a673b286f6"
   },
   "outputs": [],
   "source": [
    "ngtglossdir = \"Data/CorpusNGT/gloss/\"\n",
    "\n",
    "for filename in os.listdir(ngtglossdir):\n",
    "    f = os.path.join(ngtglossdir, filename)\n",
    "    file, extension = filename.split('.')\n",
    "    # For the csv file, we get all the statistics like gloss count etc\n",
    "    if extension == 'mpg':\n",
    "        os.rename('{}{}.mpg'.format(ngtglossdir, file), '{}{}.mpg'.format(ngtglossdir, file.replace('_b', \"\")))\n",
    "\n",
    "keepvideofiles = []\n",
    "\n",
    "for filename in os.listdir(ngtglossdir):\n",
    "    f = os.path.join(ngtglossdir, filename)\n",
    "    file, extension = filename.split('.')\n",
    "    # For the csv file, we get all the statistics like gloss count etc\n",
    "\n",
    "    if extension == 'csv':\n",
    "        #if \"_S\" not in file:\n",
    "        gloss = pd.read_csv(f) #, header=None, names = ['signer', 'start time', 'start seconds', 'stop time', 'stop seconds', 'duration', 'value', 'gloss']\n",
    "        gloss = gloss.dropna(axis=0)\n",
    "        #for item in gloss['gloss']:\n",
    "        #    item = cleanItemPunct(item) #cleanItemStrict(item)\n",
    "\n",
    "        gloss['gloss'] = cleanItem(gloss['gloss'])\n",
    "        \n",
    "        gloss = gloss.dropna(axis=0)\n",
    "        signers = gloss['signer'].unique()\n",
    "        #gloss = gloss.set_index('signer', drop=True, append=False)\n",
    "\n",
    "        if len(signers) == 0:\n",
    "            print(\"No speakers in file, check absence of speakers for file \" + file)\n",
    "        elif len(signers) > 0:\n",
    "            #S1_number = signers[0]\n",
    "            try:\n",
    "                #gloss_S1 = gloss.loc[[S1_number]]\n",
    "                gloss.to_csv('{}{}.csv'.format(ngtglossdir, file))\n",
    "                keepvideofiles.append('{}{}.mpg'.format(ngtglossdir, file))\n",
    "            except:\n",
    "                print(\"Error with file: \" + file + \", Check manually\")\n",
    "                #try:  os.remove('{}{}_{}.mpg'.format(ngtglossdir, file, S1_number))\n",
    "                #except: pass\n",
    "        \n",
    "        #os.remove('{}{}.csv'.format(ngtglossdir, file))"
   ]
  },
  {
   "cell_type": "code",
   "execution_count": 13,
   "metadata": {
    "scrolled": true
   },
   "outputs": [
    {
     "name": "stdout",
     "output_type": "stream",
     "text": [
      "604\n",
      "['Data/CorpusNGT/gloss/CNGT0004_S003.mpg', 'Data/CorpusNGT/gloss/CNGT0004_S004.mpg', 'Data/CorpusNGT/gloss/CNGT0005_S003.mpg', 'Data/CorpusNGT/gloss/CNGT0005_S004.mpg', 'Data/CorpusNGT/gloss/CNGT0006_S003.mpg', 'Data/CorpusNGT/gloss/CNGT0006_S004.mpg', 'Data/CorpusNGT/gloss/CNGT0007_S003.mpg', 'Data/CorpusNGT/gloss/CNGT0007_S004.mpg', 'Data/CorpusNGT/gloss/CNGT0008_S003.mpg', 'Data/CorpusNGT/gloss/CNGT0008_S004.mpg', 'Data/CorpusNGT/gloss/CNGT0009_S003.mpg', 'Data/CorpusNGT/gloss/CNGT0009_S004.mpg', 'Data/CorpusNGT/gloss/CNGT0010_S003.mpg', 'Data/CorpusNGT/gloss/CNGT0010_S004.mpg', 'Data/CorpusNGT/gloss/CNGT0011_S003.mpg', 'Data/CorpusNGT/gloss/CNGT0011_S004.mpg', 'Data/CorpusNGT/gloss/CNGT0012_S003.mpg', 'Data/CorpusNGT/gloss/CNGT0012_S004.mpg', 'Data/CorpusNGT/gloss/CNGT0013_S003.mpg', 'Data/CorpusNGT/gloss/CNGT0013_S004.mpg', 'Data/CorpusNGT/gloss/CNGT0014_S003.mpg', 'Data/CorpusNGT/gloss/CNGT0014_S004.mpg', 'Data/CorpusNGT/gloss/CNGT0015_S003.mpg', 'Data/CorpusNGT/gloss/CNGT0015_S004.mpg', 'Data/CorpusNGT/gloss/CNGT0016_S003.mpg', 'Data/CorpusNGT/gloss/CNGT0016_S004.mpg', 'Data/CorpusNGT/gloss/CNGT0017_S003.mpg', 'Data/CorpusNGT/gloss/CNGT0017_S004.mpg', 'Data/CorpusNGT/gloss/CNGT0018_S003.mpg', 'Data/CorpusNGT/gloss/CNGT0018_S004.mpg', 'Data/CorpusNGT/gloss/CNGT0047_S005.mpg', 'Data/CorpusNGT/gloss/CNGT0048_S006.mpg', 'Data/CorpusNGT/gloss/CNGT0049_S005.mpg', 'Data/CorpusNGT/gloss/CNGT0049_S006.mpg', 'Data/CorpusNGT/gloss/CNGT0050_S005.mpg', 'Data/CorpusNGT/gloss/CNGT0050_S006.mpg', 'Data/CorpusNGT/gloss/CNGT0055_S005.mpg', 'Data/CorpusNGT/gloss/CNGT0055_S006.mpg', 'Data/CorpusNGT/gloss/CNGT0056_S005.mpg', 'Data/CorpusNGT/gloss/CNGT0056_S006.mpg', 'Data/CorpusNGT/gloss/CNGT0057_S005.mpg', 'Data/CorpusNGT/gloss/CNGT0057_S006.mpg', 'Data/CorpusNGT/gloss/CNGT0058_S005.mpg', 'Data/CorpusNGT/gloss/CNGT0058_S006.mpg', 'Data/CorpusNGT/gloss/CNGT0059_S005.mpg', 'Data/CorpusNGT/gloss/CNGT0059_S006.mpg', 'Data/CorpusNGT/gloss/CNGT0060_S005.mpg', 'Data/CorpusNGT/gloss/CNGT0060_S006.mpg', 'Data/CorpusNGT/gloss/CNGT0061_S005.mpg', 'Data/CorpusNGT/gloss/CNGT0061_S006.mpg', 'Data/CorpusNGT/gloss/CNGT0062_S005.mpg', 'Data/CorpusNGT/gloss/CNGT0062_S006.mpg', 'Data/CorpusNGT/gloss/CNGT0063_S005.mpg', 'Data/CorpusNGT/gloss/CNGT0063_S006.mpg', 'Data/CorpusNGT/gloss/CNGT0064_S005.mpg', 'Data/CorpusNGT/gloss/CNGT0064_S006.mpg', 'Data/CorpusNGT/gloss/CNGT0065_S005.mpg', 'Data/CorpusNGT/gloss/CNGT0065_S006.mpg', 'Data/CorpusNGT/gloss/CNGT0066_S005.mpg', 'Data/CorpusNGT/gloss/CNGT0066_S006.mpg', 'Data/CorpusNGT/gloss/CNGT0067_S005.mpg', 'Data/CorpusNGT/gloss/CNGT0067_S006.mpg', 'Data/CorpusNGT/gloss/CNGT0068_S005.mpg', 'Data/CorpusNGT/gloss/CNGT0068_S006.mpg', 'Data/CorpusNGT/gloss/CNGT0069_S005.mpg', 'Data/CorpusNGT/gloss/CNGT0069_S006.mpg', 'Data/CorpusNGT/gloss/CNGT0092_S002.mpg', 'Data/CorpusNGT/gloss/CNGT0093_S001.mpg', 'Data/CorpusNGT/gloss/CNGT0093_S002.mpg', 'Data/CorpusNGT/gloss/CNGT0094_S001.mpg', 'Data/CorpusNGT/gloss/CNGT0094_S002.mpg', 'Data/CorpusNGT/gloss/CNGT0095_S001.mpg', 'Data/CorpusNGT/gloss/CNGT0095_S002.mpg', 'Data/CorpusNGT/gloss/CNGT0096_S001.mpg', 'Data/CorpusNGT/gloss/CNGT0096_S002.mpg', 'Data/CorpusNGT/gloss/CNGT0097_S001.mpg', 'Data/CorpusNGT/gloss/CNGT0097_S002.mpg', 'Data/CorpusNGT/gloss/CNGT0098_S001.mpg', 'Data/CorpusNGT/gloss/CNGT0098_S002.mpg', 'Data/CorpusNGT/gloss/CNGT0099_S001.mpg', 'Data/CorpusNGT/gloss/CNGT0099_S002.mpg', 'Data/CorpusNGT/gloss/CNGT0117_S001.mpg', 'Data/CorpusNGT/gloss/CNGT0117_S002.mpg', 'Data/CorpusNGT/gloss/CNGT0119_S007.mpg', 'Data/CorpusNGT/gloss/CNGT0119_S008.mpg', 'Data/CorpusNGT/gloss/CNGT0120_S007.mpg', 'Data/CorpusNGT/gloss/CNGT0120_S008.mpg', 'Data/CorpusNGT/gloss/CNGT0121_S007.mpg', 'Data/CorpusNGT/gloss/CNGT0121_S008.mpg', 'Data/CorpusNGT/gloss/CNGT0124_S007.mpg', 'Data/CorpusNGT/gloss/CNGT0124_S008.mpg', 'Data/CorpusNGT/gloss/CNGT0128_S007.mpg', 'Data/CorpusNGT/gloss/CNGT0128_S008.mpg', 'Data/CorpusNGT/gloss/CNGT0129_S007.mpg', 'Data/CorpusNGT/gloss/CNGT0129_S008.mpg', 'Data/CorpusNGT/gloss/CNGT0130_S007.mpg', 'Data/CorpusNGT/gloss/CNGT0130_S008.mpg', 'Data/CorpusNGT/gloss/CNGT0131_S007.mpg', 'Data/CorpusNGT/gloss/CNGT0131_S008.mpg', 'Data/CorpusNGT/gloss/CNGT0132_S007.mpg', 'Data/CorpusNGT/gloss/CNGT0132_S008.mpg', 'Data/CorpusNGT/gloss/CNGT0133_S007.mpg', 'Data/CorpusNGT/gloss/CNGT0133_S008.mpg', 'Data/CorpusNGT/gloss/CNGT0134_S007.mpg', 'Data/CorpusNGT/gloss/CNGT0134_S008.mpg', 'Data/CorpusNGT/gloss/CNGT0135_S007.mpg', 'Data/CorpusNGT/gloss/CNGT0135_S008.mpg', 'Data/CorpusNGT/gloss/CNGT0136_S007.mpg', 'Data/CorpusNGT/gloss/CNGT0136_S008.mpg', 'Data/CorpusNGT/gloss/CNGT0137_S007.mpg', 'Data/CorpusNGT/gloss/CNGT0137_S008.mpg', 'Data/CorpusNGT/gloss/CNGT0138_S007.mpg', 'Data/CorpusNGT/gloss/CNGT0138_S008.mpg', 'Data/CorpusNGT/gloss/CNGT0139_S007.mpg', 'Data/CorpusNGT/gloss/CNGT0139_S008.mpg', 'Data/CorpusNGT/gloss/CNGT0154_S007.mpg', 'Data/CorpusNGT/gloss/CNGT0154_S008.mpg', 'Data/CorpusNGT/gloss/CNGT0170_S009.mpg', 'Data/CorpusNGT/gloss/CNGT0170_S010.mpg', 'Data/CorpusNGT/gloss/CNGT0206_S011.mpg', 'Data/CorpusNGT/gloss/CNGT0206_S012.mpg', 'Data/CorpusNGT/gloss/CNGT0207_S011.mpg', 'Data/CorpusNGT/gloss/CNGT0207_S012.mpg', 'Data/CorpusNGT/gloss/CNGT0208_S011.mpg', 'Data/CorpusNGT/gloss/CNGT0208_S012.mpg', 'Data/CorpusNGT/gloss/CNGT0209_S011.mpg', 'Data/CorpusNGT/gloss/CNGT0209_S012.mpg', 'Data/CorpusNGT/gloss/CNGT0210_S011.mpg', 'Data/CorpusNGT/gloss/CNGT0210_S012.mpg', 'Data/CorpusNGT/gloss/CNGT0211_S012.mpg', 'Data/CorpusNGT/gloss/CNGT0212_S011.mpg', 'Data/CorpusNGT/gloss/CNGT0212_S012.mpg', 'Data/CorpusNGT/gloss/CNGT0213_S011.mpg', 'Data/CorpusNGT/gloss/CNGT0213_S012.mpg', 'Data/CorpusNGT/gloss/CNGT0214_S011.mpg', 'Data/CorpusNGT/gloss/CNGT0214_S012.mpg', 'Data/CorpusNGT/gloss/CNGT0215_S011.mpg', 'Data/CorpusNGT/gloss/CNGT0215_S012.mpg', 'Data/CorpusNGT/gloss/CNGT0250_S013.mpg', 'Data/CorpusNGT/gloss/CNGT0250_S014.mpg', 'Data/CorpusNGT/gloss/CNGT0251_S013.mpg', 'Data/CorpusNGT/gloss/CNGT0251_S014.mpg', 'Data/CorpusNGT/gloss/CNGT0252_S013.mpg', 'Data/CorpusNGT/gloss/CNGT0252_S014.mpg', 'Data/CorpusNGT/gloss/CNGT0253_S013.mpg', 'Data/CorpusNGT/gloss/CNGT0253_S014.mpg', 'Data/CorpusNGT/gloss/CNGT0254_S013.mpg', 'Data/CorpusNGT/gloss/CNGT0254_S014.mpg', 'Data/CorpusNGT/gloss/CNGT0255_S013.mpg', 'Data/CorpusNGT/gloss/CNGT0255_S014.mpg', 'Data/CorpusNGT/gloss/CNGT0256_S013.mpg', 'Data/CorpusNGT/gloss/CNGT0256_S014.mpg', 'Data/CorpusNGT/gloss/CNGT0257_S013.mpg', 'Data/CorpusNGT/gloss/CNGT0257_S014.mpg', 'Data/CorpusNGT/gloss/CNGT0258_S013.mpg', 'Data/CorpusNGT/gloss/CNGT0258_S014.mpg', 'Data/CorpusNGT/gloss/CNGT0259_S013.mpg', 'Data/CorpusNGT/gloss/CNGT0259_S014.mpg', 'Data/CorpusNGT/gloss/CNGT0260_S013.mpg', 'Data/CorpusNGT/gloss/CNGT0260_S014.mpg', 'Data/CorpusNGT/gloss/CNGT0279_S017.mpg', 'Data/CorpusNGT/gloss/CNGT0279_S018.mpg', 'Data/CorpusNGT/gloss/CNGT0280_S017.mpg', 'Data/CorpusNGT/gloss/CNGT0280_S018.mpg', 'Data/CorpusNGT/gloss/CNGT0283_S017.mpg', 'Data/CorpusNGT/gloss/CNGT0283_S018.mpg', 'Data/CorpusNGT/gloss/CNGT0284_S017.mpg', 'Data/CorpusNGT/gloss/CNGT0284_S018.mpg', 'Data/CorpusNGT/gloss/CNGT0294_S017.mpg', 'Data/CorpusNGT/gloss/CNGT0294_S018.mpg', 'Data/CorpusNGT/gloss/CNGT0295_S017.mpg', 'Data/CorpusNGT/gloss/CNGT0295_S018.mpg', 'Data/CorpusNGT/gloss/CNGT0296_S017.mpg', 'Data/CorpusNGT/gloss/CNGT0296_S018.mpg', 'Data/CorpusNGT/gloss/CNGT0297_S017.mpg', 'Data/CorpusNGT/gloss/CNGT0297_S018.mpg', 'Data/CorpusNGT/gloss/CNGT0298_S017.mpg', 'Data/CorpusNGT/gloss/CNGT0298_S018.mpg', 'Data/CorpusNGT/gloss/CNGT0299_S017.mpg', 'Data/CorpusNGT/gloss/CNGT0299_S018.mpg', 'Data/CorpusNGT/gloss/CNGT0315_S015.mpg', 'Data/CorpusNGT/gloss/CNGT0316_S015.mpg', 'Data/CorpusNGT/gloss/CNGT0316_S016.mpg', 'Data/CorpusNGT/gloss/CNGT0317_S015.mpg', 'Data/CorpusNGT/gloss/CNGT0317_S016.mpg', 'Data/CorpusNGT/gloss/CNGT0318_S016.mpg', 'Data/CorpusNGT/gloss/CNGT0319_S015.mpg', 'Data/CorpusNGT/gloss/CNGT0319_S016.mpg', 'Data/CorpusNGT/gloss/CNGT0320_S015.mpg', 'Data/CorpusNGT/gloss/CNGT0320_S016.mpg', 'Data/CorpusNGT/gloss/CNGT0321_S015.mpg', 'Data/CorpusNGT/gloss/CNGT0321_S016.mpg', 'Data/CorpusNGT/gloss/CNGT0323_S015.mpg', 'Data/CorpusNGT/gloss/CNGT0325_S015.mpg', 'Data/CorpusNGT/gloss/CNGT0327_S015.mpg', 'Data/CorpusNGT/gloss/CNGT0328_S015.mpg', 'Data/CorpusNGT/gloss/CNGT0328_S016.mpg', 'Data/CorpusNGT/gloss/CNGT0329_S015.mpg', 'Data/CorpusNGT/gloss/CNGT0329_S016.mpg', 'Data/CorpusNGT/gloss/CNGT0330_S015.mpg', 'Data/CorpusNGT/gloss/CNGT0330_S016.mpg', 'Data/CorpusNGT/gloss/CNGT0331_S015.mpg', 'Data/CorpusNGT/gloss/CNGT0331_S016.mpg', 'Data/CorpusNGT/gloss/CNGT0332_S015.mpg', 'Data/CorpusNGT/gloss/CNGT0332_S016.mpg', 'Data/CorpusNGT/gloss/CNGT0333_S015.mpg', 'Data/CorpusNGT/gloss/CNGT0333_S016.mpg', 'Data/CorpusNGT/gloss/CNGT0334_S015.mpg', 'Data/CorpusNGT/gloss/CNGT0334_S016.mpg', 'Data/CorpusNGT/gloss/CNGT0335_S015.mpg', 'Data/CorpusNGT/gloss/CNGT0335_S016.mpg', 'Data/CorpusNGT/gloss/CNGT0336_S015.mpg', 'Data/CorpusNGT/gloss/CNGT0336_S016.mpg', 'Data/CorpusNGT/gloss/CNGT0337_S015.mpg', 'Data/CorpusNGT/gloss/CNGT0337_S016.mpg', 'Data/CorpusNGT/gloss/CNGT0338_S015.mpg', 'Data/CorpusNGT/gloss/CNGT0338_S016.mpg', 'Data/CorpusNGT/gloss/CNGT0339_S015.mpg', 'Data/CorpusNGT/gloss/CNGT0339_S016.mpg', 'Data/CorpusNGT/gloss/CNGT0340_S015.mpg', 'Data/CorpusNGT/gloss/CNGT0340_S016.mpg', 'Data/CorpusNGT/gloss/CNGT0341_S015.mpg', 'Data/CorpusNGT/gloss/CNGT0341_S016.mpg', 'Data/CorpusNGT/gloss/CNGT0362_S019.mpg', 'Data/CorpusNGT/gloss/CNGT0362_S020.mpg', 'Data/CorpusNGT/gloss/CNGT0364_S019.mpg', 'Data/CorpusNGT/gloss/CNGT0364_S020.mpg', 'Data/CorpusNGT/gloss/CNGT0365_S019.mpg', 'Data/CorpusNGT/gloss/CNGT0365_S020.mpg', 'Data/CorpusNGT/gloss/CNGT0366_S019.mpg', 'Data/CorpusNGT/gloss/CNGT0366_S020.mpg', 'Data/CorpusNGT/gloss/CNGT0368_S019.mpg', 'Data/CorpusNGT/gloss/CNGT0368_S020.mpg', 'Data/CorpusNGT/gloss/CNGT0369_S019.mpg', 'Data/CorpusNGT/gloss/CNGT0369_S020.mpg', 'Data/CorpusNGT/gloss/CNGT0370_S019.mpg', 'Data/CorpusNGT/gloss/CNGT0370_S020.mpg', 'Data/CorpusNGT/gloss/CNGT0371_S019.mpg', 'Data/CorpusNGT/gloss/CNGT0371_S020.mpg', 'Data/CorpusNGT/gloss/CNGT0372_S019.mpg', 'Data/CorpusNGT/gloss/CNGT0372_S020.mpg', 'Data/CorpusNGT/gloss/CNGT0374_S019.mpg', 'Data/CorpusNGT/gloss/CNGT0374_S020.mpg', 'Data/CorpusNGT/gloss/CNGT0376_S019.mpg', 'Data/CorpusNGT/gloss/CNGT0376_S020.mpg', 'Data/CorpusNGT/gloss/CNGT0378_S019.mpg', 'Data/CorpusNGT/gloss/CNGT0378_S020.mpg', 'Data/CorpusNGT/gloss/CNGT0386_S019.mpg', 'Data/CorpusNGT/gloss/CNGT0386_S020.mpg', 'Data/CorpusNGT/gloss/CNGT0387_S019.mpg', 'Data/CorpusNGT/gloss/CNGT0387_S020.mpg', 'Data/CorpusNGT/gloss/CNGT0388_S019.mpg', 'Data/CorpusNGT/gloss/CNGT0388_S020.mpg', 'Data/CorpusNGT/gloss/CNGT0389_S019.mpg', 'Data/CorpusNGT/gloss/CNGT0389_S020.mpg', 'Data/CorpusNGT/gloss/CNGT0390_S019.mpg', 'Data/CorpusNGT/gloss/CNGT0390_S020.mpg', 'Data/CorpusNGT/gloss/CNGT0412_S021.mpg', 'Data/CorpusNGT/gloss/CNGT0412_S022.mpg', 'Data/CorpusNGT/gloss/CNGT0413_S021.mpg', 'Data/CorpusNGT/gloss/CNGT0414_S021.mpg', 'Data/CorpusNGT/gloss/CNGT0414_S022.mpg', 'Data/CorpusNGT/gloss/CNGT0415_S021.mpg', 'Data/CorpusNGT/gloss/CNGT0415_S022.mpg', 'Data/CorpusNGT/gloss/CNGT0416_S021.mpg', 'Data/CorpusNGT/gloss/CNGT0416_S022.mpg', 'Data/CorpusNGT/gloss/CNGT0417_S022.mpg', 'Data/CorpusNGT/gloss/CNGT0418_S021.mpg', 'Data/CorpusNGT/gloss/CNGT0418_S022.mpg', 'Data/CorpusNGT/gloss/CNGT0419_S021.mpg', 'Data/CorpusNGT/gloss/CNGT0419_S022.mpg', 'Data/CorpusNGT/gloss/CNGT0421_S021.mpg', 'Data/CorpusNGT/gloss/CNGT0421_S022.mpg', 'Data/CorpusNGT/gloss/CNGT0423_S021.mpg', 'Data/CorpusNGT/gloss/CNGT0425_S021.mpg', 'Data/CorpusNGT/gloss/CNGT0425_S022.mpg', 'Data/CorpusNGT/gloss/CNGT0427_S021.mpg', 'Data/CorpusNGT/gloss/CNGT0427_S022.mpg', 'Data/CorpusNGT/gloss/CNGT0428_S021.mpg', 'Data/CorpusNGT/gloss/CNGT0428_S022.mpg', 'Data/CorpusNGT/gloss/CNGT0429_S021.mpg', 'Data/CorpusNGT/gloss/CNGT0429_S022.mpg', 'Data/CorpusNGT/gloss/CNGT0430_S021.mpg', 'Data/CorpusNGT/gloss/CNGT0430_S022.mpg', 'Data/CorpusNGT/gloss/CNGT0431_S021.mpg', 'Data/CorpusNGT/gloss/CNGT0431_S022.mpg', 'Data/CorpusNGT/gloss/CNGT0432_S021.mpg', 'Data/CorpusNGT/gloss/CNGT0432_S022.mpg', 'Data/CorpusNGT/gloss/CNGT0434_S021.mpg', 'Data/CorpusNGT/gloss/CNGT0434_S022.mpg', 'Data/CorpusNGT/gloss/CNGT0435_S021.mpg', 'Data/CorpusNGT/gloss/CNGT0435_S022.mpg', 'Data/CorpusNGT/gloss/CNGT0436_S021.mpg', 'Data/CorpusNGT/gloss/CNGT0436_S022.mpg', 'Data/CorpusNGT/gloss/CNGT0437_S021.mpg', 'Data/CorpusNGT/gloss/CNGT0437_S022.mpg', 'Data/CorpusNGT/gloss/CNGT0438_S021.mpg', 'Data/CorpusNGT/gloss/CNGT0438_S022.mpg', 'Data/CorpusNGT/gloss/CNGT0439_S021.mpg', 'Data/CorpusNGT/gloss/CNGT0439_S022.mpg', 'Data/CorpusNGT/gloss/CNGT0466_S023.mpg', 'Data/CorpusNGT/gloss/CNGT0466_S024.mpg', 'Data/CorpusNGT/gloss/CNGT0467_S023.mpg', 'Data/CorpusNGT/gloss/CNGT0467_S024.mpg', 'Data/CorpusNGT/gloss/CNGT0469_S024.mpg', 'Data/CorpusNGT/gloss/CNGT0470_S023.mpg', 'Data/CorpusNGT/gloss/CNGT0471_S024.mpg', 'Data/CorpusNGT/gloss/CNGT0472_S023.mpg', 'Data/CorpusNGT/gloss/CNGT0472_S024.mpg', 'Data/CorpusNGT/gloss/CNGT0473_S024.mpg', 'Data/CorpusNGT/gloss/CNGT0474_S023.mpg', 'Data/CorpusNGT/gloss/CNGT0475_S024.mpg', 'Data/CorpusNGT/gloss/CNGT0476_S023.mpg', 'Data/CorpusNGT/gloss/CNGT0476_S024.mpg', 'Data/CorpusNGT/gloss/CNGT0485_S023.mpg', 'Data/CorpusNGT/gloss/CNGT0485_S024.mpg', 'Data/CorpusNGT/gloss/CNGT0486_S023.mpg', 'Data/CorpusNGT/gloss/CNGT0486_S024.mpg', 'Data/CorpusNGT/gloss/CNGT0487_S023.mpg', 'Data/CorpusNGT/gloss/CNGT0487_S024.mpg', 'Data/CorpusNGT/gloss/CNGT0488_S023.mpg', 'Data/CorpusNGT/gloss/CNGT0488_S024.mpg', 'Data/CorpusNGT/gloss/CNGT0489_S023.mpg', 'Data/CorpusNGT/gloss/CNGT0489_S024.mpg', 'Data/CorpusNGT/gloss/CNGT0510_S025.mpg', 'Data/CorpusNGT/gloss/CNGT0510_S026.mpg', 'Data/CorpusNGT/gloss/CNGT0512_S025.mpg', 'Data/CorpusNGT/gloss/CNGT0512_S026.mpg', 'Data/CorpusNGT/gloss/CNGT0513_S025.mpg', 'Data/CorpusNGT/gloss/CNGT0513_S026.mpg', 'Data/CorpusNGT/gloss/CNGT0514_S025.mpg', 'Data/CorpusNGT/gloss/CNGT0514_S026.mpg', 'Data/CorpusNGT/gloss/CNGT0515_S025.mpg', 'Data/CorpusNGT/gloss/CNGT0515_S026.mpg', 'Data/CorpusNGT/gloss/CNGT0516_S025.mpg', 'Data/CorpusNGT/gloss/CNGT0516_S026.mpg', 'Data/CorpusNGT/gloss/CNGT0517_S025.mpg', 'Data/CorpusNGT/gloss/CNGT0517_S026.mpg', 'Data/CorpusNGT/gloss/CNGT0518_S025.mpg', 'Data/CorpusNGT/gloss/CNGT0518_S026.mpg', 'Data/CorpusNGT/gloss/CNGT0519_S025.mpg', 'Data/CorpusNGT/gloss/CNGT0519_S026.mpg', 'Data/CorpusNGT/gloss/CNGT0520_S025.mpg', 'Data/CorpusNGT/gloss/CNGT0520_S026.mpg', 'Data/CorpusNGT/gloss/CNGT0521_S025.mpg', 'Data/CorpusNGT/gloss/CNGT0521_S026.mpg', 'Data/CorpusNGT/gloss/CNGT0522_S025.mpg', 'Data/CorpusNGT/gloss/CNGT0522_S026.mpg', 'Data/CorpusNGT/gloss/CNGT0523_S025.mpg', 'Data/CorpusNGT/gloss/CNGT0523_S026.mpg', 'Data/CorpusNGT/gloss/CNGT0524_S025.mpg', 'Data/CorpusNGT/gloss/CNGT0524_S026.mpg', 'Data/CorpusNGT/gloss/CNGT0525_S025.mpg', 'Data/CorpusNGT/gloss/CNGT0525_S026.mpg', 'Data/CorpusNGT/gloss/CNGT0526_S025.mpg', 'Data/CorpusNGT/gloss/CNGT0526_S026.mpg', 'Data/CorpusNGT/gloss/CNGT0528_S025.mpg', 'Data/CorpusNGT/gloss/CNGT0528_S026.mpg', 'Data/CorpusNGT/gloss/CNGT0529_S025.mpg', 'Data/CorpusNGT/gloss/CNGT0529_S026.mpg', 'Data/CorpusNGT/gloss/CNGT0531_S025.mpg', 'Data/CorpusNGT/gloss/CNGT0531_S026.mpg', 'Data/CorpusNGT/gloss/CNGT0532_S025.mpg', 'Data/CorpusNGT/gloss/CNGT0532_S026.mpg', 'Data/CorpusNGT/gloss/CNGT0534_S025.mpg', 'Data/CorpusNGT/gloss/CNGT0534_S026.mpg', 'Data/CorpusNGT/gloss/CNGT0535_S025.mpg', 'Data/CorpusNGT/gloss/CNGT0535_S026.mpg', 'Data/CorpusNGT/gloss/CNGT0536_S025.mpg', 'Data/CorpusNGT/gloss/CNGT0536_S026.mpg', 'Data/CorpusNGT/gloss/CNGT0537_S025.mpg', 'Data/CorpusNGT/gloss/CNGT0537_S026.mpg', 'Data/CorpusNGT/gloss/CNGT0538_S025.mpg', 'Data/CorpusNGT/gloss/CNGT0538_S026.mpg', 'Data/CorpusNGT/gloss/CNGT0539_S025.mpg', 'Data/CorpusNGT/gloss/CNGT0539_S026.mpg', 'Data/CorpusNGT/gloss/CNGT0546_S027.mpg', 'Data/CorpusNGT/gloss/CNGT0546_S028.mpg', 'Data/CorpusNGT/gloss/CNGT0557_S027.mpg', 'Data/CorpusNGT/gloss/CNGT0557_S028.mpg', 'Data/CorpusNGT/gloss/CNGT0564_S027.mpg', 'Data/CorpusNGT/gloss/CNGT0564_S028.mpg', 'Data/CorpusNGT/gloss/CNGT0566_S027.mpg', 'Data/CorpusNGT/gloss/CNGT0566_S028.mpg', 'Data/CorpusNGT/gloss/CNGT0567_S027.mpg', 'Data/CorpusNGT/gloss/CNGT0567_S028.mpg', 'Data/CorpusNGT/gloss/CNGT0570_S027.mpg', 'Data/CorpusNGT/gloss/CNGT0570_S028.mpg', 'Data/CorpusNGT/gloss/CNGT0571_S027.mpg', 'Data/CorpusNGT/gloss/CNGT0571_S028.mpg', 'Data/CorpusNGT/gloss/CNGT0597_S029.mpg', 'Data/CorpusNGT/gloss/CNGT0597_S030.mpg', 'Data/CorpusNGT/gloss/CNGT0601_S029.mpg', 'Data/CorpusNGT/gloss/CNGT0601_S030.mpg', 'Data/CorpusNGT/gloss/CNGT0602_S030.mpg', 'Data/CorpusNGT/gloss/CNGT0603_S029.mpg', 'Data/CorpusNGT/gloss/CNGT0604_S030.mpg', 'Data/CorpusNGT/gloss/CNGT0605_S029.mpg', 'Data/CorpusNGT/gloss/CNGT0606_S030.mpg', 'Data/CorpusNGT/gloss/CNGT0607_S029.mpg', 'Data/CorpusNGT/gloss/CNGT0616_S029.mpg', 'Data/CorpusNGT/gloss/CNGT0616_S030.mpg', 'Data/CorpusNGT/gloss/CNGT0617_S029.mpg', 'Data/CorpusNGT/gloss/CNGT0617_S030.mpg', 'Data/CorpusNGT/gloss/CNGT0618_S029.mpg', 'Data/CorpusNGT/gloss/CNGT0618_S030.mpg', 'Data/CorpusNGT/gloss/CNGT0620_S029.mpg', 'Data/CorpusNGT/gloss/CNGT0620_S030.mpg', 'Data/CorpusNGT/gloss/CNGT0642_S031.mpg', 'Data/CorpusNGT/gloss/CNGT0642_S032.mpg', 'Data/CorpusNGT/gloss/CNGT0694_S031.mpg', 'Data/CorpusNGT/gloss/CNGT0694_S032.mpg', 'Data/CorpusNGT/gloss/CNGT0697_S033.mpg', 'Data/CorpusNGT/gloss/CNGT0697_S034.mpg', 'Data/CorpusNGT/gloss/CNGT0704_S034.mpg', 'Data/CorpusNGT/gloss/CNGT0708_S034.mpg', 'Data/CorpusNGT/gloss/CNGT0710_S034.mpg', 'Data/CorpusNGT/gloss/CNGT0712_S033.mpg', 'Data/CorpusNGT/gloss/CNGT0712_S034.mpg', 'Data/CorpusNGT/gloss/CNGT0714_S033.mpg', 'Data/CorpusNGT/gloss/CNGT0714_S034.mpg', 'Data/CorpusNGT/gloss/CNGT0722_S033.mpg', 'Data/CorpusNGT/gloss/CNGT0722_S034.mpg', 'Data/CorpusNGT/gloss/CNGT0723_S033.mpg', 'Data/CorpusNGT/gloss/CNGT0723_S034.mpg', 'Data/CorpusNGT/gloss/CNGT0724_S033.mpg', 'Data/CorpusNGT/gloss/CNGT0724_S034.mpg', 'Data/CorpusNGT/gloss/CNGT0725_S033.mpg', 'Data/CorpusNGT/gloss/CNGT0725_S034.mpg', 'Data/CorpusNGT/gloss/CNGT0726_S033.mpg', 'Data/CorpusNGT/gloss/CNGT0726_S034.mpg', 'Data/CorpusNGT/gloss/CNGT0747_S037.mpg', 'Data/CorpusNGT/gloss/CNGT0747_S038.mpg', 'Data/CorpusNGT/gloss/CNGT0749_S037.mpg', 'Data/CorpusNGT/gloss/CNGT0749_S038.mpg', 'Data/CorpusNGT/gloss/CNGT0752_S037.mpg', 'Data/CorpusNGT/gloss/CNGT0752_S038.mpg', 'Data/CorpusNGT/gloss/CNGT0764_S037.mpg', 'Data/CorpusNGT/gloss/CNGT0764_S038.mpg', 'Data/CorpusNGT/gloss/CNGT0765_S037.mpg', 'Data/CorpusNGT/gloss/CNGT0765_S038.mpg', 'Data/CorpusNGT/gloss/CNGT0766_S037.mpg', 'Data/CorpusNGT/gloss/CNGT0766_S038.mpg', 'Data/CorpusNGT/gloss/CNGT0767_S038.mpg', 'Data/CorpusNGT/gloss/CNGT0805_S035.mpg', 'Data/CorpusNGT/gloss/CNGT0806_S035.mpg', 'Data/CorpusNGT/gloss/CNGT0814_S035.mpg', 'Data/CorpusNGT/gloss/CNGT0814_S036.mpg', 'Data/CorpusNGT/gloss/CNGT0821_S035.mpg', 'Data/CorpusNGT/gloss/CNGT0821_S036.mpg', 'Data/CorpusNGT/gloss/CNGT0822_S035.mpg', 'Data/CorpusNGT/gloss/CNGT0822_S036.mpg', 'Data/CorpusNGT/gloss/CNGT0823_S035.mpg', 'Data/CorpusNGT/gloss/CNGT0823_S036.mpg', 'Data/CorpusNGT/gloss/CNGT0824_S035.mpg', 'Data/CorpusNGT/gloss/CNGT0824_S036.mpg', 'Data/CorpusNGT/gloss/CNGT0831_S039.mpg', 'Data/CorpusNGT/gloss/CNGT0831_S040.mpg', 'Data/CorpusNGT/gloss/CNGT0838_S039.mpg', 'Data/CorpusNGT/gloss/CNGT0838_S040.mpg', 'Data/CorpusNGT/gloss/CNGT0841_S040.mpg', 'Data/CorpusNGT/gloss/CNGT0843_S040.mpg', 'Data/CorpusNGT/gloss/CNGT0845_S040.mpg', 'Data/CorpusNGT/gloss/CNGT0847_S039.mpg', 'Data/CorpusNGT/gloss/CNGT0847_S040.mpg', 'Data/CorpusNGT/gloss/CNGT0848_S039.mpg', 'Data/CorpusNGT/gloss/CNGT0848_S040.mpg', 'Data/CorpusNGT/gloss/CNGT0857_S039.mpg', 'Data/CorpusNGT/gloss/CNGT0857_S040.mpg', 'Data/CorpusNGT/gloss/CNGT0858_S039.mpg', 'Data/CorpusNGT/gloss/CNGT0858_S040.mpg', 'Data/CorpusNGT/gloss/CNGT0859_S039.mpg', 'Data/CorpusNGT/gloss/CNGT0859_S040.mpg', 'Data/CorpusNGT/gloss/CNGT0860_S039.mpg', 'Data/CorpusNGT/gloss/CNGT0860_S040.mpg', 'Data/CorpusNGT/gloss/CNGT0861_S039.mpg', 'Data/CorpusNGT/gloss/CNGT0861_S040.mpg', 'Data/CorpusNGT/gloss/CNGT0862_S039.mpg', 'Data/CorpusNGT/gloss/CNGT0862_S040.mpg', 'Data/CorpusNGT/gloss/CNGT0877_S039.mpg', 'Data/CorpusNGT/gloss/CNGT0877_S040.mpg', 'Data/CorpusNGT/gloss/CNGT0905_S041.mpg', 'Data/CorpusNGT/gloss/CNGT0905_S042.mpg', 'Data/CorpusNGT/gloss/CNGT0947_S041.mpg', 'Data/CorpusNGT/gloss/CNGT0947_S042.mpg', 'Data/CorpusNGT/gloss/CNGT0958_S043.mpg', 'Data/CorpusNGT/gloss/CNGT0958_S044.mpg', 'Data/CorpusNGT/gloss/CNGT0961_S043.mpg', 'Data/CorpusNGT/gloss/CNGT0962_S043.mpg', 'Data/CorpusNGT/gloss/CNGT0962_S044.mpg', 'Data/CorpusNGT/gloss/CNGT0981_S043.mpg', 'Data/CorpusNGT/gloss/CNGT0981_S044.mpg', 'Data/CorpusNGT/gloss/CNGT1006_S045.mpg', 'Data/CorpusNGT/gloss/CNGT1008_S045.mpg', 'Data/CorpusNGT/gloss/CNGT1008_S046.mpg', 'Data/CorpusNGT/gloss/CNGT1028_S045.mpg', 'Data/CorpusNGT/gloss/CNGT1028_S046.mpg', 'Data/CorpusNGT/gloss/CNGT1046_S045.mpg', 'Data/CorpusNGT/gloss/CNGT1046_S046.mpg', 'Data/CorpusNGT/gloss/CNGT1047_S045.mpg', 'Data/CorpusNGT/gloss/CNGT1047_S046.mpg', 'Data/CorpusNGT/gloss/CNGT1048_S045.mpg', 'Data/CorpusNGT/gloss/CNGT1048_S046.mpg', 'Data/CorpusNGT/gloss/CNGT1055_S045.mpg', 'Data/CorpusNGT/gloss/CNGT1055_S046.mpg', 'Data/CorpusNGT/gloss/CNGT1057_S048.mpg', 'Data/CorpusNGT/gloss/CNGT1058_S047.mpg', 'Data/CorpusNGT/gloss/CNGT1059_S047.mpg', 'Data/CorpusNGT/gloss/CNGT1059_S048.mpg', 'Data/CorpusNGT/gloss/CNGT1071_S047.mpg', 'Data/CorpusNGT/gloss/CNGT1071_S048.mpg', 'Data/CorpusNGT/gloss/CNGT1072_S047.mpg', 'Data/CorpusNGT/gloss/CNGT1072_S048.mpg', 'Data/CorpusNGT/gloss/CNGT1073_S047.mpg', 'Data/CorpusNGT/gloss/CNGT1074_S048.mpg', 'Data/CorpusNGT/gloss/CNGT1075_S047.mpg', 'Data/CorpusNGT/gloss/CNGT1075_S048.mpg', 'Data/CorpusNGT/gloss/CNGT1076_S047.mpg', 'Data/CorpusNGT/gloss/CNGT1076_S048.mpg', 'Data/CorpusNGT/gloss/CNGT1086_S047.mpg', 'Data/CorpusNGT/gloss/CNGT1086_S048.mpg', 'Data/CorpusNGT/gloss/CNGT1183_S052.mpg', 'Data/CorpusNGT/gloss/CNGT1185_S051.mpg', 'Data/CorpusNGT/gloss/CNGT1185_S052.mpg', 'Data/CorpusNGT/gloss/CNGT1328_S057.mpg', 'Data/CorpusNGT/gloss/CNGT1330_S057.mpg', 'Data/CorpusNGT/gloss/CNGT1550_S065.mpg', 'Data/CorpusNGT/gloss/CNGT1550_S066.mpg', 'Data/CorpusNGT/gloss/CNGT1551_S065.mpg', 'Data/CorpusNGT/gloss/CNGT1551_S066.mpg', 'Data/CorpusNGT/gloss/CNGT1683_S069.mpg', 'Data/CorpusNGT/gloss/CNGT1683_S070.mpg', 'Data/CorpusNGT/gloss/CNGT1684_S069.mpg', 'Data/CorpusNGT/gloss/CNGT1684_S070.mpg', 'Data/CorpusNGT/gloss/CNGT1685_S069.mpg', 'Data/CorpusNGT/gloss/CNGT1685_S070.mpg', 'Data/CorpusNGT/gloss/CNGT1687_S069.mpg', 'Data/CorpusNGT/gloss/CNGT1687_S070.mpg', 'Data/CorpusNGT/gloss/CNGT1712_S071.mpg', 'Data/CorpusNGT/gloss/CNGT1712_S072.mpg', 'Data/CorpusNGT/gloss/CNGT1714_S071.mpg', 'Data/CorpusNGT/gloss/CNGT1716_S071.mpg', 'Data/CorpusNGT/gloss/CNGT1718_S071.mpg', 'Data/CorpusNGT/gloss/CNGT1789_S073.mpg', 'Data/CorpusNGT/gloss/CNGT1789_S074.mpg', 'Data/CorpusNGT/gloss/CNGT1791_S073.mpg', 'Data/CorpusNGT/gloss/CNGT1791_S074.mpg', 'Data/CorpusNGT/gloss/CNGT1792_S073.mpg', 'Data/CorpusNGT/gloss/CNGT1792_S074.mpg', 'Data/CorpusNGT/gloss/CNGT1832_S075.mpg', 'Data/CorpusNGT/gloss/CNGT1832_S076.mpg', 'Data/CorpusNGT/gloss/CNGT1833_S075.mpg', 'Data/CorpusNGT/gloss/CNGT1833_S076.mpg', 'Data/CorpusNGT/gloss/CNGT1834_S075.mpg', 'Data/CorpusNGT/gloss/CNGT1834_S076.mpg', 'Data/CorpusNGT/gloss/CNGT1835_S075.mpg', 'Data/CorpusNGT/gloss/CNGT1835_S076.mpg', 'Data/CorpusNGT/gloss/CNGT1836_S075.mpg', 'Data/CorpusNGT/gloss/CNGT1837_S076.mpg', 'Data/CorpusNGT/gloss/CNGT1838_S075.mpg', 'Data/CorpusNGT/gloss/CNGT1839_S076.mpg', 'Data/CorpusNGT/gloss/CNGT1840_S075.mpg', 'Data/CorpusNGT/gloss/CNGT1840_S076.mpg', 'Data/CorpusNGT/gloss/CNGT1853_S075.mpg', 'Data/CorpusNGT/gloss/CNGT1853_S076.mpg', 'Data/CorpusNGT/gloss/CNGT1854_S075.mpg', 'Data/CorpusNGT/gloss/CNGT1867_S075.mpg', 'Data/CorpusNGT/gloss/CNGT1867_S076.mpg', 'Data/CorpusNGT/gloss/CNGT1895_S077.mpg', 'Data/CorpusNGT/gloss/CNGT1897_S077.mpg', 'Data/CorpusNGT/gloss/CNGT1899_S077.mpg', 'Data/CorpusNGT/gloss/CNGT1899_S078.mpg', 'Data/CorpusNGT/gloss/CNGT1901_S077.mpg', 'Data/CorpusNGT/gloss/CNGT1904_S078.mpg', 'Data/CorpusNGT/gloss/CNGT1914_S077.mpg', 'Data/CorpusNGT/gloss/CNGT1914_S078.mpg', 'Data/CorpusNGT/gloss/CNGT1915_S077.mpg', 'Data/CorpusNGT/gloss/CNGT1915_S078.mpg', 'Data/CorpusNGT/gloss/CNGT1916_S077.mpg', 'Data/CorpusNGT/gloss/CNGT1916_S078.mpg', 'Data/CorpusNGT/gloss/CNGT1986_S080.mpg', 'Data/CorpusNGT/gloss/CNGT2035_S081.mpg', 'Data/CorpusNGT/gloss/CNGT2035_S082.mpg', 'Data/CorpusNGT/gloss/CNGT2036_S081.mpg', 'Data/CorpusNGT/gloss/CNGT2036_S082.mpg', 'Data/CorpusNGT/gloss/CNGT2045_S081.mpg', 'Data/CorpusNGT/gloss/CNGT2045_S082.mpg', 'Data/CorpusNGT/gloss/CNGT2142_S086.mpg', 'Data/CorpusNGT/gloss/CNGT2143_S085.mpg', 'Data/CorpusNGT/gloss/CNGT2144_S086.mpg', 'Data/CorpusNGT/gloss/CNGT2145_S085.mpg', 'Data/CorpusNGT/gloss/CNGT2146_S086.mpg', 'Data/CorpusNGT/gloss/CNGT2147_S085.mpg', 'Data/CorpusNGT/gloss/CNGT2148_S086.mpg', 'Data/CorpusNGT/gloss/CNGT2149_S085.mpg', 'Data/CorpusNGT/gloss/CNGT2149_S086.mpg', 'Data/CorpusNGT/gloss/CNGT2150_S085.mpg', 'Data/CorpusNGT/gloss/CNGT2150_S086.mpg', 'Data/CorpusNGT/gloss/CNGT2211_S087.mpg', 'Data/CorpusNGT/gloss/CNGT2212_S087.mpg', 'Data/CorpusNGT/gloss/CNGT2212_S088.mpg', 'Data/CorpusNGT/gloss/CNGT2220_S087.mpg', 'Data/CorpusNGT/gloss/CNGT2272_S090.mpg', 'Data/CorpusNGT/gloss/CNGT2276_S090.mpg']\n"
     ]
    }
   ],
   "source": [
    "print(len(keepvideofiles))\n",
    "print(keepvideofiles)"
   ]
  },
  {
   "cell_type": "code",
   "execution_count": 14,
   "metadata": {
    "colab": {
     "base_uri": "https://localhost:8080/"
    },
    "id": "cH1cEwcCcFpy",
    "outputId": "aea07033-ff03-4206-cbae-1212c5d6ee58"
   },
   "outputs": [
    {
     "name": "stdout",
     "output_type": "stream",
     "text": [
      "0\n"
     ]
    }
   ],
   "source": [
    "VideosRemovedCounter = 0\n",
    "for filename in os.listdir(ngtglossdir):\n",
    "    f = os.path.join(ngtglossdir, filename)\n",
    "    if f.split(\".\")[1] == \"mpg\":\n",
    "        if f not in keepvideofiles:\n",
    "            os.remove(f)\n",
    "            VideosRemovedCounter += 1\n",
    "\n",
    "print(VideosRemovedCounter)"
   ]
  },
  {
   "cell_type": "code",
   "execution_count": 15,
   "metadata": {
    "id": "zNbYrRA4IzlP"
   },
   "outputs": [
    {
     "name": "stdout",
     "output_type": "stream",
     "text": [
      "Requirement already satisfied: moviepy in c:\\users\\novan\\anaconda3\\lib\\site-packages (1.0.3)\n",
      "Requirement already satisfied: decorator<5.0,>=4.0.2 in c:\\users\\novan\\anaconda3\\lib\\site-packages (from moviepy) (4.4.2)\n",
      "Requirement already satisfied: tqdm<5.0,>=4.11.2 in c:\\users\\novan\\anaconda3\\lib\\site-packages (from moviepy) (4.65.0)\n",
      "Requirement already satisfied: requests<3.0,>=2.8.1 in c:\\users\\novan\\anaconda3\\lib\\site-packages (from moviepy) (2.31.0)\n",
      "Requirement already satisfied: proglog<=1.0.0 in c:\\users\\novan\\anaconda3\\lib\\site-packages (from moviepy) (0.1.10)\n",
      "Requirement already satisfied: numpy>=1.17.3 in c:\\users\\novan\\anaconda3\\lib\\site-packages (from moviepy) (1.24.3)\n",
      "Requirement already satisfied: imageio<3.0,>=2.5 in c:\\users\\novan\\anaconda3\\lib\\site-packages (from moviepy) (2.33.1)\n",
      "Requirement already satisfied: imageio-ffmpeg>=0.2.0 in c:\\users\\novan\\anaconda3\\lib\\site-packages (from moviepy) (0.4.9)\n",
      "Requirement already satisfied: pillow>=8.3.2 in c:\\users\\novan\\anaconda3\\lib\\site-packages (from imageio<3.0,>=2.5->moviepy) (10.2.0)\n",
      "Requirement already satisfied: setuptools in c:\\users\\novan\\anaconda3\\lib\\site-packages (from imageio-ffmpeg>=0.2.0->moviepy) (68.2.2)\n",
      "Requirement already satisfied: charset-normalizer<4,>=2 in c:\\users\\novan\\anaconda3\\lib\\site-packages (from requests<3.0,>=2.8.1->moviepy) (2.0.4)\n",
      "Requirement already satisfied: idna<4,>=2.5 in c:\\users\\novan\\anaconda3\\lib\\site-packages (from requests<3.0,>=2.8.1->moviepy) (3.4)\n",
      "Requirement already satisfied: urllib3<3,>=1.21.1 in c:\\users\\novan\\anaconda3\\lib\\site-packages (from requests<3.0,>=2.8.1->moviepy) (1.26.18)\n",
      "Requirement already satisfied: certifi>=2017.4.17 in c:\\users\\novan\\anaconda3\\lib\\site-packages (from requests<3.0,>=2.8.1->moviepy) (2024.2.2)\n",
      "Requirement already satisfied: colorama in c:\\users\\novan\\anaconda3\\lib\\site-packages (from tqdm<5.0,>=4.11.2->moviepy) (0.4.6)\n"
     ]
    }
   ],
   "source": [
    "!pip install moviepy\n",
    "\n",
    "from moviepy.video.io.VideoFileClip import VideoFileClip"
   ]
  },
  {
   "cell_type": "code",
   "execution_count": 16,
   "metadata": {
    "colab": {
     "base_uri": "https://localhost:8080/"
    },
    "id": "V3BvDRvecEpI",
    "outputId": "3508781a-cb42-4a31-f180-f4e46cf18ced",
    "scrolled": true
   },
   "outputs": [
    {
     "name": "stdout",
     "output_type": "stream",
     "text": [
      "Nr of translated videos in ECHO: \t\t16\n",
      "Nr of glossed videos in ECHO: \t\t\t20\n",
      "Nr of unique glosses in ECHO: \t\t\t465\n",
      "Nr of total glosses in ECHO: \t\t\t1141\n",
      "Nr of sentences in ECHO: \t\t\t614\n",
      "Average length of videos in ECHO: \t\t619.5733333333334 sec or 10.326222222222222 min\n",
      "Avg number of sentences per video in ECHO: \t38.375\n",
      "Avg number of glosses per video in ECHO: \t285.25\n",
      "Avg number of glosses per sentence in ECHO: \t7.4332247557003255\n",
      "Count for each gloss in ECHO: \t\t\t{'IND': 40, 'DORP': 5, 'LOCATIEINDIEREGIO': 1, 'AANWEZIG': 7, 'ÉÉN': 2, 'JONGEN': 1, 'HERDER': 7, 'ELKE': 2, 'MORGEN': 1, 'SCHAAP': 4, 'VAN': 1, 'MENSEN': 9, 'INDLOCATIE': 1, 'OPHALEN': 1, 'BIJ-ELKAAR-BRENGEN': 2, 'HEUVEL': 2, 'BASISHAND': 2, 'KUDDEDEHEUVELOP': 2, 'PLUS': 3, 'AVOND': 6, 'KUDDENAARBENEDEN': 1, 'TERUGNAARDEMENSENINHETDORP': 1, '(G-)PU': 14, 'BLIJVEN': 1, 'SCHAPEN-DRIJVEN': 1, 'SOMS': 3, 'TIJD': 4, 'ONTSPANN': 1, 'KIJKEN': 8, 'MOOI': 2, 'MAAR': 7, 'ELKE-DAG': 1, 'HELE': 1, 'DAG': 6, 'GRAZEN': 1, 'GENOEG-HEBBEN': 1, 'LATER': 2, 'IDEE': 3, 'GOED': 3, 'WILLEN': 5, 'GRAP': 2, 'DOEN-ALSOF': 1, 'SCHRIKKENBANG': 2, 'WOLF': 10, 'RENNEN': 12, 'ROEPEN': 1, 'SCHRIKKEN': 1, 'KIJKEN-IEDEREEN': 2, 'MES-IN-HAND': 1, 'LACHEN': 4, 'PERSONEN': 1, 'KIJKEN-NAAR-HERDER': 1, 'WEGWERPGEBAAR': 6, 'WEGGAAN': 2, 'KLAAR': 5, 'DAARNA': 10, 'OPNIEUW': 2, 'DOORGAAN': 5, '01-02-03': 1, 'KEER': 2, 'SCHAPEN': 5, 'ECHT': 1, 'BLATEN': 1, 'RENNEN(VANSCHAAP)': 4, 'BANG': 3, 'BANGGESCHROKKEN': 1, 'ZENUWACHTIG': 1, 'BESLUITELOOS': 1, 'HEEL-HARD-RENNEN': 1, 'NAAR': 1, 'ALSJEBLIEFT': 1, 'KOM-GAUW': 2, 'ARGWANEND-KIJKEN': 1, 'ECHT-WAAR': 1, 'ECHTZEKER': 1, 'KOM-NOU': 1, 'UITEINDELIJK': 1, 'TOCH': 3, 'ALLE-MENSEN-LOPEN-DE-BERG-OP': 1, 'IND-BOOG': 1, 'BIJTENOPETEN': 1, 'AL': 3, 'TE-LAAT': 3, 'HELLING': 1, 'ONTSPANNEN': 1, 'SCHIRKKEN': 1, 'SCHILDPAD': 17, 'HAAS': 10, 'ZIJ-TWEEËN': 1, 'LOPEN': 10, 'KIJKEN-NAAR-SCHILDPAD': 1, 'LOPEN-TRAAG': 1, 'KIJKEN-HAAS-NAAR-SCH-P': 1, 'IND1': 10, 'BEGRIJPEN': 4, 'ALTIJD': 1, 'LANGZAAM': 2, 'NAAR-DE-ANDERE-KANT': 4, 'LOPEN-SCHILDPAD': 1, 'OF': 1, 'VOORBIJ': 1, 'KIJKENNAARHAAS': 1, 'CLASSIF-POTENSCHILDPAD': 1, 'WIJ-TWEE': 1, 'WEDSTRIJD': 1, 'INDJIJ-EN-IK': 1, 'WEDDEN': 1, 'PROBEREN': 1, 'GRAS^VELD': 1, 'EERST': 1, 'KIJKENHAAS-NAAR-SCH-P-': 1, 'PRIMABAM': 1, 'EERSTE': 2, 'SNEL-WEG': 1, 'OK': 1, 'BEGINNEN': 1, 'RENNENSNEL': 1, 'SNELERVANDOORGAAN': 1, 'HEEL': 1, 'HEET': 1, 'ZON-SCHIJNEN': 1, 'WARM': 5, 'WEL': 1, 'VER-WEG': 1, 'SLAPEN': 5, 'ONDER': 2, 'STRUIK': 2, 'LIGGEN': 2, 'KLEIN': 1, 'DUTJE': 1, 'LIGGEN-TE-SLAPEN': 1, 'ZIEN': 3, 'OMHEENGAANVOORBIJGAAN': 1, 'WAKKER': 4, 'LANG': 1, '(P-)POTEN-ROLNEMEN': 1, 'WAAR': 4, '(P-)POTEN': 1, 'ZOEKEN': 1, 'PLANTBOOM': 1, 'VOORBIJSCHIETEN': 2, 'GRAS': 1, '(P-)-POTEN': 1, 'RONDKIJKEN': 1, 'ZIENONTDEKKEN': 1, 'IN-DE-VERTE': 1, 'FINISH': 2, 'MOET': 1, 'PASSEREN': 2, 'BIJNA-BIJ-FINISH': 1, 'STOPPEN': 1, 'ZEGGEN': 3, 'ZIE^JE^WEL': 1, 'MIDDAG': 2, 'BOOS': 2, 'DIER': 3, 'ANTWOORDEN': 1, 'APPEL': 2, 'RUZIE-MAKEN': 2, 'SCHAMEN': 2, 'VRAGEN': 2, 'TANTE': 2, 'HERFST': 3, 'SLECHT': 2, 'BEER': 3, 'OMDAT': 2, 'BETER': 2, 'BEST': 4, 'VOGEL': 3, 'GEBOREN': 3, 'ZWART': 2, 'BLOED': 2, 'BLAUW': 2, 'BOEK': 3, 'ADEMEN': 2, 'BROER': 2, 'BRUIN': 2, 'KOPEN': 2, 'KAN': 1, 'KAN-NIET': 1, 'AUTO': 4, 'KAT': 3, 'STOEL': 3, 'KIND': 2, 'KIEZEN': 2, 'CI(COCHLEAIREIMPLANTATIE)': 2, 'KLEREN': 4, 'WOLK': 4, 'KOUD': 4, 'KLEUR': 2, 'COMPUTER': 3, 'TELLEN': 3, 'GEK': 2, 'DANSEN': 6, 'DONKER': 4, 'DATUM': 3, 'DOCHTER': 2, 'DOOF-PERSOON': 1, 'DOVENCLUB': 2, 'DOOFBLIND': 2, 'DOODGAAN': 3, 'VESCHILLEND': 1, 'DINER(MAALTIJD)': 1, 'VIES': 2, 'DISCUSSIEREN': 2, 'HOND': 4, 'DROMEN': 2, 'DRINKEN': 2, 'AUTORIJDEN': 4, 'DROOG': 4, 'OOR': 2, 'OOG': 2, 'EI': 2, 'ACHT': 2, 'ACHTTIEN': 1, 'TACHTIG': 2, 'ELF': 2, 'EMAILEN': 3, 'LEEG': 3, 'ENGELAND': 3, 'VALLEN': 5, 'FAMILIE': 2, 'VERWEG': 2, 'VADER': 2, 'DIK(PERSOON)': 3, 'FAXEN': 3, 'WEINIG': 2, 'VIJFTIEN': 2, 'VIJFTIG': 2, 'VINGERSPELLEN': 2, 'VUUR': 6, 'VIS': 2, 'VIJF': 2, 'DRIJVEN': 3, 'BLOEM': 2, 'MIST': 3, 'VERBODEN': 4, 'VEERTIG': 2, 'VIER': 2, 'VEERTIEN': 2, 'BEVRIEZEN': 4, 'FRUIT': 2, 'VOL': 4, 'TOEKOMST': 2, 'OPSTAAN': 4, 'MEISJE': 2, 'GOD': 2, 'OPA': 2, 'OMA': 2, 'GROEN': 4, 'GRIJS': 2, 'HAAR': 2, 'HAND': 3, 'GELUKKIG': 2, 'HATEN': 4, 'SLECHTHOREND': 2, 'HOOFDPIJN': 2, 'HOREN': 2, 'HOREND-PERSOON': 1, 'GEHOORAPPARAAT': 4, 'HIER': 2, 'HUIS': 4, 'HOE': 3, 'NEDERLAND': 4, 'HONDERD': 2, 'HONGER': 2, 'ECHTGENOOT': 2, 'IK': 2, 'ALS': 2, 'ZIEK': 4, 'SLIM': 2, 'INTERNET': 4, 'TOLK': 4, 'JALOERS': 1, 'VERMOORDEN': 3, 'DODEN': 1, 'WETEN': 2, 'TAAL': 2, 'GROOT': 6, 'LEREN': 2, 'LIEGEN': 2, 'LICHT(T-O-DONKER)': 3, 'BLIKSEM': 2, 'LEVEND': 2, 'WONEN': 2, 'LEEUW': 3, 'HOUDEN-VAN': 1, 'LANG(TIJD)': 2, 'MAKEN': 6, 'MAN': 2, 'VEEL': 3, 'TROUWEN': 2, 'VLEES': 2, 'ONTMOETEN': 4, 'MOBIELE-TELEFOON': 1, 'MAAND': 2, 'MAAN': 2, 'OCHTEND': 3, 'MOEDER': 2, 'BERG': 2, 'MUIS': 2, 'MOETEN': 2, 'MIJN': 2, 'NAAM': 2, 'SMAL': 4, 'NIEUW': 2, 'LEUK': 2, 'NACHT': 2, 'NEGEN': 2, 'NEGENTIEN': 2, 'NEGENTIG': 2, 'NEE': 2, 'NIET': 2, 'NOGNIET': 2, 'NIETS': 3, 'NU': 2, 'HERRIELAWAAI': 1, 'TWAALFUURSMIDDAGS': 3, 'GETAL': 3, 'MIDDERNACHT(TWAALFUURSNACHTS)': 2, 'MILJOEN': 2, 'OUD': 2, 'EEN': 1, 'ORALISME': 2, 'OUDERS': 2, 'VERLEDENVROEGER': 2, 'BETALEN': 3, 'PERSOON': 2, 'SPELEN': 4, 'PAARS': 4, 'REGEN': 4, 'LEZEN': 4, 'ROOD': 2, 'ONTHOUDEN': 2, 'GOEDJUIST': 1, 'RIVIER': 2, 'WEG': 4, 'VERDRIETIG': 2, 'ZOUT': 2, 'ZELFDE': 4, 'SCHOTLAND': 2, 'SCHOOL': 2, 'ZEE': 2, 'VERKOPEN': 3, 'ZELF': 2, 'ZEVEN': 2, 'ZEVENTIEN': 2, 'ZEVENTIG': 2, 'SCHERP': 3, 'SCHREEUWEN': 3, 'VERLEGEN': 2, 'GEBAREN': 3, 'STIL': 2, 'ZINGEN': 3, 'ZUS': 2, 'ZITTEN': 3, 'ZES': 2, 'ZESTIEN': 2, 'ZESTIG': 2, 'LUCHTHEMEL': 2, 'GLIMLACHEN': 2, 'SMS-EN': 2, 'SLANG': 2, 'SNEEUW': 2, 'SOMMIGE': 2, 'ZOON': 2, 'ZUUR': 2, 'PRATEN': 2, 'LENTE': 4, 'STAAN': 4, 'STER': 2, 'STELEN': 2, 'STEEN': 3, 'RECHTDOOR': 2, 'ZOMER': 3, 'ZON': 2, 'VERBAASD': 3, 'ZOET': 2, 'ZWEDEN': 4, 'LANG(PERSOON)': 2, 'ONDERWIJZEN': 4, 'LERAAR': 4, 'PLAGEN': 3, 'TELEFOON': 2, 'TIEN': 2, 'DRIE': 2, 'ERIS(AANWEZIG)': 1, 'DUNMAGER': 2, 'NADENKEN': 3, 'DORST': 2, 'DERTIEN': 2, 'DERTIG': 2, 'DUIZEND': 2, 'DONDER': 4, 'MOE': 3, 'BOOM': 3, 'BEDRIEGEN': 2, 'TWAALF': 2, 'TWINTIG': 2, 'ACHTENTWINTIG': 2, 'VIJFENTWINTIG': 2, 'VIERENTWINTIG': 2, 'NEGENENTWINTIG': 1, 'EENENTWINTIG': 2, 'ZEVENENTWINTIG': 1, 'ZESENTWINTIG': 2, 'DRIEENTWINTIG': 2, 'TWEEENTWINTIG': 2, 'TWEE': 2, 'OOM': 2, 'BEZOEKEN': 3, 'WALES': 1, 'WATER': 4, 'WEEK': 2, 'WAT': 2, 'WIT': 2, 'WANNEER': 2, 'WIE': 2, 'WAAROM': 4, 'WELKE': 2, 'WINTER': 3, 'VROUW': 2, 'SLECHTER': 2, 'SLECHTST': 2, 'SCHRIJVEN': 2, 'FOUT': 2, 'JAAR': 3, 'GEEL': 2, 'JA': 2, 'JIJ': 2, 'JOUW': 2, 'NUL': 2, 'CLUB': 2, 'VERSCHILLEND': 2, 'DINER(MAALTIJD': 1, 'LICHT': 1, 'BESCHULDIGEN': 1, 'ANTWOORD': 1, 'RUZIEMAKEN': 1, 'KUNNEN': 1, 'KANNIET': 1, 'DOOF': 1, 'VERSCHILLENDE': 2, 'DINER': 2, 'DISCUSIEREN': 2, 'ACHTIEN': 1, 'DOOS': 2, 'DRIJVEN(DOOS)': 2, 'HOREND(PERSOON)': 1, 'JALOURS': 1, 'LEVEN': 2, 'HOUDENVAN': 1, 'MOBIELETELEFOON': 1, 'LAWAAI': 2, 'MIDDERNACHT': 1, 'VERLEDEN': 1, 'JUISTGOED': 1, 'HEMEL': 1, 'SNEEUWEN': 2, 'ERISAANWEZIG': 1, 'DUN(LIJN)': 1, 'BEFRIEGEN': 1, 'NEGENTWINTIG': 1, 'ZEVENTWINTIG': 1, 'SWCHREEUWEN': 1}\n",
      "\n",
      "Nr of glossed videos in CNGT: \t\t\t604\n",
      "Nr of unique glosses in CNGT: \t\t\t3781\n",
      "Nr of total glosses in CNGT: \t\t\t118341\n",
      "Average length of videos in CNGT: \t\t157.27872516556292 sec or 2.6213120860927153 min\n",
      "Avg number of glosses per video in CNGT: \t195.92880794701986\n",
      "Count for each gloss in CNGT: \t\t\t{'GLOSS': 604, 'LANG-B': 18, 'PO': 11358, 'ZONDAG-A': 21, 'FIETSEN': 155, 'LOPEN-D': 136, 'WATER-A': 52, 'SPRINGEN-B': 2, 'STAAN-D': 28, 'BEEN-B': 10, 'GEK-A': 18, 'HOND-A': 71, 'SPRINGEN-A': 4, 'DUWEN': 4, 'MOVE-EC-5S': 10, 'MEE': 225, 'MOVE-EC-5': 168, 'GOOIEN': 80, 'KLAAR-A': 463, 'KLEREN-B': 83, 'VOCHTIG': 8, 'LACHEN-A': 50, 'UITKLEDEN-B': 8, 'VAN-A': 229, 'BROEK': 30, 'AANKLEDEN-A': 12, 'AL': 509, 'WACHTEN-A': 58, 'DROOG-A': 4, 'AANKLEDEN-B': 10, 'WEG-C': 149, 'MOVE-EC-1': 340, 'BROOD-B': 6, 'JAM-A': 4, 'ONDERWIJS': 306, 'INTERNAAT-C': 2, 'ONGESTELD': 2, 'VERSCHILLENDE-A': 203, 'DUS-A': 12, 'ZENUWACHTIG-D': 18, 'OPGELUCHT-A': 11, 'BETER': 213, 'VERSLAAN': 3, 'GOED-B': 100, 'LOPEN-B': 26, 'PANTOFFELS': 4, 'BE-EC-B': 1, 'UUR-7-B': 10, 'BINNEN': 514, 'MOETEN-A': 466, 'LAATSTE-A': 13, 'PT': 17998, 'MOOI-A': 315, 'HANDEN-WRIJVEN-B': 80, 'SCHRIKKEN-B': 60, 'SCHRIKKEN-A': 56, 'SCHREEUWEN-A': 12, 'VLUCHTEN': 37, 'KAPOT': 99, 'BE-EC-4': 189, 'HOUDEN-VAN': 38, 'SCHOOL-C': 22, 'ZATERDAG-B': 3, 'KAART-A': 12, 'BE-HC-MONEY': 18, 'BEZOEK-A': 29, 'TREIN': 34, 'BRIEF-A': 18, 'KUNNEN-A': 991, 'WAAR-A': 101, 'OPEN-C': 25, 'GEZELLIG': 74, 'PRATEN-F': 4, 'VERHAAL': 94, 'PRECIES': 106, 'KERK': 5, 'WIJ': 111, 'GAAN': 292, 'S': 16, 'MOEDER-A': 102, 'RUIMTE': 315, 'HOND-C': 13, 'HONDENRIEM': 1, 'ALTIJD-A': 138, 'DAN-A': 328, 'EIGEN-B': 42, 'RIVIER': 1, 'LAAT-MAAR': 478, 'STINKEN-A': 4, 'POEP': 2, 'EVEN': 26, 'ANDERE-KANT-B': 26, 'SNEL-A': 64, 'WILLEN-NIET': 27, 'LACHEN-B': 12, 'ERG-A': 160, 'HEE': 587, 'WAT-A': 224, 'POT': 5, 'DUUR': 18, 'ECHT-A': 107, 'SCHOOL-A': 172, 'OPGROEIEN': 170, 'VOLWASSEN-PL': 1, 'BAKVIS': 1, 'NOG-NIET': 73, 'HAREN': 3, 'JONGEN-A': 40, 'GRAAG-B': 20, 'ZIEN-A': 570, 'NAGELBIJTEN': 14, 'PRETTIG-A': 81, 'ROEPEN': 38, 'DURVEN': 18, 'STIL-A': 30, 'OOK-A': 289, 'ZOEKEN': 65, 'BE-EC-4RO': 84, 'MOVE-EC-4RO': 43, 'KWAST': 1, 'OP-B': 49, '1-A': 521, 'AFSPRAAK-C': 3, 'DRAW-4RO': 61, 'KIJKEN-A': 514, 'WEG-E': 28, 'MEISJE-A': 17, 'EMOTIE-B': 3, 'ALLEMAAL-A': 126, 'STOUT-B': 7, 'VROEGER-A': 330, 'RELATIE': 66, 'HOP': 92, 'POPT': 1072, 'KOMEN-A': 310, 'NEE-C': 75, 'AANBELLEN': 10, 'OPSTUREN-A': 29, 'HEBBEN-A': 411, 'TELEFOON-D': 4, 'WC-D': 2, 'DEKSEL': 3, 'TELEFOON-B': 4, 'GROEP-A': 432, 'WANDELEN': 38, 'BE-HC-5RC': 3, 'MOVE-CL-5RC': 1, 'PANIEK-A': 104, 'DOEN-A': 248, 'HELPEN-A': 170, 'WASSEN-C': 4, 'DRAW-4': 105, 'INPAKKEN': 3, 'TELHAND-2-B': 52, 'TELHAND-3-A': 25, 'TAS': 8, 'MOVE-EC-4': 306, 'KAMP-A': 19, 'GEBEUREN-A': 91, 'JEUGDHERBERG': 3, 'AMSTERDAM': 169, 'SCHRIJVEN-D': 104, 'REGELS-A': 119, 'SCHRIJVEN-B': 61, 'UITKLEDEN-A': 12, 'JONG-A': 80, '20-B': 11, 'OUD-A': 97, 'DOOF-A': 442, 'DOOF-C': 367, 'VROUW-A': 66, 'BE-HC-4ROS': 14, 'EI-A': 5, 'BE-HC-5RS': 2, 'VER': 35, 'SORRY-D': 28, 'DENKEN': 443, 'ANDERS-B': 206, 'MIS-A': 18, 'BELGIE-B': 12, 'MAAR': 550, 'ETEN-A': 49, 'ACHTER-A': 18, 'SUIKER': 3, 'SCHEUR': 1, 'HAGELSLAG-A': 2, 'HELE': 13, 'VANDAAR-A': 64, 'NEE-B': 125, 'N': 18, 'WEGGAAN-A': 106, 'SLAPEN-A': 51, 'WIE-A': 47, 'EERST': 117, 'SLIM-A': 14, 'TOCH-B': 101, 'GRAPPIG-A': 77, 'STOUT-A': 7, 'LEKKER-A': 53, 'VROEGER-B': 33, 'WC-C': 6, 'OPA-D': 1, 'GEHANDICAPT-A': 577, 'NOOIT-B': 117, 'WETEN-A': 329, 'VERTELLEN': 195, 'ALLES-A': 162, 'OF': 367, 'ZO-A': 384, 'PLOTSELING': 24, 'VOLGEN': 181, 'STOK-A': 20, 'TELHAND-2-A': 106, 'KLOPT-D': 24, 'BEGRIJPEN': 232, 'CULTUUR': 74, 'VOELEN-A': 203, 'ZEGGEN': 533, 'HALLO': 44, 'ZELF': 508, 'TOEVALLIG-B': 7, 'PUNT-A': 5, 'BEDOELEN': 344, 'BESTEMPELEN-A': 7, 'VERVELEN-A': 3, 'ORAAL-B': 18, 'MOEILIJK': 227, 'VRAGEN': 149, 'NU-A': 424, 'NIEUW-A': 90, 'HOREN-A': 628, 'KLOPT-A': 158, 'VERBAASD-A': 5, 'CONGRES': 6, 'GEBAREN-A': 2439, 'TELHAND-1-A': 42, 'PRIMA': 122, 'COMMUNICEREN': 225, 'DISCUSSIEREN': 94, 'NIET-B': 212, 'ROLSTOEL-C': 87, 'BLIJVEN': 380, 'NAAR': 170, 'NAAMGEBAAR': 55, 'REGERING-A': 4, 'AANSLUITEN': 17, 'WERKEN-A': 211, 'HAND': 22, 'ZIEN-B': 53, 'AF-A': 35, 'PV': 461, 'KLOPT-B': 48, 'PAKKEN-A': 239, 'GEVANGENIS': 4, 'VAAK': 58, 'TOLK': 161, 'VERPLAATSEN': 8, 'VRIEND-A': 200, '4-A': 63, 'CANADA': 2, 'VEEL-A': 194, 'KOMEN-B': 87, 'BUITENLAND': 12, 'EUROPA-C': 3, 'ENGELAND-B': 10, 'TAAL-D': 3, 'GOED-A': 922, 'AFRIKA-B': 3, 'EGYPTE': 1, 'BEETJE': 52, 'TELHAND': 123, 'GROOT-B': 11, 'CONTROLEREN': 8, 'NIET-A': 476, 'BIJ-D': 8, 'SLECHT-B': 17, 'GISTEREN': 31, 'AVOND-B': 13, 'OP-A': 45, 'OMDAT-A': 302, 'BETEKENEN': 145, 'RADIO': 3, 'VERVELEND': 20, 'BEDANKEN-A': 20, 'VREEMD-A': 7, 'NIEUW-B': 177, 'JA-A': 995, 'OUD-B': 65, 'MAN-A': 94, 'STRAF-A': 5, 'POLITIE-A': 20, 'MOVE-CL-5': 5, 'LATER-C': 34, 'NOOIT-D': 3, 'ALLEEN-A': 27, 'FOUT-B': 15, 'LEREN': 157, 'TWEEEN-A': 155, 'BESTE-B': 9, 'PRATEN-A': 255, 'ANDERE-KANT-A': 74, 'VECHTEN': 45, 'SAMEN-A': 452, 'WEG-D': 67, 'BLIND-A': 95, 'ZENUWACHTIG-C': 18, 'INTEGREREN': 22, 'APART-A': 11, 'ZITTEN-A': 68, 'AANPASSEN': 112, 'EDE': 15, 'OPKOMEN': 18, 'SPORT': 84, 'APART-B': 85, 'JAMMER-B': 23, 'KOMEN-C': 19, 'VEEL-B': 129, 'AANLEUNEN': 1, 'WONEN-B': 4, '2-A': 222, 'MENS': 205, 'DAG': 43, 'ERBIJ-A': 27, 'HEFTIG': 226, 'GELUKKIG': 58, 'PT-PO': 85, 'STEM-A': 72, 'PRATEN-E': 44, 'STEMMEN': 1, 'VOOR-D': 61, 'CLUB-A': 32, 'WEL': 102, 'WELKE-A': 4, 'LUISTEREN': 64, 'ONDER': 39, 'HANDIG': 9, 'GEHANDICAPT-C': 54, 'MAGER-A': 8, 'GROEP-C': 120, 'OVER-A': 97, 'KRANT-A': 18, 'KLAGEN-A': 5, 'HOOFD-C': 4, 'VERSTAND': 50, 'VISUEEL': 15, 'E': 10, 'DOVEN': 1, 'DOVE': 1, 'MOVE-HC-MONEY': 59, 'VRIJ-C': 7, 'INFORMEREN': 68, 'KIND-PL': 101, 'DOOR-ELKAAR-B': 36, 'ZELFDE-A': 1197, 'OEFENEN-A': 81, 'ENZOVOORTS-B': 47, 'GEBOREN-A': 163, 'TEGEN-A': 71, 'BLIJ-B': 25, 'ONTWIKKELEN-B': 49, 'WELKOM': 18, 'CONTACT': 229, 'WEGGOOIEN': 34, 'MISSCHIEN-A': 111, 'NODIG-C': 52, 'ZWAK': 26, 'VOOR-C': 46, 'GELUID': 21, 'ONDERSTEUNEN': 71, 'GEHOORAPPARAAT': 99, 'THUIS-A': 59, 'STERK': 95, 'KLEIN-D': 38, 'DOCHTER': 41, 'C': 24, 'CI-A': 210, 'BLIJ-A': 12, 'PAS-B': 30, 'LIEF-A': 12, 'ALS-B': 83, 'DRUK': 31, 'KENNEN-A': 75, 'STEM-D': 4, 'SOMMIGEN': 8, 'HYPOCRIET': 1, 'KIND-A': 192, 'KLEIN-A': 78, 'BIJVOORBEELD-A': 66, 'CI': 34, 'VOOR-A': 68, 'GELOVEN': 43, 'MEER-A': 242, 'PAS-A': 45, 'TAAL-B': 312, 'LASTIG': 23, 'ELKE-C': 2, 'ONTWIKKELEN-A': 240, 'LICHAAM-A': 56, 'GEBOREN-B': 11, 'GROOT-A': 127, 'KLEIN-C': 45, 'GEHANDICAPT-B': 87, 'OVERDRIJVEN-A': 4, 'ZOON': 43, 'VADER-B': 26, 'MENS-PL': 58, 'LUKKEN-A': 19, 'PROBLEEM': 98, 'SCHRIJVEN-C': 11, 'GELUK-B': 6, 'MOVE-HC-4RC5': 6, 'MOVE-EC-4R5': 1, 'STRAKS': 17, 'SCHOOL-D': 11, 'ROEPEN-B': 37, 'KLEIN-B': 148, 'PRATEN-C': 47, 'SOMS-A': 131, 'VERZOEKEN': 32, 'NAAM-C': 10, 'I': 33, 'LIEF-B': 18, 'PERFECT': 55, 'BEGINNEN-A': 88, '6-A': 15, 'GAUW': 25, 'LOGOPEDIE-A': 91, 'ORAAL-A': 85, 'MAMA': 22, 'VADER-A': 30, 'JAAR-B': 120, 'LANGZAAM': 32, 'L': 17, 'R': 16, 'NEE-A': 13, 'ZUS-B': 3, 'ROTTERDAM-B': 13, 'SORRY-A': 11, '5': 62, '70-A': 4, 'LIEGEN': 4, '60-A': 11, '100-A': 33, 'PROCENT-A': 7, 'O': 17, 'VERLEGEN-A': 3, 'PB': 100, 'GENOEG': 34, 'TEVREDEN-B': 7, 'PRATEN-D': 21, 'WEG-B': 115, 'BE-EC-5': 61, 'TEST': 69, 'ZWANGER-A': 62, 'ZIEK-B': 65, 'ZELFDE-B': 229, 'ANDERSOM': 42, 'ZELFDE-C': 26, 'LEVEN-B': 89, 'EIGENLIJK': 128, 'MODERN': 19, '2-ORD': 32, 'GRAAG-A': 115, 'ABORTUS': 50, 'ONZIN-B': 4, 'TOT-B': 18, 'MONGOOL': 3, 'BANG-A': 39, 'DAN-B': 107, 'WILLEN-A': 194, 'ZWAAR-C': 14, 'BLIJ-C': 10, 'DWN': 1, 'DOWN': 4, 'ALLEEN-B': 50, 'AF-B': 11, 'IETS-A': 34, 'ERVARING-B': 2, 'BUIK': 3, 'LOGISCH': 79, 'TEVREDEN-A': 21, 'TERUG': 119, 'ZWANGER-B': 5, 'GORDIJN': 6, 'SLAPEN-B': 11, 'WEG-A': 107, 'PASSIEF': 36, 'NIKS-C': 23, 'IN-A': 179, 'TEGEN-B': 23, 'BEMOEIEN-A': 2, 'VERSTOPPEN-B': 5, 'EIGEN-A': 47, 'SOP': 14, 'IN-D': 12, 'MAL': 18, 'IN-C': 29, 'ERFELIJK': 2, 'IVF': 7, 'ONTSPANNEN-B': 10, 'ZORGEN-A': 52, 'HART-B': 2, 'ANDERS-C': 7, 'PERSOON-C': 8, 'ZEKER': 115, 'PRATEN-B': 222, 'EERLIJK-C': 2, 'WAAROM': 145, 'HUILEN-A': 19, 'VARIATIE': 50, 'OUDERS-B': 30, 'PRETTIG-B': 10, 'MOOI-B': 14, 'ALLEMAAL-B': 39, 'GRAAG-C': 4, 'MAKEN-A': 106, 'NIEUW-C': 6, 'SCHOON': 4, '3-ORD-A': 9, 'WILLEN-B': 24, '20-A': 20, 'BAAS': 15, 'MAKKELIJK': 111, 'BELLEN': 16, 'REAGEREN': 24, 'ONDERDANIG': 16, 'BEWEGEN': 10, 'HOOG': 33, 'AMERIKA': 55, 'REGERING-B': 15, 'BAAS-B': 2, 'OMGAAN-A': 29, 'OPVOEDEN': 17, 'SPELEN-B': 8, 'VERDWIJNEN-C': 90, 'COMPUTER-A': 116, 'VLAKBIJ-A': 22, 'ZUINIG': 4, 'INZETTEN': 34, 'HALEN': 39, 'DOKTER-A': 35, 'BEL': 2, 'DING-PL': 49, 'ROEPEN-A': 104, 'TIJD-A': 147, 'SLAAN-A': 30, 'NU-B': 72, 'ZWAKBEGAAFD-A': 4, 'MISSELIJK': 7, 'OVERNEMEN': 140, 'INTERNAAT-B': 27, 'GELD': 95, 'SORRY-B': 7, 'FILMEN-A': 33, 'OVERLEGGEN-A': 15, 'BESTAAN-A': 17, 'AANWEZIG': 208, 'VERDWIJNEN-B': 12, 'HUIS-B': 46, 'ORGANISEREN': 30, 'ONGEVEER': 196, 'ANTWOORD-A': 12, 'J': 4, 'EINDELIJK-A': 33, 'PERIODE-A': 29, 'BOND': 2, 'PERIODE-B': 10, 'AFHANKELIJK-C': 8, 'TWEEEN-C': 23, 'NADENKEN-A': 66, 'ZWEMMEN-A': 61, 'BESTUUR': 16, 'SCHEIDEN': 2, 'JE-BEST-DOEN': 31, 'VREEMD-B': 29, 'VERANDEREN-A': 125, 'KAARTEN': 14, 'WATERPOLO': 3, 'MINDER-A': 93, 'DRINKEN-A': 85, 'GUYOT': 20, 'INTERNATIONAAL': 64, 'GEBAREN-C': 178, 'AFHANKELIJK-A': 42, 'VERSCHIL-A': 160, 'REGIO-A': 68, 'WEIGEREN': 12, 'COMPUTER-B': 20, 'ANDERS-A': 138, 'LENTE': 2, 'HOTEL-A': 12, 'ONTSTAAN': 32, 'SCHOOL-B': 66, 'ST-MICHIELSGESTEL': 80, 'BEZOEK-D': 5, 'BEZOEK-C': 7, 'GRONINGEN': 229, 'HOE-D': 29, 'VERANDEREN-B': 104, 'CREATIEF': 5, 'HEEN-EN-WEER': 8, 'SUKKEL-B': 3, 'VLAG-PL': 1, 'LEUK': 242, 'BEZIG': 23, 'DORDRECHT-A': 2, 'CURSUS-A': 10, 'WELKE-C': 1, 'VINDEN-B': 44, 'HALT': 17, 'TELHAND-5': 20, 'VERZAMELEN-A': 8, '22': 5, 'ONTMOETEN-C': 36, 'TELHAND-4-A': 18, 'TERUGTREKKEN': 9, 'A': 17, 'B': 11, 'D': 18, 'VINGERSPELLEN': 87, 'MERKEN': 28, 'Z': 2, 'KIEZEN': 123, 'EFFATHA': 12, 'BALEN-E': 1, '9-A': 3, 'MAAKT-NIET-UIT': 149, 'ARNHEM': 1, '3-B': 76, 'VERHUIZEN-A': 16, 'WERELD-A': 170, 'OOK-C': 10, 'NEDERLAND-A': 194, 'ERBIJ-B': 11, 'WC-B': 6, 'TUSSEN': 23, 'VERPLICHTEN-A': 33, 'STUDEREN': 32, 'BESLUITEN-A': 119, 'ZIN': 46, 'DUITSLAND-A': 15, 'WC': 1, 'W': 8, 'TAAL-C': 8, 'KUNNEN-NIET-A': 74, 'UIT-A': 9, 'AUTOMATISCH-B': 4, 'BOOM-A': 14, 'WASSEN-B': 2, 'GEHOORZAAM': 5, 'MEER-C': 17, 'LUKKEN-B': 4, 'REGIO-B': 64, 'T': 19, 'MAANDAG-A': 17, 'MAANDAG-B': 5, 'DINSDAG-B': 8, 'WOENSDAG-B': 5, 'DONDERDAG-B': 2, 'VRIJDAG-B': 2, 'RAAR': 21, 'TELEVISIE-B': 9, 'WOORD-A': 181, 'HOE-B': 243, 'MOVE-CL-1': 6, 'TYPEN': 85, 'VULLING': 2, 'ALLES-B': 63, 'SOCIAAL': 40, 'SOCIALE-WERKPLAATS': 22, 'VERGETEN-A': 54, 'VERGETEN-B': 11, 'MEDICIJN-A': 5, 'IDEE': 59, 'GEVEN-B': 43, 'BELANGRIJK-B': 44, 'SENSEO-B': 62, 'SLURF': 13, 'SENSEO-A': 67, 'JAMMER-A': 22, 'OVER-C': 22, 'ZIEK-A': 5, 'TAND': 7, 'BEUGEL': 1, 'GEVEN-A': 30, 'OPNEMEN-A': 177, 'NIET-C': 162, 'EMAIL-C': 5, 'BOEK': 64, 'KOFFIE-A': 34, 'KOFFIE-B': 10, 'LEZEN': 34, 'TOCH-A': 307, 'BESTEMPELEN-B': 18, 'NEUSGATEN': 4, 'DRAW-1RO': 38, 'SENSEO-E': 7, 'PAPA-A': 11, 'GEBOUW-B': 36, 'SCHEPJE': 13, 'ONTHOUDEN': 24, 'VOELEN-B': 104, 'THEE': 6, 'OCHTEND-D': 8, 'PAARD-C': 17, 'GELIJK-HEBBEN': 59, 'PAARD-B': 36, 'KRANT-B': 15, 'MOEDER-B': 4, 'MATERIAAL': 30, 'FRANKRIJK': 14, 'NOG-B': 24, 'JOURNAAL-A': 1, 'VERWARD-A': 24, 'ROOS': 1, 'BLOEM-B': 11, 'ROS': 1, 'VREEMD-C': 6, 'SCHUUR-B': 7, 'VADER-C': 5, 'VADER-D': 2, 'HEER': 3, 'M': 14, 'NAAM-B': 4, 'UITVOEREN': 1, 'AUTO': 177, 'JANUARI-A': 2, 'APRIL': 10, 'SCHUUR-A': 6, 'F': 8, 'OPSCHEPPEN-B': 1, 'OM': 71, 'VREEMD': 1, 'VREEMD-D': 13, 'FEBRUARI-B': 7, 'MEI-B': 1, 'S-UUR': 1, 'SFJUUR': 1, 'SF-SFUUR': 1, 'PAPA': 3, 'P': 8, 'DRIEEN': 3, 'PLAT-B': 16, 'BOS-B': 2, 'SAMEN-C': 8, 'BEER-A': 11, 'ZENUWACHTIG-A': 30, 'KLIMMEN-A': 74, 'GESCHIEDENIS-A': 44, 'RUSTIG': 97, 'OVERLEDEN': 25, 'LIGGEN-B': 49, 'LOPEN-C': 48, 'ROLLEN': 35, 'SNUFFELEN': 21, 'OPGEVEN-A': 12, 'MOVE-EC-2': 213, 'OPSTAAN-C': 6, 'DEEL-C': 2, 'DEEL-B': 4, 'PERSOON-A': 220, 'OPLOSSEN-A': 20, 'DOOD-A': 36, 'BEER-B': 84, 'BE-EC-1': 52, 'SLAAN-B': 27, 'RUIKEN': 14, 'SNUFFELEN-B': 20, 'MOVE-HC-4': 14, 'ADEMEN-A': 11, 'MOVE-EC-2R': 385, 'SNUFFELEN-C': 20, 'EVEN-DENKEN-D': 142, 'DEEL-A': 48, 'EINDE': 4, 'STEL-A': 195, 'BOT': 70, 'TWIJFEL': 60, 'UITDAGEN-B': 6, 'GROMMEN': 28, 'LOSLATEN': 28, 'MOVE-EC-5RS': 3, 'OK': 150, 'EVEN-DENKEN-C': 9, 'HOND-B': 21, 'SLAGER-A': 16, 'VLEES-A': 29, 'DORP': 19, 'HEUVEL': 12, 'BRUG-A': 14, 'WATER-C': 12, 'HIJGEN': 18, 'ADEMEN-B': 4, 'NOG-A': 48, 'JALOERS': 5, 'HONGER-A': 5, 'STELEN': 13, 'SPIEGEL': 16, 'FUCK': 3, 'MAGER-B': 2, 'DOM-A': 28, 'SENCITY': 12, 'ZATERDAG-A': 33, 'OPGELUCHT-B': 16, 'TAXI-A': 2, 'DISCO-A': 32, 'OPPERVLAK': 50, 'STEVIG': 18, 'LOPEN-E': 71, 'LICHAAM-B': 71, 'VORM-A': 35, 'STAAN-B': 8, 'BE-HC-0': 134, 'JAS-B': 6, 'VOL': 2, 'OPEN-A': 55, 'DANSEN-B': 36, 'LICHT-A': 13, 'MUZIEK': 50, 'HARD-C': 17, 'CAFE-A': 25, 'MOVE-EC-5R': 25, 'ONTMOETEN-B': 6, 'BUS-B': 12, 'LAAT-B': 2, 'KOUD-A': 17, 'SLAPEN-C': 8, 'WINKELEN-A': 17, 'WOW': 3, 'ROTTERDAM-A': 20, 'KRIJGEN-B': 51, 'DRAW-5': 60, 'BLOEM-A': 6, 'UTRECHT-A': 2, 'VRIEND-D': 9, 'MOGEN-A': 75, 'PLAATS-A': 7, 'H': 19, 'HOER': 1, 'MOVE-HC-0': 121, 'WAAR-D': 1, 'BLIJKEN': 92, 'OPNIEUW': 17, 'LOPEN-A': 69, 'AT-EC-5R': 11, 'UUR-HALF': 8, 'UUR-5': 3, 'MOE-B': 7, 'WACHTEN-C': 2, 'KWARTIER-3': 1, 'LATER-A': 154, 'VERDER-B': 16, 'STATION-A': 1, 'U': 5, 'VINDEN-A': 135, 'VORIGE': 12, 'LANG-A': 50, 'VLIEGEN-A': 24, 'WEEK-PL': 6, 'GEUR': 5, 'HAWAII': 6, 'SPANNEND': 18, 'KRIEBELS-IN-DE-BUIK': 3, 'KEER': 112, 'NIKS-A': 141, 'BUITEN-B': 9, '8-B': 23, 'OMGEVING-B': 29, 'DOOR-ELKAAR-A': 18, 'RENNEN-A': 69, 'TELHAND-1-B': 63, 'AFSPRAAK-A': 28, 'MOVE-EC-B': 2, 'KNUFFELEN': 8, 'FILE': 10, 'AUTORIJDEN': 88, 'TAART-B': 2, 'NATUUR-A': 13, 'BOS-A': 35, 'SURFEN-A': 2, 'EVEN-DENKEN-A': 4, 'VAKANTIE': 16, 'UUR-LANG-2-A': 3, 'EUROPA-B': 1, '18-A': 2, 'UUR-A': 7, 'CHICAGO': 3, 'PTPT': 38, 'EERLIJK-B': 12, 'ENGELAND-A': 24, 'KAART': 1, 'PANIEK-C': 29, 'COMMUNICATIE-VERBROKEN': 10, 'MIS-B': 15, 'LA': 2, 'NIEMAND-A': 14, 'TELEFOON-A': 31, 'BLIJ-D': 3, 'AANBIEDEN': 33, 'REIZEN-A': 14, 'AVOND-A': 26, 'STOPPEN': 16, 'UUR-12': 2, 'KERMIS': 3, 'HUIS-A': 114, 'DEN-BOSCH': 11, 'STOPLICHT': 3, 'NIEMAND-B': 6, 'LAATSTE-B': 33, 'VERWACHTEN': 33, 'GEK-C': 2, 'UITLEGGEN': 38, 'KRUISING': 2, 'BEKEURING': 2, 'GA-MAAR': 22, 'DRAW-1C': 40, 'BE-HC-1RC': 5, 'SAAI-A': 11, 'OVERGEVEN': 13, 'LENEN-B': 1, 'ONRUSTIG': 1, 'NACHT': 11, 'VERZUIMEN': 1, 'PAKKEN-B': 18, 'BROER-B': 7, 'ROOD': 21, 'DOORGAAN': 38, 'BRUTAAL-C': 1, 'PARKEREN-A': 4, 'LACHEN-C': 4, 'SMOES': 4, 'UITSPREKEN': 1, 'MOVE-CL-4': 1, 'DATUM': 3, 'DIEP': 12, 'SCHAMEN-A': 13, 'DEUR': 23, 'AT-EC-2R': 32, 'MIDDEN': 32, 'NAAST': 36, 'WAKKER': 28, 'OPEN-B': 8, 'UITSTAPPEN': 19, 'VERKEER': 4, 'DRONKEN-A': 1, 'VIJVEN': 2, 'MOE-A': 17, 'SNEL-B': 3, 'SCHIETEN-B': 1, 'WC-A': 6, 'STINKEN-B': 5, 'BLAASTEST': 1, 'OH': 20, 'ERVARING-A': 92, 'ZELFSTANDIG': 42, 'NODIG-A': 59, 'BEGELEIDEN-A': 18, 'PRATEN-I': 3, 'AFWEGEN': 130, 'DOOF-B': 352, 'HOREN-B': 62, 'BIJ-A': 138, 'STEL-B': 22, 'MEE-EENS-A': 53, 'PERSOONLIJK': 27, 'HALF-A': 55, 'BE-EC-ARM': 3, 'VI': 1, 'BLIND-C': 3, 'UITLATEN': 2, 'OOR': 57, 'V': 12, 'APART-C': 62, 'REGELEN': 32, 'PROTEST-B': 5, 'WAT-B': 103, 'ECHT-B': 88, 'LESGEVEN': 130, 'ACCEPTEREN': 92, 'VAN-B': 64, 'TELHAND-3-B': 37, 'IS': 72, 'DOEL': 11, 'ADVIES': 6, 'BESLUITEN-B': 12, 'TWEETALIG': 54, 'VERSPREIDEN-B': 56, 'BIJ-C': 15, 'ENE-KANT-ANDERE-KANT-A': 45, 'KLOPT-C': 43, 'BELANGRIJK-A': 36, 'TAAL-A': 192, 'DING': 31, 'VOORDEEL': 22, 'MEE-EENS-B': 42, 'ZONDER': 4, 'TOEKOMST': 58, 'STAAN-A': 27, 'ONTMOETEN-A': 137, 'GEBRUIKEN-A': 79, 'VERTRAGING': 3, 'MEER-D': 23, 'BALANS': 2, 'UITWISSELEN-A': 40, 'MISSCHIEN-B': 56, 'OPNEMEN-B': 2, 'IN-B': 6, 'IEDEREEN-B': 9, 'BIJZONDER': 14, 'TELLEN': 5, 'MOND': 10, 'ALSOF-A': 3, 'SCHULD': 5, 'HOEFT-NIET-A': 47, 'WEEK': 18, 'LEEGHOOFD': 6, 'VERSCHILLENDE-B': 91, 'ONTWIKKELEN': 2, 'EXTRA-A': 8, 'ENZOVOORTS-C': 27, 'EVEN-WACHTEN': 88, 'NADEEL': 5, 'PROBEREN-A': 80, 'BASIS': 35, 'WISKUNDE-B': 1, 'BESTE-A': 10, 'MEER-B': 28, 'FAMILIE-B': 10, 'DOOR-A': 119, 'BESTAAN-D': 2, 'FEEST-B': 40, 'KLAP': 36, 'GEZICHT-A': 14, '3-A': 11, 'ONDERWERP-B': 7, 'DRAW-4R': 13, 'BIJVOORBEELD-B': 224, 'GEMEEN': 8, 'KLEIN': 2, 'SNIJDEN-B': 26, 'FLAUW': 7, 'BOOS-A': 50, 'VOLWASSEN': 11, 'SLECHT-A': 16, 'BROER-A': 40, 'KANS': 14, 'STEL-C': 2, 'LEVEN-A': 16, 'WIT': 8, 'FAMILIE-A': 35, 'OVERLEGGEN-C': 12, 'TEGEN-AAN-LOPEN-A': 33, 'HEBBEN': 2, 'STAPEL': 8, 'MOVE-HC-5': 28, 'BEEN-C': 6, 'TECHNIEK': 24, 'SKATEBOARD': 8, 'SKATEBOARDEN': 2, 'SCHOUDER-B': 2, 'AFWIJKEN': 22, 'ENZOVOORTS-A': 80, 'KUNST': 4, 'ARM-D': 3, 'AT-EC-0': 1, '9-B': 12, 'VAARDIG': 52, 'MENING-A': 4, 'PRACHTIG-A': 9, 'CODA': 2, 'KNAP': 3, 'AUTISME': 4, 'MAN-B': 5, 'SAMEN-D': 19, 'DEAFISME': 2, 'ONAFHANKELIJK': 6, 'VERLIEFD-A': 4, 'NOOIT-A': 193, 'ALS-C': 89, 'AFVRAGEN': 11, 'LYF': 1, 'WRE': 1, 'WAR': 1, 'MEISJE-B': 6, 'MAAND-A': 3, 'ONGELOFELIJK': 1, 'LI': 1, 'FLEXIBEL': 10, 'ONTSPANNEN-D': 2, 'IETS-B': 15, 'DOEN-B': 4, 'GEN': 2, 'VERTREKKEN': 8, 'BETROKKEN': 2, 'SAMEN-4': 2, 'IVD': 2, 'VSO': 9, 'IMPLANTEREN': 14, 'INSTORTEN': 2, 'BEWIJS': 32, 'OPVALLEN': 30, 'BIJEENKOMEN': 40, 'ROL': 4, 'VO': 1, 'MAVO': 1, 'HAVO': 1, 'UITBREIDEN': 24, 'VOETBALLEN-C': 5, 'CATHARIJNE83': 4, 'BADMINTON': 2, 'VUGHT': 1, 'REDEN': 6, 'NIEUWSGIERIG': 24, 'OPSTUREN-B': 13, 'IEDEREEN-A': 37, 'DANSEN-A': 5, 'OPRICHTEN': 37, 'MSN': 7, 'UITWISSELEN-C': 26, 'DUIDELIJK': 87, 'DOOS-A': 40, 'RIMI': 1, 'BUITEN-A': 24, 'LIJKEN-OP': 28, 'NGT': 81, 'OPLEIDING': 5, 'ERKENNEN-B': 18, 'WAARVOOR': 5, 'VRIEND-B': 40, 'PROEVEN-B': 1, 'STANDAARDISATIE-A': 38, 'BRABANT-A': 1, 'NIVEAU': 40, 'EMAIL-D': 13, 'EMAIL-A': 78, 'NAAM-A': 28, 'DRAW-RP-4RO': 1, 'VOORBEREIDEN': 22, 'OP-D': 10, 'GEBAREN-F': 5, 'RODDELEN-A': 2, 'RODDELEN-B': 2, 'EMAIL-B': 26, 'TOEVALLIG-A': 27, 'BALEN-D': 1, 'MOVE-HC-5ROS': 2, 'SENSEO-C': 1, 'SCHIETEN-C': 3, 'VERLIEZEN': 4, 'MSMS': 2, 'SMS-A': 21, 'MSM': 2, 'SMS': 2, 'VRIJWILLIG': 5, 'SMS-B': 8, 'LACHEN-F': 15, 'PASSEN-BIJ': 50, 'PLUS': 316, 'GREENPEACE': 2, 'RAAM-A': 95, 'CENTRUM': 46, 'WEBSITE': 21, 'PLAGEN-D': 8, 'AANHALINGSTEKENS': 155, 'REGELS-B': 2, 'WOORD-B': 47, 'SENSEO-D': 6, 'STRALING': 1, 'ALS-A': 32, 'DUBBEL-A': 8, 'NEUS': 5, 'AAP': 111, 'AANKLIKKEN': 15, 'LIJST-C': 12, 'STABOL-A': 34, 'OCHTEND-B': 6, '11-B': 15, '13-B': 10, 'INVLOED': 12, 'SLECHT-C': 6, 'TONG': 1, 'AT-EC-5': 5, 'OCHTEND-A': 3, 'GEEL-A': 21, 'GEEL-C': 25, 'INTERESSANT': 24, 'ONDERWERP-A': 8, 'STAGE': 6, 'COLLEGA': 13, 'VRIEND-C': 20, 'BE-EC-5R': 36, 'RENNEN-B': 37, 'KLIMMEN-C': 40, 'LIGGEN-C': 35, 'ERG-B': 54, 'WAT-C': 10, 'PRACHTIG-B': 3, 'BE-EC-4C': 7, 'ADEM-INHOUDEN-A': 5, 'MOVE-EC-4C': 8, 'BIJNA': 10, 'BIJTEN': 18, 'STIK-D': 1, 'GEBOUW-A': 23, 'LEKKER-B': 9, 'DRAW-5R': 31, 'SNIJDEN-A': 2, 'VERSTOPPEN-A': 4, 'DOL-OP': 4, 'MOVE-HC-5R': 49, 'VOORSTELLEN': 24, 'KAUWEN': 2, 'BE-CL-5R': 5, 'BANG-B': 9, 'KWISPELEN': 2, 'DRAW-4RC': 3, 'ROTZOOI': 1, 'ROTZOOIEN': 2, 'BE-HC-5R': 18, 'DRAW-1': 87, 'DRAW-5RS': 5, 'BE-HC-5RO': 17, 'BALEN-A': 10, 'APPLAUS-A': 21, 'WACHTEN-E': 10, 'ANTWERPEN': 2, 'MINUUT': 10, 'WIELEN': 4, 'DRAW-1O': 51, 'STIL-B': 2, '10-B': 31, 'TIJD-C': 30, 'DONKER': 22, 'LICHT-B': 4, 'KLEIN-G': 5, 'ARMEN-OVER-ELKAAR': 46, 'LIPPENSTIFT': 1, 'KUNSTGEBIT': 2, 'MOND-DICHT-A': 5, 'VLIEGEN-B': 32, 'FINLAND': 1, 'TAFELTENNIS': 5, 'KAAL': 3, 'HAAR': 6, 'PRUIK': 2, 'WOLK': 3, 'PLAGEN-A': 3, 'VOGEL-A': 292, 'HOPEN-B': 20, 'DRAWR-1O': 4, 'TIJD-B': 13, 'MOVE-HC-1RC': 23, 'ETEN-B': 5, 'MOVE-HC-4RC': 23, 'TROUWEN-B': 6, 'ALSTUBLIEFT': 15, 'VOELEN-C': 6, 'BIDDEN-A': 4, 'LUKKEN-NIET-A': 5, 'BE-EC-5S': 2, 'FILM': 19, 'ROK': 31, 'HAAT': 5, 'NICHT-A': 4, 'MOVE-HC-': 6, 'BE-EC-4RC': 9, 'BE-EC-1RO': 2, 'MOVE-HC-1RO': 5, 'DRAW-1O1C': 6, 'OORLOG-B': 1, 'STOREN': 24, 'OMDAT-B': 2, 'VIES-A': 3, 'SCHAMEN-B': 8, 'OORDOP': 6, 'EILAND': 2, 'UITWISSELEN-F': 2, 'POND': 1, 'COMBINATIE': 19, 'JAAR-A': 25, 'VERANDEREN-C': 14, 'BAL': 27, 'BE-HC-4RO': 73, 'BE-HC-4R': 32, 'BE-EC-4O': 4, 'ERUIT': 3, 'ROLLATOR': 2, 'BIJ-B': 119, 'VERDIENEN': 41, '10-A': 17, 'MOVE-HC-1C': 44, 'GOED-IN': 1, 'HOOFD-B': 9, 'OPLETTEN': 16, 'BOREN': 1, 'DOOR-B': 27, 'OPERATIE': 14, 'LITTEKEN': 1, 'PRATEN-J': 3, 'DRAWR-1': 2, 'MOVE-HC-1D': 1, 'BOODSCHAPPEN-B': 8, 'HOE-C': 8, 'TOESPRAAK': 10, 'SPIJT-A': 6, 'PIJN-A': 14, 'DRAW-1RC': 13, 'WEER': 17, 'MOVE-EC-1RC': 2, 'BED-A': 8, '50-A': 12, 'DE': 4, 'CI-D': 22, 'BANG-C': 2, 'AANDACHT-A': 104, 'PLAATSNAAM': 1, 'MOVE-HC-4C': 51, 'KOPJE-A': 1, 'GROEIEN': 19, 'BIER-A': 29, 'BIER-B': 17, 'KOPEN-B': 6, 'SPELEN-A': 25, 'VRIJ-B': 4, 'OP-E': 24, 'ZUSTER-A': 7, 'BE-HC-4C': 8, '0-B': 28, 'UITSLAG': 3, 'MOETEN': 10, 'MIDDAG-B': 3, 'MORGEN-A': 8, 'SCHRIJVEN-A': 8, 'KLAAR-C': 27, 'FAMILIE-C': 18, 'MOORD-A': 5, 'ROLSTOEL-B': 16, 'DOKTER-B': 5, 'ROLSTOEL-A': 38, 'TASTEN-B': 6, 'TELEVISIE-C': 4, 'IN-E': 15, 'ERG-E': 2, 'GEHANDICAPT-E': 12, 'BABY': 48, 'WELKE-B': 4, 'NEEF-A': 1, 'KIND-B': 8, 'HOOFDPIJN': 12, 'KNIPPEREN': 1, 'HANDEN-WRIJVEN-A': 66, 'TWEE-ELKAAR': 2, '15-C': 3, '16-B': 3, 'LOPEN-K': 5, 'HOEVEEL': 25, 'MOVE-CL-5RO': 2, 'HAND-SCHUDDEN-B': 2, 'HAND-SCHUDDEN-A': 3, 'MINDER-C': 14, 'BEGELEIDEN-B': 2, 'VOETBALLEN-B': 29, 'MILJOEN': 2, 'BETALEN': 43, 'SCHOUDERKLOPJE': 7, 'MOVE-HC-4R': 24, 'ZWETEN-A': 3, 'GEBAREN-B': 87, 'RICHTING': 42, 'ERBIJ-C': 6, 'AT-CL-4RO': 2, 'AF-D': 3, 'KATHOLIEK': 2, 'OUD-C': 2, 'DRINKEN-B': 10, 'HAAS-A': 28, 'JOOD': 2, 'KEPPEL': 2, 'ZON': 14, 'HEET': 7, 'BRAND': 4, 'SOLDAAT-B': 1, 'RUGZAK-A': 2, 'REANIMEREN': 6, 'HERFST': 2, 'BOVEN': 7, '30-A': 6, '8-A': 9, 'REGEN-C': 4, 'ENZOVOORTS-D': 18, 'BEWAREN-C': 5, 'RESTAURANT': 4, 'LEVEN-C': 10, 'ROEPEN-C': 1, 'ZIN-IN': 13, 'VLAK': 1, 'WORST-A': 2, 'STAAN-F': 79, 'PAUZE-A': 36, 'VLEES-B': 6, 'STAAN-H': 37, 'WEGGAAN-B': 35, 'AT-EC-2S': 1, 'EN-A': 3, 'BE-EC-4R': 15, 'SCHREEUWEN-C': 1, 'MAAT-E': 19, 'BEER-D': 8, 'ZENUWACHTIG-B': 2, 'BOOM-C': 5, 'LIGGEN-D': 6, 'OPNEMEN-C': 11, 'ECHT-C': 9, 'OOK-D': 3, 'BONZEN-A': 11, 'ADEMEN-C': 10, 'ADEM-INHOUDEN-B': 9, 'OOG': 16, 'ROLLEN-C': 6, 'LIGGEN': 20, 'OPSTAAN-B': 2, 'WAT-D': 11, 'GEBEUREN-C': 2, 'BANG-D': 4, 'VIA-A': 1, 'ALS-D': 5, 'UITADEMEN': 2, 'TASTEN-A': 7, 'NIKS-B': 58, 'FRUSTRATIE': 17, 'ZITTEN-C': 2, 'MOVE-EC-0': 4, 'IEDEREEN-C': 4, 'MOETEN-B': 2, 'TAFEL': 11, 'EMOTIE-C': 13, 'KOKEN-A': 4, 'BOOS-C': 4, 'STRAF-B': 5, 'FOUT-A': 40, 'BEZORGD': 8, 'OUD-D': 22, 'SLAAN-C': 36, 'DOORGAAN-B': 1, 'VERVELEN-C': 8, 'LAKEN': 8, 'GEVOLG': 108, 'BE-EC-2R': 21, 'PANIEK-B': 19, 'GRAFSTEEN': 2, 'VERSTOPPEN-C': 4, 'GEEST': 10, 'ALSOF-C': 10, 'DUIZELIG': 21, 'LACHEN-D': 10, 'GRAPPIG-C': 6, 'GRAPPIG-B': 3, 'INTERNAAT-A': 1, 'PUBER-B': 1, 'GEK-B': 6, 'GEWOON-A': 219, 'STIK-A': 7, 'ONTDEKKEN': 13, 'ACHTER-B': 22, 'GEHEIM-B': 3, 'BOWLEN': 36, 'POES-C': 141, 'NADENKEN-B': 19, 'AANPAKKEN': 24, 'ACCORDEON': 4, 'PIANO': 2, 'KLEIN-F': 6, 'HOEK-A': 15, 'BANAAN-B': 16, 'KLEREN-A': 20, 'MUTS': 6, 'LOPEN-F': 8, 'VOGELKOOI-A': 92, 'SLUIPEN': 2, 'BUIS-A': 98, 'REGEN-A': 24, 'WONEN-A': 17, 'STAAN-C': 12, 'UITSCHELDEN': 2, 'BEGRIJP-ER-NIKS-VAN': 4, 'BUITEN-C': 5, 'COLLECTEREN': 4, 'EVEN-DENKEN-B': 15, 'GRATIS-B': 1, 'ACHTER-C': 3, 'FLAUWVALLEN': 4, 'OMA-B': 23, 'BEHEERSEN': 1, 'MOVE-HC-5RS': 6, 'OMA-D': 1, 'GEVAARLIJK': 11, 'ZWAAR-A': 48, 'LUI': 32, 'PARKEREN-B': 2, 'BLIND-D': 18, 'GRATIS-A': 8, '18-C': 6, 'JAAR-C': 10, 'NOOIT-C': 5, 'GEBRUIKEN-E': 2, 'SUBSIDIE-B': 9, 'VEEL-C': 4, 'RECHT-OP': 20, 'MOVE-HC-4RO': 77, 'BLIND-B': 7, 'THUIS-B': 4, 'RECHTVLAAMS': 2, 'HELPEN-B': 18, 'Q': 1, 'BROEKZAK': 6, 'MAART-C': 1, 'UUR-C': 2, 'EURO': 2, 'KOMEN-D': 4, 'STOM': 1, 'KLEUR-C': 2, 'IEMAND': 6, 'DRAW-2S': 1, 'AFHANKELIJK-B': 24, 'LIJN-A': 51, 'ERBUITEN-STAAN': 2, 'SUBSIDIE-A': 8, 'MANIER': 32, 'VRIENDELIJK': 4, 'LIJN-D': 2, 'LIJN-C': 24, 'BUS-A': 20, 'BEGELEIDEN-DE-WEG': 2, 'KUNNEN-NIET-B': 35, 'DIENST': 10, 'DOOF-D': 61, 'VOORAAN': 2, 'ZELFVERZEKERD': 2, 'AUDYT': 1, 'RESPECTEREN': 12, 'NEGEREN': 2, 'HEBBEN-C': 36, 'DRAW-5S': 6, 'THERAPIE-A': 4, 'STEM-C': 4, 'VERDELEN': 4, 'REGELS-C': 10, 'TELHAND-4-B': 6, 'VRAAGTEKEN': 10, 'PLOTSDOOF': 2, 'WINNEN': 17, 'SCHOOL-F': 6, 'KIND-C': 6, 'OEFENEN-B': 11, 'DUBBEL-B': 8, 'TE-LAAT-B': 8, 'JONG-C': 10, 'ONDERZOEKEN': 50, 'PRATEN-G': 7, 'MISLUKKEN': 2, 'BEGINNEN-B': 11, 'INKRIMPEN-A': 18, 'GEBRUIKEN-C': 51, 'SAMEN-2': 4, 'ONSCHULDIG': 5, 'WETEN-B': 55, 'K': 12, 'TE-LAAT-A': 27, 'REKENING-HOUDEN-MET': 8, 'SUCCES': 8, 'IDENTITEITSCRISIS': 26, 'ONDERDRUKKEN-A': 8, 'SCHOONMAKEN': 5, 'INJECTIE': 10, 'CLUB-B': 12, 'GESTICULEREN': 20, 'BRUIN-B': 2, 'GEZICHT-B': 12, 'BRUIN-A': 5, 'GAVE': 1, 'IDENTITEIT': 14, 'MARIONET': 1, 'UUR-D': 10, 'PER': 7, 'LOGOPEDIE-B': 6, 'AFKEUREN': 4, 'SOMS-B': 2, 'KLAGEN-B': 2, 'CHEF-A': 1, 'GEWOON-E': 2, 'MAN-C': 5, 'WONEN-D': 2, 'ANTWOORD-B': 1, 'AUTOMATISCH-C': 3, 'VAN-C': 10, 'TE-MAKEN-MET': 84, 'MIMIEK': 8, 'OKA': 1, 'KLEIN-E': 62, 'NEE-D': 18, 'VOOR-B': 30, 'PAPEGAAI': 1, 'WEINIG-A': 53, 'REMMEN-A': 6, 'BE-EC-4CBODY': 4, 'BEGELEIDEN-D': 4, 'BE-EC-5BODY': 4, 'WERKVLAAMS': 2, 'ZORGEN-B': 4, 'BE-EC-2': 17, 'SAAI-C': 4, 'GEVEN-C': 39, 'REDDEN': 6, 'SAAI': 4, 'ANDERS-D': 2, 'MUUR-A': 16, 'BE-EC-4OBODY': 2, 'WIE-E': 2, 'SOMMIGE': 1, 'VERKRACHTEN': 7, '30-C': 3, '50-C': 8, '60-B': 4, 'BEJAARD': 7, 'DRUPPELEN': 1, 'LIJDEN': 10, 'PSYCHOLOGIE-A': 6, 'INSTELLING': 10, 'LAND-A': 43, 'BELANG': 7, 'SI': 1, 'MOORD-B': 1, '14-A': 4, 'OOM': 3, 'ELKE-B': 4, 'ARM-B': 3, 'BROER-F': 1, 'LESGEVEN-B': 2, 'VERPLICHTEN-B': 2, 'DWINGEN': 4, 'WINKELEN': 2, 'MINDER-D': 10, 'RESERVEREN': 6, 'SAMEN-B': 10, 'KASSA': 8, '2-B': 3, 'HANDELEN': 11, 'DUIVEL': 6, 'WANNEER': 6, 'BESTELLEN-A': 5, 'NOOD': 3, 'WEGBRENGEN': 30, 'KOUD-C': 2, 'HOPEN-A': 5, 'DRAW-5O': 2, 'BH': 4, 'OMROLLEN': 2, 'AT-EC-1': 5, 'ZWETEN-B': 9, 'INGEWIKKELD': 8, 'ZOMER-A': 2, 'BENAUWD': 1, 'OUDERS-C': 1, 'ZIELIG': 13, 'PARALLEL': 26, 'BEHOUDEN': 18, 'BESCHERMEN-A': 12, 'ROBOT': 3, 'OOK-B': 9, 'DISCO-B': 6, 'MISSCHIEN': 8, 'LUXE-A': 4, 'TEVREDEN-C': 4, 'STIJF': 4, 'OPLOSSEN-B': 2, 'ZIEZO': 4, 'ERBIJ-HOREN': 3, 'DRINKEN-C': 4, 'LIMBURG': 7, 'NIJMEGEN-B': 1, 'OSS': 1, 'WEINIG-B': 1, 'HEBBEN-D': 1, 'BINNENKORT': 1, 'WAAR-C': 1, 'OORZAAK': 4, 'OPSCHIETEN-A': 2, 'OP-JE-TENEN-LOPEN': 2, 'TEGENVALLEN': 9, 'GEEN-IDEE': 10, 'VAST': 27, 'SEN': 2, 'TEMPO': 10, 'VOORAL': 8, '1000-A': 11, 'NEBAS': 3, 'SLIM-B': 9, 'REIZEN-C': 2, 'JA-B': 10, 'HALF-B': 19, 'PECH-C': 1, 'PT-D': 1, 'TEGEN-DE-REGELS-IN': 2, 'BRUTAAL-B': 2, 'DIRECTEUR-B': 2, 'STRAF-C': 1, 'ONTSLAAN-B': 5, 'AGENDAPUNT': 8, '1000-B': 8, '6-B': 28, 'VLAAMS': 11, 'DRAW-5RC': 2, 'BIJLEREN': 2, 'LAND-B': 2, 'MEI-C': 5, 'HASSELT': 1, '7-A': 7, 'GRAP-A': 9, 'AFSPRAAK-F': 2, 'STANDAARDISATIE-C': 2, 'SYSTEEM': 6, 'WET': 6, 'STANDAARDISATIE-B': 8, 'BELGIE-A': 3, 'ERKENNEN-A': 18, 'SLOT': 10, 'IJZER': 6, 'TIMMEREN': 12, 'LASSEN-B': 6, 'LASBRIL': 2, 'EMMER': 2, 'GRAVEN': 4, 'BOER': 2, 'VOGEL-B': 7, 'DRAAIEN-B': 1, 'LASSEN': 1, 'BROOD-A': 10, 'BED-B': 2, 'WEEKEND-A': 52, 'VRACHTWAGEN-A': 4, 'MOTOR': 28, 'LAWAAI': 10, 'TELEVISIE-A': 5, 'KWARTIER-A': 3, 'INSLAPEN': 1, 'IK-BEN-ER-VAN-AF': 1, 'NIET-BIJZONDER': 3, 'WEEK-2-A': 2, 'MAAND-B': 7, 'JARIG-A': 14, 'BALIE-B': 11, 'OVERKANT': 2, 'SKIEN': 18, 'EVEN-DENKEN-E': 14, 'BOODSCHAPPEN-A': 6, 'KAR': 2, 'POKKEN': 4, 'SLEUTEL': 26, 'IK-WEET-HET-WEER': 1, 'SPROETEN': 1, 'PECH-B': 2, 'BALEN-B': 8, 'GRAPPIG': 1, 'OMGEVING-A': 4, 'HAASTIG': 30, 'MOVE-EC-2RS': 18, 'FLUISTEREN': 2, 'SLIKKEN': 4, 'MOVE-EC-2S': 6, 'ADEMEN-D': 3, 'LIKKEN': 5, 'MOVE-EC-5C': 1, 'APPLAUS-B': 6, 'MERCEDES': 2, 'RUZIE': 12, 'INDRUKKEN-B': 4, 'HAND-UP': 14, 'ZAKEN': 6, 'JAS-A': 38, 'BARBECUE': 2, 'LIJST-A': 4, 'BLIKJE-OPENEN': 6, 'OVERSTAPPEN': 2, 'TAXI-B': 2, 'GEK-D': 1, 'SCHAKELEN': 4, 'HUIDSKLEUR': 3, 'ZELFDE-D': 2, 'TEVEEL': 6, 'VIEREN': 1, 'VERDOMME-D': 1, 'MCDONALDS-C': 4, 'KLAAR-B': 9, 'DE-DRAAD-KWIJT-ZIJN': 4, 'OP-C': 14, 'VERZAMELEN-B': 10, 'SERVET': 2, 'UITDELEN': 4, 'SNEEUW-A': 6, 'SNEEUW-B': 4, 'KORT-SHIRT': 3, 'SJAAL': 2, 'MOVE-HC-1DMONEY': 1, 'GODZIJDANK': 2, 'LICHT-C': 14, 'BERLIJN': 2, 'INTOETSEN': 1, 'BOOS-B': 2, 'STEKKER': 1, 'OVER-B': 18, 'IJS-A': 8, 'AT-EC-2': 15, 'ITALIE': 7, 'HAMBURG': 3, 'BENZINE': 3, 'VERDER-A': 5, 'TURKIJE': 8, 'AUREOOL': 1, 'LAAT-A': 10, 'POES-A': 128, 'GEBOUW-C': 86, 'VERREKIJKER': 49, 'BE-HC-4RC': 19, 'TEGENOVER': 5, 'POES-B': 53, 'BE-EC-4ROS': 15, 'PARAPLU': 25, 'BAL-A': 8, 'DRAW-4ROS': 12, 'MOVE-EC-1O1C': 1, 'WEG-G': 4, 'OVERKANT-B': 1, 'VIOOL': 8, 'BANAAN-A': 12, 'AT-HC-0': 1, 'MOVE-HC-4ROS': 39, 'POES-D': 15, 'AT-EC-4OS': 2, 'OBER': 5, 'BE-HC-1C': 1, 'KOPJE-C': 1, 'MOVE-HC-1C5': 1, 'MOVE-HC-2RO': 1, 'BE-HC-1RO': 1, 'KOFFER': 47, 'BE-HC-4RS': 14, 'MOVE-HC-5R0': 1, 'BE-HC-4R0': 1, 'CONCIERGE': 3, 'VAN': 1, 'POST': 5, 'VROUW-C': 7, 'MEE-B': 2, 'BE-EC-C': 1, 'DOOS-B': 10, 'HARD-A': 19, 'RENNEN-D': 18, 'KILO': 4, 'OMLAAG': 3, 'MOVE-EC-': 2, 'MOVE-EC-4ARM': 4, 'BE-EC-4ARM': 12, 'OVEREIND-KOMEN': 2, 'WAGGELEN-A': 2, '500': 2, 'BE-EC-1D': 5, 'MOVE-EC-1ARM': 1, 'TOUW-A': 22, 'SLINGEREN': 18, 'ELEKTRICITEIT-C': 16, 'BALANCEREN': 29, 'TRAM-B': 22, 'TRAM-A': 48, 'TEKENEN-B': 35, 'SELF-TOUCH': 24, 'GROEN': 14, 'CONTACT-VERBREKEN': 6, 'COMPLIMENT': 3, 'BETUTTELEN-B': 4, 'CRISIS': 4, 'ZWAAR-B': 12, 'BE-EC-0': 3, 'BLIND-E': 14, 'VINGERSPELLEN-HAND': 4, 'AFSTAND-A': 22, 'NORMAAL': 2, 'GEWOON-B': 16, 'VISIE': 25, 'UUR-LANG-4-A': 1, 'UUR-B': 7, 'ELKE-A': 9, 'MAXIMUM': 4, 'GRIEZELIG': 4, 'MALI': 3, 'GHANA': 3, 'SLAGTANDEN': 2, 'IVOORKUST': 3, 'INDRUK': 5, 'LACHEN-E': 2, 'BOOM-B': 20, 'ZAND-A': 8, 'GROEP-B': 16, 'ZAK': 6, 'WALGELIJK-B': 7, 'BUS-C': 12, 'BEDELEN': 2, 'BE-HC-4O': 3, 'BE-HC-5': 13, 'WIND': 6, 'AFSPRAAK-E': 11, 'HOE-A': 85, 'MOSLIM': 2, 'HOTEL-B': 12, 'DOOD-B': 10, 'KOKEN-B': 16, 'RUPS': 19, 'VERDWIJNEN-A': 10, 'WATER-KOKEN': 2, 'DOOR-ELKAAR-C': 28, 'PIJN-B': 15, 'BF': 3, 'BURKINAFASO': 2, 'AFRIKA-A': 5, 'HUIDSKLEUR-BRUIN': 5, 'HUID-A': 2, 'HOOFD-A': 3, 'STAD-A': 3, 'OUAGADOUGOU': 5, 'OUDADODUL': 1, 'BOBO': 4, 'KOPEN-A': 11, 'ZWART-B': 8, 'ALIZETA': 1, 'VERBAASD-B': 25, 'GOEDKOOP-B': 9, 'GOEDKOOP-A': 2, 'WALGELIJK-A': 4, 'KOEK-A': 2, 'KRIJGEN-C': 9, 'AT-EC-1RC': 3, 'KLOOTZAK': 4, 'GRAPPIG-D': 6, 'PROEVEN-A': 4, 'ONGELUK-A': 8, 'AT-EC-4': 22, 'SCHOEN-B': 8, 'MOVE-EC-5RO': 1, 'O-JEE': 3, 'PRINCIPE': 2, 'VERVOER': 4, 'KRUKKEN': 4, 'GELUK-A': 7, 'BOUWEN': 15, 'BAKKEN-A': 6, 'MOVE-1R': 2, 'MOVE-EC-1R': 6, 'VROUW-B': 9, 'STAD-B': 18, 'PROBEREN-B': 7, 'KNIE': 11, 'KNIE-KRAAKT-MEE': 4, 'TIJD-VLIEGT': 4, 'EX-B': 4, 'RUGZAK-B': 4, 'VOUWEN': 2, 'MOVE-EC-4R': 3, 'ONGELUK-B': 8, 'AT-EC-4ROS': 11, 'BE-EC-1R': 5, 'VRIEZEN': 2, 'LAPTOP': 2, 'EX': 1, 'SCHREEUWEN-B': 3, 'PIJN-D': 1, 'BESTELLEN-C': 2, 'LUISTEREN-NIET-A': 2, 'BLAUW': 13, 'WEEK-3-B': 1, 'KORT-BROEK': 2, 'TRUI': 2, 'RITS': 6, 'KOUD-B': 6, 'SEPTEMBER-A': 4, 'WARM-A': 9, 'SPIEREN': 4, 'HUILEN-B': 4, 'SPO': 1, 'LANGE-MOUW': 1, 'OKTOBER-B': 1, 'LOGEREN-B': 5, 'OPA-A': 8, 'OMA-C': 15, 'AFHANKELIJK-D': 28, 'MAKEN-B': 23, 'LAND-PL': 4, 'MARTHA-VINEYARD': 2, 'GELIJK-NIVEAU': 16, 'BRAILLE': 10, 'TONEEL': 18, 'WAARDEN': 4, 'VIDEO-A': 4, 'WIE-C': 22, 'MEDISCH': 1, 'VRAGENPT': 1, 'GALLAUDET': 5, 'UNIVERSITEIT': 5, 'ASL': 8, 'STEM-B': 14, 'MARTHA': 1, 'VINEYARD': 1, 'NIET-AAN-GEDACHT': 3, 'BEWUST': 23, 'BRAIL': 1, 'RAAD': 7, 'ARGUMENT': 3, 'BREED': 19, 'PERSOON-A-PL': 16, 'DOOF-E': 10, 'AFTASTEN': 10, 'FEEST-A': 46, 'PROTEST-A': 5, 'DRAW\\\\R-4': 1, 'DRAWR-4': 5, 'LIFT-B': 6, 'DUS-B': 28, 'ZUS-E': 4, 'WIE-B': 4, 'JARIG-B': 12, 'UUR-LANG-1': 10, 'VOORZIENINGEN': 7, 'TRAP': 4, 'GEZOND-B': 12, 'WONDER': 2, 'FEIT': 2, 'KOKEN-C': 2, 'MOVE-EC-5ROS': 2, 'SPONTAAN': 8, 'SLECHTHOREND': 31, 'AFSTAND-B': 2, 'KOMMA': 6, 'VERSPREIDEN-A': 54, 'FALEN': 2, '0-A': 8, 'OPZIJ': 19, 'UIT-ELKAAR-VALLEN': 4, 'WERVEN': 2, 'STRESS': 4, 'FOCUS': 12, 'VERZAMELEN-C': 6, 'MEDICIJN-B': 1, 'G': 7, 'NMG': 27, 'EEN-OP-EEN': 12, 'VERGADERING': 8, 'TOENEMEN': 4, 'STIMULEREN': 16, 'UITHOREN': 13, 'OUDERS-A': 53, 'PROBEREN-C': 5, 'ALVAST': 10, 'GNT': 1, 'TIJDLIJN': 1, 'WINKELEN-B': 6, 'DINGEN-DOEN': 6, 'KLEREN-C': 2, 'AANKLEDEN-D': 2, 'UUR-LANG-3-B': 2, 'WEEK-1-A': 3, 'GRAMMATICA': 10, 'INDIVIDUEEL': 11, 'MCDONALDS-B': 1, 'TANTE-A': 7, 'OOM-A': 7, 'VAK': 3, 'KOPJE-B': 3, 'PRAKTIJK': 8, 'VOORKEUR': 3, 'ERG-C': 4, 'SPELEN-C': 18, 'TEGENSTRIJDIG': 4, 'PEUTER': 5, 'SO': 6, 'OO': 4, 'ETHISCH': 15, 'KNUTSELEN': 2, 'DNA': 42, 'OORLOG-A': 6, 'HOMO-A': 20, 'GLAD': 11, 'VIA-B': 13, 'AF-C': 6, 'OFFICIEEL': 13, 'VERMORZELEN': 10, 'POLITIEK-A': 12, 'LINGUISTIEK': 2, 'VERBERGEN': 2, 'TEGEN-AAN-LOPEN-B': 19, 'LEZING': 4, 'GENERATIE-A': 6, 'ETHISH': 1, 'TOEVOEGEN': 5, 'ARM-A': 5, 'ADOLF-HITLER': 1, 'BLOND': 1, 'ZWAKBEGAAFD-B': 6, 'TIP-A': 3, 'WEG-F': 6, 'ABWZ': 1, 'GOD': 5, 'WFD': 5, 'EUD': 1, 'MADRID': 1, 'EMBRYO': 3, 'BIOETHICS': 1, 'NUMMER-C': 4, 'NUMMER-A': 4, 'ERGENS-A': 23, 'BAARMOEDER': 2, 'BUIK-B': 4, 'ZOMAAR': 12, 'AT-EC-4R': 1, 'SPIJT-B': 11, 'REGERING-C': 6, 'GEZOND-A': 15, 'NATUUR-B': 2, 'LUKKEN-NIET-B': 2, 'GRAP-B': 1, 'CHRISTELIJK': 6, 'IIVF': 2, 'SPERMA': 4, 'ERGENS-B': 7, 'EVALUATIE': 4, 'WINTER': 10, 'ABORTUS-B': 4, 'ZO-B': 32, 'MIMIEK-B': 2, 'VISSEN': 4, 'ONDERWERP-C': 14, 'DIRECTEUR-A': 6, 'ZWEDEN': 4, 'STERK-B': 2, 'BEGELEIDEN-C': 2, 'MENING-B': 8, 'WETEN-NIET': 8, 'HIER': 4, 'ROUTE-B': 1, 'HER-EN-DER': 1, 'ECHT': 9, '90-A': 2, 'BLOEIEN': 1, 'VERLIEFD-C': 1, 'BROER-E': 17, 'VOORKOMEN': 6, 'BOOT': 2, 'HOUVAST': 2, 'DOORGEVEN-B': 2, 'KIJKEN-C': 2, 'PLANT': 1, 'HART-A': 3, 'HART-C': 1, 'DAN-C': 20, 'BIJVOORBEELD': 1, 'RUG': 6, 'WATER-B': 23, 'KORT': 1, 'TELHAND-6-A': 3, 'GEDRAG': 3, 'OVERPLAATSEN': 1, 'AFPAKKEN': 1, 'CI-B': 8, 'KWALITEIT': 10, 'VANUIT': 2, 'BETUTTELEN': 12, 'AANVALLEN-TEAMS': 8, 'POSITIEF': 9, 'BESCHERMEN-B': 2, 'GESCHIEDENIS-B': 4, 'JEZUS': 4, 'DAK': 14, 'SERIEUS': 3, 'BSL': 1, 'ADDA': 1, 'PATERNALISME': 1, 'EMPOWERMENT': 7, 'BEHANDELEN': 12, 'AANVALLEN': 8, 'IHP': 3, 'KIJKEN-B': 27, 'INTERNET-A': 66, 'VOORUITGANG': 3, 'VERANTWOORDELIJK': 12, 'VOETBALLEN-A': 35, 'PARTY-B': 2, 'PARTY-A': 2, 'HIPPIE-A': 2, 'UITWISSELEN-B': 10, 'ELEKTRICITEIT-A': 38, 'GYMNASTIEK': 8, 'VANAF': 5, 'LAN': 4, 'SUB': 1, 'HIPPIE-B': 1, 'OPSCHEPPEN-A': 4, 'ELITE': 1, 'EL': 1, 'TENNIS': 1, 'NINTENDO': 3, 'CHATTEN': 2, 'TIJD-D': 2, 'OMGAAN': 1, 'FITNESS-A': 2, 'STEPPEN': 2, 'JUDO': 2, 'VOLLEYBAL': 6, 'NINEN': 1, 'LBO': 1, 'MBO': 1, 'HBO': 2, 'PUBER-A': 4, 'OMGAAN-B': 3, 'LAY': 1, 'WIE-D': 9, 'LATER-B': 5, 'GROOT-C': 10, 'DOM-B': 1, 'SUKKEL-A': 6, 'VRACHTWAGEN-B': 9, 'GARAGE-A': 5, 'DRAW-5CS': 1, 'VERHEUGEN': 2, 'BRUG-B': 10, 'BE-EC-5RS': 6, 'WAT-IS-DAT': 1, 'SLAGER-B': 4, 'VIT': 1, 'KANS-GRIJPEN': 1, 'MOVE-EC': 1, 'HEBBEN-B': 18, 'SPIEGL': 1, 'VERDRINKEN-B': 1, 'SNEL-E': 24, 'HONGER-B': 12, 'HAASTIG-B': 2, 'PAUZE-B': 8, 'MOVE-HC-5RO': 5, 'DRAW-5RO': 2, 'IN-F': 5, 'BOTER-A': 5, 'VINGER-OPSTEKEN': 6, 'LINIAAL-B': 2, '7-B': 15, 'NAAIEN-A': 8, 'VERBAASD-C': 4, 'ONTSLAAN-A': 2, 'KLAS': 2, 'LOKAAL': 1, 'LINIAAL': 1, 'BLOED': 2, 'WOND': 1, 'TIME-OUT': 7, 'JAMMER-C': 3, 'WDD': 1, 'FEEST-D': 18, 'BORD-B': 4, 'BE-EC-1RC': 2, 'MOVE-EC-3': 1, 'TOCH-C': 4, 'MOVE-HC-50': 3, 'RECHT': 2, 'GEZICHT-C': 4, 'VALLEN-B': 2, 'VALLEN-C': 2, 'WRIJVEN': 3, 'OPZWELLEN': 2, 'BULT-B': 4, 'PLEISTER-A': 4, 'DAME': 6, 'KOPPIG': 6, 'BE-HC-5S': 2, 'VERTROUWEN': 5, 'BE-CL-0': 1, 'MOVE-HC-2RC': 5, 'TRAAG': 2, 'AANKLEDEN-C': 2, 'WACHTEN-B': 10, 'AFSPRAAK-G': 2, 'OMARMEN': 2, 'BALIE': 4, 'SOK': 2, 'SNEL-C': 8, 'FOTO': 16, 'MOVE-HC-1O': 6, 'RING': 4, 'PAKKEN': 2, 'STOEL': 11, 'OPSTAAN': 12, 'IN-GEDACHTEN-PRATEN': 2, 'DRAW-5S5C': 2, 'SNOR-A': 4, 'BAARD-A': 3, 'BAARD-B': 2, 'ZWART-A': 5, 'WW': 1, 'KLOK-B': 3, 'MOVE-HC-4O': 3, '12-B': 14, 'HARD-B': 5, 'VALLEN-A': 7, 'BYKM': 3, 'MOPPEREN-A': 4, 'VEILIG': 1, 'DRONKEN': 1, 'DRAW-2': 5, 'SNEL': 3, 'WISUM': 1, 'WAT': 2, 'US': 1, 'WI': 1, 'PY': 2, 'SNE': 1, 'EHBO': 1, 'EBO': 1, 'DNG': 2, 'KHS': 1, 'JO': 1, 'WIN': 1, 'OOKVALLN': 1, 'WINSUM': 1, 'ZHS': 1, 'HENNIE': 1, 'VERDOMME-A': 5, 'BRIEF-B': 3, 'KEBJ': 1, 'BALI': 1, 'BUITEN': 1, '4-ORD': 1, 'JA': 5, 'PIJN-C': 4, 'MORGEN-B': 6, 'ZKHS': 1, 'TEN': 1, 'MOVE-HC-05': 8, 'PIJN': 1, 'RU': 1, 'GEKNEUS': 1, 'BESTEL': 1, 'BERL': 1, 'DRAW-5-RS': 1, '14-B': 7, 'WEKE': 1, 'WWD': 1, 'MEEDOEN': 2, 'WEGLOPEN': 9, 'ZITTEN-D': 4, 'AANRANDEN': 4, 'VOORBIJGAAN': 2, 'EXTERN': 6, 'WONEN-C': 1, 'KLOPT-F': 2, 'LEKKER-C': 5, 'MIS-C': 1, 'SOM': 1, 'ZWEEP': 1, 'ZWAARD': 1, 'LATER-D': 1, 'ALY': 1, 'BOODSCHAPPEN-C': 1, 'GOED-C': 8, 'DROP': 1, 'BETRAPT': 1, 'KONING': 2, 'SPORT-B': 14, 'AFSCHEIDEN': 2, 'PLAATSEN': 2, 'GEBAREN-D': 4, 'WERKEN-B': 19, 'NEDERLAND-C': 1, '19-B': 9, '26': 2, '80-B': 2, 'WAT-E': 2, 'BEGINNEN-C': 2, 'EN': 9, 'EENS': 8, 'AARDIG': 1, 'RECHTSTREEKS': 1, 'HOEFT-NIET-B': 6, 'BEWAREN-A': 6, 'KOPTELEFOON': 8, 'GEHOORAPPARAAT-C': 4, 'GELUIDSGOLVEN': 3, 'AUDIOLOGIE': 3, 'PLAGEN-B': 4, 'ENE-KANT-ANDERE-KANT-B': 11, 'PROCENT-B': 12, 'WORDEN': 4, 'ROND': 1, 'AUDIOLIGIE': 1, 'LEERLING': 14, 'MICROFOON': 1, 'LS': 1, 'VERLENGSTUK': 1, 'VERDOMME-B': 1, 'ENTHOUSIAST': 5, 'GT': 1, 'HOORRESTN': 1, 'DRAW-1O1O': 1, 'DRAW-1OO': 1, 'RESTEN': 1, 'WAAR-B': 4, 'SH': 4, 'ALS': 5, 'PYN': 2, 'VOO': 1, '90-B': 2, '70-C': 3, 'HOOP': 3, 'VAN-SCHOOL-AF': 2, 'GK': 5, 'TORBEK': 1, 'KORBEEK': 1, 'ABTS': 1, 'NS': 1, 'LIEFDEHEBBEN': 1, 'ENG': 1, 'PRETTIG': 1, 'INRTN': 1, 'INST': 1, 'EIGENWIJS': 4, 'AT-CL-5R': 2, 'AT-HC-0C': 2, 'WEET-IK-VEEL': 2, 'ZUS-F': 12, 'JONG-B': 4, 'JAAR-D': 13, 'LOOS': 2, 'EFRL': 1, 'EEN': 3, 'GEHANDICAPT-D': 8, 'VOETSTAPPEN': 4, 'ONDERWERP-D': 1, 'TGLS': 1, 'VRY': 6, 'EVEN-DENKEN-G': 4, 'DEEL': 9, 'GOLF': 3, 'SLAK': 5, 'HAAS-B': 11, 'SCHILDPAD-C': 8, 'LIJN-B': 5, 'SCHAAP-A': 33, 'GRAS-A': 10, 'WOLF-A': 36, 'TOT-C': 14, 'KOM-OP': 2, 'HERINNEREN-C': 3, 'DROOG-B': 4, 'LES': 5, 'REGEN-B': 45, 'AS': 1, 'SCHAKELEN-A': 1, 'PORTIER': 1, 'GLAS': 1, 'STEL-NIKS-VOOR': 2, 'KLANT': 2, 'SNIJN': 1, 'OLIE': 2, 'VRIJDAG-A': 10, 'GARAGE-C': 4, 'SCHILDEREN-A': 6, 'BOOS-D': 3, 'DROOG-C': 1, 'AVONTUUR': 1, 'VRIJEN': 8, 'VOZEN': 1, '15-B': 9, 'SLOTRTEREN': 1, 'CL': 2, 'EIND-SCENE': 27, 'BEGIN-SCENE': 4, 'DRAVEN-A': 30, 'VANZELF': 1, 'TEGENOVER-B': 7, 'TWEETY-A': 14, 'BE-EC-4OS': 2, 'MOVE-EC-4RC': 15, 'MOVE-EC-4ROS': 13, 'DOEK': 6, 'MOVE-HC-S': 3, 'METEN': 16, 'VERREKIJKER-B': 3, 'BE-CL-4RC': 9, 'BE-CL-4': 4, 'DAN': 2, 'OP-TENEN-LOPEN': 6, 'MOVE-EC-1DOT': 9, 'LOPEN-L': 6, 'STOOMFLUIT': 7, 'APART-D': 6, 'ONTSTEKING-A': 1, 'SLATR': 1, 'WASSEN-A': 4, 'ZO-LATEN': 11, 'WEETIKNIETVEEL': 2, 'CHINA': 2, 'DRAW-PT': 1, 'NICK': 1, 'MOVE-HC-4O5': 1, 'PAPIER': 7, 'TERUGDEINZEN': 2, 'BORSTEN': 2, 'DAL': 1, 'MOORD-C': 2, 'DS': 2, 'TEVREDEN-D': 2, 'IV': 3, 'MOVE-EC-1RO': 7, 'PECH': 1, 'TWEEEN-B': 2, 'MINDER-B': 11, 'OUDSTE-B': 2, 'GROEP-D': 9, '40-A': 2, 'MSN-A': 11, 'WEBCAM': 7, 'INKRIMPEN-B': 2, 'BUITEN-D': 9, 'VERSLAAFD': 4, 'KNIKKER': 3, 'BE-CL-5ROS': 1, 'MOVE-CL-CSPR': 1, 'KLOPT-E': 6, 'WEDSTRIJD': 22, 'PUZZEL': 2, 'FRIESLAND-B': 3, 'SCHAAP-C': 5, 'NEDERLAND-B': 6, '17-B': 4, 'SOOS': 1, 'STAPEL-B': 4, 'STAPEL-BPO': 1, 'STREEP': 9, 'WEST': 24, 'BRAAF': 5, 'MOVE-HC-2': 2, 'ZUID': 1, 'NEUKEN': 2, 'EVEN-DENKEN-F': 4, 'NL': 1, 'CHIPS': 7, 'CHIP': 6, 'VERNIEUWEN': 2, 'CHYS': 1, 'USB': 4, 'BEZOEK-B': 6, 'CHIPS-B': 2, 'CHIPS-C': 3, 'SENS': 1, 'NETJES': 7, 'USB-STICK': 2, 'TELEFOON-C': 8, 'KLEUR-B': 2, 'KLEUR-D': 2, 'PAARS': 6, 'KLEUR-A': 7, 'DORST': 5, 'VERWARD-B': 14, 'AAN': 9, 'DREIGEN': 2, 'OPGEVEN-B': 4, 'BONZEN-B': 7, 'SCHOPPEN': 4, 'HERINNEREN-A': 1, 'WEDDEN': 18, 'MAAT-D': 5, 'HAAS-C': 12, 'SCHILDPAD-A': 72, 'FEEST-C': 8, 'ONTSPANNEN-C': 6, 'SCHEERGEL': 2, 'SINAASAPPEL': 2, 'ORANJE-E': 2, 'TROBEL': 1, 'STIK-B': 3, 'GEHAKT': 8, 'MOVE-HC-1': 5, 'AT-EC-1C': 1, 'SPUGEN': 1, 'AT-EC-4RC': 3, 'KARNEMELK': 1, 'ZEEP': 1, 'PATAT': 2, 'BORD-A': 2, 'BE-HC-4': 9, 'FLES': 5, 'INHOUDEN': 2, 'PLAGEN-C': 2, 'BLUF': 1, 'DOUCHEN': 2, 'CONCURRENTIE': 4, 'UITDAGEN-A': 2, 'WATER-D': 5, 'MEER': 1, 'ME': 1, 'OPSTOKEN': 1, 'BESTAAN-B': 8, 'MODDER': 2, 'HERINNEREN-D': 2, 'LC': 3, 'RUGBY': 2, 'VIES-B': 4, 'HG': 1, 'RUB': 1, 'RUBY': 1, 'BEGIN-SCENE-B': 2, 'MOVE-HC-4RO4RC': 2, 'OVER-D': 2, 'APPARTEMENT-A': 14, 'MOVE-HC-4RO5R': 2, 'ROLLEN-B': 2, 'AFVAL': 2, 'LIFT-A': 5, 'KOOI': 2, 'TWEETY': 2, 'SYLETER': 1, 'AT-EC-4RO': 15, 'APPARTEMENT': 1, 'DRAWR-4R': 3, 'BAL-B': 17, 'MOVE-HC-4RO4OS': 2, 'DRAW-4OS': 2, 'BE-CL-4RO': 4, 'BALIE-A': 6, 'HOTEL-C': 6, 'DRUKTE': 2, 'MOVE-HC-4ROS0': 2, 'MOVE-4RC4ROS': 1, 'TELEFOON-OPNEMEN': 1, 'MOVE-EC-2DW': 3, 'DAN-D': 5, 'ASSISTENT': 3, 'MOVE-HC-04O': 3, 'LIFT-C': 1, 'GECOMPLICEERD': 4, 'DRAWR-1C': 1, 'HOUT': 12, 'TEKENEN-A': 12, 'OPNIEUW-B': 1, 'KOORD': 1, 'KLEP': 1, 'COOL': 1, 'ONZIN-C': 6, 'BAKKEVEEN': 4, 'STANDAARD-A': 6, 'SPANJE': 7, 'IJS-B': 2, 'OVERHEID': 2, 'ACCENT': 3, 'ON': 4, 'ROLNEMEN': 9, 'AUTOMATISCH-A': 22, 'BESLUITEN-C': 12, 'TOT-NU-TOE': 44, 'FRIESLAND-A': 21, 'MOGEN-B': 18, 'DIALECT': 5, 'BELEID': 2, 'RIJK-A': 4, 'DOORGEVEN-C': 2, 'INTERNET-C': 26, 'INTERNET-B': 22, 'SURFEN-B': 8, 'SURFEN-C': 2, 'SYNONIEM': 15, 'DENEMARKEN': 1, 'PAPA-B': 4, 'TE': 9, 'WOENSDAG-A': 10, 'DINSDAG-A': 23, 'TEKST-A': 3, 'REGELMATIG-B': 3, 'SYNONIEN': 1, 'OLIFANTENHUID': 1, '0-C': 1, 'BE-EC-2S': 1, 'DOORBIJTEN': 4, 'SNUFFELEN-A': 5, 'DRAW-2DW': 10, 'MOVE-HC-5O0': 1, 'MOVE-HC-4RC5R': 1, 'LOPEN-H': 20, 'SNEL-D': 2, 'BIJEENDRIJVEN': 4, 'PLAGEN-E': 4, 'GRIJS-B': 6, 'HERDER': 2, 'VERVELEN-B': 3, 'GRAZEN': 9, 'BLATEN': 7, 'WOLF-C': 6, 'AT-EC-2WP': 2, 'TRACTOR': 2, 'KEEPER': 3, 'BE-EC-2WP': 4, 'MOVE-EC-4S': 10, 'TUIN-A': 1, 'FREDERIK': 1, 'UBELS': 1, 'ORANJE-D': 3, 'E-EC-1': 1, 'SCHIETEN-D': 1, 'HE': 1, 'KAMP-B': 8, 'ALSOF-B': 6, 'JAMMER-D': 2, 'THRILLER': 5, 'LAMP': 2, 'TACKLE': 14, 'WISSELEN': 10, 'LID': 4, 'RECHTS': 1, 'MOVE-EC-1D': 10, 'MAGER-C': 2, 'SCHEIDSRECHTER': 3, 'KB': 1, 'OPA-C': 5, 'REMMEN-B': 1, 'RIJLES': 5, 'OMA-A': 6, 'SCHOMMELEN': 52, 'SYLVESTER-A': 19, 'DUIKEN': 6, 'MET': 2, 'FOEI': 12, 'SYLVESTR': 1, 'GROETEN': 1, 'ZWAAIEN-A': 1, 'DRAAIORGEL-B': 7, 'BANAAN-C': 14, 'MOVE-HC-4O4C': 4, 'BE-CL-4C': 1, 'ORGEL': 1, 'HOED-B': 2, 'PICOLLO': 1, 'DRAAIORGEL': 21, 'ZWAAIEN-B': 1, 'MOVE-HC-4OS': 2, 'MOVE-HC-4O0': 2, 'FITNESS-C': 2, 'MOVE-HC-4OS4C': 1, 'PLANK': 8, 'AT-EC-4ARM': 4, 'MOVE-HC-4OS0': 4, 'OLYMPISCH': 6, 'DESKUNDIG-C': 3, 'PARA': 1, 'HDCP': 1, 'MISHANDELEN': 4, 'UITEN': 7, 'EENZAAM': 6, 'TALEN': 1, 'KK': 2, 'ONZIN-A': 7, 'STEM-UIT': 1, 'EMOTIE-A': 3, 'ACHTERUITGANG': 1, 'WOORDVOLGORDE': 4, 'SPITS': 2, 'METRO-C': 2, 'ER': 3, 'VOLGORDE': 2, 'MOVE-EC-1O': 2, 'BORD-C': 2, 'TAAK': 2, 'TOEPASSEN': 2, 'MIDDEN-B': 2, 'OPDRACHT': 5, 'VAKN': 1, 'BEEN-A': 4, 'HEID': 4, 'LIP': 1, 'BENEN': 1, 'BEVRUCHTEN': 2, 'SPASTISCH': 4, 'RECLAME-A': 12, 'WAS': 2, 'ZUS-A': 3, 'ONDERHOUDEN-A': 2, 'PRIVE': 2, 'SOLIDAIR': 2, 'DEMOCRATIE': 1, 'HOOGEVEEN': 4, 'STIJL-A': 2, 'TROTS': 12, 'AANDACHT-C': 2, 'GENERATIE-B': 2, '30-B': 2, '40-B': 1, '50-B': 1, 'EER': 2, 'NPBG': 1, 'UITWISSELEN-D': 6, 'CONTEXT': 2, 'VREEMD-E': 3, 'REKENEN-A': 17, '40-C': 4, 'NG': 1, 'AT-HC-5S': 1, 'SYNONIEMEN': 1, 'OPA-B': 3, 'TERUG-B': 2, 'EMYTOLOGIE': 1, 'MSN-B': 8, 'VLINDER': 2, 'NURNBERG': 9, 'VISICOM-B': 2, 'HELM': 3, 'UITWISSELEN-E': 4, 'WERELD-C': 4, 'ICQ': 4, 'LIJST-B': 1, 'VISICOM-A': 3, 'DUITSLAND-B': 2, 'PORTUGAL-A': 3, 'INTERNET-D': 2, 'MERK': 2, 'BE-EC-1O': 2, 'AMSTEL-A': 2, 'AMSTEL-B': 4, 'GROLSCH': 2, 'WS': 1, 'SLOVENIE': 2, 'HEINEKEN-B': 4, 'HEINEKEN-A': 1, 'STER': 1, 'ASTEL': 1, 'DUITSLAND-C': 1, 'PORTUGAL-B': 1, 'EUROPA-A': 1, 'MAKKIE': 1, 'JUFFROUW': 4, 'ZAND-B': 4, 'ALTO': 1, 'CENTRUM-B': 4, 'BUNNIK': 4, 'BAKKEN-B': 2, 'SSWIFT': 1, 'LENEN-A': 2, 'RECHTER': 3, 'HNK': 1, 'MR': 1, 'PAARD-A': 33, 'ISIS': 2, 'WASSEN-D': 2, 'ALLERGIE': 3, 'ZALF': 3, 'PRIKKEN': 1, 'OVERDREVEN-DEFTIG': 6, 'SMEREN': 1, 'MOVE-EC-1M': 1, 'MOVE-HC-5RC': 1, 'STIJVE-HAND': 1, 'MOVE-HC-5S': 2, 'DRAW-4S': 6, 'MOVE-HC-44O': 2, 'BE-AT-EC-4RO': 2, 'DRAVEN': 2, 'BE-EC-2DW': 2, 'PANIEK-D': 2, 'DEUR-B': 2, 'EHM': 1, 'BUIS-B': 5, 'FANTASEREN': 1, 'KLIMMEN-F': 2, 'MOVE-HC-4ROS5': 2, 'BOTSING': 2, 'MOVE-EC-4ROS1': 3, 'ZWABBEREN': 10, 'TROMMEL': 6, 'STAAN-E': 2, 'ALSOF-D': 2, 'MOVE-HC-1O1RC': 1, 'OMHOOG': 1, 'TELEFOON-OPHANGEN': 2, 'MOVE-HC-2T': 2, 'JOEPIE': 4, 'AFSPRAAK-B': 3, 'WIP': 2, 'HALEN-B': 2, 'DRAW-4C': 7, 'MOVE-HC-4OS4O': 1, 'KIJKENALSVOGEL': 2, 'RONDKIJKENALSVOGEL': 2, 'HANDENINDEZIJ': 4, 'STAAN-G': 2, 'KLIMMEN-B': 4, 'SCHOK': 28, 'HANDOPTEKENTAFEL': 4, 'VERWARD-C': 6, 'KOPIEREN': 10, 'REGERING-D': 10, 'KANKER': 2, 'AIDS': 4, 'STABOL-B': 6, 'STOK-B': 2, 'POLITIE-B': 4, 'PAD': 2, 'AT-EC-1RO': 6, 'GEBAREN-E': 7, 'WURGEN': 1, 'SCHIETEN-A': 1, 'PROFESSIONEEL': 1, 'DRAWR-4RO': 3, 'TELEVISIE-D': 4, 'EXTRA-B': 6, 'MOVE-EC-4ROROS': 1, 'PSYCHOLOGIE-B': 6, 'SPLEETOOG': 3, 'DRAW-2RS': 1, 'CURSUS-B': 4, 'VOORUIT': 2, 'PISTOOL': 1, 'MOVE-EC-4RO4ROS': 1, 'WOKKEL-A': 2, 'GAMMA': 6, 'PRAXIS': 6, 'PRAIS': 1, 'HEFTRUCK': 2, 'GPALAT': 1, 'PRAX': 1, 'KARWEI': 5, 'SNOEP-A': 1, 'WOKE': 1, 'WOKKEL-B': 2, 'HAKA': 1, 'HAMKA': 8, 'SEKS': 8, 'SEKSUOLOOG': 8, 'ROOSTER': 3, 'GEVEN-E': 1, 'EISEN': 4, 'DRAW-4O': 4, 'VAAG': 2, 'PARIJS': 12, 'ABBE-DE-LEPEE': 3, 'REGISTRATIE': 2, 'ONTSPANNEN-E': 8, 'VRIJ-D': 4, 'AFRONDEN': 2, 'VERRASSING': 1, 'BEER-C': 2, 'BE-HC-2ROS': 2, 'ETEN': 4, 'BE-HC-2RO': 1, 'MOVE-HC-4C4OS': 1, 'BE-HC-2RSO': 2, 'BE-EC-5RC': 1, 'BE-EC-2ROS': 1, 'AT-EC-1D': 2, 'START-B': 1, 'BIJEENDRIJVEN-B': 2, 'GEBEUREN-B': 4, 'AFSTAND-C': 1, 'BEDRIEGEN': 1, 'FIETSSLOT': 10, 'GROEP-ONDER-ELKAAR': 4, 'BECYLINDER': 1, 'OPGELUCHT-C': 1, 'OPRUIMEN': 8, 'BEFLAT': 4, '80-A': 2, 'CENT': 1, 'DRONKEN-B': 1, 'RESER': 1, 'BEWAKEN': 3, 'MOVEFLAT': 15, 'OPBOUWEN': 6, 'METSELEN': 10, 'FUNDERIG': 1, 'BE-EC-1C': 2, 'BZW': 4, 'HUISMAAS': 2, 'WAGGELEN-C': 1, 'NUCHTER': 2, 'LOPEN-I': 6, 'AANDACHT-B': 4, 'BKW': 3, 'PAAR': 1, 'PIVOT0SPHERE': 2, 'PIVOT0CLOSED': 2, 'JAKKES': 2, 'MAAS': 2, 'LEUK-B': 1, 'TELHAND-7-A': 1, 'TELHAND-8-A': 1, 'SNELWEG': 8, 'APPEL': 2, 'BE-5': 2, 'SNELHEIDSMETER': 1, 'STUREN': 2, 'DRAW-1RC1O': 2, 'MOVE-HC-4ROS4RO': 2, 'MOVE-EC-4RC4ROS': 2, 'DRAW-1R': 2, 'DRAVEN-D': 12, 'BE-EC-4DOT': 2, 'MOVE-HC-04OS': 2, 'VOGELKOOI-B': 2, 'VENSTERBANK': 2, 'BUITEN-E': 8, 'ATFLAT': 4, 'MUUR-B': 2, 'MOVE-EC-2R2': 1, 'MOVE2': 1, 'MOVE-HC-5R-5': 2, 'PIVOTFLAT': 6, 'MOVE-EC-1C': 1, 'HOEK-B': 12, 'CL5': 2, 'INEENFROMMELEN': 2, 'AT-EC-5RS': 2, 'AAPNADOEN': 4, 'AAPACHTIGEBEWEGINGENMAKEN': 4, 'HANDENZOEKENDBEWEGEN': 2, 'KNIP': 6, 'STOK-C': 2, 'POES': 3, 'GEVEN-D': 1, 'VROUW-E': 1, 'BEFIST': 1, 'GEVEN-F': 1, 'MOVE-HC-01O': 1, 'MOVE-HC-2C': 1, 'NUMMER-D': 3, 'MOVE-EC-DOT': 6, 'NUMMER-B': 5, 'VERTROUWD': 2, 'KLEED': 2, 'BE-HC-4OS0': 1, 'EINDE-SCENE-B': 2, 'PET-A': 5, 'BE-HC-50': 1, 'MOVE-HC-4RS': 4, 'DWARS': 2, 'HANDENWAPPERENINDEVLUCHTOMHOOG': 2, 'BE-FLAT': 1, 'PLAT-A': 6, 'MOVE-EC-2ROS': 1, 'KLUNGELEN': 2, 'WISKUNDE-A': 8, 'TELESCOOP-A': 8, 'METRO-A': 2, 'ELEKTRICITEIT-B': 4, 'GEDULD': 1, 'BEDRIJF': 6, 'NAAM-D': 12, 'KENNEN-B': 9, 'VOORSTEL': 2, 'CI-AF-A': 9, 'DILEMMA': 5, 'INF': 2, 'ECHO': 2, 'DOLLAR-A': 2, 'MOVE-HC-1C1O': 2, 'FILMEN-B': 8, 'SOMS': 3, 'KRIMPEN': 4, 'PR': 1, 'WOD': 1, 'TRACE-1': 1, 'TRACE-1O': 1, 'STANDAARD-B': 6, 'MOVE-1': 2, 'OVEREENKOMST': 8, 'AFRIKA-C': 3, 'JAPAN': 8, 'GESCHIEDENIS-C': 6, 'GNGT': 1, 'GM': 1, 'NGNGT': 1, 'OUDERWETS': 8, 'NA-A': 3, 'POKER-A': 10, 'POKER-B': 10, 'POKER': 1, 'POSTZEGEL': 7, 'OPSTUREN-C': 2, 'BEFFEN': 2, 'GEEN-ZIN': 3, 'UITNODIGEN': 1, 'BLOWEN': 2, 'PIJPEN': 2, 'PIL': 1, 'BUS-D': 4, 'HEADSET': 3, 'BE-EC-2RC2RO': 1, 'HANDEN': 2, 'STATION-B': 1, 'ZAAL': 1, 'FEBRUARI-A': 10, 'MEI': 2, 'MEI-A': 3, 'SEPTEMBER-B': 2, 'INTERNET-E': 2, 'FEEDBACK': 1, 'STICHTING': 2, 'COACH': 4, 'MOVE-2': 1, 'KAART-B': 4, 'BANK-A': 2, 'COACH-B': 4, 'MARTINISTAD': 2, 'ERIC': 1, 'SPIJT-D': 3, 'PUBLIEK': 1, '12-C': 7, 'KICKEN': 1, 'BE-EC-4RC4ROS': 2, 'DRAVEN-C': 6, 'GEBOUW-D': 4, 'KLIMMEN-D': 4, 'BOEM': 2, 'DIK': 10, 'WAGGELEN-B': 2, 'UIT-C': 3, 'MOV5': 1, 'MOVE-HC-1R': 2, 'BE-4RO': 1, 'MALEN': 2, 'SHAPEFLAT': 16, 'BE-HC-GELD': 2, 'MOVE-HC-GELD5': 2, 'TRILLEN': 1, 'MOVE-HC-5O': 1, 'ONDERTITELING-A': 1, 'PICCOLO': 1, 'AANKLOPPEN': 6, 'PLANK-A': 2, 'DRAGEN': 4, 'GOOIEN-B': 2, '500^': 2, 'LBS': 1, 'VERSCHIJNEN': 2, 'OVERZICHT': 2, 'HOED': 7, 'STUURKNUPPEL': 2, 'BEELD': 2, 'KINDERACHTIG': 1, 'LUIDSPREKER': 1, 'SE': 1, 'SCHAAL': 2, 'BHTF': 1, 'TJANDE': 1, 'SENSE': 1, 'HANDVORM': 6, 'STAM': 4, 'STIJL-B': 10, 'ZACHT': 3, 'TOF': 3, 'MIX': 3, 'KRAMPACHTIG': 1, 'OVERLAP': 2, 'VERKRAMPEN': 1, 'PROJECTEREN': 1, 'KUNNEN-NIET-C': 4, 'REN': 1, 'REALI': 1, 'IN': 1, 'AAL': 1, 'SESP': 1, 'LUISTEREN-NIET-B': 2, 'COMPUTERMUIS': 1, 'UITKNIJPEN': 4, 'RUZIE-B': 4, 'EI-B': 2, 'ZOMER-B': 2, 'PLEGEN': 10, 'TRAM': 3, 'MAATSCHAPPELIJK': 2, 'KAST': 3, 'TANDENPOETSEN-A': 1, 'HELPEN-C': 2, 'OCHTEND-C': 1, 'KERST': 1, 'KEN-JIJ': 1, 'NOG': 1, 'GEMEENTE': 2, 'MEEL': 1, 'UITDOEN': 2, 'OMHELZEN': 1, 'TWEETY-B': 2, 'GOOT': 1, 'VROUW-D': 1, 'KNOT': 2, 'THEATER': 2, 'VOORSTELLING': 2, 'KAPSEL': 2, 'HANDENTEGENELKAAR': 2, 'MOVE-HC-4R0': 1, 'ATSMALOPEN': 1, 'SCHIJNHEILIGSTAANTEKIJKEN': 2, 'PAKKEN-C': 1, 'MOVE-HC-MONEY()': 1, 'PLANK-B': 8, 'BE2': 1, 'ZWAAR-D': 4, 'MEESTAL': 1, 'GEHANDICAPT-F': 2, '7UP': 2, 'OMKEREN': 2, 'COLA': 3, 'EERLIJK-A': 1, '15-A': 7, '17-A': 2, '11-C': 4, 'CASSIS': 2, 'SEVEN-UP': 3, 'SINAS': 2, '13-A': 3, '18-B': 1, 'EVENDENKEN': 1, 'DONDERDAG-A': 13, 'ZONDE': 6, 'EINDELIJK-B': 2, 'GEBRUIKEN-D': 2, 'EM': 1, 'KAAS-C': 2, 'HAGELSLAG-B': 2, 'WEEKEND-B': 16, 'VLAG-WAPPEREN': 5, 'COL': 1, 'JAM-B': 2, 'EEL': 1, 'VD': 1, 'ROZE-B': 1, 'DINSDA': 1, 'ROGGE': 2, 'AFBLIJVEN': 2, 'ROZE-A': 2, 'GEEL-B': 2, 'ORANJE-C': 8, 'VLAG': 9, 'KNIPPEN': 11, 'AN': 1, 'DRAAIEN-C': 2, 'CS': 1, 'LUSTEN': 1, 'MEES': 3, 'ZO': 2, 'ARCHIEF-A': 3, 'VOOR-E': 4, 'DOOF-F': 3, 'NU': 1, 'NEE': 2, 'BIJVOORBEELD-C': 3, 'TK': 1, 'KLUS': 1, 'VEEN': 1, 'NA-C': 1, 'SOMS-C': 1, 'OF-B': 3, 'HEN': 1, 'GEHOORAPPARAAT-D': 2, 'KLOK-A': 3, 'TODE': 1, 'VERBAASD-D': 1, 'TOEKOMST-B': 1, 'PROBEREN': 1, 'ZELFSTANDIG-B': 2, 'VERSTAAN': 2, 'NIKS-D': 2, 'PLOTSELING-B': 2, 'RUIS': 2, 'KOMEN-E': 2, 'MOVE1': 1, 'PIVOTSMALL-CLOSED': 1, 'MOVE': 3, 'MOVECYL': 1, 'WEGGOOIEN-B': 1, 'KUS': 1, 'MOVEBEAK': 2, 'MAG-NIET': 1, 'MOVEFLOWER': 1, 'NOG-C': 2, 'CI-E': 1, 'OORDOP-B': 3, 'ZO-C': 1, 'EERST-B': 1, 'ALLEMAAL-C': 3, 'TAAL': 1, 'LTS': 1, 'BE1': 1, 'EN-B': 2, 'AFHANKELIJK-E': 1, 'MNEER': 1, 'AMP': 1, 'MENKEER': 1, 'ELLEBOOGSTOOT': 1, 'ARM-C': 2, 'UUR-9-B': 4, 'DOLLAR-B': 12, 'UIT-D': 2, 'RIJ': 6, 'UITSMIJTER': 2, 'STROPDAS': 3, 'BANK-B': 2, 'RUSLAND': 7, 'RIJK-B': 1, 'TWEEEN-D': 7, 'PARFUM': 1, 'DOLLAR': 1, 'DOOR-DE-VINGERS-ZIEN': 1, 'LEEG': 1, 'VIP': 3, 'PORTOFOON': 4, 'SOFA': 1, 'WODKA': 1, 'DEFTIG-A': 2, 'KIPPEVEL': 2, 'UUR-2-A': 1, 'MAART-A': 2, 'RECLAME-B': 2, 'CUBA': 4, 'HAVANA': 1, 'CUBAANSE': 1, 'AMBASSADE': 3, 'ZWITSERLAND': 1, 'MOORD-D': 1, 'HITLER': 1, 'HILTER': 1, 'BUSH': 1, 'ONDERLICHAAM': 4, 'DEEL-D': 2, 'PROCENT-C': 2, 'BLOKKEREN': 2, 'OBJECTIEF': 2, 'AFWYKING': 1, 'BESTEMPELEN-C': 6, 'BLOKKAGE': 1, 'STEREOTYPE': 1, 'HUID-B': 1, 'LABORATORIUM': 2, 'TWENTSE': 1, 'UITSPREKEN-B': 1, 'DRENTSE': 1, 'DRACHTEN': 1, 'GELDERHORST': 4, '80-C': 1, 'BIOSCOOP': 1, 'IMMIGRATIE': 1, 'REGELMATIG-A': 2, 'DRETS': 1, 'DRETNS': 1, 'INTERNET-F': 16, 'VRIEND-E': 2, 'DRAW-1C1O1C': 2, 'EMIL': 1, 'MEIL': 1, 'UTRECHT-B': 11, 'INTERNET': 1, 'VERVELEN-D': 1, 'WIREL': 1, 'WIRELESS': 1, 'RE': 2, 'ZOIETS': 2, 'DESKUNDIG-B': 1, 'PANNEKOEK': 1, 'PANNENKOEK': 1, '11-D': 1, '12-D': 1, '16-A': 1, 'PROJECT': 2, 'HAND-SCHUDDEN-C': 4, 'PSL': 1, 'YOUTUBE': 1, 'COM': 1, 'GETUIGE': 1, 'VREEMD-F': 1, 'SAAI-B': 1, 'HU': 1, 'ZONDAG-B': 2, 'GLOSSEN': 4, 'JW': 1, 'STOPWATCH': 1, 'ELA': 1, 'LEEUW-A': 12, 'LIGGEN-E': 11, 'MUIS-B': 8, 'BREDE-SCHOUDERS': 2, 'JAGEN-A': 4, 'VANGNET-B': 2, 'VANGNET-A': 6, 'SCHRIKKEN-C': 4, 'MET-HANDEN-IN-DE-ZIJ-STAAN': 2, 'LEKKER-PUH': 1, 'MOVEOSPHERE': 2, 'HOED-C': 1, 'HANDENINELKAARSLAAN': 6, 'WRIJVENOOG': 2, 'BRIL-B': 2, 'HANDINDEZIJ': 1, 'MOVE-CLOSED': 1, 'VLOER': 2, 'MOVE-HC-4C5': 2, 'DUIZELIGWIEBELEN': 3, 'KRABBEN': 1, 'MUUR-D': 1, 'AT1': 1, 'BE-CLOSED': 1, 'GELD-B': 1, 'DRAGEN-A': 2, 'PIVOT-FLAT': 2, 'PLANK-C': 4, 'GEWICHT-A': 4, 'BREEDTE^HOOGTE': 2, 'SHAPE-FLAT': 19, 'DEUROPEN': 1, 'STRENG': 4, 'BIES': 1, 'UUR-3-B': 3, 'UUR-HALF-B': 1, 'SCHRIKKEN': 1, 'KRITIEK': 1, 'IRRITANT': 1, 'LELI': 1, 'CARNAVAL': 1, 'PUNK': 1, 'STIPT': 1, 'JOURNAAL-B': 2, 'NED': 1, 'AUSTRALIE': 4, 'DVD': 7, 'OVERLEGGEN-B': 4, 'WOORD-EN-GEBAAR': 2, 'IJVERIG': 2, 'OVERHEERSEN': 2, 'STROEF': 2, 'SAMENVATTEN': 2, 'VERSCHIL-B': 4, 'VERJ': 1, 'HERSEN-B': 3, 'PIVOT-SPHERE': 2, 'HAARCELLEN': 6, 'MOPPEREN-B': 2, 'TINNITUS': 12, 'THEORIE': 2, 'HOORN': 2, 'HERRIJZEN': 2, 'BE-SMALL-OPEN': 1, 'KIP-C': 1, 'SCHOOL-E': 2, '19-C': 3, 'VOLGZAAM': 2, 'INSTELLEN': 2, 'VROEGER-C': 2, 'GRIJS-C': 1, '100-B': 1, 'NOG-D': 1, 'ELEKTRICITEIT-E': 1, 'MACHINE': 2, 'ANDERE-KANT-C': 2, 'KERST-B': 1, 'NAAM': 1, 'SCHAKELAAR': 2, 'KLEIN-H': 1, 'WERKEN': 1, 'HUISHOUDEN': 4, 'TAART-A': 3, 'NAAIEN-C': 12, 'LANG-C': 2, 'DUIMEN': 2, 'NAAIEN-B': 5, 'TRUI-B': 2, 'BOOS': 2, 'GOED-D': 1, 'INSCHENKEN': 3, 'CHEF-B': 1, 'SLAGEN': 1, 'GEBAREN': 2, 'VERZAMELEN': 2, 'NODIG-D': 2, 'KUNNEN-B': 9, 'PLEZIER': 1, 'TOCH': 1, 'SCHAAP-B': 8, 'WOLF-B': 8, 'SCHAAP-E': 2, 'SAMEN-5': 4, 'CONTACT-B': 4, 'GOED-NIET': 4, 'UIT-B': 1, 'NOORWEGEN': 3, 'HEUVEL-PL': 1, 'PONT': 1, 'PET-B': 1, 'KAPITEIN': 1, 'BEWAREN-B': 2, 'JONGEN-B': 2, 'DICHT': 4, 'TOT-D': 2, 'AT-EC-5C': 3, 'MOVE-CL-5C': 4, 'LUIEREN': 2, 'MOVE-CL-4R': 2, 'AT-CL-5ROC': 6, 'SCHIJNEN': 1, 'VOS-A': 5, 'DIPLOMA-B': 10, 'STOER': 2, 'SCHEVENINGEN-B': 1, 'SCHEVENINGEN-A': 1, 'MOEDER-D': 1, 'ZEE': 1, 'REIZEN-B': 4, '3-ORD-B': 1, 'KRIJGEN-A': 3, 'VOOR': 1, 'JURK': 4, 'HANGERS': 2, 'KRULLEN': 2, 'OUDSTE-A': 1, 'LOLLY': 4, 'TREKKEN': 2, 'KNOP': 2, 'PIEPEN': 1, 'DEN-HAAG-A': 1, 'VOORBURG': 5, 'STOUT-C': 3, 'ROEMENIE-B': 2, 'PRETTIG-C': 1, 'BALEN-C': 1, 'DRAAIEN': 7, 'HANGEN': 2, 'HANGEN-B': 2, 'ANTENNE': 2, 'INDRUKKEN-A': 1, 'AT-HC-15R': 2, 'BAND': 2, 'ONTWIKKELEN-C': 2, 'DEFTIG-B': 1, 'REMMEN-C': 2, 'FIETSEN-B': 2, 'BE-CL-4R': 2, 'LONG': 1, 'WIJN': 1, 'SIMPEL': 1, 'REM': 1, 'PAAL': 1, 'BEEN-D': 3, 'PTOF': 1, 'CONCENTRATIE': 2, 'SPECIAAL': 2, 'VERSCHIL-D': 6, 'OFPT': 1, 'PECH-D': 1, 'MOVE5': 2, 'ROLSTOEL-D': 2, 'KLOPT-G': 2, 'HOREN-C': 1, 'MOVESMALL-OPEN': 2, 'LUI-B': 3, 'VERTROUWEN-B': 6, 'BATTERIJ-B': 2, 'OM7': 2, 'OPPAKKEN': 2, 'JAAR-E': 2, 'PROCENT-D': 4, 'ZOEKENB': 1, 'DOOF': 3, 'GAS-GEVEN': 1, 'DOM-C': 1, 'GAAT-OM': 1, 'VOORDEEL-B': 1, 'OM5': 1, 'SLECHTHOREND-B': 1, 'CI-C': 1, 'STEM-AF': 2, 'SLECHTHOREND-C': 3, 'HEE-B': 1, 'DUMPEN': 1, 'ZIELIG-B': 1, 'DOOF-G': 1, 'VEEL-D': 1, 'KIJKEN-D': 1, 'OP-F': 1, 'MEER-E': 1, 'CIW': 1, 'DUIDELIJK-B': 1, 'RONDKIJKEN': 1, 'GEWOON-F': 2, 'OUDSTE-C': 1, 'ICI': 1, 'ALLEBEI': 1, 'MOND-B': 1, 'MINDER-E': 1, 'AUTOMATISCH-D': 2, 'SCHOOL-G': 3, 'GEHOORAPPARAAT-B': 4, 'GEHOORAPPARAAT-AF': 1, 'BRR': 1, 'LEEUWARDEN-A': 2, 'BIT': 2, 'ZOETERMEER': 2, 'VINGERSPELLEN-BSL': 3, 'DIER': 4, 'BRABANT-B': 5, 'DRENTS': 1, 'STAR': 1, 'PINDA': 4, 'X': 1, 'ALBERT-HEIJN': 3, 'MIXER': 1, 'CAFE-B': 5, 'CAFE-D': 2, 'KROEG': 1, 'ONDERDRUKKEN-B': 2, 'PADS': 2, 'MOVE-CL-1RO': 1, 'NAIEF': 5, 'GOOFY': 1, '19-A': 1, 'HD': 1, 'VERREKIJKER-C': 2, 'ERUIT-SCHOPPEN': 2, 'MOVE-EC-4SRC': 2, 'KIN-VASTHOUDEN': 5, 'HANDEN-BIJ-ELKAAR': 2, 'BE-HC-4ROS5': 2, 'OVERGAAN': 1, '158': 1, 'FOCUS-B': 4, 'TOT-A': 4, 'TEKENEN-C': 1, 'ALLEEN-C': 2, 'NEDERLAND': 1, 'IETS': 1, 'BELANGRIJK': 1, 'ONDERDANIG-B': 2, 'MOVE-EC-4RC4S': 2, 'BE-HC-5OC': 1, 'BE-EC-5C': 1, 'SYLVSTR': 1, 'TW': 1, 'SYLVESTER-B': 4, 'AT-EC-2DW': 2, 'BE-AT-EC-2R': 1, 'SCHOUDER': 2, 'WILLEN-C': 1, 'GOOIEN-C': 1, 'WACHTEN': 2, 'MOVE-HC2RC': 2, 'DEPONEREN': 6, 'MOVE-HC-3RC': 1, 'BE-HC-3RC': 4, 'PCLO': 1, 'MAND': 2, 'GEWICHT-B': 2, 'MOVE-HC-4RS-5': 2, 'BE-EC-4HAND': 1, 'DUN-A': 2, 'KIST': 1, 'EH': 1, 'TELESCOOP-B': 6, 'KAMER-A': 2, 'MUUR-C': 1, 'AANMOEDIGEN': 2, 'OPTRAMLIJNVOLGEN': 1, 'MOVE-EC-22R2': 1, 'MOVE-CAMERA': 1, 'HERHALEN': 1, 'CORPUS': 6, 'PUS': 2, 'JOYSTICK': 2, 'DRAVEN-B': 2, 'AT-EC-4S': 1, 'EC-4RO': 1, 'EXPLOSIE': 2, 'MOVE-EC-4RS': 1, 'BE-EC-2DP': 1, 'LIFT-ASL': 2, 'HANDDOEK': 2, 'DRAWR-5R': 1, 'LINEAAL-A': 2, 'LINEAAL-B': 2, 'TOUW-C': 2, 'STIK-C': 1, 'FESTIVAL': 2, 'SHOARMA': 2, 'MAROKKO': 2, 'UITKERING': 9, 'SURINAME-A': 2, 'KAJANA': 1, 'SLAAF': 1, 'WA': 4, 'FABRIEK-A': 4, 'AFHOUDEN': 2, 'KOPJE-D': 2, 'CV': 2, 'WAJ': 1, 'VOORBEELD': 2, 'PILOOT': 2, 'LAURENT-CLERC': 1, 'THOMAS-GALLAUDET': 1, 'ONGELOFELIJK-B': 1, 'WOU': 1, 'STEWARDES': 1, 'HANDICAP': 2, 'NIEMAND-C': 2, 'INTELLIGENT': 2, 'UUR-LANG-6-B': 2, 'JROVERLEG': 2, 'UUR-LANG-10-C': 1, 'INZINKING': 2, 'OPVANG': 2, 'PUUR': 1, 'LUNCH': 1, 'UUR-LANG-10-B': 1, '14-C': 1, 'KWARTIER-B': 2, 'UNIVERSITEIT-B': 2, 'VERSCHIL-C': 4, 'STROMING': 2, 'DOKTER-C': 1, 'INDIA': 1, 'ROEMENIE-A': 4, 'HOLLAND-A': 6, 'HONGARIJE': 1, 'PUNT-B': 1, 'VANDAAR-B': 2, 'ROEMENIE-C': 2, 'HOMO-B': 2, 'SENSEO-F': 12, 'SENSEO-G': 11, 'HOMO-C': 1, 'TOM': 1, 'GRAAG-D': 1, 'HAND-OP-BUIK': 5, 'KLIMMEN-E': 2, 'AT-HC-4RC': 1, 'METHANDENOPDERUGLOPEN': 2, 'BE-HC-5R-5': 2, 'BUIS-C': 2, 'FLUITEN-A': 1, 'BEDANKEN-C': 1, 'MOVE-HC-MONEY5': 2, 'NUMMER-E': 1, '100': 1, '8': 1, '50': 1, 'HANDENINZIJ': 4, 'HOUT-B': 1, 'AT': 1, 'DRAW-B-PLAT': 1, 'KT': 1, 'BE-EC-5ARM': 2, 'REKENMACHINE': 2, 'DRAWR-MONEY': 1, 'KLAUWEN': 2, 'SNUFEFLEN-C': 2, 'BEWEGEN-MET-HANDEN': 2, 'HEBBEN-E': 1, 'BEEN-AF': 2, 'NOGTEZOEKEN': 2, 'NOGOPTEZOEKEN': 3, 'GEBAREN-G': 7, 'PLAKKEN-B': 1, 'NIETS-KUNNEN': 2, 'NOGOPZOEKEN': 7, 'OUDERS-D': 4, 'WETEN-NIET-B': 1, 'OBSERVEREN': 1, 'WAT-F': 1, 'KLOOF': 1, 'MOVECYLINDER': 1, 'WETEN-C': 1, 'NOGOPZOEKEN-GEVEN': 2, 'NOGOPZOEKENTWEEEN-D': 2, 'NOGOPZOEKENWEG-': 2, 'ZELF-B': 1, 'NOGOPZOEKENBIJVOORBEELD-A': 1, 'HAALBAAR': 1}\n"
     ]
    }
   ],
   "source": [
    "total_unique_glosses = dict()\n",
    "\n",
    "def getStats(directorygloss, directorytrans, trans=True, CorpusNGT=False):\n",
    "    # Gets statistics like average video duration, number of translated videos, number of unique glosses, number of sentences, avg number of sentences etc\n",
    "    # for every video in the ECHO and CorpusNGT corpus.\n",
    "\n",
    "    unique_glosses = dict()\n",
    "    gloss_count = dict()\n",
    "    translated_video_count = 0\n",
    "    glossed_video_count = 0\n",
    "    sentence_count = 0\n",
    "    video_lengths = []\n",
    "    video_gloss_counts = []\n",
    "\n",
    "    if trans:\n",
    "        for filename in os.listdir(directorytrans):\n",
    "            f = os.path.join(directorytrans, filename)\n",
    "            file, extension = filename.split('.')\n",
    "\n",
    "            # For the csv file, we get all the statistics like gloss count etc\n",
    "            if extension == 'csv':\n",
    "                translated_video_count += 1\n",
    "                glossed_video_count += 1\n",
    "                gloss = pd.read_csv(f, header=None, names = ['signer', 'start time', 'start seconds', 'stop time', 'stop seconds', 'value', 'gloss'])\n",
    "                gloss = gloss.dropna(axis=0)\n",
    "\n",
    "                try:\n",
    "                    sentences = gloss.loc[[\"Translation Dutch\"]]\n",
    "                    sentence_count += len(sentences)\n",
    "                except:\n",
    "                    pass\n",
    "                try:\n",
    "                    sentences = gloss.loc[[\"Dutch Translation\"]]\n",
    "                    sentence_count += len(sentences)\n",
    "                except:\n",
    "                    pass\n",
    "\n",
    "    for filename in os.listdir(directorygloss):\n",
    "        f = os.path.join(directorygloss, filename)\n",
    "        file, extension = filename.split('.')\n",
    "        # For the csv file, we get all the statistics like gloss count etc\n",
    "\n",
    "        if extension == 'csv':\n",
    "            glosses_in_video = 0\n",
    "            glossed_video_count += 1\n",
    "            gloss = pd.read_csv(f, header=None, names = ['signer', 'start time', 'start seconds', 'stop time', 'stop seconds', 'value', 'gloss'])\n",
    "            gloss = gloss.dropna(axis=0)\n",
    "\n",
    "            if not CorpusNGT:\n",
    "                glossRH = gloss.loc[\"Gloss RH Dutch\"]\n",
    "                glossLH = gloss.loc[\"Gloss LH Dutch\"]\n",
    "                gloss = pd.concat([glossRH, glossLH])\n",
    "\n",
    "            for item in gloss['gloss']:\n",
    "                \n",
    "                item = cleanItem(item)\n",
    "                item = ''.join(item)\n",
    "                \n",
    "                if item == '':\n",
    "                    continue\n",
    "                glosses_in_video += 1\n",
    "                if item not in unique_glosses:\n",
    "                    n = len(unique_glosses)\n",
    "                    unique_glosses[item] = n\n",
    "                    if item not in total_unique_glosses:\n",
    "                        n = len(total_unique_glosses)\n",
    "                        total_unique_glosses[item] = n\n",
    "                    gloss_count[item] = 0\n",
    "                gloss_count[item] = gloss_count[item]+1\n",
    "            video_gloss_counts.append(glosses_in_video)\n",
    "\n",
    "        if extension == 'mpg':\n",
    "            video = VideoFileClip(f)\n",
    "            duration = video.duration\n",
    "            video_lengths.append(duration)\n",
    "            video.reader.close()\n",
    "\n",
    "    average_video_gloss_count = sum(video_gloss_counts)/len(video_gloss_counts)\n",
    "    average_video_length = sum(video_lengths)/len(video_lengths)\n",
    "    return(translated_video_count, glossed_video_count, unique_glosses, gloss_count, average_video_length, sentence_count, average_video_gloss_count)\n",
    "\n",
    "def writeStats(translated_video_count, glossed_video_count, unique_glosses, gloss_count, average_video_length, sentence_count, average_video_gloss_count, name='data_statistics.txt', CorpusNGT=False):\n",
    "    with open('Data/' + name, 'w') as f:\n",
    "        f.write(\"Nr of glossed videos: \\t\\t\\t\" + str(glossed_video_count) + \"\\n\")\n",
    "        f.write(\"Nr of unique glosses: \\t\\t\\t\" + str(len(unique_glosses)) + \"\\n\")\n",
    "        f.write(\"Nr of total glosses: \\t\\t\\t\" + str(sum(gloss_count.values())) + \"\\n\")\n",
    "        f.write(\"Average length of videos: \\t\\t\" + str(average_video_length) + \" sec or \" + str(average_video_length/60) + \" min\" + \"\\n\")\n",
    "        f.write(\"Avg number of glosses per video: \\t\" + str(average_video_gloss_count) + \"\\n\")\n",
    "        if not CorpusNGT:\n",
    "            f.write(\"Avg number of glosses per sentence: \\t\" + str(average_video_gloss_count/(sentence_count/translated_video_count)) + \"\\n\")\n",
    "            f.write(\"Avg number of sentences per video: \\t\" + str(sentence_count/translated_video_count) + \"\\n\")\n",
    "            f.write(\"Nr of sentences: \\t\\t\\t\" + str(sentence_count) + \"\\n\")\n",
    "            f.write(\"Nr of translated videos: \\t\\t\" + str(translated_video_count) + \"\\n\")\n",
    "\n",
    "glossdir = \"Data/ECHO/gloss/\"\n",
    "glosstransdir = \"Data/ECHO/gloss_trans/\"\n",
    "\n",
    "translated_video_count, glossed_video_count, e_unique_glosses, e_gloss_count, average_video_length, sentence_count, average_video_gloss_count = getStats(glossdir, glosstransdir)\n",
    "writeStats(translated_video_count, glossed_video_count, e_unique_glosses, e_gloss_count, average_video_length, sentence_count, average_video_gloss_count, name='data_statistics_ECHO.txt')\n",
    "\n",
    "print(\"Nr of translated videos in ECHO: \\t\\t\" + str(translated_video_count))\n",
    "print((\"Nr of glossed videos in ECHO: \\t\\t\\t\" + str(glossed_video_count)))\n",
    "print(\"Nr of unique glosses in ECHO: \\t\\t\\t\" + str(len(e_unique_glosses)))\n",
    "print(\"Nr of total glosses in ECHO: \\t\\t\\t\" + str(sum(e_gloss_count.values())))\n",
    "print(\"Nr of sentences in ECHO: \\t\\t\\t\" + str(sentence_count))\n",
    "print(\"Average length of videos in ECHO: \\t\\t\" + str(average_video_length) + \" sec or \" + str(average_video_length/60) + \" min\")\n",
    "print(\"Avg number of sentences per video in ECHO: \\t\" + str(sentence_count/translated_video_count))\n",
    "print(\"Avg number of glosses per video in ECHO: \\t\" + str(average_video_gloss_count))\n",
    "print(\"Avg number of glosses per sentence in ECHO: \\t\" + str(average_video_gloss_count/(sentence_count/translated_video_count)))\n",
    "print(\"Count for each gloss in ECHO: \\t\\t\\t\" + str(e_gloss_count))\n",
    "print()\n",
    "\n",
    "glossdir = \"Data/CorpusNGT/gloss/\"\n",
    "\n",
    "translated_video_count, glossed_video_count, c_unique_glosses, c_gloss_count, average_video_length, sentence_count, average_video_gloss_count = getStats(glossdir, glosstransdir, trans=False, CorpusNGT=True)\n",
    "writeStats(translated_video_count, glossed_video_count, c_unique_glosses, c_gloss_count, average_video_length, sentence_count, average_video_gloss_count, name='data_statistics_CorpusNGT.txt', CorpusNGT=True)\n",
    "\n",
    "print((\"Nr of glossed videos in CNGT: \\t\\t\\t\" + str(glossed_video_count)))\n",
    "print(\"Nr of unique glosses in CNGT: \\t\\t\\t\" + str(len(c_unique_glosses)))\n",
    "print(\"Nr of total glosses in CNGT: \\t\\t\\t\" + str(sum(c_gloss_count.values())))\n",
    "print(\"Average length of videos in CNGT: \\t\\t\" + str(average_video_length) + \" sec or \" + str(average_video_length/60) + \" min\")\n",
    "print(\"Avg number of glosses per video in CNGT: \\t\" + str(average_video_gloss_count))\n",
    "print(\"Count for each gloss in CNGT: \\t\\t\\t\" + str(c_gloss_count))"
   ]
  },
  {
   "cell_type": "code",
   "execution_count": 17,
   "metadata": {},
   "outputs": [],
   "source": [
    "# Save dict of unique glosses and labels\n",
    "np.save('Data/CorpusNGT/gloss_labels.npy', c_unique_glosses)\n",
    "np.save('Data/ECHO/gloss_labels.npy', e_unique_glosses)"
   ]
  },
  {
   "cell_type": "code",
   "execution_count": 18,
   "metadata": {},
   "outputs": [],
   "source": [
    "np.save('Data/CorpusNGT/gloss_counts.npy', c_gloss_count)\n",
    "np.save('Data/ECHO/gloss_counts.npy', e_gloss_count)"
   ]
  },
  {
   "cell_type": "markdown",
   "metadata": {
    "id": "fLWPUPmmjlsa"
   },
   "source": [
    "## Preprocess all ECHO data and CorpusNGT\n",
    "\n",
    "Meaning, we split the videos into gloss sized chunks, and we create a csv file with all the glosses matched to sentences"
   ]
  },
  {
   "cell_type": "code",
   "execution_count": 19,
   "metadata": {
    "id": "QvKoGMA6ohiG"
   },
   "outputs": [],
   "source": [
    "c_unique_glosses = np.load('Data/CorpusNGT/gloss_labels.npy', allow_pickle='TRUE').item()\n",
    "#print(read_dictionary['WANDELEN']) # displays \"world\""
   ]
  },
  {
   "cell_type": "code",
   "execution_count": 20,
   "metadata": {
    "colab": {
     "base_uri": "https://localhost:8080/"
    },
    "id": "6XnM5ouHB1qM",
    "outputId": "afcaa13a-eafa-47ca-a66c-b4b454bc5ad1",
    "scrolled": true
   },
   "outputs": [
    {
     "name": "stdout",
     "output_type": "stream",
     "text": [
      "{'GLOSS': 0, 'LANG-B': 1, 'PO': 2, 'ZONDAG-A': 3, 'FIETSEN': 4, 'LOPEN-D': 5, 'WATER-A': 6, 'SPRINGEN-B': 7, 'STAAN-D': 8, 'BEEN-B': 9, 'GEK-A': 10, 'HOND-A': 11, 'SPRINGEN-A': 12, 'DUWEN': 13, 'MOVE-EC-5S': 14, 'MEE': 15, 'MOVE-EC-5': 16, 'GOOIEN': 17, 'KLAAR-A': 18, 'KLEREN-B': 19, 'VOCHTIG': 20, 'LACHEN-A': 21, 'UITKLEDEN-B': 22, 'VAN-A': 23, 'BROEK': 24, 'AANKLEDEN-A': 25, 'AL': 26, 'WACHTEN-A': 27, 'DROOG-A': 28, 'AANKLEDEN-B': 29, 'WEG-C': 30, 'MOVE-EC-1': 31, 'BROOD-B': 32, 'JAM-A': 33, 'ONDERWIJS': 34, 'INTERNAAT-C': 35, 'ONGESTELD': 36, 'VERSCHILLENDE-A': 37, 'DUS-A': 38, 'ZENUWACHTIG-D': 39, 'OPGELUCHT-A': 40, 'BETER': 41, 'VERSLAAN': 42, 'GOED-B': 43, 'LOPEN-B': 44, 'PANTOFFELS': 45, 'BE-EC-B': 46, 'UUR-7-B': 47, 'BINNEN': 48, 'MOETEN-A': 49, 'LAATSTE-A': 50, 'PT': 51, 'MOOI-A': 52, 'HANDEN-WRIJVEN-B': 53, 'SCHRIKKEN-B': 54, 'SCHRIKKEN-A': 55, 'SCHREEUWEN-A': 56, 'VLUCHTEN': 57, 'KAPOT': 58, 'BE-EC-4': 59, 'HOUDEN-VAN': 60, 'SCHOOL-C': 61, 'ZATERDAG-B': 62, 'KAART-A': 63, 'BE-HC-MONEY': 64, 'BEZOEK-A': 65, 'TREIN': 66, 'BRIEF-A': 67, 'KUNNEN-A': 68, 'WAAR-A': 69, 'OPEN-C': 70, 'GEZELLIG': 71, 'PRATEN-F': 72, 'VERHAAL': 73, 'PRECIES': 74, 'KERK': 75, 'WIJ': 76, 'GAAN': 77, 'S': 78, 'MOEDER-A': 79, 'RUIMTE': 80, 'HOND-C': 81, 'HONDENRIEM': 82, 'ALTIJD-A': 83, 'DAN-A': 84, 'EIGEN-B': 85, 'RIVIER': 86, 'LAAT-MAAR': 87, 'STINKEN-A': 88, 'POEP': 89, 'EVEN': 90, 'ANDERE-KANT-B': 91, 'SNEL-A': 92, 'WILLEN-NIET': 93, 'LACHEN-B': 94, 'ERG-A': 95, 'HEE': 96, 'WAT-A': 97, 'POT': 98, 'DUUR': 99, 'ECHT-A': 100, 'SCHOOL-A': 101, 'OPGROEIEN': 102, 'VOLWASSEN-PL': 103, 'BAKVIS': 104, 'NOG-NIET': 105, 'HAREN': 106, 'JONGEN-A': 107, 'GRAAG-B': 108, 'ZIEN-A': 109, 'NAGELBIJTEN': 110, 'PRETTIG-A': 111, 'ROEPEN': 112, 'DURVEN': 113, 'STIL-A': 114, 'OOK-A': 115, 'ZOEKEN': 116, 'BE-EC-4RO': 117, 'MOVE-EC-4RO': 118, 'KWAST': 119, 'OP-B': 120, '1-A': 121, 'AFSPRAAK-C': 122, 'DRAW-4RO': 123, 'KIJKEN-A': 124, 'WEG-E': 125, 'MEISJE-A': 126, 'EMOTIE-B': 127, 'ALLEMAAL-A': 128, 'STOUT-B': 129, 'VROEGER-A': 130, 'RELATIE': 131, 'HOP': 132, 'POPT': 133, 'KOMEN-A': 134, 'NEE-C': 135, 'AANBELLEN': 136, 'OPSTUREN-A': 137, 'HEBBEN-A': 138, 'TELEFOON-D': 139, 'WC-D': 140, 'DEKSEL': 141, 'TELEFOON-B': 142, 'GROEP-A': 143, 'WANDELEN': 144, 'BE-HC-5RC': 145, 'MOVE-CL-5RC': 146, 'PANIEK-A': 147, 'DOEN-A': 148, 'HELPEN-A': 149, 'WASSEN-C': 150, 'DRAW-4': 151, 'INPAKKEN': 152, 'TELHAND-2-B': 153, 'TELHAND-3-A': 154, 'TAS': 155, 'MOVE-EC-4': 156, 'KAMP-A': 157, 'GEBEUREN-A': 158, 'JEUGDHERBERG': 159, 'AMSTERDAM': 160, 'SCHRIJVEN-D': 161, 'REGELS-A': 162, 'SCHRIJVEN-B': 163, 'UITKLEDEN-A': 164, 'JONG-A': 165, '20-B': 166, 'OUD-A': 167, 'DOOF-A': 168, 'DOOF-C': 169, 'VROUW-A': 170, 'BE-HC-4ROS': 171, 'EI-A': 172, 'BE-HC-5RS': 173, 'VER': 174, 'SORRY-D': 175, 'DENKEN': 176, 'ANDERS-B': 177, 'MIS-A': 178, 'BELGIE-B': 179, 'MAAR': 180, 'ETEN-A': 181, 'ACHTER-A': 182, 'SUIKER': 183, 'SCHEUR': 184, 'HAGELSLAG-A': 185, 'HELE': 186, 'VANDAAR-A': 187, 'NEE-B': 188, 'N': 189, 'WEGGAAN-A': 190, 'SLAPEN-A': 191, 'WIE-A': 192, 'EERST': 193, 'SLIM-A': 194, 'TOCH-B': 195, 'GRAPPIG-A': 196, 'STOUT-A': 197, 'LEKKER-A': 198, 'VROEGER-B': 199, 'WC-C': 200, 'OPA-D': 201, 'GEHANDICAPT-A': 202, 'NOOIT-B': 203, 'WETEN-A': 204, 'VERTELLEN': 205, 'ALLES-A': 206, 'OF': 207, 'ZO-A': 208, 'PLOTSELING': 209, 'VOLGEN': 210, 'STOK-A': 211, 'TELHAND-2-A': 212, 'KLOPT-D': 213, 'BEGRIJPEN': 214, 'CULTUUR': 215, 'VOELEN-A': 216, 'ZEGGEN': 217, 'HALLO': 218, 'ZELF': 219, 'TOEVALLIG-B': 220, 'PUNT-A': 221, 'BEDOELEN': 222, 'BESTEMPELEN-A': 223, 'VERVELEN-A': 224, 'ORAAL-B': 225, 'MOEILIJK': 226, 'VRAGEN': 227, 'NU-A': 228, 'NIEUW-A': 229, 'HOREN-A': 230, 'KLOPT-A': 231, 'VERBAASD-A': 232, 'CONGRES': 233, 'GEBAREN-A': 234, 'TELHAND-1-A': 235, 'PRIMA': 236, 'COMMUNICEREN': 237, 'DISCUSSIEREN': 238, 'NIET-B': 239, 'ROLSTOEL-C': 240, 'BLIJVEN': 241, 'NAAR': 242, 'NAAMGEBAAR': 243, 'REGERING-A': 244, 'AANSLUITEN': 245, 'WERKEN-A': 246, 'HAND': 247, 'ZIEN-B': 248, 'AF-A': 249, 'PV': 250, 'KLOPT-B': 251, 'PAKKEN-A': 252, 'GEVANGENIS': 253, 'VAAK': 254, 'TOLK': 255, 'VERPLAATSEN': 256, 'VRIEND-A': 257, '4-A': 258, 'CANADA': 259, 'VEEL-A': 260, 'KOMEN-B': 261, 'BUITENLAND': 262, 'EUROPA-C': 263, 'ENGELAND-B': 264, 'TAAL-D': 265, 'GOED-A': 266, 'AFRIKA-B': 267, 'EGYPTE': 268, 'BEETJE': 269, 'TELHAND': 270, 'GROOT-B': 271, 'CONTROLEREN': 272, 'NIET-A': 273, 'BIJ-D': 274, 'SLECHT-B': 275, 'GISTEREN': 276, 'AVOND-B': 277, 'OP-A': 278, 'OMDAT-A': 279, 'BETEKENEN': 280, 'RADIO': 281, 'VERVELEND': 282, 'BEDANKEN-A': 283, 'VREEMD-A': 284, 'NIEUW-B': 285, 'JA-A': 286, 'OUD-B': 287, 'MAN-A': 288, 'STRAF-A': 289, 'POLITIE-A': 290, 'MOVE-CL-5': 291, 'LATER-C': 292, 'NOOIT-D': 293, 'ALLEEN-A': 294, 'FOUT-B': 295, 'LEREN': 296, 'TWEEEN-A': 297, 'BESTE-B': 298, 'PRATEN-A': 299, 'ANDERE-KANT-A': 300, 'VECHTEN': 301, 'SAMEN-A': 302, 'WEG-D': 303, 'BLIND-A': 304, 'ZENUWACHTIG-C': 305, 'INTEGREREN': 306, 'APART-A': 307, 'ZITTEN-A': 308, 'AANPASSEN': 309, 'EDE': 310, 'OPKOMEN': 311, 'SPORT': 312, 'APART-B': 313, 'JAMMER-B': 314, 'KOMEN-C': 315, 'VEEL-B': 316, 'AANLEUNEN': 317, 'WONEN-B': 318, '2-A': 319, 'MENS': 320, 'DAG': 321, 'ERBIJ-A': 322, 'HEFTIG': 323, 'GELUKKIG': 324, 'PT-PO': 325, 'STEM-A': 326, 'PRATEN-E': 327, 'STEMMEN': 328, 'VOOR-D': 329, 'CLUB-A': 330, 'WEL': 331, 'WELKE-A': 332, 'LUISTEREN': 333, 'ONDER': 334, 'HANDIG': 335, 'GEHANDICAPT-C': 336, 'MAGER-A': 337, 'GROEP-C': 338, 'OVER-A': 339, 'KRANT-A': 340, 'KLAGEN-A': 341, 'HOOFD-C': 342, 'VERSTAND': 343, 'VISUEEL': 344, 'E': 345, 'DOVEN': 346, 'DOVE': 347, 'MOVE-HC-MONEY': 348, 'VRIJ-C': 349, 'INFORMEREN': 350, 'KIND-PL': 351, 'DOOR-ELKAAR-B': 352, 'ZELFDE-A': 353, 'OEFENEN-A': 354, 'ENZOVOORTS-B': 355, 'GEBOREN-A': 356, 'TEGEN-A': 357, 'BLIJ-B': 358, 'ONTWIKKELEN-B': 359, 'WELKOM': 360, 'CONTACT': 361, 'WEGGOOIEN': 362, 'MISSCHIEN-A': 363, 'NODIG-C': 364, 'ZWAK': 365, 'VOOR-C': 366, 'GELUID': 367, 'ONDERSTEUNEN': 368, 'GEHOORAPPARAAT': 369, 'THUIS-A': 370, 'STERK': 371, 'KLEIN-D': 372, 'DOCHTER': 373, 'C': 374, 'CI-A': 375, 'BLIJ-A': 376, 'PAS-B': 377, 'LIEF-A': 378, 'ALS-B': 379, 'DRUK': 380, 'KENNEN-A': 381, 'STEM-D': 382, 'SOMMIGEN': 383, 'HYPOCRIET': 384, 'KIND-A': 385, 'KLEIN-A': 386, 'BIJVOORBEELD-A': 387, 'CI': 388, 'VOOR-A': 389, 'GELOVEN': 390, 'MEER-A': 391, 'PAS-A': 392, 'TAAL-B': 393, 'LASTIG': 394, 'ELKE-C': 395, 'ONTWIKKELEN-A': 396, 'LICHAAM-A': 397, 'GEBOREN-B': 398, 'GROOT-A': 399, 'KLEIN-C': 400, 'GEHANDICAPT-B': 401, 'OVERDRIJVEN-A': 402, 'ZOON': 403, 'VADER-B': 404, 'MENS-PL': 405, 'LUKKEN-A': 406, 'PROBLEEM': 407, 'SCHRIJVEN-C': 408, 'GELUK-B': 409, 'MOVE-HC-4RC5': 410, 'MOVE-EC-4R5': 411, 'STRAKS': 412, 'SCHOOL-D': 413, 'ROEPEN-B': 414, 'KLEIN-B': 415, 'PRATEN-C': 416, 'SOMS-A': 417, 'VERZOEKEN': 418, 'NAAM-C': 419, 'I': 420, 'LIEF-B': 421, 'PERFECT': 422, 'BEGINNEN-A': 423, '6-A': 424, 'GAUW': 425, 'LOGOPEDIE-A': 426, 'ORAAL-A': 427, 'MAMA': 428, 'VADER-A': 429, 'JAAR-B': 430, 'LANGZAAM': 431, 'L': 432, 'R': 433, 'NEE-A': 434, 'ZUS-B': 435, 'ROTTERDAM-B': 436, 'SORRY-A': 437, '5': 438, '70-A': 439, 'LIEGEN': 440, '60-A': 441, '100-A': 442, 'PROCENT-A': 443, 'O': 444, 'VERLEGEN-A': 445, 'PB': 446, 'GENOEG': 447, 'TEVREDEN-B': 448, 'PRATEN-D': 449, 'WEG-B': 450, 'BE-EC-5': 451, 'TEST': 452, 'ZWANGER-A': 453, 'ZIEK-B': 454, 'ZELFDE-B': 455, 'ANDERSOM': 456, 'ZELFDE-C': 457, 'LEVEN-B': 458, 'EIGENLIJK': 459, 'MODERN': 460, '2-ORD': 461, 'GRAAG-A': 462, 'ABORTUS': 463, 'ONZIN-B': 464, 'TOT-B': 465, 'MONGOOL': 466, 'BANG-A': 467, 'DAN-B': 468, 'WILLEN-A': 469, 'ZWAAR-C': 470, 'BLIJ-C': 471, 'DWN': 472, 'DOWN': 473, 'ALLEEN-B': 474, 'AF-B': 475, 'IETS-A': 476, 'ERVARING-B': 477, 'BUIK': 478, 'LOGISCH': 479, 'TEVREDEN-A': 480, 'TERUG': 481, 'ZWANGER-B': 482, 'GORDIJN': 483, 'SLAPEN-B': 484, 'WEG-A': 485, 'PASSIEF': 486, 'NIKS-C': 487, 'IN-A': 488, 'TEGEN-B': 489, 'BEMOEIEN-A': 490, 'VERSTOPPEN-B': 491, 'EIGEN-A': 492, 'SOP': 493, 'IN-D': 494, 'MAL': 495, 'IN-C': 496, 'ERFELIJK': 497, 'IVF': 498, 'ONTSPANNEN-B': 499, 'ZORGEN-A': 500, 'HART-B': 501, 'ANDERS-C': 502, 'PERSOON-C': 503, 'ZEKER': 504, 'PRATEN-B': 505, 'EERLIJK-C': 506, 'WAAROM': 507, 'HUILEN-A': 508, 'VARIATIE': 509, 'OUDERS-B': 510, 'PRETTIG-B': 511, 'MOOI-B': 512, 'ALLEMAAL-B': 513, 'GRAAG-C': 514, 'MAKEN-A': 515, 'NIEUW-C': 516, 'SCHOON': 517, '3-ORD-A': 518, 'WILLEN-B': 519, '20-A': 520, 'BAAS': 521, 'MAKKELIJK': 522, 'BELLEN': 523, 'REAGEREN': 524, 'ONDERDANIG': 525, 'BEWEGEN': 526, 'HOOG': 527, 'AMERIKA': 528, 'REGERING-B': 529, 'BAAS-B': 530, 'OMGAAN-A': 531, 'OPVOEDEN': 532, 'SPELEN-B': 533, 'VERDWIJNEN-C': 534, 'COMPUTER-A': 535, 'VLAKBIJ-A': 536, 'ZUINIG': 537, 'INZETTEN': 538, 'HALEN': 539, 'DOKTER-A': 540, 'BEL': 541, 'DING-PL': 542, 'ROEPEN-A': 543, 'TIJD-A': 544, 'SLAAN-A': 545, 'NU-B': 546, 'ZWAKBEGAAFD-A': 547, 'MISSELIJK': 548, 'OVERNEMEN': 549, 'INTERNAAT-B': 550, 'GELD': 551, 'SORRY-B': 552, 'FILMEN-A': 553, 'OVERLEGGEN-A': 554, 'BESTAAN-A': 555, 'AANWEZIG': 556, 'VERDWIJNEN-B': 557, 'HUIS-B': 558, 'ORGANISEREN': 559, 'ONGEVEER': 560, 'ANTWOORD-A': 561, 'J': 562, 'EINDELIJK-A': 563, 'PERIODE-A': 564, 'BOND': 565, 'PERIODE-B': 566, 'AFHANKELIJK-C': 567, 'TWEEEN-C': 568, 'NADENKEN-A': 569, 'ZWEMMEN-A': 570, 'BESTUUR': 571, 'SCHEIDEN': 572, 'JE-BEST-DOEN': 573, 'VREEMD-B': 574, 'VERANDEREN-A': 575, 'KAARTEN': 576, 'WATERPOLO': 577, 'MINDER-A': 578, 'DRINKEN-A': 579, 'GUYOT': 580, 'INTERNATIONAAL': 581, 'GEBAREN-C': 582, 'AFHANKELIJK-A': 583, 'VERSCHIL-A': 584, 'REGIO-A': 585, 'WEIGEREN': 586, 'COMPUTER-B': 587, 'ANDERS-A': 588, 'LENTE': 589, 'HOTEL-A': 590, 'ONTSTAAN': 591, 'SCHOOL-B': 592, 'ST-MICHIELSGESTEL': 593, 'BEZOEK-D': 594, 'BEZOEK-C': 595, 'GRONINGEN': 596, 'HOE-D': 597, 'VERANDEREN-B': 598, 'CREATIEF': 599, 'HEEN-EN-WEER': 600, 'SUKKEL-B': 601, 'VLAG-PL': 602, 'LEUK': 603, 'BEZIG': 604, 'DORDRECHT-A': 605, 'CURSUS-A': 606, 'WELKE-C': 607, 'VINDEN-B': 608, 'HALT': 609, 'TELHAND-5': 610, 'VERZAMELEN-A': 611, '22': 612, 'ONTMOETEN-C': 613, 'TELHAND-4-A': 614, 'TERUGTREKKEN': 615, 'A': 616, 'B': 617, 'D': 618, 'VINGERSPELLEN': 619, 'MERKEN': 620, 'Z': 621, 'KIEZEN': 622, 'EFFATHA': 623, 'BALEN-E': 624, '9-A': 625, 'MAAKT-NIET-UIT': 626, 'ARNHEM': 627, '3-B': 628, 'VERHUIZEN-A': 629, 'WERELD-A': 630, 'OOK-C': 631, 'NEDERLAND-A': 632, 'ERBIJ-B': 633, 'WC-B': 634, 'TUSSEN': 635, 'VERPLICHTEN-A': 636, 'STUDEREN': 637, 'BESLUITEN-A': 638, 'ZIN': 639, 'DUITSLAND-A': 640, 'WC': 641, 'W': 642, 'TAAL-C': 643, 'KUNNEN-NIET-A': 644, 'UIT-A': 645, 'AUTOMATISCH-B': 646, 'BOOM-A': 647, 'WASSEN-B': 648, 'GEHOORZAAM': 649, 'MEER-C': 650, 'LUKKEN-B': 651, 'REGIO-B': 652, 'T': 653, 'MAANDAG-A': 654, 'MAANDAG-B': 655, 'DINSDAG-B': 656, 'WOENSDAG-B': 657, 'DONDERDAG-B': 658, 'VRIJDAG-B': 659, 'RAAR': 660, 'TELEVISIE-B': 661, 'WOORD-A': 662, 'HOE-B': 663, 'MOVE-CL-1': 664, 'TYPEN': 665, 'VULLING': 666, 'ALLES-B': 667, 'SOCIAAL': 668, 'SOCIALE-WERKPLAATS': 669, 'VERGETEN-A': 670, 'VERGETEN-B': 671, 'MEDICIJN-A': 672, 'IDEE': 673, 'GEVEN-B': 674, 'BELANGRIJK-B': 675, 'SENSEO-B': 676, 'SLURF': 677, 'SENSEO-A': 678, 'JAMMER-A': 679, 'OVER-C': 680, 'ZIEK-A': 681, 'TAND': 682, 'BEUGEL': 683, 'GEVEN-A': 684, 'OPNEMEN-A': 685, 'NIET-C': 686, 'EMAIL-C': 687, 'BOEK': 688, 'KOFFIE-A': 689, 'KOFFIE-B': 690, 'LEZEN': 691, 'TOCH-A': 692, 'BESTEMPELEN-B': 693, 'NEUSGATEN': 694, 'DRAW-1RO': 695, 'SENSEO-E': 696, 'PAPA-A': 697, 'GEBOUW-B': 698, 'SCHEPJE': 699, 'ONTHOUDEN': 700, 'VOELEN-B': 701, 'THEE': 702, 'OCHTEND-D': 703, 'PAARD-C': 704, 'GELIJK-HEBBEN': 705, 'PAARD-B': 706, 'KRANT-B': 707, 'MOEDER-B': 708, 'MATERIAAL': 709, 'FRANKRIJK': 710, 'NOG-B': 711, 'JOURNAAL-A': 712, 'VERWARD-A': 713, 'ROOS': 714, 'BLOEM-B': 715, 'ROS': 716, 'VREEMD-C': 717, 'SCHUUR-B': 718, 'VADER-C': 719, 'VADER-D': 720, 'HEER': 721, 'M': 722, 'NAAM-B': 723, 'UITVOEREN': 724, 'AUTO': 725, 'JANUARI-A': 726, 'APRIL': 727, 'SCHUUR-A': 728, 'F': 729, 'OPSCHEPPEN-B': 730, 'OM': 731, 'VREEMD': 732, 'VREEMD-D': 733, 'FEBRUARI-B': 734, 'MEI-B': 735, 'S-UUR': 736, 'SFJUUR': 737, 'SF-SFUUR': 738, 'PAPA': 739, 'P': 740, 'DRIEEN': 741, 'PLAT-B': 742, 'BOS-B': 743, 'SAMEN-C': 744, 'BEER-A': 745, 'ZENUWACHTIG-A': 746, 'KLIMMEN-A': 747, 'GESCHIEDENIS-A': 748, 'RUSTIG': 749, 'OVERLEDEN': 750, 'LIGGEN-B': 751, 'LOPEN-C': 752, 'ROLLEN': 753, 'SNUFFELEN': 754, 'OPGEVEN-A': 755, 'MOVE-EC-2': 756, 'OPSTAAN-C': 757, 'DEEL-C': 758, 'DEEL-B': 759, 'PERSOON-A': 760, 'OPLOSSEN-A': 761, 'DOOD-A': 762, 'BEER-B': 763, 'BE-EC-1': 764, 'SLAAN-B': 765, 'RUIKEN': 766, 'SNUFFELEN-B': 767, 'MOVE-HC-4': 768, 'ADEMEN-A': 769, 'MOVE-EC-2R': 770, 'SNUFFELEN-C': 771, 'EVEN-DENKEN-D': 772, 'DEEL-A': 773, 'EINDE': 774, 'STEL-A': 775, 'BOT': 776, 'TWIJFEL': 777, 'UITDAGEN-B': 778, 'GROMMEN': 779, 'LOSLATEN': 780, 'MOVE-EC-5RS': 781, 'OK': 782, 'EVEN-DENKEN-C': 783, 'HOND-B': 784, 'SLAGER-A': 785, 'VLEES-A': 786, 'DORP': 787, 'HEUVEL': 788, 'BRUG-A': 789, 'WATER-C': 790, 'HIJGEN': 791, 'ADEMEN-B': 792, 'NOG-A': 793, 'JALOERS': 794, 'HONGER-A': 795, 'STELEN': 796, 'SPIEGEL': 797, 'FUCK': 798, 'MAGER-B': 799, 'DOM-A': 800, 'SENCITY': 801, 'ZATERDAG-A': 802, 'OPGELUCHT-B': 803, 'TAXI-A': 804, 'DISCO-A': 805, 'OPPERVLAK': 806, 'STEVIG': 807, 'LOPEN-E': 808, 'LICHAAM-B': 809, 'VORM-A': 810, 'STAAN-B': 811, 'BE-HC-0': 812, 'JAS-B': 813, 'VOL': 814, 'OPEN-A': 815, 'DANSEN-B': 816, 'LICHT-A': 817, 'MUZIEK': 818, 'HARD-C': 819, 'CAFE-A': 820, 'MOVE-EC-5R': 821, 'ONTMOETEN-B': 822, 'BUS-B': 823, 'LAAT-B': 824, 'KOUD-A': 825, 'SLAPEN-C': 826, 'WINKELEN-A': 827, 'WOW': 828, 'ROTTERDAM-A': 829, 'KRIJGEN-B': 830, 'DRAW-5': 831, 'BLOEM-A': 832, 'UTRECHT-A': 833, 'VRIEND-D': 834, 'MOGEN-A': 835, 'PLAATS-A': 836, 'H': 837, 'HOER': 838, 'MOVE-HC-0': 839, 'WAAR-D': 840, 'BLIJKEN': 841, 'OPNIEUW': 842, 'LOPEN-A': 843, 'AT-EC-5R': 844, 'UUR-HALF': 845, 'UUR-5': 846, 'MOE-B': 847, 'WACHTEN-C': 848, 'KWARTIER-3': 849, 'LATER-A': 850, 'VERDER-B': 851, 'STATION-A': 852, 'U': 853, 'VINDEN-A': 854, 'VORIGE': 855, 'LANG-A': 856, 'VLIEGEN-A': 857, 'WEEK-PL': 858, 'GEUR': 859, 'HAWAII': 860, 'SPANNEND': 861, 'KRIEBELS-IN-DE-BUIK': 862, 'KEER': 863, 'NIKS-A': 864, 'BUITEN-B': 865, '8-B': 866, 'OMGEVING-B': 867, 'DOOR-ELKAAR-A': 868, 'RENNEN-A': 869, 'TELHAND-1-B': 870, 'AFSPRAAK-A': 871, 'MOVE-EC-B': 872, 'KNUFFELEN': 873, 'FILE': 874, 'AUTORIJDEN': 875, 'TAART-B': 876, 'NATUUR-A': 877, 'BOS-A': 878, 'SURFEN-A': 879, 'EVEN-DENKEN-A': 880, 'VAKANTIE': 881, 'UUR-LANG-2-A': 882, 'EUROPA-B': 883, '18-A': 884, 'UUR-A': 885, 'CHICAGO': 886, 'PTPT': 887, 'EERLIJK-B': 888, 'ENGELAND-A': 889, 'KAART': 890, 'PANIEK-C': 891, 'COMMUNICATIE-VERBROKEN': 892, 'MIS-B': 893, 'LA': 894, 'NIEMAND-A': 895, 'TELEFOON-A': 896, 'BLIJ-D': 897, 'AANBIEDEN': 898, 'REIZEN-A': 899, 'AVOND-A': 900, 'STOPPEN': 901, 'UUR-12': 902, 'KERMIS': 903, 'HUIS-A': 904, 'DEN-BOSCH': 905, 'STOPLICHT': 906, 'NIEMAND-B': 907, 'LAATSTE-B': 908, 'VERWACHTEN': 909, 'GEK-C': 910, 'UITLEGGEN': 911, 'KRUISING': 912, 'BEKEURING': 913, 'GA-MAAR': 914, 'DRAW-1C': 915, 'BE-HC-1RC': 916, 'SAAI-A': 917, 'OVERGEVEN': 918, 'LENEN-B': 919, 'ONRUSTIG': 920, 'NACHT': 921, 'VERZUIMEN': 922, 'PAKKEN-B': 923, 'BROER-B': 924, 'ROOD': 925, 'DOORGAAN': 926, 'BRUTAAL-C': 927, 'PARKEREN-A': 928, 'LACHEN-C': 929, 'SMOES': 930, 'UITSPREKEN': 931, 'MOVE-CL-4': 932, 'DATUM': 933, 'DIEP': 934, 'SCHAMEN-A': 935, 'DEUR': 936, 'AT-EC-2R': 937, 'MIDDEN': 938, 'NAAST': 939, 'WAKKER': 940, 'OPEN-B': 941, 'UITSTAPPEN': 942, 'VERKEER': 943, 'DRONKEN-A': 944, 'VIJVEN': 945, 'MOE-A': 946, 'SNEL-B': 947, 'SCHIETEN-B': 948, 'WC-A': 949, 'STINKEN-B': 950, 'BLAASTEST': 951, 'OH': 952, 'ERVARING-A': 953, 'ZELFSTANDIG': 954, 'NODIG-A': 955, 'BEGELEIDEN-A': 956, 'PRATEN-I': 957, 'AFWEGEN': 958, 'DOOF-B': 959, 'HOREN-B': 960, 'BIJ-A': 961, 'STEL-B': 962, 'MEE-EENS-A': 963, 'PERSOONLIJK': 964, 'HALF-A': 965, 'BE-EC-ARM': 966, 'VI': 967, 'BLIND-C': 968, 'UITLATEN': 969, 'OOR': 970, 'V': 971, 'APART-C': 972, 'REGELEN': 973, 'PROTEST-B': 974, 'WAT-B': 975, 'ECHT-B': 976, 'LESGEVEN': 977, 'ACCEPTEREN': 978, 'VAN-B': 979, 'TELHAND-3-B': 980, 'IS': 981, 'DOEL': 982, 'ADVIES': 983, 'BESLUITEN-B': 984, 'TWEETALIG': 985, 'VERSPREIDEN-B': 986, 'BIJ-C': 987, 'ENE-KANT-ANDERE-KANT-A': 988, 'KLOPT-C': 989, 'BELANGRIJK-A': 990, 'TAAL-A': 991, 'DING': 992, 'VOORDEEL': 993, 'MEE-EENS-B': 994, 'ZONDER': 995, 'TOEKOMST': 996, 'STAAN-A': 997, 'ONTMOETEN-A': 998, 'GEBRUIKEN-A': 999, 'VERTRAGING': 1000, 'MEER-D': 1001, 'BALANS': 1002, 'UITWISSELEN-A': 1003, 'MISSCHIEN-B': 1004, 'OPNEMEN-B': 1005, 'IN-B': 1006, 'IEDEREEN-B': 1007, 'BIJZONDER': 1008, 'TELLEN': 1009, 'MOND': 1010, 'ALSOF-A': 1011, 'SCHULD': 1012, 'HOEFT-NIET-A': 1013, 'WEEK': 1014, 'LEEGHOOFD': 1015, 'VERSCHILLENDE-B': 1016, 'ONTWIKKELEN': 1017, 'EXTRA-A': 1018, 'ENZOVOORTS-C': 1019, 'EVEN-WACHTEN': 1020, 'NADEEL': 1021, 'PROBEREN-A': 1022, 'BASIS': 1023, 'WISKUNDE-B': 1024, 'BESTE-A': 1025, 'MEER-B': 1026, 'FAMILIE-B': 1027, 'DOOR-A': 1028, 'BESTAAN-D': 1029, 'FEEST-B': 1030, 'KLAP': 1031, 'GEZICHT-A': 1032, '3-A': 1033, 'ONDERWERP-B': 1034, 'DRAW-4R': 1035, 'BIJVOORBEELD-B': 1036, 'GEMEEN': 1037, 'KLEIN': 1038, 'SNIJDEN-B': 1039, 'FLAUW': 1040, 'BOOS-A': 1041, 'VOLWASSEN': 1042, 'SLECHT-A': 1043, 'BROER-A': 1044, 'KANS': 1045, 'STEL-C': 1046, 'LEVEN-A': 1047, 'WIT': 1048, 'FAMILIE-A': 1049, 'OVERLEGGEN-C': 1050, 'TEGEN-AAN-LOPEN-A': 1051, 'HEBBEN': 1052, 'STAPEL': 1053, 'MOVE-HC-5': 1054, 'BEEN-C': 1055, 'TECHNIEK': 1056, 'SKATEBOARD': 1057, 'SKATEBOARDEN': 1058, 'SCHOUDER-B': 1059, 'AFWIJKEN': 1060, 'ENZOVOORTS-A': 1061, 'KUNST': 1062, 'ARM-D': 1063, 'AT-EC-0': 1064, '9-B': 1065, 'VAARDIG': 1066, 'MENING-A': 1067, 'PRACHTIG-A': 1068, 'CODA': 1069, 'KNAP': 1070, 'AUTISME': 1071, 'MAN-B': 1072, 'SAMEN-D': 1073, 'DEAFISME': 1074, 'ONAFHANKELIJK': 1075, 'VERLIEFD-A': 1076, 'NOOIT-A': 1077, 'ALS-C': 1078, 'AFVRAGEN': 1079, 'LYF': 1080, 'WRE': 1081, 'WAR': 1082, 'MEISJE-B': 1083, 'MAAND-A': 1084, 'ONGELOFELIJK': 1085, 'LI': 1086, 'FLEXIBEL': 1087, 'ONTSPANNEN-D': 1088, 'IETS-B': 1089, 'DOEN-B': 1090, 'GEN': 1091, 'VERTREKKEN': 1092, 'BETROKKEN': 1093, 'SAMEN-4': 1094, 'IVD': 1095, 'VSO': 1096, 'IMPLANTEREN': 1097, 'INSTORTEN': 1098, 'BEWIJS': 1099, 'OPVALLEN': 1100, 'BIJEENKOMEN': 1101, 'ROL': 1102, 'VO': 1103, 'MAVO': 1104, 'HAVO': 1105, 'UITBREIDEN': 1106, 'VOETBALLEN-C': 1107, 'CATHARIJNE83': 1108, 'BADMINTON': 1109, 'VUGHT': 1110, 'REDEN': 1111, 'NIEUWSGIERIG': 1112, 'OPSTUREN-B': 1113, 'IEDEREEN-A': 1114, 'DANSEN-A': 1115, 'OPRICHTEN': 1116, 'MSN': 1117, 'UITWISSELEN-C': 1118, 'DUIDELIJK': 1119, 'DOOS-A': 1120, 'RIMI': 1121, 'BUITEN-A': 1122, 'LIJKEN-OP': 1123, 'NGT': 1124, 'OPLEIDING': 1125, 'ERKENNEN-B': 1126, 'WAARVOOR': 1127, 'VRIEND-B': 1128, 'PROEVEN-B': 1129, 'STANDAARDISATIE-A': 1130, 'BRABANT-A': 1131, 'NIVEAU': 1132, 'EMAIL-D': 1133, 'EMAIL-A': 1134, 'NAAM-A': 1135, 'DRAW-RP-4RO': 1136, 'VOORBEREIDEN': 1137, 'OP-D': 1138, 'GEBAREN-F': 1139, 'RODDELEN-A': 1140, 'RODDELEN-B': 1141, 'EMAIL-B': 1142, 'TOEVALLIG-A': 1143, 'BALEN-D': 1144, 'MOVE-HC-5ROS': 1145, 'SENSEO-C': 1146, 'SCHIETEN-C': 1147, 'VERLIEZEN': 1148, 'MSMS': 1149, 'SMS-A': 1150, 'MSM': 1151, 'SMS': 1152, 'VRIJWILLIG': 1153, 'SMS-B': 1154, 'LACHEN-F': 1155, 'PASSEN-BIJ': 1156, 'PLUS': 1157, 'GREENPEACE': 1158, 'RAAM-A': 1159, 'CENTRUM': 1160, 'WEBSITE': 1161, 'PLAGEN-D': 1162, 'AANHALINGSTEKENS': 1163, 'REGELS-B': 1164, 'WOORD-B': 1165, 'SENSEO-D': 1166, 'STRALING': 1167, 'ALS-A': 1168, 'DUBBEL-A': 1169, 'NEUS': 1170, 'AAP': 1171, 'AANKLIKKEN': 1172, 'LIJST-C': 1173, 'STABOL-A': 1174, 'OCHTEND-B': 1175, '11-B': 1176, '13-B': 1177, 'INVLOED': 1178, 'SLECHT-C': 1179, 'TONG': 1180, 'AT-EC-5': 1181, 'OCHTEND-A': 1182, 'GEEL-A': 1183, 'GEEL-C': 1184, 'INTERESSANT': 1185, 'ONDERWERP-A': 1186, 'STAGE': 1187, 'COLLEGA': 1188, 'VRIEND-C': 1189, 'BE-EC-5R': 1190, 'RENNEN-B': 1191, 'KLIMMEN-C': 1192, 'LIGGEN-C': 1193, 'ERG-B': 1194, 'WAT-C': 1195, 'PRACHTIG-B': 1196, 'BE-EC-4C': 1197, 'ADEM-INHOUDEN-A': 1198, 'MOVE-EC-4C': 1199, 'BIJNA': 1200, 'BIJTEN': 1201, 'STIK-D': 1202, 'GEBOUW-A': 1203, 'LEKKER-B': 1204, 'DRAW-5R': 1205, 'SNIJDEN-A': 1206, 'VERSTOPPEN-A': 1207, 'DOL-OP': 1208, 'MOVE-HC-5R': 1209, 'VOORSTELLEN': 1210, 'KAUWEN': 1211, 'BE-CL-5R': 1212, 'BANG-B': 1213, 'KWISPELEN': 1214, 'DRAW-4RC': 1215, 'ROTZOOI': 1216, 'ROTZOOIEN': 1217, 'BE-HC-5R': 1218, 'DRAW-1': 1219, 'DRAW-5RS': 1220, 'BE-HC-5RO': 1221, 'BALEN-A': 1222, 'APPLAUS-A': 1223, 'WACHTEN-E': 1224, 'ANTWERPEN': 1225, 'MINUUT': 1226, 'WIELEN': 1227, 'DRAW-1O': 1228, 'STIL-B': 1229, '10-B': 1230, 'TIJD-C': 1231, 'DONKER': 1232, 'LICHT-B': 1233, 'KLEIN-G': 1234, 'ARMEN-OVER-ELKAAR': 1235, 'LIPPENSTIFT': 1236, 'KUNSTGEBIT': 1237, 'MOND-DICHT-A': 1238, 'VLIEGEN-B': 1239, 'FINLAND': 1240, 'TAFELTENNIS': 1241, 'KAAL': 1242, 'HAAR': 1243, 'PRUIK': 1244, 'WOLK': 1245, 'PLAGEN-A': 1246, 'VOGEL-A': 1247, 'HOPEN-B': 1248, 'DRAWR-1O': 1249, 'TIJD-B': 1250, 'MOVE-HC-1RC': 1251, 'ETEN-B': 1252, 'MOVE-HC-4RC': 1253, 'TROUWEN-B': 1254, 'ALSTUBLIEFT': 1255, 'VOELEN-C': 1256, 'BIDDEN-A': 1257, 'LUKKEN-NIET-A': 1258, 'BE-EC-5S': 1259, 'FILM': 1260, 'ROK': 1261, 'HAAT': 1262, 'NICHT-A': 1263, 'MOVE-HC-': 1264, 'BE-EC-4RC': 1265, 'BE-EC-1RO': 1266, 'MOVE-HC-1RO': 1267, 'DRAW-1O1C': 1268, 'OORLOG-B': 1269, 'STOREN': 1270, 'OMDAT-B': 1271, 'VIES-A': 1272, 'SCHAMEN-B': 1273, 'OORDOP': 1274, 'EILAND': 1275, 'UITWISSELEN-F': 1276, 'POND': 1277, 'COMBINATIE': 1278, 'JAAR-A': 1279, 'VERANDEREN-C': 1280, 'BAL': 1281, 'BE-HC-4RO': 1282, 'BE-HC-4R': 1283, 'BE-EC-4O': 1284, 'ERUIT': 1285, 'ROLLATOR': 1286, 'BIJ-B': 1287, 'VERDIENEN': 1288, '10-A': 1289, 'MOVE-HC-1C': 1290, 'GOED-IN': 1291, 'HOOFD-B': 1292, 'OPLETTEN': 1293, 'BOREN': 1294, 'DOOR-B': 1295, 'OPERATIE': 1296, 'LITTEKEN': 1297, 'PRATEN-J': 1298, 'DRAWR-1': 1299, 'MOVE-HC-1D': 1300, 'BOODSCHAPPEN-B': 1301, 'HOE-C': 1302, 'TOESPRAAK': 1303, 'SPIJT-A': 1304, 'PIJN-A': 1305, 'DRAW-1RC': 1306, 'WEER': 1307, 'MOVE-EC-1RC': 1308, 'BED-A': 1309, '50-A': 1310, 'DE': 1311, 'CI-D': 1312, 'BANG-C': 1313, 'AANDACHT-A': 1314, 'PLAATSNAAM': 1315, 'MOVE-HC-4C': 1316, 'KOPJE-A': 1317, 'GROEIEN': 1318, 'BIER-A': 1319, 'BIER-B': 1320, 'KOPEN-B': 1321, 'SPELEN-A': 1322, 'VRIJ-B': 1323, 'OP-E': 1324, 'ZUSTER-A': 1325, 'BE-HC-4C': 1326, '0-B': 1327, 'UITSLAG': 1328, 'MOETEN': 1329, 'MIDDAG-B': 1330, 'MORGEN-A': 1331, 'SCHRIJVEN-A': 1332, 'KLAAR-C': 1333, 'FAMILIE-C': 1334, 'MOORD-A': 1335, 'ROLSTOEL-B': 1336, 'DOKTER-B': 1337, 'ROLSTOEL-A': 1338, 'TASTEN-B': 1339, 'TELEVISIE-C': 1340, 'IN-E': 1341, 'ERG-E': 1342, 'GEHANDICAPT-E': 1343, 'BABY': 1344, 'WELKE-B': 1345, 'NEEF-A': 1346, 'KIND-B': 1347, 'HOOFDPIJN': 1348, 'KNIPPEREN': 1349, 'HANDEN-WRIJVEN-A': 1350, 'TWEE-ELKAAR': 1351, '15-C': 1352, '16-B': 1353, 'LOPEN-K': 1354, 'HOEVEEL': 1355, 'MOVE-CL-5RO': 1356, 'HAND-SCHUDDEN-B': 1357, 'HAND-SCHUDDEN-A': 1358, 'MINDER-C': 1359, 'BEGELEIDEN-B': 1360, 'VOETBALLEN-B': 1361, 'MILJOEN': 1362, 'BETALEN': 1363, 'SCHOUDERKLOPJE': 1364, 'MOVE-HC-4R': 1365, 'ZWETEN-A': 1366, 'GEBAREN-B': 1367, 'RICHTING': 1368, 'ERBIJ-C': 1369, 'AT-CL-4RO': 1370, 'AF-D': 1371, 'KATHOLIEK': 1372, 'OUD-C': 1373, 'DRINKEN-B': 1374, 'HAAS-A': 1375, 'JOOD': 1376, 'KEPPEL': 1377, 'ZON': 1378, 'HEET': 1379, 'BRAND': 1380, 'SOLDAAT-B': 1381, 'RUGZAK-A': 1382, 'REANIMEREN': 1383, 'HERFST': 1384, 'BOVEN': 1385, '30-A': 1386, '8-A': 1387, 'REGEN-C': 1388, 'ENZOVOORTS-D': 1389, 'BEWAREN-C': 1390, 'RESTAURANT': 1391, 'LEVEN-C': 1392, 'ROEPEN-C': 1393, 'ZIN-IN': 1394, 'VLAK': 1395, 'WORST-A': 1396, 'STAAN-F': 1397, 'PAUZE-A': 1398, 'VLEES-B': 1399, 'STAAN-H': 1400, 'WEGGAAN-B': 1401, 'AT-EC-2S': 1402, 'EN-A': 1403, 'BE-EC-4R': 1404, 'SCHREEUWEN-C': 1405, 'MAAT-E': 1406, 'BEER-D': 1407, 'ZENUWACHTIG-B': 1408, 'BOOM-C': 1409, 'LIGGEN-D': 1410, 'OPNEMEN-C': 1411, 'ECHT-C': 1412, 'OOK-D': 1413, 'BONZEN-A': 1414, 'ADEMEN-C': 1415, 'ADEM-INHOUDEN-B': 1416, 'OOG': 1417, 'ROLLEN-C': 1418, 'LIGGEN': 1419, 'OPSTAAN-B': 1420, 'WAT-D': 1421, 'GEBEUREN-C': 1422, 'BANG-D': 1423, 'VIA-A': 1424, 'ALS-D': 1425, 'UITADEMEN': 1426, 'TASTEN-A': 1427, 'NIKS-B': 1428, 'FRUSTRATIE': 1429, 'ZITTEN-C': 1430, 'MOVE-EC-0': 1431, 'IEDEREEN-C': 1432, 'MOETEN-B': 1433, 'TAFEL': 1434, 'EMOTIE-C': 1435, 'KOKEN-A': 1436, 'BOOS-C': 1437, 'STRAF-B': 1438, 'FOUT-A': 1439, 'BEZORGD': 1440, 'OUD-D': 1441, 'SLAAN-C': 1442, 'DOORGAAN-B': 1443, 'VERVELEN-C': 1444, 'LAKEN': 1445, 'GEVOLG': 1446, 'BE-EC-2R': 1447, 'PANIEK-B': 1448, 'GRAFSTEEN': 1449, 'VERSTOPPEN-C': 1450, 'GEEST': 1451, 'ALSOF-C': 1452, 'DUIZELIG': 1453, 'LACHEN-D': 1454, 'GRAPPIG-C': 1455, 'GRAPPIG-B': 1456, 'INTERNAAT-A': 1457, 'PUBER-B': 1458, 'GEK-B': 1459, 'GEWOON-A': 1460, 'STIK-A': 1461, 'ONTDEKKEN': 1462, 'ACHTER-B': 1463, 'GEHEIM-B': 1464, 'BOWLEN': 1465, 'POES-C': 1466, 'NADENKEN-B': 1467, 'AANPAKKEN': 1468, 'ACCORDEON': 1469, 'PIANO': 1470, 'KLEIN-F': 1471, 'HOEK-A': 1472, 'BANAAN-B': 1473, 'KLEREN-A': 1474, 'MUTS': 1475, 'LOPEN-F': 1476, 'VOGELKOOI-A': 1477, 'SLUIPEN': 1478, 'BUIS-A': 1479, 'REGEN-A': 1480, 'WONEN-A': 1481, 'STAAN-C': 1482, 'UITSCHELDEN': 1483, 'BEGRIJP-ER-NIKS-VAN': 1484, 'BUITEN-C': 1485, 'COLLECTEREN': 1486, 'EVEN-DENKEN-B': 1487, 'GRATIS-B': 1488, 'ACHTER-C': 1489, 'FLAUWVALLEN': 1490, 'OMA-B': 1491, 'BEHEERSEN': 1492, 'MOVE-HC-5RS': 1493, 'OMA-D': 1494, 'GEVAARLIJK': 1495, 'ZWAAR-A': 1496, 'LUI': 1497, 'PARKEREN-B': 1498, 'BLIND-D': 1499, 'GRATIS-A': 1500, '18-C': 1501, 'JAAR-C': 1502, 'NOOIT-C': 1503, 'GEBRUIKEN-E': 1504, 'SUBSIDIE-B': 1505, 'VEEL-C': 1506, 'RECHT-OP': 1507, 'MOVE-HC-4RO': 1508, 'BLIND-B': 1509, 'THUIS-B': 1510, 'RECHTVLAAMS': 1511, 'HELPEN-B': 1512, 'Q': 1513, 'BROEKZAK': 1514, 'MAART-C': 1515, 'UUR-C': 1516, 'EURO': 1517, 'KOMEN-D': 1518, 'STOM': 1519, 'KLEUR-C': 1520, 'IEMAND': 1521, 'DRAW-2S': 1522, 'AFHANKELIJK-B': 1523, 'LIJN-A': 1524, 'ERBUITEN-STAAN': 1525, 'SUBSIDIE-A': 1526, 'MANIER': 1527, 'VRIENDELIJK': 1528, 'LIJN-D': 1529, 'LIJN-C': 1530, 'BUS-A': 1531, 'BEGELEIDEN-DE-WEG': 1532, 'KUNNEN-NIET-B': 1533, 'DIENST': 1534, 'DOOF-D': 1535, 'VOORAAN': 1536, 'ZELFVERZEKERD': 1537, 'AUDYT': 1538, 'RESPECTEREN': 1539, 'NEGEREN': 1540, 'HEBBEN-C': 1541, 'DRAW-5S': 1542, 'THERAPIE-A': 1543, 'STEM-C': 1544, 'VERDELEN': 1545, 'REGELS-C': 1546, 'TELHAND-4-B': 1547, 'VRAAGTEKEN': 1548, 'PLOTSDOOF': 1549, 'WINNEN': 1550, 'SCHOOL-F': 1551, 'KIND-C': 1552, 'OEFENEN-B': 1553, 'DUBBEL-B': 1554, 'TE-LAAT-B': 1555, 'JONG-C': 1556, 'ONDERZOEKEN': 1557, 'PRATEN-G': 1558, 'MISLUKKEN': 1559, 'BEGINNEN-B': 1560, 'INKRIMPEN-A': 1561, 'GEBRUIKEN-C': 1562, 'SAMEN-2': 1563, 'ONSCHULDIG': 1564, 'WETEN-B': 1565, 'K': 1566, 'TE-LAAT-A': 1567, 'REKENING-HOUDEN-MET': 1568, 'SUCCES': 1569, 'IDENTITEITSCRISIS': 1570, 'ONDERDRUKKEN-A': 1571, 'SCHOONMAKEN': 1572, 'INJECTIE': 1573, 'CLUB-B': 1574, 'GESTICULEREN': 1575, 'BRUIN-B': 1576, 'GEZICHT-B': 1577, 'BRUIN-A': 1578, 'GAVE': 1579, 'IDENTITEIT': 1580, 'MARIONET': 1581, 'UUR-D': 1582, 'PER': 1583, 'LOGOPEDIE-B': 1584, 'AFKEUREN': 1585, 'SOMS-B': 1586, 'KLAGEN-B': 1587, 'CHEF-A': 1588, 'GEWOON-E': 1589, 'MAN-C': 1590, 'WONEN-D': 1591, 'ANTWOORD-B': 1592, 'AUTOMATISCH-C': 1593, 'VAN-C': 1594, 'TE-MAKEN-MET': 1595, 'MIMIEK': 1596, 'OKA': 1597, 'KLEIN-E': 1598, 'NEE-D': 1599, 'VOOR-B': 1600, 'PAPEGAAI': 1601, 'WEINIG-A': 1602, 'REMMEN-A': 1603, 'BE-EC-4CBODY': 1604, 'BEGELEIDEN-D': 1605, 'BE-EC-5BODY': 1606, 'WERKVLAAMS': 1607, 'ZORGEN-B': 1608, 'BE-EC-2': 1609, 'SAAI-C': 1610, 'GEVEN-C': 1611, 'REDDEN': 1612, 'SAAI': 1613, 'ANDERS-D': 1614, 'MUUR-A': 1615, 'BE-EC-4OBODY': 1616, 'WIE-E': 1617, 'SOMMIGE': 1618, 'VERKRACHTEN': 1619, '30-C': 1620, '50-C': 1621, '60-B': 1622, 'BEJAARD': 1623, 'DRUPPELEN': 1624, 'LIJDEN': 1625, 'PSYCHOLOGIE-A': 1626, 'INSTELLING': 1627, 'LAND-A': 1628, 'BELANG': 1629, 'SI': 1630, 'MOORD-B': 1631, '14-A': 1632, 'OOM': 1633, 'ELKE-B': 1634, 'ARM-B': 1635, 'BROER-F': 1636, 'LESGEVEN-B': 1637, 'VERPLICHTEN-B': 1638, 'DWINGEN': 1639, 'WINKELEN': 1640, 'MINDER-D': 1641, 'RESERVEREN': 1642, 'SAMEN-B': 1643, 'KASSA': 1644, '2-B': 1645, 'HANDELEN': 1646, 'DUIVEL': 1647, 'WANNEER': 1648, 'BESTELLEN-A': 1649, 'NOOD': 1650, 'WEGBRENGEN': 1651, 'KOUD-C': 1652, 'HOPEN-A': 1653, 'DRAW-5O': 1654, 'BH': 1655, 'OMROLLEN': 1656, 'AT-EC-1': 1657, 'ZWETEN-B': 1658, 'INGEWIKKELD': 1659, 'ZOMER-A': 1660, 'BENAUWD': 1661, 'OUDERS-C': 1662, 'ZIELIG': 1663, 'PARALLEL': 1664, 'BEHOUDEN': 1665, 'BESCHERMEN-A': 1666, 'ROBOT': 1667, 'OOK-B': 1668, 'DISCO-B': 1669, 'MISSCHIEN': 1670, 'LUXE-A': 1671, 'TEVREDEN-C': 1672, 'STIJF': 1673, 'OPLOSSEN-B': 1674, 'ZIEZO': 1675, 'ERBIJ-HOREN': 1676, 'DRINKEN-C': 1677, 'LIMBURG': 1678, 'NIJMEGEN-B': 1679, 'OSS': 1680, 'WEINIG-B': 1681, 'HEBBEN-D': 1682, 'BINNENKORT': 1683, 'WAAR-C': 1684, 'OORZAAK': 1685, 'OPSCHIETEN-A': 1686, 'OP-JE-TENEN-LOPEN': 1687, 'TEGENVALLEN': 1688, 'GEEN-IDEE': 1689, 'VAST': 1690, 'SEN': 1691, 'TEMPO': 1692, 'VOORAL': 1693, '1000-A': 1694, 'NEBAS': 1695, 'SLIM-B': 1696, 'REIZEN-C': 1697, 'JA-B': 1698, 'HALF-B': 1699, 'PECH-C': 1700, 'PT-D': 1701, 'TEGEN-DE-REGELS-IN': 1702, 'BRUTAAL-B': 1703, 'DIRECTEUR-B': 1704, 'STRAF-C': 1705, 'ONTSLAAN-B': 1706, 'AGENDAPUNT': 1707, '1000-B': 1708, '6-B': 1709, 'VLAAMS': 1710, 'DRAW-5RC': 1711, 'BIJLEREN': 1712, 'LAND-B': 1713, 'MEI-C': 1714, 'HASSELT': 1715, '7-A': 1716, 'GRAP-A': 1717, 'AFSPRAAK-F': 1718, 'STANDAARDISATIE-C': 1719, 'SYSTEEM': 1720, 'WET': 1721, 'STANDAARDISATIE-B': 1722, 'BELGIE-A': 1723, 'ERKENNEN-A': 1724, 'SLOT': 1725, 'IJZER': 1726, 'TIMMEREN': 1727, 'LASSEN-B': 1728, 'LASBRIL': 1729, 'EMMER': 1730, 'GRAVEN': 1731, 'BOER': 1732, 'VOGEL-B': 1733, 'DRAAIEN-B': 1734, 'LASSEN': 1735, 'BROOD-A': 1736, 'BED-B': 1737, 'WEEKEND-A': 1738, 'VRACHTWAGEN-A': 1739, 'MOTOR': 1740, 'LAWAAI': 1741, 'TELEVISIE-A': 1742, 'KWARTIER-A': 1743, 'INSLAPEN': 1744, 'IK-BEN-ER-VAN-AF': 1745, 'NIET-BIJZONDER': 1746, 'WEEK-2-A': 1747, 'MAAND-B': 1748, 'JARIG-A': 1749, 'BALIE-B': 1750, 'OVERKANT': 1751, 'SKIEN': 1752, 'EVEN-DENKEN-E': 1753, 'BOODSCHAPPEN-A': 1754, 'KAR': 1755, 'POKKEN': 1756, 'SLEUTEL': 1757, 'IK-WEET-HET-WEER': 1758, 'SPROETEN': 1759, 'PECH-B': 1760, 'BALEN-B': 1761, 'GRAPPIG': 1762, 'OMGEVING-A': 1763, 'HAASTIG': 1764, 'MOVE-EC-2RS': 1765, 'FLUISTEREN': 1766, 'SLIKKEN': 1767, 'MOVE-EC-2S': 1768, 'ADEMEN-D': 1769, 'LIKKEN': 1770, 'MOVE-EC-5C': 1771, 'APPLAUS-B': 1772, 'MERCEDES': 1773, 'RUZIE': 1774, 'INDRUKKEN-B': 1775, 'HAND-UP': 1776, 'ZAKEN': 1777, 'JAS-A': 1778, 'BARBECUE': 1779, 'LIJST-A': 1780, 'BLIKJE-OPENEN': 1781, 'OVERSTAPPEN': 1782, 'TAXI-B': 1783, 'GEK-D': 1784, 'SCHAKELEN': 1785, 'HUIDSKLEUR': 1786, 'ZELFDE-D': 1787, 'TEVEEL': 1788, 'VIEREN': 1789, 'VERDOMME-D': 1790, 'MCDONALDS-C': 1791, 'KLAAR-B': 1792, 'DE-DRAAD-KWIJT-ZIJN': 1793, 'OP-C': 1794, 'VERZAMELEN-B': 1795, 'SERVET': 1796, 'UITDELEN': 1797, 'SNEEUW-A': 1798, 'SNEEUW-B': 1799, 'KORT-SHIRT': 1800, 'SJAAL': 1801, 'MOVE-HC-1DMONEY': 1802, 'GODZIJDANK': 1803, 'LICHT-C': 1804, 'BERLIJN': 1805, 'INTOETSEN': 1806, 'BOOS-B': 1807, 'STEKKER': 1808, 'OVER-B': 1809, 'IJS-A': 1810, 'AT-EC-2': 1811, 'ITALIE': 1812, 'HAMBURG': 1813, 'BENZINE': 1814, 'VERDER-A': 1815, 'TURKIJE': 1816, 'AUREOOL': 1817, 'LAAT-A': 1818, 'POES-A': 1819, 'GEBOUW-C': 1820, 'VERREKIJKER': 1821, 'BE-HC-4RC': 1822, 'TEGENOVER': 1823, 'POES-B': 1824, 'BE-EC-4ROS': 1825, 'PARAPLU': 1826, 'BAL-A': 1827, 'DRAW-4ROS': 1828, 'MOVE-EC-1O1C': 1829, 'WEG-G': 1830, 'OVERKANT-B': 1831, 'VIOOL': 1832, 'BANAAN-A': 1833, 'AT-HC-0': 1834, 'MOVE-HC-4ROS': 1835, 'POES-D': 1836, 'AT-EC-4OS': 1837, 'OBER': 1838, 'BE-HC-1C': 1839, 'KOPJE-C': 1840, 'MOVE-HC-1C5': 1841, 'MOVE-HC-2RO': 1842, 'BE-HC-1RO': 1843, 'KOFFER': 1844, 'BE-HC-4RS': 1845, 'MOVE-HC-5R0': 1846, 'BE-HC-4R0': 1847, 'CONCIERGE': 1848, 'VAN': 1849, 'POST': 1850, 'VROUW-C': 1851, 'MEE-B': 1852, 'BE-EC-C': 1853, 'DOOS-B': 1854, 'HARD-A': 1855, 'RENNEN-D': 1856, 'KILO': 1857, 'OMLAAG': 1858, 'MOVE-EC-': 1859, 'MOVE-EC-4ARM': 1860, 'BE-EC-4ARM': 1861, 'OVEREIND-KOMEN': 1862, 'WAGGELEN-A': 1863, '500': 1864, 'BE-EC-1D': 1865, 'MOVE-EC-1ARM': 1866, 'TOUW-A': 1867, 'SLINGEREN': 1868, 'ELEKTRICITEIT-C': 1869, 'BALANCEREN': 1870, 'TRAM-B': 1871, 'TRAM-A': 1872, 'TEKENEN-B': 1873, 'SELF-TOUCH': 1874, 'GROEN': 1875, 'CONTACT-VERBREKEN': 1876, 'COMPLIMENT': 1877, 'BETUTTELEN-B': 1878, 'CRISIS': 1879, 'ZWAAR-B': 1880, 'BE-EC-0': 1881, 'BLIND-E': 1882, 'VINGERSPELLEN-HAND': 1883, 'AFSTAND-A': 1884, 'NORMAAL': 1885, 'GEWOON-B': 1886, 'VISIE': 1887, 'UUR-LANG-4-A': 1888, 'UUR-B': 1889, 'ELKE-A': 1890, 'MAXIMUM': 1891, 'GRIEZELIG': 1892, 'MALI': 1893, 'GHANA': 1894, 'SLAGTANDEN': 1895, 'IVOORKUST': 1896, 'INDRUK': 1897, 'LACHEN-E': 1898, 'BOOM-B': 1899, 'ZAND-A': 1900, 'GROEP-B': 1901, 'ZAK': 1902, 'WALGELIJK-B': 1903, 'BUS-C': 1904, 'BEDELEN': 1905, 'BE-HC-4O': 1906, 'BE-HC-5': 1907, 'WIND': 1908, 'AFSPRAAK-E': 1909, 'HOE-A': 1910, 'MOSLIM': 1911, 'HOTEL-B': 1912, 'DOOD-B': 1913, 'KOKEN-B': 1914, 'RUPS': 1915, 'VERDWIJNEN-A': 1916, 'WATER-KOKEN': 1917, 'DOOR-ELKAAR-C': 1918, 'PIJN-B': 1919, 'BF': 1920, 'BURKINAFASO': 1921, 'AFRIKA-A': 1922, 'HUIDSKLEUR-BRUIN': 1923, 'HUID-A': 1924, 'HOOFD-A': 1925, 'STAD-A': 1926, 'OUAGADOUGOU': 1927, 'OUDADODUL': 1928, 'BOBO': 1929, 'KOPEN-A': 1930, 'ZWART-B': 1931, 'ALIZETA': 1932, 'VERBAASD-B': 1933, 'GOEDKOOP-B': 1934, 'GOEDKOOP-A': 1935, 'WALGELIJK-A': 1936, 'KOEK-A': 1937, 'KRIJGEN-C': 1938, 'AT-EC-1RC': 1939, 'KLOOTZAK': 1940, 'GRAPPIG-D': 1941, 'PROEVEN-A': 1942, 'ONGELUK-A': 1943, 'AT-EC-4': 1944, 'SCHOEN-B': 1945, 'MOVE-EC-5RO': 1946, 'O-JEE': 1947, 'PRINCIPE': 1948, 'VERVOER': 1949, 'KRUKKEN': 1950, 'GELUK-A': 1951, 'BOUWEN': 1952, 'BAKKEN-A': 1953, 'MOVE-1R': 1954, 'MOVE-EC-1R': 1955, 'VROUW-B': 1956, 'STAD-B': 1957, 'PROBEREN-B': 1958, 'KNIE': 1959, 'KNIE-KRAAKT-MEE': 1960, 'TIJD-VLIEGT': 1961, 'EX-B': 1962, 'RUGZAK-B': 1963, 'VOUWEN': 1964, 'MOVE-EC-4R': 1965, 'ONGELUK-B': 1966, 'AT-EC-4ROS': 1967, 'BE-EC-1R': 1968, 'VRIEZEN': 1969, 'LAPTOP': 1970, 'EX': 1971, 'SCHREEUWEN-B': 1972, 'PIJN-D': 1973, 'BESTELLEN-C': 1974, 'LUISTEREN-NIET-A': 1975, 'BLAUW': 1976, 'WEEK-3-B': 1977, 'KORT-BROEK': 1978, 'TRUI': 1979, 'RITS': 1980, 'KOUD-B': 1981, 'SEPTEMBER-A': 1982, 'WARM-A': 1983, 'SPIEREN': 1984, 'HUILEN-B': 1985, 'SPO': 1986, 'LANGE-MOUW': 1987, 'OKTOBER-B': 1988, 'LOGEREN-B': 1989, 'OPA-A': 1990, 'OMA-C': 1991, 'AFHANKELIJK-D': 1992, 'MAKEN-B': 1993, 'LAND-PL': 1994, 'MARTHA-VINEYARD': 1995, 'GELIJK-NIVEAU': 1996, 'BRAILLE': 1997, 'TONEEL': 1998, 'WAARDEN': 1999, 'VIDEO-A': 2000, 'WIE-C': 2001, 'MEDISCH': 2002, 'VRAGENPT': 2003, 'GALLAUDET': 2004, 'UNIVERSITEIT': 2005, 'ASL': 2006, 'STEM-B': 2007, 'MARTHA': 2008, 'VINEYARD': 2009, 'NIET-AAN-GEDACHT': 2010, 'BEWUST': 2011, 'BRAIL': 2012, 'RAAD': 2013, 'ARGUMENT': 2014, 'BREED': 2015, 'PERSOON-A-PL': 2016, 'DOOF-E': 2017, 'AFTASTEN': 2018, 'FEEST-A': 2019, 'PROTEST-A': 2020, 'DRAW\\\\R-4': 2021, 'DRAWR-4': 2022, 'LIFT-B': 2023, 'DUS-B': 2024, 'ZUS-E': 2025, 'WIE-B': 2026, 'JARIG-B': 2027, 'UUR-LANG-1': 2028, 'VOORZIENINGEN': 2029, 'TRAP': 2030, 'GEZOND-B': 2031, 'WONDER': 2032, 'FEIT': 2033, 'KOKEN-C': 2034, 'MOVE-EC-5ROS': 2035, 'SPONTAAN': 2036, 'SLECHTHOREND': 2037, 'AFSTAND-B': 2038, 'KOMMA': 2039, 'VERSPREIDEN-A': 2040, 'FALEN': 2041, '0-A': 2042, 'OPZIJ': 2043, 'UIT-ELKAAR-VALLEN': 2044, 'WERVEN': 2045, 'STRESS': 2046, 'FOCUS': 2047, 'VERZAMELEN-C': 2048, 'MEDICIJN-B': 2049, 'G': 2050, 'NMG': 2051, 'EEN-OP-EEN': 2052, 'VERGADERING': 2053, 'TOENEMEN': 2054, 'STIMULEREN': 2055, 'UITHOREN': 2056, 'OUDERS-A': 2057, 'PROBEREN-C': 2058, 'ALVAST': 2059, 'GNT': 2060, 'TIJDLIJN': 2061, 'WINKELEN-B': 2062, 'DINGEN-DOEN': 2063, 'KLEREN-C': 2064, 'AANKLEDEN-D': 2065, 'UUR-LANG-3-B': 2066, 'WEEK-1-A': 2067, 'GRAMMATICA': 2068, 'INDIVIDUEEL': 2069, 'MCDONALDS-B': 2070, 'TANTE-A': 2071, 'OOM-A': 2072, 'VAK': 2073, 'KOPJE-B': 2074, 'PRAKTIJK': 2075, 'VOORKEUR': 2076, 'ERG-C': 2077, 'SPELEN-C': 2078, 'TEGENSTRIJDIG': 2079, 'PEUTER': 2080, 'SO': 2081, 'OO': 2082, 'ETHISCH': 2083, 'KNUTSELEN': 2084, 'DNA': 2085, 'OORLOG-A': 2086, 'HOMO-A': 2087, 'GLAD': 2088, 'VIA-B': 2089, 'AF-C': 2090, 'OFFICIEEL': 2091, 'VERMORZELEN': 2092, 'POLITIEK-A': 2093, 'LINGUISTIEK': 2094, 'VERBERGEN': 2095, 'TEGEN-AAN-LOPEN-B': 2096, 'LEZING': 2097, 'GENERATIE-A': 2098, 'ETHISH': 2099, 'TOEVOEGEN': 2100, 'ARM-A': 2101, 'ADOLF-HITLER': 2102, 'BLOND': 2103, 'ZWAKBEGAAFD-B': 2104, 'TIP-A': 2105, 'WEG-F': 2106, 'ABWZ': 2107, 'GOD': 2108, 'WFD': 2109, 'EUD': 2110, 'MADRID': 2111, 'EMBRYO': 2112, 'BIOETHICS': 2113, 'NUMMER-C': 2114, 'NUMMER-A': 2115, 'ERGENS-A': 2116, 'BAARMOEDER': 2117, 'BUIK-B': 2118, 'ZOMAAR': 2119, 'AT-EC-4R': 2120, 'SPIJT-B': 2121, 'REGERING-C': 2122, 'GEZOND-A': 2123, 'NATUUR-B': 2124, 'LUKKEN-NIET-B': 2125, 'GRAP-B': 2126, 'CHRISTELIJK': 2127, 'IIVF': 2128, 'SPERMA': 2129, 'ERGENS-B': 2130, 'EVALUATIE': 2131, 'WINTER': 2132, 'ABORTUS-B': 2133, 'ZO-B': 2134, 'MIMIEK-B': 2135, 'VISSEN': 2136, 'ONDERWERP-C': 2137, 'DIRECTEUR-A': 2138, 'ZWEDEN': 2139, 'STERK-B': 2140, 'BEGELEIDEN-C': 2141, 'MENING-B': 2142, 'WETEN-NIET': 2143, 'HIER': 2144, 'ROUTE-B': 2145, 'HER-EN-DER': 2146, 'ECHT': 2147, '90-A': 2148, 'BLOEIEN': 2149, 'VERLIEFD-C': 2150, 'BROER-E': 2151, 'VOORKOMEN': 2152, 'BOOT': 2153, 'HOUVAST': 2154, 'DOORGEVEN-B': 2155, 'KIJKEN-C': 2156, 'PLANT': 2157, 'HART-A': 2158, 'HART-C': 2159, 'DAN-C': 2160, 'BIJVOORBEELD': 2161, 'RUG': 2162, 'WATER-B': 2163, 'KORT': 2164, 'TELHAND-6-A': 2165, 'GEDRAG': 2166, 'OVERPLAATSEN': 2167, 'AFPAKKEN': 2168, 'CI-B': 2169, 'KWALITEIT': 2170, 'VANUIT': 2171, 'BETUTTELEN': 2172, 'AANVALLEN-TEAMS': 2173, 'POSITIEF': 2174, 'BESCHERMEN-B': 2175, 'GESCHIEDENIS-B': 2176, 'JEZUS': 2177, 'DAK': 2178, 'SERIEUS': 2179, 'BSL': 2180, 'ADDA': 2181, 'PATERNALISME': 2182, 'EMPOWERMENT': 2183, 'BEHANDELEN': 2184, 'AANVALLEN': 2185, 'IHP': 2186, 'KIJKEN-B': 2187, 'INTERNET-A': 2188, 'VOORUITGANG': 2189, 'VERANTWOORDELIJK': 2190, 'VOETBALLEN-A': 2191, 'PARTY-B': 2192, 'PARTY-A': 2193, 'HIPPIE-A': 2194, 'UITWISSELEN-B': 2195, 'ELEKTRICITEIT-A': 2196, 'GYMNASTIEK': 2197, 'VANAF': 2198, 'LAN': 2199, 'SUB': 2200, 'HIPPIE-B': 2201, 'OPSCHEPPEN-A': 2202, 'ELITE': 2203, 'EL': 2204, 'TENNIS': 2205, 'NINTENDO': 2206, 'CHATTEN': 2207, 'TIJD-D': 2208, 'OMGAAN': 2209, 'FITNESS-A': 2210, 'STEPPEN': 2211, 'JUDO': 2212, 'VOLLEYBAL': 2213, 'NINEN': 2214, 'LBO': 2215, 'MBO': 2216, 'HBO': 2217, 'PUBER-A': 2218, 'OMGAAN-B': 2219, 'LAY': 2220, 'WIE-D': 2221, 'LATER-B': 2222, 'GROOT-C': 2223, 'DOM-B': 2224, 'SUKKEL-A': 2225, 'VRACHTWAGEN-B': 2226, 'GARAGE-A': 2227, 'DRAW-5CS': 2228, 'VERHEUGEN': 2229, 'BRUG-B': 2230, 'BE-EC-5RS': 2231, 'WAT-IS-DAT': 2232, 'SLAGER-B': 2233, 'VIT': 2234, 'KANS-GRIJPEN': 2235, 'MOVE-EC': 2236, 'HEBBEN-B': 2237, 'SPIEGL': 2238, 'VERDRINKEN-B': 2239, 'SNEL-E': 2240, 'HONGER-B': 2241, 'HAASTIG-B': 2242, 'PAUZE-B': 2243, 'MOVE-HC-5RO': 2244, 'DRAW-5RO': 2245, 'IN-F': 2246, 'BOTER-A': 2247, 'VINGER-OPSTEKEN': 2248, 'LINIAAL-B': 2249, '7-B': 2250, 'NAAIEN-A': 2251, 'VERBAASD-C': 2252, 'ONTSLAAN-A': 2253, 'KLAS': 2254, 'LOKAAL': 2255, 'LINIAAL': 2256, 'BLOED': 2257, 'WOND': 2258, 'TIME-OUT': 2259, 'JAMMER-C': 2260, 'WDD': 2261, 'FEEST-D': 2262, 'BORD-B': 2263, 'BE-EC-1RC': 2264, 'MOVE-EC-3': 2265, 'TOCH-C': 2266, 'MOVE-HC-50': 2267, 'RECHT': 2268, 'GEZICHT-C': 2269, 'VALLEN-B': 2270, 'VALLEN-C': 2271, 'WRIJVEN': 2272, 'OPZWELLEN': 2273, 'BULT-B': 2274, 'PLEISTER-A': 2275, 'DAME': 2276, 'KOPPIG': 2277, 'BE-HC-5S': 2278, 'VERTROUWEN': 2279, 'BE-CL-0': 2280, 'MOVE-HC-2RC': 2281, 'TRAAG': 2282, 'AANKLEDEN-C': 2283, 'WACHTEN-B': 2284, 'AFSPRAAK-G': 2285, 'OMARMEN': 2286, 'BALIE': 2287, 'SOK': 2288, 'SNEL-C': 2289, 'FOTO': 2290, 'MOVE-HC-1O': 2291, 'RING': 2292, 'PAKKEN': 2293, 'STOEL': 2294, 'OPSTAAN': 2295, 'IN-GEDACHTEN-PRATEN': 2296, 'DRAW-5S5C': 2297, 'SNOR-A': 2298, 'BAARD-A': 2299, 'BAARD-B': 2300, 'ZWART-A': 2301, 'WW': 2302, 'KLOK-B': 2303, 'MOVE-HC-4O': 2304, '12-B': 2305, 'HARD-B': 2306, 'VALLEN-A': 2307, 'BYKM': 2308, 'MOPPEREN-A': 2309, 'VEILIG': 2310, 'DRONKEN': 2311, 'DRAW-2': 2312, 'SNEL': 2313, 'WISUM': 2314, 'WAT': 2315, 'US': 2316, 'WI': 2317, 'PY': 2318, 'SNE': 2319, 'EHBO': 2320, 'EBO': 2321, 'DNG': 2322, 'KHS': 2323, 'JO': 2324, 'WIN': 2325, 'OOKVALLN': 2326, 'WINSUM': 2327, 'ZHS': 2328, 'HENNIE': 2329, 'VERDOMME-A': 2330, 'BRIEF-B': 2331, 'KEBJ': 2332, 'BALI': 2333, 'BUITEN': 2334, '4-ORD': 2335, 'JA': 2336, 'PIJN-C': 2337, 'MORGEN-B': 2338, 'ZKHS': 2339, 'TEN': 2340, 'MOVE-HC-05': 2341, 'PIJN': 2342, 'RU': 2343, 'GEKNEUS': 2344, 'BESTEL': 2345, 'BERL': 2346, 'DRAW-5-RS': 2347, '14-B': 2348, 'WEKE': 2349, 'WWD': 2350, 'MEEDOEN': 2351, 'WEGLOPEN': 2352, 'ZITTEN-D': 2353, 'AANRANDEN': 2354, 'VOORBIJGAAN': 2355, 'EXTERN': 2356, 'WONEN-C': 2357, 'KLOPT-F': 2358, 'LEKKER-C': 2359, 'MIS-C': 2360, 'SOM': 2361, 'ZWEEP': 2362, 'ZWAARD': 2363, 'LATER-D': 2364, 'ALY': 2365, 'BOODSCHAPPEN-C': 2366, 'GOED-C': 2367, 'DROP': 2368, 'BETRAPT': 2369, 'KONING': 2370, 'SPORT-B': 2371, 'AFSCHEIDEN': 2372, 'PLAATSEN': 2373, 'GEBAREN-D': 2374, 'WERKEN-B': 2375, 'NEDERLAND-C': 2376, '19-B': 2377, '26': 2378, '80-B': 2379, 'WAT-E': 2380, 'BEGINNEN-C': 2381, 'EN': 2382, 'EENS': 2383, 'AARDIG': 2384, 'RECHTSTREEKS': 2385, 'HOEFT-NIET-B': 2386, 'BEWAREN-A': 2387, 'KOPTELEFOON': 2388, 'GEHOORAPPARAAT-C': 2389, 'GELUIDSGOLVEN': 2390, 'AUDIOLOGIE': 2391, 'PLAGEN-B': 2392, 'ENE-KANT-ANDERE-KANT-B': 2393, 'PROCENT-B': 2394, 'WORDEN': 2395, 'ROND': 2396, 'AUDIOLIGIE': 2397, 'LEERLING': 2398, 'MICROFOON': 2399, 'LS': 2400, 'VERLENGSTUK': 2401, 'VERDOMME-B': 2402, 'ENTHOUSIAST': 2403, 'GT': 2404, 'HOORRESTN': 2405, 'DRAW-1O1O': 2406, 'DRAW-1OO': 2407, 'RESTEN': 2408, 'WAAR-B': 2409, 'SH': 2410, 'ALS': 2411, 'PYN': 2412, 'VOO': 2413, '90-B': 2414, '70-C': 2415, 'HOOP': 2416, 'VAN-SCHOOL-AF': 2417, 'GK': 2418, 'TORBEK': 2419, 'KORBEEK': 2420, 'ABTS': 2421, 'NS': 2422, 'LIEFDEHEBBEN': 2423, 'ENG': 2424, 'PRETTIG': 2425, 'INRTN': 2426, 'INST': 2427, 'EIGENWIJS': 2428, 'AT-CL-5R': 2429, 'AT-HC-0C': 2430, 'WEET-IK-VEEL': 2431, 'ZUS-F': 2432, 'JONG-B': 2433, 'JAAR-D': 2434, 'LOOS': 2435, 'EFRL': 2436, 'EEN': 2437, 'GEHANDICAPT-D': 2438, 'VOETSTAPPEN': 2439, 'ONDERWERP-D': 2440, 'TGLS': 2441, 'VRY': 2442, 'EVEN-DENKEN-G': 2443, 'DEEL': 2444, 'GOLF': 2445, 'SLAK': 2446, 'HAAS-B': 2447, 'SCHILDPAD-C': 2448, 'LIJN-B': 2449, 'SCHAAP-A': 2450, 'GRAS-A': 2451, 'WOLF-A': 2452, 'TOT-C': 2453, 'KOM-OP': 2454, 'HERINNEREN-C': 2455, 'DROOG-B': 2456, 'LES': 2457, 'REGEN-B': 2458, 'AS': 2459, 'SCHAKELEN-A': 2460, 'PORTIER': 2461, 'GLAS': 2462, 'STEL-NIKS-VOOR': 2463, 'KLANT': 2464, 'SNIJN': 2465, 'OLIE': 2466, 'VRIJDAG-A': 2467, 'GARAGE-C': 2468, 'SCHILDEREN-A': 2469, 'BOOS-D': 2470, 'DROOG-C': 2471, 'AVONTUUR': 2472, 'VRIJEN': 2473, 'VOZEN': 2474, '15-B': 2475, 'SLOTRTEREN': 2476, 'CL': 2477, 'EIND-SCENE': 2478, 'BEGIN-SCENE': 2479, 'DRAVEN-A': 2480, 'VANZELF': 2481, 'TEGENOVER-B': 2482, 'TWEETY-A': 2483, 'BE-EC-4OS': 2484, 'MOVE-EC-4RC': 2485, 'MOVE-EC-4ROS': 2486, 'DOEK': 2487, 'MOVE-HC-S': 2488, 'METEN': 2489, 'VERREKIJKER-B': 2490, 'BE-CL-4RC': 2491, 'BE-CL-4': 2492, 'DAN': 2493, 'OP-TENEN-LOPEN': 2494, 'MOVE-EC-1DOT': 2495, 'LOPEN-L': 2496, 'STOOMFLUIT': 2497, 'APART-D': 2498, 'ONTSTEKING-A': 2499, 'SLATR': 2500, 'WASSEN-A': 2501, 'ZO-LATEN': 2502, 'WEETIKNIETVEEL': 2503, 'CHINA': 2504, 'DRAW-PT': 2505, 'NICK': 2506, 'MOVE-HC-4O5': 2507, 'PAPIER': 2508, 'TERUGDEINZEN': 2509, 'BORSTEN': 2510, 'DAL': 2511, 'MOORD-C': 2512, 'DS': 2513, 'TEVREDEN-D': 2514, 'IV': 2515, 'MOVE-EC-1RO': 2516, 'PECH': 2517, 'TWEEEN-B': 2518, 'MINDER-B': 2519, 'OUDSTE-B': 2520, 'GROEP-D': 2521, '40-A': 2522, 'MSN-A': 2523, 'WEBCAM': 2524, 'INKRIMPEN-B': 2525, 'BUITEN-D': 2526, 'VERSLAAFD': 2527, 'KNIKKER': 2528, 'BE-CL-5ROS': 2529, 'MOVE-CL-CSPR': 2530, 'KLOPT-E': 2531, 'WEDSTRIJD': 2532, 'PUZZEL': 2533, 'FRIESLAND-B': 2534, 'SCHAAP-C': 2535, 'NEDERLAND-B': 2536, '17-B': 2537, 'SOOS': 2538, 'STAPEL-B': 2539, 'STAPEL-BPO': 2540, 'STREEP': 2541, 'WEST': 2542, 'BRAAF': 2543, 'MOVE-HC-2': 2544, 'ZUID': 2545, 'NEUKEN': 2546, 'EVEN-DENKEN-F': 2547, 'NL': 2548, 'CHIPS': 2549, 'CHIP': 2550, 'VERNIEUWEN': 2551, 'CHYS': 2552, 'USB': 2553, 'BEZOEK-B': 2554, 'CHIPS-B': 2555, 'CHIPS-C': 2556, 'SENS': 2557, 'NETJES': 2558, 'USB-STICK': 2559, 'TELEFOON-C': 2560, 'KLEUR-B': 2561, 'KLEUR-D': 2562, 'PAARS': 2563, 'KLEUR-A': 2564, 'DORST': 2565, 'VERWARD-B': 2566, 'AAN': 2567, 'DREIGEN': 2568, 'OPGEVEN-B': 2569, 'BONZEN-B': 2570, 'SCHOPPEN': 2571, 'HERINNEREN-A': 2572, 'WEDDEN': 2573, 'MAAT-D': 2574, 'HAAS-C': 2575, 'SCHILDPAD-A': 2576, 'FEEST-C': 2577, 'ONTSPANNEN-C': 2578, 'SCHEERGEL': 2579, 'SINAASAPPEL': 2580, 'ORANJE-E': 2581, 'TROBEL': 2582, 'STIK-B': 2583, 'GEHAKT': 2584, 'MOVE-HC-1': 2585, 'AT-EC-1C': 2586, 'SPUGEN': 2587, 'AT-EC-4RC': 2588, 'KARNEMELK': 2589, 'ZEEP': 2590, 'PATAT': 2591, 'BORD-A': 2592, 'BE-HC-4': 2593, 'FLES': 2594, 'INHOUDEN': 2595, 'PLAGEN-C': 2596, 'BLUF': 2597, 'DOUCHEN': 2598, 'CONCURRENTIE': 2599, 'UITDAGEN-A': 2600, 'WATER-D': 2601, 'MEER': 2602, 'ME': 2603, 'OPSTOKEN': 2604, 'BESTAAN-B': 2605, 'MODDER': 2606, 'HERINNEREN-D': 2607, 'LC': 2608, 'RUGBY': 2609, 'VIES-B': 2610, 'HG': 2611, 'RUB': 2612, 'RUBY': 2613, 'BEGIN-SCENE-B': 2614, 'MOVE-HC-4RO4RC': 2615, 'OVER-D': 2616, 'APPARTEMENT-A': 2617, 'MOVE-HC-4RO5R': 2618, 'ROLLEN-B': 2619, 'AFVAL': 2620, 'LIFT-A': 2621, 'KOOI': 2622, 'TWEETY': 2623, 'SYLETER': 2624, 'AT-EC-4RO': 2625, 'APPARTEMENT': 2626, 'DRAWR-4R': 2627, 'BAL-B': 2628, 'MOVE-HC-4RO4OS': 2629, 'DRAW-4OS': 2630, 'BE-CL-4RO': 2631, 'BALIE-A': 2632, 'HOTEL-C': 2633, 'DRUKTE': 2634, 'MOVE-HC-4ROS0': 2635, 'MOVE-4RC4ROS': 2636, 'TELEFOON-OPNEMEN': 2637, 'MOVE-EC-2DW': 2638, 'DAN-D': 2639, 'ASSISTENT': 2640, 'MOVE-HC-04O': 2641, 'LIFT-C': 2642, 'GECOMPLICEERD': 2643, 'DRAWR-1C': 2644, 'HOUT': 2645, 'TEKENEN-A': 2646, 'OPNIEUW-B': 2647, 'KOORD': 2648, 'KLEP': 2649, 'COOL': 2650, 'ONZIN-C': 2651, 'BAKKEVEEN': 2652, 'STANDAARD-A': 2653, 'SPANJE': 2654, 'IJS-B': 2655, 'OVERHEID': 2656, 'ACCENT': 2657, 'ON': 2658, 'ROLNEMEN': 2659, 'AUTOMATISCH-A': 2660, 'BESLUITEN-C': 2661, 'TOT-NU-TOE': 2662, 'FRIESLAND-A': 2663, 'MOGEN-B': 2664, 'DIALECT': 2665, 'BELEID': 2666, 'RIJK-A': 2667, 'DOORGEVEN-C': 2668, 'INTERNET-C': 2669, 'INTERNET-B': 2670, 'SURFEN-B': 2671, 'SURFEN-C': 2672, 'SYNONIEM': 2673, 'DENEMARKEN': 2674, 'PAPA-B': 2675, 'TE': 2676, 'WOENSDAG-A': 2677, 'DINSDAG-A': 2678, 'TEKST-A': 2679, 'REGELMATIG-B': 2680, 'SYNONIEN': 2681, 'OLIFANTENHUID': 2682, '0-C': 2683, 'BE-EC-2S': 2684, 'DOORBIJTEN': 2685, 'SNUFFELEN-A': 2686, 'DRAW-2DW': 2687, 'MOVE-HC-5O0': 2688, 'MOVE-HC-4RC5R': 2689, 'LOPEN-H': 2690, 'SNEL-D': 2691, 'BIJEENDRIJVEN': 2692, 'PLAGEN-E': 2693, 'GRIJS-B': 2694, 'HERDER': 2695, 'VERVELEN-B': 2696, 'GRAZEN': 2697, 'BLATEN': 2698, 'WOLF-C': 2699, 'AT-EC-2WP': 2700, 'TRACTOR': 2701, 'KEEPER': 2702, 'BE-EC-2WP': 2703, 'MOVE-EC-4S': 2704, 'TUIN-A': 2705, 'FREDERIK': 2706, 'UBELS': 2707, 'ORANJE-D': 2708, 'E-EC-1': 2709, 'SCHIETEN-D': 2710, 'HE': 2711, 'KAMP-B': 2712, 'ALSOF-B': 2713, 'JAMMER-D': 2714, 'THRILLER': 2715, 'LAMP': 2716, 'TACKLE': 2717, 'WISSELEN': 2718, 'LID': 2719, 'RECHTS': 2720, 'MOVE-EC-1D': 2721, 'MAGER-C': 2722, 'SCHEIDSRECHTER': 2723, 'KB': 2724, 'OPA-C': 2725, 'REMMEN-B': 2726, 'RIJLES': 2727, 'OMA-A': 2728, 'SCHOMMELEN': 2729, 'SYLVESTER-A': 2730, 'DUIKEN': 2731, 'MET': 2732, 'FOEI': 2733, 'SYLVESTR': 2734, 'GROETEN': 2735, 'ZWAAIEN-A': 2736, 'DRAAIORGEL-B': 2737, 'BANAAN-C': 2738, 'MOVE-HC-4O4C': 2739, 'BE-CL-4C': 2740, 'ORGEL': 2741, 'HOED-B': 2742, 'PICOLLO': 2743, 'DRAAIORGEL': 2744, 'ZWAAIEN-B': 2745, 'MOVE-HC-4OS': 2746, 'MOVE-HC-4O0': 2747, 'FITNESS-C': 2748, 'MOVE-HC-4OS4C': 2749, 'PLANK': 2750, 'AT-EC-4ARM': 2751, 'MOVE-HC-4OS0': 2752, 'OLYMPISCH': 2753, 'DESKUNDIG-C': 2754, 'PARA': 2755, 'HDCP': 2756, 'MISHANDELEN': 2757, 'UITEN': 2758, 'EENZAAM': 2759, 'TALEN': 2760, 'KK': 2761, 'ONZIN-A': 2762, 'STEM-UIT': 2763, 'EMOTIE-A': 2764, 'ACHTERUITGANG': 2765, 'WOORDVOLGORDE': 2766, 'SPITS': 2767, 'METRO-C': 2768, 'ER': 2769, 'VOLGORDE': 2770, 'MOVE-EC-1O': 2771, 'BORD-C': 2772, 'TAAK': 2773, 'TOEPASSEN': 2774, 'MIDDEN-B': 2775, 'OPDRACHT': 2776, 'VAKN': 2777, 'BEEN-A': 2778, 'HEID': 2779, 'LIP': 2780, 'BENEN': 2781, 'BEVRUCHTEN': 2782, 'SPASTISCH': 2783, 'RECLAME-A': 2784, 'WAS': 2785, 'ZUS-A': 2786, 'ONDERHOUDEN-A': 2787, 'PRIVE': 2788, 'SOLIDAIR': 2789, 'DEMOCRATIE': 2790, 'HOOGEVEEN': 2791, 'STIJL-A': 2792, 'TROTS': 2793, 'AANDACHT-C': 2794, 'GENERATIE-B': 2795, '30-B': 2796, '40-B': 2797, '50-B': 2798, 'EER': 2799, 'NPBG': 2800, 'UITWISSELEN-D': 2801, 'CONTEXT': 2802, 'VREEMD-E': 2803, 'REKENEN-A': 2804, '40-C': 2805, 'NG': 2806, 'AT-HC-5S': 2807, 'SYNONIEMEN': 2808, 'OPA-B': 2809, 'TERUG-B': 2810, 'EMYTOLOGIE': 2811, 'MSN-B': 2812, 'VLINDER': 2813, 'NURNBERG': 2814, 'VISICOM-B': 2815, 'HELM': 2816, 'UITWISSELEN-E': 2817, 'WERELD-C': 2818, 'ICQ': 2819, 'LIJST-B': 2820, 'VISICOM-A': 2821, 'DUITSLAND-B': 2822, 'PORTUGAL-A': 2823, 'INTERNET-D': 2824, 'MERK': 2825, 'BE-EC-1O': 2826, 'AMSTEL-A': 2827, 'AMSTEL-B': 2828, 'GROLSCH': 2829, 'WS': 2830, 'SLOVENIE': 2831, 'HEINEKEN-B': 2832, 'HEINEKEN-A': 2833, 'STER': 2834, 'ASTEL': 2835, 'DUITSLAND-C': 2836, 'PORTUGAL-B': 2837, 'EUROPA-A': 2838, 'MAKKIE': 2839, 'JUFFROUW': 2840, 'ZAND-B': 2841, 'ALTO': 2842, 'CENTRUM-B': 2843, 'BUNNIK': 2844, 'BAKKEN-B': 2845, 'SSWIFT': 2846, 'LENEN-A': 2847, 'RECHTER': 2848, 'HNK': 2849, 'MR': 2850, 'PAARD-A': 2851, 'ISIS': 2852, 'WASSEN-D': 2853, 'ALLERGIE': 2854, 'ZALF': 2855, 'PRIKKEN': 2856, 'OVERDREVEN-DEFTIG': 2857, 'SMEREN': 2858, 'MOVE-EC-1M': 2859, 'MOVE-HC-5RC': 2860, 'STIJVE-HAND': 2861, 'MOVE-HC-5S': 2862, 'DRAW-4S': 2863, 'MOVE-HC-44O': 2864, 'BE-AT-EC-4RO': 2865, 'DRAVEN': 2866, 'BE-EC-2DW': 2867, 'PANIEK-D': 2868, 'DEUR-B': 2869, 'EHM': 2870, 'BUIS-B': 2871, 'FANTASEREN': 2872, 'KLIMMEN-F': 2873, 'MOVE-HC-4ROS5': 2874, 'BOTSING': 2875, 'MOVE-EC-4ROS1': 2876, 'ZWABBEREN': 2877, 'TROMMEL': 2878, 'STAAN-E': 2879, 'ALSOF-D': 2880, 'MOVE-HC-1O1RC': 2881, 'OMHOOG': 2882, 'TELEFOON-OPHANGEN': 2883, 'MOVE-HC-2T': 2884, 'JOEPIE': 2885, 'AFSPRAAK-B': 2886, 'WIP': 2887, 'HALEN-B': 2888, 'DRAW-4C': 2889, 'MOVE-HC-4OS4O': 2890, 'KIJKENALSVOGEL': 2891, 'RONDKIJKENALSVOGEL': 2892, 'HANDENINDEZIJ': 2893, 'STAAN-G': 2894, 'KLIMMEN-B': 2895, 'SCHOK': 2896, 'HANDOPTEKENTAFEL': 2897, 'VERWARD-C': 2898, 'KOPIEREN': 2899, 'REGERING-D': 2900, 'KANKER': 2901, 'AIDS': 2902, 'STABOL-B': 2903, 'STOK-B': 2904, 'POLITIE-B': 2905, 'PAD': 2906, 'AT-EC-1RO': 2907, 'GEBAREN-E': 2908, 'WURGEN': 2909, 'SCHIETEN-A': 2910, 'PROFESSIONEEL': 2911, 'DRAWR-4RO': 2912, 'TELEVISIE-D': 2913, 'EXTRA-B': 2914, 'MOVE-EC-4ROROS': 2915, 'PSYCHOLOGIE-B': 2916, 'SPLEETOOG': 2917, 'DRAW-2RS': 2918, 'CURSUS-B': 2919, 'VOORUIT': 2920, 'PISTOOL': 2921, 'MOVE-EC-4RO4ROS': 2922, 'WOKKEL-A': 2923, 'GAMMA': 2924, 'PRAXIS': 2925, 'PRAIS': 2926, 'HEFTRUCK': 2927, 'GPALAT': 2928, 'PRAX': 2929, 'KARWEI': 2930, 'SNOEP-A': 2931, 'WOKE': 2932, 'WOKKEL-B': 2933, 'HAKA': 2934, 'HAMKA': 2935, 'SEKS': 2936, 'SEKSUOLOOG': 2937, 'ROOSTER': 2938, 'GEVEN-E': 2939, 'EISEN': 2940, 'DRAW-4O': 2941, 'VAAG': 2942, 'PARIJS': 2943, 'ABBE-DE-LEPEE': 2944, 'REGISTRATIE': 2945, 'ONTSPANNEN-E': 2946, 'VRIJ-D': 2947, 'AFRONDEN': 2948, 'VERRASSING': 2949, 'BEER-C': 2950, 'BE-HC-2ROS': 2951, 'ETEN': 2952, 'BE-HC-2RO': 2953, 'MOVE-HC-4C4OS': 2954, 'BE-HC-2RSO': 2955, 'BE-EC-5RC': 2956, 'BE-EC-2ROS': 2957, 'AT-EC-1D': 2958, 'START-B': 2959, 'BIJEENDRIJVEN-B': 2960, 'GEBEUREN-B': 2961, 'AFSTAND-C': 2962, 'BEDRIEGEN': 2963, 'FIETSSLOT': 2964, 'GROEP-ONDER-ELKAAR': 2965, 'BECYLINDER': 2966, 'OPGELUCHT-C': 2967, 'OPRUIMEN': 2968, 'BEFLAT': 2969, '80-A': 2970, 'CENT': 2971, 'DRONKEN-B': 2972, 'RESER': 2973, 'BEWAKEN': 2974, 'MOVEFLAT': 2975, 'OPBOUWEN': 2976, 'METSELEN': 2977, 'FUNDERIG': 2978, 'BE-EC-1C': 2979, 'BZW': 2980, 'HUISMAAS': 2981, 'WAGGELEN-C': 2982, 'NUCHTER': 2983, 'LOPEN-I': 2984, 'AANDACHT-B': 2985, 'BKW': 2986, 'PAAR': 2987, 'PIVOT0SPHERE': 2988, 'PIVOT0CLOSED': 2989, 'JAKKES': 2990, 'MAAS': 2991, 'LEUK-B': 2992, 'TELHAND-7-A': 2993, 'TELHAND-8-A': 2994, 'SNELWEG': 2995, 'APPEL': 2996, 'BE-5': 2997, 'SNELHEIDSMETER': 2998, 'STUREN': 2999, 'DRAW-1RC1O': 3000, 'MOVE-HC-4ROS4RO': 3001, 'MOVE-EC-4RC4ROS': 3002, 'DRAW-1R': 3003, 'DRAVEN-D': 3004, 'BE-EC-4DOT': 3005, 'MOVE-HC-04OS': 3006, 'VOGELKOOI-B': 3007, 'VENSTERBANK': 3008, 'BUITEN-E': 3009, 'ATFLAT': 3010, 'MUUR-B': 3011, 'MOVE-EC-2R2': 3012, 'MOVE2': 3013, 'MOVE-HC-5R-5': 3014, 'PIVOTFLAT': 3015, 'MOVE-EC-1C': 3016, 'HOEK-B': 3017, 'CL5': 3018, 'INEENFROMMELEN': 3019, 'AT-EC-5RS': 3020, 'AAPNADOEN': 3021, 'AAPACHTIGEBEWEGINGENMAKEN': 3022, 'HANDENZOEKENDBEWEGEN': 3023, 'KNIP': 3024, 'STOK-C': 3025, 'POES': 3026, 'GEVEN-D': 3027, 'VROUW-E': 3028, 'BEFIST': 3029, 'GEVEN-F': 3030, 'MOVE-HC-01O': 3031, 'MOVE-HC-2C': 3032, 'NUMMER-D': 3033, 'MOVE-EC-DOT': 3034, 'NUMMER-B': 3035, 'VERTROUWD': 3036, 'KLEED': 3037, 'BE-HC-4OS0': 3038, 'EINDE-SCENE-B': 3039, 'PET-A': 3040, 'BE-HC-50': 3041, 'MOVE-HC-4RS': 3042, 'DWARS': 3043, 'HANDENWAPPERENINDEVLUCHTOMHOOG': 3044, 'BE-FLAT': 3045, 'PLAT-A': 3046, 'MOVE-EC-2ROS': 3047, 'KLUNGELEN': 3048, 'WISKUNDE-A': 3049, 'TELESCOOP-A': 3050, 'METRO-A': 3051, 'ELEKTRICITEIT-B': 3052, 'GEDULD': 3053, 'BEDRIJF': 3054, 'NAAM-D': 3055, 'KENNEN-B': 3056, 'VOORSTEL': 3057, 'CI-AF-A': 3058, 'DILEMMA': 3059, 'INF': 3060, 'ECHO': 3061, 'DOLLAR-A': 3062, 'MOVE-HC-1C1O': 3063, 'FILMEN-B': 3064, 'SOMS': 3065, 'KRIMPEN': 3066, 'PR': 3067, 'WOD': 3068, 'TRACE-1': 3069, 'TRACE-1O': 3070, 'STANDAARD-B': 3071, 'MOVE-1': 3072, 'OVEREENKOMST': 3073, 'AFRIKA-C': 3074, 'JAPAN': 3075, 'GESCHIEDENIS-C': 3076, 'GNGT': 3077, 'GM': 3078, 'NGNGT': 3079, 'OUDERWETS': 3080, 'NA-A': 3081, 'POKER-A': 3082, 'POKER-B': 3083, 'POKER': 3084, 'POSTZEGEL': 3085, 'OPSTUREN-C': 3086, 'BEFFEN': 3087, 'GEEN-ZIN': 3088, 'UITNODIGEN': 3089, 'BLOWEN': 3090, 'PIJPEN': 3091, 'PIL': 3092, 'BUS-D': 3093, 'HEADSET': 3094, 'BE-EC-2RC2RO': 3095, 'HANDEN': 3096, 'STATION-B': 3097, 'ZAAL': 3098, 'FEBRUARI-A': 3099, 'MEI': 3100, 'MEI-A': 3101, 'SEPTEMBER-B': 3102, 'INTERNET-E': 3103, 'FEEDBACK': 3104, 'STICHTING': 3105, 'COACH': 3106, 'MOVE-2': 3107, 'KAART-B': 3108, 'BANK-A': 3109, 'COACH-B': 3110, 'MARTINISTAD': 3111, 'ERIC': 3112, 'SPIJT-D': 3113, 'PUBLIEK': 3114, '12-C': 3115, 'KICKEN': 3116, 'BE-EC-4RC4ROS': 3117, 'DRAVEN-C': 3118, 'GEBOUW-D': 3119, 'KLIMMEN-D': 3120, 'BOEM': 3121, 'DIK': 3122, 'WAGGELEN-B': 3123, 'UIT-C': 3124, 'MOV5': 3125, 'MOVE-HC-1R': 3126, 'BE-4RO': 3127, 'MALEN': 3128, 'SHAPEFLAT': 3129, 'BE-HC-GELD': 3130, 'MOVE-HC-GELD5': 3131, 'TRILLEN': 3132, 'MOVE-HC-5O': 3133, 'ONDERTITELING-A': 3134, 'PICCOLO': 3135, 'AANKLOPPEN': 3136, 'PLANK-A': 3137, 'DRAGEN': 3138, 'GOOIEN-B': 3139, '500^': 3140, 'LBS': 3141, 'VERSCHIJNEN': 3142, 'OVERZICHT': 3143, 'HOED': 3144, 'STUURKNUPPEL': 3145, 'BEELD': 3146, 'KINDERACHTIG': 3147, 'LUIDSPREKER': 3148, 'SE': 3149, 'SCHAAL': 3150, 'BHTF': 3151, 'TJANDE': 3152, 'SENSE': 3153, 'HANDVORM': 3154, 'STAM': 3155, 'STIJL-B': 3156, 'ZACHT': 3157, 'TOF': 3158, 'MIX': 3159, 'KRAMPACHTIG': 3160, 'OVERLAP': 3161, 'VERKRAMPEN': 3162, 'PROJECTEREN': 3163, 'KUNNEN-NIET-C': 3164, 'REN': 3165, 'REALI': 3166, 'IN': 3167, 'AAL': 3168, 'SESP': 3169, 'LUISTEREN-NIET-B': 3170, 'COMPUTERMUIS': 3171, 'UITKNIJPEN': 3172, 'RUZIE-B': 3173, 'EI-B': 3174, 'ZOMER-B': 3175, 'PLEGEN': 3176, 'TRAM': 3177, 'MAATSCHAPPELIJK': 3178, 'KAST': 3179, 'TANDENPOETSEN-A': 3180, 'HELPEN-C': 3181, 'OCHTEND-C': 3182, 'KERST': 3183, 'KEN-JIJ': 3184, 'NOG': 3185, 'GEMEENTE': 3186, 'MEEL': 3187, 'UITDOEN': 3188, 'OMHELZEN': 3189, 'TWEETY-B': 3190, 'GOOT': 3191, 'VROUW-D': 3192, 'KNOT': 3193, 'THEATER': 3194, 'VOORSTELLING': 3195, 'KAPSEL': 3196, 'HANDENTEGENELKAAR': 3197, 'MOVE-HC-4R0': 3198, 'ATSMALOPEN': 3199, 'SCHIJNHEILIGSTAANTEKIJKEN': 3200, 'PAKKEN-C': 3201, 'MOVE-HC-MONEY()': 3202, 'PLANK-B': 3203, 'BE2': 3204, 'ZWAAR-D': 3205, 'MEESTAL': 3206, 'GEHANDICAPT-F': 3207, '7UP': 3208, 'OMKEREN': 3209, 'COLA': 3210, 'EERLIJK-A': 3211, '15-A': 3212, '17-A': 3213, '11-C': 3214, 'CASSIS': 3215, 'SEVEN-UP': 3216, 'SINAS': 3217, '13-A': 3218, '18-B': 3219, 'EVENDENKEN': 3220, 'DONDERDAG-A': 3221, 'ZONDE': 3222, 'EINDELIJK-B': 3223, 'GEBRUIKEN-D': 3224, 'EM': 3225, 'KAAS-C': 3226, 'HAGELSLAG-B': 3227, 'WEEKEND-B': 3228, 'VLAG-WAPPEREN': 3229, 'COL': 3230, 'JAM-B': 3231, 'EEL': 3232, 'VD': 3233, 'ROZE-B': 3234, 'DINSDA': 3235, 'ROGGE': 3236, 'AFBLIJVEN': 3237, 'ROZE-A': 3238, 'GEEL-B': 3239, 'ORANJE-C': 3240, 'VLAG': 3241, 'KNIPPEN': 3242, 'AN': 3243, 'DRAAIEN-C': 3244, 'CS': 3245, 'LUSTEN': 3246, 'MEES': 3247, 'ZO': 3248, 'ARCHIEF-A': 3249, 'VOOR-E': 3250, 'DOOF-F': 3251, 'NU': 3252, 'NEE': 3253, 'BIJVOORBEELD-C': 3254, 'TK': 3255, 'KLUS': 3256, 'VEEN': 3257, 'NA-C': 3258, 'SOMS-C': 3259, 'OF-B': 3260, 'HEN': 3261, 'GEHOORAPPARAAT-D': 3262, 'KLOK-A': 3263, 'TODE': 3264, 'VERBAASD-D': 3265, 'TOEKOMST-B': 3266, 'PROBEREN': 3267, 'ZELFSTANDIG-B': 3268, 'VERSTAAN': 3269, 'NIKS-D': 3270, 'PLOTSELING-B': 3271, 'RUIS': 3272, 'KOMEN-E': 3273, 'MOVE1': 3274, 'PIVOTSMALL-CLOSED': 3275, 'MOVE': 3276, 'MOVECYL': 3277, 'WEGGOOIEN-B': 3278, 'KUS': 3279, 'MOVEBEAK': 3280, 'MAG-NIET': 3281, 'MOVEFLOWER': 3282, 'NOG-C': 3283, 'CI-E': 3284, 'OORDOP-B': 3285, 'ZO-C': 3286, 'EERST-B': 3287, 'ALLEMAAL-C': 3288, 'TAAL': 3289, 'LTS': 3290, 'BE1': 3291, 'EN-B': 3292, 'AFHANKELIJK-E': 3293, 'MNEER': 3294, 'AMP': 3295, 'MENKEER': 3296, 'ELLEBOOGSTOOT': 3297, 'ARM-C': 3298, 'UUR-9-B': 3299, 'DOLLAR-B': 3300, 'UIT-D': 3301, 'RIJ': 3302, 'UITSMIJTER': 3303, 'STROPDAS': 3304, 'BANK-B': 3305, 'RUSLAND': 3306, 'RIJK-B': 3307, 'TWEEEN-D': 3308, 'PARFUM': 3309, 'DOLLAR': 3310, 'DOOR-DE-VINGERS-ZIEN': 3311, 'LEEG': 3312, 'VIP': 3313, 'PORTOFOON': 3314, 'SOFA': 3315, 'WODKA': 3316, 'DEFTIG-A': 3317, 'KIPPEVEL': 3318, 'UUR-2-A': 3319, 'MAART-A': 3320, 'RECLAME-B': 3321, 'CUBA': 3322, 'HAVANA': 3323, 'CUBAANSE': 3324, 'AMBASSADE': 3325, 'ZWITSERLAND': 3326, 'MOORD-D': 3327, 'HITLER': 3328, 'HILTER': 3329, 'BUSH': 3330, 'ONDERLICHAAM': 3331, 'DEEL-D': 3332, 'PROCENT-C': 3333, 'BLOKKEREN': 3334, 'OBJECTIEF': 3335, 'AFWYKING': 3336, 'BESTEMPELEN-C': 3337, 'BLOKKAGE': 3338, 'STEREOTYPE': 3339, 'HUID-B': 3340, 'LABORATORIUM': 3341, 'TWENTSE': 3342, 'UITSPREKEN-B': 3343, 'DRENTSE': 3344, 'DRACHTEN': 3345, 'GELDERHORST': 3346, '80-C': 3347, 'BIOSCOOP': 3348, 'IMMIGRATIE': 3349, 'REGELMATIG-A': 3350, 'DRETS': 3351, 'DRETNS': 3352, 'INTERNET-F': 3353, 'VRIEND-E': 3354, 'DRAW-1C1O1C': 3355, 'EMIL': 3356, 'MEIL': 3357, 'UTRECHT-B': 3358, 'INTERNET': 3359, 'VERVELEN-D': 3360, 'WIREL': 3361, 'WIRELESS': 3362, 'RE': 3363, 'ZOIETS': 3364, 'DESKUNDIG-B': 3365, 'PANNEKOEK': 3366, 'PANNENKOEK': 3367, '11-D': 3368, '12-D': 3369, '16-A': 3370, 'PROJECT': 3371, 'HAND-SCHUDDEN-C': 3372, 'PSL': 3373, 'YOUTUBE': 3374, 'COM': 3375, 'GETUIGE': 3376, 'VREEMD-F': 3377, 'SAAI-B': 3378, 'HU': 3379, 'ZONDAG-B': 3380, 'GLOSSEN': 3381, 'JW': 3382, 'STOPWATCH': 3383, 'ELA': 3384, 'LEEUW-A': 3385, 'LIGGEN-E': 3386, 'MUIS-B': 3387, 'BREDE-SCHOUDERS': 3388, 'JAGEN-A': 3389, 'VANGNET-B': 3390, 'VANGNET-A': 3391, 'SCHRIKKEN-C': 3392, 'MET-HANDEN-IN-DE-ZIJ-STAAN': 3393, 'LEKKER-PUH': 3394, 'MOVEOSPHERE': 3395, 'HOED-C': 3396, 'HANDENINELKAARSLAAN': 3397, 'WRIJVENOOG': 3398, 'BRIL-B': 3399, 'HANDINDEZIJ': 3400, 'MOVE-CLOSED': 3401, 'VLOER': 3402, 'MOVE-HC-4C5': 3403, 'DUIZELIGWIEBELEN': 3404, 'KRABBEN': 3405, 'MUUR-D': 3406, 'AT1': 3407, 'BE-CLOSED': 3408, 'GELD-B': 3409, 'DRAGEN-A': 3410, 'PIVOT-FLAT': 3411, 'PLANK-C': 3412, 'GEWICHT-A': 3413, 'BREEDTE^HOOGTE': 3414, 'SHAPE-FLAT': 3415, 'DEUROPEN': 3416, 'STRENG': 3417, 'BIES': 3418, 'UUR-3-B': 3419, 'UUR-HALF-B': 3420, 'SCHRIKKEN': 3421, 'KRITIEK': 3422, 'IRRITANT': 3423, 'LELI': 3424, 'CARNAVAL': 3425, 'PUNK': 3426, 'STIPT': 3427, 'JOURNAAL-B': 3428, 'NED': 3429, 'AUSTRALIE': 3430, 'DVD': 3431, 'OVERLEGGEN-B': 3432, 'WOORD-EN-GEBAAR': 3433, 'IJVERIG': 3434, 'OVERHEERSEN': 3435, 'STROEF': 3436, 'SAMENVATTEN': 3437, 'VERSCHIL-B': 3438, 'VERJ': 3439, 'HERSEN-B': 3440, 'PIVOT-SPHERE': 3441, 'HAARCELLEN': 3442, 'MOPPEREN-B': 3443, 'TINNITUS': 3444, 'THEORIE': 3445, 'HOORN': 3446, 'HERRIJZEN': 3447, 'BE-SMALL-OPEN': 3448, 'KIP-C': 3449, 'SCHOOL-E': 3450, '19-C': 3451, 'VOLGZAAM': 3452, 'INSTELLEN': 3453, 'VROEGER-C': 3454, 'GRIJS-C': 3455, '100-B': 3456, 'NOG-D': 3457, 'ELEKTRICITEIT-E': 3458, 'MACHINE': 3459, 'ANDERE-KANT-C': 3460, 'KERST-B': 3461, 'NAAM': 3462, 'SCHAKELAAR': 3463, 'KLEIN-H': 3464, 'WERKEN': 3465, 'HUISHOUDEN': 3466, 'TAART-A': 3467, 'NAAIEN-C': 3468, 'LANG-C': 3469, 'DUIMEN': 3470, 'NAAIEN-B': 3471, 'TRUI-B': 3472, 'BOOS': 3473, 'GOED-D': 3474, 'INSCHENKEN': 3475, 'CHEF-B': 3476, 'SLAGEN': 3477, 'GEBAREN': 3478, 'VERZAMELEN': 3479, 'NODIG-D': 3480, 'KUNNEN-B': 3481, 'PLEZIER': 3482, 'TOCH': 3483, 'SCHAAP-B': 3484, 'WOLF-B': 3485, 'SCHAAP-E': 3486, 'SAMEN-5': 3487, 'CONTACT-B': 3488, 'GOED-NIET': 3489, 'UIT-B': 3490, 'NOORWEGEN': 3491, 'HEUVEL-PL': 3492, 'PONT': 3493, 'PET-B': 3494, 'KAPITEIN': 3495, 'BEWAREN-B': 3496, 'JONGEN-B': 3497, 'DICHT': 3498, 'TOT-D': 3499, 'AT-EC-5C': 3500, 'MOVE-CL-5C': 3501, 'LUIEREN': 3502, 'MOVE-CL-4R': 3503, 'AT-CL-5ROC': 3504, 'SCHIJNEN': 3505, 'VOS-A': 3506, 'DIPLOMA-B': 3507, 'STOER': 3508, 'SCHEVENINGEN-B': 3509, 'SCHEVENINGEN-A': 3510, 'MOEDER-D': 3511, 'ZEE': 3512, 'REIZEN-B': 3513, '3-ORD-B': 3514, 'KRIJGEN-A': 3515, 'VOOR': 3516, 'JURK': 3517, 'HANGERS': 3518, 'KRULLEN': 3519, 'OUDSTE-A': 3520, 'LOLLY': 3521, 'TREKKEN': 3522, 'KNOP': 3523, 'PIEPEN': 3524, 'DEN-HAAG-A': 3525, 'VOORBURG': 3526, 'STOUT-C': 3527, 'ROEMENIE-B': 3528, 'PRETTIG-C': 3529, 'BALEN-C': 3530, 'DRAAIEN': 3531, 'HANGEN': 3532, 'HANGEN-B': 3533, 'ANTENNE': 3534, 'INDRUKKEN-A': 3535, 'AT-HC-15R': 3536, 'BAND': 3537, 'ONTWIKKELEN-C': 3538, 'DEFTIG-B': 3539, 'REMMEN-C': 3540, 'FIETSEN-B': 3541, 'BE-CL-4R': 3542, 'LONG': 3543, 'WIJN': 3544, 'SIMPEL': 3545, 'REM': 3546, 'PAAL': 3547, 'BEEN-D': 3548, 'PTOF': 3549, 'CONCENTRATIE': 3550, 'SPECIAAL': 3551, 'VERSCHIL-D': 3552, 'OFPT': 3553, 'PECH-D': 3554, 'MOVE5': 3555, 'ROLSTOEL-D': 3556, 'KLOPT-G': 3557, 'HOREN-C': 3558, 'MOVESMALL-OPEN': 3559, 'LUI-B': 3560, 'VERTROUWEN-B': 3561, 'BATTERIJ-B': 3562, 'OM7': 3563, 'OPPAKKEN': 3564, 'JAAR-E': 3565, 'PROCENT-D': 3566, 'ZOEKENB': 3567, 'DOOF': 3568, 'GAS-GEVEN': 3569, 'DOM-C': 3570, 'GAAT-OM': 3571, 'VOORDEEL-B': 3572, 'OM5': 3573, 'SLECHTHOREND-B': 3574, 'CI-C': 3575, 'STEM-AF': 3576, 'SLECHTHOREND-C': 3577, 'HEE-B': 3578, 'DUMPEN': 3579, 'ZIELIG-B': 3580, 'DOOF-G': 3581, 'VEEL-D': 3582, 'KIJKEN-D': 3583, 'OP-F': 3584, 'MEER-E': 3585, 'CIW': 3586, 'DUIDELIJK-B': 3587, 'RONDKIJKEN': 3588, 'GEWOON-F': 3589, 'OUDSTE-C': 3590, 'ICI': 3591, 'ALLEBEI': 3592, 'MOND-B': 3593, 'MINDER-E': 3594, 'AUTOMATISCH-D': 3595, 'SCHOOL-G': 3596, 'GEHOORAPPARAAT-B': 3597, 'GEHOORAPPARAAT-AF': 3598, 'BRR': 3599, 'LEEUWARDEN-A': 3600, 'BIT': 3601, 'ZOETERMEER': 3602, 'VINGERSPELLEN-BSL': 3603, 'DIER': 3604, 'BRABANT-B': 3605, 'DRENTS': 3606, 'STAR': 3607, 'PINDA': 3608, 'X': 3609, 'ALBERT-HEIJN': 3610, 'MIXER': 3611, 'CAFE-B': 3612, 'CAFE-D': 3613, 'KROEG': 3614, 'ONDERDRUKKEN-B': 3615, 'PADS': 3616, 'MOVE-CL-1RO': 3617, 'NAIEF': 3618, 'GOOFY': 3619, '19-A': 3620, 'HD': 3621, 'VERREKIJKER-C': 3622, 'ERUIT-SCHOPPEN': 3623, 'MOVE-EC-4SRC': 3624, 'KIN-VASTHOUDEN': 3625, 'HANDEN-BIJ-ELKAAR': 3626, 'BE-HC-4ROS5': 3627, 'OVERGAAN': 3628, '158': 3629, 'FOCUS-B': 3630, 'TOT-A': 3631, 'TEKENEN-C': 3632, 'ALLEEN-C': 3633, 'NEDERLAND': 3634, 'IETS': 3635, 'BELANGRIJK': 3636, 'ONDERDANIG-B': 3637, 'MOVE-EC-4RC4S': 3638, 'BE-HC-5OC': 3639, 'BE-EC-5C': 3640, 'SYLVSTR': 3641, 'TW': 3642, 'SYLVESTER-B': 3643, 'AT-EC-2DW': 3644, 'BE-AT-EC-2R': 3645, 'SCHOUDER': 3646, 'WILLEN-C': 3647, 'GOOIEN-C': 3648, 'WACHTEN': 3649, 'MOVE-HC2RC': 3650, 'DEPONEREN': 3651, 'MOVE-HC-3RC': 3652, 'BE-HC-3RC': 3653, 'PCLO': 3654, 'MAND': 3655, 'GEWICHT-B': 3656, 'MOVE-HC-4RS-5': 3657, 'BE-EC-4HAND': 3658, 'DUN-A': 3659, 'KIST': 3660, 'EH': 3661, 'TELESCOOP-B': 3662, 'KAMER-A': 3663, 'MUUR-C': 3664, 'AANMOEDIGEN': 3665, 'OPTRAMLIJNVOLGEN': 3666, 'MOVE-EC-22R2': 3667, 'MOVE-CAMERA': 3668, 'HERHALEN': 3669, 'CORPUS': 3670, 'PUS': 3671, 'JOYSTICK': 3672, 'DRAVEN-B': 3673, 'AT-EC-4S': 3674, 'EC-4RO': 3675, 'EXPLOSIE': 3676, 'MOVE-EC-4RS': 3677, 'BE-EC-2DP': 3678, 'LIFT-ASL': 3679, 'HANDDOEK': 3680, 'DRAWR-5R': 3681, 'LINEAAL-A': 3682, 'LINEAAL-B': 3683, 'TOUW-C': 3684, 'STIK-C': 3685, 'FESTIVAL': 3686, 'SHOARMA': 3687, 'MAROKKO': 3688, 'UITKERING': 3689, 'SURINAME-A': 3690, 'KAJANA': 3691, 'SLAAF': 3692, 'WA': 3693, 'FABRIEK-A': 3694, 'AFHOUDEN': 3695, 'KOPJE-D': 3696, 'CV': 3697, 'WAJ': 3698, 'VOORBEELD': 3699, 'PILOOT': 3700, 'LAURENT-CLERC': 3701, 'THOMAS-GALLAUDET': 3702, 'ONGELOFELIJK-B': 3703, 'WOU': 3704, 'STEWARDES': 3705, 'HANDICAP': 3706, 'NIEMAND-C': 3707, 'INTELLIGENT': 3708, 'UUR-LANG-6-B': 3709, 'JROVERLEG': 3710, 'UUR-LANG-10-C': 3711, 'INZINKING': 3712, 'OPVANG': 3713, 'PUUR': 3714, 'LUNCH': 3715, 'UUR-LANG-10-B': 3716, '14-C': 3717, 'KWARTIER-B': 3718, 'UNIVERSITEIT-B': 3719, 'VERSCHIL-C': 3720, 'STROMING': 3721, 'DOKTER-C': 3722, 'INDIA': 3723, 'ROEMENIE-A': 3724, 'HOLLAND-A': 3725, 'HONGARIJE': 3726, 'PUNT-B': 3727, 'VANDAAR-B': 3728, 'ROEMENIE-C': 3729, 'HOMO-B': 3730, 'SENSEO-F': 3731, 'SENSEO-G': 3732, 'HOMO-C': 3733, 'TOM': 3734, 'GRAAG-D': 3735, 'HAND-OP-BUIK': 3736, 'KLIMMEN-E': 3737, 'AT-HC-4RC': 3738, 'METHANDENOPDERUGLOPEN': 3739, 'BE-HC-5R-5': 3740, 'BUIS-C': 3741, 'FLUITEN-A': 3742, 'BEDANKEN-C': 3743, 'MOVE-HC-MONEY5': 3744, 'NUMMER-E': 3745, '100': 3746, '8': 3747, '50': 3748, 'HANDENINZIJ': 3749, 'HOUT-B': 3750, 'AT': 3751, 'DRAW-B-PLAT': 3752, 'KT': 3753, 'BE-EC-5ARM': 3754, 'REKENMACHINE': 3755, 'DRAWR-MONEY': 3756, 'KLAUWEN': 3757, 'SNUFEFLEN-C': 3758, 'BEWEGEN-MET-HANDEN': 3759, 'HEBBEN-E': 3760, 'BEEN-AF': 3761, 'NOGTEZOEKEN': 3762, 'NOGOPTEZOEKEN': 3763, 'GEBAREN-G': 3764, 'PLAKKEN-B': 3765, 'NIETS-KUNNEN': 3766, 'NOGOPZOEKEN': 3767, 'OUDERS-D': 3768, 'WETEN-NIET-B': 3769, 'OBSERVEREN': 3770, 'WAT-F': 3771, 'KLOOF': 3772, 'MOVECYLINDER': 3773, 'WETEN-C': 3774, 'NOGOPZOEKEN-GEVEN': 3775, 'NOGOPZOEKENTWEEEN-D': 3776, 'NOGOPZOEKENWEG-': 3777, 'ZELF-B': 3778, 'NOGOPZOEKENBIJVOORBEELD-A': 3779, 'HAALBAAR': 3780}\n"
     ]
    }
   ],
   "source": [
    "print(c_unique_glosses)"
   ]
  },
  {
   "cell_type": "code",
   "execution_count": 21,
   "metadata": {
    "id": "mCb_1U6vcRoF"
   },
   "outputs": [],
   "source": [
    "import collections\n",
    "od = collections.OrderedDict(sorted(c_unique_glosses.items()))"
   ]
  },
  {
   "cell_type": "code",
   "execution_count": 22,
   "metadata": {
    "colab": {
     "base_uri": "https://localhost:8080/"
    },
    "id": "tMdEmcVpnP15",
    "outputId": "d6101cf9-1f9a-4c9c-b087-67bfd9fe8e3e",
    "scrolled": true
   },
   "outputs": [
    {
     "name": "stdout",
     "output_type": "stream",
     "text": [
      "OrderedDict([('0-A', 2042), ('0-B', 1327), ('0-C', 2683), ('1-A', 121), ('10-A', 1289), ('10-B', 1230), ('100', 3746), ('100-A', 442), ('100-B', 3456), ('1000-A', 1694), ('1000-B', 1708), ('11-B', 1176), ('11-C', 3214), ('11-D', 3368), ('12-B', 2305), ('12-C', 3115), ('12-D', 3369), ('13-A', 3218), ('13-B', 1177), ('14-A', 1632), ('14-B', 2348), ('14-C', 3717), ('15-A', 3212), ('15-B', 2475), ('15-C', 1352), ('158', 3629), ('16-A', 3370), ('16-B', 1353), ('17-A', 3213), ('17-B', 2537), ('18-A', 884), ('18-B', 3219), ('18-C', 1501), ('19-A', 3620), ('19-B', 2377), ('19-C', 3451), ('2-A', 319), ('2-B', 1645), ('2-ORD', 461), ('20-A', 520), ('20-B', 166), ('22', 612), ('26', 2378), ('3-A', 1033), ('3-B', 628), ('3-ORD-A', 518), ('3-ORD-B', 3514), ('30-A', 1386), ('30-B', 2796), ('30-C', 1620), ('4-A', 258), ('4-ORD', 2335), ('40-A', 2522), ('40-B', 2797), ('40-C', 2805), ('5', 438), ('50', 3748), ('50-A', 1310), ('50-B', 2798), ('50-C', 1621), ('500', 1864), ('500^', 3140), ('6-A', 424), ('6-B', 1709), ('60-A', 441), ('60-B', 1622), ('7-A', 1716), ('7-B', 2250), ('70-A', 439), ('70-C', 2415), ('7UP', 3208), ('8', 3747), ('8-A', 1387), ('8-B', 866), ('80-A', 2970), ('80-B', 2379), ('80-C', 3347), ('9-A', 625), ('9-B', 1065), ('90-A', 2148), ('90-B', 2414), ('A', 616), ('AAL', 3168), ('AAN', 2567), ('AANBELLEN', 136), ('AANBIEDEN', 898), ('AANDACHT-A', 1314), ('AANDACHT-B', 2985), ('AANDACHT-C', 2794), ('AANHALINGSTEKENS', 1163), ('AANKLEDEN-A', 25), ('AANKLEDEN-B', 29), ('AANKLEDEN-C', 2283), ('AANKLEDEN-D', 2065), ('AANKLIKKEN', 1172), ('AANKLOPPEN', 3136), ('AANLEUNEN', 317), ('AANMOEDIGEN', 3665), ('AANPAKKEN', 1468), ('AANPASSEN', 309), ('AANRANDEN', 2354), ('AANSLUITEN', 245), ('AANVALLEN', 2185), ('AANVALLEN-TEAMS', 2173), ('AANWEZIG', 556), ('AAP', 1171), ('AAPACHTIGEBEWEGINGENMAKEN', 3022), ('AAPNADOEN', 3021), ('AARDIG', 2384), ('ABBE-DE-LEPEE', 2944), ('ABORTUS', 463), ('ABORTUS-B', 2133), ('ABTS', 2421), ('ABWZ', 2107), ('ACCENT', 2657), ('ACCEPTEREN', 978), ('ACCORDEON', 1469), ('ACHTER-A', 182), ('ACHTER-B', 1463), ('ACHTER-C', 1489), ('ACHTERUITGANG', 2765), ('ADDA', 2181), ('ADEM-INHOUDEN-A', 1198), ('ADEM-INHOUDEN-B', 1416), ('ADEMEN-A', 769), ('ADEMEN-B', 792), ('ADEMEN-C', 1415), ('ADEMEN-D', 1769), ('ADOLF-HITLER', 2102), ('ADVIES', 983), ('AF-A', 249), ('AF-B', 475), ('AF-C', 2090), ('AF-D', 1371), ('AFBLIJVEN', 3237), ('AFHANKELIJK-A', 583), ('AFHANKELIJK-B', 1523), ('AFHANKELIJK-C', 567), ('AFHANKELIJK-D', 1992), ('AFHANKELIJK-E', 3293), ('AFHOUDEN', 3695), ('AFKEUREN', 1585), ('AFPAKKEN', 2168), ('AFRIKA-A', 1922), ('AFRIKA-B', 267), ('AFRIKA-C', 3074), ('AFRONDEN', 2948), ('AFSCHEIDEN', 2372), ('AFSPRAAK-A', 871), ('AFSPRAAK-B', 2886), ('AFSPRAAK-C', 122), ('AFSPRAAK-E', 1909), ('AFSPRAAK-F', 1718), ('AFSPRAAK-G', 2285), ('AFSTAND-A', 1884), ('AFSTAND-B', 2038), ('AFSTAND-C', 2962), ('AFTASTEN', 2018), ('AFVAL', 2620), ('AFVRAGEN', 1079), ('AFWEGEN', 958), ('AFWIJKEN', 1060), ('AFWYKING', 3336), ('AGENDAPUNT', 1707), ('AIDS', 2902), ('AL', 26), ('ALBERT-HEIJN', 3610), ('ALIZETA', 1932), ('ALLEBEI', 3592), ('ALLEEN-A', 294), ('ALLEEN-B', 474), ('ALLEEN-C', 3633), ('ALLEMAAL-A', 128), ('ALLEMAAL-B', 513), ('ALLEMAAL-C', 3288), ('ALLERGIE', 2854), ('ALLES-A', 206), ('ALLES-B', 667), ('ALS', 2411), ('ALS-A', 1168), ('ALS-B', 379), ('ALS-C', 1078), ('ALS-D', 1425), ('ALSOF-A', 1011), ('ALSOF-B', 2713), ('ALSOF-C', 1452), ('ALSOF-D', 2880), ('ALSTUBLIEFT', 1255), ('ALTIJD-A', 83), ('ALTO', 2842), ('ALVAST', 2059), ('ALY', 2365), ('AMBASSADE', 3325), ('AMERIKA', 528), ('AMP', 3295), ('AMSTEL-A', 2827), ('AMSTEL-B', 2828), ('AMSTERDAM', 160), ('AN', 3243), ('ANDERE-KANT-A', 300), ('ANDERE-KANT-B', 91), ('ANDERE-KANT-C', 3460), ('ANDERS-A', 588), ('ANDERS-B', 177), ('ANDERS-C', 502), ('ANDERS-D', 1614), ('ANDERSOM', 456), ('ANTENNE', 3534), ('ANTWERPEN', 1225), ('ANTWOORD-A', 561), ('ANTWOORD-B', 1592), ('APART-A', 307), ('APART-B', 313), ('APART-C', 972), ('APART-D', 2498), ('APPARTEMENT', 2626), ('APPARTEMENT-A', 2617), ('APPEL', 2996), ('APPLAUS-A', 1223), ('APPLAUS-B', 1772), ('APRIL', 727), ('ARCHIEF-A', 3249), ('ARGUMENT', 2014), ('ARM-A', 2101), ('ARM-B', 1635), ('ARM-C', 3298), ('ARM-D', 1063), ('ARMEN-OVER-ELKAAR', 1235), ('ARNHEM', 627), ('AS', 2459), ('ASL', 2006), ('ASSISTENT', 2640), ('ASTEL', 2835), ('AT', 3751), ('AT-CL-4RO', 1370), ('AT-CL-5R', 2429), ('AT-CL-5ROC', 3504), ('AT-EC-0', 1064), ('AT-EC-1', 1657), ('AT-EC-1C', 2586), ('AT-EC-1D', 2958), ('AT-EC-1RC', 1939), ('AT-EC-1RO', 2907), ('AT-EC-2', 1811), ('AT-EC-2DW', 3644), ('AT-EC-2R', 937), ('AT-EC-2S', 1402), ('AT-EC-2WP', 2700), ('AT-EC-4', 1944), ('AT-EC-4ARM', 2751), ('AT-EC-4OS', 1837), ('AT-EC-4R', 2120), ('AT-EC-4RC', 2588), ('AT-EC-4RO', 2625), ('AT-EC-4ROS', 1967), ('AT-EC-4S', 3674), ('AT-EC-5', 1181), ('AT-EC-5C', 3500), ('AT-EC-5R', 844), ('AT-EC-5RS', 3020), ('AT-HC-0', 1834), ('AT-HC-0C', 2430), ('AT-HC-15R', 3536), ('AT-HC-4RC', 3738), ('AT-HC-5S', 2807), ('AT1', 3407), ('ATFLAT', 3010), ('ATSMALOPEN', 3199), ('AUDIOLIGIE', 2397), ('AUDIOLOGIE', 2391), ('AUDYT', 1538), ('AUREOOL', 1817), ('AUSTRALIE', 3430), ('AUTISME', 1071), ('AUTO', 725), ('AUTOMATISCH-A', 2660), ('AUTOMATISCH-B', 646), ('AUTOMATISCH-C', 1593), ('AUTOMATISCH-D', 3595), ('AUTORIJDEN', 875), ('AVOND-A', 900), ('AVOND-B', 277), ('AVONTUUR', 2472), ('B', 617), ('BAARD-A', 2299), ('BAARD-B', 2300), ('BAARMOEDER', 2117), ('BAAS', 521), ('BAAS-B', 530), ('BABY', 1344), ('BADMINTON', 1109), ('BAKKEN-A', 1953), ('BAKKEN-B', 2845), ('BAKKEVEEN', 2652), ('BAKVIS', 104), ('BAL', 1281), ('BAL-A', 1827), ('BAL-B', 2628), ('BALANCEREN', 1870), ('BALANS', 1002), ('BALEN-A', 1222), ('BALEN-B', 1761), ('BALEN-C', 3530), ('BALEN-D', 1144), ('BALEN-E', 624), ('BALI', 2333), ('BALIE', 2287), ('BALIE-A', 2632), ('BALIE-B', 1750), ('BANAAN-A', 1833), ('BANAAN-B', 1473), ('BANAAN-C', 2738), ('BAND', 3537), ('BANG-A', 467), ('BANG-B', 1213), ('BANG-C', 1313), ('BANG-D', 1423), ('BANK-A', 3109), ('BANK-B', 3305), ('BARBECUE', 1779), ('BASIS', 1023), ('BATTERIJ-B', 3562), ('BE-4RO', 3127), ('BE-5', 2997), ('BE-AT-EC-2R', 3645), ('BE-AT-EC-4RO', 2865), ('BE-CL-0', 2280), ('BE-CL-4', 2492), ('BE-CL-4C', 2740), ('BE-CL-4R', 3542), ('BE-CL-4RC', 2491), ('BE-CL-4RO', 2631), ('BE-CL-5R', 1212), ('BE-CL-5ROS', 2529), ('BE-CLOSED', 3408), ('BE-EC-0', 1881), ('BE-EC-1', 764), ('BE-EC-1C', 2979), ('BE-EC-1D', 1865), ('BE-EC-1O', 2826), ('BE-EC-1R', 1968), ('BE-EC-1RC', 2264), ('BE-EC-1RO', 1266), ('BE-EC-2', 1609), ('BE-EC-2DP', 3678), ('BE-EC-2DW', 2867), ('BE-EC-2R', 1447), ('BE-EC-2RC2RO', 3095), ('BE-EC-2ROS', 2957), ('BE-EC-2S', 2684), ('BE-EC-2WP', 2703), ('BE-EC-4', 59), ('BE-EC-4ARM', 1861), ('BE-EC-4C', 1197), ('BE-EC-4CBODY', 1604), ('BE-EC-4DOT', 3005), ('BE-EC-4HAND', 3658), ('BE-EC-4O', 1284), ('BE-EC-4OBODY', 1616), ('BE-EC-4OS', 2484), ('BE-EC-4R', 1404), ('BE-EC-4RC', 1265), ('BE-EC-4RC4ROS', 3117), ('BE-EC-4RO', 117), ('BE-EC-4ROS', 1825), ('BE-EC-5', 451), ('BE-EC-5ARM', 3754), ('BE-EC-5BODY', 1606), ('BE-EC-5C', 3640), ('BE-EC-5R', 1190), ('BE-EC-5RC', 2956), ('BE-EC-5RS', 2231), ('BE-EC-5S', 1259), ('BE-EC-ARM', 966), ('BE-EC-B', 46), ('BE-EC-C', 1853), ('BE-FLAT', 3045), ('BE-HC-0', 812), ('BE-HC-1C', 1839), ('BE-HC-1RC', 916), ('BE-HC-1RO', 1843), ('BE-HC-2RO', 2953), ('BE-HC-2ROS', 2951), ('BE-HC-2RSO', 2955), ('BE-HC-3RC', 3653), ('BE-HC-4', 2593), ('BE-HC-4C', 1326), ('BE-HC-4O', 1906), ('BE-HC-4OS0', 3038), ('BE-HC-4R', 1283), ('BE-HC-4R0', 1847), ('BE-HC-4RC', 1822), ('BE-HC-4RO', 1282), ('BE-HC-4ROS', 171), ('BE-HC-4ROS5', 3627), ('BE-HC-4RS', 1845), ('BE-HC-5', 1907), ('BE-HC-50', 3041), ('BE-HC-5OC', 3639), ('BE-HC-5R', 1218), ('BE-HC-5R-5', 3740), ('BE-HC-5RC', 145), ('BE-HC-5RO', 1221), ('BE-HC-5RS', 173), ('BE-HC-5S', 2278), ('BE-HC-GELD', 3130), ('BE-HC-MONEY', 64), ('BE-SMALL-OPEN', 3448), ('BE1', 3291), ('BE2', 3204), ('BECYLINDER', 2966), ('BED-A', 1309), ('BED-B', 1737), ('BEDANKEN-A', 283), ('BEDANKEN-C', 3743), ('BEDELEN', 1905), ('BEDOELEN', 222), ('BEDRIEGEN', 2963), ('BEDRIJF', 3054), ('BEELD', 3146), ('BEEN-A', 2778), ('BEEN-AF', 3761), ('BEEN-B', 9), ('BEEN-C', 1055), ('BEEN-D', 3548), ('BEER-A', 745), ('BEER-B', 763), ('BEER-C', 2950), ('BEER-D', 1407), ('BEETJE', 269), ('BEFFEN', 3087), ('BEFIST', 3029), ('BEFLAT', 2969), ('BEGELEIDEN-A', 956), ('BEGELEIDEN-B', 1360), ('BEGELEIDEN-C', 2141), ('BEGELEIDEN-D', 1605), ('BEGELEIDEN-DE-WEG', 1532), ('BEGIN-SCENE', 2479), ('BEGIN-SCENE-B', 2614), ('BEGINNEN-A', 423), ('BEGINNEN-B', 1560), ('BEGINNEN-C', 2381), ('BEGRIJP-ER-NIKS-VAN', 1484), ('BEGRIJPEN', 214), ('BEHANDELEN', 2184), ('BEHEERSEN', 1492), ('BEHOUDEN', 1665), ('BEJAARD', 1623), ('BEKEURING', 913), ('BEL', 541), ('BELANG', 1629), ('BELANGRIJK', 3636), ('BELANGRIJK-A', 990), ('BELANGRIJK-B', 675), ('BELEID', 2666), ('BELGIE-A', 1723), ('BELGIE-B', 179), ('BELLEN', 523), ('BEMOEIEN-A', 490), ('BENAUWD', 1661), ('BENEN', 2781), ('BENZINE', 1814), ('BERL', 2346), ('BERLIJN', 1805), ('BESCHERMEN-A', 1666), ('BESCHERMEN-B', 2175), ('BESLUITEN-A', 638), ('BESLUITEN-B', 984), ('BESLUITEN-C', 2661), ('BESTAAN-A', 555), ('BESTAAN-B', 2605), ('BESTAAN-D', 1029), ('BESTE-A', 1025), ('BESTE-B', 298), ('BESTEL', 2345), ('BESTELLEN-A', 1649), ('BESTELLEN-C', 1974), ('BESTEMPELEN-A', 223), ('BESTEMPELEN-B', 693), ('BESTEMPELEN-C', 3337), ('BESTUUR', 571), ('BETALEN', 1363), ('BETEKENEN', 280), ('BETER', 41), ('BETRAPT', 2369), ('BETROKKEN', 1093), ('BETUTTELEN', 2172), ('BETUTTELEN-B', 1878), ('BEUGEL', 683), ('BEVRUCHTEN', 2782), ('BEWAKEN', 2974), ('BEWAREN-A', 2387), ('BEWAREN-B', 3496), ('BEWAREN-C', 1390), ('BEWEGEN', 526), ('BEWEGEN-MET-HANDEN', 3759), ('BEWIJS', 1099), ('BEWUST', 2011), ('BEZIG', 604), ('BEZOEK-A', 65), ('BEZOEK-B', 2554), ('BEZOEK-C', 595), ('BEZOEK-D', 594), ('BEZORGD', 1440), ('BF', 1920), ('BH', 1655), ('BHTF', 3151), ('BIDDEN-A', 1257), ('BIER-A', 1319), ('BIER-B', 1320), ('BIES', 3418), ('BIJ-A', 961), ('BIJ-B', 1287), ('BIJ-C', 987), ('BIJ-D', 274), ('BIJEENDRIJVEN', 2692), ('BIJEENDRIJVEN-B', 2960), ('BIJEENKOMEN', 1101), ('BIJLEREN', 1712), ('BIJNA', 1200), ('BIJTEN', 1201), ('BIJVOORBEELD', 2161), ('BIJVOORBEELD-A', 387), ('BIJVOORBEELD-B', 1036), ('BIJVOORBEELD-C', 3254), ('BIJZONDER', 1008), ('BINNEN', 48), ('BINNENKORT', 1683), ('BIOETHICS', 2113), ('BIOSCOOP', 3348), ('BIT', 3601), ('BKW', 2986), ('BLAASTEST', 951), ('BLATEN', 2698), ('BLAUW', 1976), ('BLIJ-A', 376), ('BLIJ-B', 358), ('BLIJ-C', 471), ('BLIJ-D', 897), ('BLIJKEN', 841), ('BLIJVEN', 241), ('BLIKJE-OPENEN', 1781), ('BLIND-A', 304), ('BLIND-B', 1509), ('BLIND-C', 968), ('BLIND-D', 1499), ('BLIND-E', 1882), ('BLOED', 2257), ('BLOEIEN', 2149), ('BLOEM-A', 832), ('BLOEM-B', 715), ('BLOKKAGE', 3338), ('BLOKKEREN', 3334), ('BLOND', 2103), ('BLOWEN', 3090), ('BLUF', 2597), ('BOBO', 1929), ('BOEK', 688), ('BOEM', 3121), ('BOER', 1732), ('BOND', 565), ('BONZEN-A', 1414), ('BONZEN-B', 2570), ('BOODSCHAPPEN-A', 1754), ('BOODSCHAPPEN-B', 1301), ('BOODSCHAPPEN-C', 2366), ('BOOM-A', 647), ('BOOM-B', 1899), ('BOOM-C', 1409), ('BOOS', 3473), ('BOOS-A', 1041), ('BOOS-B', 1807), ('BOOS-C', 1437), ('BOOS-D', 2470), ('BOOT', 2153), ('BORD-A', 2592), ('BORD-B', 2263), ('BORD-C', 2772), ('BOREN', 1294), ('BORSTEN', 2510), ('BOS-A', 878), ('BOS-B', 743), ('BOT', 776), ('BOTER-A', 2247), ('BOTSING', 2875), ('BOUWEN', 1952), ('BOVEN', 1385), ('BOWLEN', 1465), ('BRAAF', 2543), ('BRABANT-A', 1131), ('BRABANT-B', 3605), ('BRAIL', 2012), ('BRAILLE', 1997), ('BRAND', 1380), ('BREDE-SCHOUDERS', 3388), ('BREED', 2015), ('BREEDTE^HOOGTE', 3414), ('BRIEF-A', 67), ('BRIEF-B', 2331), ('BRIL-B', 3399), ('BROEK', 24), ('BROEKZAK', 1514), ('BROER-A', 1044), ('BROER-B', 924), ('BROER-E', 2151), ('BROER-F', 1636), ('BROOD-A', 1736), ('BROOD-B', 32), ('BRR', 3599), ('BRUG-A', 789), ('BRUG-B', 2230), ('BRUIN-A', 1578), ('BRUIN-B', 1576), ('BRUTAAL-B', 1703), ('BRUTAAL-C', 927), ('BSL', 2180), ('BUIK', 478), ('BUIK-B', 2118), ('BUIS-A', 1479), ('BUIS-B', 2871), ('BUIS-C', 3741), ('BUITEN', 2334), ('BUITEN-A', 1122), ('BUITEN-B', 865), ('BUITEN-C', 1485), ('BUITEN-D', 2526), ('BUITEN-E', 3009), ('BUITENLAND', 262), ('BULT-B', 2274), ('BUNNIK', 2844), ('BURKINAFASO', 1921), ('BUS-A', 1531), ('BUS-B', 823), ('BUS-C', 1904), ('BUS-D', 3093), ('BUSH', 3330), ('BYKM', 2308), ('BZW', 2980), ('C', 374), ('CAFE-A', 820), ('CAFE-B', 3612), ('CAFE-D', 3613), ('CANADA', 259), ('CARNAVAL', 3425), ('CASSIS', 3215), ('CATHARIJNE83', 1108), ('CENT', 2971), ('CENTRUM', 1160), ('CENTRUM-B', 2843), ('CHATTEN', 2207), ('CHEF-A', 1588), ('CHEF-B', 3476), ('CHICAGO', 886), ('CHINA', 2504), ('CHIP', 2550), ('CHIPS', 2549), ('CHIPS-B', 2555), ('CHIPS-C', 2556), ('CHRISTELIJK', 2127), ('CHYS', 2552), ('CI', 388), ('CI-A', 375), ('CI-AF-A', 3058), ('CI-B', 2169), ('CI-C', 3575), ('CI-D', 1312), ('CI-E', 3284), ('CIW', 3586), ('CL', 2477), ('CL5', 3018), ('CLUB-A', 330), ('CLUB-B', 1574), ('COACH', 3106), ('COACH-B', 3110), ('CODA', 1069), ('COL', 3230), ('COLA', 3210), ('COLLECTEREN', 1486), ('COLLEGA', 1188), ('COM', 3375), ('COMBINATIE', 1278), ('COMMUNICATIE-VERBROKEN', 892), ('COMMUNICEREN', 237), ('COMPLIMENT', 1877), ('COMPUTER-A', 535), ('COMPUTER-B', 587), ('COMPUTERMUIS', 3171), ('CONCENTRATIE', 3550), ('CONCIERGE', 1848), ('CONCURRENTIE', 2599), ('CONGRES', 233), ('CONTACT', 361), ('CONTACT-B', 3488), ('CONTACT-VERBREKEN', 1876), ('CONTEXT', 2802), ('CONTROLEREN', 272), ('COOL', 2650), ('CORPUS', 3670), ('CREATIEF', 599), ('CRISIS', 1879), ('CS', 3245), ('CUBA', 3322), ('CUBAANSE', 3324), ('CULTUUR', 215), ('CURSUS-A', 606), ('CURSUS-B', 2919), ('CV', 3697), ('D', 618), ('DAG', 321), ('DAK', 2178), ('DAL', 2511), ('DAME', 2276), ('DAN', 2493), ('DAN-A', 84), ('DAN-B', 468), ('DAN-C', 2160), ('DAN-D', 2639), ('DANSEN-A', 1115), ('DANSEN-B', 816), ('DATUM', 933), ('DE', 1311), ('DE-DRAAD-KWIJT-ZIJN', 1793), ('DEAFISME', 1074), ('DEEL', 2444), ('DEEL-A', 773), ('DEEL-B', 759), ('DEEL-C', 758), ('DEEL-D', 3332), ('DEFTIG-A', 3317), ('DEFTIG-B', 3539), ('DEKSEL', 141), ('DEMOCRATIE', 2790), ('DEN-BOSCH', 905), ('DEN-HAAG-A', 3525), ('DENEMARKEN', 2674), ('DENKEN', 176), ('DEPONEREN', 3651), ('DESKUNDIG-B', 3365), ('DESKUNDIG-C', 2754), ('DEUR', 936), ('DEUR-B', 2869), ('DEUROPEN', 3416), ('DIALECT', 2665), ('DICHT', 3498), ('DIENST', 1534), ('DIEP', 934), ('DIER', 3604), ('DIK', 3122), ('DILEMMA', 3059), ('DING', 992), ('DING-PL', 542), ('DINGEN-DOEN', 2063), ('DINSDA', 3235), ('DINSDAG-A', 2678), ('DINSDAG-B', 656), ('DIPLOMA-B', 3507), ('DIRECTEUR-A', 2138), ('DIRECTEUR-B', 1704), ('DISCO-A', 805), ('DISCO-B', 1669), ('DISCUSSIEREN', 238), ('DNA', 2085), ('DNG', 2322), ('DOCHTER', 373), ('DOEK', 2487), ('DOEL', 982), ('DOEN-A', 148), ('DOEN-B', 1090), ('DOKTER-A', 540), ('DOKTER-B', 1337), ('DOKTER-C', 3722), ('DOL-OP', 1208), ('DOLLAR', 3310), ('DOLLAR-A', 3062), ('DOLLAR-B', 3300), ('DOM-A', 800), ('DOM-B', 2224), ('DOM-C', 3570), ('DONDERDAG-A', 3221), ('DONDERDAG-B', 658), ('DONKER', 1232), ('DOOD-A', 762), ('DOOD-B', 1913), ('DOOF', 3568), ('DOOF-A', 168), ('DOOF-B', 959), ('DOOF-C', 169), ('DOOF-D', 1535), ('DOOF-E', 2017), ('DOOF-F', 3251), ('DOOF-G', 3581), ('DOOR-A', 1028), ('DOOR-B', 1295), ('DOOR-DE-VINGERS-ZIEN', 3311), ('DOOR-ELKAAR-A', 868), ('DOOR-ELKAAR-B', 352), ('DOOR-ELKAAR-C', 1918), ('DOORBIJTEN', 2685), ('DOORGAAN', 926), ('DOORGAAN-B', 1443), ('DOORGEVEN-B', 2155), ('DOORGEVEN-C', 2668), ('DOOS-A', 1120), ('DOOS-B', 1854), ('DORDRECHT-A', 605), ('DORP', 787), ('DORST', 2565), ('DOUCHEN', 2598), ('DOVE', 347), ('DOVEN', 346), ('DOWN', 473), ('DRAAIEN', 3531), ('DRAAIEN-B', 1734), ('DRAAIEN-C', 3244), ('DRAAIORGEL', 2744), ('DRAAIORGEL-B', 2737), ('DRACHTEN', 3345), ('DRAGEN', 3138), ('DRAGEN-A', 3410), ('DRAVEN', 2866), ('DRAVEN-A', 2480), ('DRAVEN-B', 3673), ('DRAVEN-C', 3118), ('DRAVEN-D', 3004), ('DRAW-1', 1219), ('DRAW-1C', 915), ('DRAW-1C1O1C', 3355), ('DRAW-1O', 1228), ('DRAW-1O1C', 1268), ('DRAW-1O1O', 2406), ('DRAW-1OO', 2407), ('DRAW-1R', 3003), ('DRAW-1RC', 1306), ('DRAW-1RC1O', 3000), ('DRAW-1RO', 695), ('DRAW-2', 2312), ('DRAW-2DW', 2687), ('DRAW-2RS', 2918), ('DRAW-2S', 1522), ('DRAW-4', 151), ('DRAW-4C', 2889), ('DRAW-4O', 2941), ('DRAW-4OS', 2630), ('DRAW-4R', 1035), ('DRAW-4RC', 1215), ('DRAW-4RO', 123), ('DRAW-4ROS', 1828), ('DRAW-4S', 2863), ('DRAW-5', 831), ('DRAW-5-RS', 2347), ('DRAW-5CS', 2228), ('DRAW-5O', 1654), ('DRAW-5R', 1205), ('DRAW-5RC', 1711), ('DRAW-5RO', 2245), ('DRAW-5RS', 1220), ('DRAW-5S', 1542), ('DRAW-5S5C', 2297), ('DRAW-B-PLAT', 3752), ('DRAW-PT', 2505), ('DRAW-RP-4RO', 1136), ('DRAWR-1', 1299), ('DRAWR-1C', 2644), ('DRAWR-1O', 1249), ('DRAWR-4', 2022), ('DRAWR-4R', 2627), ('DRAWR-4RO', 2912), ('DRAWR-5R', 3681), ('DRAWR-MONEY', 3756), ('DRAW\\\\R-4', 2021), ('DREIGEN', 2568), ('DRENTS', 3606), ('DRENTSE', 3344), ('DRETNS', 3352), ('DRETS', 3351), ('DRIEEN', 741), ('DRINKEN-A', 579), ('DRINKEN-B', 1374), ('DRINKEN-C', 1677), ('DRONKEN', 2311), ('DRONKEN-A', 944), ('DRONKEN-B', 2972), ('DROOG-A', 28), ('DROOG-B', 2456), ('DROOG-C', 2471), ('DROP', 2368), ('DRUK', 380), ('DRUKTE', 2634), ('DRUPPELEN', 1624), ('DS', 2513), ('DUBBEL-A', 1169), ('DUBBEL-B', 1554), ('DUIDELIJK', 1119), ('DUIDELIJK-B', 3587), ('DUIKEN', 2731), ('DUIMEN', 3470), ('DUITSLAND-A', 640), ('DUITSLAND-B', 2822), ('DUITSLAND-C', 2836), ('DUIVEL', 1647), ('DUIZELIG', 1453), ('DUIZELIGWIEBELEN', 3404), ('DUMPEN', 3579), ('DUN-A', 3659), ('DURVEN', 113), ('DUS-A', 38), ('DUS-B', 2024), ('DUUR', 99), ('DUWEN', 13), ('DVD', 3431), ('DWARS', 3043), ('DWINGEN', 1639), ('DWN', 472), ('E', 345), ('E-EC-1', 2709), ('EBO', 2321), ('EC-4RO', 3675), ('ECHO', 3061), ('ECHT', 2147), ('ECHT-A', 100), ('ECHT-B', 976), ('ECHT-C', 1412), ('EDE', 310), ('EEL', 3232), ('EEN', 2437), ('EEN-OP-EEN', 2052), ('EENS', 2383), ('EENZAAM', 2759), ('EER', 2799), ('EERLIJK-A', 3211), ('EERLIJK-B', 888), ('EERLIJK-C', 506), ('EERST', 193), ('EERST-B', 3287), ('EFFATHA', 623), ('EFRL', 2436), ('EGYPTE', 268), ('EH', 3661), ('EHBO', 2320), ('EHM', 2870), ('EI-A', 172), ('EI-B', 3174), ('EIGEN-A', 492), ('EIGEN-B', 85), ('EIGENLIJK', 459), ('EIGENWIJS', 2428), ('EILAND', 1275), ('EIND-SCENE', 2478), ('EINDE', 774), ('EINDE-SCENE-B', 3039), ('EINDELIJK-A', 563), ('EINDELIJK-B', 3223), ('EISEN', 2940), ('EL', 2204), ('ELA', 3384), ('ELEKTRICITEIT-A', 2196), ('ELEKTRICITEIT-B', 3052), ('ELEKTRICITEIT-C', 1869), ('ELEKTRICITEIT-E', 3458), ('ELITE', 2203), ('ELKE-A', 1890), ('ELKE-B', 1634), ('ELKE-C', 395), ('ELLEBOOGSTOOT', 3297), ('EM', 3225), ('EMAIL-A', 1134), ('EMAIL-B', 1142), ('EMAIL-C', 687), ('EMAIL-D', 1133), ('EMBRYO', 2112), ('EMIL', 3356), ('EMMER', 1730), ('EMOTIE-A', 2764), ('EMOTIE-B', 127), ('EMOTIE-C', 1435), ('EMPOWERMENT', 2183), ('EMYTOLOGIE', 2811), ('EN', 2382), ('EN-A', 1403), ('EN-B', 3292), ('ENE-KANT-ANDERE-KANT-A', 988), ('ENE-KANT-ANDERE-KANT-B', 2393), ('ENG', 2424), ('ENGELAND-A', 889), ('ENGELAND-B', 264), ('ENTHOUSIAST', 2403), ('ENZOVOORTS-A', 1061), ('ENZOVOORTS-B', 355), ('ENZOVOORTS-C', 1019), ('ENZOVOORTS-D', 1389), ('ER', 2769), ('ERBIJ-A', 322), ('ERBIJ-B', 633), ('ERBIJ-C', 1369), ('ERBIJ-HOREN', 1676), ('ERBUITEN-STAAN', 1525), ('ERFELIJK', 497), ('ERG-A', 95), ('ERG-B', 1194), ('ERG-C', 2077), ('ERG-E', 1342), ('ERGENS-A', 2116), ('ERGENS-B', 2130), ('ERIC', 3112), ('ERKENNEN-A', 1724), ('ERKENNEN-B', 1126), ('ERUIT', 1285), ('ERUIT-SCHOPPEN', 3623), ('ERVARING-A', 953), ('ERVARING-B', 477), ('ETEN', 2952), ('ETEN-A', 181), ('ETEN-B', 1252), ('ETHISCH', 2083), ('ETHISH', 2099), ('EUD', 2110), ('EURO', 1517), ('EUROPA-A', 2838), ('EUROPA-B', 883), ('EUROPA-C', 263), ('EVALUATIE', 2131), ('EVEN', 90), ('EVEN-DENKEN-A', 880), ('EVEN-DENKEN-B', 1487), ('EVEN-DENKEN-C', 783), ('EVEN-DENKEN-D', 772), ('EVEN-DENKEN-E', 1753), ('EVEN-DENKEN-F', 2547), ('EVEN-DENKEN-G', 2443), ('EVEN-WACHTEN', 1020), ('EVENDENKEN', 3220), ('EX', 1971), ('EX-B', 1962), ('EXPLOSIE', 3676), ('EXTERN', 2356), ('EXTRA-A', 1018), ('EXTRA-B', 2914), ('F', 729), ('FABRIEK-A', 3694), ('FALEN', 2041), ('FAMILIE-A', 1049), ('FAMILIE-B', 1027), ('FAMILIE-C', 1334), ('FANTASEREN', 2872), ('FEBRUARI-A', 3099), ('FEBRUARI-B', 734), ('FEEDBACK', 3104), ('FEEST-A', 2019), ('FEEST-B', 1030), ('FEEST-C', 2577), ('FEEST-D', 2262), ('FEIT', 2033), ('FESTIVAL', 3686), ('FIETSEN', 4), ('FIETSEN-B', 3541), ('FIETSSLOT', 2964), ('FILE', 874), ('FILM', 1260), ('FILMEN-A', 553), ('FILMEN-B', 3064), ('FINLAND', 1240), ('FITNESS-A', 2210), ('FITNESS-C', 2748), ('FLAUW', 1040), ('FLAUWVALLEN', 1490), ('FLES', 2594), ('FLEXIBEL', 1087), ('FLUISTEREN', 1766), ('FLUITEN-A', 3742), ('FOCUS', 2047), ('FOCUS-B', 3630), ('FOEI', 2733), ('FOTO', 2290), ('FOUT-A', 1439), ('FOUT-B', 295), ('FRANKRIJK', 710), ('FREDERIK', 2706), ('FRIESLAND-A', 2663), ('FRIESLAND-B', 2534), ('FRUSTRATIE', 1429), ('FUCK', 798), ('FUNDERIG', 2978), ('G', 2050), ('GA-MAAR', 914), ('GAAN', 77), ('GAAT-OM', 3571), ('GALLAUDET', 2004), ('GAMMA', 2924), ('GARAGE-A', 2227), ('GARAGE-C', 2468), ('GAS-GEVEN', 3569), ('GAUW', 425), ('GAVE', 1579), ('GEBAREN', 3478), ('GEBAREN-A', 234), ('GEBAREN-B', 1367), ('GEBAREN-C', 582), ('GEBAREN-D', 2374), ('GEBAREN-E', 2908), ('GEBAREN-F', 1139), ('GEBAREN-G', 3764), ('GEBEUREN-A', 158), ('GEBEUREN-B', 2961), ('GEBEUREN-C', 1422), ('GEBOREN-A', 356), ('GEBOREN-B', 398), ('GEBOUW-A', 1203), ('GEBOUW-B', 698), ('GEBOUW-C', 1820), ('GEBOUW-D', 3119), ('GEBRUIKEN-A', 999), ('GEBRUIKEN-C', 1562), ('GEBRUIKEN-D', 3224), ('GEBRUIKEN-E', 1504), ('GECOMPLICEERD', 2643), ('GEDRAG', 2166), ('GEDULD', 3053), ('GEEL-A', 1183), ('GEEL-B', 3239), ('GEEL-C', 1184), ('GEEN-IDEE', 1689), ('GEEN-ZIN', 3088), ('GEEST', 1451), ('GEHAKT', 2584), ('GEHANDICAPT-A', 202), ('GEHANDICAPT-B', 401), ('GEHANDICAPT-C', 336), ('GEHANDICAPT-D', 2438), ('GEHANDICAPT-E', 1343), ('GEHANDICAPT-F', 3207), ('GEHEIM-B', 1464), ('GEHOORAPPARAAT', 369), ('GEHOORAPPARAAT-AF', 3598), ('GEHOORAPPARAAT-B', 3597), ('GEHOORAPPARAAT-C', 2389), ('GEHOORAPPARAAT-D', 3262), ('GEHOORZAAM', 649), ('GEK-A', 10), ('GEK-B', 1459), ('GEK-C', 910), ('GEK-D', 1784), ('GEKNEUS', 2344), ('GELD', 551), ('GELD-B', 3409), ('GELDERHORST', 3346), ('GELIJK-HEBBEN', 705), ('GELIJK-NIVEAU', 1996), ('GELOVEN', 390), ('GELUID', 367), ('GELUIDSGOLVEN', 2390), ('GELUK-A', 1951), ('GELUK-B', 409), ('GELUKKIG', 324), ('GEMEEN', 1037), ('GEMEENTE', 3186), ('GEN', 1091), ('GENERATIE-A', 2098), ('GENERATIE-B', 2795), ('GENOEG', 447), ('GESCHIEDENIS-A', 748), ('GESCHIEDENIS-B', 2176), ('GESCHIEDENIS-C', 3076), ('GESTICULEREN', 1575), ('GETUIGE', 3376), ('GEUR', 859), ('GEVAARLIJK', 1495), ('GEVANGENIS', 253), ('GEVEN-A', 684), ('GEVEN-B', 674), ('GEVEN-C', 1611), ('GEVEN-D', 3027), ('GEVEN-E', 2939), ('GEVEN-F', 3030), ('GEVOLG', 1446), ('GEWICHT-A', 3413), ('GEWICHT-B', 3656), ('GEWOON-A', 1460), ('GEWOON-B', 1886), ('GEWOON-E', 1589), ('GEWOON-F', 3589), ('GEZELLIG', 71), ('GEZICHT-A', 1032), ('GEZICHT-B', 1577), ('GEZICHT-C', 2269), ('GEZOND-A', 2123), ('GEZOND-B', 2031), ('GHANA', 1894), ('GISTEREN', 276), ('GK', 2418), ('GLAD', 2088), ('GLAS', 2462), ('GLOSS', 0), ('GLOSSEN', 3381), ('GM', 3078), ('GNGT', 3077), ('GNT', 2060), ('GOD', 2108), ('GODZIJDANK', 1803), ('GOED-A', 266), ('GOED-B', 43), ('GOED-C', 2367), ('GOED-D', 3474), ('GOED-IN', 1291), ('GOED-NIET', 3489), ('GOEDKOOP-A', 1935), ('GOEDKOOP-B', 1934), ('GOLF', 2445), ('GOOFY', 3619), ('GOOIEN', 17), ('GOOIEN-B', 3139), ('GOOIEN-C', 3648), ('GOOT', 3191), ('GORDIJN', 483), ('GPALAT', 2928), ('GRAAG-A', 462), ('GRAAG-B', 108), ('GRAAG-C', 514), ('GRAAG-D', 3735), ('GRAFSTEEN', 1449), ('GRAMMATICA', 2068), ('GRAP-A', 1717), ('GRAP-B', 2126), ('GRAPPIG', 1762), ('GRAPPIG-A', 196), ('GRAPPIG-B', 1456), ('GRAPPIG-C', 1455), ('GRAPPIG-D', 1941), ('GRAS-A', 2451), ('GRATIS-A', 1500), ('GRATIS-B', 1488), ('GRAVEN', 1731), ('GRAZEN', 2697), ('GREENPEACE', 1158), ('GRIEZELIG', 1892), ('GRIJS-B', 2694), ('GRIJS-C', 3455), ('GROEIEN', 1318), ('GROEN', 1875), ('GROEP-A', 143), ('GROEP-B', 1901), ('GROEP-C', 338), ('GROEP-D', 2521), ('GROEP-ONDER-ELKAAR', 2965), ('GROETEN', 2735), ('GROLSCH', 2829), ('GROMMEN', 779), ('GRONINGEN', 596), ('GROOT-A', 399), ('GROOT-B', 271), ('GROOT-C', 2223), ('GT', 2404), ('GUYOT', 580), ('GYMNASTIEK', 2197), ('H', 837), ('HAALBAAR', 3780), ('HAAR', 1243), ('HAARCELLEN', 3442), ('HAAS-A', 1375), ('HAAS-B', 2447), ('HAAS-C', 2575), ('HAASTIG', 1764), ('HAASTIG-B', 2242), ('HAAT', 1262), ('HAGELSLAG-A', 185), ('HAGELSLAG-B', 3227), ('HAKA', 2934), ('HALEN', 539), ('HALEN-B', 2888), ('HALF-A', 965), ('HALF-B', 1699), ('HALLO', 218), ('HALT', 609), ('HAMBURG', 1813), ('HAMKA', 2935), ('HAND', 247), ('HAND-OP-BUIK', 3736), ('HAND-SCHUDDEN-A', 1358), ('HAND-SCHUDDEN-B', 1357), ('HAND-SCHUDDEN-C', 3372), ('HAND-UP', 1776), ('HANDDOEK', 3680), ('HANDELEN', 1646), ('HANDEN', 3096), ('HANDEN-BIJ-ELKAAR', 3626), ('HANDEN-WRIJVEN-A', 1350), ('HANDEN-WRIJVEN-B', 53), ('HANDENINDEZIJ', 2893), ('HANDENINELKAARSLAAN', 3397), ('HANDENINZIJ', 3749), ('HANDENTEGENELKAAR', 3197), ('HANDENWAPPERENINDEVLUCHTOMHOOG', 3044), ('HANDENZOEKENDBEWEGEN', 3023), ('HANDICAP', 3706), ('HANDIG', 335), ('HANDINDEZIJ', 3400), ('HANDOPTEKENTAFEL', 2897), ('HANDVORM', 3154), ('HANGEN', 3532), ('HANGEN-B', 3533), ('HANGERS', 3518), ('HARD-A', 1855), ('HARD-B', 2306), ('HARD-C', 819), ('HAREN', 106), ('HART-A', 2158), ('HART-B', 501), ('HART-C', 2159), ('HASSELT', 1715), ('HAVANA', 3323), ('HAVO', 1105), ('HAWAII', 860), ('HBO', 2217), ('HD', 3621), ('HDCP', 2756), ('HE', 2711), ('HEADSET', 3094), ('HEBBEN', 1052), ('HEBBEN-A', 138), ('HEBBEN-B', 2237), ('HEBBEN-C', 1541), ('HEBBEN-D', 1682), ('HEBBEN-E', 3760), ('HEE', 96), ('HEE-B', 3578), ('HEEN-EN-WEER', 600), ('HEER', 721), ('HEET', 1379), ('HEFTIG', 323), ('HEFTRUCK', 2927), ('HEID', 2779), ('HEINEKEN-A', 2833), ('HEINEKEN-B', 2832), ('HELE', 186), ('HELM', 2816), ('HELPEN-A', 149), ('HELPEN-B', 1512), ('HELPEN-C', 3181), ('HEN', 3261), ('HENNIE', 2329), ('HER-EN-DER', 2146), ('HERDER', 2695), ('HERFST', 1384), ('HERHALEN', 3669), ('HERINNEREN-A', 2572), ('HERINNEREN-C', 2455), ('HERINNEREN-D', 2607), ('HERRIJZEN', 3447), ('HERSEN-B', 3440), ('HEUVEL', 788), ('HEUVEL-PL', 3492), ('HG', 2611), ('HIER', 2144), ('HIJGEN', 791), ('HILTER', 3329), ('HIPPIE-A', 2194), ('HIPPIE-B', 2201), ('HITLER', 3328), ('HNK', 2849), ('HOE-A', 1910), ('HOE-B', 663), ('HOE-C', 1302), ('HOE-D', 597), ('HOED', 3144), ('HOED-B', 2742), ('HOED-C', 3396), ('HOEFT-NIET-A', 1013), ('HOEFT-NIET-B', 2386), ('HOEK-A', 1472), ('HOEK-B', 3017), ('HOER', 838), ('HOEVEEL', 1355), ('HOLLAND-A', 3725), ('HOMO-A', 2087), ('HOMO-B', 3730), ('HOMO-C', 3733), ('HOND-A', 11), ('HOND-B', 784), ('HOND-C', 81), ('HONDENRIEM', 82), ('HONGARIJE', 3726), ('HONGER-A', 795), ('HONGER-B', 2241), ('HOOFD-A', 1925), ('HOOFD-B', 1292), ('HOOFD-C', 342), ('HOOFDPIJN', 1348), ('HOOG', 527), ('HOOGEVEEN', 2791), ('HOOP', 2416), ('HOORN', 3446), ('HOORRESTN', 2405), ('HOP', 132), ('HOPEN-A', 1653), ('HOPEN-B', 1248), ('HOREN-A', 230), ('HOREN-B', 960), ('HOREN-C', 3558), ('HOTEL-A', 590), ('HOTEL-B', 1912), ('HOTEL-C', 2633), ('HOUDEN-VAN', 60), ('HOUT', 2645), ('HOUT-B', 3750), ('HOUVAST', 2154), ('HU', 3379), ('HUID-A', 1924), ('HUID-B', 3340), ('HUIDSKLEUR', 1786), ('HUIDSKLEUR-BRUIN', 1923), ('HUILEN-A', 508), ('HUILEN-B', 1985), ('HUIS-A', 904), ('HUIS-B', 558), ('HUISHOUDEN', 3466), ('HUISMAAS', 2981), ('HYPOCRIET', 384), ('I', 420), ('ICI', 3591), ('ICQ', 2819), ('IDEE', 673), ('IDENTITEIT', 1580), ('IDENTITEITSCRISIS', 1570), ('IEDEREEN-A', 1114), ('IEDEREEN-B', 1007), ('IEDEREEN-C', 1432), ('IEMAND', 1521), ('IETS', 3635), ('IETS-A', 476), ('IETS-B', 1089), ('IHP', 2186), ('IIVF', 2128), ('IJS-A', 1810), ('IJS-B', 2655), ('IJVERIG', 3434), ('IJZER', 1726), ('IK-BEN-ER-VAN-AF', 1745), ('IK-WEET-HET-WEER', 1758), ('IMMIGRATIE', 3349), ('IMPLANTEREN', 1097), ('IN', 3167), ('IN-A', 488), ('IN-B', 1006), ('IN-C', 496), ('IN-D', 494), ('IN-E', 1341), ('IN-F', 2246), ('IN-GEDACHTEN-PRATEN', 2296), ('INDIA', 3723), ('INDIVIDUEEL', 2069), ('INDRUK', 1897), ('INDRUKKEN-A', 3535), ('INDRUKKEN-B', 1775), ('INEENFROMMELEN', 3019), ('INF', 3060), ('INFORMEREN', 350), ('INGEWIKKELD', 1659), ('INHOUDEN', 2595), ('INJECTIE', 1573), ('INKRIMPEN-A', 1561), ('INKRIMPEN-B', 2525), ('INPAKKEN', 152), ('INRTN', 2426), ('INSCHENKEN', 3475), ('INSLAPEN', 1744), ('INST', 2427), ('INSTELLEN', 3453), ('INSTELLING', 1627), ('INSTORTEN', 1098), ('INTEGREREN', 306), ('INTELLIGENT', 3708), ('INTERESSANT', 1185), ('INTERNAAT-A', 1457), ('INTERNAAT-B', 550), ('INTERNAAT-C', 35), ('INTERNATIONAAL', 581), ('INTERNET', 3359), ('INTERNET-A', 2188), ('INTERNET-B', 2670), ('INTERNET-C', 2669), ('INTERNET-D', 2824), ('INTERNET-E', 3103), ('INTERNET-F', 3353), ('INTOETSEN', 1806), ('INVLOED', 1178), ('INZETTEN', 538), ('INZINKING', 3712), ('IRRITANT', 3423), ('IS', 981), ('ISIS', 2852), ('ITALIE', 1812), ('IV', 2515), ('IVD', 1095), ('IVF', 498), ('IVOORKUST', 1896), ('J', 562), ('JA', 2336), ('JA-A', 286), ('JA-B', 1698), ('JAAR-A', 1279), ('JAAR-B', 430), ('JAAR-C', 1502), ('JAAR-D', 2434), ('JAAR-E', 3565), ('JAGEN-A', 3389), ('JAKKES', 2990), ('JALOERS', 794), ('JAM-A', 33), ('JAM-B', 3231), ('JAMMER-A', 679), ('JAMMER-B', 314), ('JAMMER-C', 2260), ('JAMMER-D', 2714), ('JANUARI-A', 726), ('JAPAN', 3075), ('JARIG-A', 1749), ('JARIG-B', 2027), ('JAS-A', 1778), ('JAS-B', 813), ('JE-BEST-DOEN', 573), ('JEUGDHERBERG', 159), ('JEZUS', 2177), ('JO', 2324), ('JOEPIE', 2885), ('JONG-A', 165), ('JONG-B', 2433), ('JONG-C', 1556), ('JONGEN-A', 107), ('JONGEN-B', 3497), ('JOOD', 1376), ('JOURNAAL-A', 712), ('JOURNAAL-B', 3428), ('JOYSTICK', 3672), ('JROVERLEG', 3710), ('JUDO', 2212), ('JUFFROUW', 2840), ('JURK', 3517), ('JW', 3382), ('K', 1566), ('KAAL', 1242), ('KAART', 890), ('KAART-A', 63), ('KAART-B', 3108), ('KAARTEN', 576), ('KAAS-C', 3226), ('KAJANA', 3691), ('KAMER-A', 3663), ('KAMP-A', 157), ('KAMP-B', 2712), ('KANKER', 2901), ('KANS', 1045), ('KANS-GRIJPEN', 2235), ('KAPITEIN', 3495), ('KAPOT', 58), ('KAPSEL', 3196), ('KAR', 1755), ('KARNEMELK', 2589), ('KARWEI', 2930), ('KASSA', 1644), ('KAST', 3179), ('KATHOLIEK', 1372), ('KAUWEN', 1211), ('KB', 2724), ('KEBJ', 2332), ('KEEPER', 2702), ('KEER', 863), ('KEN-JIJ', 3184), ('KENNEN-A', 381), ('KENNEN-B', 3056), ('KEPPEL', 1377), ('KERK', 75), ('KERMIS', 903), ('KERST', 3183), ('KERST-B', 3461), ('KHS', 2323), ('KICKEN', 3116), ('KIEZEN', 622), ('KIJKEN-A', 124), ('KIJKEN-B', 2187), ('KIJKEN-C', 2156), ('KIJKEN-D', 3583), ('KIJKENALSVOGEL', 2891), ('KILO', 1857), ('KIN-VASTHOUDEN', 3625), ('KIND-A', 385), ('KIND-B', 1347), ('KIND-C', 1552), ('KIND-PL', 351), ('KINDERACHTIG', 3147), ('KIP-C', 3449), ('KIPPEVEL', 3318), ('KIST', 3660), ('KK', 2761), ('KLAAR-A', 18), ('KLAAR-B', 1792), ('KLAAR-C', 1333), ('KLAGEN-A', 341), ('KLAGEN-B', 1587), ('KLANT', 2464), ('KLAP', 1031), ('KLAS', 2254), ('KLAUWEN', 3757), ('KLEED', 3037), ('KLEIN', 1038), ('KLEIN-A', 386), ('KLEIN-B', 415), ('KLEIN-C', 400), ('KLEIN-D', 372), ('KLEIN-E', 1598), ('KLEIN-F', 1471), ('KLEIN-G', 1234), ('KLEIN-H', 3464), ('KLEP', 2649), ('KLEREN-A', 1474), ('KLEREN-B', 19), ('KLEREN-C', 2064), ('KLEUR-A', 2564), ('KLEUR-B', 2561), ('KLEUR-C', 1520), ('KLEUR-D', 2562), ('KLIMMEN-A', 747), ('KLIMMEN-B', 2895), ('KLIMMEN-C', 1192), ('KLIMMEN-D', 3120), ('KLIMMEN-E', 3737), ('KLIMMEN-F', 2873), ('KLOK-A', 3263), ('KLOK-B', 2303), ('KLOOF', 3772), ('KLOOTZAK', 1940), ('KLOPT-A', 231), ('KLOPT-B', 251), ('KLOPT-C', 989), ('KLOPT-D', 213), ('KLOPT-E', 2531), ('KLOPT-F', 2358), ('KLOPT-G', 3557), ('KLUNGELEN', 3048), ('KLUS', 3256), ('KNAP', 1070), ('KNIE', 1959), ('KNIE-KRAAKT-MEE', 1960), ('KNIKKER', 2528), ('KNIP', 3024), ('KNIPPEN', 3242), ('KNIPPEREN', 1349), ('KNOP', 3523), ('KNOT', 3193), ('KNUFFELEN', 873), ('KNUTSELEN', 2084), ('KOEK-A', 1937), ('KOFFER', 1844), ('KOFFIE-A', 689), ('KOFFIE-B', 690), ('KOKEN-A', 1436), ('KOKEN-B', 1914), ('KOKEN-C', 2034), ('KOM-OP', 2454), ('KOMEN-A', 134), ('KOMEN-B', 261), ('KOMEN-C', 315), ('KOMEN-D', 1518), ('KOMEN-E', 3273), ('KOMMA', 2039), ('KONING', 2370), ('KOOI', 2622), ('KOORD', 2648), ('KOPEN-A', 1930), ('KOPEN-B', 1321), ('KOPIEREN', 2899), ('KOPJE-A', 1317), ('KOPJE-B', 2074), ('KOPJE-C', 1840), ('KOPJE-D', 3696), ('KOPPIG', 2277), ('KOPTELEFOON', 2388), ('KORBEEK', 2420), ('KORT', 2164), ('KORT-BROEK', 1978), ('KORT-SHIRT', 1800), ('KOUD-A', 825), ('KOUD-B', 1981), ('KOUD-C', 1652), ('KRABBEN', 3405), ('KRAMPACHTIG', 3160), ('KRANT-A', 340), ('KRANT-B', 707), ('KRIEBELS-IN-DE-BUIK', 862), ('KRIJGEN-A', 3515), ('KRIJGEN-B', 830), ('KRIJGEN-C', 1938), ('KRIMPEN', 3066), ('KRITIEK', 3422), ('KROEG', 3614), ('KRUISING', 912), ('KRUKKEN', 1950), ('KRULLEN', 3519), ('KT', 3753), ('KUNNEN-A', 68), ('KUNNEN-B', 3481), ('KUNNEN-NIET-A', 644), ('KUNNEN-NIET-B', 1533), ('KUNNEN-NIET-C', 3164), ('KUNST', 1062), ('KUNSTGEBIT', 1237), ('KUS', 3279), ('KWALITEIT', 2170), ('KWARTIER-3', 849), ('KWARTIER-A', 1743), ('KWARTIER-B', 3718), ('KWAST', 119), ('KWISPELEN', 1214), ('L', 432), ('LA', 894), ('LAAT-A', 1818), ('LAAT-B', 824), ('LAAT-MAAR', 87), ('LAATSTE-A', 50), ('LAATSTE-B', 908), ('LABORATORIUM', 3341), ('LACHEN-A', 21), ('LACHEN-B', 94), ('LACHEN-C', 929), ('LACHEN-D', 1454), ('LACHEN-E', 1898), ('LACHEN-F', 1155), ('LAKEN', 1445), ('LAMP', 2716), ('LAN', 2199), ('LAND-A', 1628), ('LAND-B', 1713), ('LAND-PL', 1994), ('LANG-A', 856), ('LANG-B', 1), ('LANG-C', 3469), ('LANGE-MOUW', 1987), ('LANGZAAM', 431), ('LAPTOP', 1970), ('LASBRIL', 1729), ('LASSEN', 1735), ('LASSEN-B', 1728), ('LASTIG', 394), ('LATER-A', 850), ('LATER-B', 2222), ('LATER-C', 292), ('LATER-D', 2364), ('LAURENT-CLERC', 3701), ('LAWAAI', 1741), ('LAY', 2220), ('LBO', 2215), ('LBS', 3141), ('LC', 2608), ('LEEG', 3312), ('LEEGHOOFD', 1015), ('LEERLING', 2398), ('LEEUW-A', 3385), ('LEEUWARDEN-A', 3600), ('LEKKER-A', 198), ('LEKKER-B', 1204), ('LEKKER-C', 2359), ('LEKKER-PUH', 3394), ('LELI', 3424), ('LENEN-A', 2847), ('LENEN-B', 919), ('LENTE', 589), ('LEREN', 296), ('LES', 2457), ('LESGEVEN', 977), ('LESGEVEN-B', 1637), ('LEUK', 603), ('LEUK-B', 2992), ('LEVEN-A', 1047), ('LEVEN-B', 458), ('LEVEN-C', 1392), ('LEZEN', 691), ('LEZING', 2097), ('LI', 1086), ('LICHAAM-A', 397), ('LICHAAM-B', 809), ('LICHT-A', 817), ('LICHT-B', 1233), ('LICHT-C', 1804), ('LID', 2719), ('LIEF-A', 378), ('LIEF-B', 421), ('LIEFDEHEBBEN', 2423), ('LIEGEN', 440), ('LIFT-A', 2621), ('LIFT-ASL', 3679), ('LIFT-B', 2023), ('LIFT-C', 2642), ('LIGGEN', 1419), ('LIGGEN-B', 751), ('LIGGEN-C', 1193), ('LIGGEN-D', 1410), ('LIGGEN-E', 3386), ('LIJDEN', 1625), ('LIJKEN-OP', 1123), ('LIJN-A', 1524), ('LIJN-B', 2449), ('LIJN-C', 1530), ('LIJN-D', 1529), ('LIJST-A', 1780), ('LIJST-B', 2820), ('LIJST-C', 1173), ('LIKKEN', 1770), ('LIMBURG', 1678), ('LINEAAL-A', 3682), ('LINEAAL-B', 3683), ('LINGUISTIEK', 2094), ('LINIAAL', 2256), ('LINIAAL-B', 2249), ('LIP', 2780), ('LIPPENSTIFT', 1236), ('LITTEKEN', 1297), ('LOGEREN-B', 1989), ('LOGISCH', 479), ('LOGOPEDIE-A', 426), ('LOGOPEDIE-B', 1584), ('LOKAAL', 2255), ('LOLLY', 3521), ('LONG', 3543), ('LOOS', 2435), ('LOPEN-A', 843), ('LOPEN-B', 44), ('LOPEN-C', 752), ('LOPEN-D', 5), ('LOPEN-E', 808), ('LOPEN-F', 1476), ('LOPEN-H', 2690), ('LOPEN-I', 2984), ('LOPEN-K', 1354), ('LOPEN-L', 2496), ('LOSLATEN', 780), ('LS', 2400), ('LTS', 3290), ('LUI', 1497), ('LUI-B', 3560), ('LUIDSPREKER', 3148), ('LUIEREN', 3502), ('LUISTEREN', 333), ('LUISTEREN-NIET-A', 1975), ('LUISTEREN-NIET-B', 3170), ('LUKKEN-A', 406), ('LUKKEN-B', 651), ('LUKKEN-NIET-A', 1258), ('LUKKEN-NIET-B', 2125), ('LUNCH', 3715), ('LUSTEN', 3246), ('LUXE-A', 1671), ('LYF', 1080), ('M', 722), ('MAAKT-NIET-UIT', 626), ('MAAND-A', 1084), ('MAAND-B', 1748), ('MAANDAG-A', 654), ('MAANDAG-B', 655), ('MAAR', 180), ('MAART-A', 3320), ('MAART-C', 1515), ('MAAS', 2991), ('MAAT-D', 2574), ('MAAT-E', 1406), ('MAATSCHAPPELIJK', 3178), ('MACHINE', 3459), ('MADRID', 2111), ('MAG-NIET', 3281), ('MAGER-A', 337), ('MAGER-B', 799), ('MAGER-C', 2722), ('MAKEN-A', 515), ('MAKEN-B', 1993), ('MAKKELIJK', 522), ('MAKKIE', 2839), ('MAL', 495), ('MALEN', 3128), ('MALI', 1893), ('MAMA', 428), ('MAN-A', 288), ('MAN-B', 1072), ('MAN-C', 1590), ('MAND', 3655), ('MANIER', 1527), ('MARIONET', 1581), ('MAROKKO', 3688), ('MARTHA', 2008), ('MARTHA-VINEYARD', 1995), ('MARTINISTAD', 3111), ('MATERIAAL', 709), ('MAVO', 1104), ('MAXIMUM', 1891), ('MBO', 2216), ('MCDONALDS-B', 2070), ('MCDONALDS-C', 1791), ('ME', 2603), ('MEDICIJN-A', 672), ('MEDICIJN-B', 2049), ('MEDISCH', 2002), ('MEE', 15), ('MEE-B', 1852), ('MEE-EENS-A', 963), ('MEE-EENS-B', 994), ('MEEDOEN', 2351), ('MEEL', 3187), ('MEER', 2602), ('MEER-A', 391), ('MEER-B', 1026), ('MEER-C', 650), ('MEER-D', 1001), ('MEER-E', 3585), ('MEES', 3247), ('MEESTAL', 3206), ('MEI', 3100), ('MEI-A', 3101), ('MEI-B', 735), ('MEI-C', 1714), ('MEIL', 3357), ('MEISJE-A', 126), ('MEISJE-B', 1083), ('MENING-A', 1067), ('MENING-B', 2142), ('MENKEER', 3296), ('MENS', 320), ('MENS-PL', 405), ('MERCEDES', 1773), ('MERK', 2825), ('MERKEN', 620), ('MET', 2732), ('MET-HANDEN-IN-DE-ZIJ-STAAN', 3393), ('METEN', 2489), ('METHANDENOPDERUGLOPEN', 3739), ('METRO-A', 3051), ('METRO-C', 2768), ('METSELEN', 2977), ('MICROFOON', 2399), ('MIDDAG-B', 1330), ('MIDDEN', 938), ('MIDDEN-B', 2775), ('MILJOEN', 1362), ('MIMIEK', 1596), ('MIMIEK-B', 2135), ('MINDER-A', 578), ('MINDER-B', 2519), ('MINDER-C', 1359), ('MINDER-D', 1641), ('MINDER-E', 3594), ('MINUUT', 1226), ('MIS-A', 178), ('MIS-B', 893), ('MIS-C', 2360), ('MISHANDELEN', 2757), ('MISLUKKEN', 1559), ('MISSCHIEN', 1670), ('MISSCHIEN-A', 363), ('MISSCHIEN-B', 1004), ('MISSELIJK', 548), ('MIX', 3159), ('MIXER', 3611), ('MNEER', 3294), ('MODDER', 2606), ('MODERN', 460), ('MOE-A', 946), ('MOE-B', 847), ('MOEDER-A', 79), ('MOEDER-B', 708), ('MOEDER-D', 3511), ('MOEILIJK', 226), ('MOETEN', 1329), ('MOETEN-A', 49), ('MOETEN-B', 1433), ('MOGEN-A', 835), ('MOGEN-B', 2664), ('MOND', 1010), ('MOND-B', 3593), ('MOND-DICHT-A', 1238), ('MONGOOL', 466), ('MOOI-A', 52), ('MOOI-B', 512), ('MOORD-A', 1335), ('MOORD-B', 1631), ('MOORD-C', 2512), ('MOORD-D', 3327), ('MOPPEREN-A', 2309), ('MOPPEREN-B', 3443), ('MORGEN-A', 1331), ('MORGEN-B', 2338), ('MOSLIM', 1911), ('MOTOR', 1740), ('MOV5', 3125), ('MOVE', 3276), ('MOVE-1', 3072), ('MOVE-1R', 1954), ('MOVE-2', 3107), ('MOVE-4RC4ROS', 2636), ('MOVE-CAMERA', 3668), ('MOVE-CL-1', 664), ('MOVE-CL-1RO', 3617), ('MOVE-CL-4', 932), ('MOVE-CL-4R', 3503), ('MOVE-CL-5', 291), ('MOVE-CL-5C', 3501), ('MOVE-CL-5RC', 146), ('MOVE-CL-5RO', 1356), ('MOVE-CL-CSPR', 2530), ('MOVE-CLOSED', 3401), ('MOVE-EC', 2236), ('MOVE-EC-', 1859), ('MOVE-EC-0', 1431), ('MOVE-EC-1', 31), ('MOVE-EC-1ARM', 1866), ('MOVE-EC-1C', 3016), ('MOVE-EC-1D', 2721), ('MOVE-EC-1DOT', 2495), ('MOVE-EC-1M', 2859), ('MOVE-EC-1O', 2771), ('MOVE-EC-1O1C', 1829), ('MOVE-EC-1R', 1955), ('MOVE-EC-1RC', 1308), ('MOVE-EC-1RO', 2516), ('MOVE-EC-2', 756), ('MOVE-EC-22R2', 3667), ('MOVE-EC-2DW', 2638), ('MOVE-EC-2R', 770), ('MOVE-EC-2R2', 3012), ('MOVE-EC-2ROS', 3047), ('MOVE-EC-2RS', 1765), ('MOVE-EC-2S', 1768), ('MOVE-EC-3', 2265), ('MOVE-EC-4', 156), ('MOVE-EC-4ARM', 1860), ('MOVE-EC-4C', 1199), ('MOVE-EC-4R', 1965), ('MOVE-EC-4R5', 411), ('MOVE-EC-4RC', 2485), ('MOVE-EC-4RC4ROS', 3002), ('MOVE-EC-4RC4S', 3638), ('MOVE-EC-4RO', 118), ('MOVE-EC-4RO4ROS', 2922), ('MOVE-EC-4ROROS', 2915), ('MOVE-EC-4ROS', 2486), ('MOVE-EC-4ROS1', 2876), ('MOVE-EC-4RS', 3677), ('MOVE-EC-4S', 2704), ('MOVE-EC-4SRC', 3624), ('MOVE-EC-5', 16), ('MOVE-EC-5C', 1771), ('MOVE-EC-5R', 821), ('MOVE-EC-5RO', 1946), ('MOVE-EC-5ROS', 2035), ('MOVE-EC-5RS', 781), ('MOVE-EC-5S', 14), ('MOVE-EC-B', 872), ('MOVE-EC-DOT', 3034), ('MOVE-HC-', 1264), ('MOVE-HC-0', 839), ('MOVE-HC-01O', 3031), ('MOVE-HC-04O', 2641), ('MOVE-HC-04OS', 3006), ('MOVE-HC-05', 2341), ('MOVE-HC-1', 2585), ('MOVE-HC-1C', 1290), ('MOVE-HC-1C1O', 3063), ('MOVE-HC-1C5', 1841), ('MOVE-HC-1D', 1300), ('MOVE-HC-1DMONEY', 1802), ('MOVE-HC-1O', 2291), ('MOVE-HC-1O1RC', 2881), ('MOVE-HC-1R', 3126), ('MOVE-HC-1RC', 1251), ('MOVE-HC-1RO', 1267), ('MOVE-HC-2', 2544), ('MOVE-HC-2C', 3032), ('MOVE-HC-2RC', 2281), ('MOVE-HC-2RO', 1842), ('MOVE-HC-2T', 2884), ('MOVE-HC-3RC', 3652), ('MOVE-HC-4', 768), ('MOVE-HC-44O', 2864), ('MOVE-HC-4C', 1316), ('MOVE-HC-4C4OS', 2954), ('MOVE-HC-4C5', 3403), ('MOVE-HC-4O', 2304), ('MOVE-HC-4O0', 2747), ('MOVE-HC-4O4C', 2739), ('MOVE-HC-4O5', 2507), ('MOVE-HC-4OS', 2746), ('MOVE-HC-4OS0', 2752), ('MOVE-HC-4OS4C', 2749), ('MOVE-HC-4OS4O', 2890), ('MOVE-HC-4R', 1365), ('MOVE-HC-4R0', 3198), ('MOVE-HC-4RC', 1253), ('MOVE-HC-4RC5', 410), ('MOVE-HC-4RC5R', 2689), ('MOVE-HC-4RO', 1508), ('MOVE-HC-4RO4OS', 2629), ('MOVE-HC-4RO4RC', 2615), ('MOVE-HC-4RO5R', 2618), ('MOVE-HC-4ROS', 1835), ('MOVE-HC-4ROS0', 2635), ('MOVE-HC-4ROS4RO', 3001), ('MOVE-HC-4ROS5', 2874), ('MOVE-HC-4RS', 3042), ('MOVE-HC-4RS-5', 3657), ('MOVE-HC-5', 1054), ('MOVE-HC-50', 2267), ('MOVE-HC-5O', 3133), ('MOVE-HC-5O0', 2688), ('MOVE-HC-5R', 1209), ('MOVE-HC-5R-5', 3014), ('MOVE-HC-5R0', 1846), ('MOVE-HC-5RC', 2860), ('MOVE-HC-5RO', 2244), ('MOVE-HC-5ROS', 1145), ('MOVE-HC-5RS', 1493), ('MOVE-HC-5S', 2862), ('MOVE-HC-GELD5', 3131), ('MOVE-HC-MONEY', 348), ('MOVE-HC-MONEY()', 3202), ('MOVE-HC-MONEY5', 3744), ('MOVE-HC-S', 2488), ('MOVE-HC2RC', 3650), ('MOVE1', 3274), ('MOVE2', 3013), ('MOVE5', 3555), ('MOVEBEAK', 3280), ('MOVECYL', 3277), ('MOVECYLINDER', 3773), ('MOVEFLAT', 2975), ('MOVEFLOWER', 3282), ('MOVEOSPHERE', 3395), ('MOVESMALL-OPEN', 3559), ('MR', 2850), ('MSM', 1151), ('MSMS', 1149), ('MSN', 1117), ('MSN-A', 2523), ('MSN-B', 2812), ('MUIS-B', 3387), ('MUTS', 1475), ('MUUR-A', 1615), ('MUUR-B', 3011), ('MUUR-C', 3664), ('MUUR-D', 3406), ('MUZIEK', 818), ('N', 189), ('NA-A', 3081), ('NA-C', 3258), ('NAAIEN-A', 2251), ('NAAIEN-B', 3471), ('NAAIEN-C', 3468), ('NAAM', 3462), ('NAAM-A', 1135), ('NAAM-B', 723), ('NAAM-C', 419), ('NAAM-D', 3055), ('NAAMGEBAAR', 243), ('NAAR', 242), ('NAAST', 939), ('NACHT', 921), ('NADEEL', 1021), ('NADENKEN-A', 569), ('NADENKEN-B', 1467), ('NAGELBIJTEN', 110), ('NAIEF', 3618), ('NATUUR-A', 877), ('NATUUR-B', 2124), ('NEBAS', 1695), ('NED', 3429), ('NEDERLAND', 3634), ('NEDERLAND-A', 632), ('NEDERLAND-B', 2536), ('NEDERLAND-C', 2376), ('NEE', 3253), ('NEE-A', 434), ('NEE-B', 188), ('NEE-C', 135), ('NEE-D', 1599), ('NEEF-A', 1346), ('NEGEREN', 1540), ('NETJES', 2558), ('NEUKEN', 2546), ('NEUS', 1170), ('NEUSGATEN', 694), ('NG', 2806), ('NGNGT', 3079), ('NGT', 1124), ('NICHT-A', 1263), ('NICK', 2506), ('NIEMAND-A', 895), ('NIEMAND-B', 907), ('NIEMAND-C', 3707), ('NIET-A', 273), ('NIET-AAN-GEDACHT', 2010), ('NIET-B', 239), ('NIET-BIJZONDER', 1746), ('NIET-C', 686), ('NIETS-KUNNEN', 3766), ('NIEUW-A', 229), ('NIEUW-B', 285), ('NIEUW-C', 516), ('NIEUWSGIERIG', 1112), ('NIJMEGEN-B', 1679), ('NIKS-A', 864), ('NIKS-B', 1428), ('NIKS-C', 487), ('NIKS-D', 3270), ('NINEN', 2214), ('NINTENDO', 2206), ('NIVEAU', 1132), ('NL', 2548), ('NMG', 2051), ('NODIG-A', 955), ('NODIG-C', 364), ('NODIG-D', 3480), ('NOG', 3185), ('NOG-A', 793), ('NOG-B', 711), ('NOG-C', 3283), ('NOG-D', 3457), ('NOG-NIET', 105), ('NOGOPTEZOEKEN', 3763), ('NOGOPZOEKEN', 3767), ('NOGOPZOEKEN-GEVEN', 3775), ('NOGOPZOEKENBIJVOORBEELD-A', 3779), ('NOGOPZOEKENTWEEEN-D', 3776), ('NOGOPZOEKENWEG-', 3777), ('NOGTEZOEKEN', 3762), ('NOOD', 1650), ('NOOIT-A', 1077), ('NOOIT-B', 203), ('NOOIT-C', 1503), ('NOOIT-D', 293), ('NOORWEGEN', 3491), ('NORMAAL', 1885), ('NPBG', 2800), ('NS', 2422), ('NU', 3252), ('NU-A', 228), ('NU-B', 546), ('NUCHTER', 2983), ('NUMMER-A', 2115), ('NUMMER-B', 3035), ('NUMMER-C', 2114), ('NUMMER-D', 3033), ('NUMMER-E', 3745), ('NURNBERG', 2814), ('O', 444), ('O-JEE', 1947), ('OBER', 1838), ('OBJECTIEF', 3335), ('OBSERVEREN', 3770), ('OCHTEND-A', 1182), ('OCHTEND-B', 1175), ('OCHTEND-C', 3182), ('OCHTEND-D', 703), ('OEFENEN-A', 354), ('OEFENEN-B', 1553), ('OF', 207), ('OF-B', 3260), ('OFFICIEEL', 2091), ('OFPT', 3553), ('OH', 952), ('OK', 782), ('OKA', 1597), ('OKTOBER-B', 1988), ('OLIE', 2466), ('OLIFANTENHUID', 2682), ('OLYMPISCH', 2753), ('OM', 731), ('OM5', 3573), ('OM7', 3563), ('OMA-A', 2728), ('OMA-B', 1491), ('OMA-C', 1991), ('OMA-D', 1494), ('OMARMEN', 2286), ('OMDAT-A', 279), ('OMDAT-B', 1271), ('OMGAAN', 2209), ('OMGAAN-A', 531), ('OMGAAN-B', 2219), ('OMGEVING-A', 1763), ('OMGEVING-B', 867), ('OMHELZEN', 3189), ('OMHOOG', 2882), ('OMKEREN', 3209), ('OMLAAG', 1858), ('OMROLLEN', 1656), ('ON', 2658), ('ONAFHANKELIJK', 1075), ('ONDER', 334), ('ONDERDANIG', 525), ('ONDERDANIG-B', 3637), ('ONDERDRUKKEN-A', 1571), ('ONDERDRUKKEN-B', 3615), ('ONDERHOUDEN-A', 2787), ('ONDERLICHAAM', 3331), ('ONDERSTEUNEN', 368), ('ONDERTITELING-A', 3134), ('ONDERWERP-A', 1186), ('ONDERWERP-B', 1034), ('ONDERWERP-C', 2137), ('ONDERWERP-D', 2440), ('ONDERWIJS', 34), ('ONDERZOEKEN', 1557), ('ONGELOFELIJK', 1085), ('ONGELOFELIJK-B', 3703), ('ONGELUK-A', 1943), ('ONGELUK-B', 1966), ('ONGESTELD', 36), ('ONGEVEER', 560), ('ONRUSTIG', 920), ('ONSCHULDIG', 1564), ('ONTDEKKEN', 1462), ('ONTHOUDEN', 700), ('ONTMOETEN-A', 998), ('ONTMOETEN-B', 822), ('ONTMOETEN-C', 613), ('ONTSLAAN-A', 2253), ('ONTSLAAN-B', 1706), ('ONTSPANNEN-B', 499), ('ONTSPANNEN-C', 2578), ('ONTSPANNEN-D', 1088), ('ONTSPANNEN-E', 2946), ('ONTSTAAN', 591), ('ONTSTEKING-A', 2499), ('ONTWIKKELEN', 1017), ('ONTWIKKELEN-A', 396), ('ONTWIKKELEN-B', 359), ('ONTWIKKELEN-C', 3538), ('ONZIN-A', 2762), ('ONZIN-B', 464), ('ONZIN-C', 2651), ('OO', 2082), ('OOG', 1417), ('OOK-A', 115), ('OOK-B', 1668), ('OOK-C', 631), ('OOK-D', 1413), ('OOKVALLN', 2326), ('OOM', 1633), ('OOM-A', 2072), ('OOR', 970), ('OORDOP', 1274), ('OORDOP-B', 3285), ('OORLOG-A', 2086), ('OORLOG-B', 1269), ('OORZAAK', 1685), ('OP-A', 278), ('OP-B', 120), ('OP-C', 1794), ('OP-D', 1138), ('OP-E', 1324), ('OP-F', 3584), ('OP-JE-TENEN-LOPEN', 1687), ('OP-TENEN-LOPEN', 2494), ('OPA-A', 1990), ('OPA-B', 2809), ('OPA-C', 2725), ('OPA-D', 201), ('OPBOUWEN', 2976), ('OPDRACHT', 2776), ('OPEN-A', 815), ('OPEN-B', 941), ('OPEN-C', 70), ('OPERATIE', 1296), ('OPGELUCHT-A', 40), ('OPGELUCHT-B', 803), ('OPGELUCHT-C', 2967), ('OPGEVEN-A', 755), ('OPGEVEN-B', 2569), ('OPGROEIEN', 102), ('OPKOMEN', 311), ('OPLEIDING', 1125), ('OPLETTEN', 1293), ('OPLOSSEN-A', 761), ('OPLOSSEN-B', 1674), ('OPNEMEN-A', 685), ('OPNEMEN-B', 1005), ('OPNEMEN-C', 1411), ('OPNIEUW', 842), ('OPNIEUW-B', 2647), ('OPPAKKEN', 3564), ('OPPERVLAK', 806), ('OPRICHTEN', 1116), ('OPRUIMEN', 2968), ('OPSCHEPPEN-A', 2202), ('OPSCHEPPEN-B', 730), ('OPSCHIETEN-A', 1686), ('OPSTAAN', 2295), ('OPSTAAN-B', 1420), ('OPSTAAN-C', 757), ('OPSTOKEN', 2604), ('OPSTUREN-A', 137), ('OPSTUREN-B', 1113), ('OPSTUREN-C', 3086), ('OPTRAMLIJNVOLGEN', 3666), ('OPVALLEN', 1100), ('OPVANG', 3713), ('OPVOEDEN', 532), ('OPZIJ', 2043), ('OPZWELLEN', 2273), ('ORAAL-A', 427), ('ORAAL-B', 225), ('ORANJE-C', 3240), ('ORANJE-D', 2708), ('ORANJE-E', 2581), ('ORGANISEREN', 559), ('ORGEL', 2741), ('OSS', 1680), ('OUAGADOUGOU', 1927), ('OUD-A', 167), ('OUD-B', 287), ('OUD-C', 1373), ('OUD-D', 1441), ('OUDADODUL', 1928), ('OUDERS-A', 2057), ('OUDERS-B', 510), ('OUDERS-C', 1662), ('OUDERS-D', 3768), ('OUDERWETS', 3080), ('OUDSTE-A', 3520), ('OUDSTE-B', 2520), ('OUDSTE-C', 3590), ('OVER-A', 339), ('OVER-B', 1809), ('OVER-C', 680), ('OVER-D', 2616), ('OVERDREVEN-DEFTIG', 2857), ('OVERDRIJVEN-A', 402), ('OVEREENKOMST', 3073), ('OVEREIND-KOMEN', 1862), ('OVERGAAN', 3628), ('OVERGEVEN', 918), ('OVERHEERSEN', 3435), ('OVERHEID', 2656), ('OVERKANT', 1751), ('OVERKANT-B', 1831), ('OVERLAP', 3161), ('OVERLEDEN', 750), ('OVERLEGGEN-A', 554), ('OVERLEGGEN-B', 3432), ('OVERLEGGEN-C', 1050), ('OVERNEMEN', 549), ('OVERPLAATSEN', 2167), ('OVERSTAPPEN', 1782), ('OVERZICHT', 3143), ('P', 740), ('PAAL', 3547), ('PAAR', 2987), ('PAARD-A', 2851), ('PAARD-B', 706), ('PAARD-C', 704), ('PAARS', 2563), ('PAD', 2906), ('PADS', 3616), ('PAKKEN', 2293), ('PAKKEN-A', 252), ('PAKKEN-B', 923), ('PAKKEN-C', 3201), ('PANIEK-A', 147), ('PANIEK-B', 1448), ('PANIEK-C', 891), ('PANIEK-D', 2868), ('PANNEKOEK', 3366), ('PANNENKOEK', 3367), ('PANTOFFELS', 45), ('PAPA', 739), ('PAPA-A', 697), ('PAPA-B', 2675), ('PAPEGAAI', 1601), ('PAPIER', 2508), ('PARA', 2755), ('PARALLEL', 1664), ('PARAPLU', 1826), ('PARFUM', 3309), ('PARIJS', 2943), ('PARKEREN-A', 928), ('PARKEREN-B', 1498), ('PARTY-A', 2193), ('PARTY-B', 2192), ('PAS-A', 392), ('PAS-B', 377), ('PASSEN-BIJ', 1156), ('PASSIEF', 486), ('PATAT', 2591), ('PATERNALISME', 2182), ('PAUZE-A', 1398), ('PAUZE-B', 2243), ('PB', 446), ('PCLO', 3654), ('PECH', 2517), ('PECH-B', 1760), ('PECH-C', 1700), ('PECH-D', 3554), ('PER', 1583), ('PERFECT', 422), ('PERIODE-A', 564), ('PERIODE-B', 566), ('PERSOON-A', 760), ('PERSOON-A-PL', 2016), ('PERSOON-C', 503), ('PERSOONLIJK', 964), ('PET-A', 3040), ('PET-B', 3494), ('PEUTER', 2080), ('PIANO', 1470), ('PICCOLO', 3135), ('PICOLLO', 2743), ('PIEPEN', 3524), ('PIJN', 2342), ('PIJN-A', 1305), ('PIJN-B', 1919), ('PIJN-C', 2337), ('PIJN-D', 1973), ('PIJPEN', 3091), ('PIL', 3092), ('PILOOT', 3700), ('PINDA', 3608), ('PISTOOL', 2921), ('PIVOT-FLAT', 3411), ('PIVOT-SPHERE', 3441), ('PIVOT0CLOSED', 2989), ('PIVOT0SPHERE', 2988), ('PIVOTFLAT', 3015), ('PIVOTSMALL-CLOSED', 3275), ('PLAATS-A', 836), ('PLAATSEN', 2373), ('PLAATSNAAM', 1315), ('PLAGEN-A', 1246), ('PLAGEN-B', 2392), ('PLAGEN-C', 2596), ('PLAGEN-D', 1162), ('PLAGEN-E', 2693), ('PLAKKEN-B', 3765), ('PLANK', 2750), ('PLANK-A', 3137), ('PLANK-B', 3203), ('PLANK-C', 3412), ('PLANT', 2157), ('PLAT-A', 3046), ('PLAT-B', 742), ('PLEGEN', 3176), ('PLEISTER-A', 2275), ('PLEZIER', 3482), ('PLOTSDOOF', 1549), ('PLOTSELING', 209), ('PLOTSELING-B', 3271), ('PLUS', 1157), ('PO', 2), ('POEP', 89), ('POES', 3026), ('POES-A', 1819), ('POES-B', 1824), ('POES-C', 1466), ('POES-D', 1836), ('POKER', 3084), ('POKER-A', 3082), ('POKER-B', 3083), ('POKKEN', 1756), ('POLITIE-A', 290), ('POLITIE-B', 2905), ('POLITIEK-A', 2093), ('POND', 1277), ('PONT', 3493), ('POPT', 133), ('PORTIER', 2461), ('PORTOFOON', 3314), ('PORTUGAL-A', 2823), ('PORTUGAL-B', 2837), ('POSITIEF', 2174), ('POST', 1850), ('POSTZEGEL', 3085), ('POT', 98), ('PR', 3067), ('PRACHTIG-A', 1068), ('PRACHTIG-B', 1196), ('PRAIS', 2926), ('PRAKTIJK', 2075), ('PRATEN-A', 299), ('PRATEN-B', 505), ('PRATEN-C', 416), ('PRATEN-D', 449), ('PRATEN-E', 327), ('PRATEN-F', 72), ('PRATEN-G', 1558), ('PRATEN-I', 957), ('PRATEN-J', 1298), ('PRAX', 2929), ('PRAXIS', 2925), ('PRECIES', 74), ('PRETTIG', 2425), ('PRETTIG-A', 111), ('PRETTIG-B', 511), ('PRETTIG-C', 3529), ('PRIKKEN', 2856), ('PRIMA', 236), ('PRINCIPE', 1948), ('PRIVE', 2788), ('PROBEREN', 3267), ('PROBEREN-A', 1022), ('PROBEREN-B', 1958), ('PROBEREN-C', 2058), ('PROBLEEM', 407), ('PROCENT-A', 443), ('PROCENT-B', 2394), ('PROCENT-C', 3333), ('PROCENT-D', 3566), ('PROEVEN-A', 1942), ('PROEVEN-B', 1129), ('PROFESSIONEEL', 2911), ('PROJECT', 3371), ('PROJECTEREN', 3163), ('PROTEST-A', 2020), ('PROTEST-B', 974), ('PRUIK', 1244), ('PSL', 3373), ('PSYCHOLOGIE-A', 1626), ('PSYCHOLOGIE-B', 2916), ('PT', 51), ('PT-D', 1701), ('PT-PO', 325), ('PTOF', 3549), ('PTPT', 887), ('PUBER-A', 2218), ('PUBER-B', 1458), ('PUBLIEK', 3114), ('PUNK', 3426), ('PUNT-A', 221), ('PUNT-B', 3727), ('PUS', 3671), ('PUUR', 3714), ('PUZZEL', 2533), ('PV', 250), ('PY', 2318), ('PYN', 2412), ('Q', 1513), ('R', 433), ('RAAD', 2013), ('RAAM-A', 1159), ('RAAR', 660), ('RADIO', 281), ('RE', 3363), ('REAGEREN', 524), ('REALI', 3166), ('REANIMEREN', 1383), ('RECHT', 2268), ('RECHT-OP', 1507), ('RECHTER', 2848), ('RECHTS', 2720), ('RECHTSTREEKS', 2385), ('RECHTVLAAMS', 1511), ('RECLAME-A', 2784), ('RECLAME-B', 3321), ('REDDEN', 1612), ('REDEN', 1111), ('REGELEN', 973), ('REGELMATIG-A', 3350), ('REGELMATIG-B', 2680), ('REGELS-A', 162), ('REGELS-B', 1164), ('REGELS-C', 1546), ('REGEN-A', 1480), ('REGEN-B', 2458), ('REGEN-C', 1388), ('REGERING-A', 244), ('REGERING-B', 529), ('REGERING-C', 2122), ('REGERING-D', 2900), ('REGIO-A', 585), ('REGIO-B', 652), ('REGISTRATIE', 2945), ('REIZEN-A', 899), ('REIZEN-B', 3513), ('REIZEN-C', 1697), ('REKENEN-A', 2804), ('REKENING-HOUDEN-MET', 1568), ('REKENMACHINE', 3755), ('RELATIE', 131), ('REM', 3546), ('REMMEN-A', 1603), ('REMMEN-B', 2726), ('REMMEN-C', 3540), ('REN', 3165), ('RENNEN-A', 869), ('RENNEN-B', 1191), ('RENNEN-D', 1856), ('RESER', 2973), ('RESERVEREN', 1642), ('RESPECTEREN', 1539), ('RESTAURANT', 1391), ('RESTEN', 2408), ('RICHTING', 1368), ('RIJ', 3302), ('RIJK-A', 2667), ('RIJK-B', 3307), ('RIJLES', 2727), ('RIMI', 1121), ('RING', 2292), ('RITS', 1980), ('RIVIER', 86), ('ROBOT', 1667), ('RODDELEN-A', 1140), ('RODDELEN-B', 1141), ('ROEMENIE-A', 3724), ('ROEMENIE-B', 3528), ('ROEMENIE-C', 3729), ('ROEPEN', 112), ('ROEPEN-A', 543), ('ROEPEN-B', 414), ('ROEPEN-C', 1393), ('ROGGE', 3236), ('ROK', 1261), ('ROL', 1102), ('ROLLATOR', 1286), ('ROLLEN', 753), ('ROLLEN-B', 2619), ('ROLLEN-C', 1418), ('ROLNEMEN', 2659), ('ROLSTOEL-A', 1338), ('ROLSTOEL-B', 1336), ('ROLSTOEL-C', 240), ('ROLSTOEL-D', 3556), ('ROND', 2396), ('RONDKIJKEN', 3588), ('RONDKIJKENALSVOGEL', 2892), ('ROOD', 925), ('ROOS', 714), ('ROOSTER', 2938), ('ROS', 716), ('ROTTERDAM-A', 829), ('ROTTERDAM-B', 436), ('ROTZOOI', 1216), ('ROTZOOIEN', 1217), ('ROUTE-B', 2145), ('ROZE-A', 3238), ('ROZE-B', 3234), ('RU', 2343), ('RUB', 2612), ('RUBY', 2613), ('RUG', 2162), ('RUGBY', 2609), ('RUGZAK-A', 1382), ('RUGZAK-B', 1963), ('RUIKEN', 766), ('RUIMTE', 80), ('RUIS', 3272), ('RUPS', 1915), ('RUSLAND', 3306), ('RUSTIG', 749), ('RUZIE', 1774), ('RUZIE-B', 3173), ('S', 78), ('S-UUR', 736), ('SAAI', 1613), ('SAAI-A', 917), ('SAAI-B', 3378), ('SAAI-C', 1610), ('SAMEN-2', 1563), ('SAMEN-4', 1094), ('SAMEN-5', 3487), ('SAMEN-A', 302), ('SAMEN-B', 1643), ('SAMEN-C', 744), ('SAMEN-D', 1073), ('SAMENVATTEN', 3437), ('SCHAAL', 3150), ('SCHAAP-A', 2450), ('SCHAAP-B', 3484), ('SCHAAP-C', 2535), ('SCHAAP-E', 3486), ('SCHAKELAAR', 3463), ('SCHAKELEN', 1785), ('SCHAKELEN-A', 2460), ('SCHAMEN-A', 935), ('SCHAMEN-B', 1273), ('SCHEERGEL', 2579), ('SCHEIDEN', 572), ('SCHEIDSRECHTER', 2723), ('SCHEPJE', 699), ('SCHEUR', 184), ('SCHEVENINGEN-A', 3510), ('SCHEVENINGEN-B', 3509), ('SCHIETEN-A', 2910), ('SCHIETEN-B', 948), ('SCHIETEN-C', 1147), ('SCHIETEN-D', 2710), ('SCHIJNEN', 3505), ('SCHIJNHEILIGSTAANTEKIJKEN', 3200), ('SCHILDEREN-A', 2469), ('SCHILDPAD-A', 2576), ('SCHILDPAD-C', 2448), ('SCHOEN-B', 1945), ('SCHOK', 2896), ('SCHOMMELEN', 2729), ('SCHOOL-A', 101), ('SCHOOL-B', 592), ('SCHOOL-C', 61), ('SCHOOL-D', 413), ('SCHOOL-E', 3450), ('SCHOOL-F', 1551), ('SCHOOL-G', 3596), ('SCHOON', 517), ('SCHOONMAKEN', 1572), ('SCHOPPEN', 2571), ('SCHOUDER', 3646), ('SCHOUDER-B', 1059), ('SCHOUDERKLOPJE', 1364), ('SCHREEUWEN-A', 56), ('SCHREEUWEN-B', 1972), ('SCHREEUWEN-C', 1405), ('SCHRIJVEN-A', 1332), ('SCHRIJVEN-B', 163), ('SCHRIJVEN-C', 408), ('SCHRIJVEN-D', 161), ('SCHRIKKEN', 3421), ('SCHRIKKEN-A', 55), ('SCHRIKKEN-B', 54), ('SCHRIKKEN-C', 3392), ('SCHULD', 1012), ('SCHUUR-A', 728), ('SCHUUR-B', 718), ('SE', 3149), ('SEKS', 2936), ('SEKSUOLOOG', 2937), ('SELF-TOUCH', 1874), ('SEN', 1691), ('SENCITY', 801), ('SENS', 2557), ('SENSE', 3153), ('SENSEO-A', 678), ('SENSEO-B', 676), ('SENSEO-C', 1146), ('SENSEO-D', 1166), ('SENSEO-E', 696), ('SENSEO-F', 3731), ('SENSEO-G', 3732), ('SEPTEMBER-A', 1982), ('SEPTEMBER-B', 3102), ('SERIEUS', 2179), ('SERVET', 1796), ('SESP', 3169), ('SEVEN-UP', 3216), ('SF-SFUUR', 738), ('SFJUUR', 737), ('SH', 2410), ('SHAPE-FLAT', 3415), ('SHAPEFLAT', 3129), ('SHOARMA', 3687), ('SI', 1630), ('SIMPEL', 3545), ('SINAASAPPEL', 2580), ('SINAS', 3217), ('SJAAL', 1801), ('SKATEBOARD', 1057), ('SKATEBOARDEN', 1058), ('SKIEN', 1752), ('SLAAF', 3692), ('SLAAN-A', 545), ('SLAAN-B', 765), ('SLAAN-C', 1442), ('SLAGEN', 3477), ('SLAGER-A', 785), ('SLAGER-B', 2233), ('SLAGTANDEN', 1895), ('SLAK', 2446), ('SLAPEN-A', 191), ('SLAPEN-B', 484), ('SLAPEN-C', 826), ('SLATR', 2500), ('SLECHT-A', 1043), ('SLECHT-B', 275), ('SLECHT-C', 1179), ('SLECHTHOREND', 2037), ('SLECHTHOREND-B', 3574), ('SLECHTHOREND-C', 3577), ('SLEUTEL', 1757), ('SLIKKEN', 1767), ('SLIM-A', 194), ('SLIM-B', 1696), ('SLINGEREN', 1868), ('SLOT', 1725), ('SLOTRTEREN', 2476), ('SLOVENIE', 2831), ('SLUIPEN', 1478), ('SLURF', 677), ('SMEREN', 2858), ('SMOES', 930), ('SMS', 1152), ('SMS-A', 1150), ('SMS-B', 1154), ('SNE', 2319), ('SNEEUW-A', 1798), ('SNEEUW-B', 1799), ('SNEL', 2313), ('SNEL-A', 92), ('SNEL-B', 947), ('SNEL-C', 2289), ('SNEL-D', 2691), ('SNEL-E', 2240), ('SNELHEIDSMETER', 2998), ('SNELWEG', 2995), ('SNIJDEN-A', 1206), ('SNIJDEN-B', 1039), ('SNIJN', 2465), ('SNOEP-A', 2931), ('SNOR-A', 2298), ('SNUFEFLEN-C', 3758), ('SNUFFELEN', 754), ('SNUFFELEN-A', 2686), ('SNUFFELEN-B', 767), ('SNUFFELEN-C', 771), ('SO', 2081), ('SOCIAAL', 668), ('SOCIALE-WERKPLAATS', 669), ('SOFA', 3315), ('SOK', 2288), ('SOLDAAT-B', 1381), ('SOLIDAIR', 2789), ('SOM', 2361), ('SOMMIGE', 1618), ('SOMMIGEN', 383), ('SOMS', 3065), ('SOMS-A', 417), ('SOMS-B', 1586), ('SOMS-C', 3259), ('SOOS', 2538), ('SOP', 493), ('SORRY-A', 437), ('SORRY-B', 552), ('SORRY-D', 175), ('SPANJE', 2654), ('SPANNEND', 861), ('SPASTISCH', 2783), ('SPECIAAL', 3551), ('SPELEN-A', 1322), ('SPELEN-B', 533), ('SPELEN-C', 2078), ('SPERMA', 2129), ('SPIEGEL', 797), ('SPIEGL', 2238), ('SPIEREN', 1984), ('SPIJT-A', 1304), ('SPIJT-B', 2121), ('SPIJT-D', 3113), ('SPITS', 2767), ('SPLEETOOG', 2917), ('SPO', 1986), ('SPONTAAN', 2036), ('SPORT', 312), ('SPORT-B', 2371), ('SPRINGEN-A', 12), ('SPRINGEN-B', 7), ('SPROETEN', 1759), ('SPUGEN', 2587), ('SSWIFT', 2846), ('ST-MICHIELSGESTEL', 593), ('STAAN-A', 997), ('STAAN-B', 811), ('STAAN-C', 1482), ('STAAN-D', 8), ('STAAN-E', 2879), ('STAAN-F', 1397), ('STAAN-G', 2894), ('STAAN-H', 1400), ('STABOL-A', 1174), ('STABOL-B', 2903), ('STAD-A', 1926), ('STAD-B', 1957), ('STAGE', 1187), ('STAM', 3155), ('STANDAARD-A', 2653), ('STANDAARD-B', 3071), ('STANDAARDISATIE-A', 1130), ('STANDAARDISATIE-B', 1722), ('STANDAARDISATIE-C', 1719), ('STAPEL', 1053), ('STAPEL-B', 2539), ('STAPEL-BPO', 2540), ('STAR', 3607), ('START-B', 2959), ('STATION-A', 852), ('STATION-B', 3097), ('STEKKER', 1808), ('STEL-A', 775), ('STEL-B', 962), ('STEL-C', 1046), ('STEL-NIKS-VOOR', 2463), ('STELEN', 796), ('STEM-A', 326), ('STEM-AF', 3576), ('STEM-B', 2007), ('STEM-C', 1544), ('STEM-D', 382), ('STEM-UIT', 2763), ('STEMMEN', 328), ('STEPPEN', 2211), ('STER', 2834), ('STEREOTYPE', 3339), ('STERK', 371), ('STERK-B', 2140), ('STEVIG', 807), ('STEWARDES', 3705), ('STICHTING', 3105), ('STIJF', 1673), ('STIJL-A', 2792), ('STIJL-B', 3156), ('STIJVE-HAND', 2861), ('STIK-A', 1461), ('STIK-B', 2583), ('STIK-C', 3685), ('STIK-D', 1202), ('STIL-A', 114), ('STIL-B', 1229), ('STIMULEREN', 2055), ('STINKEN-A', 88), ('STINKEN-B', 950), ('STIPT', 3427), ('STOEL', 2294), ('STOER', 3508), ('STOK-A', 211), ('STOK-B', 2904), ('STOK-C', 3025), ('STOM', 1519), ('STOOMFLUIT', 2497), ('STOPLICHT', 906), ('STOPPEN', 901), ('STOPWATCH', 3383), ('STOREN', 1270), ('STOUT-A', 197), ('STOUT-B', 129), ('STOUT-C', 3527), ('STRAF-A', 289), ('STRAF-B', 1438), ('STRAF-C', 1705), ('STRAKS', 412), ('STRALING', 1167), ('STREEP', 2541), ('STRENG', 3417), ('STRESS', 2046), ('STROEF', 3436), ('STROMING', 3721), ('STROPDAS', 3304), ('STUDEREN', 637), ('STUREN', 2999), ('STUURKNUPPEL', 3145), ('SUB', 2200), ('SUBSIDIE-A', 1526), ('SUBSIDIE-B', 1505), ('SUCCES', 1569), ('SUIKER', 183), ('SUKKEL-A', 2225), ('SUKKEL-B', 601), ('SURFEN-A', 879), ('SURFEN-B', 2671), ('SURFEN-C', 2672), ('SURINAME-A', 3690), ('SYLETER', 2624), ('SYLVESTER-A', 2730), ('SYLVESTER-B', 3643), ('SYLVESTR', 2734), ('SYLVSTR', 3641), ('SYNONIEM', 2673), ('SYNONIEMEN', 2808), ('SYNONIEN', 2681), ('SYSTEEM', 1720), ('T', 653), ('TAAK', 2773), ('TAAL', 3289), ('TAAL-A', 991), ('TAAL-B', 393), ('TAAL-C', 643), ('TAAL-D', 265), ('TAART-A', 3467), ('TAART-B', 876), ('TACKLE', 2717), ('TAFEL', 1434), ('TAFELTENNIS', 1241), ('TALEN', 2760), ('TAND', 682), ('TANDENPOETSEN-A', 3180), ('TANTE-A', 2071), ('TAS', 155), ('TASTEN-A', 1427), ('TASTEN-B', 1339), ('TAXI-A', 804), ('TAXI-B', 1783), ('TE', 2676), ('TE-LAAT-A', 1567), ('TE-LAAT-B', 1555), ('TE-MAKEN-MET', 1595), ('TECHNIEK', 1056), ('TEGEN-A', 357), ('TEGEN-AAN-LOPEN-A', 1051), ('TEGEN-AAN-LOPEN-B', 2096), ('TEGEN-B', 489), ('TEGEN-DE-REGELS-IN', 1702), ('TEGENOVER', 1823), ('TEGENOVER-B', 2482), ('TEGENSTRIJDIG', 2079), ('TEGENVALLEN', 1688), ('TEKENEN-A', 2646), ('TEKENEN-B', 1873), ('TEKENEN-C', 3632), ('TEKST-A', 2679), ('TELEFOON-A', 896), ('TELEFOON-B', 142), ('TELEFOON-C', 2560), ('TELEFOON-D', 139), ('TELEFOON-OPHANGEN', 2883), ('TELEFOON-OPNEMEN', 2637), ('TELESCOOP-A', 3050), ('TELESCOOP-B', 3662), ('TELEVISIE-A', 1742), ('TELEVISIE-B', 661), ('TELEVISIE-C', 1340), ('TELEVISIE-D', 2913), ('TELHAND', 270), ('TELHAND-1-A', 235), ('TELHAND-1-B', 870), ('TELHAND-2-A', 212), ('TELHAND-2-B', 153), ('TELHAND-3-A', 154), ('TELHAND-3-B', 980), ('TELHAND-4-A', 614), ('TELHAND-4-B', 1547), ('TELHAND-5', 610), ('TELHAND-6-A', 2165), ('TELHAND-7-A', 2993), ('TELHAND-8-A', 2994), ('TELLEN', 1009), ('TEMPO', 1692), ('TEN', 2340), ('TENNIS', 2205), ('TERUG', 481), ('TERUG-B', 2810), ('TERUGDEINZEN', 2509), ('TERUGTREKKEN', 615), ('TEST', 452), ('TEVEEL', 1788), ('TEVREDEN-A', 480), ('TEVREDEN-B', 448), ('TEVREDEN-C', 1672), ('TEVREDEN-D', 2514), ('TGLS', 2441), ('THEATER', 3194), ('THEE', 702), ('THEORIE', 3445), ('THERAPIE-A', 1543), ('THOMAS-GALLAUDET', 3702), ('THRILLER', 2715), ('THUIS-A', 370), ('THUIS-B', 1510), ('TIJD-A', 544), ('TIJD-B', 1250), ('TIJD-C', 1231), ('TIJD-D', 2208), ('TIJD-VLIEGT', 1961), ('TIJDLIJN', 2061), ('TIME-OUT', 2259), ('TIMMEREN', 1727), ('TINNITUS', 3444), ('TIP-A', 2105), ('TJANDE', 3152), ('TK', 3255), ('TOCH', 3483), ('TOCH-A', 692), ('TOCH-B', 195), ('TOCH-C', 2266), ('TODE', 3264), ('TOEKOMST', 996), ('TOEKOMST-B', 3266), ('TOENEMEN', 2054), ('TOEPASSEN', 2774), ('TOESPRAAK', 1303), ('TOEVALLIG-A', 1143), ('TOEVALLIG-B', 220), ('TOEVOEGEN', 2100), ('TOF', 3158), ('TOLK', 255), ('TOM', 3734), ('TONEEL', 1998), ('TONG', 1180), ('TORBEK', 2419), ('TOT-A', 3631), ('TOT-B', 465), ('TOT-C', 2453), ('TOT-D', 3499), ('TOT-NU-TOE', 2662), ('TOUW-A', 1867), ('TOUW-C', 3684), ('TRAAG', 2282), ('TRACE-1', 3069), ('TRACE-1O', 3070), ('TRACTOR', 2701), ('TRAM', 3177), ('TRAM-A', 1872), ('TRAM-B', 1871), ('TRAP', 2030), ('TREIN', 66), ('TREKKEN', 3522), ('TRILLEN', 3132), ('TROBEL', 2582), ('TROMMEL', 2878), ('TROTS', 2793), ('TROUWEN-B', 1254), ('TRUI', 1979), ('TRUI-B', 3472), ('TUIN-A', 2705), ('TURKIJE', 1816), ('TUSSEN', 635), ('TW', 3642), ('TWEE-ELKAAR', 1351), ('TWEEEN-A', 297), ('TWEEEN-B', 2518), ('TWEEEN-C', 568), ('TWEEEN-D', 3308), ('TWEETALIG', 985), ('TWEETY', 2623), ('TWEETY-A', 2483), ('TWEETY-B', 3190), ('TWENTSE', 3342), ('TWIJFEL', 777), ('TYPEN', 665), ('U', 853), ('UBELS', 2707), ('UIT-A', 645), ('UIT-B', 3490), ('UIT-C', 3124), ('UIT-D', 3301), ('UIT-ELKAAR-VALLEN', 2044), ('UITADEMEN', 1426), ('UITBREIDEN', 1106), ('UITDAGEN-A', 2600), ('UITDAGEN-B', 778), ('UITDELEN', 1797), ('UITDOEN', 3188), ('UITEN', 2758), ('UITHOREN', 2056), ('UITKERING', 3689), ('UITKLEDEN-A', 164), ('UITKLEDEN-B', 22), ('UITKNIJPEN', 3172), ('UITLATEN', 969), ('UITLEGGEN', 911), ('UITNODIGEN', 3089), ('UITSCHELDEN', 1483), ('UITSLAG', 1328), ('UITSMIJTER', 3303), ('UITSPREKEN', 931), ('UITSPREKEN-B', 3343), ('UITSTAPPEN', 942), ('UITVOEREN', 724), ('UITWISSELEN-A', 1003), ('UITWISSELEN-B', 2195), ('UITWISSELEN-C', 1118), ('UITWISSELEN-D', 2801), ('UITWISSELEN-E', 2817), ('UITWISSELEN-F', 1276), ('UNIVERSITEIT', 2005), ('UNIVERSITEIT-B', 3719), ('US', 2316), ('USB', 2553), ('USB-STICK', 2559), ('UTRECHT-A', 833), ('UTRECHT-B', 3358), ('UUR-12', 902), ('UUR-2-A', 3319), ('UUR-3-B', 3419), ('UUR-5', 846), ('UUR-7-B', 47), ('UUR-9-B', 3299), ('UUR-A', 885), ('UUR-B', 1889), ('UUR-C', 1516), ('UUR-D', 1582), ('UUR-HALF', 845), ('UUR-HALF-B', 3420), ('UUR-LANG-1', 2028), ('UUR-LANG-10-B', 3716), ('UUR-LANG-10-C', 3711), ('UUR-LANG-2-A', 882), ('UUR-LANG-3-B', 2066), ('UUR-LANG-4-A', 1888), ('UUR-LANG-6-B', 3709), ('V', 971), ('VAAG', 2942), ('VAAK', 254), ('VAARDIG', 1066), ('VADER-A', 429), ('VADER-B', 404), ('VADER-C', 719), ('VADER-D', 720), ('VAK', 2073), ('VAKANTIE', 881), ('VAKN', 2777), ('VALLEN-A', 2307), ('VALLEN-B', 2270), ('VALLEN-C', 2271), ('VAN', 1849), ('VAN-A', 23), ('VAN-B', 979), ('VAN-C', 1594), ('VAN-SCHOOL-AF', 2417), ('VANAF', 2198), ('VANDAAR-A', 187), ('VANDAAR-B', 3728), ('VANGNET-A', 3391), ('VANGNET-B', 3390), ('VANUIT', 2171), ('VANZELF', 2481), ('VARIATIE', 509), ('VAST', 1690), ('VD', 3233), ('VECHTEN', 301), ('VEEL-A', 260), ('VEEL-B', 316), ('VEEL-C', 1506), ('VEEL-D', 3582), ('VEEN', 3257), ('VEILIG', 2310), ('VENSTERBANK', 3008), ('VER', 174), ('VERANDEREN-A', 575), ('VERANDEREN-B', 598), ('VERANDEREN-C', 1280), ('VERANTWOORDELIJK', 2190), ('VERBAASD-A', 232), ('VERBAASD-B', 1933), ('VERBAASD-C', 2252), ('VERBAASD-D', 3265), ('VERBERGEN', 2095), ('VERDELEN', 1545), ('VERDER-A', 1815), ('VERDER-B', 851), ('VERDIENEN', 1288), ('VERDOMME-A', 2330), ('VERDOMME-B', 2402), ('VERDOMME-D', 1790), ('VERDRINKEN-B', 2239), ('VERDWIJNEN-A', 1916), ('VERDWIJNEN-B', 557), ('VERDWIJNEN-C', 534), ('VERGADERING', 2053), ('VERGETEN-A', 670), ('VERGETEN-B', 671), ('VERHAAL', 73), ('VERHEUGEN', 2229), ('VERHUIZEN-A', 629), ('VERJ', 3439), ('VERKEER', 943), ('VERKRACHTEN', 1619), ('VERKRAMPEN', 3162), ('VERLEGEN-A', 445), ('VERLENGSTUK', 2401), ('VERLIEFD-A', 1076), ('VERLIEFD-C', 2150), ('VERLIEZEN', 1148), ('VERMORZELEN', 2092), ('VERNIEUWEN', 2551), ('VERPLAATSEN', 256), ('VERPLICHTEN-A', 636), ('VERPLICHTEN-B', 1638), ('VERRASSING', 2949), ('VERREKIJKER', 1821), ('VERREKIJKER-B', 2490), ('VERREKIJKER-C', 3622), ('VERSCHIJNEN', 3142), ('VERSCHIL-A', 584), ('VERSCHIL-B', 3438), ('VERSCHIL-C', 3720), ('VERSCHIL-D', 3552), ('VERSCHILLENDE-A', 37), ('VERSCHILLENDE-B', 1016), ('VERSLAAFD', 2527), ('VERSLAAN', 42), ('VERSPREIDEN-A', 2040), ('VERSPREIDEN-B', 986), ('VERSTAAN', 3269), ('VERSTAND', 343), ('VERSTOPPEN-A', 1207), ('VERSTOPPEN-B', 491), ('VERSTOPPEN-C', 1450), ('VERTELLEN', 205), ('VERTRAGING', 1000), ('VERTREKKEN', 1092), ('VERTROUWD', 3036), ('VERTROUWEN', 2279), ('VERTROUWEN-B', 3561), ('VERVELEN-A', 224), ('VERVELEN-B', 2696), ('VERVELEN-C', 1444), ('VERVELEN-D', 3360), ('VERVELEND', 282), ('VERVOER', 1949), ('VERWACHTEN', 909), ('VERWARD-A', 713), ('VERWARD-B', 2566), ('VERWARD-C', 2898), ('VERZAMELEN', 3479), ('VERZAMELEN-A', 611), ('VERZAMELEN-B', 1795), ('VERZAMELEN-C', 2048), ('VERZOEKEN', 418), ('VERZUIMEN', 922), ('VI', 967), ('VIA-A', 1424), ('VIA-B', 2089), ('VIDEO-A', 2000), ('VIEREN', 1789), ('VIES-A', 1272), ('VIES-B', 2610), ('VIJVEN', 945), ('VINDEN-A', 854), ('VINDEN-B', 608), ('VINEYARD', 2009), ('VINGER-OPSTEKEN', 2248), ('VINGERSPELLEN', 619), ('VINGERSPELLEN-BSL', 3603), ('VINGERSPELLEN-HAND', 1883), ('VIOOL', 1832), ('VIP', 3313), ('VISICOM-A', 2821), ('VISICOM-B', 2815), ('VISIE', 1887), ('VISSEN', 2136), ('VISUEEL', 344), ('VIT', 2234), ('VLAAMS', 1710), ('VLAG', 3241), ('VLAG-PL', 602), ('VLAG-WAPPEREN', 3229), ('VLAK', 1395), ('VLAKBIJ-A', 536), ('VLEES-A', 786), ('VLEES-B', 1399), ('VLIEGEN-A', 857), ('VLIEGEN-B', 1239), ('VLINDER', 2813), ('VLOER', 3402), ('VLUCHTEN', 57), ('VO', 1103), ('VOCHTIG', 20), ('VOELEN-A', 216), ('VOELEN-B', 701), ('VOELEN-C', 1256), ('VOETBALLEN-A', 2191), ('VOETBALLEN-B', 1361), ('VOETBALLEN-C', 1107), ('VOETSTAPPEN', 2439), ('VOGEL-A', 1247), ('VOGEL-B', 1733), ('VOGELKOOI-A', 1477), ('VOGELKOOI-B', 3007), ('VOL', 814), ('VOLGEN', 210), ('VOLGORDE', 2770), ('VOLGZAAM', 3452), ('VOLLEYBAL', 2213), ('VOLWASSEN', 1042), ('VOLWASSEN-PL', 103), ('VOO', 2413), ('VOOR', 3516), ('VOOR-A', 389), ('VOOR-B', 1600), ('VOOR-C', 366), ('VOOR-D', 329), ('VOOR-E', 3250), ('VOORAAN', 1536), ('VOORAL', 1693), ('VOORBEELD', 3699), ('VOORBEREIDEN', 1137), ('VOORBIJGAAN', 2355), ('VOORBURG', 3526), ('VOORDEEL', 993), ('VOORDEEL-B', 3572), ('VOORKEUR', 2076), ('VOORKOMEN', 2152), ('VOORSTEL', 3057), ('VOORSTELLEN', 1210), ('VOORSTELLING', 3195), ('VOORUIT', 2920), ('VOORUITGANG', 2189), ('VOORZIENINGEN', 2029), ('VORIGE', 855), ('VORM-A', 810), ('VOS-A', 3506), ('VOUWEN', 1964), ('VOZEN', 2474), ('VRAAGTEKEN', 1548), ('VRACHTWAGEN-A', 1739), ('VRACHTWAGEN-B', 2226), ('VRAGEN', 227), ('VRAGENPT', 2003), ('VREEMD', 732), ('VREEMD-A', 284), ('VREEMD-B', 574), ('VREEMD-C', 717), ('VREEMD-D', 733), ('VREEMD-E', 2803), ('VREEMD-F', 3377), ('VRIEND-A', 257), ('VRIEND-B', 1128), ('VRIEND-C', 1189), ('VRIEND-D', 834), ('VRIEND-E', 3354), ('VRIENDELIJK', 1528), ('VRIEZEN', 1969), ('VRIJ-B', 1323), ('VRIJ-C', 349), ('VRIJ-D', 2947), ('VRIJDAG-A', 2467), ('VRIJDAG-B', 659), ('VRIJEN', 2473), ('VRIJWILLIG', 1153), ('VROEGER-A', 130), ('VROEGER-B', 199), ('VROEGER-C', 3454), ('VROUW-A', 170), ('VROUW-B', 1956), ('VROUW-C', 1851), ('VROUW-D', 3192), ('VROUW-E', 3028), ('VRY', 2442), ('VSO', 1096), ('VUGHT', 1110), ('VULLING', 666), ('W', 642), ('WA', 3693), ('WAAR-A', 69), ('WAAR-B', 2409), ('WAAR-C', 1684), ('WAAR-D', 840), ('WAARDEN', 1999), ('WAAROM', 507), ('WAARVOOR', 1127), ('WACHTEN', 3649), ('WACHTEN-A', 27), ('WACHTEN-B', 2284), ('WACHTEN-C', 848), ('WACHTEN-E', 1224), ('WAGGELEN-A', 1863), ('WAGGELEN-B', 3123), ('WAGGELEN-C', 2982), ('WAJ', 3698), ('WAKKER', 940), ('WALGELIJK-A', 1936), ('WALGELIJK-B', 1903), ('WANDELEN', 144), ('WANNEER', 1648), ('WAR', 1082), ('WARM-A', 1983), ('WAS', 2785), ('WASSEN-A', 2501), ('WASSEN-B', 648), ('WASSEN-C', 150), ('WASSEN-D', 2853), ('WAT', 2315), ('WAT-A', 97), ('WAT-B', 975), ('WAT-C', 1195), ('WAT-D', 1421), ('WAT-E', 2380), ('WAT-F', 3771), ('WAT-IS-DAT', 2232), ('WATER-A', 6), ('WATER-B', 2163), ('WATER-C', 790), ('WATER-D', 2601), ('WATER-KOKEN', 1917), ('WATERPOLO', 577), ('WC', 641), ('WC-A', 949), ('WC-B', 634), ('WC-C', 200), ('WC-D', 140), ('WDD', 2261), ('WEBCAM', 2524), ('WEBSITE', 1161), ('WEDDEN', 2573), ('WEDSTRIJD', 2532), ('WEEK', 1014), ('WEEK-1-A', 2067), ('WEEK-2-A', 1747), ('WEEK-3-B', 1977), ('WEEK-PL', 858), ('WEEKEND-A', 1738), ('WEEKEND-B', 3228), ('WEER', 1307), ('WEET-IK-VEEL', 2431), ('WEETIKNIETVEEL', 2503), ('WEG-A', 485), ('WEG-B', 450), ('WEG-C', 30), ('WEG-D', 303), ('WEG-E', 125), ('WEG-F', 2106), ('WEG-G', 1830), ('WEGBRENGEN', 1651), ('WEGGAAN-A', 190), ('WEGGAAN-B', 1401), ('WEGGOOIEN', 362), ('WEGGOOIEN-B', 3278), ('WEGLOPEN', 2352), ('WEIGEREN', 586), ('WEINIG-A', 1602), ('WEINIG-B', 1681), ('WEKE', 2349), ('WEL', 331), ('WELKE-A', 332), ('WELKE-B', 1345), ('WELKE-C', 607), ('WELKOM', 360), ('WERELD-A', 630), ('WERELD-C', 2818), ('WERKEN', 3465), ('WERKEN-A', 246), ('WERKEN-B', 2375), ('WERKVLAAMS', 1607), ('WERVEN', 2045), ('WEST', 2542), ('WET', 1721), ('WETEN-A', 204), ('WETEN-B', 1565), ('WETEN-C', 3774), ('WETEN-NIET', 2143), ('WETEN-NIET-B', 3769), ('WFD', 2109), ('WI', 2317), ('WIE-A', 192), ('WIE-B', 2026), ('WIE-C', 2001), ('WIE-D', 2221), ('WIE-E', 1617), ('WIELEN', 1227), ('WIJ', 76), ('WIJN', 3544), ('WILLEN-A', 469), ('WILLEN-B', 519), ('WILLEN-C', 3647), ('WILLEN-NIET', 93), ('WIN', 2325), ('WIND', 1908), ('WINKELEN', 1640), ('WINKELEN-A', 827), ('WINKELEN-B', 2062), ('WINNEN', 1550), ('WINSUM', 2327), ('WINTER', 2132), ('WIP', 2887), ('WIREL', 3361), ('WIRELESS', 3362), ('WISKUNDE-A', 3049), ('WISKUNDE-B', 1024), ('WISSELEN', 2718), ('WISUM', 2314), ('WIT', 1048), ('WOD', 3068), ('WODKA', 3316), ('WOENSDAG-A', 2677), ('WOENSDAG-B', 657), ('WOKE', 2932), ('WOKKEL-A', 2923), ('WOKKEL-B', 2933), ('WOLF-A', 2452), ('WOLF-B', 3485), ('WOLF-C', 2699), ('WOLK', 1245), ('WOND', 2258), ('WONDER', 2032), ('WONEN-A', 1481), ('WONEN-B', 318), ('WONEN-C', 2357), ('WONEN-D', 1591), ('WOORD-A', 662), ('WOORD-B', 1165), ('WOORD-EN-GEBAAR', 3433), ('WOORDVOLGORDE', 2766), ('WORDEN', 2395), ('WORST-A', 1396), ('WOU', 3704), ('WOW', 828), ('WRE', 1081), ('WRIJVEN', 2272), ('WRIJVENOOG', 3398), ('WS', 2830), ('WURGEN', 2909), ('WW', 2302), ('WWD', 2350), ('X', 3609), ('YOUTUBE', 3374), ('Z', 621), ('ZAAL', 3098), ('ZACHT', 3157), ('ZAK', 1902), ('ZAKEN', 1777), ('ZALF', 2855), ('ZAND-A', 1900), ('ZAND-B', 2841), ('ZATERDAG-A', 802), ('ZATERDAG-B', 62), ('ZEE', 3512), ('ZEEP', 2590), ('ZEGGEN', 217), ('ZEKER', 504), ('ZELF', 219), ('ZELF-B', 3778), ('ZELFDE-A', 353), ('ZELFDE-B', 455), ('ZELFDE-C', 457), ('ZELFDE-D', 1787), ('ZELFSTANDIG', 954), ('ZELFSTANDIG-B', 3268), ('ZELFVERZEKERD', 1537), ('ZENUWACHTIG-A', 746), ('ZENUWACHTIG-B', 1408), ('ZENUWACHTIG-C', 305), ('ZENUWACHTIG-D', 39), ('ZHS', 2328), ('ZIEK-A', 681), ('ZIEK-B', 454), ('ZIELIG', 1663), ('ZIELIG-B', 3580), ('ZIEN-A', 109), ('ZIEN-B', 248), ('ZIEZO', 1675), ('ZIN', 639), ('ZIN-IN', 1394), ('ZITTEN-A', 308), ('ZITTEN-C', 1430), ('ZITTEN-D', 2353), ('ZKHS', 2339), ('ZO', 3248), ('ZO-A', 208), ('ZO-B', 2134), ('ZO-C', 3286), ('ZO-LATEN', 2502), ('ZOEKEN', 116), ('ZOEKENB', 3567), ('ZOETERMEER', 3602), ('ZOIETS', 3364), ('ZOMAAR', 2119), ('ZOMER-A', 1660), ('ZOMER-B', 3175), ('ZON', 1378), ('ZONDAG-A', 3), ('ZONDAG-B', 3380), ('ZONDE', 3222), ('ZONDER', 995), ('ZOON', 403), ('ZORGEN-A', 500), ('ZORGEN-B', 1608), ('ZUID', 2545), ('ZUINIG', 537), ('ZUS-A', 2786), ('ZUS-B', 435), ('ZUS-E', 2025), ('ZUS-F', 2432), ('ZUSTER-A', 1325), ('ZWAAIEN-A', 2736), ('ZWAAIEN-B', 2745), ('ZWAAR-A', 1496), ('ZWAAR-B', 1880), ('ZWAAR-C', 470), ('ZWAAR-D', 3205), ('ZWAARD', 2363), ('ZWABBEREN', 2877), ('ZWAK', 365), ('ZWAKBEGAAFD-A', 547), ('ZWAKBEGAAFD-B', 2104), ('ZWANGER-A', 453), ('ZWANGER-B', 482), ('ZWART-A', 2301), ('ZWART-B', 1931), ('ZWEDEN', 2139), ('ZWEEP', 2362), ('ZWEMMEN-A', 570), ('ZWETEN-A', 1366), ('ZWETEN-B', 1658), ('ZWITSERLAND', 3326)])\n"
     ]
    }
   ],
   "source": [
    "print(od)"
   ]
  },
  {
   "cell_type": "code",
   "execution_count": 22,
   "metadata": {
    "id": "alOaSFVb02Ks"
   },
   "outputs": [
    {
     "ename": "FileNotFoundError",
     "evalue": "[WinError 3] The system cannot find the path specified: 'Data/ECHO/gloss_split\\\\IND'",
     "output_type": "error",
     "traceback": [
      "\u001b[1;31m---------------------------------------------------------------------------\u001b[0m",
      "\u001b[1;31mFileNotFoundError\u001b[0m                         Traceback (most recent call last)",
      "Cell \u001b[1;32mIn[22], line 5\u001b[0m\n\u001b[0;32m      3\u001b[0m viddir_name \u001b[38;5;241m=\u001b[39m \u001b[38;5;124m\"\u001b[39m\u001b[38;5;124mData/ECHO/gloss_split\u001b[39m\u001b[38;5;124m\"\u001b[39m\n\u001b[0;32m      4\u001b[0m \u001b[38;5;28;01mfor\u001b[39;00m i \u001b[38;5;129;01min\u001b[39;00m e_unique_glosses:\n\u001b[1;32m----> 5\u001b[0m     \u001b[43mos\u001b[49m\u001b[38;5;241;43m.\u001b[39;49m\u001b[43mmkdir\u001b[49m\u001b[43m(\u001b[49m\u001b[43mos\u001b[49m\u001b[38;5;241;43m.\u001b[39;49m\u001b[43mpath\u001b[49m\u001b[38;5;241;43m.\u001b[39;49m\u001b[43mjoin\u001b[49m\u001b[43m(\u001b[49m\u001b[43mviddir_name\u001b[49m\u001b[43m \u001b[49m\u001b[43m,\u001b[49m\u001b[43m \u001b[49m\u001b[38;5;28;43mstr\u001b[39;49m\u001b[43m(\u001b[49m\u001b[43mi\u001b[49m\u001b[43m)\u001b[49m\u001b[43m)\u001b[49m\u001b[43m)\u001b[49m\n",
      "\u001b[1;31mFileNotFoundError\u001b[0m: [WinError 3] The system cannot find the path specified: 'Data/ECHO/gloss_split\\\\IND'"
     ]
    }
   ],
   "source": [
    "# first we create a folder for the gloss videos\n",
    "# for each unique gloss we make a folder in our videos directory, and in our images directory\n",
    "viddir_name = \"Data/ECHO/gloss_split\"\n",
    "for i in e_unique_glosses:\n",
    "    os.mkdir(os.path.join(viddir_name , str(i)))"
   ]
  },
  {
   "cell_type": "code",
   "execution_count": 3,
   "metadata": {
    "id": "xwdYQCGOdNgm"
   },
   "outputs": [
    {
     "ename": "NameError",
     "evalue": "name 'c_unique_glosses' is not defined",
     "output_type": "error",
     "traceback": [
      "\u001b[1;31m---------------------------------------------------------------------------\u001b[0m",
      "\u001b[1;31mNameError\u001b[0m                                 Traceback (most recent call last)",
      "Cell \u001b[1;32mIn[3], line 4\u001b[0m\n\u001b[0;32m      1\u001b[0m \u001b[38;5;66;03m# first we create a folder for the gloss videos\u001b[39;00m\n\u001b[0;32m      2\u001b[0m \u001b[38;5;66;03m# for each unique gloss we make a folder in our videos directory, and in our images directory\u001b[39;00m\n\u001b[0;32m      3\u001b[0m viddir_name \u001b[38;5;241m=\u001b[39m \u001b[38;5;124m\"\u001b[39m\u001b[38;5;124mData/CorpusNGT/gloss_split_8frames\u001b[39m\u001b[38;5;124m\"\u001b[39m\n\u001b[1;32m----> 4\u001b[0m \u001b[38;5;28;01mfor\u001b[39;00m i \u001b[38;5;129;01min\u001b[39;00m \u001b[43mc_unique_glosses\u001b[49m:\n\u001b[0;32m      5\u001b[0m     \u001b[38;5;28;01mtry\u001b[39;00m:\n\u001b[0;32m      6\u001b[0m         os\u001b[38;5;241m.\u001b[39mmkdir(os\u001b[38;5;241m.\u001b[39mpath\u001b[38;5;241m.\u001b[39mjoin(viddir_name , \u001b[38;5;28mstr\u001b[39m(i)))\n",
      "\u001b[1;31mNameError\u001b[0m: name 'c_unique_glosses' is not defined"
     ]
    }
   ],
   "source": [
    "# first we create a folder for the gloss videos\n",
    "# for each unique gloss we make a folder in our videos directory, and in our images directory\n",
    "viddir_name = \"Data/CorpusNGT/gloss_split_8frames\"\n",
    "for i in c_unique_glosses:\n",
    "    try:\n",
    "        os.mkdir(os.path.join(viddir_name , str(i)))\n",
    "    except:\n",
    "        print(\"folder already exists\")"
   ]
  },
  {
   "cell_type": "code",
   "execution_count": 33,
   "metadata": {
    "id": "Z8ztVD2muXr3"
   },
   "outputs": [],
   "source": [
    "## Define all functions again with alterations\n",
    "\n",
    "re_metadata = re.compile('Duration: (\\d{2}):(\\d{2}):(\\d{2})\\.\\d+,.*\\n.* (\\d+(\\.\\d+)?) fps')\n",
    "\n",
    "def get_metadata(filename):\n",
    "    '''\n",
    "    Get video metadata using ffmpeg\n",
    "    '''\n",
    "    p1 = Popen([\"ffmpeg\", \"-hide_banner\", \"-i\", filename], stderr=PIPE, universal_newlines=True)\n",
    "    output = p1.communicate()[1]\n",
    "    print(output)\n",
    "    matches = re_metadata.search(output)\n",
    "    if matches:\n",
    "        video_length = int(matches.group(1)) * 3600 + int(matches.group(2)) * 60 + int(matches.group(3))\n",
    "        video_fps = float(matches.group(4))\n",
    "        # print('video_length = {}\\nvideo_fps = {}'.format(video_length, video_fps))\n",
    "    else:\n",
    "        raise Exception(\"Can't parse required metadata\")\n",
    "    return video_length, video_fps\n",
    "\n",
    "def split_cut(path, outputpath, filename, ext, starts, stops, glosses, gloss_counter):\n",
    "    '''\n",
    "    Split video by cutting and re-encoding: accurate but very slow\n",
    "    Adding \"-c copy\" speed up the process but causes imprecise chunk durations\n",
    "    Reference: https://stackoverflow.com/a/28884437/1862500\n",
    "    '''\n",
    "    split_count = len(starts)\n",
    "    input = '{}{}.{}'.format(path, filename, ext)\n",
    "\n",
    "    # parse meta data\n",
    "    video_length, video_fps = get_metadata(input)\n",
    "\n",
    "    # split the video by gloss\n",
    "    output = []\n",
    "\n",
    "    for i in range(split_count):\n",
    "        split_start = float(starts[i]-0.05)\n",
    "        split_size = float(stops[i]+0.05) - float(starts[i])\n",
    "        counter = gloss_counter[glosses[i]]\n",
    "        output_path = '{}{}/{}.{}'.format(outputpath, glosses[i], counter, ext)\n",
    "        gloss_counter[glosses[i]] = gloss_counter[glosses[i]]+1\n",
    "        cmd = 'ffmpeg -hide_banner -loglevel panic -ss {} -t {} -i \"{}\" -y \"{}\"'.format(\n",
    "            split_start,\n",
    "            split_size,\n",
    "            input,\n",
    "            output_path\n",
    "        )\n",
    "        # print(cmd)\n",
    "        check_call(shlex.split(cmd), universal_newlines=True)\n",
    "        output.append(output_path)\n",
    "    return output"
   ]
  },
  {
   "cell_type": "code",
   "execution_count": 34,
   "metadata": {
    "colab": {
     "base_uri": "https://localhost:8080/"
    },
    "id": "vLnGl_nFumOm",
    "outputId": "6979f494-8f9a-4622-fe4d-37d3c99491fc",
    "scrolled": true
   },
   "outputs": [
    {
     "name": "stdout",
     "output_type": "stream",
     "text": [
      "{'GLOSS': 0, 'LANG-B': 1, 'PO': 2, 'ZONDAG-A': 3, 'FIETSEN': 4, 'LOPEN-D': 5, 'WATER-A': 6, 'SPRINGEN-B': 7, 'STAAN-D': 8, 'BEEN-B': 9, 'GEK-A': 10, 'HOND-A': 11, 'SPRINGEN-A': 12, 'DUWEN': 13, 'MOVE-EC-5S': 14, 'MEE': 15, 'MOVE-EC-5': 16, 'GOOIEN': 17, 'KLAAR-A': 18, 'KLEREN-B': 19, 'VOCHTIG': 20, 'LACHEN-A': 21, 'UITKLEDEN-B': 22, 'VAN-A': 23, 'BROEK': 24, 'AANKLEDEN-A': 25, 'AL': 26, 'WACHTEN-A': 27, 'DROOG-A': 28, 'AANKLEDEN-B': 29, 'WEG-C': 30, 'MOVE-EC-1': 31, 'BROOD-B': 32, 'JAM-A': 33, 'ONDERWIJS': 34, 'INTERNAAT-C': 35, 'ONGESTELD': 36, 'VERSCHILLENDE-A': 37, 'DUS-A': 38, 'ZENUWACHTIG-D': 39, 'OPGELUCHT-A': 40, 'BETER': 41, 'VERSLAAN': 42, 'GOED-B': 43, 'LOPEN-B': 44, 'PANTOFFELS': 45, 'BE-EC-B': 46, 'UUR-7-B': 47, 'BINNEN': 48, 'MOETEN-A': 49, 'LAATSTE-A': 50, 'PT': 51, 'MOOI-A': 52, 'HANDEN-WRIJVEN-B': 53, 'SCHRIKKEN-B': 54, 'SCHRIKKEN-A': 55, 'SCHREEUWEN-A': 56, 'VLUCHTEN': 57, 'KAPOT': 58, 'BE-EC-4': 59, 'HOUDEN-VAN': 60, 'SCHOOL-C': 61, 'ZATERDAG-B': 62, 'KAART-A': 63, 'BE-HC-MONEY': 64, 'BEZOEK-A': 65, 'TREIN': 66, 'BRIEF-A': 67, 'KUNNEN-A': 68, 'WAAR-A': 69, 'OPEN-C': 70, 'GEZELLIG': 71, 'PRATEN-F': 72, 'VERHAAL': 73, 'PRECIES': 74, 'KERK': 75, 'WIJ': 76, 'GAAN': 77, 'S': 78, 'MOEDER-A': 79, 'RUIMTE': 80, 'HOND-C': 81, 'HONDENRIEM': 82, 'ALTIJD-A': 83, 'DAN-A': 84, 'EIGEN-B': 85, 'RIVIER': 86, 'LAAT-MAAR': 87, 'STINKEN-A': 88, 'POEP': 89, 'EVEN': 90, 'ANDERE-KANT-B': 91, 'SNEL-A': 92, 'WILLEN-NIET': 93, 'LACHEN-B': 94, 'ERG-A': 95, 'HEE': 96, 'WAT-A': 97, 'POT': 98, 'DUUR': 99, 'ECHT-A': 100, 'SCHOOL-A': 101, 'OPGROEIEN': 102, 'VOLWASSEN-PL': 103, 'BAKVIS': 104, 'NOG-NIET': 105, 'HAREN': 106, 'JONGEN-A': 107, 'GRAAG-B': 108, 'ZIEN-A': 109, 'NAGELBIJTEN': 110, 'PRETTIG-A': 111, 'ROEPEN': 112, 'DURVEN': 113, 'STIL-A': 114, 'OOK-A': 115, 'ZOEKEN': 116, 'BE-EC-4RO': 117, 'MOVE-EC-4RO': 118, 'KWAST': 119, 'OP-B': 120, '1-A': 121, 'AFSPRAAK-C': 122, 'DRAW-4RO': 123, 'KIJKEN-A': 124, 'WEG-E': 125, 'MEISJE-A': 126, 'EMOTIE-B': 127, 'ALLEMAAL-A': 128, 'STOUT-B': 129, 'VROEGER-A': 130, 'RELATIE': 131, 'HOP': 132, 'POPT': 133, 'KOMEN-A': 134, 'NEE-C': 135, 'AANBELLEN': 136, 'OPSTUREN-A': 137, 'HEBBEN-A': 138, 'TELEFOON-D': 139, 'WC-D': 140, 'DEKSEL': 141, 'TELEFOON-B': 142, 'GROEP-A': 143, 'WANDELEN': 144, 'BE-HC-5RC': 145, 'MOVE-CL-5RC': 146, 'PANIEK-A': 147, 'DOEN-A': 148, 'HELPEN-A': 149, 'WASSEN-C': 150, 'DRAW-4': 151, 'INPAKKEN': 152, 'TELHAND-2-B': 153, 'TELHAND-3-A': 154, 'TAS': 155, 'MOVE-EC-4': 156, 'KAMP-A': 157, 'GEBEUREN-A': 158, 'JEUGDHERBERG': 159, 'AMSTERDAM': 160, 'SCHRIJVEN-D': 161, 'REGELS-A': 162, 'SCHRIJVEN-B': 163, 'UITKLEDEN-A': 164, 'JONG-A': 165, '20-B': 166, 'OUD-A': 167, 'DOOF-A': 168, 'DOOF-C': 169, 'VROUW-A': 170, 'BE-HC-4ROS': 171, 'EI-A': 172, 'BE-HC-5RS': 173, 'VER': 174, 'SORRY-D': 175, 'DENKEN': 176, 'ANDERS-B': 177, 'MIS-A': 178, 'BELGIE-B': 179, 'MAAR': 180, 'ETEN-A': 181, 'ACHTER-A': 182, 'SUIKER': 183, 'SCHEUR': 184, 'HAGELSLAG-A': 185, 'HELE': 186, 'VANDAAR-A': 187, 'NEE-B': 188, 'N': 189, 'WEGGAAN-A': 190, 'SLAPEN-A': 191, 'WIE-A': 192, 'EERST': 193, 'SLIM-A': 194, 'TOCH-B': 195, 'GRAPPIG-A': 196, 'STOUT-A': 197, 'LEKKER-A': 198, 'VROEGER-B': 199, 'WC-C': 200, 'OPA-D': 201, 'GEHANDICAPT-A': 202, 'NOOIT-B': 203, 'WETEN-A': 204, 'VERTELLEN': 205, 'ALLES-A': 206, 'OF': 207, 'ZO-A': 208, 'PLOTSELING': 209, 'VOLGEN': 210, 'STOK-A': 211, 'TELHAND-2-A': 212, 'KLOPT-D': 213, 'BEGRIJPEN': 214, 'CULTUUR': 215, 'VOELEN-A': 216, 'ZEGGEN': 217, 'HALLO': 218, 'ZELF': 219, 'TOEVALLIG-B': 220, 'PUNT-A': 221, 'BEDOELEN': 222, 'BESTEMPELEN-A': 223, 'VERVELEN-A': 224, 'ORAAL-B': 225, 'MOEILIJK': 226, 'VRAGEN': 227, 'NU-A': 228, 'NIEUW-A': 229, 'HOREN-A': 230, 'KLOPT-A': 231, 'VERBAASD-A': 232, 'CONGRES': 233, 'GEBAREN-A': 234, 'TELHAND-1-A': 235, 'PRIMA': 236, 'COMMUNICEREN': 237, 'DISCUSSIEREN': 238, 'NIET-B': 239, 'ROLSTOEL-C': 240, 'BLIJVEN': 241, 'NAAR': 242, 'NAAMGEBAAR': 243, 'REGERING-A': 244, 'AANSLUITEN': 245, 'WERKEN-A': 246, 'HAND': 247, 'ZIEN-B': 248, 'AF-A': 249, 'PV': 250, 'KLOPT-B': 251, 'PAKKEN-A': 252, 'GEVANGENIS': 253, 'VAAK': 254, 'TOLK': 255, 'VERPLAATSEN': 256, 'VRIEND-A': 257, '4-A': 258, 'CANADA': 259, 'VEEL-A': 260, 'KOMEN-B': 261, 'BUITENLAND': 262, 'EUROPA-C': 263, 'ENGELAND-B': 264, 'TAAL-D': 265, 'GOED-A': 266, 'AFRIKA-B': 267, 'EGYPTE': 268, 'BEETJE': 269, 'TELHAND': 270, 'GROOT-B': 271, 'CONTROLEREN': 272, 'NIET-A': 273, 'BIJ-D': 274, 'SLECHT-B': 275, 'GISTEREN': 276, 'AVOND-B': 277, 'OP-A': 278, 'OMDAT-A': 279, 'BETEKENEN': 280, 'RADIO': 281, 'VERVELEND': 282, 'BEDANKEN-A': 283, 'VREEMD-A': 284, 'NIEUW-B': 285, 'JA-A': 286, 'OUD-B': 287, 'MAN-A': 288, 'STRAF-A': 289, 'POLITIE-A': 290, 'MOVE-CL-5': 291, 'LATER-C': 292, 'NOOIT-D': 293, 'ALLEEN-A': 294, 'FOUT-B': 295, 'LEREN': 296, 'TWEEEN-A': 297, 'BESTE-B': 298, 'PRATEN-A': 299, 'ANDERE-KANT-A': 300, 'VECHTEN': 301, 'SAMEN-A': 302, 'WEG-D': 303, 'BLIND-A': 304, 'ZENUWACHTIG-C': 305, 'INTEGREREN': 306, 'APART-A': 307, 'ZITTEN-A': 308, 'AANPASSEN': 309, 'EDE': 310, 'OPKOMEN': 311, 'SPORT': 312, 'APART-B': 313, 'JAMMER-B': 314, 'KOMEN-C': 315, 'VEEL-B': 316, 'AANLEUNEN': 317, 'WONEN-B': 318, '2-A': 319, 'MENS': 320, 'DAG': 321, 'ERBIJ-A': 322, 'HEFTIG': 323, 'GELUKKIG': 324, 'PT-PO': 325, 'STEM-A': 326, 'PRATEN-E': 327, 'STEMMEN': 328, 'VOOR-D': 329, 'CLUB-A': 330, 'WEL': 331, 'WELKE-A': 332, 'LUISTEREN': 333, 'ONDER': 334, 'HANDIG': 335, 'GEHANDICAPT-C': 336, 'MAGER-A': 337, 'GROEP-C': 338, 'OVER-A': 339, 'KRANT-A': 340, 'KLAGEN-A': 341, 'HOOFD-C': 342, 'VERSTAND': 343, 'VISUEEL': 344, 'E': 345, 'DOVEN': 346, 'DOVE': 347, 'MOVE-HC-MONEY': 348, 'VRIJ-C': 349, 'INFORMEREN': 350, 'KIND-PL': 351, 'DOOR-ELKAAR-B': 352, 'ZELFDE-A': 353, 'OEFENEN-A': 354, 'ENZOVOORTS-B': 355, 'GEBOREN-A': 356, 'TEGEN-A': 357, 'BLIJ-B': 358, 'ONTWIKKELEN-B': 359, 'WELKOM': 360, 'CONTACT': 361, 'WEGGOOIEN': 362, 'MISSCHIEN-A': 363, 'NODIG-C': 364, 'ZWAK': 365, 'VOOR-C': 366, 'GELUID': 367, 'ONDERSTEUNEN': 368, 'GEHOORAPPARAAT': 369, 'THUIS-A': 370, 'STERK': 371, 'KLEIN-D': 372, 'DOCHTER': 373, 'C': 374, 'CI-A': 375, 'BLIJ-A': 376, 'PAS-B': 377, 'LIEF-A': 378, 'ALS-B': 379, 'DRUK': 380, 'KENNEN-A': 381, 'STEM-D': 382, 'SOMMIGEN': 383, 'HYPOCRIET': 384, 'KIND-A': 385, 'KLEIN-A': 386, 'BIJVOORBEELD-A': 387, 'CI': 388, 'VOOR-A': 389, 'GELOVEN': 390, 'MEER-A': 391, 'PAS-A': 392, 'TAAL-B': 393, 'LASTIG': 394, 'ELKE-C': 395, 'ONTWIKKELEN-A': 396, 'LICHAAM-A': 397, 'GEBOREN-B': 398, 'GROOT-A': 399, 'KLEIN-C': 400, 'GEHANDICAPT-B': 401, 'OVERDRIJVEN-A': 402, 'ZOON': 403, 'VADER-B': 404, 'MENS-PL': 405, 'LUKKEN-A': 406, 'PROBLEEM': 407, 'SCHRIJVEN-C': 408, 'GELUK-B': 409, 'MOVE-HC-4RC5': 410, 'MOVE-EC-4R5': 411, 'STRAKS': 412, 'SCHOOL-D': 413, 'ROEPEN-B': 414, 'KLEIN-B': 415, 'PRATEN-C': 416, 'SOMS-A': 417, 'VERZOEKEN': 418, 'NAAM-C': 419, 'I': 420, 'LIEF-B': 421, 'PERFECT': 422, 'BEGINNEN-A': 423, '6-A': 424, 'GAUW': 425, 'LOGOPEDIE-A': 426, 'ORAAL-A': 427, 'MAMA': 428, 'VADER-A': 429, 'JAAR-B': 430, 'LANGZAAM': 431, 'L': 432, 'R': 433, 'NEE-A': 434, 'ZUS-B': 435, 'ROTTERDAM-B': 436, 'SORRY-A': 437, '5': 438, '70-A': 439, 'LIEGEN': 440, '60-A': 441, '100-A': 442, 'PROCENT-A': 443, 'O': 444, 'VERLEGEN-A': 445, 'PB': 446, 'GENOEG': 447, 'TEVREDEN-B': 448, 'PRATEN-D': 449, 'WEG-B': 450, 'BE-EC-5': 451, 'TEST': 452, 'ZWANGER-A': 453, 'ZIEK-B': 454, 'ZELFDE-B': 455, 'ANDERSOM': 456, 'ZELFDE-C': 457, 'LEVEN-B': 458, 'EIGENLIJK': 459, 'MODERN': 460, '2-ORD': 461, 'GRAAG-A': 462, 'ABORTUS': 463, 'ONZIN-B': 464, 'TOT-B': 465, 'MONGOOL': 466, 'BANG-A': 467, 'DAN-B': 468, 'WILLEN-A': 469, 'ZWAAR-C': 470, 'BLIJ-C': 471, 'DWN': 472, 'DOWN': 473, 'ALLEEN-B': 474, 'AF-B': 475, 'IETS-A': 476, 'ERVARING-B': 477, 'BUIK': 478, 'LOGISCH': 479, 'TEVREDEN-A': 480, 'TERUG': 481, 'ZWANGER-B': 482, 'GORDIJN': 483, 'SLAPEN-B': 484, 'WEG-A': 485, 'PASSIEF': 486, 'NIKS-C': 487, 'IN-A': 488, 'TEGEN-B': 489, 'BEMOEIEN-A': 490, 'VERSTOPPEN-B': 491, 'EIGEN-A': 492, 'SOP': 493, 'IN-D': 494, 'MAL': 495, 'IN-C': 496, 'ERFELIJK': 497, 'IVF': 498, 'ONTSPANNEN-B': 499, 'ZORGEN-A': 500, 'HART-B': 501, 'ANDERS-C': 502, 'PERSOON-C': 503, 'ZEKER': 504, 'PRATEN-B': 505, 'EERLIJK-C': 506, 'WAAROM': 507, 'HUILEN-A': 508, 'VARIATIE': 509, 'OUDERS-B': 510, 'PRETTIG-B': 511, 'MOOI-B': 512, 'ALLEMAAL-B': 513, 'GRAAG-C': 514, 'MAKEN-A': 515, 'NIEUW-C': 516, 'SCHOON': 517, '3-ORD-A': 518, 'WILLEN-B': 519, '20-A': 520, 'BAAS': 521, 'MAKKELIJK': 522, 'BELLEN': 523, 'REAGEREN': 524, 'ONDERDANIG': 525, 'BEWEGEN': 526, 'HOOG': 527, 'AMERIKA': 528, 'REGERING-B': 529, 'BAAS-B': 530, 'OMGAAN-A': 531, 'OPVOEDEN': 532, 'SPELEN-B': 533, 'VERDWIJNEN-C': 534, 'COMPUTER-A': 535, 'VLAKBIJ-A': 536, 'ZUINIG': 537, 'INZETTEN': 538, 'HALEN': 539, 'DOKTER-A': 540, 'BEL': 541, 'DING-PL': 542, 'ROEPEN-A': 543, 'TIJD-A': 544, 'SLAAN-A': 545, 'NU-B': 546, 'ZWAKBEGAAFD-A': 547, 'MISSELIJK': 548, 'OVERNEMEN': 549, 'INTERNAAT-B': 550, 'GELD': 551, 'SORRY-B': 552, 'FILMEN-A': 553, 'OVERLEGGEN-A': 554, 'BESTAAN-A': 555, 'AANWEZIG': 556, 'VERDWIJNEN-B': 557, 'HUIS-B': 558, 'ORGANISEREN': 559, 'ONGEVEER': 560, 'ANTWOORD-A': 561, 'J': 562, 'EINDELIJK-A': 563, 'PERIODE-A': 564, 'BOND': 565, 'PERIODE-B': 566, 'AFHANKELIJK-C': 567, 'TWEEEN-C': 568, 'NADENKEN-A': 569, 'ZWEMMEN-A': 570, 'BESTUUR': 571, 'SCHEIDEN': 572, 'JE-BEST-DOEN': 573, 'VREEMD-B': 574, 'VERANDEREN-A': 575, 'KAARTEN': 576, 'WATERPOLO': 577, 'MINDER-A': 578, 'DRINKEN-A': 579, 'GUYOT': 580, 'INTERNATIONAAL': 581, 'GEBAREN-C': 582, 'AFHANKELIJK-A': 583, 'VERSCHIL-A': 584, 'REGIO-A': 585, 'WEIGEREN': 586, 'COMPUTER-B': 587, 'ANDERS-A': 588, 'LENTE': 589, 'HOTEL-A': 590, 'ONTSTAAN': 591, 'SCHOOL-B': 592, 'ST-MICHIELSGESTEL': 593, 'BEZOEK-D': 594, 'BEZOEK-C': 595, 'GRONINGEN': 596, 'HOE-D': 597, 'VERANDEREN-B': 598, 'CREATIEF': 599, 'HEEN-EN-WEER': 600, 'SUKKEL-B': 601, 'VLAG-PL': 602, 'LEUK': 603, 'BEZIG': 604, 'DORDRECHT-A': 605, 'CURSUS-A': 606, 'WELKE-C': 607, 'VINDEN-B': 608, 'HALT': 609, 'TELHAND-5': 610, 'VERZAMELEN-A': 611, '22': 612, 'ONTMOETEN-C': 613, 'TELHAND-4-A': 614, 'TERUGTREKKEN': 615, 'A': 616, 'B': 617, 'D': 618, 'VINGERSPELLEN': 619, 'MERKEN': 620, 'Z': 621, 'KIEZEN': 622, 'EFFATHA': 623, 'BALEN-E': 624, '9-A': 625, 'MAAKT-NIET-UIT': 626, 'ARNHEM': 627, '3-B': 628, 'VERHUIZEN-A': 629, 'WERELD-A': 630, 'OOK-C': 631, 'NEDERLAND-A': 632, 'ERBIJ-B': 633, 'WC-B': 634, 'TUSSEN': 635, 'VERPLICHTEN-A': 636, 'STUDEREN': 637, 'BESLUITEN-A': 638, 'ZIN': 639, 'DUITSLAND-A': 640, 'WC': 641, 'W': 642, 'TAAL-C': 643, 'KUNNEN-NIET-A': 644, 'UIT-A': 645, 'AUTOMATISCH-B': 646, 'BOOM-A': 647, 'WASSEN-B': 648, 'GEHOORZAAM': 649, 'MEER-C': 650, 'LUKKEN-B': 651, 'REGIO-B': 652, 'T': 653, 'MAANDAG-A': 654, 'MAANDAG-B': 655, 'DINSDAG-B': 656, 'WOENSDAG-B': 657, 'DONDERDAG-B': 658, 'VRIJDAG-B': 659, 'RAAR': 660, 'TELEVISIE-B': 661, 'WOORD-A': 662, 'HOE-B': 663, 'MOVE-CL-1': 664, 'TYPEN': 665, 'VULLING': 666, 'ALLES-B': 667, 'SOCIAAL': 668, 'SOCIALE-WERKPLAATS': 669, 'VERGETEN-A': 670, 'VERGETEN-B': 671, 'MEDICIJN-A': 672, 'IDEE': 673, 'GEVEN-B': 674, 'BELANGRIJK-B': 675, 'SENSEO-B': 676, 'SLURF': 677, 'SENSEO-A': 678, 'JAMMER-A': 679, 'OVER-C': 680, 'ZIEK-A': 681, 'TAND': 682, 'BEUGEL': 683, 'GEVEN-A': 684, 'OPNEMEN-A': 685, 'NIET-C': 686, 'EMAIL-C': 687, 'BOEK': 688, 'KOFFIE-A': 689, 'KOFFIE-B': 690, 'LEZEN': 691, 'TOCH-A': 692, 'BESTEMPELEN-B': 693, 'NEUSGATEN': 694, 'DRAW-1RO': 695, 'SENSEO-E': 696, 'PAPA-A': 697, 'GEBOUW-B': 698, 'SCHEPJE': 699, 'ONTHOUDEN': 700, 'VOELEN-B': 701, 'THEE': 702, 'OCHTEND-D': 703, 'PAARD-C': 704, 'GELIJK-HEBBEN': 705, 'PAARD-B': 706, 'KRANT-B': 707, 'MOEDER-B': 708, 'MATERIAAL': 709, 'FRANKRIJK': 710, 'NOG-B': 711, 'JOURNAAL-A': 712, 'VERWARD-A': 713, 'ROOS': 714, 'BLOEM-B': 715, 'ROS': 716, 'VREEMD-C': 717, 'SCHUUR-B': 718, 'VADER-C': 719, 'VADER-D': 720, 'HEER': 721, 'M': 722, 'NAAM-B': 723, 'UITVOEREN': 724, 'AUTO': 725, 'JANUARI-A': 726, 'APRIL': 727, 'SCHUUR-A': 728, 'F': 729, 'OPSCHEPPEN-B': 730, 'OM': 731, 'VREEMD': 732, 'VREEMD-D': 733, 'FEBRUARI-B': 734, 'MEI-B': 735, 'S-UUR': 736, 'SFJUUR': 737, 'SF-SFUUR': 738, 'PAPA': 739, 'P': 740, 'DRIEEN': 741, 'PLAT-B': 742, 'BOS-B': 743, 'SAMEN-C': 744, 'BEER-A': 745, 'ZENUWACHTIG-A': 746, 'KLIMMEN-A': 747, 'GESCHIEDENIS-A': 748, 'RUSTIG': 749, 'OVERLEDEN': 750, 'LIGGEN-B': 751, 'LOPEN-C': 752, 'ROLLEN': 753, 'SNUFFELEN': 754, 'OPGEVEN-A': 755, 'MOVE-EC-2': 756, 'OPSTAAN-C': 757, 'DEEL-C': 758, 'DEEL-B': 759, 'PERSOON-A': 760, 'OPLOSSEN-A': 761, 'DOOD-A': 762, 'BEER-B': 763, 'BE-EC-1': 764, 'SLAAN-B': 765, 'RUIKEN': 766, 'SNUFFELEN-B': 767, 'MOVE-HC-4': 768, 'ADEMEN-A': 769, 'MOVE-EC-2R': 770, 'SNUFFELEN-C': 771, 'EVEN-DENKEN-D': 772, 'DEEL-A': 773, 'EINDE': 774, 'STEL-A': 775, 'BOT': 776, 'TWIJFEL': 777, 'UITDAGEN-B': 778, 'GROMMEN': 779, 'LOSLATEN': 780, 'MOVE-EC-5RS': 781, 'OK': 782, 'EVEN-DENKEN-C': 783, 'HOND-B': 784, 'SLAGER-A': 785, 'VLEES-A': 786, 'DORP': 787, 'HEUVEL': 788, 'BRUG-A': 789, 'WATER-C': 790, 'HIJGEN': 791, 'ADEMEN-B': 792, 'NOG-A': 793, 'JALOERS': 794, 'HONGER-A': 795, 'STELEN': 796, 'SPIEGEL': 797, 'FUCK': 798, 'MAGER-B': 799, 'DOM-A': 800, 'SENCITY': 801, 'ZATERDAG-A': 802, 'OPGELUCHT-B': 803, 'TAXI-A': 804, 'DISCO-A': 805, 'OPPERVLAK': 806, 'STEVIG': 807, 'LOPEN-E': 808, 'LICHAAM-B': 809, 'VORM-A': 810, 'STAAN-B': 811, 'BE-HC-0': 812, 'JAS-B': 813, 'VOL': 814, 'OPEN-A': 815, 'DANSEN-B': 816, 'LICHT-A': 817, 'MUZIEK': 818, 'HARD-C': 819, 'CAFE-A': 820, 'MOVE-EC-5R': 821, 'ONTMOETEN-B': 822, 'BUS-B': 823, 'LAAT-B': 824, 'KOUD-A': 825, 'SLAPEN-C': 826, 'WINKELEN-A': 827, 'WOW': 828, 'ROTTERDAM-A': 829, 'KRIJGEN-B': 830, 'DRAW-5': 831, 'BLOEM-A': 832, 'UTRECHT-A': 833, 'VRIEND-D': 834, 'MOGEN-A': 835, 'PLAATS-A': 836, 'H': 837, 'HOER': 838, 'MOVE-HC-0': 839, 'WAAR-D': 840, 'BLIJKEN': 841, 'OPNIEUW': 842, 'LOPEN-A': 843, 'AT-EC-5R': 844, 'UUR-HALF': 845, 'UUR-5': 846, 'MOE-B': 847, 'WACHTEN-C': 848, 'KWARTIER-3': 849, 'LATER-A': 850, 'VERDER-B': 851, 'STATION-A': 852, 'U': 853, 'VINDEN-A': 854, 'VORIGE': 855, 'LANG-A': 856, 'VLIEGEN-A': 857, 'WEEK-PL': 858, 'GEUR': 859, 'HAWAII': 860, 'SPANNEND': 861, 'KRIEBELS-IN-DE-BUIK': 862, 'KEER': 863, 'NIKS-A': 864, 'BUITEN-B': 865, '8-B': 866, 'OMGEVING-B': 867, 'DOOR-ELKAAR-A': 868, 'RENNEN-A': 869, 'TELHAND-1-B': 870, 'AFSPRAAK-A': 871, 'MOVE-EC-B': 872, 'KNUFFELEN': 873, 'FILE': 874, 'AUTORIJDEN': 875, 'TAART-B': 876, 'NATUUR-A': 877, 'BOS-A': 878, 'SURFEN-A': 879, 'EVEN-DENKEN-A': 880, 'VAKANTIE': 881, 'UUR-LANG-2-A': 882, 'EUROPA-B': 883, '18-A': 884, 'UUR-A': 885, 'CHICAGO': 886, 'PTPT': 887, 'EERLIJK-B': 888, 'ENGELAND-A': 889, 'KAART': 890, 'PANIEK-C': 891, 'COMMUNICATIE-VERBROKEN': 892, 'MIS-B': 893, 'LA': 894, 'NIEMAND-A': 895, 'TELEFOON-A': 896, 'BLIJ-D': 897, 'AANBIEDEN': 898, 'REIZEN-A': 899, 'AVOND-A': 900, 'STOPPEN': 901, 'UUR-12': 902, 'KERMIS': 903, 'HUIS-A': 904, 'DEN-BOSCH': 905, 'STOPLICHT': 906, 'NIEMAND-B': 907, 'LAATSTE-B': 908, 'VERWACHTEN': 909, 'GEK-C': 910, 'UITLEGGEN': 911, 'KRUISING': 912, 'BEKEURING': 913, 'GA-MAAR': 914, 'DRAW-1C': 915, 'BE-HC-1RC': 916, 'SAAI-A': 917, 'OVERGEVEN': 918, 'LENEN-B': 919, 'ONRUSTIG': 920, 'NACHT': 921, 'VERZUIMEN': 922, 'PAKKEN-B': 923, 'BROER-B': 924, 'ROOD': 925, 'DOORGAAN': 926, 'BRUTAAL-C': 927, 'PARKEREN-A': 928, 'LACHEN-C': 929, 'SMOES': 930, 'UITSPREKEN': 931, 'MOVE-CL-4': 932, 'DATUM': 933, 'DIEP': 934, 'SCHAMEN-A': 935, 'DEUR': 936, 'AT-EC-2R': 937, 'MIDDEN': 938, 'NAAST': 939, 'WAKKER': 940, 'OPEN-B': 941, 'UITSTAPPEN': 942, 'VERKEER': 943, 'DRONKEN-A': 944, 'VIJVEN': 945, 'MOE-A': 946, 'SNEL-B': 947, 'SCHIETEN-B': 948, 'WC-A': 949, 'STINKEN-B': 950, 'BLAASTEST': 951, 'OH': 952, 'ERVARING-A': 953, 'ZELFSTANDIG': 954, 'NODIG-A': 955, 'BEGELEIDEN-A': 956, 'PRATEN-I': 957, 'AFWEGEN': 958, 'DOOF-B': 959, 'HOREN-B': 960, 'BIJ-A': 961, 'STEL-B': 962, 'MEE-EENS-A': 963, 'PERSOONLIJK': 964, 'HALF-A': 965, 'BE-EC-ARM': 966, 'VI': 967, 'BLIND-C': 968, 'UITLATEN': 969, 'OOR': 970, 'V': 971, 'APART-C': 972, 'REGELEN': 973, 'PROTEST-B': 974, 'WAT-B': 975, 'ECHT-B': 976, 'LESGEVEN': 977, 'ACCEPTEREN': 978, 'VAN-B': 979, 'TELHAND-3-B': 980, 'IS': 981, 'DOEL': 982, 'ADVIES': 983, 'BESLUITEN-B': 984, 'TWEETALIG': 985, 'VERSPREIDEN-B': 986, 'BIJ-C': 987, 'ENE-KANT-ANDERE-KANT-A': 988, 'KLOPT-C': 989, 'BELANGRIJK-A': 990, 'TAAL-A': 991, 'DING': 992, 'VOORDEEL': 993, 'MEE-EENS-B': 994, 'ZONDER': 995, 'TOEKOMST': 996, 'STAAN-A': 997, 'ONTMOETEN-A': 998, 'GEBRUIKEN-A': 999, 'VERTRAGING': 1000, 'MEER-D': 1001, 'BALANS': 1002, 'UITWISSELEN-A': 1003, 'MISSCHIEN-B': 1004, 'OPNEMEN-B': 1005, 'IN-B': 1006, 'IEDEREEN-B': 1007, 'BIJZONDER': 1008, 'TELLEN': 1009, 'MOND': 1010, 'ALSOF-A': 1011, 'SCHULD': 1012, 'HOEFT-NIET-A': 1013, 'WEEK': 1014, 'LEEGHOOFD': 1015, 'VERSCHILLENDE-B': 1016, 'ONTWIKKELEN': 1017, 'EXTRA-A': 1018, 'ENZOVOORTS-C': 1019, 'EVEN-WACHTEN': 1020, 'NADEEL': 1021, 'PROBEREN-A': 1022, 'BASIS': 1023, 'WISKUNDE-B': 1024, 'BESTE-A': 1025, 'MEER-B': 1026, 'FAMILIE-B': 1027, 'DOOR-A': 1028, 'BESTAAN-D': 1029, 'FEEST-B': 1030, 'KLAP': 1031, 'GEZICHT-A': 1032, '3-A': 1033, 'ONDERWERP-B': 1034, 'DRAW-4R': 1035, 'BIJVOORBEELD-B': 1036, 'GEMEEN': 1037, 'KLEIN': 1038, 'SNIJDEN-B': 1039, 'FLAUW': 1040, 'BOOS-A': 1041, 'VOLWASSEN': 1042, 'SLECHT-A': 1043, 'BROER-A': 1044, 'KANS': 1045, 'STEL-C': 1046, 'LEVEN-A': 1047, 'WIT': 1048, 'FAMILIE-A': 1049, 'OVERLEGGEN-C': 1050, 'TEGEN-AAN-LOPEN-A': 1051, 'HEBBEN': 1052, 'STAPEL': 1053, 'MOVE-HC-5': 1054, 'BEEN-C': 1055, 'TECHNIEK': 1056, 'SKATEBOARD': 1057, 'SKATEBOARDEN': 1058, 'SCHOUDER-B': 1059, 'AFWIJKEN': 1060, 'ENZOVOORTS-A': 1061, 'KUNST': 1062, 'ARM-D': 1063, 'AT-EC-0': 1064, '9-B': 1065, 'VAARDIG': 1066, 'MENING-A': 1067, 'PRACHTIG-A': 1068, 'CODA': 1069, 'KNAP': 1070, 'AUTISME': 1071, 'MAN-B': 1072, 'SAMEN-D': 1073, 'DEAFISME': 1074, 'ONAFHANKELIJK': 1075, 'VERLIEFD-A': 1076, 'NOOIT-A': 1077, 'ALS-C': 1078, 'AFVRAGEN': 1079, 'LYF': 1080, 'WRE': 1081, 'WAR': 1082, 'MEISJE-B': 1083, 'MAAND-A': 1084, 'ONGELOFELIJK': 1085, 'LI': 1086, 'FLEXIBEL': 1087, 'ONTSPANNEN-D': 1088, 'IETS-B': 1089, 'DOEN-B': 1090, 'GEN': 1091, 'VERTREKKEN': 1092, 'BETROKKEN': 1093, 'SAMEN-4': 1094, 'IVD': 1095, 'VSO': 1096, 'IMPLANTEREN': 1097, 'INSTORTEN': 1098, 'BEWIJS': 1099, 'OPVALLEN': 1100, 'BIJEENKOMEN': 1101, 'ROL': 1102, 'VO': 1103, 'MAVO': 1104, 'HAVO': 1105, 'UITBREIDEN': 1106, 'VOETBALLEN-C': 1107, 'CATHARIJNE83': 1108, 'BADMINTON': 1109, 'VUGHT': 1110, 'REDEN': 1111, 'NIEUWSGIERIG': 1112, 'OPSTUREN-B': 1113, 'IEDEREEN-A': 1114, 'DANSEN-A': 1115, 'OPRICHTEN': 1116, 'MSN': 1117, 'UITWISSELEN-C': 1118, 'DUIDELIJK': 1119, 'DOOS-A': 1120, 'RIMI': 1121, 'BUITEN-A': 1122, 'LIJKEN-OP': 1123, 'NGT': 1124, 'OPLEIDING': 1125, 'ERKENNEN-B': 1126, 'WAARVOOR': 1127, 'VRIEND-B': 1128, 'PROEVEN-B': 1129, 'STANDAARDISATIE-A': 1130, 'BRABANT-A': 1131, 'NIVEAU': 1132, 'EMAIL-D': 1133, 'EMAIL-A': 1134, 'NAAM-A': 1135, 'DRAW-RP-4RO': 1136, 'VOORBEREIDEN': 1137, 'OP-D': 1138, 'GEBAREN-F': 1139, 'RODDELEN-A': 1140, 'RODDELEN-B': 1141, 'EMAIL-B': 1142, 'TOEVALLIG-A': 1143, 'BALEN-D': 1144, 'MOVE-HC-5ROS': 1145, 'SENSEO-C': 1146, 'SCHIETEN-C': 1147, 'VERLIEZEN': 1148, 'MSMS': 1149, 'SMS-A': 1150, 'MSM': 1151, 'SMS': 1152, 'VRIJWILLIG': 1153, 'SMS-B': 1154, 'LACHEN-F': 1155, 'PASSEN-BIJ': 1156, 'PLUS': 1157, 'GREENPEACE': 1158, 'RAAM-A': 1159, 'CENTRUM': 1160, 'WEBSITE': 1161, 'PLAGEN-D': 1162, 'AANHALINGSTEKENS': 1163, 'REGELS-B': 1164, 'WOORD-B': 1165, 'SENSEO-D': 1166, 'STRALING': 1167, 'ALS-A': 1168, 'DUBBEL-A': 1169, 'NEUS': 1170, 'AAP': 1171, 'AANKLIKKEN': 1172, 'LIJST-C': 1173, 'STABOL-A': 1174, 'OCHTEND-B': 1175, '11-B': 1176, '13-B': 1177, 'INVLOED': 1178, 'SLECHT-C': 1179, 'TONG': 1180, 'AT-EC-5': 1181, 'OCHTEND-A': 1182, 'GEEL-A': 1183, 'GEEL-C': 1184, 'INTERESSANT': 1185, 'ONDERWERP-A': 1186, 'STAGE': 1187, 'COLLEGA': 1188, 'VRIEND-C': 1189, 'BE-EC-5R': 1190, 'RENNEN-B': 1191, 'KLIMMEN-C': 1192, 'LIGGEN-C': 1193, 'ERG-B': 1194, 'WAT-C': 1195, 'PRACHTIG-B': 1196, 'BE-EC-4C': 1197, 'ADEM-INHOUDEN-A': 1198, 'MOVE-EC-4C': 1199, 'BIJNA': 1200, 'BIJTEN': 1201, 'STIK-D': 1202, 'GEBOUW-A': 1203, 'LEKKER-B': 1204, 'DRAW-5R': 1205, 'SNIJDEN-A': 1206, 'VERSTOPPEN-A': 1207, 'DOL-OP': 1208, 'MOVE-HC-5R': 1209, 'VOORSTELLEN': 1210, 'KAUWEN': 1211, 'BE-CL-5R': 1212, 'BANG-B': 1213, 'KWISPELEN': 1214, 'DRAW-4RC': 1215, 'ROTZOOI': 1216, 'ROTZOOIEN': 1217, 'BE-HC-5R': 1218, 'DRAW-1': 1219, 'DRAW-5RS': 1220, 'BE-HC-5RO': 1221, 'BALEN-A': 1222, 'APPLAUS-A': 1223, 'WACHTEN-E': 1224, 'ANTWERPEN': 1225, 'MINUUT': 1226, 'WIELEN': 1227, 'DRAW-1O': 1228, 'STIL-B': 1229, '10-B': 1230, 'TIJD-C': 1231, 'DONKER': 1232, 'LICHT-B': 1233, 'KLEIN-G': 1234, 'ARMEN-OVER-ELKAAR': 1235, 'LIPPENSTIFT': 1236, 'KUNSTGEBIT': 1237, 'MOND-DICHT-A': 1238, 'VLIEGEN-B': 1239, 'FINLAND': 1240, 'TAFELTENNIS': 1241, 'KAAL': 1242, 'HAAR': 1243, 'PRUIK': 1244, 'WOLK': 1245, 'PLAGEN-A': 1246, 'VOGEL-A': 1247, 'HOPEN-B': 1248, 'DRAWR-1O': 1249, 'TIJD-B': 1250, 'MOVE-HC-1RC': 1251, 'ETEN-B': 1252, 'MOVE-HC-4RC': 1253, 'TROUWEN-B': 1254, 'ALSTUBLIEFT': 1255, 'VOELEN-C': 1256, 'BIDDEN-A': 1257, 'LUKKEN-NIET-A': 1258, 'BE-EC-5S': 1259, 'FILM': 1260, 'ROK': 1261, 'HAAT': 1262, 'NICHT-A': 1263, 'MOVE-HC-': 1264, 'BE-EC-4RC': 1265, 'BE-EC-1RO': 1266, 'MOVE-HC-1RO': 1267, 'DRAW-1O1C': 1268, 'OORLOG-B': 1269, 'STOREN': 1270, 'OMDAT-B': 1271, 'VIES-A': 1272, 'SCHAMEN-B': 1273, 'OORDOP': 1274, 'EILAND': 1275, 'UITWISSELEN-F': 1276, 'POND': 1277, 'COMBINATIE': 1278, 'JAAR-A': 1279, 'VERANDEREN-C': 1280, 'BAL': 1281, 'BE-HC-4RO': 1282, 'BE-HC-4R': 1283, 'BE-EC-4O': 1284, 'ERUIT': 1285, 'ROLLATOR': 1286, 'BIJ-B': 1287, 'VERDIENEN': 1288, '10-A': 1289, 'MOVE-HC-1C': 1290, 'GOED-IN': 1291, 'HOOFD-B': 1292, 'OPLETTEN': 1293, 'BOREN': 1294, 'DOOR-B': 1295, 'OPERATIE': 1296, 'LITTEKEN': 1297, 'PRATEN-J': 1298, 'DRAWR-1': 1299, 'MOVE-HC-1D': 1300, 'BOODSCHAPPEN-B': 1301, 'HOE-C': 1302, 'TOESPRAAK': 1303, 'SPIJT-A': 1304, 'PIJN-A': 1305, 'DRAW-1RC': 1306, 'WEER': 1307, 'MOVE-EC-1RC': 1308, 'BED-A': 1309, '50-A': 1310, 'DE': 1311, 'CI-D': 1312, 'BANG-C': 1313, 'AANDACHT-A': 1314, 'PLAATSNAAM': 1315, 'MOVE-HC-4C': 1316, 'KOPJE-A': 1317, 'GROEIEN': 1318, 'BIER-A': 1319, 'BIER-B': 1320, 'KOPEN-B': 1321, 'SPELEN-A': 1322, 'VRIJ-B': 1323, 'OP-E': 1324, 'ZUSTER-A': 1325, 'BE-HC-4C': 1326, '0-B': 1327, 'UITSLAG': 1328, 'MOETEN': 1329, 'MIDDAG-B': 1330, 'MORGEN-A': 1331, 'SCHRIJVEN-A': 1332, 'KLAAR-C': 1333, 'FAMILIE-C': 1334, 'MOORD-A': 1335, 'ROLSTOEL-B': 1336, 'DOKTER-B': 1337, 'ROLSTOEL-A': 1338, 'TASTEN-B': 1339, 'TELEVISIE-C': 1340, 'IN-E': 1341, 'ERG-E': 1342, 'GEHANDICAPT-E': 1343, 'BABY': 1344, 'WELKE-B': 1345, 'NEEF-A': 1346, 'KIND-B': 1347, 'HOOFDPIJN': 1348, 'KNIPPEREN': 1349, 'HANDEN-WRIJVEN-A': 1350, 'TWEE-ELKAAR': 1351, '15-C': 1352, '16-B': 1353, 'LOPEN-K': 1354, 'HOEVEEL': 1355, 'MOVE-CL-5RO': 1356, 'HAND-SCHUDDEN-B': 1357, 'HAND-SCHUDDEN-A': 1358, 'MINDER-C': 1359, 'BEGELEIDEN-B': 1360, 'VOETBALLEN-B': 1361, 'MILJOEN': 1362, 'BETALEN': 1363, 'SCHOUDERKLOPJE': 1364, 'MOVE-HC-4R': 1365, 'ZWETEN-A': 1366, 'GEBAREN-B': 1367, 'RICHTING': 1368, 'ERBIJ-C': 1369, 'AT-CL-4RO': 1370, 'AF-D': 1371, 'KATHOLIEK': 1372, 'OUD-C': 1373, 'DRINKEN-B': 1374, 'HAAS-A': 1375, 'JOOD': 1376, 'KEPPEL': 1377, 'ZON': 1378, 'HEET': 1379, 'BRAND': 1380, 'SOLDAAT-B': 1381, 'RUGZAK-A': 1382, 'REANIMEREN': 1383, 'HERFST': 1384, 'BOVEN': 1385, '30-A': 1386, '8-A': 1387, 'REGEN-C': 1388, 'ENZOVOORTS-D': 1389, 'BEWAREN-C': 1390, 'RESTAURANT': 1391, 'LEVEN-C': 1392, 'ROEPEN-C': 1393, 'ZIN-IN': 1394, 'VLAK': 1395, 'WORST-A': 1396, 'STAAN-F': 1397, 'PAUZE-A': 1398, 'VLEES-B': 1399, 'STAAN-H': 1400, 'WEGGAAN-B': 1401, 'AT-EC-2S': 1402, 'EN-A': 1403, 'BE-EC-4R': 1404, 'SCHREEUWEN-C': 1405, 'MAAT-E': 1406, 'BEER-D': 1407, 'ZENUWACHTIG-B': 1408, 'BOOM-C': 1409, 'LIGGEN-D': 1410, 'OPNEMEN-C': 1411, 'ECHT-C': 1412, 'OOK-D': 1413, 'BONZEN-A': 1414, 'ADEMEN-C': 1415, 'ADEM-INHOUDEN-B': 1416, 'OOG': 1417, 'ROLLEN-C': 1418, 'LIGGEN': 1419, 'OPSTAAN-B': 1420, 'WAT-D': 1421, 'GEBEUREN-C': 1422, 'BANG-D': 1423, 'VIA-A': 1424, 'ALS-D': 1425, 'UITADEMEN': 1426, 'TASTEN-A': 1427, 'NIKS-B': 1428, 'FRUSTRATIE': 1429, 'ZITTEN-C': 1430, 'MOVE-EC-0': 1431, 'IEDEREEN-C': 1432, 'MOETEN-B': 1433, 'TAFEL': 1434, 'EMOTIE-C': 1435, 'KOKEN-A': 1436, 'BOOS-C': 1437, 'STRAF-B': 1438, 'FOUT-A': 1439, 'BEZORGD': 1440, 'OUD-D': 1441, 'SLAAN-C': 1442, 'DOORGAAN-B': 1443, 'VERVELEN-C': 1444, 'LAKEN': 1445, 'GEVOLG': 1446, 'BE-EC-2R': 1447, 'PANIEK-B': 1448, 'GRAFSTEEN': 1449, 'VERSTOPPEN-C': 1450, 'GEEST': 1451, 'ALSOF-C': 1452, 'DUIZELIG': 1453, 'LACHEN-D': 1454, 'GRAPPIG-C': 1455, 'GRAPPIG-B': 1456, 'INTERNAAT-A': 1457, 'PUBER-B': 1458, 'GEK-B': 1459, 'GEWOON-A': 1460, 'STIK-A': 1461, 'ONTDEKKEN': 1462, 'ACHTER-B': 1463, 'GEHEIM-B': 1464, 'BOWLEN': 1465, 'POES-C': 1466, 'NADENKEN-B': 1467, 'AANPAKKEN': 1468, 'ACCORDEON': 1469, 'PIANO': 1470, 'KLEIN-F': 1471, 'HOEK-A': 1472, 'BANAAN-B': 1473, 'KLEREN-A': 1474, 'MUTS': 1475, 'LOPEN-F': 1476, 'VOGELKOOI-A': 1477, 'SLUIPEN': 1478, 'BUIS-A': 1479, 'REGEN-A': 1480, 'WONEN-A': 1481, 'STAAN-C': 1482, 'UITSCHELDEN': 1483, 'BEGRIJP-ER-NIKS-VAN': 1484, 'BUITEN-C': 1485, 'COLLECTEREN': 1486, 'EVEN-DENKEN-B': 1487, 'GRATIS-B': 1488, 'ACHTER-C': 1489, 'FLAUWVALLEN': 1490, 'OMA-B': 1491, 'BEHEERSEN': 1492, 'MOVE-HC-5RS': 1493, 'OMA-D': 1494, 'GEVAARLIJK': 1495, 'ZWAAR-A': 1496, 'LUI': 1497, 'PARKEREN-B': 1498, 'BLIND-D': 1499, 'GRATIS-A': 1500, '18-C': 1501, 'JAAR-C': 1502, 'NOOIT-C': 1503, 'GEBRUIKEN-E': 1504, 'SUBSIDIE-B': 1505, 'VEEL-C': 1506, 'RECHT-OP': 1507, 'MOVE-HC-4RO': 1508, 'BLIND-B': 1509, 'THUIS-B': 1510, 'RECHTVLAAMS': 1511, 'HELPEN-B': 1512, 'Q': 1513, 'BROEKZAK': 1514, 'MAART-C': 1515, 'UUR-C': 1516, 'EURO': 1517, 'KOMEN-D': 1518, 'STOM': 1519, 'KLEUR-C': 1520, 'IEMAND': 1521, 'DRAW-2S': 1522, 'AFHANKELIJK-B': 1523, 'LIJN-A': 1524, 'ERBUITEN-STAAN': 1525, 'SUBSIDIE-A': 1526, 'MANIER': 1527, 'VRIENDELIJK': 1528, 'LIJN-D': 1529, 'LIJN-C': 1530, 'BUS-A': 1531, 'BEGELEIDEN-DE-WEG': 1532, 'KUNNEN-NIET-B': 1533, 'DIENST': 1534, 'DOOF-D': 1535, 'VOORAAN': 1536, 'ZELFVERZEKERD': 1537, 'AUDYT': 1538, 'RESPECTEREN': 1539, 'NEGEREN': 1540, 'HEBBEN-C': 1541, 'DRAW-5S': 1542, 'THERAPIE-A': 1543, 'STEM-C': 1544, 'VERDELEN': 1545, 'REGELS-C': 1546, 'TELHAND-4-B': 1547, 'VRAAGTEKEN': 1548, 'PLOTSDOOF': 1549, 'WINNEN': 1550, 'SCHOOL-F': 1551, 'KIND-C': 1552, 'OEFENEN-B': 1553, 'DUBBEL-B': 1554, 'TE-LAAT-B': 1555, 'JONG-C': 1556, 'ONDERZOEKEN': 1557, 'PRATEN-G': 1558, 'MISLUKKEN': 1559, 'BEGINNEN-B': 1560, 'INKRIMPEN-A': 1561, 'GEBRUIKEN-C': 1562, 'SAMEN-2': 1563, 'ONSCHULDIG': 1564, 'WETEN-B': 1565, 'K': 1566, 'TE-LAAT-A': 1567, 'REKENING-HOUDEN-MET': 1568, 'SUCCES': 1569, 'IDENTITEITSCRISIS': 1570, 'ONDERDRUKKEN-A': 1571, 'SCHOONMAKEN': 1572, 'INJECTIE': 1573, 'CLUB-B': 1574, 'GESTICULEREN': 1575, 'BRUIN-B': 1576, 'GEZICHT-B': 1577, 'BRUIN-A': 1578, 'GAVE': 1579, 'IDENTITEIT': 1580, 'MARIONET': 1581, 'UUR-D': 1582, 'PER': 1583, 'LOGOPEDIE-B': 1584, 'AFKEUREN': 1585, 'SOMS-B': 1586, 'KLAGEN-B': 1587, 'CHEF-A': 1588, 'GEWOON-E': 1589, 'MAN-C': 1590, 'WONEN-D': 1591, 'ANTWOORD-B': 1592, 'AUTOMATISCH-C': 1593, 'VAN-C': 1594, 'TE-MAKEN-MET': 1595, 'MIMIEK': 1596, 'OKA': 1597, 'KLEIN-E': 1598, 'NEE-D': 1599, 'VOOR-B': 1600, 'PAPEGAAI': 1601, 'WEINIG-A': 1602, 'REMMEN-A': 1603, 'BE-EC-4CBODY': 1604, 'BEGELEIDEN-D': 1605, 'BE-EC-5BODY': 1606, 'WERKVLAAMS': 1607, 'ZORGEN-B': 1608, 'BE-EC-2': 1609, 'SAAI-C': 1610, 'GEVEN-C': 1611, 'REDDEN': 1612, 'SAAI': 1613, 'ANDERS-D': 1614, 'MUUR-A': 1615, 'BE-EC-4OBODY': 1616, 'WIE-E': 1617, 'SOMMIGE': 1618, 'VERKRACHTEN': 1619, '30-C': 1620, '50-C': 1621, '60-B': 1622, 'BEJAARD': 1623, 'DRUPPELEN': 1624, 'LIJDEN': 1625, 'PSYCHOLOGIE-A': 1626, 'INSTELLING': 1627, 'LAND-A': 1628, 'BELANG': 1629, 'SI': 1630, 'MOORD-B': 1631, '14-A': 1632, 'OOM': 1633, 'ELKE-B': 1634, 'ARM-B': 1635, 'BROER-F': 1636, 'LESGEVEN-B': 1637, 'VERPLICHTEN-B': 1638, 'DWINGEN': 1639, 'WINKELEN': 1640, 'MINDER-D': 1641, 'RESERVEREN': 1642, 'SAMEN-B': 1643, 'KASSA': 1644, '2-B': 1645, 'HANDELEN': 1646, 'DUIVEL': 1647, 'WANNEER': 1648, 'BESTELLEN-A': 1649, 'NOOD': 1650, 'WEGBRENGEN': 1651, 'KOUD-C': 1652, 'HOPEN-A': 1653, 'DRAW-5O': 1654, 'BH': 1655, 'OMROLLEN': 1656, 'AT-EC-1': 1657, 'ZWETEN-B': 1658, 'INGEWIKKELD': 1659, 'ZOMER-A': 1660, 'BENAUWD': 1661, 'OUDERS-C': 1662, 'ZIELIG': 1663, 'PARALLEL': 1664, 'BEHOUDEN': 1665, 'BESCHERMEN-A': 1666, 'ROBOT': 1667, 'OOK-B': 1668, 'DISCO-B': 1669, 'MISSCHIEN': 1670, 'LUXE-A': 1671, 'TEVREDEN-C': 1672, 'STIJF': 1673, 'OPLOSSEN-B': 1674, 'ZIEZO': 1675, 'ERBIJ-HOREN': 1676, 'DRINKEN-C': 1677, 'LIMBURG': 1678, 'NIJMEGEN-B': 1679, 'OSS': 1680, 'WEINIG-B': 1681, 'HEBBEN-D': 1682, 'BINNENKORT': 1683, 'WAAR-C': 1684, 'OORZAAK': 1685, 'OPSCHIETEN-A': 1686, 'OP-JE-TENEN-LOPEN': 1687, 'TEGENVALLEN': 1688, 'GEEN-IDEE': 1689, 'VAST': 1690, 'SEN': 1691, 'TEMPO': 1692, 'VOORAL': 1693, '1000-A': 1694, 'NEBAS': 1695, 'SLIM-B': 1696, 'REIZEN-C': 1697, 'JA-B': 1698, 'HALF-B': 1699, 'PECH-C': 1700, 'PT-D': 1701, 'TEGEN-DE-REGELS-IN': 1702, 'BRUTAAL-B': 1703, 'DIRECTEUR-B': 1704, 'STRAF-C': 1705, 'ONTSLAAN-B': 1706, 'AGENDAPUNT': 1707, '1000-B': 1708, '6-B': 1709, 'VLAAMS': 1710, 'DRAW-5RC': 1711, 'BIJLEREN': 1712, 'LAND-B': 1713, 'MEI-C': 1714, 'HASSELT': 1715, '7-A': 1716, 'GRAP-A': 1717, 'AFSPRAAK-F': 1718, 'STANDAARDISATIE-C': 1719, 'SYSTEEM': 1720, 'WET': 1721, 'STANDAARDISATIE-B': 1722, 'BELGIE-A': 1723, 'ERKENNEN-A': 1724, 'SLOT': 1725, 'IJZER': 1726, 'TIMMEREN': 1727, 'LASSEN-B': 1728, 'LASBRIL': 1729, 'EMMER': 1730, 'GRAVEN': 1731, 'BOER': 1732, 'VOGEL-B': 1733, 'DRAAIEN-B': 1734, 'LASSEN': 1735, 'BROOD-A': 1736, 'BED-B': 1737, 'WEEKEND-A': 1738, 'VRACHTWAGEN-A': 1739, 'MOTOR': 1740, 'LAWAAI': 1741, 'TELEVISIE-A': 1742, 'KWARTIER-A': 1743, 'INSLAPEN': 1744, 'IK-BEN-ER-VAN-AF': 1745, 'NIET-BIJZONDER': 1746, 'WEEK-2-A': 1747, 'MAAND-B': 1748, 'JARIG-A': 1749, 'BALIE-B': 1750, 'OVERKANT': 1751, 'SKIEN': 1752, 'EVEN-DENKEN-E': 1753, 'BOODSCHAPPEN-A': 1754, 'KAR': 1755, 'POKKEN': 1756, 'SLEUTEL': 1757, 'IK-WEET-HET-WEER': 1758, 'SPROETEN': 1759, 'PECH-B': 1760, 'BALEN-B': 1761, 'GRAPPIG': 1762, 'OMGEVING-A': 1763, 'HAASTIG': 1764, 'MOVE-EC-2RS': 1765, 'FLUISTEREN': 1766, 'SLIKKEN': 1767, 'MOVE-EC-2S': 1768, 'ADEMEN-D': 1769, 'LIKKEN': 1770, 'MOVE-EC-5C': 1771, 'APPLAUS-B': 1772, 'MERCEDES': 1773, 'RUZIE': 1774, 'INDRUKKEN-B': 1775, 'HAND-UP': 1776, 'ZAKEN': 1777, 'JAS-A': 1778, 'BARBECUE': 1779, 'LIJST-A': 1780, 'BLIKJE-OPENEN': 1781, 'OVERSTAPPEN': 1782, 'TAXI-B': 1783, 'GEK-D': 1784, 'SCHAKELEN': 1785, 'HUIDSKLEUR': 1786, 'ZELFDE-D': 1787, 'TEVEEL': 1788, 'VIEREN': 1789, 'VERDOMME-D': 1790, 'MCDONALDS-C': 1791, 'KLAAR-B': 1792, 'DE-DRAAD-KWIJT-ZIJN': 1793, 'OP-C': 1794, 'VERZAMELEN-B': 1795, 'SERVET': 1796, 'UITDELEN': 1797, 'SNEEUW-A': 1798, 'SNEEUW-B': 1799, 'KORT-SHIRT': 1800, 'SJAAL': 1801, 'MOVE-HC-1DMONEY': 1802, 'GODZIJDANK': 1803, 'LICHT-C': 1804, 'BERLIJN': 1805, 'INTOETSEN': 1806, 'BOOS-B': 1807, 'STEKKER': 1808, 'OVER-B': 1809, 'IJS-A': 1810, 'AT-EC-2': 1811, 'ITALIE': 1812, 'HAMBURG': 1813, 'BENZINE': 1814, 'VERDER-A': 1815, 'TURKIJE': 1816, 'AUREOOL': 1817, 'LAAT-A': 1818, 'POES-A': 1819, 'GEBOUW-C': 1820, 'VERREKIJKER': 1821, 'BE-HC-4RC': 1822, 'TEGENOVER': 1823, 'POES-B': 1824, 'BE-EC-4ROS': 1825, 'PARAPLU': 1826, 'BAL-A': 1827, 'DRAW-4ROS': 1828, 'MOVE-EC-1O1C': 1829, 'WEG-G': 1830, 'OVERKANT-B': 1831, 'VIOOL': 1832, 'BANAAN-A': 1833, 'AT-HC-0': 1834, 'MOVE-HC-4ROS': 1835, 'POES-D': 1836, 'AT-EC-4OS': 1837, 'OBER': 1838, 'BE-HC-1C': 1839, 'KOPJE-C': 1840, 'MOVE-HC-1C5': 1841, 'MOVE-HC-2RO': 1842, 'BE-HC-1RO': 1843, 'KOFFER': 1844, 'BE-HC-4RS': 1845, 'MOVE-HC-5R0': 1846, 'BE-HC-4R0': 1847, 'CONCIERGE': 1848, 'VAN': 1849, 'POST': 1850, 'VROUW-C': 1851, 'MEE-B': 1852, 'BE-EC-C': 1853, 'DOOS-B': 1854, 'HARD-A': 1855, 'RENNEN-D': 1856, 'KILO': 1857, 'OMLAAG': 1858, 'MOVE-EC-': 1859, 'MOVE-EC-4ARM': 1860, 'BE-EC-4ARM': 1861, 'OVEREIND-KOMEN': 1862, 'WAGGELEN-A': 1863, '500': 1864, 'BE-EC-1D': 1865, 'MOVE-EC-1ARM': 1866, 'TOUW-A': 1867, 'SLINGEREN': 1868, 'ELEKTRICITEIT-C': 1869, 'BALANCEREN': 1870, 'TRAM-B': 1871, 'TRAM-A': 1872, 'TEKENEN-B': 1873, 'SELF-TOUCH': 1874, 'GROEN': 1875, 'CONTACT-VERBREKEN': 1876, 'COMPLIMENT': 1877, 'BETUTTELEN-B': 1878, 'CRISIS': 1879, 'ZWAAR-B': 1880, 'BE-EC-0': 1881, 'BLIND-E': 1882, 'VINGERSPELLEN-HAND': 1883, 'AFSTAND-A': 1884, 'NORMAAL': 1885, 'GEWOON-B': 1886, 'VISIE': 1887, 'UUR-LANG-4-A': 1888, 'UUR-B': 1889, 'ELKE-A': 1890, 'MAXIMUM': 1891, 'GRIEZELIG': 1892, 'MALI': 1893, 'GHANA': 1894, 'SLAGTANDEN': 1895, 'IVOORKUST': 1896, 'INDRUK': 1897, 'LACHEN-E': 1898, 'BOOM-B': 1899, 'ZAND-A': 1900, 'GROEP-B': 1901, 'ZAK': 1902, 'WALGELIJK-B': 1903, 'BUS-C': 1904, 'BEDELEN': 1905, 'BE-HC-4O': 1906, 'BE-HC-5': 1907, 'WIND': 1908, 'AFSPRAAK-E': 1909, 'HOE-A': 1910, 'MOSLIM': 1911, 'HOTEL-B': 1912, 'DOOD-B': 1913, 'KOKEN-B': 1914, 'RUPS': 1915, 'VERDWIJNEN-A': 1916, 'WATER-KOKEN': 1917, 'DOOR-ELKAAR-C': 1918, 'PIJN-B': 1919, 'BF': 1920, 'BURKINAFASO': 1921, 'AFRIKA-A': 1922, 'HUIDSKLEUR-BRUIN': 1923, 'HUID-A': 1924, 'HOOFD-A': 1925, 'STAD-A': 1926, 'OUAGADOUGOU': 1927, 'OUDADODUL': 1928, 'BOBO': 1929, 'KOPEN-A': 1930, 'ZWART-B': 1931, 'ALIZETA': 1932, 'VERBAASD-B': 1933, 'GOEDKOOP-B': 1934, 'GOEDKOOP-A': 1935, 'WALGELIJK-A': 1936, 'KOEK-A': 1937, 'KRIJGEN-C': 1938, 'AT-EC-1RC': 1939, 'KLOOTZAK': 1940, 'GRAPPIG-D': 1941, 'PROEVEN-A': 1942, 'ONGELUK-A': 1943, 'AT-EC-4': 1944, 'SCHOEN-B': 1945, 'MOVE-EC-5RO': 1946, 'O-JEE': 1947, 'PRINCIPE': 1948, 'VERVOER': 1949, 'KRUKKEN': 1950, 'GELUK-A': 1951, 'BOUWEN': 1952, 'BAKKEN-A': 1953, 'MOVE-1R': 1954, 'MOVE-EC-1R': 1955, 'VROUW-B': 1956, 'STAD-B': 1957, 'PROBEREN-B': 1958, 'KNIE': 1959, 'KNIE-KRAAKT-MEE': 1960, 'TIJD-VLIEGT': 1961, 'EX-B': 1962, 'RUGZAK-B': 1963, 'VOUWEN': 1964, 'MOVE-EC-4R': 1965, 'ONGELUK-B': 1966, 'AT-EC-4ROS': 1967, 'BE-EC-1R': 1968, 'VRIEZEN': 1969, 'LAPTOP': 1970, 'EX': 1971, 'SCHREEUWEN-B': 1972, 'PIJN-D': 1973, 'BESTELLEN-C': 1974, 'LUISTEREN-NIET-A': 1975, 'BLAUW': 1976, 'WEEK-3-B': 1977, 'KORT-BROEK': 1978, 'TRUI': 1979, 'RITS': 1980, 'KOUD-B': 1981, 'SEPTEMBER-A': 1982, 'WARM-A': 1983, 'SPIEREN': 1984, 'HUILEN-B': 1985, 'SPO': 1986, 'LANGE-MOUW': 1987, 'OKTOBER-B': 1988, 'LOGEREN-B': 1989, 'OPA-A': 1990, 'OMA-C': 1991, 'AFHANKELIJK-D': 1992, 'MAKEN-B': 1993, 'LAND-PL': 1994, 'MARTHA-VINEYARD': 1995, 'GELIJK-NIVEAU': 1996, 'BRAILLE': 1997, 'TONEEL': 1998, 'WAARDEN': 1999, 'VIDEO-A': 2000, 'WIE-C': 2001, 'MEDISCH': 2002, 'VRAGENPT': 2003, 'GALLAUDET': 2004, 'UNIVERSITEIT': 2005, 'ASL': 2006, 'STEM-B': 2007, 'MARTHA': 2008, 'VINEYARD': 2009, 'NIET-AAN-GEDACHT': 2010, 'BEWUST': 2011, 'BRAIL': 2012, 'RAAD': 2013, 'ARGUMENT': 2014, 'BREED': 2015, 'PERSOON-A-PL': 2016, 'DOOF-E': 2017, 'AFTASTEN': 2018, 'FEEST-A': 2019, 'PROTEST-A': 2020, 'DRAW\\\\R-4': 2021, 'DRAWR-4': 2022, 'LIFT-B': 2023, 'DUS-B': 2024, 'ZUS-E': 2025, 'WIE-B': 2026, 'JARIG-B': 2027, 'UUR-LANG-1': 2028, 'VOORZIENINGEN': 2029, 'TRAP': 2030, 'GEZOND-B': 2031, 'WONDER': 2032, 'FEIT': 2033, 'KOKEN-C': 2034, 'MOVE-EC-5ROS': 2035, 'SPONTAAN': 2036, 'SLECHTHOREND': 2037, 'AFSTAND-B': 2038, 'KOMMA': 2039, 'VERSPREIDEN-A': 2040, 'FALEN': 2041, '0-A': 2042, 'OPZIJ': 2043, 'UIT-ELKAAR-VALLEN': 2044, 'WERVEN': 2045, 'STRESS': 2046, 'FOCUS': 2047, 'VERZAMELEN-C': 2048, 'MEDICIJN-B': 2049, 'G': 2050, 'NMG': 2051, 'EEN-OP-EEN': 2052, 'VERGADERING': 2053, 'TOENEMEN': 2054, 'STIMULEREN': 2055, 'UITHOREN': 2056, 'OUDERS-A': 2057, 'PROBEREN-C': 2058, 'ALVAST': 2059, 'GNT': 2060, 'TIJDLIJN': 2061, 'WINKELEN-B': 2062, 'DINGEN-DOEN': 2063, 'KLEREN-C': 2064, 'AANKLEDEN-D': 2065, 'UUR-LANG-3-B': 2066, 'WEEK-1-A': 2067, 'GRAMMATICA': 2068, 'INDIVIDUEEL': 2069, 'MCDONALDS-B': 2070, 'TANTE-A': 2071, 'OOM-A': 2072, 'VAK': 2073, 'KOPJE-B': 2074, 'PRAKTIJK': 2075, 'VOORKEUR': 2076, 'ERG-C': 2077, 'SPELEN-C': 2078, 'TEGENSTRIJDIG': 2079, 'PEUTER': 2080, 'SO': 2081, 'OO': 2082, 'ETHISCH': 2083, 'KNUTSELEN': 2084, 'DNA': 2085, 'OORLOG-A': 2086, 'HOMO-A': 2087, 'GLAD': 2088, 'VIA-B': 2089, 'AF-C': 2090, 'OFFICIEEL': 2091, 'VERMORZELEN': 2092, 'POLITIEK-A': 2093, 'LINGUISTIEK': 2094, 'VERBERGEN': 2095, 'TEGEN-AAN-LOPEN-B': 2096, 'LEZING': 2097, 'GENERATIE-A': 2098, 'ETHISH': 2099, 'TOEVOEGEN': 2100, 'ARM-A': 2101, 'ADOLF-HITLER': 2102, 'BLOND': 2103, 'ZWAKBEGAAFD-B': 2104, 'TIP-A': 2105, 'WEG-F': 2106, 'ABWZ': 2107, 'GOD': 2108, 'WFD': 2109, 'EUD': 2110, 'MADRID': 2111, 'EMBRYO': 2112, 'BIOETHICS': 2113, 'NUMMER-C': 2114, 'NUMMER-A': 2115, 'ERGENS-A': 2116, 'BAARMOEDER': 2117, 'BUIK-B': 2118, 'ZOMAAR': 2119, 'AT-EC-4R': 2120, 'SPIJT-B': 2121, 'REGERING-C': 2122, 'GEZOND-A': 2123, 'NATUUR-B': 2124, 'LUKKEN-NIET-B': 2125, 'GRAP-B': 2126, 'CHRISTELIJK': 2127, 'IIVF': 2128, 'SPERMA': 2129, 'ERGENS-B': 2130, 'EVALUATIE': 2131, 'WINTER': 2132, 'ABORTUS-B': 2133, 'ZO-B': 2134, 'MIMIEK-B': 2135, 'VISSEN': 2136, 'ONDERWERP-C': 2137, 'DIRECTEUR-A': 2138, 'ZWEDEN': 2139, 'STERK-B': 2140, 'BEGELEIDEN-C': 2141, 'MENING-B': 2142, 'WETEN-NIET': 2143, 'HIER': 2144, 'ROUTE-B': 2145, 'HER-EN-DER': 2146, 'ECHT': 2147, '90-A': 2148, 'BLOEIEN': 2149, 'VERLIEFD-C': 2150, 'BROER-E': 2151, 'VOORKOMEN': 2152, 'BOOT': 2153, 'HOUVAST': 2154, 'DOORGEVEN-B': 2155, 'KIJKEN-C': 2156, 'PLANT': 2157, 'HART-A': 2158, 'HART-C': 2159, 'DAN-C': 2160, 'BIJVOORBEELD': 2161, 'RUG': 2162, 'WATER-B': 2163, 'KORT': 2164, 'TELHAND-6-A': 2165, 'GEDRAG': 2166, 'OVERPLAATSEN': 2167, 'AFPAKKEN': 2168, 'CI-B': 2169, 'KWALITEIT': 2170, 'VANUIT': 2171, 'BETUTTELEN': 2172, 'AANVALLEN-TEAMS': 2173, 'POSITIEF': 2174, 'BESCHERMEN-B': 2175, 'GESCHIEDENIS-B': 2176, 'JEZUS': 2177, 'DAK': 2178, 'SERIEUS': 2179, 'BSL': 2180, 'ADDA': 2181, 'PATERNALISME': 2182, 'EMPOWERMENT': 2183, 'BEHANDELEN': 2184, 'AANVALLEN': 2185, 'IHP': 2186, 'KIJKEN-B': 2187, 'INTERNET-A': 2188, 'VOORUITGANG': 2189, 'VERANTWOORDELIJK': 2190, 'VOETBALLEN-A': 2191, 'PARTY-B': 2192, 'PARTY-A': 2193, 'HIPPIE-A': 2194, 'UITWISSELEN-B': 2195, 'ELEKTRICITEIT-A': 2196, 'GYMNASTIEK': 2197, 'VANAF': 2198, 'LAN': 2199, 'SUB': 2200, 'HIPPIE-B': 2201, 'OPSCHEPPEN-A': 2202, 'ELITE': 2203, 'EL': 2204, 'TENNIS': 2205, 'NINTENDO': 2206, 'CHATTEN': 2207, 'TIJD-D': 2208, 'OMGAAN': 2209, 'FITNESS-A': 2210, 'STEPPEN': 2211, 'JUDO': 2212, 'VOLLEYBAL': 2213, 'NINEN': 2214, 'LBO': 2215, 'MBO': 2216, 'HBO': 2217, 'PUBER-A': 2218, 'OMGAAN-B': 2219, 'LAY': 2220, 'WIE-D': 2221, 'LATER-B': 2222, 'GROOT-C': 2223, 'DOM-B': 2224, 'SUKKEL-A': 2225, 'VRACHTWAGEN-B': 2226, 'GARAGE-A': 2227, 'DRAW-5CS': 2228, 'VERHEUGEN': 2229, 'BRUG-B': 2230, 'BE-EC-5RS': 2231, 'WAT-IS-DAT': 2232, 'SLAGER-B': 2233, 'VIT': 2234, 'KANS-GRIJPEN': 2235, 'MOVE-EC': 2236, 'HEBBEN-B': 2237, 'SPIEGL': 2238, 'VERDRINKEN-B': 2239, 'SNEL-E': 2240, 'HONGER-B': 2241, 'HAASTIG-B': 2242, 'PAUZE-B': 2243, 'MOVE-HC-5RO': 2244, 'DRAW-5RO': 2245, 'IN-F': 2246, 'BOTER-A': 2247, 'VINGER-OPSTEKEN': 2248, 'LINIAAL-B': 2249, '7-B': 2250, 'NAAIEN-A': 2251, 'VERBAASD-C': 2252, 'ONTSLAAN-A': 2253, 'KLAS': 2254, 'LOKAAL': 2255, 'LINIAAL': 2256, 'BLOED': 2257, 'WOND': 2258, 'TIME-OUT': 2259, 'JAMMER-C': 2260, 'WDD': 2261, 'FEEST-D': 2262, 'BORD-B': 2263, 'BE-EC-1RC': 2264, 'MOVE-EC-3': 2265, 'TOCH-C': 2266, 'MOVE-HC-50': 2267, 'RECHT': 2268, 'GEZICHT-C': 2269, 'VALLEN-B': 2270, 'VALLEN-C': 2271, 'WRIJVEN': 2272, 'OPZWELLEN': 2273, 'BULT-B': 2274, 'PLEISTER-A': 2275, 'DAME': 2276, 'KOPPIG': 2277, 'BE-HC-5S': 2278, 'VERTROUWEN': 2279, 'BE-CL-0': 2280, 'MOVE-HC-2RC': 2281, 'TRAAG': 2282, 'AANKLEDEN-C': 2283, 'WACHTEN-B': 2284, 'AFSPRAAK-G': 2285, 'OMARMEN': 2286, 'BALIE': 2287, 'SOK': 2288, 'SNEL-C': 2289, 'FOTO': 2290, 'MOVE-HC-1O': 2291, 'RING': 2292, 'PAKKEN': 2293, 'STOEL': 2294, 'OPSTAAN': 2295, 'IN-GEDACHTEN-PRATEN': 2296, 'DRAW-5S5C': 2297, 'SNOR-A': 2298, 'BAARD-A': 2299, 'BAARD-B': 2300, 'ZWART-A': 2301, 'WW': 2302, 'KLOK-B': 2303, 'MOVE-HC-4O': 2304, '12-B': 2305, 'HARD-B': 2306, 'VALLEN-A': 2307, 'BYKM': 2308, 'MOPPEREN-A': 2309, 'VEILIG': 2310, 'DRONKEN': 2311, 'DRAW-2': 2312, 'SNEL': 2313, 'WISUM': 2314, 'WAT': 2315, 'US': 2316, 'WI': 2317, 'PY': 2318, 'SNE': 2319, 'EHBO': 2320, 'EBO': 2321, 'DNG': 2322, 'KHS': 2323, 'JO': 2324, 'WIN': 2325, 'OOKVALLN': 2326, 'WINSUM': 2327, 'ZHS': 2328, 'HENNIE': 2329, 'VERDOMME-A': 2330, 'BRIEF-B': 2331, 'KEBJ': 2332, 'BALI': 2333, 'BUITEN': 2334, '4-ORD': 2335, 'JA': 2336, 'PIJN-C': 2337, 'MORGEN-B': 2338, 'ZKHS': 2339, 'TEN': 2340, 'MOVE-HC-05': 2341, 'PIJN': 2342, 'RU': 2343, 'GEKNEUS': 2344, 'BESTEL': 2345, 'BERL': 2346, 'DRAW-5-RS': 2347, '14-B': 2348, 'WEKE': 2349, 'WWD': 2350, 'MEEDOEN': 2351, 'WEGLOPEN': 2352, 'ZITTEN-D': 2353, 'AANRANDEN': 2354, 'VOORBIJGAAN': 2355, 'EXTERN': 2356, 'WONEN-C': 2357, 'KLOPT-F': 2358, 'LEKKER-C': 2359, 'MIS-C': 2360, 'SOM': 2361, 'ZWEEP': 2362, 'ZWAARD': 2363, 'LATER-D': 2364, 'ALY': 2365, 'BOODSCHAPPEN-C': 2366, 'GOED-C': 2367, 'DROP': 2368, 'BETRAPT': 2369, 'KONING': 2370, 'SPORT-B': 2371, 'AFSCHEIDEN': 2372, 'PLAATSEN': 2373, 'GEBAREN-D': 2374, 'WERKEN-B': 2375, 'NEDERLAND-C': 2376, '19-B': 2377, '26': 2378, '80-B': 2379, 'WAT-E': 2380, 'BEGINNEN-C': 2381, 'EN': 2382, 'EENS': 2383, 'AARDIG': 2384, 'RECHTSTREEKS': 2385, 'HOEFT-NIET-B': 2386, 'BEWAREN-A': 2387, 'KOPTELEFOON': 2388, 'GEHOORAPPARAAT-C': 2389, 'GELUIDSGOLVEN': 2390, 'AUDIOLOGIE': 2391, 'PLAGEN-B': 2392, 'ENE-KANT-ANDERE-KANT-B': 2393, 'PROCENT-B': 2394, 'WORDEN': 2395, 'ROND': 2396, 'AUDIOLIGIE': 2397, 'LEERLING': 2398, 'MICROFOON': 2399, 'LS': 2400, 'VERLENGSTUK': 2401, 'VERDOMME-B': 2402, 'ENTHOUSIAST': 2403, 'GT': 2404, 'HOORRESTN': 2405, 'DRAW-1O1O': 2406, 'DRAW-1OO': 2407, 'RESTEN': 2408, 'WAAR-B': 2409, 'SH': 2410, 'ALS': 2411, 'PYN': 2412, 'VOO': 2413, '90-B': 2414, '70-C': 2415, 'HOOP': 2416, 'VAN-SCHOOL-AF': 2417, 'GK': 2418, 'TORBEK': 2419, 'KORBEEK': 2420, 'ABTS': 2421, 'NS': 2422, 'LIEFDEHEBBEN': 2423, 'ENG': 2424, 'PRETTIG': 2425, 'INRTN': 2426, 'INST': 2427, 'EIGENWIJS': 2428, 'AT-CL-5R': 2429, 'AT-HC-0C': 2430, 'WEET-IK-VEEL': 2431, 'ZUS-F': 2432, 'JONG-B': 2433, 'JAAR-D': 2434, 'LOOS': 2435, 'EFRL': 2436, 'EEN': 2437, 'GEHANDICAPT-D': 2438, 'VOETSTAPPEN': 2439, 'ONDERWERP-D': 2440, 'TGLS': 2441, 'VRY': 2442, 'EVEN-DENKEN-G': 2443, 'DEEL': 2444, 'GOLF': 2445, 'SLAK': 2446, 'HAAS-B': 2447, 'SCHILDPAD-C': 2448, 'LIJN-B': 2449, 'SCHAAP-A': 2450, 'GRAS-A': 2451, 'WOLF-A': 2452, 'TOT-C': 2453, 'KOM-OP': 2454, 'HERINNEREN-C': 2455, 'DROOG-B': 2456, 'LES': 2457, 'REGEN-B': 2458, 'AS': 2459, 'SCHAKELEN-A': 2460, 'PORTIER': 2461, 'GLAS': 2462, 'STEL-NIKS-VOOR': 2463, 'KLANT': 2464, 'SNIJN': 2465, 'OLIE': 2466, 'VRIJDAG-A': 2467, 'GARAGE-C': 2468, 'SCHILDEREN-A': 2469, 'BOOS-D': 2470, 'DROOG-C': 2471, 'AVONTUUR': 2472, 'VRIJEN': 2473, 'VOZEN': 2474, '15-B': 2475, 'SLOTRTEREN': 2476, 'CL': 2477, 'EIND-SCENE': 2478, 'BEGIN-SCENE': 2479, 'DRAVEN-A': 2480, 'VANZELF': 2481, 'TEGENOVER-B': 2482, 'TWEETY-A': 2483, 'BE-EC-4OS': 2484, 'MOVE-EC-4RC': 2485, 'MOVE-EC-4ROS': 2486, 'DOEK': 2487, 'MOVE-HC-S': 2488, 'METEN': 2489, 'VERREKIJKER-B': 2490, 'BE-CL-4RC': 2491, 'BE-CL-4': 2492, 'DAN': 2493, 'OP-TENEN-LOPEN': 2494, 'MOVE-EC-1DOT': 2495, 'LOPEN-L': 2496, 'STOOMFLUIT': 2497, 'APART-D': 2498, 'ONTSTEKING-A': 2499, 'SLATR': 2500, 'WASSEN-A': 2501, 'ZO-LATEN': 2502, 'WEETIKNIETVEEL': 2503, 'CHINA': 2504, 'DRAW-PT': 2505, 'NICK': 2506, 'MOVE-HC-4O5': 2507, 'PAPIER': 2508, 'TERUGDEINZEN': 2509, 'BORSTEN': 2510, 'DAL': 2511, 'MOORD-C': 2512, 'DS': 2513, 'TEVREDEN-D': 2514, 'IV': 2515, 'MOVE-EC-1RO': 2516, 'PECH': 2517, 'TWEEEN-B': 2518, 'MINDER-B': 2519, 'OUDSTE-B': 2520, 'GROEP-D': 2521, '40-A': 2522, 'MSN-A': 2523, 'WEBCAM': 2524, 'INKRIMPEN-B': 2525, 'BUITEN-D': 2526, 'VERSLAAFD': 2527, 'KNIKKER': 2528, 'BE-CL-5ROS': 2529, 'MOVE-CL-CSPR': 2530, 'KLOPT-E': 2531, 'WEDSTRIJD': 2532, 'PUZZEL': 2533, 'FRIESLAND-B': 2534, 'SCHAAP-C': 2535, 'NEDERLAND-B': 2536, '17-B': 2537, 'SOOS': 2538, 'STAPEL-B': 2539, 'STAPEL-BPO': 2540, 'STREEP': 2541, 'WEST': 2542, 'BRAAF': 2543, 'MOVE-HC-2': 2544, 'ZUID': 2545, 'NEUKEN': 2546, 'EVEN-DENKEN-F': 2547, 'NL': 2548, 'CHIPS': 2549, 'CHIP': 2550, 'VERNIEUWEN': 2551, 'CHYS': 2552, 'USB': 2553, 'BEZOEK-B': 2554, 'CHIPS-B': 2555, 'CHIPS-C': 2556, 'SENS': 2557, 'NETJES': 2558, 'USB-STICK': 2559, 'TELEFOON-C': 2560, 'KLEUR-B': 2561, 'KLEUR-D': 2562, 'PAARS': 2563, 'KLEUR-A': 2564, 'DORST': 2565, 'VERWARD-B': 2566, 'AAN': 2567, 'DREIGEN': 2568, 'OPGEVEN-B': 2569, 'BONZEN-B': 2570, 'SCHOPPEN': 2571, 'HERINNEREN-A': 2572, 'WEDDEN': 2573, 'MAAT-D': 2574, 'HAAS-C': 2575, 'SCHILDPAD-A': 2576, 'FEEST-C': 2577, 'ONTSPANNEN-C': 2578, 'SCHEERGEL': 2579, 'SINAASAPPEL': 2580, 'ORANJE-E': 2581, 'TROBEL': 2582, 'STIK-B': 2583, 'GEHAKT': 2584, 'MOVE-HC-1': 2585, 'AT-EC-1C': 2586, 'SPUGEN': 2587, 'AT-EC-4RC': 2588, 'KARNEMELK': 2589, 'ZEEP': 2590, 'PATAT': 2591, 'BORD-A': 2592, 'BE-HC-4': 2593, 'FLES': 2594, 'INHOUDEN': 2595, 'PLAGEN-C': 2596, 'BLUF': 2597, 'DOUCHEN': 2598, 'CONCURRENTIE': 2599, 'UITDAGEN-A': 2600, 'WATER-D': 2601, 'MEER': 2602, 'ME': 2603, 'OPSTOKEN': 2604, 'BESTAAN-B': 2605, 'MODDER': 2606, 'HERINNEREN-D': 2607, 'LC': 2608, 'RUGBY': 2609, 'VIES-B': 2610, 'HG': 2611, 'RUB': 2612, 'RUBY': 2613, 'BEGIN-SCENE-B': 2614, 'MOVE-HC-4RO4RC': 2615, 'OVER-D': 2616, 'APPARTEMENT-A': 2617, 'MOVE-HC-4RO5R': 2618, 'ROLLEN-B': 2619, 'AFVAL': 2620, 'LIFT-A': 2621, 'KOOI': 2622, 'TWEETY': 2623, 'SYLETER': 2624, 'AT-EC-4RO': 2625, 'APPARTEMENT': 2626, 'DRAWR-4R': 2627, 'BAL-B': 2628, 'MOVE-HC-4RO4OS': 2629, 'DRAW-4OS': 2630, 'BE-CL-4RO': 2631, 'BALIE-A': 2632, 'HOTEL-C': 2633, 'DRUKTE': 2634, 'MOVE-HC-4ROS0': 2635, 'MOVE-4RC4ROS': 2636, 'TELEFOON-OPNEMEN': 2637, 'MOVE-EC-2DW': 2638, 'DAN-D': 2639, 'ASSISTENT': 2640, 'MOVE-HC-04O': 2641, 'LIFT-C': 2642, 'GECOMPLICEERD': 2643, 'DRAWR-1C': 2644, 'HOUT': 2645, 'TEKENEN-A': 2646, 'OPNIEUW-B': 2647, 'KOORD': 2648, 'KLEP': 2649, 'COOL': 2650, 'ONZIN-C': 2651, 'BAKKEVEEN': 2652, 'STANDAARD-A': 2653, 'SPANJE': 2654, 'IJS-B': 2655, 'OVERHEID': 2656, 'ACCENT': 2657, 'ON': 2658, 'ROLNEMEN': 2659, 'AUTOMATISCH-A': 2660, 'BESLUITEN-C': 2661, 'TOT-NU-TOE': 2662, 'FRIESLAND-A': 2663, 'MOGEN-B': 2664, 'DIALECT': 2665, 'BELEID': 2666, 'RIJK-A': 2667, 'DOORGEVEN-C': 2668, 'INTERNET-C': 2669, 'INTERNET-B': 2670, 'SURFEN-B': 2671, 'SURFEN-C': 2672, 'SYNONIEM': 2673, 'DENEMARKEN': 2674, 'PAPA-B': 2675, 'TE': 2676, 'WOENSDAG-A': 2677, 'DINSDAG-A': 2678, 'TEKST-A': 2679, 'REGELMATIG-B': 2680, 'SYNONIEN': 2681, 'OLIFANTENHUID': 2682, '0-C': 2683, 'BE-EC-2S': 2684, 'DOORBIJTEN': 2685, 'SNUFFELEN-A': 2686, 'DRAW-2DW': 2687, 'MOVE-HC-5O0': 2688, 'MOVE-HC-4RC5R': 2689, 'LOPEN-H': 2690, 'SNEL-D': 2691, 'BIJEENDRIJVEN': 2692, 'PLAGEN-E': 2693, 'GRIJS-B': 2694, 'HERDER': 2695, 'VERVELEN-B': 2696, 'GRAZEN': 2697, 'BLATEN': 2698, 'WOLF-C': 2699, 'AT-EC-2WP': 2700, 'TRACTOR': 2701, 'KEEPER': 2702, 'BE-EC-2WP': 2703, 'MOVE-EC-4S': 2704, 'TUIN-A': 2705, 'FREDERIK': 2706, 'UBELS': 2707, 'ORANJE-D': 2708, 'E-EC-1': 2709, 'SCHIETEN-D': 2710, 'HE': 2711, 'KAMP-B': 2712, 'ALSOF-B': 2713, 'JAMMER-D': 2714, 'THRILLER': 2715, 'LAMP': 2716, 'TACKLE': 2717, 'WISSELEN': 2718, 'LID': 2719, 'RECHTS': 2720, 'MOVE-EC-1D': 2721, 'MAGER-C': 2722, 'SCHEIDSRECHTER': 2723, 'KB': 2724, 'OPA-C': 2725, 'REMMEN-B': 2726, 'RIJLES': 2727, 'OMA-A': 2728, 'SCHOMMELEN': 2729, 'SYLVESTER-A': 2730, 'DUIKEN': 2731, 'MET': 2732, 'FOEI': 2733, 'SYLVESTR': 2734, 'GROETEN': 2735, 'ZWAAIEN-A': 2736, 'DRAAIORGEL-B': 2737, 'BANAAN-C': 2738, 'MOVE-HC-4O4C': 2739, 'BE-CL-4C': 2740, 'ORGEL': 2741, 'HOED-B': 2742, 'PICOLLO': 2743, 'DRAAIORGEL': 2744, 'ZWAAIEN-B': 2745, 'MOVE-HC-4OS': 2746, 'MOVE-HC-4O0': 2747, 'FITNESS-C': 2748, 'MOVE-HC-4OS4C': 2749, 'PLANK': 2750, 'AT-EC-4ARM': 2751, 'MOVE-HC-4OS0': 2752, 'OLYMPISCH': 2753, 'DESKUNDIG-C': 2754, 'PARA': 2755, 'HDCP': 2756, 'MISHANDELEN': 2757, 'UITEN': 2758, 'EENZAAM': 2759, 'TALEN': 2760, 'KK': 2761, 'ONZIN-A': 2762, 'STEM-UIT': 2763, 'EMOTIE-A': 2764, 'ACHTERUITGANG': 2765, 'WOORDVOLGORDE': 2766, 'SPITS': 2767, 'METRO-C': 2768, 'ER': 2769, 'VOLGORDE': 2770, 'MOVE-EC-1O': 2771, 'BORD-C': 2772, 'TAAK': 2773, 'TOEPASSEN': 2774, 'MIDDEN-B': 2775, 'OPDRACHT': 2776, 'VAKN': 2777, 'BEEN-A': 2778, 'HEID': 2779, 'LIP': 2780, 'BENEN': 2781, 'BEVRUCHTEN': 2782, 'SPASTISCH': 2783, 'RECLAME-A': 2784, 'WAS': 2785, 'ZUS-A': 2786, 'ONDERHOUDEN-A': 2787, 'PRIVE': 2788, 'SOLIDAIR': 2789, 'DEMOCRATIE': 2790, 'HOOGEVEEN': 2791, 'STIJL-A': 2792, 'TROTS': 2793, 'AANDACHT-C': 2794, 'GENERATIE-B': 2795, '30-B': 2796, '40-B': 2797, '50-B': 2798, 'EER': 2799, 'NPBG': 2800, 'UITWISSELEN-D': 2801, 'CONTEXT': 2802, 'VREEMD-E': 2803, 'REKENEN-A': 2804, '40-C': 2805, 'NG': 2806, 'AT-HC-5S': 2807, 'SYNONIEMEN': 2808, 'OPA-B': 2809, 'TERUG-B': 2810, 'EMYTOLOGIE': 2811, 'MSN-B': 2812, 'VLINDER': 2813, 'NURNBERG': 2814, 'VISICOM-B': 2815, 'HELM': 2816, 'UITWISSELEN-E': 2817, 'WERELD-C': 2818, 'ICQ': 2819, 'LIJST-B': 2820, 'VISICOM-A': 2821, 'DUITSLAND-B': 2822, 'PORTUGAL-A': 2823, 'INTERNET-D': 2824, 'MERK': 2825, 'BE-EC-1O': 2826, 'AMSTEL-A': 2827, 'AMSTEL-B': 2828, 'GROLSCH': 2829, 'WS': 2830, 'SLOVENIE': 2831, 'HEINEKEN-B': 2832, 'HEINEKEN-A': 2833, 'STER': 2834, 'ASTEL': 2835, 'DUITSLAND-C': 2836, 'PORTUGAL-B': 2837, 'EUROPA-A': 2838, 'MAKKIE': 2839, 'JUFFROUW': 2840, 'ZAND-B': 2841, 'ALTO': 2842, 'CENTRUM-B': 2843, 'BUNNIK': 2844, 'BAKKEN-B': 2845, 'SSWIFT': 2846, 'LENEN-A': 2847, 'RECHTER': 2848, 'HNK': 2849, 'MR': 2850, 'PAARD-A': 2851, 'ISIS': 2852, 'WASSEN-D': 2853, 'ALLERGIE': 2854, 'ZALF': 2855, 'PRIKKEN': 2856, 'OVERDREVEN-DEFTIG': 2857, 'SMEREN': 2858, 'MOVE-EC-1M': 2859, 'MOVE-HC-5RC': 2860, 'STIJVE-HAND': 2861, 'MOVE-HC-5S': 2862, 'DRAW-4S': 2863, 'MOVE-HC-44O': 2864, 'BE-AT-EC-4RO': 2865, 'DRAVEN': 2866, 'BE-EC-2DW': 2867, 'PANIEK-D': 2868, 'DEUR-B': 2869, 'EHM': 2870, 'BUIS-B': 2871, 'FANTASEREN': 2872, 'KLIMMEN-F': 2873, 'MOVE-HC-4ROS5': 2874, 'BOTSING': 2875, 'MOVE-EC-4ROS1': 2876, 'ZWABBEREN': 2877, 'TROMMEL': 2878, 'STAAN-E': 2879, 'ALSOF-D': 2880, 'MOVE-HC-1O1RC': 2881, 'OMHOOG': 2882, 'TELEFOON-OPHANGEN': 2883, 'MOVE-HC-2T': 2884, 'JOEPIE': 2885, 'AFSPRAAK-B': 2886, 'WIP': 2887, 'HALEN-B': 2888, 'DRAW-4C': 2889, 'MOVE-HC-4OS4O': 2890, 'KIJKENALSVOGEL': 2891, 'RONDKIJKENALSVOGEL': 2892, 'HANDENINDEZIJ': 2893, 'STAAN-G': 2894, 'KLIMMEN-B': 2895, 'SCHOK': 2896, 'HANDOPTEKENTAFEL': 2897, 'VERWARD-C': 2898, 'KOPIEREN': 2899, 'REGERING-D': 2900, 'KANKER': 2901, 'AIDS': 2902, 'STABOL-B': 2903, 'STOK-B': 2904, 'POLITIE-B': 2905, 'PAD': 2906, 'AT-EC-1RO': 2907, 'GEBAREN-E': 2908, 'WURGEN': 2909, 'SCHIETEN-A': 2910, 'PROFESSIONEEL': 2911, 'DRAWR-4RO': 2912, 'TELEVISIE-D': 2913, 'EXTRA-B': 2914, 'MOVE-EC-4ROROS': 2915, 'PSYCHOLOGIE-B': 2916, 'SPLEETOOG': 2917, 'DRAW-2RS': 2918, 'CURSUS-B': 2919, 'VOORUIT': 2920, 'PISTOOL': 2921, 'MOVE-EC-4RO4ROS': 2922, 'WOKKEL-A': 2923, 'GAMMA': 2924, 'PRAXIS': 2925, 'PRAIS': 2926, 'HEFTRUCK': 2927, 'GPALAT': 2928, 'PRAX': 2929, 'KARWEI': 2930, 'SNOEP-A': 2931, 'WOKE': 2932, 'WOKKEL-B': 2933, 'HAKA': 2934, 'HAMKA': 2935, 'SEKS': 2936, 'SEKSUOLOOG': 2937, 'ROOSTER': 2938, 'GEVEN-E': 2939, 'EISEN': 2940, 'DRAW-4O': 2941, 'VAAG': 2942, 'PARIJS': 2943, 'ABBE-DE-LEPEE': 2944, 'REGISTRATIE': 2945, 'ONTSPANNEN-E': 2946, 'VRIJ-D': 2947, 'AFRONDEN': 2948, 'VERRASSING': 2949, 'BEER-C': 2950, 'BE-HC-2ROS': 2951, 'ETEN': 2952, 'BE-HC-2RO': 2953, 'MOVE-HC-4C4OS': 2954, 'BE-HC-2RSO': 2955, 'BE-EC-5RC': 2956, 'BE-EC-2ROS': 2957, 'AT-EC-1D': 2958, 'START-B': 2959, 'BIJEENDRIJVEN-B': 2960, 'GEBEUREN-B': 2961, 'AFSTAND-C': 2962, 'BEDRIEGEN': 2963, 'FIETSSLOT': 2964, 'GROEP-ONDER-ELKAAR': 2965, 'BECYLINDER': 2966, 'OPGELUCHT-C': 2967, 'OPRUIMEN': 2968, 'BEFLAT': 2969, '80-A': 2970, 'CENT': 2971, 'DRONKEN-B': 2972, 'RESER': 2973, 'BEWAKEN': 2974, 'MOVEFLAT': 2975, 'OPBOUWEN': 2976, 'METSELEN': 2977, 'FUNDERIG': 2978, 'BE-EC-1C': 2979, 'BZW': 2980, 'HUISMAAS': 2981, 'WAGGELEN-C': 2982, 'NUCHTER': 2983, 'LOPEN-I': 2984, 'AANDACHT-B': 2985, 'BKW': 2986, 'PAAR': 2987, 'PIVOT0SPHERE': 2988, 'PIVOT0CLOSED': 2989, 'JAKKES': 2990, 'MAAS': 2991, 'LEUK-B': 2992, 'TELHAND-7-A': 2993, 'TELHAND-8-A': 2994, 'SNELWEG': 2995, 'APPEL': 2996, 'BE-5': 2997, 'SNELHEIDSMETER': 2998, 'STUREN': 2999, 'DRAW-1RC1O': 3000, 'MOVE-HC-4ROS4RO': 3001, 'MOVE-EC-4RC4ROS': 3002, 'DRAW-1R': 3003, 'DRAVEN-D': 3004, 'BE-EC-4DOT': 3005, 'MOVE-HC-04OS': 3006, 'VOGELKOOI-B': 3007, 'VENSTERBANK': 3008, 'BUITEN-E': 3009, 'ATFLAT': 3010, 'MUUR-B': 3011, 'MOVE-EC-2R2': 3012, 'MOVE2': 3013, 'MOVE-HC-5R-5': 3014, 'PIVOTFLAT': 3015, 'MOVE-EC-1C': 3016, 'HOEK-B': 3017, 'CL5': 3018, 'INEENFROMMELEN': 3019, 'AT-EC-5RS': 3020, 'AAPNADOEN': 3021, 'AAPACHTIGEBEWEGINGENMAKEN': 3022, 'HANDENZOEKENDBEWEGEN': 3023, 'KNIP': 3024, 'STOK-C': 3025, 'POES': 3026, 'GEVEN-D': 3027, 'VROUW-E': 3028, 'BEFIST': 3029, 'GEVEN-F': 3030, 'MOVE-HC-01O': 3031, 'MOVE-HC-2C': 3032, 'NUMMER-D': 3033, 'MOVE-EC-DOT': 3034, 'NUMMER-B': 3035, 'VERTROUWD': 3036, 'KLEED': 3037, 'BE-HC-4OS0': 3038, 'EINDE-SCENE-B': 3039, 'PET-A': 3040, 'BE-HC-50': 3041, 'MOVE-HC-4RS': 3042, 'DWARS': 3043, 'HANDENWAPPERENINDEVLUCHTOMHOOG': 3044, 'BE-FLAT': 3045, 'PLAT-A': 3046, 'MOVE-EC-2ROS': 3047, 'KLUNGELEN': 3048, 'WISKUNDE-A': 3049, 'TELESCOOP-A': 3050, 'METRO-A': 3051, 'ELEKTRICITEIT-B': 3052, 'GEDULD': 3053, 'BEDRIJF': 3054, 'NAAM-D': 3055, 'KENNEN-B': 3056, 'VOORSTEL': 3057, 'CI-AF-A': 3058, 'DILEMMA': 3059, 'INF': 3060, 'ECHO': 3061, 'DOLLAR-A': 3062, 'MOVE-HC-1C1O': 3063, 'FILMEN-B': 3064, 'SOMS': 3065, 'KRIMPEN': 3066, 'PR': 3067, 'WOD': 3068, 'TRACE-1': 3069, 'TRACE-1O': 3070, 'STANDAARD-B': 3071, 'MOVE-1': 3072, 'OVEREENKOMST': 3073, 'AFRIKA-C': 3074, 'JAPAN': 3075, 'GESCHIEDENIS-C': 3076, 'GNGT': 3077, 'GM': 3078, 'NGNGT': 3079, 'OUDERWETS': 3080, 'NA-A': 3081, 'POKER-A': 3082, 'POKER-B': 3083, 'POKER': 3084, 'POSTZEGEL': 3085, 'OPSTUREN-C': 3086, 'BEFFEN': 3087, 'GEEN-ZIN': 3088, 'UITNODIGEN': 3089, 'BLOWEN': 3090, 'PIJPEN': 3091, 'PIL': 3092, 'BUS-D': 3093, 'HEADSET': 3094, 'BE-EC-2RC2RO': 3095, 'HANDEN': 3096, 'STATION-B': 3097, 'ZAAL': 3098, 'FEBRUARI-A': 3099, 'MEI': 3100, 'MEI-A': 3101, 'SEPTEMBER-B': 3102, 'INTERNET-E': 3103, 'FEEDBACK': 3104, 'STICHTING': 3105, 'COACH': 3106, 'MOVE-2': 3107, 'KAART-B': 3108, 'BANK-A': 3109, 'COACH-B': 3110, 'MARTINISTAD': 3111, 'ERIC': 3112, 'SPIJT-D': 3113, 'PUBLIEK': 3114, '12-C': 3115, 'KICKEN': 3116, 'BE-EC-4RC4ROS': 3117, 'DRAVEN-C': 3118, 'GEBOUW-D': 3119, 'KLIMMEN-D': 3120, 'BOEM': 3121, 'DIK': 3122, 'WAGGELEN-B': 3123, 'UIT-C': 3124, 'MOV5': 3125, 'MOVE-HC-1R': 3126, 'BE-4RO': 3127, 'MALEN': 3128, 'SHAPEFLAT': 3129, 'BE-HC-GELD': 3130, 'MOVE-HC-GELD5': 3131, 'TRILLEN': 3132, 'MOVE-HC-5O': 3133, 'ONDERTITELING-A': 3134, 'PICCOLO': 3135, 'AANKLOPPEN': 3136, 'PLANK-A': 3137, 'DRAGEN': 3138, 'GOOIEN-B': 3139, '500^': 3140, 'LBS': 3141, 'VERSCHIJNEN': 3142, 'OVERZICHT': 3143, 'HOED': 3144, 'STUURKNUPPEL': 3145, 'BEELD': 3146, 'KINDERACHTIG': 3147, 'LUIDSPREKER': 3148, 'SE': 3149, 'SCHAAL': 3150, 'BHTF': 3151, 'TJANDE': 3152, 'SENSE': 3153, 'HANDVORM': 3154, 'STAM': 3155, 'STIJL-B': 3156, 'ZACHT': 3157, 'TOF': 3158, 'MIX': 3159, 'KRAMPACHTIG': 3160, 'OVERLAP': 3161, 'VERKRAMPEN': 3162, 'PROJECTEREN': 3163, 'KUNNEN-NIET-C': 3164, 'REN': 3165, 'REALI': 3166, 'IN': 3167, 'AAL': 3168, 'SESP': 3169, 'LUISTEREN-NIET-B': 3170, 'COMPUTERMUIS': 3171, 'UITKNIJPEN': 3172, 'RUZIE-B': 3173, 'EI-B': 3174, 'ZOMER-B': 3175, 'PLEGEN': 3176, 'TRAM': 3177, 'MAATSCHAPPELIJK': 3178, 'KAST': 3179, 'TANDENPOETSEN-A': 3180, 'HELPEN-C': 3181, 'OCHTEND-C': 3182, 'KERST': 3183, 'KEN-JIJ': 3184, 'NOG': 3185, 'GEMEENTE': 3186, 'MEEL': 3187, 'UITDOEN': 3188, 'OMHELZEN': 3189, 'TWEETY-B': 3190, 'GOOT': 3191, 'VROUW-D': 3192, 'KNOT': 3193, 'THEATER': 3194, 'VOORSTELLING': 3195, 'KAPSEL': 3196, 'HANDENTEGENELKAAR': 3197, 'MOVE-HC-4R0': 3198, 'ATSMALOPEN': 3199, 'SCHIJNHEILIGSTAANTEKIJKEN': 3200, 'PAKKEN-C': 3201, 'MOVE-HC-MONEY()': 3202, 'PLANK-B': 3203, 'BE2': 3204, 'ZWAAR-D': 3205, 'MEESTAL': 3206, 'GEHANDICAPT-F': 3207, '7UP': 3208, 'OMKEREN': 3209, 'COLA': 3210, 'EERLIJK-A': 3211, '15-A': 3212, '17-A': 3213, '11-C': 3214, 'CASSIS': 3215, 'SEVEN-UP': 3216, 'SINAS': 3217, '13-A': 3218, '18-B': 3219, 'EVENDENKEN': 3220, 'DONDERDAG-A': 3221, 'ZONDE': 3222, 'EINDELIJK-B': 3223, 'GEBRUIKEN-D': 3224, 'EM': 3225, 'KAAS-C': 3226, 'HAGELSLAG-B': 3227, 'WEEKEND-B': 3228, 'VLAG-WAPPEREN': 3229, 'COL': 3230, 'JAM-B': 3231, 'EEL': 3232, 'VD': 3233, 'ROZE-B': 3234, 'DINSDA': 3235, 'ROGGE': 3236, 'AFBLIJVEN': 3237, 'ROZE-A': 3238, 'GEEL-B': 3239, 'ORANJE-C': 3240, 'VLAG': 3241, 'KNIPPEN': 3242, 'AN': 3243, 'DRAAIEN-C': 3244, 'CS': 3245, 'LUSTEN': 3246, 'MEES': 3247, 'ZO': 3248, 'ARCHIEF-A': 3249, 'VOOR-E': 3250, 'DOOF-F': 3251, 'NU': 3252, 'NEE': 3253, 'BIJVOORBEELD-C': 3254, 'TK': 3255, 'KLUS': 3256, 'VEEN': 3257, 'NA-C': 3258, 'SOMS-C': 3259, 'OF-B': 3260, 'HEN': 3261, 'GEHOORAPPARAAT-D': 3262, 'KLOK-A': 3263, 'TODE': 3264, 'VERBAASD-D': 3265, 'TOEKOMST-B': 3266, 'PROBEREN': 3267, 'ZELFSTANDIG-B': 3268, 'VERSTAAN': 3269, 'NIKS-D': 3270, 'PLOTSELING-B': 3271, 'RUIS': 3272, 'KOMEN-E': 3273, 'MOVE1': 3274, 'PIVOTSMALL-CLOSED': 3275, 'MOVE': 3276, 'MOVECYL': 3277, 'WEGGOOIEN-B': 3278, 'KUS': 3279, 'MOVEBEAK': 3280, 'MAG-NIET': 3281, 'MOVEFLOWER': 3282, 'NOG-C': 3283, 'CI-E': 3284, 'OORDOP-B': 3285, 'ZO-C': 3286, 'EERST-B': 3287, 'ALLEMAAL-C': 3288, 'TAAL': 3289, 'LTS': 3290, 'BE1': 3291, 'EN-B': 3292, 'AFHANKELIJK-E': 3293, 'MNEER': 3294, 'AMP': 3295, 'MENKEER': 3296, 'ELLEBOOGSTOOT': 3297, 'ARM-C': 3298, 'UUR-9-B': 3299, 'DOLLAR-B': 3300, 'UIT-D': 3301, 'RIJ': 3302, 'UITSMIJTER': 3303, 'STROPDAS': 3304, 'BANK-B': 3305, 'RUSLAND': 3306, 'RIJK-B': 3307, 'TWEEEN-D': 3308, 'PARFUM': 3309, 'DOLLAR': 3310, 'DOOR-DE-VINGERS-ZIEN': 3311, 'LEEG': 3312, 'VIP': 3313, 'PORTOFOON': 3314, 'SOFA': 3315, 'WODKA': 3316, 'DEFTIG-A': 3317, 'KIPPEVEL': 3318, 'UUR-2-A': 3319, 'MAART-A': 3320, 'RECLAME-B': 3321, 'CUBA': 3322, 'HAVANA': 3323, 'CUBAANSE': 3324, 'AMBASSADE': 3325, 'ZWITSERLAND': 3326, 'MOORD-D': 3327, 'HITLER': 3328, 'HILTER': 3329, 'BUSH': 3330, 'ONDERLICHAAM': 3331, 'DEEL-D': 3332, 'PROCENT-C': 3333, 'BLOKKEREN': 3334, 'OBJECTIEF': 3335, 'AFWYKING': 3336, 'BESTEMPELEN-C': 3337, 'BLOKKAGE': 3338, 'STEREOTYPE': 3339, 'HUID-B': 3340, 'LABORATORIUM': 3341, 'TWENTSE': 3342, 'UITSPREKEN-B': 3343, 'DRENTSE': 3344, 'DRACHTEN': 3345, 'GELDERHORST': 3346, '80-C': 3347, 'BIOSCOOP': 3348, 'IMMIGRATIE': 3349, 'REGELMATIG-A': 3350, 'DRETS': 3351, 'DRETNS': 3352, 'INTERNET-F': 3353, 'VRIEND-E': 3354, 'DRAW-1C1O1C': 3355, 'EMIL': 3356, 'MEIL': 3357, 'UTRECHT-B': 3358, 'INTERNET': 3359, 'VERVELEN-D': 3360, 'WIREL': 3361, 'WIRELESS': 3362, 'RE': 3363, 'ZOIETS': 3364, 'DESKUNDIG-B': 3365, 'PANNEKOEK': 3366, 'PANNENKOEK': 3367, '11-D': 3368, '12-D': 3369, '16-A': 3370, 'PROJECT': 3371, 'HAND-SCHUDDEN-C': 3372, 'PSL': 3373, 'YOUTUBE': 3374, 'COM': 3375, 'GETUIGE': 3376, 'VREEMD-F': 3377, 'SAAI-B': 3378, 'HU': 3379, 'ZONDAG-B': 3380, 'GLOSSEN': 3381, 'JW': 3382, 'STOPWATCH': 3383, 'ELA': 3384, 'LEEUW-A': 3385, 'LIGGEN-E': 3386, 'MUIS-B': 3387, 'BREDE-SCHOUDERS': 3388, 'JAGEN-A': 3389, 'VANGNET-B': 3390, 'VANGNET-A': 3391, 'SCHRIKKEN-C': 3392, 'MET-HANDEN-IN-DE-ZIJ-STAAN': 3393, 'LEKKER-PUH': 3394, 'MOVEOSPHERE': 3395, 'HOED-C': 3396, 'HANDENINELKAARSLAAN': 3397, 'WRIJVENOOG': 3398, 'BRIL-B': 3399, 'HANDINDEZIJ': 3400, 'MOVE-CLOSED': 3401, 'VLOER': 3402, 'MOVE-HC-4C5': 3403, 'DUIZELIGWIEBELEN': 3404, 'KRABBEN': 3405, 'MUUR-D': 3406, 'AT1': 3407, 'BE-CLOSED': 3408, 'GELD-B': 3409, 'DRAGEN-A': 3410, 'PIVOT-FLAT': 3411, 'PLANK-C': 3412, 'GEWICHT-A': 3413, 'BREEDTE^HOOGTE': 3414, 'SHAPE-FLAT': 3415, 'DEUROPEN': 3416, 'STRENG': 3417, 'BIES': 3418, 'UUR-3-B': 3419, 'UUR-HALF-B': 3420, 'SCHRIKKEN': 3421, 'KRITIEK': 3422, 'IRRITANT': 3423, 'LELI': 3424, 'CARNAVAL': 3425, 'PUNK': 3426, 'STIPT': 3427, 'JOURNAAL-B': 3428, 'NED': 3429, 'AUSTRALIE': 3430, 'DVD': 3431, 'OVERLEGGEN-B': 3432, 'WOORD-EN-GEBAAR': 3433, 'IJVERIG': 3434, 'OVERHEERSEN': 3435, 'STROEF': 3436, 'SAMENVATTEN': 3437, 'VERSCHIL-B': 3438, 'VERJ': 3439, 'HERSEN-B': 3440, 'PIVOT-SPHERE': 3441, 'HAARCELLEN': 3442, 'MOPPEREN-B': 3443, 'TINNITUS': 3444, 'THEORIE': 3445, 'HOORN': 3446, 'HERRIJZEN': 3447, 'BE-SMALL-OPEN': 3448, 'KIP-C': 3449, 'SCHOOL-E': 3450, '19-C': 3451, 'VOLGZAAM': 3452, 'INSTELLEN': 3453, 'VROEGER-C': 3454, 'GRIJS-C': 3455, '100-B': 3456, 'NOG-D': 3457, 'ELEKTRICITEIT-E': 3458, 'MACHINE': 3459, 'ANDERE-KANT-C': 3460, 'KERST-B': 3461, 'NAAM': 3462, 'SCHAKELAAR': 3463, 'KLEIN-H': 3464, 'WERKEN': 3465, 'HUISHOUDEN': 3466, 'TAART-A': 3467, 'NAAIEN-C': 3468, 'LANG-C': 3469, 'DUIMEN': 3470, 'NAAIEN-B': 3471, 'TRUI-B': 3472, 'BOOS': 3473, 'GOED-D': 3474, 'INSCHENKEN': 3475, 'CHEF-B': 3476, 'SLAGEN': 3477, 'GEBAREN': 3478, 'VERZAMELEN': 3479, 'NODIG-D': 3480, 'KUNNEN-B': 3481, 'PLEZIER': 3482, 'TOCH': 3483, 'SCHAAP-B': 3484, 'WOLF-B': 3485, 'SCHAAP-E': 3486, 'SAMEN-5': 3487, 'CONTACT-B': 3488, 'GOED-NIET': 3489, 'UIT-B': 3490, 'NOORWEGEN': 3491, 'HEUVEL-PL': 3492, 'PONT': 3493, 'PET-B': 3494, 'KAPITEIN': 3495, 'BEWAREN-B': 3496, 'JONGEN-B': 3497, 'DICHT': 3498, 'TOT-D': 3499, 'AT-EC-5C': 3500, 'MOVE-CL-5C': 3501, 'LUIEREN': 3502, 'MOVE-CL-4R': 3503, 'AT-CL-5ROC': 3504, 'SCHIJNEN': 3505, 'VOS-A': 3506, 'DIPLOMA-B': 3507, 'STOER': 3508, 'SCHEVENINGEN-B': 3509, 'SCHEVENINGEN-A': 3510, 'MOEDER-D': 3511, 'ZEE': 3512, 'REIZEN-B': 3513, '3-ORD-B': 3514, 'KRIJGEN-A': 3515, 'VOOR': 3516, 'JURK': 3517, 'HANGERS': 3518, 'KRULLEN': 3519, 'OUDSTE-A': 3520, 'LOLLY': 3521, 'TREKKEN': 3522, 'KNOP': 3523, 'PIEPEN': 3524, 'DEN-HAAG-A': 3525, 'VOORBURG': 3526, 'STOUT-C': 3527, 'ROEMENIE-B': 3528, 'PRETTIG-C': 3529, 'BALEN-C': 3530, 'DRAAIEN': 3531, 'HANGEN': 3532, 'HANGEN-B': 3533, 'ANTENNE': 3534, 'INDRUKKEN-A': 3535, 'AT-HC-15R': 3536, 'BAND': 3537, 'ONTWIKKELEN-C': 3538, 'DEFTIG-B': 3539, 'REMMEN-C': 3540, 'FIETSEN-B': 3541, 'BE-CL-4R': 3542, 'LONG': 3543, 'WIJN': 3544, 'SIMPEL': 3545, 'REM': 3546, 'PAAL': 3547, 'BEEN-D': 3548, 'PTOF': 3549, 'CONCENTRATIE': 3550, 'SPECIAAL': 3551, 'VERSCHIL-D': 3552, 'OFPT': 3553, 'PECH-D': 3554, 'MOVE5': 3555, 'ROLSTOEL-D': 3556, 'KLOPT-G': 3557, 'HOREN-C': 3558, 'MOVESMALL-OPEN': 3559, 'LUI-B': 3560, 'VERTROUWEN-B': 3561, 'BATTERIJ-B': 3562, 'OM7': 3563, 'OPPAKKEN': 3564, 'JAAR-E': 3565, 'PROCENT-D': 3566, 'ZOEKENB': 3567, 'DOOF': 3568, 'GAS-GEVEN': 3569, 'DOM-C': 3570, 'GAAT-OM': 3571, 'VOORDEEL-B': 3572, 'OM5': 3573, 'SLECHTHOREND-B': 3574, 'CI-C': 3575, 'STEM-AF': 3576, 'SLECHTHOREND-C': 3577, 'HEE-B': 3578, 'DUMPEN': 3579, 'ZIELIG-B': 3580, 'DOOF-G': 3581, 'VEEL-D': 3582, 'KIJKEN-D': 3583, 'OP-F': 3584, 'MEER-E': 3585, 'CIW': 3586, 'DUIDELIJK-B': 3587, 'RONDKIJKEN': 3588, 'GEWOON-F': 3589, 'OUDSTE-C': 3590, 'ICI': 3591, 'ALLEBEI': 3592, 'MOND-B': 3593, 'MINDER-E': 3594, 'AUTOMATISCH-D': 3595, 'SCHOOL-G': 3596, 'GEHOORAPPARAAT-B': 3597, 'GEHOORAPPARAAT-AF': 3598, 'BRR': 3599, 'LEEUWARDEN-A': 3600, 'BIT': 3601, 'ZOETERMEER': 3602, 'VINGERSPELLEN-BSL': 3603, 'DIER': 3604, 'BRABANT-B': 3605, 'DRENTS': 3606, 'STAR': 3607, 'PINDA': 3608, 'X': 3609, 'ALBERT-HEIJN': 3610, 'MIXER': 3611, 'CAFE-B': 3612, 'CAFE-D': 3613, 'KROEG': 3614, 'ONDERDRUKKEN-B': 3615, 'PADS': 3616, 'MOVE-CL-1RO': 3617, 'NAIEF': 3618, 'GOOFY': 3619, '19-A': 3620, 'HD': 3621, 'VERREKIJKER-C': 3622, 'ERUIT-SCHOPPEN': 3623, 'MOVE-EC-4SRC': 3624, 'KIN-VASTHOUDEN': 3625, 'HANDEN-BIJ-ELKAAR': 3626, 'BE-HC-4ROS5': 3627, 'OVERGAAN': 3628, '158': 3629, 'FOCUS-B': 3630, 'TOT-A': 3631, 'TEKENEN-C': 3632, 'ALLEEN-C': 3633, 'NEDERLAND': 3634, 'IETS': 3635, 'BELANGRIJK': 3636, 'ONDERDANIG-B': 3637, 'MOVE-EC-4RC4S': 3638, 'BE-HC-5OC': 3639, 'BE-EC-5C': 3640, 'SYLVSTR': 3641, 'TW': 3642, 'SYLVESTER-B': 3643, 'AT-EC-2DW': 3644, 'BE-AT-EC-2R': 3645, 'SCHOUDER': 3646, 'WILLEN-C': 3647, 'GOOIEN-C': 3648, 'WACHTEN': 3649, 'MOVE-HC2RC': 3650, 'DEPONEREN': 3651, 'MOVE-HC-3RC': 3652, 'BE-HC-3RC': 3653, 'PCLO': 3654, 'MAND': 3655, 'GEWICHT-B': 3656, 'MOVE-HC-4RS-5': 3657, 'BE-EC-4HAND': 3658, 'DUN-A': 3659, 'KIST': 3660, 'EH': 3661, 'TELESCOOP-B': 3662, 'KAMER-A': 3663, 'MUUR-C': 3664, 'AANMOEDIGEN': 3665, 'OPTRAMLIJNVOLGEN': 3666, 'MOVE-EC-22R2': 3667, 'MOVE-CAMERA': 3668, 'HERHALEN': 3669, 'CORPUS': 3670, 'PUS': 3671, 'JOYSTICK': 3672, 'DRAVEN-B': 3673, 'AT-EC-4S': 3674, 'EC-4RO': 3675, 'EXPLOSIE': 3676, 'MOVE-EC-4RS': 3677, 'BE-EC-2DP': 3678, 'LIFT-ASL': 3679, 'HANDDOEK': 3680, 'DRAWR-5R': 3681, 'LINEAAL-A': 3682, 'LINEAAL-B': 3683, 'TOUW-C': 3684, 'STIK-C': 3685, 'FESTIVAL': 3686, 'SHOARMA': 3687, 'MAROKKO': 3688, 'UITKERING': 3689, 'SURINAME-A': 3690, 'KAJANA': 3691, 'SLAAF': 3692, 'WA': 3693, 'FABRIEK-A': 3694, 'AFHOUDEN': 3695, 'KOPJE-D': 3696, 'CV': 3697, 'WAJ': 3698, 'VOORBEELD': 3699, 'PILOOT': 3700, 'LAURENT-CLERC': 3701, 'THOMAS-GALLAUDET': 3702, 'ONGELOFELIJK-B': 3703, 'WOU': 3704, 'STEWARDES': 3705, 'HANDICAP': 3706, 'NIEMAND-C': 3707, 'INTELLIGENT': 3708, 'UUR-LANG-6-B': 3709, 'JROVERLEG': 3710, 'UUR-LANG-10-C': 3711, 'INZINKING': 3712, 'OPVANG': 3713, 'PUUR': 3714, 'LUNCH': 3715, 'UUR-LANG-10-B': 3716, '14-C': 3717, 'KWARTIER-B': 3718, 'UNIVERSITEIT-B': 3719, 'VERSCHIL-C': 3720, 'STROMING': 3721, 'DOKTER-C': 3722, 'INDIA': 3723, 'ROEMENIE-A': 3724, 'HOLLAND-A': 3725, 'HONGARIJE': 3726, 'PUNT-B': 3727, 'VANDAAR-B': 3728, 'ROEMENIE-C': 3729, 'HOMO-B': 3730, 'SENSEO-F': 3731, 'SENSEO-G': 3732, 'HOMO-C': 3733, 'TOM': 3734, 'GRAAG-D': 3735, 'HAND-OP-BUIK': 3736, 'KLIMMEN-E': 3737, 'AT-HC-4RC': 3738, 'METHANDENOPDERUGLOPEN': 3739, 'BE-HC-5R-5': 3740, 'BUIS-C': 3741, 'FLUITEN-A': 3742, 'BEDANKEN-C': 3743, 'MOVE-HC-MONEY5': 3744, 'NUMMER-E': 3745, '100': 3746, '8': 3747, '50': 3748, 'HANDENINZIJ': 3749, 'HOUT-B': 3750, 'AT': 3751, 'DRAW-B-PLAT': 3752, 'KT': 3753, 'BE-EC-5ARM': 3754, 'REKENMACHINE': 3755, 'DRAWR-MONEY': 3756, 'KLAUWEN': 3757, 'SNUFEFLEN-C': 3758, 'BEWEGEN-MET-HANDEN': 3759, 'HEBBEN-E': 3760, 'BEEN-AF': 3761, 'NOGTEZOEKEN': 3762, 'NOGOPTEZOEKEN': 3763, 'GEBAREN-G': 3764, 'PLAKKEN-B': 3765, 'NIETS-KUNNEN': 3766, 'NOGOPZOEKEN': 3767, 'OUDERS-D': 3768, 'WETEN-NIET-B': 3769, 'OBSERVEREN': 3770, 'WAT-F': 3771, 'KLOOF': 3772, 'MOVECYLINDER': 3773, 'WETEN-C': 3774, 'NOGOPZOEKEN-GEVEN': 3775, 'NOGOPZOEKENTWEEEN-D': 3776, 'NOGOPZOEKENWEG-': 3777, 'ZELF-B': 3778, 'NOGOPZOEKENBIJVOORBEELD-A': 3779, 'HAALBAAR': 3780}\n"
     ]
    }
   ],
   "source": [
    "print(c_unique_glosses)"
   ]
  },
  {
   "cell_type": "code",
   "execution_count": 44,
   "metadata": {
    "colab": {
     "background_save": true,
     "base_uri": "https://localhost:8080/"
    },
    "id": "DqLutmeAqfaB",
    "outputId": "8f469d7a-d0a7-4cc9-c826-b3bbd47a9fdf",
    "scrolled": true
   },
   "outputs": [
    {
     "name": "stderr",
     "output_type": "stream",
     "text": [
      "  0%|          | 0/1208 [00:00<?, ?it/s]"
     ]
    },
    {
     "name": "stdout",
     "output_type": "stream",
     "text": [
      "Input #0, mpeg, from 'Data/CorpusNGT/gloss/CNGT0004_S003.mpg':\n",
      "  Duration: 00:05:41.28, start: 0.187533, bitrate: 1730 kb/s\n",
      "    Stream #0:0[0x1e0]: Video: mpeg1video, yuv420p(tv), 352x288 [SAR 178:163 DAR 1958:1467], 1500 kb/s, 25 fps, 25 tbr, 90k tbn, 25 tbc\n",
      "    Stream #0:1[0x1c0]: Audio: mp2, 48000 Hz, mono, s16p, 192 kb/s\n",
      "At least one output file must be specified\n",
      "\n"
     ]
    },
    {
     "name": "stderr",
     "output_type": "stream",
     "text": [
      "  0%|          | 2/1208 [00:43<7:15:11, 21.65s/it]"
     ]
    },
    {
     "name": "stdout",
     "output_type": "stream",
     "text": [
      "Input #0, mpeg, from 'Data/CorpusNGT/gloss/CNGT0004_S004.mpg':\n",
      "  Duration: 00:05:41.28, start: 0.187533, bitrate: 1730 kb/s\n",
      "    Stream #0:0[0x1e0]: Video: mpeg1video, yuv420p(tv), 352x288 [SAR 178:163 DAR 1958:1467], 1500 kb/s, 25 fps, 25 tbr, 90k tbn, 25 tbc\n",
      "    Stream #0:1[0x1c0]: Audio: mp2, 48000 Hz, mono, s16p, 192 kb/s\n",
      "At least one output file must be specified\n",
      "\n"
     ]
    },
    {
     "name": "stderr",
     "output_type": "stream",
     "text": [
      "  0%|          | 4/1208 [01:08<5:28:08, 16.35s/it]"
     ]
    },
    {
     "name": "stdout",
     "output_type": "stream",
     "text": [
      "Input #0, mpeg, from 'Data/CorpusNGT/gloss/CNGT0005_S003.mpg':\n",
      "  Duration: 00:05:54.92, start: 0.187533, bitrate: 1730 kb/s\n",
      "    Stream #0:0[0x1e0]: Video: mpeg1video, yuv420p(tv), 352x288 [SAR 178:163 DAR 1958:1467], 1500 kb/s, 25 fps, 25 tbr, 90k tbn, 25 tbc\n",
      "    Stream #0:1[0x1c0]: Audio: mp2, 48000 Hz, mono, s16p, 192 kb/s\n",
      "At least one output file must be specified\n",
      "\n"
     ]
    },
    {
     "name": "stderr",
     "output_type": "stream",
     "text": [
      "  0%|          | 6/1208 [01:38<5:15:06, 15.73s/it]"
     ]
    },
    {
     "name": "stdout",
     "output_type": "stream",
     "text": [
      "Input #0, mpeg, from 'Data/CorpusNGT/gloss/CNGT0005_S004.mpg':\n",
      "  Duration: 00:05:54.92, start: 0.187533, bitrate: 1730 kb/s\n",
      "    Stream #0:0[0x1e0]: Video: mpeg1video, yuv420p(tv), 352x288 [SAR 178:163 DAR 1958:1467], 1500 kb/s, 25 fps, 25 tbr, 90k tbn, 25 tbc\n",
      "    Stream #0:1[0x1c0]: Audio: mp2, 48000 Hz, mono, s16p, 192 kb/s\n",
      "At least one output file must be specified\n",
      "\n"
     ]
    },
    {
     "name": "stderr",
     "output_type": "stream",
     "text": [
      "  1%|          | 8/1208 [02:37<7:02:55, 21.15s/it]"
     ]
    },
    {
     "name": "stdout",
     "output_type": "stream",
     "text": [
      "Input #0, mpeg, from 'Data/CorpusNGT/gloss/CNGT0006_S003.mpg':\n",
      "  Duration: 00:04:14.36, start: 0.187533, bitrate: 1730 kb/s\n",
      "    Stream #0:0[0x1e0]: Video: mpeg1video, yuv420p(tv), 352x288 [SAR 178:163 DAR 1958:1467], 1500 kb/s, 25 fps, 25 tbr, 90k tbn, 25 tbc\n",
      "    Stream #0:1[0x1c0]: Audio: mp2, 48000 Hz, mono, s16p, 192 kb/s\n",
      "At least one output file must be specified\n",
      "\n"
     ]
    },
    {
     "name": "stderr",
     "output_type": "stream",
     "text": [
      "  1%|          | 10/1208 [03:22<7:10:40, 21.57s/it]"
     ]
    },
    {
     "name": "stdout",
     "output_type": "stream",
     "text": [
      "Input #0, mpeg, from 'Data/CorpusNGT/gloss/CNGT0006_S004.mpg':\n",
      "  Duration: 00:04:14.36, start: 0.187533, bitrate: 1730 kb/s\n",
      "    Stream #0:0[0x1e0]: Video: mpeg1video, yuv420p(tv), 352x288 [SAR 178:163 DAR 1958:1467], 1500 kb/s, 25 fps, 25 tbr, 90k tbn, 25 tbc\n",
      "    Stream #0:1[0x1c0]: Audio: mp2, 48000 Hz, mono, s16p, 192 kb/s\n",
      "At least one output file must be specified\n",
      "\n"
     ]
    },
    {
     "name": "stderr",
     "output_type": "stream",
     "text": [
      "  1%|          | 12/1208 [03:57<6:43:02, 20.22s/it]"
     ]
    },
    {
     "name": "stdout",
     "output_type": "stream",
     "text": [
      "Input #0, mpeg, from 'Data/CorpusNGT/gloss/CNGT0007_S003.mpg':\n",
      "  Duration: 00:05:13.60, start: 0.187533, bitrate: 1730 kb/s\n",
      "    Stream #0:0[0x1e0]: Video: mpeg1video, yuv420p(tv), 352x288 [SAR 178:163 DAR 1958:1467], 1500 kb/s, 25 fps, 25 tbr, 90k tbn, 25 tbc\n",
      "    Stream #0:1[0x1c0]: Audio: mp2, 48000 Hz, mono, s16p, 192 kb/s\n",
      "At least one output file must be specified\n",
      "\n"
     ]
    },
    {
     "name": "stderr",
     "output_type": "stream",
     "text": [
      "  1%|          | 14/1208 [04:34<6:33:23, 19.77s/it]"
     ]
    },
    {
     "name": "stdout",
     "output_type": "stream",
     "text": [
      "Input #0, mpeg, from 'Data/CorpusNGT/gloss/CNGT0007_S004.mpg':\n",
      "  Duration: 00:05:13.60, start: 0.187533, bitrate: 1730 kb/s\n",
      "    Stream #0:0[0x1e0]: Video: mpeg1video, yuv420p(tv), 352x288 [SAR 178:163 DAR 1958:1467], 1500 kb/s, 25 fps, 25 tbr, 90k tbn, 25 tbc\n",
      "    Stream #0:1[0x1c0]: Audio: mp2, 48000 Hz, mono, s16p, 192 kb/s\n",
      "At least one output file must be specified\n",
      "\n"
     ]
    },
    {
     "name": "stderr",
     "output_type": "stream",
     "text": [
      "  1%|▏         | 16/1208 [05:00<5:48:22, 17.54s/it]"
     ]
    },
    {
     "name": "stdout",
     "output_type": "stream",
     "text": [
      "Input #0, mpeg, from 'Data/CorpusNGT/gloss/CNGT0008_S003.mpg':\n",
      "  Duration: 00:02:57.28, start: 0.187533, bitrate: 1731 kb/s\n",
      "    Stream #0:0[0x1e0]: Video: mpeg1video, yuv420p(tv), 352x288 [SAR 178:163 DAR 1958:1467], 1500 kb/s, 25 fps, 25 tbr, 90k tbn, 25 tbc\n",
      "    Stream #0:1[0x1c0]: Audio: mp2, 48000 Hz, mono, s16p, 192 kb/s\n",
      "At least one output file must be specified\n",
      "\n"
     ]
    },
    {
     "name": "stderr",
     "output_type": "stream",
     "text": [
      "  1%|▏         | 18/1208 [05:14<4:41:44, 14.21s/it]"
     ]
    },
    {
     "name": "stdout",
     "output_type": "stream",
     "text": [
      "Input #0, mpeg, from 'Data/CorpusNGT/gloss/CNGT0008_S004.mpg':\n",
      "  Duration: 00:02:57.28, start: 0.187533, bitrate: 1731 kb/s\n",
      "    Stream #0:0[0x1e0]: Video: mpeg1video, yuv420p(tv), 352x288 [SAR 178:163 DAR 1958:1467], 1500 kb/s, 25 fps, 25 tbr, 90k tbn, 25 tbc\n",
      "    Stream #0:1[0x1c0]: Audio: mp2, 48000 Hz, mono, s16p, 192 kb/s\n",
      "At least one output file must be specified\n",
      "\n"
     ]
    },
    {
     "name": "stderr",
     "output_type": "stream",
     "text": [
      "  2%|▏         | 20/1208 [05:33<4:12:54, 12.77s/it]"
     ]
    },
    {
     "name": "stdout",
     "output_type": "stream",
     "text": [
      "Input #0, mpeg, from 'Data/CorpusNGT/gloss/CNGT0009_S003.mpg':\n",
      "  Duration: 00:03:21.68, start: 0.187533, bitrate: 1731 kb/s\n",
      "    Stream #0:0[0x1e0]: Video: mpeg1video, yuv420p(tv), 352x288 [SAR 178:163 DAR 1958:1467], 1500 kb/s, 25 fps, 25 tbr, 90k tbn, 25 tbc\n",
      "    Stream #0:1[0x1c0]: Audio: mp2, 48000 Hz, mono, s16p, 192 kb/s\n",
      "At least one output file must be specified\n",
      "\n"
     ]
    },
    {
     "name": "stderr",
     "output_type": "stream",
     "text": [
      "  2%|▏         | 22/1208 [05:59<4:15:04, 12.90s/it]"
     ]
    },
    {
     "name": "stdout",
     "output_type": "stream",
     "text": [
      "Input #0, mpeg, from 'Data/CorpusNGT/gloss/CNGT0009_S004.mpg':\n",
      "  Duration: 00:03:21.68, start: 0.187533, bitrate: 1731 kb/s\n",
      "    Stream #0:0[0x1e0]: Video: mpeg1video, yuv420p(tv), 352x288 [SAR 178:163 DAR 1958:1467], 1500 kb/s, 25 fps, 25 tbr, 90k tbn, 25 tbc\n",
      "    Stream #0:1[0x1c0]: Audio: mp2, 48000 Hz, mono, s16p, 192 kb/s\n",
      "At least one output file must be specified\n",
      "\n"
     ]
    },
    {
     "name": "stderr",
     "output_type": "stream",
     "text": [
      "  2%|▏         | 24/1208 [06:15<3:43:46, 11.34s/it]"
     ]
    },
    {
     "name": "stdout",
     "output_type": "stream",
     "text": [
      "Input #0, mpeg, from 'Data/CorpusNGT/gloss/CNGT0010_S003.mpg':\n",
      "  Duration: 00:01:54.64, start: 0.187533, bitrate: 1731 kb/s\n",
      "    Stream #0:0[0x1e0]: Video: mpeg1video, yuv420p(tv), 352x288 [SAR 178:163 DAR 1958:1467], 1500 kb/s, 25 fps, 25 tbr, 90k tbn, 25 tbc\n",
      "    Stream #0:1[0x1c0]: Audio: mp2, 48000 Hz, mono, s16p, 192 kb/s\n",
      "At least one output file must be specified\n",
      "\n"
     ]
    },
    {
     "name": "stderr",
     "output_type": "stream",
     "text": [
      "  2%|▏         | 26/1208 [06:30<3:20:37, 10.18s/it]"
     ]
    },
    {
     "name": "stdout",
     "output_type": "stream",
     "text": [
      "Input #0, mpeg, from 'Data/CorpusNGT/gloss/CNGT0010_S004.mpg':\n",
      "  Duration: 00:01:54.64, start: 0.187533, bitrate: 1731 kb/s\n",
      "    Stream #0:0[0x1e0]: Video: mpeg1video, yuv420p(tv), 352x288 [SAR 178:163 DAR 1958:1467], 1500 kb/s, 25 fps, 25 tbr, 90k tbn, 25 tbc\n",
      "    Stream #0:1[0x1c0]: Audio: mp2, 48000 Hz, mono, s16p, 192 kb/s\n",
      "At least one output file must be specified\n",
      "\n"
     ]
    },
    {
     "name": "stderr",
     "output_type": "stream",
     "text": [
      "  2%|▏         | 28/1208 [06:34<2:31:50,  7.72s/it]"
     ]
    },
    {
     "name": "stdout",
     "output_type": "stream",
     "text": [
      "Input #0, mpeg, from 'Data/CorpusNGT/gloss/CNGT0011_S003.mpg':\n",
      "  Duration: 00:03:12.16, start: 0.187533, bitrate: 1731 kb/s\n",
      "    Stream #0:0[0x1e0]: Video: mpeg1video, yuv420p(tv), 352x288 [SAR 178:163 DAR 1958:1467], 1500 kb/s, 25 fps, 25 tbr, 90k tbn, 25 tbc\n",
      "    Stream #0:1[0x1c0]: Audio: mp2, 48000 Hz, mono, s16p, 192 kb/s\n",
      "At least one output file must be specified\n",
      "\n"
     ]
    },
    {
     "name": "stderr",
     "output_type": "stream",
     "text": [
      "  2%|▏         | 30/1208 [06:53<2:42:12,  8.26s/it]"
     ]
    },
    {
     "name": "stdout",
     "output_type": "stream",
     "text": [
      "Input #0, mpeg, from 'Data/CorpusNGT/gloss/CNGT0011_S004.mpg':\n",
      "  Duration: 00:03:12.16, start: 0.187533, bitrate: 1731 kb/s\n",
      "    Stream #0:0[0x1e0]: Video: mpeg1video, yuv420p(tv), 352x288 [SAR 178:163 DAR 1958:1467], 1500 kb/s, 25 fps, 25 tbr, 90k tbn, 25 tbc\n",
      "    Stream #0:1[0x1c0]: Audio: mp2, 48000 Hz, mono, s16p, 192 kb/s\n",
      "At least one output file must be specified\n",
      "\n"
     ]
    },
    {
     "name": "stderr",
     "output_type": "stream",
     "text": [
      "  3%|▎         | 32/1208 [07:11<2:46:39,  8.50s/it]"
     ]
    },
    {
     "name": "stdout",
     "output_type": "stream",
     "text": [
      "Input #0, mpeg, from 'Data/CorpusNGT/gloss/CNGT0012_S003.mpg':\n",
      "  Duration: 00:03:27.40, start: 0.187533, bitrate: 1731 kb/s\n",
      "    Stream #0:0[0x1e0]: Video: mpeg1video, yuv420p(tv), 352x288 [SAR 178:163 DAR 1958:1467], 1500 kb/s, 25 fps, 25 tbr, 90k tbn, 25 tbc\n",
      "    Stream #0:1[0x1c0]: Audio: mp2, 48000 Hz, mono, s16p, 192 kb/s\n",
      "At least one output file must be specified\n",
      "\n"
     ]
    },
    {
     "name": "stderr",
     "output_type": "stream",
     "text": [
      "  3%|▎         | 34/1208 [07:45<3:35:49, 11.03s/it]"
     ]
    },
    {
     "name": "stdout",
     "output_type": "stream",
     "text": [
      "Input #0, mpeg, from 'Data/CorpusNGT/gloss/CNGT0012_S004.mpg':\n",
      "  Duration: 00:03:27.40, start: 0.187533, bitrate: 1731 kb/s\n",
      "    Stream #0:0[0x1e0]: Video: mpeg1video, yuv420p(tv), 352x288 [SAR 178:163 DAR 1958:1467], 1500 kb/s, 25 fps, 25 tbr, 90k tbn, 25 tbc\n",
      "    Stream #0:1[0x1c0]: Audio: mp2, 48000 Hz, mono, s16p, 192 kb/s\n",
      "At least one output file must be specified\n",
      "\n"
     ]
    },
    {
     "name": "stderr",
     "output_type": "stream",
     "text": [
      "  3%|▎         | 36/1208 [08:04<3:25:59, 10.55s/it]"
     ]
    },
    {
     "name": "stdout",
     "output_type": "stream",
     "text": [
      "Input #0, mpeg, from 'Data/CorpusNGT/gloss/CNGT0013_S003.mpg':\n",
      "  Duration: 00:03:15.48, start: 0.187533, bitrate: 1731 kb/s\n",
      "    Stream #0:0[0x1e0]: Video: mpeg1video, yuv420p(tv), 352x288 [SAR 178:163 DAR 1958:1467], 1500 kb/s, 25 fps, 25 tbr, 90k tbn, 25 tbc\n",
      "    Stream #0:1[0x1c0]: Audio: mp2, 48000 Hz, mono, s16p, 192 kb/s\n",
      "At least one output file must be specified\n",
      "\n"
     ]
    },
    {
     "name": "stderr",
     "output_type": "stream",
     "text": [
      "  3%|▎         | 38/1208 [08:20<3:10:58,  9.79s/it]"
     ]
    },
    {
     "name": "stdout",
     "output_type": "stream",
     "text": [
      "Input #0, mpeg, from 'Data/CorpusNGT/gloss/CNGT0013_S004.mpg':\n",
      "  Duration: 00:03:15.48, start: 0.187533, bitrate: 1731 kb/s\n",
      "    Stream #0:0[0x1e0]: Video: mpeg1video, yuv420p(tv), 352x288 [SAR 178:163 DAR 1958:1467], 1500 kb/s, 25 fps, 25 tbr, 90k tbn, 25 tbc\n",
      "    Stream #0:1[0x1c0]: Audio: mp2, 48000 Hz, mono, s16p, 192 kb/s\n",
      "At least one output file must be specified\n",
      "\n"
     ]
    },
    {
     "name": "stderr",
     "output_type": "stream",
     "text": [
      "  3%|▎         | 40/1208 [08:59<4:09:17, 12.81s/it]"
     ]
    },
    {
     "name": "stdout",
     "output_type": "stream",
     "text": [
      "Input #0, mpeg, from 'Data/CorpusNGT/gloss/CNGT0014_S003.mpg':\n",
      "  Duration: 00:06:43.24, start: 0.187533, bitrate: 1730 kb/s\n",
      "    Stream #0:0[0x1e0]: Video: mpeg1video, yuv420p(tv), 352x288 [SAR 178:163 DAR 1958:1467], 1500 kb/s, 25 fps, 25 tbr, 90k tbn, 25 tbc\n",
      "    Stream #0:1[0x1c0]: Audio: mp2, 48000 Hz, mono, s16p, 192 kb/s\n",
      "At least one output file must be specified\n",
      "\n"
     ]
    },
    {
     "name": "stderr",
     "output_type": "stream",
     "text": [
      "  3%|▎         | 42/1208 [10:11<6:23:43, 19.75s/it]"
     ]
    },
    {
     "name": "stdout",
     "output_type": "stream",
     "text": [
      "Input #0, mpeg, from 'Data/CorpusNGT/gloss/CNGT0014_S004.mpg':\n",
      "  Duration: 00:06:43.24, start: 0.187533, bitrate: 1730 kb/s\n",
      "    Stream #0:0[0x1e0]: Video: mpeg1video, yuv420p(tv), 352x288 [SAR 178:163 DAR 1958:1467], 1500 kb/s, 25 fps, 25 tbr, 90k tbn, 25 tbc\n",
      "    Stream #0:1[0x1c0]: Audio: mp2, 48000 Hz, mono, s16p, 192 kb/s\n",
      "At least one output file must be specified\n",
      "\n"
     ]
    },
    {
     "name": "stderr",
     "output_type": "stream",
     "text": [
      "  4%|▎         | 44/1208 [11:01<6:53:56, 21.34s/it]"
     ]
    },
    {
     "name": "stdout",
     "output_type": "stream",
     "text": [
      "Input #0, mpeg, from 'Data/CorpusNGT/gloss/CNGT0015_S003.mpg':\n",
      "  Duration: 00:05:54.96, start: 0.187533, bitrate: 1730 kb/s\n",
      "    Stream #0:0[0x1e0]: Video: mpeg1video, yuv420p(tv), 352x288 [SAR 178:163 DAR 1958:1467], 1500 kb/s, 25 fps, 25 tbr, 90k tbn, 25 tbc\n",
      "    Stream #0:1[0x1c0]: Audio: mp2, 48000 Hz, mono, s16p, 192 kb/s\n",
      "At least one output file must be specified\n",
      "\n"
     ]
    },
    {
     "name": "stderr",
     "output_type": "stream",
     "text": [
      "  4%|▍         | 46/1208 [11:23<5:51:38, 18.16s/it]"
     ]
    },
    {
     "name": "stdout",
     "output_type": "stream",
     "text": [
      "Input #0, mpeg, from 'Data/CorpusNGT/gloss/CNGT0015_S004.mpg':\n",
      "  Duration: 00:05:54.96, start: 0.187533, bitrate: 1730 kb/s\n",
      "    Stream #0:0[0x1e0]: Video: mpeg1video, yuv420p(tv), 352x288 [SAR 178:163 DAR 1958:1467], 1500 kb/s, 25 fps, 25 tbr, 90k tbn, 25 tbc\n",
      "    Stream #0:1[0x1c0]: Audio: mp2, 48000 Hz, mono, s16p, 192 kb/s\n",
      "At least one output file must be specified\n",
      "\n"
     ]
    },
    {
     "name": "stderr",
     "output_type": "stream",
     "text": [
      "  4%|▍         | 48/1208 [11:53<5:33:13, 17.24s/it]"
     ]
    },
    {
     "name": "stdout",
     "output_type": "stream",
     "text": [
      "Input #0, mpeg, from 'Data/CorpusNGT/gloss/CNGT0016_S003.mpg':\n",
      "  Duration: 00:04:51.92, start: 0.187533, bitrate: 1730 kb/s\n",
      "    Stream #0:0[0x1e0]: Video: mpeg1video, yuv420p(tv), 352x288 [SAR 178:163 DAR 1958:1467], 1500 kb/s, 25 fps, 25 tbr, 90k tbn, 25 tbc\n",
      "    Stream #0:1[0x1c0]: Audio: mp2, 48000 Hz, mono, s16p, 192 kb/s\n",
      "At least one output file must be specified\n",
      "\n"
     ]
    },
    {
     "name": "stderr",
     "output_type": "stream",
     "text": [
      "  4%|▍         | 50/1208 [12:25<5:24:35, 16.82s/it]"
     ]
    },
    {
     "name": "stdout",
     "output_type": "stream",
     "text": [
      "Input #0, mpeg, from 'Data/CorpusNGT/gloss/CNGT0016_S004.mpg':\n",
      "  Duration: 00:04:51.92, start: 0.187533, bitrate: 1730 kb/s\n",
      "    Stream #0:0[0x1e0]: Video: mpeg1video, yuv420p(tv), 352x288 [SAR 178:163 DAR 1958:1467], 1500 kb/s, 25 fps, 25 tbr, 90k tbn, 25 tbc\n",
      "    Stream #0:1[0x1c0]: Audio: mp2, 48000 Hz, mono, s16p, 192 kb/s\n",
      "At least one output file must be specified\n",
      "\n"
     ]
    },
    {
     "name": "stderr",
     "output_type": "stream",
     "text": [
      "  4%|▍         | 52/1208 [12:50<4:59:15, 15.53s/it]"
     ]
    },
    {
     "name": "stdout",
     "output_type": "stream",
     "text": [
      "Input #0, mpeg, from 'Data/CorpusNGT/gloss/CNGT0017_S003.mpg':\n",
      "  Duration: 00:01:40.48, start: 0.187533, bitrate: 1732 kb/s\n",
      "    Stream #0:0[0x1e0]: Video: mpeg1video, yuv420p(tv), 352x288 [SAR 178:163 DAR 1958:1467], 1500 kb/s, 25 fps, 25 tbr, 90k tbn, 25 tbc\n",
      "    Stream #0:1[0x1c0]: Audio: mp2, 48000 Hz, mono, s16p, 192 kb/s\n",
      "At least one output file must be specified\n",
      "\n"
     ]
    },
    {
     "name": "stderr",
     "output_type": "stream",
     "text": [
      "  4%|▍         | 54/1208 [13:00<3:59:35, 12.46s/it]"
     ]
    },
    {
     "name": "stdout",
     "output_type": "stream",
     "text": [
      "Input #0, mpeg, from 'Data/CorpusNGT/gloss/CNGT0017_S004.mpg':\n",
      "  Duration: 00:01:40.48, start: 0.187533, bitrate: 1732 kb/s\n",
      "    Stream #0:0[0x1e0]: Video: mpeg1video, yuv420p(tv), 352x288 [SAR 178:163 DAR 1958:1467], 1500 kb/s, 25 fps, 25 tbr, 90k tbn, 25 tbc\n",
      "    Stream #0:1[0x1c0]: Audio: mp2, 48000 Hz, mono, s16p, 192 kb/s\n",
      "At least one output file must be specified\n",
      "\n"
     ]
    },
    {
     "name": "stderr",
     "output_type": "stream",
     "text": [
      "  5%|▍         | 56/1208 [13:16<3:32:34, 11.07s/it]"
     ]
    },
    {
     "name": "stdout",
     "output_type": "stream",
     "text": [
      "Input #0, mpeg, from 'Data/CorpusNGT/gloss/CNGT0018_S003.mpg':\n",
      "  Duration: 00:06:58.60, start: 0.187533, bitrate: 1730 kb/s\n",
      "    Stream #0:0[0x1e0]: Video: mpeg1video, yuv420p(tv), 352x288 [SAR 178:163 DAR 1958:1467], 1500 kb/s, 25 fps, 25 tbr, 90k tbn, 25 tbc\n",
      "    Stream #0:1[0x1c0]: Audio: mp2, 48000 Hz, mono, s16p, 192 kb/s\n",
      "At least one output file must be specified\n",
      "\n"
     ]
    },
    {
     "name": "stderr",
     "output_type": "stream",
     "text": [
      "  5%|▍         | 58/1208 [13:51<4:09:54, 13.04s/it]"
     ]
    },
    {
     "name": "stdout",
     "output_type": "stream",
     "text": [
      "Input #0, mpeg, from 'Data/CorpusNGT/gloss/CNGT0018_S004.mpg':\n",
      "  Duration: 00:06:58.60, start: 0.187533, bitrate: 1730 kb/s\n",
      "    Stream #0:0[0x1e0]: Video: mpeg1video, yuv420p(tv), 352x288 [SAR 178:163 DAR 1958:1467], 1500 kb/s, 25 fps, 25 tbr, 90k tbn, 25 tbc\n",
      "    Stream #0:1[0x1c0]: Audio: mp2, 48000 Hz, mono, s16p, 192 kb/s\n",
      "At least one output file must be specified\n",
      "\n"
     ]
    },
    {
     "name": "stderr",
     "output_type": "stream",
     "text": [
      "  5%|▍         | 60/1208 [14:25<4:32:39, 14.25s/it]"
     ]
    },
    {
     "name": "stdout",
     "output_type": "stream",
     "text": [
      "Input #0, mpeg, from 'Data/CorpusNGT/gloss/CNGT0047_S005.mpg':\n",
      "  Duration: 00:01:34.16, start: 0.187533, bitrate: 1732 kb/s\n",
      "    Stream #0:0[0x1e0]: Video: mpeg1video, yuv420p(tv), 352x288 [SAR 178:163 DAR 1958:1467], 1500 kb/s, 25 fps, 25 tbr, 90k tbn, 25 tbc\n",
      "    Stream #0:1[0x1c0]: Audio: mp2, 48000 Hz, mono, s16p, 192 kb/s\n",
      "At least one output file must be specified\n",
      "\n"
     ]
    },
    {
     "name": "stderr",
     "output_type": "stream",
     "text": [
      "  5%|▌         | 62/1208 [14:42<3:56:32, 12.38s/it]"
     ]
    },
    {
     "name": "stdout",
     "output_type": "stream",
     "text": [
      "Input #0, mpeg, from 'Data/CorpusNGT/gloss/CNGT0048_S006.mpg':\n",
      "  Duration: 00:01:02.68, start: 0.187533, bitrate: 1733 kb/s\n",
      "    Stream #0:0[0x1e0]: Video: mpeg1video, yuv420p(tv), 352x288 [SAR 178:163 DAR 1958:1467], 1500 kb/s, 25 fps, 25 tbr, 90k tbn, 25 tbc\n",
      "    Stream #0:1[0x1c0]: Audio: mp2, 48000 Hz, mono, s16p, 192 kb/s\n",
      "At least one output file must be specified\n",
      "\n"
     ]
    },
    {
     "name": "stderr",
     "output_type": "stream",
     "text": [
      "  5%|▌         | 64/1208 [14:57<3:28:11, 10.92s/it]"
     ]
    },
    {
     "name": "stdout",
     "output_type": "stream",
     "text": [
      "Input #0, mpeg, from 'Data/CorpusNGT/gloss/CNGT0049_S005.mpg':\n",
      "  Duration: 00:04:51.84, start: 0.187533, bitrate: 1730 kb/s\n",
      "    Stream #0:0[0x1e0]: Video: mpeg1video, yuv420p(tv), 352x288 [SAR 178:163 DAR 1958:1467], 1500 kb/s, 25 fps, 25 tbr, 90k tbn, 25 tbc\n",
      "    Stream #0:1[0x1c0]: Audio: mp2, 48000 Hz, mono, s16p, 192 kb/s\n",
      "At least one output file must be specified\n",
      "\n"
     ]
    },
    {
     "name": "stderr",
     "output_type": "stream",
     "text": [
      "  5%|▌         | 66/1208 [15:44<4:40:15, 14.72s/it]"
     ]
    },
    {
     "name": "stdout",
     "output_type": "stream",
     "text": [
      "Input #0, mpeg, from 'Data/CorpusNGT/gloss/CNGT0049_S006.mpg':\n",
      "  Duration: 00:04:51.84, start: 0.187533, bitrate: 1730 kb/s\n",
      "    Stream #0:0[0x1e0]: Video: mpeg1video, yuv420p(tv), 352x288 [SAR 178:163 DAR 1958:1467], 1500 kb/s, 25 fps, 25 tbr, 90k tbn, 25 tbc\n",
      "    Stream #0:1[0x1c0]: Audio: mp2, 48000 Hz, mono, s16p, 192 kb/s\n",
      "At least one output file must be specified\n",
      "\n"
     ]
    },
    {
     "name": "stderr",
     "output_type": "stream",
     "text": [
      "  6%|▌         | 68/1208 [16:28<5:21:44, 16.93s/it]"
     ]
    },
    {
     "name": "stdout",
     "output_type": "stream",
     "text": [
      "Input #0, mpeg, from 'Data/CorpusNGT/gloss/CNGT0050_S005.mpg':\n",
      "  Duration: 00:03:24.20, start: 0.187533, bitrate: 1731 kb/s\n",
      "    Stream #0:0[0x1e0]: Video: mpeg1video, yuv420p(tv), 352x288 [SAR 178:163 DAR 1958:1467], 1500 kb/s, 25 fps, 25 tbr, 90k tbn, 25 tbc\n",
      "    Stream #0:1[0x1c0]: Audio: mp2, 48000 Hz, mono, s16p, 192 kb/s\n",
      "At least one output file must be specified\n",
      "\n"
     ]
    },
    {
     "name": "stderr",
     "output_type": "stream",
     "text": [
      "  6%|▌         | 70/1208 [17:03<5:23:54, 17.08s/it]"
     ]
    },
    {
     "name": "stdout",
     "output_type": "stream",
     "text": [
      "Input #0, mpeg, from 'Data/CorpusNGT/gloss/CNGT0050_S006.mpg':\n",
      "  Duration: 00:03:24.20, start: 0.187533, bitrate: 1731 kb/s\n",
      "    Stream #0:0[0x1e0]: Video: mpeg1video, yuv420p(tv), 352x288 [SAR 178:163 DAR 1958:1467], 1500 kb/s, 25 fps, 25 tbr, 90k tbn, 25 tbc\n",
      "    Stream #0:1[0x1c0]: Audio: mp2, 48000 Hz, mono, s16p, 192 kb/s\n",
      "At least one output file must be specified\n",
      "\n"
     ]
    },
    {
     "name": "stderr",
     "output_type": "stream",
     "text": [
      "  6%|▌         | 72/1208 [17:34<5:15:49, 16.68s/it]"
     ]
    },
    {
     "name": "stdout",
     "output_type": "stream",
     "text": [
      "Input #0, mpeg, from 'Data/CorpusNGT/gloss/CNGT0055_S005.mpg':\n",
      "  Duration: 00:01:45.28, start: 0.187533, bitrate: 1732 kb/s\n",
      "    Stream #0:0[0x1e0]: Video: mpeg1video, yuv420p(tv), 352x288 [SAR 178:163 DAR 1958:1467], 1500 kb/s, 25 fps, 25 tbr, 90k tbn, 25 tbc\n",
      "    Stream #0:1[0x1c0]: Audio: mp2, 48000 Hz, mono, s16p, 192 kb/s\n",
      "At least one output file must be specified\n",
      "\n"
     ]
    },
    {
     "name": "stderr",
     "output_type": "stream",
     "text": [
      "  6%|▌         | 74/1208 [17:51<4:27:11, 14.14s/it]"
     ]
    },
    {
     "name": "stdout",
     "output_type": "stream",
     "text": [
      "Input #0, mpeg, from 'Data/CorpusNGT/gloss/CNGT0055_S006.mpg':\n",
      "  Duration: 00:01:45.28, start: 0.187533, bitrate: 1732 kb/s\n",
      "    Stream #0:0[0x1e0]: Video: mpeg1video, yuv420p(tv), 352x288 [SAR 178:163 DAR 1958:1467], 1500 kb/s, 25 fps, 25 tbr, 90k tbn, 25 tbc\n",
      "    Stream #0:1[0x1c0]: Audio: mp2, 48000 Hz, mono, s16p, 192 kb/s\n",
      "At least one output file must be specified\n",
      "\n"
     ]
    },
    {
     "name": "stderr",
     "output_type": "stream",
     "text": [
      "  6%|▋         | 76/1208 [17:57<3:24:59, 10.87s/it]"
     ]
    },
    {
     "name": "stdout",
     "output_type": "stream",
     "text": [
      "Input #0, mpeg, from 'Data/CorpusNGT/gloss/CNGT0056_S005.mpg':\n",
      "  Duration: 00:02:04.00, start: 0.187533, bitrate: 1731 kb/s\n",
      "    Stream #0:0[0x1e0]: Video: mpeg1video, yuv420p(tv), 352x288 [SAR 178:163 DAR 1958:1467], 1500 kb/s, 25 fps, 25 tbr, 90k tbn, 25 tbc\n",
      "    Stream #0:1[0x1c0]: Audio: mp2, 48000 Hz, mono, s16p, 192 kb/s\n",
      "At least one output file must be specified\n",
      "\n"
     ]
    },
    {
     "name": "stderr",
     "output_type": "stream",
     "text": [
      "  6%|▋         | 78/1208 [18:18<3:22:46, 10.77s/it]"
     ]
    },
    {
     "name": "stdout",
     "output_type": "stream",
     "text": [
      "Input #0, mpeg, from 'Data/CorpusNGT/gloss/CNGT0056_S006.mpg':\n",
      "  Duration: 00:02:04.00, start: 0.187533, bitrate: 1731 kb/s\n",
      "    Stream #0:0[0x1e0]: Video: mpeg1video, yuv420p(tv), 352x288 [SAR 178:163 DAR 1958:1467], 1500 kb/s, 25 fps, 25 tbr, 90k tbn, 25 tbc\n",
      "    Stream #0:1[0x1c0]: Audio: mp2, 48000 Hz, mono, s16p, 192 kb/s\n",
      "At least one output file must be specified\n",
      "\n"
     ]
    },
    {
     "name": "stderr",
     "output_type": "stream",
     "text": [
      "  7%|▋         | 80/1208 [18:31<2:56:42,  9.40s/it]"
     ]
    },
    {
     "name": "stdout",
     "output_type": "stream",
     "text": [
      "Input #0, mpeg, from 'Data/CorpusNGT/gloss/CNGT0057_S005.mpg':\n",
      "  Duration: 00:01:23.00, start: 0.187533, bitrate: 1732 kb/s\n",
      "    Stream #0:0[0x1e0]: Video: mpeg1video, yuv420p(tv), 352x288 [SAR 178:163 DAR 1958:1467], 1500 kb/s, 25 fps, 25 tbr, 90k tbn, 25 tbc\n",
      "    Stream #0:1[0x1c0]: Audio: mp2, 48000 Hz, mono, s16p, 192 kb/s\n",
      "At least one output file must be specified\n",
      "\n"
     ]
    },
    {
     "name": "stderr",
     "output_type": "stream",
     "text": [
      "  7%|▋         | 82/1208 [18:39<2:28:00,  7.89s/it]"
     ]
    },
    {
     "name": "stdout",
     "output_type": "stream",
     "text": [
      "Input #0, mpeg, from 'Data/CorpusNGT/gloss/CNGT0057_S006.mpg':\n",
      "  Duration: 00:01:23.00, start: 0.187533, bitrate: 1732 kb/s\n",
      "    Stream #0:0[0x1e0]: Video: mpeg1video, yuv420p(tv), 352x288 [SAR 178:163 DAR 1958:1467], 1500 kb/s, 25 fps, 25 tbr, 90k tbn, 25 tbc\n",
      "    Stream #0:1[0x1c0]: Audio: mp2, 48000 Hz, mono, s16p, 192 kb/s\n",
      "At least one output file must be specified\n",
      "\n"
     ]
    },
    {
     "name": "stderr",
     "output_type": "stream",
     "text": [
      "  7%|▋         | 84/1208 [18:52<2:19:55,  7.47s/it]"
     ]
    },
    {
     "name": "stdout",
     "output_type": "stream",
     "text": [
      "Input #0, mpeg, from 'Data/CorpusNGT/gloss/CNGT0058_S005.mpg':\n",
      "  Duration: 00:06:13.00, start: 0.187533, bitrate: 1730 kb/s\n",
      "    Stream #0:0[0x1e0]: Video: mpeg1video, yuv420p(tv), 352x288 [SAR 178:163 DAR 1958:1467], 1500 kb/s, 25 fps, 25 tbr, 90k tbn, 25 tbc\n",
      "    Stream #0:1[0x1c0]: Audio: mp2, 48000 Hz, mono, s16p, 192 kb/s\n",
      "At least one output file must be specified\n",
      "\n"
     ]
    },
    {
     "name": "stderr",
     "output_type": "stream",
     "text": [
      "  7%|▋         | 86/1208 [19:43<3:58:49, 12.77s/it]"
     ]
    },
    {
     "name": "stdout",
     "output_type": "stream",
     "text": [
      "Input #0, mpeg, from 'Data/CorpusNGT/gloss/CNGT0058_S006.mpg':\n",
      "  Duration: 00:06:13.00, start: 0.187533, bitrate: 1730 kb/s\n",
      "    Stream #0:0[0x1e0]: Video: mpeg1video, yuv420p(tv), 352x288 [SAR 178:163 DAR 1958:1467], 1500 kb/s, 25 fps, 25 tbr, 90k tbn, 25 tbc\n",
      "    Stream #0:1[0x1c0]: Audio: mp2, 48000 Hz, mono, s16p, 192 kb/s\n",
      "At least one output file must be specified\n",
      "\n"
     ]
    },
    {
     "name": "stderr",
     "output_type": "stream",
     "text": [
      "  7%|▋         | 88/1208 [20:24<4:43:32, 15.19s/it]"
     ]
    },
    {
     "name": "stdout",
     "output_type": "stream",
     "text": [
      "Input #0, mpeg, from 'Data/CorpusNGT/gloss/CNGT0059_S005.mpg':\n",
      "  Duration: 00:01:21.00, start: 0.187533, bitrate: 1732 kb/s\n",
      "    Stream #0:0[0x1e0]: Video: mpeg1video, yuv420p(tv), 352x288 [SAR 178:163 DAR 1958:1467], 1500 kb/s, 25 fps, 25 tbr, 90k tbn, 25 tbc\n",
      "    Stream #0:1[0x1c0]: Audio: mp2, 48000 Hz, mono, s16p, 192 kb/s\n",
      "At least one output file must be specified\n",
      "\n"
     ]
    },
    {
     "name": "stderr",
     "output_type": "stream",
     "text": [
      "  7%|▋         | 90/1208 [20:32<3:39:26, 11.78s/it]"
     ]
    },
    {
     "name": "stdout",
     "output_type": "stream",
     "text": [
      "Input #0, mpeg, from 'Data/CorpusNGT/gloss/CNGT0059_S006.mpg':\n",
      "  Duration: 00:01:21.00, start: 0.187533, bitrate: 1732 kb/s\n",
      "    Stream #0:0[0x1e0]: Video: mpeg1video, yuv420p(tv), 352x288 [SAR 178:163 DAR 1958:1467], 1500 kb/s, 25 fps, 25 tbr, 90k tbn, 25 tbc\n",
      "    Stream #0:1[0x1c0]: Audio: mp2, 48000 Hz, mono, s16p, 192 kb/s\n",
      "At least one output file must be specified\n",
      "\n"
     ]
    },
    {
     "name": "stderr",
     "output_type": "stream",
     "text": [
      "  8%|▊         | 92/1208 [20:40<2:55:33,  9.44s/it]"
     ]
    },
    {
     "name": "stdout",
     "output_type": "stream",
     "text": [
      "Input #0, mpeg, from 'Data/CorpusNGT/gloss/CNGT0060_S005.mpg':\n",
      "  Duration: 00:03:45.00, start: 0.187533, bitrate: 1731 kb/s\n",
      "    Stream #0:0[0x1e0]: Video: mpeg1video, yuv420p(tv), 352x288 [SAR 178:163 DAR 1958:1467], 1500 kb/s, 25 fps, 25 tbr, 90k tbn, 25 tbc\n",
      "    Stream #0:1[0x1c0]: Audio: mp2, 48000 Hz, mono, s16p, 192 kb/s\n",
      "At least one output file must be specified\n",
      "\n"
     ]
    },
    {
     "name": "stderr",
     "output_type": "stream",
     "text": [
      "  8%|▊         | 94/1208 [21:01<3:01:58,  9.80s/it]"
     ]
    },
    {
     "name": "stdout",
     "output_type": "stream",
     "text": [
      "Input #0, mpeg, from 'Data/CorpusNGT/gloss/CNGT0060_S006.mpg':\n",
      "  Duration: 00:03:45.00, start: 0.187533, bitrate: 1731 kb/s\n",
      "    Stream #0:0[0x1e0]: Video: mpeg1video, yuv420p(tv), 352x288 [SAR 178:163 DAR 1958:1467], 1500 kb/s, 25 fps, 25 tbr, 90k tbn, 25 tbc\n",
      "    Stream #0:1[0x1c0]: Audio: mp2, 48000 Hz, mono, s16p, 192 kb/s\n",
      "At least one output file must be specified\n",
      "\n"
     ]
    },
    {
     "name": "stderr",
     "output_type": "stream",
     "text": [
      "  8%|▊         | 96/1208 [21:35<3:40:41, 11.91s/it]"
     ]
    },
    {
     "name": "stdout",
     "output_type": "stream",
     "text": [
      "Input #0, mpeg, from 'Data/CorpusNGT/gloss/CNGT0061_S005.mpg':\n",
      "  Duration: 00:01:11.00, start: 0.187533, bitrate: 1733 kb/s\n",
      "    Stream #0:0[0x1e0]: Video: mpeg1video, yuv420p(tv), 352x288 [SAR 178:163 DAR 1958:1467], 1500 kb/s, 25 fps, 25 tbr, 90k tbn, 25 tbc\n",
      "    Stream #0:1[0x1c0]: Audio: mp2, 48000 Hz, mono, s16p, 192 kb/s\n",
      "At least one output file must be specified\n",
      "\n"
     ]
    },
    {
     "name": "stderr",
     "output_type": "stream",
     "text": [
      "  8%|▊         | 98/1208 [21:44<2:59:09,  9.68s/it]"
     ]
    },
    {
     "name": "stdout",
     "output_type": "stream",
     "text": [
      "Input #0, mpeg, from 'Data/CorpusNGT/gloss/CNGT0061_S006.mpg':\n",
      "  Duration: 00:01:11.00, start: 0.187533, bitrate: 1733 kb/s\n",
      "    Stream #0:0[0x1e0]: Video: mpeg1video, yuv420p(tv), 352x288 [SAR 178:163 DAR 1958:1467], 1500 kb/s, 25 fps, 25 tbr, 90k tbn, 25 tbc\n",
      "    Stream #0:1[0x1c0]: Audio: mp2, 48000 Hz, mono, s16p, 192 kb/s\n",
      "At least one output file must be specified\n",
      "\n"
     ]
    },
    {
     "name": "stderr",
     "output_type": "stream",
     "text": [
      "  8%|▊         | 100/1208 [21:49<2:19:36,  7.56s/it]"
     ]
    },
    {
     "name": "stdout",
     "output_type": "stream",
     "text": [
      "Input #0, mpeg, from 'Data/CorpusNGT/gloss/CNGT0062_S005.mpg':\n",
      "  Duration: 00:02:05.00, start: 0.187533, bitrate: 1731 kb/s\n",
      "    Stream #0:0[0x1e0]: Video: mpeg1video, yuv420p(tv), 352x288 [SAR 178:163 DAR 1958:1467], 1500 kb/s, 25 fps, 25 tbr, 90k tbn, 25 tbc\n",
      "    Stream #0:1[0x1c0]: Audio: mp2, 48000 Hz, mono, s16p, 192 kb/s\n",
      "At least one output file must be specified\n",
      "\n"
     ]
    },
    {
     "name": "stderr",
     "output_type": "stream",
     "text": [
      "  8%|▊         | 102/1208 [22:08<2:29:48,  8.13s/it]"
     ]
    },
    {
     "name": "stdout",
     "output_type": "stream",
     "text": [
      "Input #0, mpeg, from 'Data/CorpusNGT/gloss/CNGT0062_S006.mpg':\n",
      "  Duration: 00:02:05.00, start: 0.187533, bitrate: 1731 kb/s\n",
      "    Stream #0:0[0x1e0]: Video: mpeg1video, yuv420p(tv), 352x288 [SAR 178:163 DAR 1958:1467], 1500 kb/s, 25 fps, 25 tbr, 90k tbn, 25 tbc\n",
      "    Stream #0:1[0x1c0]: Audio: mp2, 48000 Hz, mono, s16p, 192 kb/s\n",
      "At least one output file must be specified\n",
      "\n"
     ]
    },
    {
     "name": "stderr",
     "output_type": "stream",
     "text": [
      "  9%|▊         | 104/1208 [22:29<2:43:35,  8.89s/it]"
     ]
    },
    {
     "name": "stdout",
     "output_type": "stream",
     "text": [
      "Input #0, mpeg, from 'Data/CorpusNGT/gloss/CNGT0063_S005.mpg':\n",
      "  Duration: 00:04:05.00, start: 0.187533, bitrate: 1730 kb/s\n",
      "    Stream #0:0[0x1e0]: Video: mpeg1video, yuv420p(tv), 352x288 [SAR 178:163 DAR 1958:1467], 1500 kb/s, 25 fps, 25 tbr, 90k tbn, 25 tbc\n",
      "    Stream #0:1[0x1c0]: Audio: mp2, 48000 Hz, mono, s16p, 192 kb/s\n",
      "At least one output file must be specified\n",
      "\n"
     ]
    },
    {
     "name": "stderr",
     "output_type": "stream",
     "text": [
      "  9%|▉         | 106/1208 [22:42<2:30:40,  8.20s/it]"
     ]
    },
    {
     "name": "stdout",
     "output_type": "stream",
     "text": [
      "Input #0, mpeg, from 'Data/CorpusNGT/gloss/CNGT0063_S006.mpg':\n",
      "  Duration: 00:04:05.00, start: 0.187533, bitrate: 1730 kb/s\n",
      "    Stream #0:0[0x1e0]: Video: mpeg1video, yuv420p(tv), 352x288 [SAR 178:163 DAR 1958:1467], 1500 kb/s, 25 fps, 25 tbr, 90k tbn, 25 tbc\n",
      "    Stream #0:1[0x1c0]: Audio: mp2, 48000 Hz, mono, s16p, 192 kb/s\n",
      "At least one output file must be specified\n",
      "\n"
     ]
    },
    {
     "name": "stderr",
     "output_type": "stream",
     "text": [
      "  9%|▉         | 108/1208 [23:07<2:53:44,  9.48s/it]"
     ]
    },
    {
     "name": "stdout",
     "output_type": "stream",
     "text": [
      "Input #0, mpeg, from 'Data/CorpusNGT/gloss/CNGT0064_S005.mpg':\n",
      "  Duration: 00:02:21.00, start: 0.187533, bitrate: 1731 kb/s\n",
      "    Stream #0:0[0x1e0]: Video: mpeg1video, yuv420p(tv), 352x288 [SAR 178:163 DAR 1958:1467], 1500 kb/s, 25 fps, 25 tbr, 90k tbn, 25 tbc\n",
      "    Stream #0:1[0x1c0]: Audio: mp2, 48000 Hz, mono, s16p, 192 kb/s\n",
      "At least one output file must be specified\n",
      "\n"
     ]
    },
    {
     "name": "stderr",
     "output_type": "stream",
     "text": [
      "  9%|▉         | 110/1208 [23:17<2:27:29,  8.06s/it]"
     ]
    },
    {
     "name": "stdout",
     "output_type": "stream",
     "text": [
      "Input #0, mpeg, from 'Data/CorpusNGT/gloss/CNGT0064_S006.mpg':\n",
      "  Duration: 00:02:21.00, start: 0.187533, bitrate: 1732 kb/s\n",
      "    Stream #0:0[0x1e0]: Video: mpeg1video, yuv420p(tv), 352x288 [SAR 178:163 DAR 1958:1467], 1500 kb/s, 25 fps, 25 tbr, 90k tbn, 25 tbc\n",
      "    Stream #0:1[0x1c0]: Audio: mp2, 48000 Hz, mono, s16p, 192 kb/s\n",
      "At least one output file must be specified\n",
      "\n"
     ]
    },
    {
     "name": "stderr",
     "output_type": "stream",
     "text": [
      "  9%|▉         | 112/1208 [23:37<2:38:01,  8.65s/it]"
     ]
    },
    {
     "name": "stdout",
     "output_type": "stream",
     "text": [
      "Input #0, mpeg, from 'Data/CorpusNGT/gloss/CNGT0065_S005.mpg':\n",
      "  Duration: 00:02:00.00, start: 0.187533, bitrate: 1732 kb/s\n",
      "    Stream #0:0[0x1e0]: Video: mpeg1video, yuv420p(tv), 352x288 [SAR 178:163 DAR 1958:1467], 1500 kb/s, 25 fps, 25 tbr, 90k tbn, 25 tbc\n",
      "    Stream #0:1[0x1c0]: Audio: mp2, 48000 Hz, mono, s16p, 192 kb/s\n",
      "At least one output file must be specified\n",
      "\n"
     ]
    },
    {
     "name": "stderr",
     "output_type": "stream",
     "text": [
      "  9%|▉         | 114/1208 [23:50<2:25:51,  8.00s/it]"
     ]
    },
    {
     "name": "stdout",
     "output_type": "stream",
     "text": [
      "Input #0, mpeg, from 'Data/CorpusNGT/gloss/CNGT0065_S006.mpg':\n",
      "  Duration: 00:02:00.00, start: 0.187533, bitrate: 1731 kb/s\n",
      "    Stream #0:0[0x1e0]: Video: mpeg1video, yuv420p(tv), 352x288 [SAR 178:163 DAR 1958:1467], 1500 kb/s, 25 fps, 25 tbr, 90k tbn, 25 tbc\n",
      "    Stream #0:1[0x1c0]: Audio: mp2, 48000 Hz, mono, s16p, 192 kb/s\n",
      "At least one output file must be specified\n",
      "\n"
     ]
    },
    {
     "name": "stderr",
     "output_type": "stream",
     "text": [
      " 10%|▉         | 116/1208 [24:05<2:23:34,  7.89s/it]"
     ]
    },
    {
     "name": "stdout",
     "output_type": "stream",
     "text": [
      "Input #0, mpeg, from 'Data/CorpusNGT/gloss/CNGT0066_S005.mpg':\n",
      "  Duration: 00:01:01.00, start: 0.187533, bitrate: 1733 kb/s\n",
      "    Stream #0:0[0x1e0]: Video: mpeg1video, yuv420p(tv), 352x288 [SAR 178:163 DAR 1958:1467], 1500 kb/s, 25 fps, 25 tbr, 90k tbn, 25 tbc\n",
      "    Stream #0:1[0x1c0]: Audio: mp2, 48000 Hz, mono, s16p, 192 kb/s\n",
      "At least one output file must be specified\n",
      "\n"
     ]
    },
    {
     "name": "stderr",
     "output_type": "stream",
     "text": [
      " 10%|▉         | 118/1208 [24:15<2:07:51,  7.04s/it]"
     ]
    },
    {
     "name": "stdout",
     "output_type": "stream",
     "text": [
      "Input #0, mpeg, from 'Data/CorpusNGT/gloss/CNGT0066_S006.mpg':\n",
      "  Duration: 00:01:01.00, start: 0.187533, bitrate: 1735 kb/s\n",
      "    Stream #0:0[0x1e0]: Video: mpeg1video, yuv420p(tv), 352x288 [SAR 178:163 DAR 1958:1467], 1500 kb/s, 25 fps, 25 tbr, 90k tbn, 25 tbc\n",
      "    Stream #0:1[0x1c0]: Audio: mp2, 48000 Hz, mono, s16p, 192 kb/s\n",
      "At least one output file must be specified\n",
      "\n"
     ]
    },
    {
     "name": "stderr",
     "output_type": "stream",
     "text": [
      " 10%|▉         | 120/1208 [24:21<1:44:50,  5.78s/it]"
     ]
    },
    {
     "name": "stdout",
     "output_type": "stream",
     "text": [
      "Input #0, mpeg, from 'Data/CorpusNGT/gloss/CNGT0067_S005.mpg':\n",
      "  Duration: 00:04:44.00, start: 0.187533, bitrate: 1730 kb/s\n",
      "    Stream #0:0[0x1e0]: Video: mpeg1video, yuv420p(tv), 352x288 [SAR 178:163 DAR 1958:1467], 1500 kb/s, 25 fps, 25 tbr, 90k tbn, 25 tbc\n",
      "    Stream #0:1[0x1c0]: Audio: mp2, 48000 Hz, mono, s16p, 192 kb/s\n",
      "At least one output file must be specified\n",
      "\n"
     ]
    },
    {
     "name": "stderr",
     "output_type": "stream",
     "text": [
      " 10%|█         | 122/1208 [24:40<2:05:52,  6.95s/it]"
     ]
    },
    {
     "name": "stdout",
     "output_type": "stream",
     "text": [
      "Input #0, mpeg, from 'Data/CorpusNGT/gloss/CNGT0067_S006.mpg':\n",
      "  Duration: 00:04:44.00, start: 0.187533, bitrate: 1730 kb/s\n",
      "    Stream #0:0[0x1e0]: Video: mpeg1video, yuv420p(tv), 352x288 [SAR 178:163 DAR 1958:1467], 1500 kb/s, 25 fps, 25 tbr, 90k tbn, 25 tbc\n",
      "    Stream #0:1[0x1c0]: Audio: mp2, 48000 Hz, mono, s16p, 192 kb/s\n",
      "At least one output file must be specified\n",
      "\n"
     ]
    },
    {
     "name": "stderr",
     "output_type": "stream",
     "text": [
      " 10%|█         | 124/1208 [24:58<2:17:09,  7.59s/it]"
     ]
    },
    {
     "name": "stdout",
     "output_type": "stream",
     "text": [
      "Input #0, mpeg, from 'Data/CorpusNGT/gloss/CNGT0068_S005.mpg':\n",
      "  Duration: 00:03:13.00, start: 0.187533, bitrate: 1731 kb/s\n",
      "    Stream #0:0[0x1e0]: Video: mpeg1video, yuv420p(tv), 352x288 [SAR 178:163 DAR 1958:1467], 1500 kb/s, 25 fps, 25 tbr, 90k tbn, 25 tbc\n",
      "    Stream #0:1[0x1c0]: Audio: mp2, 48000 Hz, mono, s16p, 192 kb/s\n",
      "At least one output file must be specified\n",
      "\n"
     ]
    },
    {
     "name": "stderr",
     "output_type": "stream",
     "text": [
      " 10%|█         | 126/1208 [25:20<2:33:44,  8.53s/it]"
     ]
    },
    {
     "name": "stdout",
     "output_type": "stream",
     "text": [
      "Input #0, mpeg, from 'Data/CorpusNGT/gloss/CNGT0068_S006.mpg':\n",
      "  Duration: 00:03:13.00, start: 0.187533, bitrate: 1731 kb/s\n",
      "    Stream #0:0[0x1e0]: Video: mpeg1video, yuv420p(tv), 352x288 [SAR 178:163 DAR 1958:1467], 1500 kb/s, 25 fps, 25 tbr, 90k tbn, 25 tbc\n",
      "    Stream #0:1[0x1c0]: Audio: mp2, 48000 Hz, mono, s16p, 192 kb/s\n",
      "At least one output file must be specified\n",
      "\n"
     ]
    },
    {
     "name": "stderr",
     "output_type": "stream",
     "text": [
      " 11%|█         | 128/1208 [25:36<2:30:47,  8.38s/it]"
     ]
    },
    {
     "name": "stdout",
     "output_type": "stream",
     "text": [
      "Input #0, mpeg, from 'Data/CorpusNGT/gloss/CNGT0069_S005.mpg':\n",
      "  Duration: 00:03:39.00, start: 0.187533, bitrate: 1731 kb/s\n",
      "    Stream #0:0[0x1e0]: Video: mpeg1video, yuv420p(tv), 352x288 [SAR 178:163 DAR 1958:1467], 1500 kb/s, 25 fps, 25 tbr, 90k tbn, 25 tbc\n",
      "    Stream #0:1[0x1c0]: Audio: mp2, 48000 Hz, mono, s16p, 192 kb/s\n",
      "At least one output file must be specified\n",
      "\n"
     ]
    },
    {
     "name": "stderr",
     "output_type": "stream",
     "text": [
      " 11%|█         | 130/1208 [25:52<2:28:49,  8.28s/it]"
     ]
    },
    {
     "name": "stdout",
     "output_type": "stream",
     "text": [
      "Input #0, mpeg, from 'Data/CorpusNGT/gloss/CNGT0069_S006.mpg':\n",
      "  Duration: 00:03:39.00, start: 0.187533, bitrate: 1731 kb/s\n",
      "    Stream #0:0[0x1e0]: Video: mpeg1video, yuv420p(tv), 352x288 [SAR 178:163 DAR 1958:1467], 1500 kb/s, 25 fps, 25 tbr, 90k tbn, 25 tbc\n",
      "    Stream #0:1[0x1c0]: Audio: mp2, 48000 Hz, mono, s16p, 192 kb/s\n",
      "At least one output file must be specified\n",
      "\n"
     ]
    },
    {
     "name": "stderr",
     "output_type": "stream",
     "text": [
      " 11%|█         | 132/1208 [26:06<2:21:30,  7.89s/it]"
     ]
    },
    {
     "name": "stdout",
     "output_type": "stream",
     "text": [
      "Input #0, mpeg, from 'Data/CorpusNGT/gloss/CNGT0092_S002.mpg':\n",
      "  Duration: 00:01:40.56, start: 0.187533, bitrate: 1732 kb/s\n",
      "    Stream #0:0[0x1e0]: Video: mpeg1video, yuv420p(tv), 352x288 [SAR 178:163 DAR 1958:1467], 1500 kb/s, 25 fps, 25 tbr, 90k tbn, 25 tbc\n",
      "    Stream #0:1[0x1c0]: Audio: mp2, 48000 Hz, mono, s16p, 192 kb/s\n",
      "At least one output file must be specified\n",
      "\n"
     ]
    },
    {
     "name": "stderr",
     "output_type": "stream",
     "text": [
      " 11%|█         | 134/1208 [26:23<2:25:40,  8.14s/it]"
     ]
    },
    {
     "name": "stdout",
     "output_type": "stream",
     "text": [
      "Input #0, mpeg, from 'Data/CorpusNGT/gloss/CNGT0093_S001.mpg':\n",
      "  Duration: 00:02:18.00, start: 0.187533, bitrate: 1731 kb/s\n",
      "    Stream #0:0[0x1e0]: Video: mpeg1video, yuv420p(tv), 352x288 [SAR 178:163 DAR 1958:1467], 1500 kb/s, 25 fps, 25 tbr, 90k tbn, 25 tbc\n",
      "    Stream #0:1[0x1c0]: Audio: mp2, 48000 Hz, mono, s16p, 192 kb/s\n",
      "At least one output file must be specified\n",
      "\n"
     ]
    },
    {
     "name": "stderr",
     "output_type": "stream",
     "text": [
      " 11%|█▏        | 136/1208 [26:46<2:42:32,  9.10s/it]"
     ]
    },
    {
     "name": "stdout",
     "output_type": "stream",
     "text": [
      "Input #0, mpeg, from 'Data/CorpusNGT/gloss/CNGT0093_S002.mpg':\n",
      "  Duration: 00:02:18.00, start: 0.187533, bitrate: 1731 kb/s\n",
      "    Stream #0:0[0x1e0]: Video: mpeg1video, yuv420p(tv), 352x288 [SAR 178:163 DAR 1958:1467], 1500 kb/s, 25 fps, 25 tbr, 90k tbn, 25 tbc\n",
      "    Stream #0:1[0x1c0]: Audio: mp2, 48000 Hz, mono, s16p, 192 kb/s\n",
      "At least one output file must be specified\n",
      "\n"
     ]
    },
    {
     "name": "stderr",
     "output_type": "stream",
     "text": [
      " 11%|█▏        | 138/1208 [26:47<1:55:12,  6.46s/it]"
     ]
    },
    {
     "name": "stdout",
     "output_type": "stream",
     "text": [
      "Input #0, mpeg, from 'Data/CorpusNGT/gloss/CNGT0094_S001.mpg':\n",
      "  Duration: 00:06:17.68, start: 0.187533, bitrate: 1730 kb/s\n",
      "    Stream #0:0[0x1e0]: Video: mpeg1video, yuv420p(tv), 352x288 [SAR 178:163 DAR 1958:1467], 1500 kb/s, 25 fps, 25 tbr, 90k tbn, 25 tbc\n",
      "    Stream #0:1[0x1c0]: Audio: mp2, 48000 Hz, mono, s16p, 192 kb/s\n",
      "At least one output file must be specified\n",
      "\n"
     ]
    },
    {
     "name": "stderr",
     "output_type": "stream",
     "text": [
      " 12%|█▏        | 140/1208 [27:26<3:06:30, 10.48s/it]"
     ]
    },
    {
     "name": "stdout",
     "output_type": "stream",
     "text": [
      "Input #0, mpeg, from 'Data/CorpusNGT/gloss/CNGT0094_S002.mpg':\n",
      "  Duration: 00:06:17.68, start: 0.187533, bitrate: 1730 kb/s\n",
      "    Stream #0:0[0x1e0]: Video: mpeg1video, yuv420p(tv), 352x288 [SAR 178:163 DAR 1958:1467], 1500 kb/s, 25 fps, 25 tbr, 90k tbn, 25 tbc\n",
      "    Stream #0:1[0x1c0]: Audio: mp2, 48000 Hz, mono, s16p, 192 kb/s\n",
      "At least one output file must be specified\n",
      "\n"
     ]
    },
    {
     "name": "stderr",
     "output_type": "stream",
     "text": [
      " 12%|█▏        | 142/1208 [28:10<4:06:51, 13.89s/it]"
     ]
    },
    {
     "name": "stdout",
     "output_type": "stream",
     "text": [
      "Input #0, mpeg, from 'Data/CorpusNGT/gloss/CNGT0095_S001.mpg':\n",
      "  Duration: 00:03:37.68, start: 0.187533, bitrate: 1731 kb/s\n",
      "    Stream #0:0[0x1e0]: Video: mpeg1video, yuv420p(tv), 352x288 [SAR 178:163 DAR 1958:1467], 1500 kb/s, 25 fps, 25 tbr, 90k tbn, 25 tbc\n",
      "    Stream #0:1[0x1c0]: Audio: mp2, 48000 Hz, mono, s16p, 192 kb/s\n",
      "At least one output file must be specified\n",
      "\n"
     ]
    },
    {
     "name": "stderr",
     "output_type": "stream",
     "text": [
      " 12%|█▏        | 144/1208 [28:34<3:54:42, 13.24s/it]"
     ]
    },
    {
     "name": "stdout",
     "output_type": "stream",
     "text": [
      "Input #0, mpeg, from 'Data/CorpusNGT/gloss/CNGT0095_S002.mpg':\n",
      "  Duration: 00:03:37.68, start: 0.187533, bitrate: 1731 kb/s\n",
      "    Stream #0:0[0x1e0]: Video: mpeg1video, yuv420p(tv), 352x288 [SAR 178:163 DAR 1958:1467], 1500 kb/s, 25 fps, 25 tbr, 90k tbn, 25 tbc\n",
      "    Stream #0:1[0x1c0]: Audio: mp2, 48000 Hz, mono, s16p, 192 kb/s\n",
      "At least one output file must be specified\n",
      "\n"
     ]
    },
    {
     "name": "stderr",
     "output_type": "stream",
     "text": [
      " 12%|█▏        | 146/1208 [28:47<3:20:43, 11.34s/it]"
     ]
    },
    {
     "name": "stdout",
     "output_type": "stream",
     "text": [
      "Input #0, mpeg, from 'Data/CorpusNGT/gloss/CNGT0096_S001.mpg':\n",
      "  Duration: 00:04:57.36, start: 0.187533, bitrate: 1730 kb/s\n",
      "    Stream #0:0[0x1e0]: Video: mpeg1video, yuv420p(tv), 352x288 [SAR 178:163 DAR 1958:1467], 1500 kb/s, 25 fps, 25 tbr, 90k tbn, 25 tbc\n",
      "    Stream #0:1[0x1c0]: Audio: mp2, 48000 Hz, mono, s16p, 192 kb/s\n",
      "At least one output file must be specified\n",
      "\n"
     ]
    },
    {
     "name": "stderr",
     "output_type": "stream",
     "text": [
      " 12%|█▏        | 148/1208 [29:14<3:30:06, 11.89s/it]"
     ]
    },
    {
     "name": "stdout",
     "output_type": "stream",
     "text": [
      "Input #0, mpeg, from 'Data/CorpusNGT/gloss/CNGT0096_S002.mpg':\n",
      "  Duration: 00:04:57.36, start: 0.187533, bitrate: 1730 kb/s\n",
      "    Stream #0:0[0x1e0]: Video: mpeg1video, yuv420p(tv), 352x288 [SAR 178:163 DAR 1958:1467], 1500 kb/s, 25 fps, 25 tbr, 90k tbn, 25 tbc\n",
      "    Stream #0:1[0x1c0]: Audio: mp2, 48000 Hz, mono, s16p, 192 kb/s\n",
      "At least one output file must be specified\n",
      "\n"
     ]
    },
    {
     "name": "stderr",
     "output_type": "stream",
     "text": [
      " 12%|█▏        | 150/1208 [29:43<3:44:08, 12.71s/it]"
     ]
    },
    {
     "name": "stdout",
     "output_type": "stream",
     "text": [
      "Input #0, mpeg, from 'Data/CorpusNGT/gloss/CNGT0097_S001.mpg':\n",
      "  Duration: 00:05:01.08, start: 0.187533, bitrate: 1730 kb/s\n",
      "    Stream #0:0[0x1e0]: Video: mpeg1video, yuv420p(tv), 352x288 [SAR 178:163 DAR 1958:1467], 1500 kb/s, 25 fps, 25 tbr, 90k tbn, 25 tbc\n",
      "    Stream #0:1[0x1c0]: Audio: mp2, 48000 Hz, mono, s16p, 192 kb/s\n",
      "At least one output file must be specified\n",
      "\n"
     ]
    },
    {
     "name": "stderr",
     "output_type": "stream",
     "text": [
      " 13%|█▎        | 152/1208 [30:23<4:22:38, 14.92s/it]"
     ]
    },
    {
     "name": "stdout",
     "output_type": "stream",
     "text": [
      "Input #0, mpeg, from 'Data/CorpusNGT/gloss/CNGT0097_S002.mpg':\n",
      "  Duration: 00:05:01.08, start: 0.187533, bitrate: 1730 kb/s\n",
      "    Stream #0:0[0x1e0]: Video: mpeg1video, yuv420p(tv), 352x288 [SAR 178:163 DAR 1958:1467], 1500 kb/s, 25 fps, 25 tbr, 90k tbn, 25 tbc\n",
      "    Stream #0:1[0x1c0]: Audio: mp2, 48000 Hz, mono, s16p, 192 kb/s\n",
      "At least one output file must be specified\n",
      "\n"
     ]
    },
    {
     "name": "stderr",
     "output_type": "stream",
     "text": [
      " 13%|█▎        | 154/1208 [30:49<4:11:39, 14.33s/it]"
     ]
    },
    {
     "name": "stdout",
     "output_type": "stream",
     "text": [
      "Input #0, mpeg, from 'Data/CorpusNGT/gloss/CNGT0098_S001.mpg':\n",
      "  Duration: 00:05:19.48, start: 0.187533, bitrate: 1730 kb/s\n",
      "    Stream #0:0[0x1e0]: Video: mpeg1video, yuv420p(tv), 352x288 [SAR 178:163 DAR 1958:1467], 1500 kb/s, 25 fps, 25 tbr, 90k tbn, 25 tbc\n",
      "    Stream #0:1[0x1c0]: Audio: mp2, 48000 Hz, mono, s16p, 192 kb/s\n",
      "At least one output file must be specified\n",
      "\n"
     ]
    },
    {
     "name": "stderr",
     "output_type": "stream",
     "text": [
      " 13%|█▎        | 156/1208 [31:25<4:29:03, 15.35s/it]"
     ]
    },
    {
     "name": "stdout",
     "output_type": "stream",
     "text": [
      "Input #0, mpeg, from 'Data/CorpusNGT/gloss/CNGT0098_S002.mpg':\n",
      "  Duration: 00:05:19.48, start: 0.187533, bitrate: 1730 kb/s\n",
      "    Stream #0:0[0x1e0]: Video: mpeg1video, yuv420p(tv), 352x288 [SAR 178:163 DAR 1958:1467], 1500 kb/s, 25 fps, 25 tbr, 90k tbn, 25 tbc\n",
      "    Stream #0:1[0x1c0]: Audio: mp2, 48000 Hz, mono, s16p, 192 kb/s\n",
      "At least one output file must be specified\n",
      "\n"
     ]
    },
    {
     "name": "stderr",
     "output_type": "stream",
     "text": [
      " 13%|█▎        | 158/1208 [31:45<4:00:33, 13.75s/it]"
     ]
    },
    {
     "name": "stdout",
     "output_type": "stream",
     "text": [
      "Input #0, mpeg, from 'Data/CorpusNGT/gloss/CNGT0099_S001.mpg':\n",
      "  Duration: 00:05:13.00, start: 0.187533, bitrate: 1730 kb/s\n",
      "    Stream #0:0[0x1e0]: Video: mpeg1video, yuv420p(tv), 352x288 [SAR 178:163 DAR 1958:1467], 1500 kb/s, 25 fps, 25 tbr, 90k tbn, 25 tbc\n",
      "    Stream #0:1[0x1c0]: Audio: mp2, 48000 Hz, mono, s16p, 192 kb/s\n",
      "At least one output file must be specified\n",
      "\n"
     ]
    },
    {
     "name": "stderr",
     "output_type": "stream",
     "text": [
      " 13%|█▎        | 160/1208 [32:31<4:50:49, 16.65s/it]"
     ]
    },
    {
     "name": "stdout",
     "output_type": "stream",
     "text": [
      "Input #0, mpeg, from 'Data/CorpusNGT/gloss/CNGT0099_S002.mpg':\n",
      "  Duration: 00:05:13.00, start: 0.187533, bitrate: 1730 kb/s\n",
      "    Stream #0:0[0x1e0]: Video: mpeg1video, yuv420p(tv), 352x288 [SAR 178:163 DAR 1958:1467], 1500 kb/s, 25 fps, 25 tbr, 90k tbn, 25 tbc\n",
      "    Stream #0:1[0x1c0]: Audio: mp2, 48000 Hz, mono, s16p, 192 kb/s\n",
      "At least one output file must be specified\n",
      "\n"
     ]
    },
    {
     "name": "stderr",
     "output_type": "stream",
     "text": [
      " 13%|█▎        | 162/1208 [32:44<3:57:25, 13.62s/it]"
     ]
    },
    {
     "name": "stdout",
     "output_type": "stream",
     "text": [
      "Input #0, mpeg, from 'Data/CorpusNGT/gloss/CNGT0117_S001.mpg':\n",
      "  Duration: 00:01:21.00, start: 0.187533, bitrate: 1732 kb/s\n",
      "    Stream #0:0[0x1e0]: Video: mpeg1video, yuv420p(tv), 352x288 [SAR 178:163 DAR 1958:1467], 1500 kb/s, 25 fps, 25 tbr, 90k tbn, 25 tbc\n",
      "    Stream #0:1[0x1c0]: Audio: mp2, 48000 Hz, mono, s16p, 192 kb/s\n",
      "At least one output file must be specified\n",
      "\n"
     ]
    },
    {
     "name": "stderr",
     "output_type": "stream",
     "text": [
      " 14%|█▎        | 164/1208 [32:58<3:21:01, 11.55s/it]"
     ]
    },
    {
     "name": "stdout",
     "output_type": "stream",
     "text": [
      "Input #0, mpeg, from 'Data/CorpusNGT/gloss/CNGT0117_S002.mpg':\n",
      "  Duration: 00:01:21.00, start: 0.187533, bitrate: 1732 kb/s\n",
      "    Stream #0:0[0x1e0]: Video: mpeg1video, yuv420p(tv), 352x288 [SAR 178:163 DAR 1958:1467], 1500 kb/s, 25 fps, 25 tbr, 90k tbn, 25 tbc\n",
      "    Stream #0:1[0x1c0]: Audio: mp2, 48000 Hz, mono, s16p, 192 kb/s\n",
      "At least one output file must be specified\n",
      "\n"
     ]
    },
    {
     "name": "stderr",
     "output_type": "stream",
     "text": [
      " 14%|█▎        | 166/1208 [33:05<2:37:36,  9.08s/it]"
     ]
    },
    {
     "name": "stdout",
     "output_type": "stream",
     "text": [
      "Input #0, mpeg, from 'Data/CorpusNGT/gloss/CNGT0119_S007.mpg':\n",
      "  Duration: 00:01:27.00, start: 0.187533, bitrate: 1732 kb/s\n",
      "    Stream #0:0[0x1e0]: Video: mpeg1video, yuv420p(tv), 352x288 [SAR 178:163 DAR 1958:1467], 1500 kb/s, 25 fps, 25 tbr, 90k tbn, 25 tbc\n",
      "    Stream #0:1[0x1c0]: Audio: mp2, 48000 Hz, mono, s16p, 192 kb/s\n",
      "At least one output file must be specified\n",
      "\n"
     ]
    },
    {
     "name": "stderr",
     "output_type": "stream",
     "text": [
      " 14%|█▍        | 168/1208 [33:08<1:58:42,  6.85s/it]"
     ]
    },
    {
     "name": "stdout",
     "output_type": "stream",
     "text": [
      "Input #0, mpeg, from 'Data/CorpusNGT/gloss/CNGT0119_S008.mpg':\n",
      "  Duration: 00:01:27.00, start: 0.187533, bitrate: 1732 kb/s\n",
      "    Stream #0:0[0x1e0]: Video: mpeg1video, yuv420p(tv), 352x288 [SAR 178:163 DAR 1958:1467], 1500 kb/s, 25 fps, 25 tbr, 90k tbn, 25 tbc\n",
      "    Stream #0:1[0x1c0]: Audio: mp2, 48000 Hz, mono, s16p, 192 kb/s\n",
      "At least one output file must be specified\n",
      "\n"
     ]
    },
    {
     "name": "stderr",
     "output_type": "stream",
     "text": [
      " 14%|█▍        | 170/1208 [33:26<2:10:55,  7.57s/it]"
     ]
    },
    {
     "name": "stdout",
     "output_type": "stream",
     "text": [
      "Input #0, mpeg, from 'Data/CorpusNGT/gloss/CNGT0120_S007.mpg':\n",
      "  Duration: 00:01:41.00, start: 0.187533, bitrate: 1732 kb/s\n",
      "    Stream #0:0[0x1e0]: Video: mpeg1video, yuv420p(tv), 352x288 [SAR 178:163 DAR 1958:1467], 1500 kb/s, 25 fps, 25 tbr, 90k tbn, 25 tbc\n",
      "    Stream #0:1[0x1c0]: Audio: mp2, 48000 Hz, mono, s16p, 192 kb/s\n",
      "At least one output file must be specified\n",
      "\n"
     ]
    },
    {
     "name": "stderr",
     "output_type": "stream",
     "text": [
      " 14%|█▍        | 172/1208 [33:54<2:43:27,  9.47s/it]"
     ]
    },
    {
     "name": "stdout",
     "output_type": "stream",
     "text": [
      "Input #0, mpeg, from 'Data/CorpusNGT/gloss/CNGT0120_S008.mpg':\n",
      "  Duration: 00:01:41.00, start: 0.187533, bitrate: 1732 kb/s\n",
      "    Stream #0:0[0x1e0]: Video: mpeg1video, yuv420p(tv), 352x288 [SAR 178:163 DAR 1958:1467], 1500 kb/s, 25 fps, 25 tbr, 90k tbn, 25 tbc\n",
      "    Stream #0:1[0x1c0]: Audio: mp2, 48000 Hz, mono, s16p, 192 kb/s\n",
      "At least one output file must be specified\n",
      "\n"
     ]
    },
    {
     "name": "stderr",
     "output_type": "stream",
     "text": [
      " 14%|█▍        | 174/1208 [33:55<1:57:00,  6.79s/it]"
     ]
    },
    {
     "name": "stdout",
     "output_type": "stream",
     "text": [
      "Input #0, mpeg, from 'Data/CorpusNGT/gloss/CNGT0121_S007.mpg':\n",
      "  Duration: 00:02:48.00, start: 0.187533, bitrate: 1731 kb/s\n",
      "    Stream #0:0[0x1e0]: Video: mpeg1video, yuv420p(tv), 352x288 [SAR 178:163 DAR 1958:1467], 1500 kb/s, 25 fps, 25 tbr, 90k tbn, 25 tbc\n",
      "    Stream #0:1[0x1c0]: Audio: mp2, 48000 Hz, mono, s16p, 192 kb/s\n",
      "At least one output file must be specified\n",
      "\n"
     ]
    },
    {
     "name": "stderr",
     "output_type": "stream",
     "text": [
      " 15%|█▍        | 176/1208 [34:19<2:23:27,  8.34s/it]"
     ]
    },
    {
     "name": "stdout",
     "output_type": "stream",
     "text": [
      "Input #0, mpeg, from 'Data/CorpusNGT/gloss/CNGT0121_S008.mpg':\n",
      "  Duration: 00:02:48.00, start: 0.187533, bitrate: 1731 kb/s\n",
      "    Stream #0:0[0x1e0]: Video: mpeg1video, yuv420p(tv), 352x288 [SAR 178:163 DAR 1958:1467], 1500 kb/s, 25 fps, 25 tbr, 90k tbn, 25 tbc\n",
      "    Stream #0:1[0x1c0]: Audio: mp2, 48000 Hz, mono, s16p, 192 kb/s\n",
      "At least one output file must be specified\n",
      "\n"
     ]
    },
    {
     "name": "stderr",
     "output_type": "stream",
     "text": [
      " 15%|█▍        | 178/1208 [34:53<3:07:42, 10.93s/it]"
     ]
    },
    {
     "name": "stdout",
     "output_type": "stream",
     "text": [
      "Input #0, mpeg, from 'Data/CorpusNGT/gloss/CNGT0124_S007.mpg':\n",
      "  Duration: 00:01:42.00, start: 0.187533, bitrate: 1732 kb/s\n",
      "    Stream #0:0[0x1e0]: Video: mpeg1video, yuv420p(tv), 352x288 [SAR 178:163 DAR 1958:1467], 1500 kb/s, 25 fps, 25 tbr, 90k tbn, 25 tbc\n",
      "    Stream #0:1[0x1c0]: Audio: mp2, 48000 Hz, mono, s16p, 192 kb/s\n",
      "At least one output file must be specified\n",
      "\n"
     ]
    },
    {
     "name": "stderr",
     "output_type": "stream",
     "text": [
      " 15%|█▍        | 180/1208 [34:55<2:17:05,  8.00s/it]"
     ]
    },
    {
     "name": "stdout",
     "output_type": "stream",
     "text": [
      "Input #0, mpeg, from 'Data/CorpusNGT/gloss/CNGT0124_S008.mpg':\n",
      "  Duration: 00:01:42.00, start: 0.187533, bitrate: 1732 kb/s\n",
      "    Stream #0:0[0x1e0]: Video: mpeg1video, yuv420p(tv), 352x288 [SAR 178:163 DAR 1958:1467], 1500 kb/s, 25 fps, 25 tbr, 90k tbn, 25 tbc\n",
      "    Stream #0:1[0x1c0]: Audio: mp2, 48000 Hz, mono, s16p, 192 kb/s\n",
      "At least one output file must be specified\n",
      "\n"
     ]
    },
    {
     "name": "stderr",
     "output_type": "stream",
     "text": [
      " 15%|█▌        | 182/1208 [35:22<2:45:05,  9.65s/it]"
     ]
    },
    {
     "name": "stdout",
     "output_type": "stream",
     "text": [
      "Input #0, mpeg, from 'Data/CorpusNGT/gloss/CNGT0128_S007.mpg':\n",
      "  Duration: 00:06:03.00, start: 0.187533, bitrate: 1730 kb/s\n",
      "    Stream #0:0[0x1e0]: Video: mpeg1video, yuv420p(tv), 352x288 [SAR 178:163 DAR 1958:1467], 1500 kb/s, 25 fps, 25 tbr, 90k tbn, 25 tbc\n",
      "    Stream #0:1[0x1c0]: Audio: mp2, 48000 Hz, mono, s16p, 192 kb/s\n",
      "At least one output file must be specified\n",
      "\n"
     ]
    },
    {
     "name": "stderr",
     "output_type": "stream",
     "text": [
      " 15%|█▌        | 184/1208 [36:08<3:51:24, 13.56s/it]"
     ]
    },
    {
     "name": "stdout",
     "output_type": "stream",
     "text": [
      "Input #0, mpeg, from 'Data/CorpusNGT/gloss/CNGT0128_S008.mpg':\n",
      "  Duration: 00:06:03.00, start: 0.187533, bitrate: 1730 kb/s\n",
      "    Stream #0:0[0x1e0]: Video: mpeg1video, yuv420p(tv), 352x288 [SAR 178:163 DAR 1958:1467], 1500 kb/s, 25 fps, 25 tbr, 90k tbn, 25 tbc\n",
      "    Stream #0:1[0x1c0]: Audio: mp2, 48000 Hz, mono, s16p, 192 kb/s\n",
      "At least one output file must be specified\n",
      "\n"
     ]
    },
    {
     "name": "stderr",
     "output_type": "stream",
     "text": [
      " 15%|█▌        | 186/1208 [37:15<5:33:19, 19.57s/it]"
     ]
    },
    {
     "name": "stdout",
     "output_type": "stream",
     "text": [
      "Input #0, mpeg, from 'Data/CorpusNGT/gloss/CNGT0129_S007.mpg':\n",
      "  Duration: 00:02:15.00, start: 0.187533, bitrate: 1731 kb/s\n",
      "    Stream #0:0[0x1e0]: Video: mpeg1video, yuv420p(tv), 352x288 [SAR 178:163 DAR 1958:1467], 1500 kb/s, 25 fps, 25 tbr, 90k tbn, 25 tbc\n",
      "    Stream #0:1[0x1c0]: Audio: mp2, 48000 Hz, mono, s16p, 192 kb/s\n",
      "At least one output file must be specified\n",
      "\n"
     ]
    },
    {
     "name": "stderr",
     "output_type": "stream",
     "text": [
      " 16%|█▌        | 188/1208 [37:27<4:23:45, 15.51s/it]"
     ]
    },
    {
     "name": "stdout",
     "output_type": "stream",
     "text": [
      "Input #0, mpeg, from 'Data/CorpusNGT/gloss/CNGT0129_S008.mpg':\n",
      "  Duration: 00:02:15.00, start: 0.187533, bitrate: 1731 kb/s\n",
      "    Stream #0:0[0x1e0]: Video: mpeg1video, yuv420p(tv), 352x288 [SAR 178:163 DAR 1958:1467], 1500 kb/s, 25 fps, 25 tbr, 90k tbn, 25 tbc\n",
      "    Stream #0:1[0x1c0]: Audio: mp2, 48000 Hz, mono, s16p, 192 kb/s\n",
      "At least one output file must be specified\n",
      "\n"
     ]
    },
    {
     "name": "stderr",
     "output_type": "stream",
     "text": [
      " 16%|█▌        | 190/1208 [37:48<3:56:34, 13.94s/it]"
     ]
    },
    {
     "name": "stdout",
     "output_type": "stream",
     "text": [
      "Input #0, mpeg, from 'Data/CorpusNGT/gloss/CNGT0130_S007.mpg':\n",
      "  Duration: 00:05:35.00, start: 0.187533, bitrate: 1730 kb/s\n",
      "    Stream #0:0[0x1e0]: Video: mpeg1video, yuv420p(tv), 352x288 [SAR 178:163 DAR 1958:1467], 1500 kb/s, 25 fps, 25 tbr, 90k tbn, 25 tbc\n",
      "    Stream #0:1[0x1c0]: Audio: mp2, 48000 Hz, mono, s16p, 192 kb/s\n",
      "At least one output file must be specified\n",
      "\n"
     ]
    },
    {
     "name": "stderr",
     "output_type": "stream",
     "text": [
      " 16%|█▌        | 192/1208 [38:30<4:32:31, 16.09s/it]"
     ]
    },
    {
     "name": "stdout",
     "output_type": "stream",
     "text": [
      "Input #0, mpeg, from 'Data/CorpusNGT/gloss/CNGT0130_S008.mpg':\n",
      "  Duration: 00:05:35.00, start: 0.187533, bitrate: 1730 kb/s\n",
      "    Stream #0:0[0x1e0]: Video: mpeg1video, yuv420p(tv), 352x288 [SAR 178:163 DAR 1958:1467], 1500 kb/s, 25 fps, 25 tbr, 90k tbn, 25 tbc\n",
      "    Stream #0:1[0x1c0]: Audio: mp2, 48000 Hz, mono, s16p, 192 kb/s\n",
      "At least one output file must be specified\n",
      "\n"
     ]
    },
    {
     "name": "stderr",
     "output_type": "stream",
     "text": [
      " 16%|█▌        | 194/1208 [39:29<5:39:29, 20.09s/it]"
     ]
    },
    {
     "name": "stdout",
     "output_type": "stream",
     "text": [
      "Input #0, mpeg, from 'Data/CorpusNGT/gloss/CNGT0131_S007.mpg':\n",
      "  Duration: 00:04:41.00, start: 0.187533, bitrate: 1730 kb/s\n",
      "    Stream #0:0[0x1e0]: Video: mpeg1video, yuv420p(tv), 352x288 [SAR 178:163 DAR 1958:1467], 1500 kb/s, 25 fps, 25 tbr, 90k tbn, 25 tbc\n",
      "    Stream #0:1[0x1c0]: Audio: mp2, 48000 Hz, mono, s16p, 192 kb/s\n",
      "At least one output file must be specified\n",
      "\n"
     ]
    },
    {
     "name": "stderr",
     "output_type": "stream",
     "text": [
      " 16%|█▌        | 196/1208 [40:01<5:18:28, 18.88s/it]"
     ]
    },
    {
     "name": "stdout",
     "output_type": "stream",
     "text": [
      "Input #0, mpeg, from 'Data/CorpusNGT/gloss/CNGT0131_S008.mpg':\n",
      "  Duration: 00:04:41.00, start: 0.187533, bitrate: 1730 kb/s\n",
      "    Stream #0:0[0x1e0]: Video: mpeg1video, yuv420p(tv), 352x288 [SAR 178:163 DAR 1958:1467], 1500 kb/s, 25 fps, 25 tbr, 90k tbn, 25 tbc\n",
      "    Stream #0:1[0x1c0]: Audio: mp2, 48000 Hz, mono, s16p, 192 kb/s\n",
      "At least one output file must be specified\n",
      "\n"
     ]
    },
    {
     "name": "stderr",
     "output_type": "stream",
     "text": [
      " 16%|█▋        | 198/1208 [41:02<6:16:25, 22.36s/it]"
     ]
    },
    {
     "name": "stdout",
     "output_type": "stream",
     "text": [
      "Input #0, mpeg, from 'Data/CorpusNGT/gloss/CNGT0132_S007.mpg':\n",
      "  Duration: 00:06:40.00, start: 0.187533, bitrate: 1730 kb/s\n",
      "    Stream #0:0[0x1e0]: Video: mpeg1video, yuv420p(tv), 352x288 [SAR 178:163 DAR 1958:1467], 1500 kb/s, 25 fps, 25 tbr, 90k tbn, 25 tbc\n",
      "    Stream #0:1[0x1c0]: Audio: mp2, 48000 Hz, mono, s16p, 192 kb/s\n",
      "At least one output file must be specified\n",
      "\n"
     ]
    },
    {
     "name": "stderr",
     "output_type": "stream",
     "text": [
      " 17%|█▋        | 200/1208 [41:49<6:22:52, 22.79s/it]"
     ]
    },
    {
     "name": "stdout",
     "output_type": "stream",
     "text": [
      "Input #0, mpeg, from 'Data/CorpusNGT/gloss/CNGT0132_S008.mpg':\n",
      "  Duration: 00:06:40.00, start: 0.187533, bitrate: 1730 kb/s\n",
      "    Stream #0:0[0x1e0]: Video: mpeg1video, yuv420p(tv), 352x288 [SAR 178:163 DAR 1958:1467], 1500 kb/s, 25 fps, 25 tbr, 90k tbn, 25 tbc\n",
      "    Stream #0:1[0x1c0]: Audio: mp2, 48000 Hz, mono, s16p, 192 kb/s\n",
      "At least one output file must be specified\n",
      "\n"
     ]
    },
    {
     "name": "stderr",
     "output_type": "stream",
     "text": [
      " 17%|█▋        | 202/1208 [42:53<7:06:39, 25.45s/it]"
     ]
    },
    {
     "name": "stdout",
     "output_type": "stream",
     "text": [
      "Input #0, mpeg, from 'Data/CorpusNGT/gloss/CNGT0133_S007.mpg':\n",
      "  Duration: 00:00:46.00, start: 0.187533, bitrate: 1735 kb/s\n",
      "    Stream #0:0[0x1e0]: Video: mpeg1video, yuv420p(tv), 352x288 [SAR 178:163 DAR 1958:1467], 1500 kb/s, 25 fps, 25 tbr, 90k tbn, 25 tbc\n",
      "    Stream #0:1[0x1c0]: Audio: mp2, 48000 Hz, mono, s16p, 192 kb/s\n",
      "At least one output file must be specified\n",
      "\n"
     ]
    },
    {
     "name": "stderr",
     "output_type": "stream",
     "text": [
      " 17%|█▋        | 204/1208 [42:56<5:07:13, 18.36s/it]"
     ]
    },
    {
     "name": "stdout",
     "output_type": "stream",
     "text": [
      "Input #0, mpeg, from 'Data/CorpusNGT/gloss/CNGT0133_S008.mpg':\n",
      "  Duration: 00:00:46.00, start: 0.187533, bitrate: 1735 kb/s\n",
      "    Stream #0:0[0x1e0]: Video: mpeg1video, yuv420p(tv), 352x288 [SAR 178:163 DAR 1958:1467], 1500 kb/s, 25 fps, 25 tbr, 90k tbn, 25 tbc\n",
      "    Stream #0:1[0x1c0]: Audio: mp2, 48000 Hz, mono, s16p, 192 kb/s\n",
      "At least one output file must be specified\n",
      "\n"
     ]
    },
    {
     "name": "stderr",
     "output_type": "stream",
     "text": [
      " 17%|█▋        | 206/1208 [43:00<3:43:23, 13.38s/it]"
     ]
    },
    {
     "name": "stdout",
     "output_type": "stream",
     "text": [
      "Input #0, mpeg, from 'Data/CorpusNGT/gloss/CNGT0134_S007.mpg':\n",
      "  Duration: 00:04:28.00, start: 0.187533, bitrate: 1730 kb/s\n",
      "    Stream #0:0[0x1e0]: Video: mpeg1video, yuv420p(tv), 352x288 [SAR 178:163 DAR 1958:1467], 1500 kb/s, 25 fps, 25 tbr, 90k tbn, 25 tbc\n",
      "    Stream #0:1[0x1c0]: Audio: mp2, 48000 Hz, mono, s16p, 192 kb/s\n",
      "At least one output file must be specified\n",
      "\n"
     ]
    },
    {
     "name": "stderr",
     "output_type": "stream",
     "text": [
      " 17%|█▋        | 208/1208 [43:23<3:33:21, 12.80s/it]"
     ]
    },
    {
     "name": "stdout",
     "output_type": "stream",
     "text": [
      "Input #0, mpeg, from 'Data/CorpusNGT/gloss/CNGT0134_S008.mpg':\n",
      "  Duration: 00:04:28.00, start: 0.187533, bitrate: 1730 kb/s\n",
      "    Stream #0:0[0x1e0]: Video: mpeg1video, yuv420p(tv), 352x288 [SAR 178:163 DAR 1958:1467], 1500 kb/s, 25 fps, 25 tbr, 90k tbn, 25 tbc\n",
      "    Stream #0:1[0x1c0]: Audio: mp2, 48000 Hz, mono, s16p, 192 kb/s\n",
      "At least one output file must be specified\n",
      "\n"
     ]
    },
    {
     "name": "stderr",
     "output_type": "stream",
     "text": [
      " 17%|█▋        | 210/1208 [44:21<4:55:06, 17.74s/it]"
     ]
    },
    {
     "name": "stdout",
     "output_type": "stream",
     "text": [
      "Input #0, mpeg, from 'Data/CorpusNGT/gloss/CNGT0135_S007.mpg':\n",
      "  Duration: 00:03:44.00, start: 0.187533, bitrate: 1730 kb/s\n",
      "    Stream #0:0[0x1e0]: Video: mpeg1video, yuv420p(tv), 352x288 [SAR 178:163 DAR 1958:1467], 1500 kb/s, 25 fps, 25 tbr, 90k tbn, 25 tbc\n",
      "    Stream #0:1[0x1c0]: Audio: mp2, 48000 Hz, mono, s16p, 192 kb/s\n",
      "At least one output file must be specified\n",
      "\n"
     ]
    },
    {
     "name": "stderr",
     "output_type": "stream",
     "text": [
      " 18%|█▊        | 212/1208 [44:45<4:24:56, 15.96s/it]"
     ]
    },
    {
     "name": "stdout",
     "output_type": "stream",
     "text": [
      "Input #0, mpeg, from 'Data/CorpusNGT/gloss/CNGT0135_S008.mpg':\n",
      "  Duration: 00:03:44.00, start: 0.187533, bitrate: 1730 kb/s\n",
      "    Stream #0:0[0x1e0]: Video: mpeg1video, yuv420p(tv), 352x288 [SAR 178:163 DAR 1958:1467], 1500 kb/s, 25 fps, 25 tbr, 90k tbn, 25 tbc\n",
      "    Stream #0:1[0x1c0]: Audio: mp2, 48000 Hz, mono, s16p, 192 kb/s\n",
      "At least one output file must be specified\n",
      "\n"
     ]
    },
    {
     "name": "stderr",
     "output_type": "stream",
     "text": [
      " 18%|█▊        | 214/1208 [44:54<3:27:26, 12.52s/it]"
     ]
    },
    {
     "name": "stdout",
     "output_type": "stream",
     "text": [
      "Input #0, mpeg, from 'Data/CorpusNGT/gloss/CNGT0136_S007.mpg':\n",
      "  Duration: 00:03:37.00, start: 0.187533, bitrate: 1731 kb/s\n",
      "    Stream #0:0[0x1e0]: Video: mpeg1video, yuv420p(tv), 352x288 [SAR 178:163 DAR 1958:1467], 1500 kb/s, 25 fps, 25 tbr, 90k tbn, 25 tbc\n",
      "    Stream #0:1[0x1c0]: Audio: mp2, 48000 Hz, mono, s16p, 192 kb/s\n",
      "At least one output file must be specified\n",
      "\n"
     ]
    },
    {
     "name": "stderr",
     "output_type": "stream",
     "text": [
      " 18%|█▊        | 216/1208 [45:02<2:45:36, 10.02s/it]"
     ]
    },
    {
     "name": "stdout",
     "output_type": "stream",
     "text": [
      "Input #0, mpeg, from 'Data/CorpusNGT/gloss/CNGT0136_S008.mpg':\n",
      "  Duration: 00:03:37.00, start: 0.187533, bitrate: 1731 kb/s\n",
      "    Stream #0:0[0x1e0]: Video: mpeg1video, yuv420p(tv), 352x288 [SAR 178:163 DAR 1958:1467], 1500 kb/s, 25 fps, 25 tbr, 90k tbn, 25 tbc\n",
      "    Stream #0:1[0x1c0]: Audio: mp2, 48000 Hz, mono, s16p, 192 kb/s\n",
      "At least one output file must be specified\n",
      "\n"
     ]
    },
    {
     "name": "stderr",
     "output_type": "stream",
     "text": [
      " 18%|█▊        | 218/1208 [45:51<3:56:17, 14.32s/it]"
     ]
    },
    {
     "name": "stdout",
     "output_type": "stream",
     "text": [
      "Input #0, mpeg, from 'Data/CorpusNGT/gloss/CNGT0137_S007.mpg':\n",
      "  Duration: 00:05:31.00, start: 0.187533, bitrate: 1730 kb/s\n",
      "    Stream #0:0[0x1e0]: Video: mpeg1video, yuv420p(tv), 352x288 [SAR 178:163 DAR 1958:1467], 1500 kb/s, 25 fps, 25 tbr, 90k tbn, 25 tbc\n",
      "    Stream #0:1[0x1c0]: Audio: mp2, 48000 Hz, mono, s16p, 192 kb/s\n",
      "At least one output file must be specified\n",
      "\n"
     ]
    },
    {
     "name": "stderr",
     "output_type": "stream",
     "text": [
      " 18%|█▊        | 220/1208 [46:28<4:15:41, 15.53s/it]"
     ]
    },
    {
     "name": "stdout",
     "output_type": "stream",
     "text": [
      "Input #0, mpeg, from 'Data/CorpusNGT/gloss/CNGT0137_S008.mpg':\n",
      "  Duration: 00:05:31.00, start: 0.187533, bitrate: 1730 kb/s\n",
      "    Stream #0:0[0x1e0]: Video: mpeg1video, yuv420p(tv), 352x288 [SAR 178:163 DAR 1958:1467], 1500 kb/s, 25 fps, 25 tbr, 90k tbn, 25 tbc\n",
      "    Stream #0:1[0x1c0]: Audio: mp2, 48000 Hz, mono, s16p, 192 kb/s\n",
      "At least one output file must be specified\n",
      "\n"
     ]
    },
    {
     "name": "stderr",
     "output_type": "stream",
     "text": [
      " 18%|█▊        | 222/1208 [47:34<5:42:49, 20.86s/it]"
     ]
    },
    {
     "name": "stdout",
     "output_type": "stream",
     "text": [
      "Input #0, mpeg, from 'Data/CorpusNGT/gloss/CNGT0138_S007.mpg':\n",
      "  Duration: 00:03:19.00, start: 0.187533, bitrate: 1731 kb/s\n",
      "    Stream #0:0[0x1e0]: Video: mpeg1video, yuv420p(tv), 352x288 [SAR 178:163 DAR 1958:1467], 1500 kb/s, 25 fps, 25 tbr, 90k tbn, 25 tbc\n",
      "    Stream #0:1[0x1c0]: Audio: mp2, 48000 Hz, mono, s16p, 192 kb/s\n",
      "At least one output file must be specified\n",
      "\n"
     ]
    },
    {
     "name": "stderr",
     "output_type": "stream",
     "text": [
      " 19%|█▊        | 224/1208 [47:54<4:47:04, 17.50s/it]"
     ]
    },
    {
     "name": "stdout",
     "output_type": "stream",
     "text": [
      "Input #0, mpeg, from 'Data/CorpusNGT/gloss/CNGT0138_S008.mpg':\n",
      "  Duration: 00:03:19.00, start: 0.187533, bitrate: 1731 kb/s\n",
      "    Stream #0:0[0x1e0]: Video: mpeg1video, yuv420p(tv), 352x288 [SAR 178:163 DAR 1958:1467], 1500 kb/s, 25 fps, 25 tbr, 90k tbn, 25 tbc\n",
      "    Stream #0:1[0x1c0]: Audio: mp2, 48000 Hz, mono, s16p, 192 kb/s\n",
      "At least one output file must be specified\n",
      "\n"
     ]
    },
    {
     "name": "stderr",
     "output_type": "stream",
     "text": [
      " 19%|█▊        | 226/1208 [48:32<4:54:56, 18.02s/it]"
     ]
    },
    {
     "name": "stdout",
     "output_type": "stream",
     "text": [
      "Input #0, mpeg, from 'Data/CorpusNGT/gloss/CNGT0139_S007.mpg':\n",
      "  Duration: 00:04:05.00, start: 0.187533, bitrate: 1730 kb/s\n",
      "    Stream #0:0[0x1e0]: Video: mpeg1video, yuv420p(tv), 352x288 [SAR 178:163 DAR 1958:1467], 1500 kb/s, 25 fps, 25 tbr, 90k tbn, 25 tbc\n",
      "    Stream #0:1[0x1c0]: Audio: mp2, 48000 Hz, mono, s16p, 192 kb/s\n",
      "At least one output file must be specified\n",
      "\n"
     ]
    },
    {
     "name": "stderr",
     "output_type": "stream",
     "text": [
      " 19%|█▉        | 228/1208 [48:58<4:30:20, 16.55s/it]"
     ]
    },
    {
     "name": "stdout",
     "output_type": "stream",
     "text": [
      "Input #0, mpeg, from 'Data/CorpusNGT/gloss/CNGT0139_S008.mpg':\n",
      "  Duration: 00:04:05.00, start: 0.187533, bitrate: 1730 kb/s\n",
      "    Stream #0:0[0x1e0]: Video: mpeg1video, yuv420p(tv), 352x288 [SAR 178:163 DAR 1958:1467], 1500 kb/s, 25 fps, 25 tbr, 90k tbn, 25 tbc\n",
      "    Stream #0:1[0x1c0]: Audio: mp2, 48000 Hz, mono, s16p, 192 kb/s\n",
      "At least one output file must be specified\n",
      "\n"
     ]
    },
    {
     "name": "stderr",
     "output_type": "stream",
     "text": [
      " 19%|█▉        | 230/1208 [49:24<4:11:41, 15.44s/it]"
     ]
    },
    {
     "name": "stdout",
     "output_type": "stream",
     "text": [
      "Input #0, mpeg, from 'Data/CorpusNGT/gloss/CNGT0154_S007.mpg':\n",
      "  Duration: 00:01:17.00, start: 0.187533, bitrate: 1732 kb/s\n",
      "    Stream #0:0[0x1e0]: Video: mpeg1video, yuv420p(tv), 352x288 [SAR 178:163 DAR 1958:1467], 1500 kb/s, 25 fps, 25 tbr, 90k tbn, 25 tbc\n",
      "    Stream #0:1[0x1c0]: Audio: mp2, 48000 Hz, mono, s16p, 192 kb/s\n",
      "At least one output file must be specified\n",
      "\n"
     ]
    },
    {
     "name": "stderr",
     "output_type": "stream",
     "text": [
      " 19%|█▉        | 232/1208 [49:24<2:57:04, 10.89s/it]"
     ]
    },
    {
     "name": "stdout",
     "output_type": "stream",
     "text": [
      "Input #0, mpeg, from 'Data/CorpusNGT/gloss/CNGT0154_S008.mpg':\n",
      "  Duration: 00:01:17.00, start: 0.187533, bitrate: 1732 kb/s\n",
      "    Stream #0:0[0x1e0]: Video: mpeg1video, yuv420p(tv), 352x288 [SAR 178:163 DAR 1958:1467], 1500 kb/s, 25 fps, 25 tbr, 90k tbn, 25 tbc\n",
      "    Stream #0:1[0x1c0]: Audio: mp2, 48000 Hz, mono, s16p, 192 kb/s\n",
      "At least one output file must be specified\n",
      "\n"
     ]
    },
    {
     "name": "stderr",
     "output_type": "stream",
     "text": [
      " 19%|█▉        | 234/1208 [49:42<2:47:19, 10.31s/it]"
     ]
    },
    {
     "name": "stdout",
     "output_type": "stream",
     "text": [
      "Input #0, mpeg, from 'Data/CorpusNGT/gloss/CNGT0170_S009.mpg':\n",
      "  Duration: 00:05:20.00, start: 0.187533, bitrate: 1730 kb/s\n",
      "    Stream #0:0[0x1e0]: Video: mpeg1video, yuv420p(tv), 352x288 [SAR 178:163 DAR 1958:1467], 1500 kb/s, 25 fps, 25 tbr, 90k tbn, 25 tbc\n",
      "    Stream #0:1[0x1c0]: Audio: mp2, 48000 Hz, mono, s16p, 192 kb/s\n",
      "At least one output file must be specified\n",
      "\n"
     ]
    },
    {
     "name": "stderr",
     "output_type": "stream",
     "text": [
      " 20%|█▉        | 236/1208 [50:18<3:23:29, 12.56s/it]"
     ]
    },
    {
     "name": "stdout",
     "output_type": "stream",
     "text": [
      "Input #0, mpeg, from 'Data/CorpusNGT/gloss/CNGT0170_S010.mpg':\n",
      "  Duration: 00:05:20.00, start: 0.187533, bitrate: 1730 kb/s\n",
      "    Stream #0:0[0x1e0]: Video: mpeg1video, yuv420p(tv), 352x288 [SAR 178:163 DAR 1958:1467], 1500 kb/s, 25 fps, 25 tbr, 90k tbn, 25 tbc\n",
      "    Stream #0:1[0x1c0]: Audio: mp2, 48000 Hz, mono, s16p, 192 kb/s\n",
      "At least one output file must be specified\n",
      "\n"
     ]
    },
    {
     "name": "stderr",
     "output_type": "stream",
     "text": [
      " 20%|█▉        | 238/1208 [50:42<3:20:44, 12.42s/it]"
     ]
    },
    {
     "name": "stdout",
     "output_type": "stream",
     "text": [
      "Input #0, mpeg, from 'Data/CorpusNGT/gloss/CNGT0206_S011.mpg':\n",
      "  Duration: 00:01:48.00, start: 0.187533, bitrate: 1732 kb/s\n",
      "    Stream #0:0[0x1e0]: Video: mpeg1video, yuv420p(tv), 352x288 [SAR 178:163 DAR 1958:1467], 1500 kb/s, 25 fps, 25 tbr, 90k tbn, 25 tbc\n",
      "    Stream #0:1[0x1c0]: Audio: mp2, 48000 Hz, mono, s16p, 192 kb/s\n",
      "At least one output file must be specified\n",
      "\n"
     ]
    },
    {
     "name": "stderr",
     "output_type": "stream",
     "text": [
      " 20%|█▉        | 240/1208 [50:54<2:49:19, 10.50s/it]"
     ]
    },
    {
     "name": "stdout",
     "output_type": "stream",
     "text": [
      "Input #0, mpeg, from 'Data/CorpusNGT/gloss/CNGT0206_S012.mpg':\n",
      "  Duration: 00:01:48.00, start: 0.187533, bitrate: 1732 kb/s\n",
      "    Stream #0:0[0x1e0]: Video: mpeg1video, yuv420p(tv), 352x288 [SAR 178:163 DAR 1958:1467], 1500 kb/s, 25 fps, 25 tbr, 90k tbn, 25 tbc\n",
      "    Stream #0:1[0x1c0]: Audio: mp2, 48000 Hz, mono, s16p, 192 kb/s\n",
      "At least one output file must be specified\n",
      "\n"
     ]
    },
    {
     "name": "stderr",
     "output_type": "stream",
     "text": [
      " 20%|██        | 242/1208 [50:59<2:10:21,  8.10s/it]"
     ]
    },
    {
     "name": "stdout",
     "output_type": "stream",
     "text": [
      "Input #0, mpeg, from 'Data/CorpusNGT/gloss/CNGT0207_S011.mpg':\n",
      "  Duration: 00:02:02.00, start: 0.187533, bitrate: 1731 kb/s\n",
      "    Stream #0:0[0x1e0]: Video: mpeg1video, yuv420p(tv), 352x288 [SAR 178:163 DAR 1958:1467], 1500 kb/s, 25 fps, 25 tbr, 90k tbn, 25 tbc\n",
      "    Stream #0:1[0x1c0]: Audio: mp2, 48000 Hz, mono, s16p, 192 kb/s\n",
      "At least one output file must be specified\n",
      "\n"
     ]
    },
    {
     "name": "stderr",
     "output_type": "stream",
     "text": [
      " 20%|██        | 244/1208 [51:00<1:31:51,  5.72s/it]"
     ]
    },
    {
     "name": "stdout",
     "output_type": "stream",
     "text": [
      "Input #0, mpeg, from 'Data/CorpusNGT/gloss/CNGT0207_S012.mpg':\n",
      "  Duration: 00:02:02.00, start: 0.187533, bitrate: 1731 kb/s\n",
      "    Stream #0:0[0x1e0]: Video: mpeg1video, yuv420p(tv), 352x288 [SAR 178:163 DAR 1958:1467], 1500 kb/s, 25 fps, 25 tbr, 90k tbn, 25 tbc\n",
      "    Stream #0:1[0x1c0]: Audio: mp2, 48000 Hz, mono, s16p, 192 kb/s\n",
      "At least one output file must be specified\n",
      "\n"
     ]
    },
    {
     "name": "stderr",
     "output_type": "stream",
     "text": [
      " 20%|██        | 246/1208 [51:24<2:02:14,  7.62s/it]"
     ]
    },
    {
     "name": "stdout",
     "output_type": "stream",
     "text": [
      "Input #0, mpeg, from 'Data/CorpusNGT/gloss/CNGT0208_S011.mpg':\n",
      "  Duration: 00:09:04.00, start: 0.187533, bitrate: 1730 kb/s\n",
      "    Stream #0:0[0x1e0]: Video: mpeg1video, yuv420p(tv), 352x288 [SAR 178:163 DAR 1958:1467], 1500 kb/s, 25 fps, 25 tbr, 90k tbn, 25 tbc\n",
      "    Stream #0:1[0x1c0]: Audio: mp2, 48000 Hz, mono, s16p, 192 kb/s\n",
      "At least one output file must be specified\n",
      "\n"
     ]
    },
    {
     "name": "stderr",
     "output_type": "stream",
     "text": [
      " 21%|██        | 248/1208 [52:11<3:18:28, 12.40s/it]"
     ]
    },
    {
     "name": "stdout",
     "output_type": "stream",
     "text": [
      "Input #0, mpeg, from 'Data/CorpusNGT/gloss/CNGT0208_S012.mpg':\n",
      "  Duration: 00:09:04.00, start: 0.187533, bitrate: 1730 kb/s\n",
      "    Stream #0:0[0x1e0]: Video: mpeg1video, yuv420p(tv), 352x288 [SAR 178:163 DAR 1958:1467], 1500 kb/s, 25 fps, 25 tbr, 90k tbn, 25 tbc\n",
      "    Stream #0:1[0x1c0]: Audio: mp2, 48000 Hz, mono, s16p, 192 kb/s\n",
      "At least one output file must be specified\n",
      "\n"
     ]
    },
    {
     "name": "stderr",
     "output_type": "stream",
     "text": [
      " 21%|██        | 250/1208 [53:10<4:39:14, 17.49s/it]"
     ]
    },
    {
     "name": "stdout",
     "output_type": "stream",
     "text": [
      "Input #0, mpeg, from 'Data/CorpusNGT/gloss/CNGT0209_S011.mpg':\n",
      "  Duration: 00:00:58.00, start: 0.187533, bitrate: 1733 kb/s\n",
      "    Stream #0:0[0x1e0]: Video: mpeg1video, yuv420p(tv), 352x288 [SAR 178:163 DAR 1958:1467], 1500 kb/s, 25 fps, 25 tbr, 90k tbn, 25 tbc\n",
      "    Stream #0:1[0x1c0]: Audio: mp2, 48000 Hz, mono, s16p, 192 kb/s\n",
      "At least one output file must be specified\n",
      "\n"
     ]
    },
    {
     "name": "stderr",
     "output_type": "stream",
     "text": [
      " 21%|██        | 252/1208 [53:10<3:17:05, 12.37s/it]"
     ]
    },
    {
     "name": "stdout",
     "output_type": "stream",
     "text": [
      "Input #0, mpeg, from 'Data/CorpusNGT/gloss/CNGT0209_S012.mpg':\n",
      "  Duration: 00:00:58.00, start: 0.187533, bitrate: 1733 kb/s\n",
      "    Stream #0:0[0x1e0]: Video: mpeg1video, yuv420p(tv), 352x288 [SAR 178:163 DAR 1958:1467], 1500 kb/s, 25 fps, 25 tbr, 90k tbn, 25 tbc\n",
      "    Stream #0:1[0x1c0]: Audio: mp2, 48000 Hz, mono, s16p, 192 kb/s\n",
      "At least one output file must be specified\n",
      "\n"
     ]
    },
    {
     "name": "stderr",
     "output_type": "stream",
     "text": [
      " 21%|██        | 254/1208 [53:19<2:37:47,  9.92s/it]"
     ]
    },
    {
     "name": "stdout",
     "output_type": "stream",
     "text": [
      "Input #0, mpeg, from 'Data/CorpusNGT/gloss/CNGT0210_S011.mpg':\n",
      "  Duration: 00:01:21.00, start: 0.187533, bitrate: 1732 kb/s\n",
      "    Stream #0:0[0x1e0]: Video: mpeg1video, yuv420p(tv), 352x288 [SAR 178:163 DAR 1958:1467], 1500 kb/s, 25 fps, 25 tbr, 90k tbn, 25 tbc\n",
      "    Stream #0:1[0x1c0]: Audio: mp2, 48000 Hz, mono, s16p, 192 kb/s\n",
      "At least one output file must be specified\n",
      "\n"
     ]
    },
    {
     "name": "stderr",
     "output_type": "stream",
     "text": [
      " 21%|██        | 256/1208 [53:29<2:14:58,  8.51s/it]"
     ]
    },
    {
     "name": "stdout",
     "output_type": "stream",
     "text": [
      "Input #0, mpeg, from 'Data/CorpusNGT/gloss/CNGT0210_S012.mpg':\n",
      "  Duration: 00:01:21.00, start: 0.187533, bitrate: 1732 kb/s\n",
      "    Stream #0:0[0x1e0]: Video: mpeg1video, yuv420p(tv), 352x288 [SAR 178:163 DAR 1958:1467], 1500 kb/s, 25 fps, 25 tbr, 90k tbn, 25 tbc\n",
      "    Stream #0:1[0x1c0]: Audio: mp2, 48000 Hz, mono, s16p, 192 kb/s\n",
      "At least one output file must be specified\n",
      "\n"
     ]
    },
    {
     "name": "stderr",
     "output_type": "stream",
     "text": [
      " 21%|██▏       | 258/1208 [53:31<1:39:14,  6.27s/it]"
     ]
    },
    {
     "name": "stdout",
     "output_type": "stream",
     "text": [
      "Input #0, mpeg, from 'Data/CorpusNGT/gloss/CNGT0211_S012.mpg':\n",
      "  Duration: 00:01:34.00, start: 0.187533, bitrate: 1732 kb/s\n",
      "    Stream #0:0[0x1e0]: Video: mpeg1video, yuv420p(tv), 352x288 [SAR 178:163 DAR 1958:1467], 1500 kb/s, 25 fps, 25 tbr, 90k tbn, 25 tbc\n",
      "    Stream #0:1[0x1c0]: Audio: mp2, 48000 Hz, mono, s16p, 192 kb/s\n",
      "At least one output file must be specified\n",
      "\n"
     ]
    },
    {
     "name": "stderr",
     "output_type": "stream",
     "text": [
      " 22%|██▏       | 260/1208 [53:49<1:50:45,  7.01s/it]"
     ]
    },
    {
     "name": "stdout",
     "output_type": "stream",
     "text": [
      "Input #0, mpeg, from 'Data/CorpusNGT/gloss/CNGT0212_S011.mpg':\n",
      "  Duration: 00:01:46.00, start: 0.187533, bitrate: 1732 kb/s\n",
      "    Stream #0:0[0x1e0]: Video: mpeg1video, yuv420p(tv), 352x288 [SAR 178:163 DAR 1958:1467], 1500 kb/s, 25 fps, 25 tbr, 90k tbn, 25 tbc\n",
      "    Stream #0:1[0x1c0]: Audio: mp2, 48000 Hz, mono, s16p, 192 kb/s\n",
      "At least one output file must be specified\n",
      "\n"
     ]
    },
    {
     "name": "stderr",
     "output_type": "stream",
     "text": [
      " 22%|██▏       | 264/1208 [54:01<1:14:15,  4.72s/it]"
     ]
    },
    {
     "name": "stdout",
     "output_type": "stream",
     "text": [
      "Input #0, mpeg, from 'Data/CorpusNGT/gloss/CNGT0212_S012.mpg':\n",
      "  Duration: 00:01:46.00, start: 0.187533, bitrate: 1732 kb/s\n",
      "    Stream #0:0[0x1e0]: Video: mpeg1video, yuv420p(tv), 352x288 [SAR 178:163 DAR 1958:1467], 1500 kb/s, 25 fps, 25 tbr, 90k tbn, 25 tbc\n",
      "    Stream #0:1[0x1c0]: Audio: mp2, 48000 Hz, mono, s16p, 192 kb/s\n",
      "At least one output file must be specified\n",
      "\n",
      "Input #0, mpeg, from 'Data/CorpusNGT/gloss/CNGT0213_S011.mpg':\n",
      "  Duration: 00:01:03.00, start: 0.187533, bitrate: 1733 kb/s\n",
      "    Stream #0:0[0x1e0]: Video: mpeg1video, yuv420p(tv), 352x288 [SAR 178:163 DAR 1958:1467], 1500 kb/s, 25 fps, 25 tbr, 90k tbn, 25 tbc\n",
      "    Stream #0:1[0x1c0]: Audio: mp2, 48000 Hz, mono, s16p, 192 kb/s\n",
      "At least one output file must be specified\n",
      "\n",
      "Input #0, mpeg, from 'Data/CorpusNGT/gloss/CNGT0213_S012.mpg':\n",
      "  Duration: 00:01:03.00, start: 0.187533, bitrate: 1733 kb/s\n",
      "    Stream #0:0[0x1e0]: Video: mpeg1video, yuv420p(tv), 352x288 [SAR 178:163 DAR 1958:1467], 1500 kb/s, 25 fps, 25 tbr, 90k tbn, 25 tbc\n",
      "    Stream #0:1[0x1c0]: Audio: mp2, 48000 Hz, mono, s16p, 192 kb/s\n",
      "At least one output file must be specified\n",
      "\n"
     ]
    },
    {
     "name": "stderr",
     "output_type": "stream",
     "text": [
      " 22%|██▏       | 268/1208 [54:09<53:48,  3.43s/it]  "
     ]
    },
    {
     "name": "stdout",
     "output_type": "stream",
     "text": [
      "Input #0, mpeg, from 'Data/CorpusNGT/gloss/CNGT0214_S011.mpg':\n",
      "  Duration: 00:01:29.00, start: 0.187533, bitrate: 1732 kb/s\n",
      "    Stream #0:0[0x1e0]: Video: mpeg1video, yuv420p(tv), 352x288 [SAR 178:163 DAR 1958:1467], 1500 kb/s, 25 fps, 25 tbr, 90k tbn, 25 tbc\n",
      "    Stream #0:1[0x1c0]: Audio: mp2, 48000 Hz, mono, s16p, 192 kb/s\n",
      "At least one output file must be specified\n",
      "\n"
     ]
    },
    {
     "name": "stderr",
     "output_type": "stream",
     "text": [
      " 22%|██▏       | 270/1208 [54:24<1:09:34,  4.45s/it]"
     ]
    },
    {
     "name": "stdout",
     "output_type": "stream",
     "text": [
      "Input #0, mpeg, from 'Data/CorpusNGT/gloss/CNGT0214_S012.mpg':\n",
      "  Duration: 00:01:29.00, start: 0.187533, bitrate: 1732 kb/s\n",
      "    Stream #0:0[0x1e0]: Video: mpeg1video, yuv420p(tv), 352x288 [SAR 178:163 DAR 1958:1467], 1500 kb/s, 25 fps, 25 tbr, 90k tbn, 25 tbc\n",
      "    Stream #0:1[0x1c0]: Audio: mp2, 48000 Hz, mono, s16p, 192 kb/s\n",
      "At least one output file must be specified\n",
      "\n"
     ]
    },
    {
     "name": "stderr",
     "output_type": "stream",
     "text": [
      " 23%|██▎       | 272/1208 [54:25<53:22,  3.42s/it]  "
     ]
    },
    {
     "name": "stdout",
     "output_type": "stream",
     "text": [
      "Input #0, mpeg, from 'Data/CorpusNGT/gloss/CNGT0215_S011.mpg':\n",
      "  Duration: 00:06:27.00, start: 0.187533, bitrate: 1730 kb/s\n",
      "    Stream #0:0[0x1e0]: Video: mpeg1video, yuv420p(tv), 352x288 [SAR 178:163 DAR 1958:1467], 1500 kb/s, 25 fps, 25 tbr, 90k tbn, 25 tbc\n",
      "    Stream #0:1[0x1c0]: Audio: mp2, 48000 Hz, mono, s16p, 192 kb/s\n",
      "At least one output file must be specified\n",
      "\n"
     ]
    },
    {
     "name": "stderr",
     "output_type": "stream",
     "text": [
      " 23%|██▎       | 274/1208 [54:49<1:30:28,  5.81s/it]"
     ]
    },
    {
     "name": "stdout",
     "output_type": "stream",
     "text": [
      "Input #0, mpeg, from 'Data/CorpusNGT/gloss/CNGT0215_S012.mpg':\n",
      "  Duration: 00:06:27.00, start: 0.187533, bitrate: 1730 kb/s\n",
      "    Stream #0:0[0x1e0]: Video: mpeg1video, yuv420p(tv), 352x288 [SAR 178:163 DAR 1958:1467], 1500 kb/s, 25 fps, 25 tbr, 90k tbn, 25 tbc\n",
      "    Stream #0:1[0x1c0]: Audio: mp2, 48000 Hz, mono, s16p, 192 kb/s\n",
      "At least one output file must be specified\n",
      "\n"
     ]
    },
    {
     "name": "stderr",
     "output_type": "stream",
     "text": [
      " 23%|██▎       | 276/1208 [56:13<4:06:26, 15.86s/it]"
     ]
    },
    {
     "name": "stdout",
     "output_type": "stream",
     "text": [
      "Input #0, mpeg, from 'Data/CorpusNGT/gloss/CNGT0250_S013.mpg':\n",
      "  Duration: 00:08:13.00, start: 0.187533, bitrate: 1730 kb/s\n",
      "    Stream #0:0[0x1e0]: Video: mpeg1video, yuv420p(tv), 352x288 [SAR 178:163 DAR 1958:1467], 1500 kb/s, 25 fps, 25 tbr, 90k tbn, 25 tbc\n",
      "    Stream #0:1[0x1c0]: Audio: mp2, 48000 Hz, mono, s16p, 192 kb/s\n",
      "At least one output file must be specified\n",
      "\n"
     ]
    },
    {
     "name": "stderr",
     "output_type": "stream",
     "text": [
      " 23%|██▎       | 278/1208 [57:33<5:52:27, 22.74s/it]"
     ]
    },
    {
     "name": "stdout",
     "output_type": "stream",
     "text": [
      "Input #0, mpeg, from 'Data/CorpusNGT/gloss/CNGT0250_S014.mpg':\n",
      "  Duration: 00:08:13.00, start: 0.187533, bitrate: 1730 kb/s\n",
      "    Stream #0:0[0x1e0]: Video: mpeg1video, yuv420p(tv), 352x288 [SAR 178:163 DAR 1958:1467], 1500 kb/s, 25 fps, 25 tbr, 90k tbn, 25 tbc\n",
      "    Stream #0:1[0x1c0]: Audio: mp2, 48000 Hz, mono, s16p, 192 kb/s\n",
      "At least one output file must be specified\n",
      "\n"
     ]
    },
    {
     "name": "stderr",
     "output_type": "stream",
     "text": [
      " 23%|██▎       | 280/1208 [58:19<5:53:32, 22.86s/it]"
     ]
    },
    {
     "name": "stdout",
     "output_type": "stream",
     "text": [
      "Input #0, mpeg, from 'Data/CorpusNGT/gloss/CNGT0251_S013.mpg':\n",
      "  Duration: 00:03:38.00, start: 0.187533, bitrate: 1731 kb/s\n",
      "    Stream #0:0[0x1e0]: Video: mpeg1video, yuv420p(tv), 352x288 [SAR 178:163 DAR 1958:1467], 1500 kb/s, 25 fps, 25 tbr, 90k tbn, 25 tbc\n",
      "    Stream #0:1[0x1c0]: Audio: mp2, 48000 Hz, mono, s16p, 192 kb/s\n",
      "At least one output file must be specified\n",
      "\n"
     ]
    },
    {
     "name": "stderr",
     "output_type": "stream",
     "text": [
      " 23%|██▎       | 282/1208 [59:00<5:43:08, 22.23s/it]"
     ]
    },
    {
     "name": "stdout",
     "output_type": "stream",
     "text": [
      "Input #0, mpeg, from 'Data/CorpusNGT/gloss/CNGT0251_S014.mpg':\n",
      "  Duration: 00:03:38.00, start: 0.187533, bitrate: 1731 kb/s\n",
      "    Stream #0:0[0x1e0]: Video: mpeg1video, yuv420p(tv), 352x288 [SAR 178:163 DAR 1958:1467], 1500 kb/s, 25 fps, 25 tbr, 90k tbn, 25 tbc\n",
      "    Stream #0:1[0x1c0]: Audio: mp2, 48000 Hz, mono, s16p, 192 kb/s\n",
      "At least one output file must be specified\n",
      "\n"
     ]
    },
    {
     "name": "stderr",
     "output_type": "stream",
     "text": [
      " 24%|██▎       | 284/1208 [59:03<4:06:33, 16.01s/it]"
     ]
    },
    {
     "name": "stdout",
     "output_type": "stream",
     "text": [
      "Input #0, mpeg, from 'Data/CorpusNGT/gloss/CNGT0252_S013.mpg':\n",
      "  Duration: 00:01:42.00, start: 0.187533, bitrate: 1732 kb/s\n",
      "    Stream #0:0[0x1e0]: Video: mpeg1video, yuv420p(tv), 352x288 [SAR 178:163 DAR 1958:1467], 1500 kb/s, 25 fps, 25 tbr, 90k tbn, 25 tbc\n",
      "    Stream #0:1[0x1c0]: Audio: mp2, 48000 Hz, mono, s16p, 192 kb/s\n",
      "At least one output file must be specified\n",
      "\n"
     ]
    },
    {
     "name": "stderr",
     "output_type": "stream",
     "text": [
      " 24%|██▎       | 286/1208 [59:04<2:56:15, 11.47s/it]"
     ]
    },
    {
     "name": "stdout",
     "output_type": "stream",
     "text": [
      "Input #0, mpeg, from 'Data/CorpusNGT/gloss/CNGT0252_S014.mpg':\n",
      "  Duration: 00:01:42.00, start: 0.187533, bitrate: 1732 kb/s\n",
      "    Stream #0:0[0x1e0]: Video: mpeg1video, yuv420p(tv), 352x288 [SAR 178:163 DAR 1958:1467], 1500 kb/s, 25 fps, 25 tbr, 90k tbn, 25 tbc\n",
      "    Stream #0:1[0x1c0]: Audio: mp2, 48000 Hz, mono, s16p, 192 kb/s\n",
      "At least one output file must be specified\n",
      "\n"
     ]
    },
    {
     "name": "stderr",
     "output_type": "stream",
     "text": [
      " 24%|██▍       | 288/1208 [59:27<2:56:14, 11.49s/it]"
     ]
    },
    {
     "name": "stdout",
     "output_type": "stream",
     "text": [
      "Input #0, mpeg, from 'Data/CorpusNGT/gloss/CNGT0253_S013.mpg':\n",
      "  Duration: 00:10:18.00, start: 0.187533, bitrate: 1730 kb/s\n",
      "    Stream #0:0[0x1e0]: Video: mpeg1video, yuv420p(tv), 352x288 [SAR 178:163 DAR 1958:1467], 1500 kb/s, 25 fps, 25 tbr, 90k tbn, 25 tbc\n",
      "    Stream #0:1[0x1c0]: Audio: mp2, 48000 Hz, mono, s16p, 192 kb/s\n",
      "At least one output file must be specified\n",
      "\n"
     ]
    },
    {
     "name": "stderr",
     "output_type": "stream",
     "text": [
      " 24%|██▍       | 290/1208 [1:01:08<5:52:43, 23.05s/it]"
     ]
    },
    {
     "name": "stdout",
     "output_type": "stream",
     "text": [
      "Input #0, mpeg, from 'Data/CorpusNGT/gloss/CNGT0253_S014.mpg':\n",
      "  Duration: 00:10:18.00, start: 0.187533, bitrate: 1730 kb/s\n",
      "    Stream #0:0[0x1e0]: Video: mpeg1video, yuv420p(tv), 352x288 [SAR 178:163 DAR 1958:1467], 1500 kb/s, 25 fps, 25 tbr, 90k tbn, 25 tbc\n",
      "    Stream #0:1[0x1c0]: Audio: mp2, 48000 Hz, mono, s16p, 192 kb/s\n",
      "At least one output file must be specified\n",
      "\n"
     ]
    },
    {
     "name": "stderr",
     "output_type": "stream",
     "text": [
      " 24%|██▍       | 292/1208 [1:01:40<5:21:29, 21.06s/it]"
     ]
    },
    {
     "name": "stdout",
     "output_type": "stream",
     "text": [
      "<class 'Exception'> Command '['ffmpeg', '-hide_banner', '-loglevel', 'panic', '-ss', '540.95', '-t', '0.8099999999999454', '-i', 'Data/CorpusNGT/gloss/CNGT0253_S014.mpg', '-y', 'Data/CorpusNGT/gloss_split_8frames/DRAW\\\\R-4/0.mpg']' returned non-zero exit status 1. 1\n",
      "Input #0, mpeg, from 'Data/CorpusNGT/gloss/CNGT0254_S013.mpg':\n",
      "  Duration: 00:09:15.00, start: 0.187533, bitrate: 1730 kb/s\n",
      "    Stream #0:0[0x1e0]: Video: mpeg1video, yuv420p(tv), 352x288 [SAR 178:163 DAR 1958:1467], 1500 kb/s, 25 fps, 25 tbr, 90k tbn, 25 tbc\n",
      "    Stream #0:1[0x1c0]: Audio: mp2, 48000 Hz, mono, s16p, 192 kb/s\n",
      "At least one output file must be specified\n",
      "\n"
     ]
    },
    {
     "name": "stderr",
     "output_type": "stream",
     "text": [
      " 24%|██▍       | 294/1208 [1:03:18<7:27:32, 29.38s/it]"
     ]
    },
    {
     "name": "stdout",
     "output_type": "stream",
     "text": [
      "Input #0, mpeg, from 'Data/CorpusNGT/gloss/CNGT0254_S014.mpg':\n",
      "  Duration: 00:09:15.00, start: 0.187533, bitrate: 1730 kb/s\n",
      "    Stream #0:0[0x1e0]: Video: mpeg1video, yuv420p(tv), 352x288 [SAR 178:163 DAR 1958:1467], 1500 kb/s, 25 fps, 25 tbr, 90k tbn, 25 tbc\n",
      "    Stream #0:1[0x1c0]: Audio: mp2, 48000 Hz, mono, s16p, 192 kb/s\n",
      "At least one output file must be specified\n",
      "\n"
     ]
    },
    {
     "name": "stderr",
     "output_type": "stream",
     "text": [
      " 25%|██▍       | 296/1208 [1:04:23<7:39:48, 30.25s/it]"
     ]
    },
    {
     "name": "stdout",
     "output_type": "stream",
     "text": [
      "Input #0, mpeg, from 'Data/CorpusNGT/gloss/CNGT0255_S013.mpg':\n",
      "  Duration: 00:07:16.00, start: 0.187533, bitrate: 1730 kb/s\n",
      "    Stream #0:0[0x1e0]: Video: mpeg1video, yuv420p(tv), 352x288 [SAR 178:163 DAR 1958:1467], 1500 kb/s, 25 fps, 25 tbr, 90k tbn, 25 tbc\n",
      "    Stream #0:1[0x1c0]: Audio: mp2, 48000 Hz, mono, s16p, 192 kb/s\n",
      "At least one output file must be specified\n",
      "\n"
     ]
    },
    {
     "name": "stderr",
     "output_type": "stream",
     "text": [
      " 25%|██▍       | 298/1208 [1:05:25<7:42:50, 30.52s/it]"
     ]
    },
    {
     "name": "stdout",
     "output_type": "stream",
     "text": [
      "Input #0, mpeg, from 'Data/CorpusNGT/gloss/CNGT0255_S014.mpg':\n",
      "  Duration: 00:07:16.00, start: 0.187533, bitrate: 1730 kb/s\n",
      "    Stream #0:0[0x1e0]: Video: mpeg1video, yuv420p(tv), 352x288 [SAR 178:163 DAR 1958:1467], 1500 kb/s, 25 fps, 25 tbr, 90k tbn, 25 tbc\n",
      "    Stream #0:1[0x1c0]: Audio: mp2, 48000 Hz, mono, s16p, 192 kb/s\n",
      "At least one output file must be specified\n",
      "\n"
     ]
    },
    {
     "name": "stderr",
     "output_type": "stream",
     "text": [
      " 25%|██▍       | 300/1208 [1:06:05<6:54:26, 27.39s/it]"
     ]
    },
    {
     "name": "stdout",
     "output_type": "stream",
     "text": [
      "Input #0, mpeg, from 'Data/CorpusNGT/gloss/CNGT0256_S013.mpg':\n",
      "  Duration: 00:08:55.00, start: 0.187533, bitrate: 1730 kb/s\n",
      "    Stream #0:0[0x1e0]: Video: mpeg1video, yuv420p(tv), 352x288 [SAR 178:163 DAR 1958:1467], 1500 kb/s, 25 fps, 25 tbr, 90k tbn, 25 tbc\n",
      "    Stream #0:1[0x1c0]: Audio: mp2, 48000 Hz, mono, s16p, 192 kb/s\n",
      "At least one output file must be specified\n",
      "\n"
     ]
    },
    {
     "name": "stderr",
     "output_type": "stream",
     "text": [
      " 25%|██▌       | 302/1208 [1:07:30<8:02:50, 31.98s/it]"
     ]
    },
    {
     "name": "stdout",
     "output_type": "stream",
     "text": [
      "Input #0, mpeg, from 'Data/CorpusNGT/gloss/CNGT0256_S014.mpg':\n",
      "  Duration: 00:08:55.00, start: 0.187533, bitrate: 1730 kb/s\n",
      "    Stream #0:0[0x1e0]: Video: mpeg1video, yuv420p(tv), 352x288 [SAR 178:163 DAR 1958:1467], 1500 kb/s, 25 fps, 25 tbr, 90k tbn, 25 tbc\n",
      "    Stream #0:1[0x1c0]: Audio: mp2, 48000 Hz, mono, s16p, 192 kb/s\n",
      "At least one output file must be specified\n",
      "\n"
     ]
    },
    {
     "name": "stderr",
     "output_type": "stream",
     "text": [
      " 25%|██▌       | 304/1208 [1:08:29<7:50:11, 31.21s/it]"
     ]
    },
    {
     "name": "stdout",
     "output_type": "stream",
     "text": [
      "Input #0, mpeg, from 'Data/CorpusNGT/gloss/CNGT0257_S013.mpg':\n",
      "  Duration: 00:08:10.00, start: 0.187533, bitrate: 1730 kb/s\n",
      "    Stream #0:0[0x1e0]: Video: mpeg1video, yuv420p(tv), 352x288 [SAR 178:163 DAR 1958:1467], 1500 kb/s, 25 fps, 25 tbr, 90k tbn, 25 tbc\n",
      "    Stream #0:1[0x1c0]: Audio: mp2, 48000 Hz, mono, s16p, 192 kb/s\n",
      "At least one output file must be specified\n",
      "\n"
     ]
    },
    {
     "name": "stderr",
     "output_type": "stream",
     "text": [
      " 25%|██▌       | 306/1208 [1:09:51<8:32:46, 34.11s/it]"
     ]
    },
    {
     "name": "stdout",
     "output_type": "stream",
     "text": [
      "Input #0, mpeg, from 'Data/CorpusNGT/gloss/CNGT0257_S014.mpg':\n",
      "  Duration: 00:08:10.00, start: 0.187533, bitrate: 1730 kb/s\n",
      "    Stream #0:0[0x1e0]: Video: mpeg1video, yuv420p(tv), 352x288 [SAR 178:163 DAR 1958:1467], 1500 kb/s, 25 fps, 25 tbr, 90k tbn, 25 tbc\n",
      "    Stream #0:1[0x1c0]: Audio: mp2, 48000 Hz, mono, s16p, 192 kb/s\n",
      "At least one output file must be specified\n",
      "\n"
     ]
    },
    {
     "name": "stderr",
     "output_type": "stream",
     "text": [
      " 25%|██▌       | 308/1208 [1:10:46<8:00:59, 32.07s/it]"
     ]
    },
    {
     "name": "stdout",
     "output_type": "stream",
     "text": [
      "Input #0, mpeg, from 'Data/CorpusNGT/gloss/CNGT0258_S013.mpg':\n",
      "  Duration: 00:02:55.00, start: 0.187533, bitrate: 1731 kb/s\n",
      "    Stream #0:0[0x1e0]: Video: mpeg1video, yuv420p(tv), 352x288 [SAR 178:163 DAR 1958:1467], 1500 kb/s, 25 fps, 25 tbr, 90k tbn, 25 tbc\n",
      "    Stream #0:1[0x1c0]: Audio: mp2, 48000 Hz, mono, s16p, 192 kb/s\n",
      "At least one output file must be specified\n",
      "\n"
     ]
    },
    {
     "name": "stderr",
     "output_type": "stream",
     "text": [
      " 26%|██▌       | 310/1208 [1:11:33<7:21:27, 29.50s/it]"
     ]
    },
    {
     "name": "stdout",
     "output_type": "stream",
     "text": [
      "Input #0, mpeg, from 'Data/CorpusNGT/gloss/CNGT0258_S014.mpg':\n",
      "  Duration: 00:02:55.00, start: 0.187533, bitrate: 1731 kb/s\n",
      "    Stream #0:0[0x1e0]: Video: mpeg1video, yuv420p(tv), 352x288 [SAR 178:163 DAR 1958:1467], 1500 kb/s, 25 fps, 25 tbr, 90k tbn, 25 tbc\n",
      "    Stream #0:1[0x1c0]: Audio: mp2, 48000 Hz, mono, s16p, 192 kb/s\n",
      "At least one output file must be specified\n",
      "\n"
     ]
    },
    {
     "name": "stderr",
     "output_type": "stream",
     "text": [
      " 26%|██▌       | 312/1208 [1:11:45<5:35:17, 22.45s/it]"
     ]
    },
    {
     "name": "stdout",
     "output_type": "stream",
     "text": [
      "Input #0, mpeg, from 'Data/CorpusNGT/gloss/CNGT0259_S013.mpg':\n",
      "  Duration: 00:04:55.00, start: 0.187533, bitrate: 1730 kb/s\n",
      "    Stream #0:0[0x1e0]: Video: mpeg1video, yuv420p(tv), 352x288 [SAR 178:163 DAR 1958:1467], 1500 kb/s, 25 fps, 25 tbr, 90k tbn, 25 tbc\n",
      "    Stream #0:1[0x1c0]: Audio: mp2, 48000 Hz, mono, s16p, 192 kb/s\n",
      "At least one output file must be specified\n",
      "\n"
     ]
    },
    {
     "name": "stderr",
     "output_type": "stream",
     "text": [
      " 26%|██▌       | 314/1208 [1:12:15<5:02:57, 20.33s/it]"
     ]
    },
    {
     "name": "stdout",
     "output_type": "stream",
     "text": [
      "Input #0, mpeg, from 'Data/CorpusNGT/gloss/CNGT0259_S014.mpg':\n",
      "  Duration: 00:04:55.00, start: 0.187533, bitrate: 1730 kb/s\n",
      "    Stream #0:0[0x1e0]: Video: mpeg1video, yuv420p(tv), 352x288 [SAR 178:163 DAR 1958:1467], 1500 kb/s, 25 fps, 25 tbr, 90k tbn, 25 tbc\n",
      "    Stream #0:1[0x1c0]: Audio: mp2, 48000 Hz, mono, s16p, 192 kb/s\n",
      "At least one output file must be specified\n",
      "\n"
     ]
    },
    {
     "name": "stderr",
     "output_type": "stream",
     "text": [
      " 26%|██▌       | 316/1208 [1:12:43<4:32:32, 18.33s/it]"
     ]
    },
    {
     "name": "stdout",
     "output_type": "stream",
     "text": [
      "Input #0, mpeg, from 'Data/CorpusNGT/gloss/CNGT0260_S013.mpg':\n",
      "  Duration: 00:01:34.00, start: 0.187533, bitrate: 1732 kb/s\n",
      "    Stream #0:0[0x1e0]: Video: mpeg1video, yuv420p(tv), 352x288 [SAR 178:163 DAR 1958:1467], 1500 kb/s, 25 fps, 25 tbr, 90k tbn, 25 tbc\n",
      "    Stream #0:1[0x1c0]: Audio: mp2, 48000 Hz, mono, s16p, 192 kb/s\n",
      "At least one output file must be specified\n",
      "\n"
     ]
    },
    {
     "name": "stderr",
     "output_type": "stream",
     "text": [
      " 26%|██▋       | 318/1208 [1:12:45<3:14:44, 13.13s/it]"
     ]
    },
    {
     "name": "stdout",
     "output_type": "stream",
     "text": [
      "Input #0, mpeg, from 'Data/CorpusNGT/gloss/CNGT0260_S014.mpg':\n",
      "  Duration: 00:01:34.00, start: 0.187533, bitrate: 1732 kb/s\n",
      "    Stream #0:0[0x1e0]: Video: mpeg1video, yuv420p(tv), 352x288 [SAR 178:163 DAR 1958:1467], 1500 kb/s, 25 fps, 25 tbr, 90k tbn, 25 tbc\n",
      "    Stream #0:1[0x1c0]: Audio: mp2, 48000 Hz, mono, s16p, 192 kb/s\n",
      "At least one output file must be specified\n",
      "\n"
     ]
    },
    {
     "name": "stderr",
     "output_type": "stream",
     "text": [
      " 26%|██▋       | 320/1208 [1:12:59<2:47:26, 11.31s/it]"
     ]
    },
    {
     "name": "stdout",
     "output_type": "stream",
     "text": [
      "Input #0, mpeg, from 'Data/CorpusNGT/gloss/CNGT0279_S017.mpg':\n",
      "  Duration: 00:02:25.00, start: 0.187533, bitrate: 1731 kb/s\n",
      "    Stream #0:0[0x1e0]: Video: mpeg1video, yuv420p(tv), 352x288 [SAR 178:163 DAR 1958:1467], 1500 kb/s, 25 fps, 25 tbr, 90k tbn, 25 tbc\n",
      "    Stream #0:1[0x1c0]: Audio: mp2, 48000 Hz, mono, s16p, 192 kb/s\n",
      "At least one output file must be specified\n",
      "\n"
     ]
    },
    {
     "name": "stderr",
     "output_type": "stream",
     "text": [
      " 27%|██▋       | 322/1208 [1:13:15<2:31:54, 10.29s/it]"
     ]
    },
    {
     "name": "stdout",
     "output_type": "stream",
     "text": [
      "Input #0, mpeg, from 'Data/CorpusNGT/gloss/CNGT0279_S018.mpg':\n",
      "  Duration: 00:02:25.00, start: 0.187533, bitrate: 1731 kb/s\n",
      "    Stream #0:0[0x1e0]: Video: mpeg1video, yuv420p(tv), 352x288 [SAR 178:163 DAR 1958:1467], 1500 kb/s, 25 fps, 25 tbr, 90k tbn, 25 tbc\n",
      "    Stream #0:1[0x1c0]: Audio: mp2, 48000 Hz, mono, s16p, 192 kb/s\n",
      "At least one output file must be specified\n",
      "\n"
     ]
    },
    {
     "name": "stderr",
     "output_type": "stream",
     "text": [
      " 27%|██▋       | 324/1208 [1:13:19<1:54:49,  7.79s/it]"
     ]
    },
    {
     "name": "stdout",
     "output_type": "stream",
     "text": [
      "Input #0, mpeg, from 'Data/CorpusNGT/gloss/CNGT0280_S017.mpg':\n",
      "  Duration: 00:01:35.00, start: 0.187533, bitrate: 1732 kb/s\n",
      "    Stream #0:0[0x1e0]: Video: mpeg1video, yuv420p(tv), 352x288 [SAR 178:163 DAR 1958:1467], 1500 kb/s, 25 fps, 25 tbr, 90k tbn, 25 tbc\n",
      "    Stream #0:1[0x1c0]: Audio: mp2, 48000 Hz, mono, s16p, 192 kb/s\n",
      "At least one output file must be specified\n",
      "\n"
     ]
    },
    {
     "name": "stderr",
     "output_type": "stream",
     "text": [
      " 27%|██▋       | 326/1208 [1:13:22<1:27:04,  5.92s/it]"
     ]
    },
    {
     "name": "stdout",
     "output_type": "stream",
     "text": [
      "Input #0, mpeg, from 'Data/CorpusNGT/gloss/CNGT0280_S018.mpg':\n",
      "  Duration: 00:01:35.00, start: 0.187533, bitrate: 1732 kb/s\n",
      "    Stream #0:0[0x1e0]: Video: mpeg1video, yuv420p(tv), 352x288 [SAR 178:163 DAR 1958:1467], 1500 kb/s, 25 fps, 25 tbr, 90k tbn, 25 tbc\n",
      "    Stream #0:1[0x1c0]: Audio: mp2, 48000 Hz, mono, s16p, 192 kb/s\n",
      "At least one output file must be specified\n",
      "\n"
     ]
    },
    {
     "name": "stderr",
     "output_type": "stream",
     "text": [
      " 27%|██▋       | 328/1208 [1:13:32<1:22:36,  5.63s/it]"
     ]
    },
    {
     "name": "stdout",
     "output_type": "stream",
     "text": [
      "Input #0, mpeg, from 'Data/CorpusNGT/gloss/CNGT0283_S017.mpg':\n",
      "  Duration: 00:02:16.00, start: 0.187533, bitrate: 1731 kb/s\n",
      "    Stream #0:0[0x1e0]: Video: mpeg1video, yuv420p(tv), 352x288 [SAR 178:163 DAR 1958:1467], 1500 kb/s, 25 fps, 25 tbr, 90k tbn, 25 tbc\n",
      "    Stream #0:1[0x1c0]: Audio: mp2, 48000 Hz, mono, s16p, 192 kb/s\n",
      "At least one output file must be specified\n",
      "\n"
     ]
    },
    {
     "name": "stderr",
     "output_type": "stream",
     "text": [
      " 27%|██▋       | 330/1208 [1:13:46<1:29:45,  6.13s/it]"
     ]
    },
    {
     "name": "stdout",
     "output_type": "stream",
     "text": [
      "Input #0, mpeg, from 'Data/CorpusNGT/gloss/CNGT0283_S018.mpg':\n",
      "  Duration: 00:02:16.00, start: 0.187533, bitrate: 1731 kb/s\n",
      "    Stream #0:0[0x1e0]: Video: mpeg1video, yuv420p(tv), 352x288 [SAR 178:163 DAR 1958:1467], 1500 kb/s, 25 fps, 25 tbr, 90k tbn, 25 tbc\n",
      "    Stream #0:1[0x1c0]: Audio: mp2, 48000 Hz, mono, s16p, 192 kb/s\n",
      "At least one output file must be specified\n",
      "\n"
     ]
    },
    {
     "name": "stderr",
     "output_type": "stream",
     "text": [
      " 27%|██▋       | 332/1208 [1:13:48<1:07:15,  4.61s/it]"
     ]
    },
    {
     "name": "stdout",
     "output_type": "stream",
     "text": [
      "Input #0, mpeg, from 'Data/CorpusNGT/gloss/CNGT0284_S017.mpg':\n",
      "  Duration: 00:11:08.00, start: 0.187533, bitrate: 1730 kb/s\n",
      "    Stream #0:0[0x1e0]: Video: mpeg1video, yuv420p(tv), 352x288 [SAR 178:163 DAR 1958:1467], 1500 kb/s, 25 fps, 25 tbr, 90k tbn, 25 tbc\n",
      "    Stream #0:1[0x1c0]: Audio: mp2, 48000 Hz, mono, s16p, 192 kb/s\n",
      "At least one output file must be specified\n",
      "\n"
     ]
    },
    {
     "name": "stderr",
     "output_type": "stream",
     "text": [
      " 28%|██▊       | 334/1208 [1:13:57<1:05:33,  4.50s/it]"
     ]
    },
    {
     "name": "stdout",
     "output_type": "stream",
     "text": [
      "Input #0, mpeg, from 'Data/CorpusNGT/gloss/CNGT0284_S018.mpg':\n",
      "  Duration: 00:11:08.00, start: 0.187533, bitrate: 1730 kb/s\n",
      "    Stream #0:0[0x1e0]: Video: mpeg1video, yuv420p(tv), 352x288 [SAR 178:163 DAR 1958:1467], 1500 kb/s, 25 fps, 25 tbr, 90k tbn, 25 tbc\n",
      "    Stream #0:1[0x1c0]: Audio: mp2, 48000 Hz, mono, s16p, 192 kb/s\n",
      "At least one output file must be specified\n",
      "\n"
     ]
    },
    {
     "name": "stderr",
     "output_type": "stream",
     "text": [
      " 28%|██▊       | 336/1208 [1:15:19<3:44:55, 15.48s/it]"
     ]
    },
    {
     "name": "stdout",
     "output_type": "stream",
     "text": [
      "Input #0, mpeg, from 'Data/CorpusNGT/gloss/CNGT0294_S017.mpg':\n",
      "  Duration: 00:06:54.00, start: 0.187533, bitrate: 1730 kb/s\n",
      "    Stream #0:0[0x1e0]: Video: mpeg1video, yuv420p(tv), 352x288 [SAR 178:163 DAR 1958:1467], 1500 kb/s, 25 fps, 25 tbr, 90k tbn, 25 tbc\n",
      "    Stream #0:1[0x1c0]: Audio: mp2, 48000 Hz, mono, s16p, 192 kb/s\n",
      "At least one output file must be specified\n",
      "\n"
     ]
    },
    {
     "name": "stderr",
     "output_type": "stream",
     "text": [
      " 28%|██▊       | 338/1208 [1:15:48<3:39:48, 15.16s/it]"
     ]
    },
    {
     "name": "stdout",
     "output_type": "stream",
     "text": [
      "Input #0, mpeg, from 'Data/CorpusNGT/gloss/CNGT0294_S018.mpg':\n",
      "  Duration: 00:06:54.00, start: 0.187533, bitrate: 1730 kb/s\n",
      "    Stream #0:0[0x1e0]: Video: mpeg1video, yuv420p(tv), 352x288 [SAR 178:163 DAR 1958:1467], 1500 kb/s, 25 fps, 25 tbr, 90k tbn, 25 tbc\n",
      "    Stream #0:1[0x1c0]: Audio: mp2, 48000 Hz, mono, s16p, 192 kb/s\n",
      "At least one output file must be specified\n",
      "\n"
     ]
    },
    {
     "name": "stderr",
     "output_type": "stream",
     "text": [
      " 28%|██▊       | 340/1208 [1:16:15<3:32:02, 14.66s/it]"
     ]
    },
    {
     "name": "stdout",
     "output_type": "stream",
     "text": [
      "Input #0, mpeg, from 'Data/CorpusNGT/gloss/CNGT0295_S017.mpg':\n",
      "  Duration: 00:06:41.00, start: 0.187533, bitrate: 1730 kb/s\n",
      "    Stream #0:0[0x1e0]: Video: mpeg1video, yuv420p(tv), 352x288 [SAR 178:163 DAR 1958:1467], 1500 kb/s, 25 fps, 25 tbr, 90k tbn, 25 tbc\n",
      "    Stream #0:1[0x1c0]: Audio: mp2, 48000 Hz, mono, s16p, 192 kb/s\n",
      "At least one output file must be specified\n",
      "\n"
     ]
    },
    {
     "name": "stderr",
     "output_type": "stream",
     "text": [
      " 28%|██▊       | 342/1208 [1:16:46<3:34:42, 14.88s/it]"
     ]
    },
    {
     "name": "stdout",
     "output_type": "stream",
     "text": [
      "Input #0, mpeg, from 'Data/CorpusNGT/gloss/CNGT0295_S018.mpg':\n",
      "  Duration: 00:06:41.00, start: 0.187533, bitrate: 1730 kb/s\n",
      "    Stream #0:0[0x1e0]: Video: mpeg1video, yuv420p(tv), 352x288 [SAR 178:163 DAR 1958:1467], 1500 kb/s, 25 fps, 25 tbr, 90k tbn, 25 tbc\n",
      "    Stream #0:1[0x1c0]: Audio: mp2, 48000 Hz, mono, s16p, 192 kb/s\n",
      "At least one output file must be specified\n",
      "\n"
     ]
    },
    {
     "name": "stderr",
     "output_type": "stream",
     "text": [
      " 28%|██▊       | 344/1208 [1:16:59<2:58:52, 12.42s/it]"
     ]
    },
    {
     "name": "stdout",
     "output_type": "stream",
     "text": [
      "Input #0, mpeg, from 'Data/CorpusNGT/gloss/CNGT0296_S017.mpg':\n",
      "  Duration: 00:03:08.00, start: 0.187533, bitrate: 1731 kb/s\n",
      "    Stream #0:0[0x1e0]: Video: mpeg1video, yuv420p(tv), 352x288 [SAR 178:163 DAR 1958:1467], 1500 kb/s, 25 fps, 25 tbr, 90k tbn, 25 tbc\n",
      "    Stream #0:1[0x1c0]: Audio: mp2, 48000 Hz, mono, s16p, 192 kb/s\n",
      "At least one output file must be specified\n",
      "\n"
     ]
    },
    {
     "name": "stderr",
     "output_type": "stream",
     "text": [
      " 29%|██▊       | 346/1208 [1:17:16<2:41:22, 11.23s/it]"
     ]
    },
    {
     "name": "stdout",
     "output_type": "stream",
     "text": [
      "Input #0, mpeg, from 'Data/CorpusNGT/gloss/CNGT0296_S018.mpg':\n",
      "  Duration: 00:03:08.00, start: 0.187533, bitrate: 1731 kb/s\n",
      "    Stream #0:0[0x1e0]: Video: mpeg1video, yuv420p(tv), 352x288 [SAR 178:163 DAR 1958:1467], 1500 kb/s, 25 fps, 25 tbr, 90k tbn, 25 tbc\n",
      "    Stream #0:1[0x1c0]: Audio: mp2, 48000 Hz, mono, s16p, 192 kb/s\n",
      "At least one output file must be specified\n",
      "\n"
     ]
    },
    {
     "name": "stderr",
     "output_type": "stream",
     "text": [
      " 29%|██▉       | 348/1208 [1:17:25<2:12:04,  9.21s/it]"
     ]
    },
    {
     "name": "stdout",
     "output_type": "stream",
     "text": [
      "Input #0, mpeg, from 'Data/CorpusNGT/gloss/CNGT0297_S017.mpg':\n",
      "  Duration: 00:01:52.00, start: 0.187533, bitrate: 1732 kb/s\n",
      "    Stream #0:0[0x1e0]: Video: mpeg1video, yuv420p(tv), 352x288 [SAR 178:163 DAR 1958:1467], 1500 kb/s, 25 fps, 25 tbr, 90k tbn, 25 tbc\n",
      "    Stream #0:1[0x1c0]: Audio: mp2, 48000 Hz, mono, s16p, 192 kb/s\n",
      "At least one output file must be specified\n",
      "\n"
     ]
    },
    {
     "name": "stderr",
     "output_type": "stream",
     "text": [
      " 29%|██▉       | 350/1208 [1:17:32<1:47:11,  7.50s/it]"
     ]
    },
    {
     "name": "stdout",
     "output_type": "stream",
     "text": [
      "Input #0, mpeg, from 'Data/CorpusNGT/gloss/CNGT0297_S018.mpg':\n",
      "  Duration: 00:01:52.00, start: 0.187533, bitrate: 1732 kb/s\n",
      "    Stream #0:0[0x1e0]: Video: mpeg1video, yuv420p(tv), 352x288 [SAR 178:163 DAR 1958:1467], 1500 kb/s, 25 fps, 25 tbr, 90k tbn, 25 tbc\n",
      "    Stream #0:1[0x1c0]: Audio: mp2, 48000 Hz, mono, s16p, 192 kb/s\n",
      "At least one output file must be specified\n",
      "\n"
     ]
    },
    {
     "name": "stderr",
     "output_type": "stream",
     "text": [
      " 29%|██▉       | 352/1208 [1:17:40<1:31:46,  6.43s/it]"
     ]
    },
    {
     "name": "stdout",
     "output_type": "stream",
     "text": [
      "Input #0, mpeg, from 'Data/CorpusNGT/gloss/CNGT0298_S017.mpg':\n",
      "  Duration: 00:03:31.00, start: 0.187533, bitrate: 1730 kb/s\n",
      "    Stream #0:0[0x1e0]: Video: mpeg1video, yuv420p(tv), 352x288 [SAR 178:163 DAR 1958:1467], 1500 kb/s, 25 fps, 25 tbr, 90k tbn, 25 tbc\n",
      "    Stream #0:1[0x1c0]: Audio: mp2, 48000 Hz, mono, s16p, 192 kb/s\n",
      "At least one output file must be specified\n",
      "\n"
     ]
    },
    {
     "name": "stderr",
     "output_type": "stream",
     "text": [
      " 29%|██▉       | 354/1208 [1:17:54<1:33:58,  6.60s/it]"
     ]
    },
    {
     "name": "stdout",
     "output_type": "stream",
     "text": [
      "Input #0, mpeg, from 'Data/CorpusNGT/gloss/CNGT0298_S018.mpg':\n",
      "  Duration: 00:03:31.00, start: 0.187533, bitrate: 1730 kb/s\n",
      "    Stream #0:0[0x1e0]: Video: mpeg1video, yuv420p(tv), 352x288 [SAR 178:163 DAR 1958:1467], 1500 kb/s, 25 fps, 25 tbr, 90k tbn, 25 tbc\n",
      "    Stream #0:1[0x1c0]: Audio: mp2, 48000 Hz, mono, s16p, 192 kb/s\n",
      "At least one output file must be specified\n",
      "\n"
     ]
    },
    {
     "name": "stderr",
     "output_type": "stream",
     "text": [
      " 29%|██▉       | 356/1208 [1:18:15<1:51:39,  7.86s/it]"
     ]
    },
    {
     "name": "stdout",
     "output_type": "stream",
     "text": [
      "Input #0, mpeg, from 'Data/CorpusNGT/gloss/CNGT0299_S017.mpg':\n",
      "  Duration: 00:04:00.00, start: 0.187533, bitrate: 1730 kb/s\n",
      "    Stream #0:0[0x1e0]: Video: mpeg1video, yuv420p(tv), 352x288 [SAR 178:163 DAR 1958:1467], 1500 kb/s, 25 fps, 25 tbr, 90k tbn, 25 tbc\n",
      "    Stream #0:1[0x1c0]: Audio: mp2, 48000 Hz, mono, s16p, 192 kb/s\n",
      "At least one output file must be specified\n",
      "\n"
     ]
    },
    {
     "name": "stderr",
     "output_type": "stream",
     "text": [
      " 30%|██▉       | 358/1208 [1:18:34<1:58:12,  8.34s/it]"
     ]
    },
    {
     "name": "stdout",
     "output_type": "stream",
     "text": [
      "Input #0, mpeg, from 'Data/CorpusNGT/gloss/CNGT0299_S018.mpg':\n",
      "  Duration: 00:04:00.00, start: 0.187533, bitrate: 1730 kb/s\n",
      "    Stream #0:0[0x1e0]: Video: mpeg1video, yuv420p(tv), 352x288 [SAR 178:163 DAR 1958:1467], 1500 kb/s, 25 fps, 25 tbr, 90k tbn, 25 tbc\n",
      "    Stream #0:1[0x1c0]: Audio: mp2, 48000 Hz, mono, s16p, 192 kb/s\n",
      "At least one output file must be specified\n",
      "\n"
     ]
    },
    {
     "name": "stderr",
     "output_type": "stream",
     "text": [
      " 30%|██▉       | 360/1208 [1:18:45<1:46:08,  7.51s/it]"
     ]
    },
    {
     "name": "stdout",
     "output_type": "stream",
     "text": [
      "Input #0, mpeg, from 'Data/CorpusNGT/gloss/CNGT0315_S015.mpg':\n",
      "  Duration: 00:01:01.00, start: 0.187533, bitrate: 1733 kb/s\n",
      "    Stream #0:0[0x1e0]: Video: mpeg1video, yuv420p(tv), 352x288 [SAR 178:163 DAR 1958:1467], 1500 kb/s, 25 fps, 25 tbr, 90k tbn, 25 tbc\n",
      "    Stream #0:1[0x1c0]: Audio: mp2, 48000 Hz, mono, s16p, 192 kb/s\n",
      "At least one output file must be specified\n",
      "\n"
     ]
    },
    {
     "name": "stderr",
     "output_type": "stream",
     "text": [
      " 30%|███       | 364/1208 [1:18:52<1:01:56,  4.40s/it]"
     ]
    },
    {
     "name": "stdout",
     "output_type": "stream",
     "text": [
      "Input #0, mpeg, from 'Data/CorpusNGT/gloss/CNGT0316_S015.mpg':\n",
      "  Duration: 00:01:22.00, start: 0.187533, bitrate: 1732 kb/s\n",
      "    Stream #0:0[0x1e0]: Video: mpeg1video, yuv420p(tv), 352x288 [SAR 178:163 DAR 1958:1467], 1500 kb/s, 25 fps, 25 tbr, 90k tbn, 25 tbc\n",
      "    Stream #0:1[0x1c0]: Audio: mp2, 48000 Hz, mono, s16p, 192 kb/s\n",
      "At least one output file must be specified\n",
      "\n",
      "Input #0, mpeg, from 'Data/CorpusNGT/gloss/CNGT0316_S016.mpg':\n",
      "  Duration: 00:01:22.00, start: 0.187533, bitrate: 1732 kb/s\n",
      "    Stream #0:0[0x1e0]: Video: mpeg1video, yuv420p(tv), 352x288 [SAR 178:163 DAR 1958:1467], 1500 kb/s, 25 fps, 25 tbr, 90k tbn, 25 tbc\n",
      "    Stream #0:1[0x1c0]: Audio: mp2, 48000 Hz, mono, s16p, 192 kb/s\n",
      "At least one output file must be specified\n",
      "\n"
     ]
    },
    {
     "name": "stderr",
     "output_type": "stream",
     "text": [
      " 30%|███       | 366/1208 [1:18:59<58:11,  4.15s/it]  "
     ]
    },
    {
     "name": "stdout",
     "output_type": "stream",
     "text": [
      "Input #0, mpeg, from 'Data/CorpusNGT/gloss/CNGT0317_S015.mpg':\n",
      "  Duration: 00:01:00.00, start: 0.187533, bitrate: 1733 kb/s\n",
      "    Stream #0:0[0x1e0]: Video: mpeg1video, yuv420p(tv), 352x288 [SAR 178:163 DAR 1958:1467], 1500 kb/s, 25 fps, 25 tbr, 90k tbn, 25 tbc\n",
      "    Stream #0:1[0x1c0]: Audio: mp2, 48000 Hz, mono, s16p, 192 kb/s\n",
      "At least one output file must be specified\n",
      "\n"
     ]
    },
    {
     "name": "stderr",
     "output_type": "stream",
     "text": [
      " 30%|███       | 368/1208 [1:19:08<59:20,  4.24s/it]"
     ]
    },
    {
     "name": "stdout",
     "output_type": "stream",
     "text": [
      "Input #0, mpeg, from 'Data/CorpusNGT/gloss/CNGT0317_S016.mpg':\n",
      "  Duration: 00:01:00.00, start: 0.187533, bitrate: 1733 kb/s\n",
      "    Stream #0:0[0x1e0]: Video: mpeg1video, yuv420p(tv), 352x288 [SAR 178:163 DAR 1958:1467], 1500 kb/s, 25 fps, 25 tbr, 90k tbn, 25 tbc\n",
      "    Stream #0:1[0x1c0]: Audio: mp2, 48000 Hz, mono, s16p, 192 kb/s\n",
      "At least one output file must be specified\n",
      "\n",
      "Input #0, mpeg, from 'Data/CorpusNGT/gloss/CNGT0318_S016.mpg':\n",
      "  Duration: 00:00:47.00, start: 0.187533, bitrate: 1734 kb/s\n",
      "    Stream #0:0[0x1e0]: Video: mpeg1video, yuv420p(tv), 352x288 [SAR 178:163 DAR 1958:1467], 1500 kb/s, 25 fps, 25 tbr, 90k tbn, 25 tbc\n",
      "    Stream #0:1[0x1c0]: Audio: mp2, 48000 Hz, mono, s16p, 192 kb/s\n",
      "At least one output file must be specified\n",
      "\n"
     ]
    },
    {
     "name": "stderr",
     "output_type": "stream",
     "text": [
      " 31%|███       | 372/1208 [1:19:13<39:57,  2.87s/it]"
     ]
    },
    {
     "name": "stdout",
     "output_type": "stream",
     "text": [
      "Input #0, mpeg, from 'Data/CorpusNGT/gloss/CNGT0319_S015.mpg':\n",
      "  Duration: 00:02:50.00, start: 0.187533, bitrate: 1731 kb/s\n",
      "    Stream #0:0[0x1e0]: Video: mpeg1video, yuv420p(tv), 352x288 [SAR 178:163 DAR 1958:1467], 1500 kb/s, 25 fps, 25 tbr, 90k tbn, 25 tbc\n",
      "    Stream #0:1[0x1c0]: Audio: mp2, 48000 Hz, mono, s16p, 192 kb/s\n",
      "At least one output file must be specified\n",
      "\n"
     ]
    },
    {
     "name": "stderr",
     "output_type": "stream",
     "text": [
      " 31%|███       | 374/1208 [1:19:30<58:06,  4.18s/it]"
     ]
    },
    {
     "name": "stdout",
     "output_type": "stream",
     "text": [
      "Input #0, mpeg, from 'Data/CorpusNGT/gloss/CNGT0319_S016.mpg':\n",
      "  Duration: 00:02:50.00, start: 0.187533, bitrate: 1731 kb/s\n",
      "    Stream #0:0[0x1e0]: Video: mpeg1video, yuv420p(tv), 352x288 [SAR 178:163 DAR 1958:1467], 1500 kb/s, 25 fps, 25 tbr, 90k tbn, 25 tbc\n",
      "    Stream #0:1[0x1c0]: Audio: mp2, 48000 Hz, mono, s16p, 192 kb/s\n",
      "At least one output file must be specified\n",
      "\n"
     ]
    },
    {
     "name": "stderr",
     "output_type": "stream",
     "text": [
      " 31%|███       | 376/1208 [1:19:35<52:58,  3.82s/it]"
     ]
    },
    {
     "name": "stdout",
     "output_type": "stream",
     "text": [
      "Input #0, mpeg, from 'Data/CorpusNGT/gloss/CNGT0320_S015.mpg':\n",
      "  Duration: 00:01:29.00, start: 0.187533, bitrate: 1732 kb/s\n",
      "    Stream #0:0[0x1e0]: Video: mpeg1video, yuv420p(tv), 352x288 [SAR 178:163 DAR 1958:1467], 1500 kb/s, 25 fps, 25 tbr, 90k tbn, 25 tbc\n",
      "    Stream #0:1[0x1c0]: Audio: mp2, 48000 Hz, mono, s16p, 192 kb/s\n",
      "At least one output file must be specified\n",
      "\n"
     ]
    },
    {
     "name": "stderr",
     "output_type": "stream",
     "text": [
      " 31%|███▏      | 378/1208 [1:19:38<44:08,  3.19s/it]"
     ]
    },
    {
     "name": "stdout",
     "output_type": "stream",
     "text": [
      "Input #0, mpeg, from 'Data/CorpusNGT/gloss/CNGT0320_S016.mpg':\n",
      "  Duration: 00:01:29.00, start: 0.187533, bitrate: 1732 kb/s\n",
      "    Stream #0:0[0x1e0]: Video: mpeg1video, yuv420p(tv), 352x288 [SAR 178:163 DAR 1958:1467], 1500 kb/s, 25 fps, 25 tbr, 90k tbn, 25 tbc\n",
      "    Stream #0:1[0x1c0]: Audio: mp2, 48000 Hz, mono, s16p, 192 kb/s\n",
      "At least one output file must be specified\n",
      "\n"
     ]
    },
    {
     "name": "stderr",
     "output_type": "stream",
     "text": [
      " 31%|███▏      | 380/1208 [1:19:45<44:56,  3.26s/it]"
     ]
    },
    {
     "name": "stdout",
     "output_type": "stream",
     "text": [
      "Input #0, mpeg, from 'Data/CorpusNGT/gloss/CNGT0321_S015.mpg':\n",
      "  Duration: 00:01:16.00, start: 0.187533, bitrate: 1732 kb/s\n",
      "    Stream #0:0[0x1e0]: Video: mpeg1video, yuv420p(tv), 352x288 [SAR 178:163 DAR 1958:1467], 1500 kb/s, 25 fps, 25 tbr, 90k tbn, 25 tbc\n",
      "    Stream #0:1[0x1c0]: Audio: mp2, 48000 Hz, mono, s16p, 192 kb/s\n",
      "At least one output file must be specified\n",
      "\n"
     ]
    },
    {
     "name": "stderr",
     "output_type": "stream",
     "text": [
      " 32%|███▏      | 382/1208 [1:19:52<44:43,  3.25s/it]"
     ]
    },
    {
     "name": "stdout",
     "output_type": "stream",
     "text": [
      "Input #0, mpeg, from 'Data/CorpusNGT/gloss/CNGT0321_S016.mpg':\n",
      "  Duration: 00:01:16.00, start: 0.187533, bitrate: 1732 kb/s\n",
      "    Stream #0:0[0x1e0]: Video: mpeg1video, yuv420p(tv), 352x288 [SAR 178:163 DAR 1958:1467], 1500 kb/s, 25 fps, 25 tbr, 90k tbn, 25 tbc\n",
      "    Stream #0:1[0x1c0]: Audio: mp2, 48000 Hz, mono, s16p, 192 kb/s\n",
      "At least one output file must be specified\n",
      "\n",
      "Input #0, mpeg, from 'Data/CorpusNGT/gloss/CNGT0323_S015.mpg':\n",
      "  Duration: 00:00:48.00, start: 0.187533, bitrate: 1734 kb/s\n",
      "    Stream #0:0[0x1e0]: Video: mpeg1video, yuv420p(tv), 352x288 [SAR 178:163 DAR 1958:1467], 1500 kb/s, 25 fps, 25 tbr, 90k tbn, 25 tbc\n",
      "    Stream #0:1[0x1c0]: Audio: mp2, 48000 Hz, mono, s16p, 192 kb/s\n",
      "At least one output file must be specified\n",
      "\n"
     ]
    },
    {
     "name": "stderr",
     "output_type": "stream",
     "text": [
      " 32%|███▏      | 386/1208 [1:19:57<32:48,  2.39s/it]"
     ]
    },
    {
     "name": "stdout",
     "output_type": "stream",
     "text": [
      "Input #0, mpeg, from 'Data/CorpusNGT/gloss/CNGT0325_S015.mpg':\n",
      "  Duration: 00:00:59.00, start: 0.187533, bitrate: 1734 kb/s\n",
      "    Stream #0:0[0x1e0]: Video: mpeg1video, yuv420p(tv), 352x288 [SAR 178:163 DAR 1958:1467], 1500 kb/s, 25 fps, 25 tbr, 90k tbn, 25 tbc\n",
      "    Stream #0:1[0x1c0]: Audio: mp2, 48000 Hz, mono, s16p, 192 kb/s\n",
      "At least one output file must be specified\n",
      "\n"
     ]
    },
    {
     "name": "stderr",
     "output_type": "stream",
     "text": [
      " 32%|███▏      | 388/1208 [1:20:04<36:31,  2.67s/it]"
     ]
    },
    {
     "name": "stdout",
     "output_type": "stream",
     "text": [
      "Input #0, mpeg, from 'Data/CorpusNGT/gloss/CNGT0327_S015.mpg':\n",
      "  Duration: 00:01:09.00, start: 0.187533, bitrate: 1733 kb/s\n",
      "    Stream #0:0[0x1e0]: Video: mpeg1video, yuv420p(tv), 352x288 [SAR 178:163 DAR 1958:1467], 1500 kb/s, 25 fps, 25 tbr, 90k tbn, 25 tbc\n",
      "    Stream #0:1[0x1c0]: Audio: mp2, 48000 Hz, mono, s16p, 192 kb/s\n",
      "At least one output file must be specified\n",
      "\n"
     ]
    },
    {
     "name": "stderr",
     "output_type": "stream",
     "text": [
      " 32%|███▏      | 390/1208 [1:20:12<40:25,  2.96s/it]"
     ]
    },
    {
     "name": "stdout",
     "output_type": "stream",
     "text": [
      "Input #0, mpeg, from 'Data/CorpusNGT/gloss/CNGT0328_S015.mpg':\n",
      "  Duration: 00:00:46.00, start: 0.187533, bitrate: 1735 kb/s\n",
      "    Stream #0:0[0x1e0]: Video: mpeg1video, yuv420p(tv), 352x288 [SAR 178:163 DAR 1958:1467], 1500 kb/s, 25 fps, 25 tbr, 90k tbn, 25 tbc\n",
      "    Stream #0:1[0x1c0]: Audio: mp2, 48000 Hz, mono, s16p, 192 kb/s\n",
      "At least one output file must be specified\n",
      "\n"
     ]
    },
    {
     "name": "stderr",
     "output_type": "stream",
     "text": [
      " 32%|███▏      | 392/1208 [1:20:16<37:09,  2.73s/it]"
     ]
    },
    {
     "name": "stdout",
     "output_type": "stream",
     "text": [
      "Input #0, mpeg, from 'Data/CorpusNGT/gloss/CNGT0328_S016.mpg':\n",
      "  Duration: 00:00:46.00, start: 0.187533, bitrate: 1735 kb/s\n",
      "    Stream #0:0[0x1e0]: Video: mpeg1video, yuv420p(tv), 352x288 [SAR 178:163 DAR 1958:1467], 1500 kb/s, 25 fps, 25 tbr, 90k tbn, 25 tbc\n",
      "    Stream #0:1[0x1c0]: Audio: mp2, 48000 Hz, mono, s16p, 192 kb/s\n",
      "At least one output file must be specified\n",
      "\n"
     ]
    },
    {
     "name": "stderr",
     "output_type": "stream",
     "text": [
      " 33%|███▎      | 394/1208 [1:20:19<32:25,  2.39s/it]"
     ]
    },
    {
     "name": "stdout",
     "output_type": "stream",
     "text": [
      "Input #0, mpeg, from 'Data/CorpusNGT/gloss/CNGT0329_S015.mpg':\n",
      "  Duration: 00:01:09.00, start: 0.187533, bitrate: 1733 kb/s\n",
      "    Stream #0:0[0x1e0]: Video: mpeg1video, yuv420p(tv), 352x288 [SAR 178:163 DAR 1958:1467], 1500 kb/s, 25 fps, 25 tbr, 90k tbn, 25 tbc\n",
      "    Stream #0:1[0x1c0]: Audio: mp2, 48000 Hz, mono, s16p, 192 kb/s\n",
      "At least one output file must be specified\n",
      "\n"
     ]
    },
    {
     "name": "stderr",
     "output_type": "stream",
     "text": [
      " 33%|███▎      | 396/1208 [1:20:26<35:58,  2.66s/it]"
     ]
    },
    {
     "name": "stdout",
     "output_type": "stream",
     "text": [
      "Input #0, mpeg, from 'Data/CorpusNGT/gloss/CNGT0329_S016.mpg':\n",
      "  Duration: 00:01:09.00, start: 0.187533, bitrate: 1733 kb/s\n",
      "    Stream #0:0[0x1e0]: Video: mpeg1video, yuv420p(tv), 352x288 [SAR 178:163 DAR 1958:1467], 1500 kb/s, 25 fps, 25 tbr, 90k tbn, 25 tbc\n",
      "    Stream #0:1[0x1c0]: Audio: mp2, 48000 Hz, mono, s16p, 192 kb/s\n",
      "At least one output file must be specified\n",
      "\n"
     ]
    },
    {
     "name": "stderr",
     "output_type": "stream",
     "text": [
      " 33%|███▎      | 398/1208 [1:20:31<35:24,  2.62s/it]"
     ]
    },
    {
     "name": "stdout",
     "output_type": "stream",
     "text": [
      "Input #0, mpeg, from 'Data/CorpusNGT/gloss/CNGT0330_S015.mpg':\n",
      "  Duration: 00:02:40.00, start: 0.187533, bitrate: 1731 kb/s\n",
      "    Stream #0:0[0x1e0]: Video: mpeg1video, yuv420p(tv), 352x288 [SAR 178:163 DAR 1958:1467], 1500 kb/s, 25 fps, 25 tbr, 90k tbn, 25 tbc\n",
      "    Stream #0:1[0x1c0]: Audio: mp2, 48000 Hz, mono, s16p, 192 kb/s\n",
      "At least one output file must be specified\n",
      "\n"
     ]
    },
    {
     "name": "stderr",
     "output_type": "stream",
     "text": [
      " 33%|███▎      | 400/1208 [1:20:39<41:18,  3.07s/it]"
     ]
    },
    {
     "name": "stdout",
     "output_type": "stream",
     "text": [
      "Input #0, mpeg, from 'Data/CorpusNGT/gloss/CNGT0330_S016.mpg':\n",
      "  Duration: 00:02:40.00, start: 0.187533, bitrate: 1731 kb/s\n",
      "    Stream #0:0[0x1e0]: Video: mpeg1video, yuv420p(tv), 352x288 [SAR 178:163 DAR 1958:1467], 1500 kb/s, 25 fps, 25 tbr, 90k tbn, 25 tbc\n",
      "    Stream #0:1[0x1c0]: Audio: mp2, 48000 Hz, mono, s16p, 192 kb/s\n",
      "At least one output file must be specified\n",
      "\n"
     ]
    },
    {
     "name": "stderr",
     "output_type": "stream",
     "text": [
      " 33%|███▎      | 402/1208 [1:20:53<57:44,  4.30s/it]"
     ]
    },
    {
     "name": "stdout",
     "output_type": "stream",
     "text": [
      "Input #0, mpeg, from 'Data/CorpusNGT/gloss/CNGT0331_S015.mpg':\n",
      "  Duration: 00:02:11.00, start: 0.187533, bitrate: 1731 kb/s\n",
      "    Stream #0:0[0x1e0]: Video: mpeg1video, yuv420p(tv), 352x288 [SAR 178:163 DAR 1958:1467], 1500 kb/s, 25 fps, 25 tbr, 90k tbn, 25 tbc\n",
      "    Stream #0:1[0x1c0]: Audio: mp2, 48000 Hz, mono, s16p, 192 kb/s\n",
      "At least one output file must be specified\n",
      "\n"
     ]
    },
    {
     "name": "stderr",
     "output_type": "stream",
     "text": [
      " 33%|███▎      | 404/1208 [1:21:02<58:27,  4.36s/it]"
     ]
    },
    {
     "name": "stdout",
     "output_type": "stream",
     "text": [
      "Input #0, mpeg, from 'Data/CorpusNGT/gloss/CNGT0331_S016.mpg':\n",
      "  Duration: 00:02:11.00, start: 0.187533, bitrate: 1731 kb/s\n",
      "    Stream #0:0[0x1e0]: Video: mpeg1video, yuv420p(tv), 352x288 [SAR 178:163 DAR 1958:1467], 1500 kb/s, 25 fps, 25 tbr, 90k tbn, 25 tbc\n",
      "    Stream #0:1[0x1c0]: Audio: mp2, 48000 Hz, mono, s16p, 192 kb/s\n",
      "At least one output file must be specified\n",
      "\n"
     ]
    },
    {
     "name": "stderr",
     "output_type": "stream",
     "text": [
      " 34%|███▎      | 406/1208 [1:21:14<1:03:34,  4.76s/it]"
     ]
    },
    {
     "name": "stdout",
     "output_type": "stream",
     "text": [
      "Input #0, mpeg, from 'Data/CorpusNGT/gloss/CNGT0332_S015.mpg':\n",
      "  Duration: 00:01:30.00, start: 0.187533, bitrate: 1732 kb/s\n",
      "    Stream #0:0[0x1e0]: Video: mpeg1video, yuv420p(tv), 352x288 [SAR 178:163 DAR 1958:1467], 1500 kb/s, 25 fps, 25 tbr, 90k tbn, 25 tbc\n",
      "    Stream #0:1[0x1c0]: Audio: mp2, 48000 Hz, mono, s16p, 192 kb/s\n",
      "At least one output file must be specified\n",
      "\n"
     ]
    },
    {
     "name": "stderr",
     "output_type": "stream",
     "text": [
      " 34%|███▍      | 408/1208 [1:21:19<54:19,  4.07s/it]  "
     ]
    },
    {
     "name": "stdout",
     "output_type": "stream",
     "text": [
      "Input #0, mpeg, from 'Data/CorpusNGT/gloss/CNGT0332_S016.mpg':\n",
      "  Duration: 00:01:30.00, start: 0.187533, bitrate: 1732 kb/s\n",
      "    Stream #0:0[0x1e0]: Video: mpeg1video, yuv420p(tv), 352x288 [SAR 178:163 DAR 1958:1467], 1500 kb/s, 25 fps, 25 tbr, 90k tbn, 25 tbc\n",
      "    Stream #0:1[0x1c0]: Audio: mp2, 48000 Hz, mono, s16p, 192 kb/s\n",
      "At least one output file must be specified\n",
      "\n"
     ]
    },
    {
     "name": "stderr",
     "output_type": "stream",
     "text": [
      " 34%|███▍      | 410/1208 [1:21:26<52:18,  3.93s/it]"
     ]
    },
    {
     "name": "stdout",
     "output_type": "stream",
     "text": [
      "Input #0, mpeg, from 'Data/CorpusNGT/gloss/CNGT0333_S015.mpg':\n",
      "  Duration: 00:00:45.00, start: 0.187533, bitrate: 1734 kb/s\n",
      "    Stream #0:0[0x1e0]: Video: mpeg1video, yuv420p(tv), 352x288 [SAR 178:163 DAR 1958:1467], 1500 kb/s, 25 fps, 25 tbr, 90k tbn, 25 tbc\n",
      "    Stream #0:1[0x1c0]: Audio: mp2, 48000 Hz, mono, s16p, 192 kb/s\n",
      "At least one output file must be specified\n",
      "\n"
     ]
    },
    {
     "name": "stderr",
     "output_type": "stream",
     "text": [
      " 34%|███▍      | 412/1208 [1:21:27<38:25,  2.90s/it]"
     ]
    },
    {
     "name": "stdout",
     "output_type": "stream",
     "text": [
      "Input #0, mpeg, from 'Data/CorpusNGT/gloss/CNGT0333_S016.mpg':\n",
      "  Duration: 00:00:45.00, start: 0.187533, bitrate: 1734 kb/s\n",
      "    Stream #0:0[0x1e0]: Video: mpeg1video, yuv420p(tv), 352x288 [SAR 178:163 DAR 1958:1467], 1500 kb/s, 25 fps, 25 tbr, 90k tbn, 25 tbc\n",
      "    Stream #0:1[0x1c0]: Audio: mp2, 48000 Hz, mono, s16p, 192 kb/s\n",
      "At least one output file must be specified\n",
      "\n"
     ]
    },
    {
     "name": "stderr",
     "output_type": "stream",
     "text": [
      " 34%|███▍      | 414/1208 [1:21:31<34:40,  2.62s/it]"
     ]
    },
    {
     "name": "stdout",
     "output_type": "stream",
     "text": [
      "Input #0, mpeg, from 'Data/CorpusNGT/gloss/CNGT0334_S015.mpg':\n",
      "  Duration: 00:00:32.00, start: 0.187533, bitrate: 1737 kb/s\n",
      "    Stream #0:0[0x1e0]: Video: mpeg1video, yuv420p(tv), 352x288 [SAR 178:163 DAR 1958:1467], 1500 kb/s, 25 fps, 25 tbr, 90k tbn, 25 tbc\n",
      "    Stream #0:1[0x1c0]: Audio: mp2, 48000 Hz, mono, s16p, 192 kb/s\n",
      "At least one output file must be specified\n",
      "\n"
     ]
    },
    {
     "name": "stderr",
     "output_type": "stream",
     "text": [
      " 34%|███▍      | 416/1208 [1:21:32<26:03,  1.97s/it]"
     ]
    },
    {
     "name": "stdout",
     "output_type": "stream",
     "text": [
      "Input #0, mpeg, from 'Data/CorpusNGT/gloss/CNGT0334_S016.mpg':\n",
      "  Duration: 00:00:32.00, start: 0.187533, bitrate: 1737 kb/s\n",
      "    Stream #0:0[0x1e0]: Video: mpeg1video, yuv420p(tv), 352x288 [SAR 178:163 DAR 1958:1467], 1500 kb/s, 25 fps, 25 tbr, 90k tbn, 25 tbc\n",
      "    Stream #0:1[0x1c0]: Audio: mp2, 48000 Hz, mono, s16p, 192 kb/s\n",
      "At least one output file must be specified\n",
      "\n"
     ]
    },
    {
     "name": "stderr",
     "output_type": "stream",
     "text": [
      " 35%|███▍      | 418/1208 [1:21:35<25:09,  1.91s/it]"
     ]
    },
    {
     "name": "stdout",
     "output_type": "stream",
     "text": [
      "Input #0, mpeg, from 'Data/CorpusNGT/gloss/CNGT0335_S015.mpg':\n",
      "  Duration: 00:03:26.00, start: 0.187533, bitrate: 1731 kb/s\n",
      "    Stream #0:0[0x1e0]: Video: mpeg1video, yuv420p(tv), 352x288 [SAR 178:163 DAR 1958:1467], 1500 kb/s, 25 fps, 25 tbr, 90k tbn, 25 tbc\n",
      "    Stream #0:1[0x1c0]: Audio: mp2, 48000 Hz, mono, s16p, 192 kb/s\n",
      "At least one output file must be specified\n",
      "\n"
     ]
    },
    {
     "name": "stderr",
     "output_type": "stream",
     "text": [
      " 35%|███▍      | 420/1208 [1:21:52<50:42,  3.86s/it]"
     ]
    },
    {
     "name": "stdout",
     "output_type": "stream",
     "text": [
      "Input #0, mpeg, from 'Data/CorpusNGT/gloss/CNGT0335_S016.mpg':\n",
      "  Duration: 00:03:26.00, start: 0.187533, bitrate: 1731 kb/s\n",
      "    Stream #0:0[0x1e0]: Video: mpeg1video, yuv420p(tv), 352x288 [SAR 178:163 DAR 1958:1467], 1500 kb/s, 25 fps, 25 tbr, 90k tbn, 25 tbc\n",
      "    Stream #0:1[0x1c0]: Audio: mp2, 48000 Hz, mono, s16p, 192 kb/s\n",
      "At least one output file must be specified\n",
      "\n"
     ]
    },
    {
     "name": "stderr",
     "output_type": "stream",
     "text": [
      " 35%|███▍      | 422/1208 [1:22:05<1:00:42,  4.63s/it]"
     ]
    },
    {
     "name": "stdout",
     "output_type": "stream",
     "text": [
      "Input #0, mpeg, from 'Data/CorpusNGT/gloss/CNGT0336_S015.mpg':\n",
      "  Duration: 00:02:00.00, start: 0.187533, bitrate: 1731 kb/s\n",
      "    Stream #0:0[0x1e0]: Video: mpeg1video, yuv420p(tv), 352x288 [SAR 178:163 DAR 1958:1467], 1500 kb/s, 25 fps, 25 tbr, 90k tbn, 25 tbc\n",
      "    Stream #0:1[0x1c0]: Audio: mp2, 48000 Hz, mono, s16p, 192 kb/s\n",
      "At least one output file must be specified\n",
      "\n"
     ]
    },
    {
     "name": "stderr",
     "output_type": "stream",
     "text": [
      " 35%|███▌      | 424/1208 [1:22:15<1:02:30,  4.78s/it]"
     ]
    },
    {
     "name": "stdout",
     "output_type": "stream",
     "text": [
      "Input #0, mpeg, from 'Data/CorpusNGT/gloss/CNGT0336_S016.mpg':\n",
      "  Duration: 00:02:00.00, start: 0.187533, bitrate: 1731 kb/s\n",
      "    Stream #0:0[0x1e0]: Video: mpeg1video, yuv420p(tv), 352x288 [SAR 178:163 DAR 1958:1467], 1500 kb/s, 25 fps, 25 tbr, 90k tbn, 25 tbc\n",
      "    Stream #0:1[0x1c0]: Audio: mp2, 48000 Hz, mono, s16p, 192 kb/s\n",
      "At least one output file must be specified\n",
      "\n"
     ]
    },
    {
     "name": "stderr",
     "output_type": "stream",
     "text": [
      " 35%|███▌      | 426/1208 [1:22:21<55:32,  4.26s/it]  "
     ]
    },
    {
     "name": "stdout",
     "output_type": "stream",
     "text": [
      "Input #0, mpeg, from 'Data/CorpusNGT/gloss/CNGT0337_S015.mpg':\n",
      "  Duration: 00:02:07.00, start: 0.187533, bitrate: 1731 kb/s\n",
      "    Stream #0:0[0x1e0]: Video: mpeg1video, yuv420p(tv), 352x288 [SAR 178:163 DAR 1958:1467], 1500 kb/s, 25 fps, 25 tbr, 90k tbn, 25 tbc\n",
      "    Stream #0:1[0x1c0]: Audio: mp2, 48000 Hz, mono, s16p, 192 kb/s\n",
      "At least one output file must be specified\n",
      "\n"
     ]
    },
    {
     "name": "stderr",
     "output_type": "stream",
     "text": [
      " 35%|███▌      | 428/1208 [1:22:32<59:31,  4.58s/it]"
     ]
    },
    {
     "name": "stdout",
     "output_type": "stream",
     "text": [
      "Input #0, mpeg, from 'Data/CorpusNGT/gloss/CNGT0337_S016.mpg':\n",
      "  Duration: 00:02:07.00, start: 0.187533, bitrate: 1731 kb/s\n",
      "    Stream #0:0[0x1e0]: Video: mpeg1video, yuv420p(tv), 352x288 [SAR 178:163 DAR 1958:1467], 1500 kb/s, 25 fps, 25 tbr, 90k tbn, 25 tbc\n",
      "    Stream #0:1[0x1c0]: Audio: mp2, 48000 Hz, mono, s16p, 192 kb/s\n",
      "At least one output file must be specified\n",
      "\n"
     ]
    },
    {
     "name": "stderr",
     "output_type": "stream",
     "text": [
      " 36%|███▌      | 430/1208 [1:22:37<52:05,  4.02s/it]"
     ]
    },
    {
     "name": "stdout",
     "output_type": "stream",
     "text": [
      "Input #0, mpeg, from 'Data/CorpusNGT/gloss/CNGT0338_S015.mpg':\n",
      "  Duration: 00:02:47.00, start: 0.187533, bitrate: 1731 kb/s\n",
      "    Stream #0:0[0x1e0]: Video: mpeg1video, yuv420p(tv), 352x288 [SAR 178:163 DAR 1958:1467], 1500 kb/s, 25 fps, 25 tbr, 90k tbn, 25 tbc\n",
      "    Stream #0:1[0x1c0]: Audio: mp2, 48000 Hz, mono, s16p, 192 kb/s\n",
      "At least one output file must be specified\n",
      "\n"
     ]
    },
    {
     "name": "stderr",
     "output_type": "stream",
     "text": [
      " 36%|███▌      | 432/1208 [1:22:48<56:06,  4.34s/it]"
     ]
    },
    {
     "name": "stdout",
     "output_type": "stream",
     "text": [
      "Input #0, mpeg, from 'Data/CorpusNGT/gloss/CNGT0338_S016.mpg':\n",
      "  Duration: 00:02:47.00, start: 0.187533, bitrate: 1731 kb/s\n",
      "    Stream #0:0[0x1e0]: Video: mpeg1video, yuv420p(tv), 352x288 [SAR 178:163 DAR 1958:1467], 1500 kb/s, 25 fps, 25 tbr, 90k tbn, 25 tbc\n",
      "    Stream #0:1[0x1c0]: Audio: mp2, 48000 Hz, mono, s16p, 192 kb/s\n",
      "At least one output file must be specified\n",
      "\n"
     ]
    },
    {
     "name": "stderr",
     "output_type": "stream",
     "text": [
      " 36%|███▌      | 434/1208 [1:22:58<58:24,  4.53s/it]"
     ]
    },
    {
     "name": "stdout",
     "output_type": "stream",
     "text": [
      "Input #0, mpeg, from 'Data/CorpusNGT/gloss/CNGT0339_S015.mpg':\n",
      "  Duration: 00:02:02.00, start: 0.187533, bitrate: 1731 kb/s\n",
      "    Stream #0:0[0x1e0]: Video: mpeg1video, yuv420p(tv), 352x288 [SAR 178:163 DAR 1958:1467], 1500 kb/s, 25 fps, 25 tbr, 90k tbn, 25 tbc\n",
      "    Stream #0:1[0x1c0]: Audio: mp2, 48000 Hz, mono, s16p, 192 kb/s\n",
      "At least one output file must be specified\n",
      "\n"
     ]
    },
    {
     "name": "stderr",
     "output_type": "stream",
     "text": [
      " 36%|███▌      | 436/1208 [1:23:02<50:21,  3.91s/it]"
     ]
    },
    {
     "name": "stdout",
     "output_type": "stream",
     "text": [
      "Input #0, mpeg, from 'Data/CorpusNGT/gloss/CNGT0339_S016.mpg':\n",
      "  Duration: 00:02:02.00, start: 0.187533, bitrate: 1731 kb/s\n",
      "    Stream #0:0[0x1e0]: Video: mpeg1video, yuv420p(tv), 352x288 [SAR 178:163 DAR 1958:1467], 1500 kb/s, 25 fps, 25 tbr, 90k tbn, 25 tbc\n",
      "    Stream #0:1[0x1c0]: Audio: mp2, 48000 Hz, mono, s16p, 192 kb/s\n",
      "At least one output file must be specified\n",
      "\n"
     ]
    },
    {
     "name": "stderr",
     "output_type": "stream",
     "text": [
      " 36%|███▋      | 438/1208 [1:23:19<1:07:49,  5.29s/it]"
     ]
    },
    {
     "name": "stdout",
     "output_type": "stream",
     "text": [
      "Input #0, mpeg, from 'Data/CorpusNGT/gloss/CNGT0340_S015.mpg':\n",
      "  Duration: 00:02:38.00, start: 0.187533, bitrate: 1731 kb/s\n",
      "    Stream #0:0[0x1e0]: Video: mpeg1video, yuv420p(tv), 352x288 [SAR 178:163 DAR 1958:1467], 1500 kb/s, 25 fps, 25 tbr, 90k tbn, 25 tbc\n",
      "    Stream #0:1[0x1c0]: Audio: mp2, 48000 Hz, mono, s16p, 192 kb/s\n",
      "At least one output file must be specified\n",
      "\n"
     ]
    },
    {
     "name": "stderr",
     "output_type": "stream",
     "text": [
      " 36%|███▋      | 440/1208 [1:23:29<1:04:52,  5.07s/it]"
     ]
    },
    {
     "name": "stdout",
     "output_type": "stream",
     "text": [
      "Input #0, mpeg, from 'Data/CorpusNGT/gloss/CNGT0340_S016.mpg':\n",
      "  Duration: 00:02:38.00, start: 0.187533, bitrate: 1731 kb/s\n",
      "    Stream #0:0[0x1e0]: Video: mpeg1video, yuv420p(tv), 352x288 [SAR 178:163 DAR 1958:1467], 1500 kb/s, 25 fps, 25 tbr, 90k tbn, 25 tbc\n",
      "    Stream #0:1[0x1c0]: Audio: mp2, 48000 Hz, mono, s16p, 192 kb/s\n",
      "At least one output file must be specified\n",
      "\n"
     ]
    },
    {
     "name": "stderr",
     "output_type": "stream",
     "text": [
      " 37%|███▋      | 442/1208 [1:23:40<1:07:44,  5.31s/it]"
     ]
    },
    {
     "name": "stdout",
     "output_type": "stream",
     "text": [
      "Input #0, mpeg, from 'Data/CorpusNGT/gloss/CNGT0341_S015.mpg':\n",
      "  Duration: 00:00:51.00, start: 0.187533, bitrate: 1734 kb/s\n",
      "    Stream #0:0[0x1e0]: Video: mpeg1video, yuv420p(tv), 352x288 [SAR 178:163 DAR 1958:1467], 1500 kb/s, 25 fps, 25 tbr, 90k tbn, 25 tbc\n",
      "    Stream #0:1[0x1c0]: Audio: mp2, 48000 Hz, mono, s16p, 192 kb/s\n",
      "At least one output file must be specified\n",
      "\n"
     ]
    },
    {
     "name": "stderr",
     "output_type": "stream",
     "text": [
      " 37%|███▋      | 444/1208 [1:23:45<57:05,  4.48s/it]  "
     ]
    },
    {
     "name": "stdout",
     "output_type": "stream",
     "text": [
      "Input #0, mpeg, from 'Data/CorpusNGT/gloss/CNGT0341_S016.mpg':\n",
      "  Duration: 00:00:51.00, start: 0.187533, bitrate: 1734 kb/s\n",
      "    Stream #0:0[0x1e0]: Video: mpeg1video, yuv420p(tv), 352x288 [SAR 178:163 DAR 1958:1467], 1500 kb/s, 25 fps, 25 tbr, 90k tbn, 25 tbc\n",
      "    Stream #0:1[0x1c0]: Audio: mp2, 48000 Hz, mono, s16p, 192 kb/s\n",
      "At least one output file must be specified\n",
      "\n"
     ]
    },
    {
     "name": "stderr",
     "output_type": "stream",
     "text": [
      " 37%|███▋      | 446/1208 [1:23:48<43:58,  3.46s/it]"
     ]
    },
    {
     "name": "stdout",
     "output_type": "stream",
     "text": [
      "Input #0, mpeg, from 'Data/CorpusNGT/gloss/CNGT0362_S019.mpg':\n",
      "  Duration: 00:01:03.00, start: 0.187533, bitrate: 1733 kb/s\n",
      "    Stream #0:0[0x1e0]: Video: mpeg1video, yuv420p(tv), 352x288 [SAR 178:163 DAR 1958:1467], 1500 kb/s, 25 fps, 25 tbr, 90k tbn, 25 tbc\n",
      "    Stream #0:1[0x1c0]: Audio: mp2, 48000 Hz, mono, s16p, 192 kb/s\n",
      "At least one output file must be specified\n",
      "\n"
     ]
    },
    {
     "name": "stderr",
     "output_type": "stream",
     "text": [
      " 37%|███▋      | 448/1208 [1:23:51<38:05,  3.01s/it]"
     ]
    },
    {
     "name": "stdout",
     "output_type": "stream",
     "text": [
      "Input #0, mpeg, from 'Data/CorpusNGT/gloss/CNGT0362_S020.mpg':\n",
      "  Duration: 00:01:03.00, start: 0.187533, bitrate: 1733 kb/s\n",
      "    Stream #0:0[0x1e0]: Video: mpeg1video, yuv420p(tv), 352x288 [SAR 178:163 DAR 1958:1467], 1500 kb/s, 25 fps, 25 tbr, 90k tbn, 25 tbc\n",
      "    Stream #0:1[0x1c0]: Audio: mp2, 48000 Hz, mono, s16p, 192 kb/s\n",
      "At least one output file must be specified\n",
      "\n"
     ]
    },
    {
     "name": "stderr",
     "output_type": "stream",
     "text": [
      " 37%|███▋      | 450/1208 [1:23:53<28:44,  2.28s/it]"
     ]
    },
    {
     "name": "stdout",
     "output_type": "stream",
     "text": [
      "Input #0, mpeg, from 'Data/CorpusNGT/gloss/CNGT0364_S019.mpg':\n",
      "  Duration: 00:01:59.00, start: 0.187533, bitrate: 1731 kb/s\n",
      "    Stream #0:0[0x1e0]: Video: mpeg1video, yuv420p(tv), 352x288 [SAR 178:163 DAR 1958:1467], 1500 kb/s, 25 fps, 25 tbr, 90k tbn, 25 tbc\n",
      "    Stream #0:1[0x1c0]: Audio: mp2, 48000 Hz, mono, s16p, 192 kb/s\n",
      "At least one output file must be specified\n",
      "\n"
     ]
    },
    {
     "name": "stderr",
     "output_type": "stream",
     "text": [
      " 37%|███▋      | 452/1208 [1:24:06<45:16,  3.59s/it]"
     ]
    },
    {
     "name": "stdout",
     "output_type": "stream",
     "text": [
      "Input #0, mpeg, from 'Data/CorpusNGT/gloss/CNGT0364_S020.mpg':\n",
      "  Duration: 00:01:46.00, start: 0.187533, bitrate: 1732 kb/s\n",
      "    Stream #0:0[0x1e0]: Video: mpeg1video, yuv420p(tv), 352x288 [SAR 178:163 DAR 1958:1467], 1500 kb/s, 25 fps, 25 tbr, 90k tbn, 25 tbc\n",
      "    Stream #0:1[0x1c0]: Audio: mp2, 48000 Hz, mono, s16p, 192 kb/s\n",
      "At least one output file must be specified\n",
      "\n"
     ]
    },
    {
     "name": "stderr",
     "output_type": "stream",
     "text": [
      " 38%|███▊      | 454/1208 [1:24:07<32:57,  2.62s/it]"
     ]
    },
    {
     "name": "stdout",
     "output_type": "stream",
     "text": [
      "Input #0, mpeg, from 'Data/CorpusNGT/gloss/CNGT0365_S019.mpg':\n",
      "  Duration: 00:01:07.00, start: 0.187533, bitrate: 1733 kb/s\n",
      "    Stream #0:0[0x1e0]: Video: mpeg1video, yuv420p(tv), 352x288 [SAR 178:163 DAR 1958:1467], 1500 kb/s, 25 fps, 25 tbr, 90k tbn, 25 tbc\n",
      "    Stream #0:1[0x1c0]: Audio: mp2, 48000 Hz, mono, s16p, 192 kb/s\n",
      "At least one output file must be specified\n",
      "\n"
     ]
    },
    {
     "name": "stderr",
     "output_type": "stream",
     "text": [
      " 38%|███▊      | 456/1208 [1:24:07<23:29,  1.87s/it]"
     ]
    },
    {
     "name": "stdout",
     "output_type": "stream",
     "text": [
      "Input #0, mpeg, from 'Data/CorpusNGT/gloss/CNGT0365_S020.mpg':\n",
      "  Duration: 00:01:07.00, start: 0.187533, bitrate: 1733 kb/s\n",
      "    Stream #0:0[0x1e0]: Video: mpeg1video, yuv420p(tv), 352x288 [SAR 178:163 DAR 1958:1467], 1500 kb/s, 25 fps, 25 tbr, 90k tbn, 25 tbc\n",
      "    Stream #0:1[0x1c0]: Audio: mp2, 48000 Hz, mono, s16p, 192 kb/s\n",
      "At least one output file must be specified\n",
      "\n"
     ]
    },
    {
     "name": "stderr",
     "output_type": "stream",
     "text": [
      " 38%|███▊      | 458/1208 [1:24:14<30:13,  2.42s/it]"
     ]
    },
    {
     "name": "stdout",
     "output_type": "stream",
     "text": [
      "Input #0, mpeg, from 'Data/CorpusNGT/gloss/CNGT0366_S019.mpg':\n",
      "  Duration: 00:01:46.00, start: 0.187533, bitrate: 1732 kb/s\n",
      "    Stream #0:0[0x1e0]: Video: mpeg1video, yuv420p(tv), 352x288 [SAR 178:163 DAR 1958:1467], 1500 kb/s, 25 fps, 25 tbr, 90k tbn, 25 tbc\n",
      "    Stream #0:1[0x1c0]: Audio: mp2, 48000 Hz, mono, s16p, 192 kb/s\n",
      "At least one output file must be specified\n",
      "\n"
     ]
    },
    {
     "name": "stderr",
     "output_type": "stream",
     "text": [
      " 38%|███▊      | 460/1208 [1:24:29<47:48,  3.84s/it]"
     ]
    },
    {
     "name": "stdout",
     "output_type": "stream",
     "text": [
      "Input #0, mpeg, from 'Data/CorpusNGT/gloss/CNGT0366_S020.mpg':\n",
      "  Duration: 00:01:46.00, start: 0.187533, bitrate: 1732 kb/s\n",
      "    Stream #0:0[0x1e0]: Video: mpeg1video, yuv420p(tv), 352x288 [SAR 178:163 DAR 1958:1467], 1500 kb/s, 25 fps, 25 tbr, 90k tbn, 25 tbc\n",
      "    Stream #0:1[0x1c0]: Audio: mp2, 48000 Hz, mono, s16p, 192 kb/s\n",
      "At least one output file must be specified\n",
      "\n"
     ]
    },
    {
     "name": "stderr",
     "output_type": "stream",
     "text": [
      " 38%|███▊      | 462/1208 [1:24:29<34:27,  2.77s/it]"
     ]
    },
    {
     "name": "stdout",
     "output_type": "stream",
     "text": [
      "Input #0, mpeg, from 'Data/CorpusNGT/gloss/CNGT0368_S019.mpg':\n",
      "  Duration: 00:04:18.00, start: 0.187533, bitrate: 1730 kb/s\n",
      "    Stream #0:0[0x1e0]: Video: mpeg1video, yuv420p(tv), 352x288 [SAR 178:163 DAR 1958:1467], 1500 kb/s, 25 fps, 25 tbr, 90k tbn, 25 tbc\n",
      "    Stream #0:1[0x1c0]: Audio: mp2, 48000 Hz, mono, s16p, 192 kb/s\n",
      "At least one output file must be specified\n",
      "\n"
     ]
    },
    {
     "name": "stderr",
     "output_type": "stream",
     "text": [
      " 38%|███▊      | 464/1208 [1:24:32<29:35,  2.39s/it]"
     ]
    },
    {
     "name": "stdout",
     "output_type": "stream",
     "text": [
      "Input #0, mpeg, from 'Data/CorpusNGT/gloss/CNGT0368_S020.mpg':\n",
      "  Duration: 00:04:18.00, start: 0.187533, bitrate: 1730 kb/s\n",
      "    Stream #0:0[0x1e0]: Video: mpeg1video, yuv420p(tv), 352x288 [SAR 178:163 DAR 1958:1467], 1500 kb/s, 25 fps, 25 tbr, 90k tbn, 25 tbc\n",
      "    Stream #0:1[0x1c0]: Audio: mp2, 48000 Hz, mono, s16p, 192 kb/s\n",
      "At least one output file must be specified\n",
      "\n"
     ]
    },
    {
     "name": "stderr",
     "output_type": "stream",
     "text": [
      " 39%|███▊      | 466/1208 [1:24:33<22:24,  1.81s/it]"
     ]
    },
    {
     "name": "stdout",
     "output_type": "stream",
     "text": [
      "Input #0, mpeg, from 'Data/CorpusNGT/gloss/CNGT0369_S019.mpg':\n",
      "  Duration: 00:01:34.00, start: 0.187533, bitrate: 1732 kb/s\n",
      "    Stream #0:0[0x1e0]: Video: mpeg1video, yuv420p(tv), 352x288 [SAR 178:163 DAR 1958:1467], 1500 kb/s, 25 fps, 25 tbr, 90k tbn, 25 tbc\n",
      "    Stream #0:1[0x1c0]: Audio: mp2, 48000 Hz, mono, s16p, 192 kb/s\n",
      "At least one output file must be specified\n",
      "\n"
     ]
    },
    {
     "name": "stderr",
     "output_type": "stream",
     "text": [
      " 39%|███▊      | 468/1208 [1:24:40<28:22,  2.30s/it]"
     ]
    },
    {
     "name": "stdout",
     "output_type": "stream",
     "text": [
      "Input #0, mpeg, from 'Data/CorpusNGT/gloss/CNGT0369_S020.mpg':\n",
      "  Duration: 00:01:34.00, start: 0.187533, bitrate: 1732 kb/s\n",
      "    Stream #0:0[0x1e0]: Video: mpeg1video, yuv420p(tv), 352x288 [SAR 178:163 DAR 1958:1467], 1500 kb/s, 25 fps, 25 tbr, 90k tbn, 25 tbc\n",
      "    Stream #0:1[0x1c0]: Audio: mp2, 48000 Hz, mono, s16p, 192 kb/s\n",
      "At least one output file must be specified\n",
      "\n"
     ]
    },
    {
     "name": "stderr",
     "output_type": "stream",
     "text": [
      " 39%|███▉      | 470/1208 [1:24:47<33:41,  2.74s/it]"
     ]
    },
    {
     "name": "stdout",
     "output_type": "stream",
     "text": [
      "Input #0, mpeg, from 'Data/CorpusNGT/gloss/CNGT0370_S019.mpg':\n",
      "  Duration: 00:01:36.00, start: 0.187533, bitrate: 1732 kb/s\n",
      "    Stream #0:0[0x1e0]: Video: mpeg1video, yuv420p(tv), 352x288 [SAR 178:163 DAR 1958:1467], 1500 kb/s, 25 fps, 25 tbr, 90k tbn, 25 tbc\n",
      "    Stream #0:1[0x1c0]: Audio: mp2, 48000 Hz, mono, s16p, 192 kb/s\n",
      "At least one output file must be specified\n",
      "\n"
     ]
    },
    {
     "name": "stderr",
     "output_type": "stream",
     "text": [
      " 39%|███▉      | 472/1208 [1:24:49<26:30,  2.16s/it]"
     ]
    },
    {
     "name": "stdout",
     "output_type": "stream",
     "text": [
      "Input #0, mpeg, from 'Data/CorpusNGT/gloss/CNGT0370_S020.mpg':\n",
      "  Duration: 00:01:36.00, start: 0.187533, bitrate: 1732 kb/s\n",
      "    Stream #0:0[0x1e0]: Video: mpeg1video, yuv420p(tv), 352x288 [SAR 178:163 DAR 1958:1467], 1500 kb/s, 25 fps, 25 tbr, 90k tbn, 25 tbc\n",
      "    Stream #0:1[0x1c0]: Audio: mp2, 48000 Hz, mono, s16p, 192 kb/s\n",
      "At least one output file must be specified\n",
      "\n"
     ]
    },
    {
     "name": "stderr",
     "output_type": "stream",
     "text": [
      " 39%|███▉      | 474/1208 [1:25:04<45:55,  3.75s/it]"
     ]
    },
    {
     "name": "stdout",
     "output_type": "stream",
     "text": [
      "Input #0, mpeg, from 'Data/CorpusNGT/gloss/CNGT0371_S019.mpg':\n",
      "  Duration: 00:02:12.00, start: 0.187533, bitrate: 1731 kb/s\n",
      "    Stream #0:0[0x1e0]: Video: mpeg1video, yuv420p(tv), 352x288 [SAR 178:163 DAR 1958:1467], 1500 kb/s, 25 fps, 25 tbr, 90k tbn, 25 tbc\n",
      "    Stream #0:1[0x1c0]: Audio: mp2, 48000 Hz, mono, s16p, 192 kb/s\n",
      "At least one output file must be specified\n",
      "\n"
     ]
    },
    {
     "name": "stderr",
     "output_type": "stream",
     "text": [
      " 39%|███▉      | 476/1208 [1:25:17<55:25,  4.54s/it]"
     ]
    },
    {
     "name": "stdout",
     "output_type": "stream",
     "text": [
      "Input #0, mpeg, from 'Data/CorpusNGT/gloss/CNGT0371_S020.mpg':\n",
      "  Duration: 00:02:12.00, start: 0.187533, bitrate: 1731 kb/s\n",
      "    Stream #0:0[0x1e0]: Video: mpeg1video, yuv420p(tv), 352x288 [SAR 178:163 DAR 1958:1467], 1500 kb/s, 25 fps, 25 tbr, 90k tbn, 25 tbc\n",
      "    Stream #0:1[0x1c0]: Audio: mp2, 48000 Hz, mono, s16p, 192 kb/s\n",
      "At least one output file must be specified\n",
      "\n"
     ]
    },
    {
     "name": "stderr",
     "output_type": "stream",
     "text": [
      " 40%|███▉      | 478/1208 [1:25:18<40:29,  3.33s/it]"
     ]
    },
    {
     "name": "stdout",
     "output_type": "stream",
     "text": [
      "Input #0, mpeg, from 'Data/CorpusNGT/gloss/CNGT0372_S019.mpg':\n",
      "  Duration: 00:01:21.00, start: 0.187533, bitrate: 1732 kb/s\n",
      "    Stream #0:0[0x1e0]: Video: mpeg1video, yuv420p(tv), 352x288 [SAR 178:163 DAR 1958:1467], 1500 kb/s, 25 fps, 25 tbr, 90k tbn, 25 tbc\n",
      "    Stream #0:1[0x1c0]: Audio: mp2, 48000 Hz, mono, s16p, 192 kb/s\n",
      "At least one output file must be specified\n",
      "\n"
     ]
    },
    {
     "name": "stderr",
     "output_type": "stream",
     "text": [
      " 40%|███▉      | 480/1208 [1:25:28<46:46,  3.86s/it]"
     ]
    },
    {
     "name": "stdout",
     "output_type": "stream",
     "text": [
      "Input #0, mpeg, from 'Data/CorpusNGT/gloss/CNGT0372_S020.mpg':\n",
      "  Duration: 00:01:21.00, start: 0.187533, bitrate: 1732 kb/s\n",
      "    Stream #0:0[0x1e0]: Video: mpeg1video, yuv420p(tv), 352x288 [SAR 178:163 DAR 1958:1467], 1500 kb/s, 25 fps, 25 tbr, 90k tbn, 25 tbc\n",
      "    Stream #0:1[0x1c0]: Audio: mp2, 48000 Hz, mono, s16p, 192 kb/s\n",
      "At least one output file must be specified\n",
      "\n"
     ]
    },
    {
     "name": "stderr",
     "output_type": "stream",
     "text": [
      " 40%|███▉      | 482/1208 [1:25:29<33:43,  2.79s/it]"
     ]
    },
    {
     "name": "stdout",
     "output_type": "stream",
     "text": [
      "Input #0, mpeg, from 'Data/CorpusNGT/gloss/CNGT0374_S019.mpg':\n",
      "  Duration: 00:00:57.00, start: 0.187533, bitrate: 1733 kb/s\n",
      "    Stream #0:0[0x1e0]: Video: mpeg1video, yuv420p(tv), 352x288 [SAR 178:163 DAR 1958:1467], 1500 kb/s, 25 fps, 25 tbr, 90k tbn, 25 tbc\n",
      "    Stream #0:1[0x1c0]: Audio: mp2, 48000 Hz, mono, s16p, 192 kb/s\n",
      "At least one output file must be specified\n",
      "\n"
     ]
    },
    {
     "name": "stderr",
     "output_type": "stream",
     "text": [
      " 40%|████      | 484/1208 [1:25:36<36:18,  3.01s/it]"
     ]
    },
    {
     "name": "stdout",
     "output_type": "stream",
     "text": [
      "Input #0, mpeg, from 'Data/CorpusNGT/gloss/CNGT0374_S020.mpg':\n",
      "  Duration: 00:00:57.00, start: 0.187533, bitrate: 1733 kb/s\n",
      "    Stream #0:0[0x1e0]: Video: mpeg1video, yuv420p(tv), 352x288 [SAR 178:163 DAR 1958:1467], 1500 kb/s, 25 fps, 25 tbr, 90k tbn, 25 tbc\n",
      "    Stream #0:1[0x1c0]: Audio: mp2, 48000 Hz, mono, s16p, 192 kb/s\n",
      "At least one output file must be specified\n",
      "\n",
      "Input #0, mpeg, from 'Data/CorpusNGT/gloss/CNGT0376_S019.mpg':\n",
      "  Duration: 00:01:31.00, start: 0.187533, bitrate: 1732 kb/s\n",
      "    Stream #0:0[0x1e0]: Video: mpeg1video, yuv420p(tv), 352x288 [SAR 178:163 DAR 1958:1467], 1500 kb/s, 25 fps, 25 tbr, 90k tbn, 25 tbc\n",
      "    Stream #0:1[0x1c0]: Audio: mp2, 48000 Hz, mono, s16p, 192 kb/s\n",
      "At least one output file must be specified\n",
      "\n"
     ]
    },
    {
     "name": "stderr",
     "output_type": "stream",
     "text": [
      " 40%|████      | 488/1208 [1:25:48<37:11,  3.10s/it]"
     ]
    },
    {
     "name": "stdout",
     "output_type": "stream",
     "text": [
      "Input #0, mpeg, from 'Data/CorpusNGT/gloss/CNGT0376_S020.mpg':\n",
      "  Duration: 00:01:31.00, start: 0.187533, bitrate: 1732 kb/s\n",
      "    Stream #0:0[0x1e0]: Video: mpeg1video, yuv420p(tv), 352x288 [SAR 178:163 DAR 1958:1467], 1500 kb/s, 25 fps, 25 tbr, 90k tbn, 25 tbc\n",
      "    Stream #0:1[0x1c0]: Audio: mp2, 48000 Hz, mono, s16p, 192 kb/s\n",
      "At least one output file must be specified\n",
      "\n"
     ]
    },
    {
     "name": "stderr",
     "output_type": "stream",
     "text": [
      " 41%|████      | 490/1208 [1:25:49<28:52,  2.41s/it]"
     ]
    },
    {
     "name": "stdout",
     "output_type": "stream",
     "text": [
      "Input #0, mpeg, from 'Data/CorpusNGT/gloss/CNGT0378_S019.mpg':\n",
      "  Duration: 00:01:36.00, start: 0.187533, bitrate: 1732 kb/s\n",
      "    Stream #0:0[0x1e0]: Video: mpeg1video, yuv420p(tv), 352x288 [SAR 178:163 DAR 1958:1467], 1500 kb/s, 25 fps, 25 tbr, 90k tbn, 25 tbc\n",
      "    Stream #0:1[0x1c0]: Audio: mp2, 48000 Hz, mono, s16p, 192 kb/s\n",
      "At least one output file must be specified\n",
      "\n"
     ]
    },
    {
     "name": "stderr",
     "output_type": "stream",
     "text": [
      " 41%|████      | 492/1208 [1:26:00<38:35,  3.23s/it]"
     ]
    },
    {
     "name": "stdout",
     "output_type": "stream",
     "text": [
      "Input #0, mpeg, from 'Data/CorpusNGT/gloss/CNGT0378_S020.mpg':\n",
      "  Duration: 00:01:36.00, start: 0.187533, bitrate: 1732 kb/s\n",
      "    Stream #0:0[0x1e0]: Video: mpeg1video, yuv420p(tv), 352x288 [SAR 178:163 DAR 1958:1467], 1500 kb/s, 25 fps, 25 tbr, 90k tbn, 25 tbc\n",
      "    Stream #0:1[0x1c0]: Audio: mp2, 48000 Hz, mono, s16p, 192 kb/s\n",
      "At least one output file must be specified\n",
      "\n"
     ]
    },
    {
     "name": "stderr",
     "output_type": "stream",
     "text": [
      " 41%|████      | 494/1208 [1:26:01<28:57,  2.43s/it]"
     ]
    },
    {
     "name": "stdout",
     "output_type": "stream",
     "text": [
      "Input #0, mpeg, from 'Data/CorpusNGT/gloss/CNGT0386_S019.mpg':\n",
      "  Duration: 00:03:35.00, start: 0.187533, bitrate: 1731 kb/s\n",
      "    Stream #0:0[0x1e0]: Video: mpeg1video, yuv420p(tv), 352x288 [SAR 178:163 DAR 1958:1467], 1500 kb/s, 25 fps, 25 tbr, 90k tbn, 25 tbc\n",
      "    Stream #0:1[0x1c0]: Audio: mp2, 48000 Hz, mono, s16p, 192 kb/s\n",
      "At least one output file must be specified\n",
      "\n"
     ]
    },
    {
     "name": "stderr",
     "output_type": "stream",
     "text": [
      " 41%|████      | 496/1208 [1:26:30<1:10:07,  5.91s/it]"
     ]
    },
    {
     "name": "stdout",
     "output_type": "stream",
     "text": [
      "Input #0, mpeg, from 'Data/CorpusNGT/gloss/CNGT0386_S020.mpg':\n",
      "  Duration: 00:03:35.00, start: 0.187533, bitrate: 1731 kb/s\n",
      "    Stream #0:0[0x1e0]: Video: mpeg1video, yuv420p(tv), 352x288 [SAR 178:163 DAR 1958:1467], 1500 kb/s, 25 fps, 25 tbr, 90k tbn, 25 tbc\n",
      "    Stream #0:1[0x1c0]: Audio: mp2, 48000 Hz, mono, s16p, 192 kb/s\n",
      "At least one output file must be specified\n",
      "\n"
     ]
    },
    {
     "name": "stderr",
     "output_type": "stream",
     "text": [
      " 41%|████      | 498/1208 [1:26:46<1:15:40,  6.40s/it]"
     ]
    },
    {
     "name": "stdout",
     "output_type": "stream",
     "text": [
      "Input #0, mpeg, from 'Data/CorpusNGT/gloss/CNGT0387_S019.mpg':\n",
      "  Duration: 00:01:42.00, start: 0.187533, bitrate: 1732 kb/s\n",
      "    Stream #0:0[0x1e0]: Video: mpeg1video, yuv420p(tv), 352x288 [SAR 178:163 DAR 1958:1467], 1500 kb/s, 25 fps, 25 tbr, 90k tbn, 25 tbc\n",
      "    Stream #0:1[0x1c0]: Audio: mp2, 48000 Hz, mono, s16p, 192 kb/s\n",
      "At least one output file must be specified\n",
      "\n"
     ]
    },
    {
     "name": "stderr",
     "output_type": "stream",
     "text": [
      " 41%|████▏     | 500/1208 [1:26:57<1:12:46,  6.17s/it]"
     ]
    },
    {
     "name": "stdout",
     "output_type": "stream",
     "text": [
      "Input #0, mpeg, from 'Data/CorpusNGT/gloss/CNGT0387_S020.mpg':\n",
      "  Duration: 00:01:42.00, start: 0.187533, bitrate: 1732 kb/s\n",
      "    Stream #0:0[0x1e0]: Video: mpeg1video, yuv420p(tv), 352x288 [SAR 178:163 DAR 1958:1467], 1500 kb/s, 25 fps, 25 tbr, 90k tbn, 25 tbc\n",
      "    Stream #0:1[0x1c0]: Audio: mp2, 48000 Hz, mono, s16p, 192 kb/s\n",
      "At least one output file must be specified\n",
      "\n"
     ]
    },
    {
     "name": "stderr",
     "output_type": "stream",
     "text": [
      " 42%|████▏     | 502/1208 [1:27:06<1:06:23,  5.64s/it]"
     ]
    },
    {
     "name": "stdout",
     "output_type": "stream",
     "text": [
      "Input #0, mpeg, from 'Data/CorpusNGT/gloss/CNGT0388_S019.mpg':\n",
      "  Duration: 00:03:46.00, start: 0.187533, bitrate: 1730 kb/s\n",
      "    Stream #0:0[0x1e0]: Video: mpeg1video, yuv420p(tv), 352x288 [SAR 178:163 DAR 1958:1467], 1500 kb/s, 25 fps, 25 tbr, 90k tbn, 25 tbc\n",
      "    Stream #0:1[0x1c0]: Audio: mp2, 48000 Hz, mono, s16p, 192 kb/s\n",
      "At least one output file must be specified\n",
      "\n"
     ]
    },
    {
     "name": "stderr",
     "output_type": "stream",
     "text": [
      " 42%|████▏     | 504/1208 [1:27:31<1:29:40,  7.64s/it]"
     ]
    },
    {
     "name": "stdout",
     "output_type": "stream",
     "text": [
      "Input #0, mpeg, from 'Data/CorpusNGT/gloss/CNGT0388_S020.mpg':\n",
      "  Duration: 00:03:46.00, start: 0.187533, bitrate: 1730 kb/s\n",
      "    Stream #0:0[0x1e0]: Video: mpeg1video, yuv420p(tv), 352x288 [SAR 178:163 DAR 1958:1467], 1500 kb/s, 25 fps, 25 tbr, 90k tbn, 25 tbc\n",
      "    Stream #0:1[0x1c0]: Audio: mp2, 48000 Hz, mono, s16p, 192 kb/s\n",
      "At least one output file must be specified\n",
      "\n"
     ]
    },
    {
     "name": "stderr",
     "output_type": "stream",
     "text": [
      " 42%|████▏     | 506/1208 [1:27:48<1:32:39,  7.92s/it]"
     ]
    },
    {
     "name": "stdout",
     "output_type": "stream",
     "text": [
      "Input #0, mpeg, from 'Data/CorpusNGT/gloss/CNGT0389_S019.mpg':\n",
      "  Duration: 00:00:53.00, start: 0.187533, bitrate: 1734 kb/s\n",
      "    Stream #0:0[0x1e0]: Video: mpeg1video, yuv420p(tv), 352x288 [SAR 178:163 DAR 1958:1467], 1500 kb/s, 25 fps, 25 tbr, 90k tbn, 25 tbc\n",
      "    Stream #0:1[0x1c0]: Audio: mp2, 48000 Hz, mono, s16p, 192 kb/s\n",
      "At least one output file must be specified\n",
      "\n"
     ]
    },
    {
     "name": "stderr",
     "output_type": "stream",
     "text": [
      " 42%|████▏     | 508/1208 [1:27:56<1:20:08,  6.87s/it]"
     ]
    },
    {
     "name": "stdout",
     "output_type": "stream",
     "text": [
      "Input #0, mpeg, from 'Data/CorpusNGT/gloss/CNGT0389_S020.mpg':\n",
      "  Duration: 00:00:53.00, start: 0.187533, bitrate: 1734 kb/s\n",
      "    Stream #0:0[0x1e0]: Video: mpeg1video, yuv420p(tv), 352x288 [SAR 178:163 DAR 1958:1467], 1500 kb/s, 25 fps, 25 tbr, 90k tbn, 25 tbc\n",
      "    Stream #0:1[0x1c0]: Audio: mp2, 48000 Hz, mono, s16p, 192 kb/s\n",
      "At least one output file must be specified\n",
      "\n"
     ]
    },
    {
     "name": "stderr",
     "output_type": "stream",
     "text": [
      " 42%|████▏     | 510/1208 [1:27:57<56:44,  4.88s/it]  "
     ]
    },
    {
     "name": "stdout",
     "output_type": "stream",
     "text": [
      "Input #0, mpeg, from 'Data/CorpusNGT/gloss/CNGT0390_S019.mpg':\n",
      "  Duration: 00:02:16.00, start: 0.187533, bitrate: 1731 kb/s\n",
      "    Stream #0:0[0x1e0]: Video: mpeg1video, yuv420p(tv), 352x288 [SAR 178:163 DAR 1958:1467], 1500 kb/s, 25 fps, 25 tbr, 90k tbn, 25 tbc\n",
      "    Stream #0:1[0x1c0]: Audio: mp2, 48000 Hz, mono, s16p, 192 kb/s\n",
      "At least one output file must be specified\n",
      "\n"
     ]
    },
    {
     "name": "stderr",
     "output_type": "stream",
     "text": [
      " 42%|████▏     | 512/1208 [1:28:21<1:21:25,  7.02s/it]"
     ]
    },
    {
     "name": "stdout",
     "output_type": "stream",
     "text": [
      "Input #0, mpeg, from 'Data/CorpusNGT/gloss/CNGT0390_S020.mpg':\n",
      "  Duration: 00:02:16.00, start: 0.187533, bitrate: 1731 kb/s\n",
      "    Stream #0:0[0x1e0]: Video: mpeg1video, yuv420p(tv), 352x288 [SAR 178:163 DAR 1958:1467], 1500 kb/s, 25 fps, 25 tbr, 90k tbn, 25 tbc\n",
      "    Stream #0:1[0x1c0]: Audio: mp2, 48000 Hz, mono, s16p, 192 kb/s\n",
      "At least one output file must be specified\n",
      "\n"
     ]
    },
    {
     "name": "stderr",
     "output_type": "stream",
     "text": [
      " 43%|████▎     | 516/1208 [1:28:26<46:26,  4.03s/it]  "
     ]
    },
    {
     "name": "stdout",
     "output_type": "stream",
     "text": [
      "Input #0, mpeg, from 'Data/CorpusNGT/gloss/CNGT0412_S021.mpg':\n",
      "  Duration: 00:01:43.00, start: 0.187533, bitrate: 1732 kb/s\n",
      "    Stream #0:0[0x1e0]: Video: mpeg1video, yuv420p(tv), 352x288 [SAR 178:163 DAR 1958:1467], 1500 kb/s, 25 fps, 25 tbr, 90k tbn, 25 tbc\n",
      "    Stream #0:1[0x1c0]: Audio: mp2, 48000 Hz, mono, s16p, 192 kb/s\n",
      "At least one output file must be specified\n",
      "\n",
      "Input #0, mpeg, from 'Data/CorpusNGT/gloss/CNGT0412_S022.mpg':\n",
      "  Duration: 00:01:43.00, start: 0.187533, bitrate: 1732 kb/s\n",
      "    Stream #0:0[0x1e0]: Video: mpeg1video, yuv420p(tv), 352x288 [SAR 178:163 DAR 1958:1467], 1500 kb/s, 25 fps, 25 tbr, 90k tbn, 25 tbc\n",
      "    Stream #0:1[0x1c0]: Audio: mp2, 48000 Hz, mono, s16p, 192 kb/s\n",
      "At least one output file must be specified\n",
      "\n"
     ]
    },
    {
     "name": "stderr",
     "output_type": "stream",
     "text": [
      " 43%|████▎     | 518/1208 [1:28:41<58:04,  5.05s/it]"
     ]
    },
    {
     "name": "stdout",
     "output_type": "stream",
     "text": [
      "Input #0, mpeg, from 'Data/CorpusNGT/gloss/CNGT0413_S021.mpg':\n",
      "  Duration: 00:01:24.00, start: 0.187533, bitrate: 1732 kb/s\n",
      "    Stream #0:0[0x1e0]: Video: mpeg1video, yuv420p(tv), 352x288 [SAR 178:163 DAR 1958:1467], 1500 kb/s, 25 fps, 25 tbr, 90k tbn, 25 tbc\n",
      "    Stream #0:1[0x1c0]: Audio: mp2, 48000 Hz, mono, s16p, 192 kb/s\n",
      "At least one output file must be specified\n",
      "\n"
     ]
    },
    {
     "name": "stderr",
     "output_type": "stream",
     "text": [
      " 43%|████▎     | 520/1208 [1:28:50<56:15,  4.91s/it]"
     ]
    },
    {
     "name": "stdout",
     "output_type": "stream",
     "text": [
      "Input #0, mpeg, from 'Data/CorpusNGT/gloss/CNGT0414_S021.mpg':\n",
      "  Duration: 00:01:21.00, start: 0.187533, bitrate: 1732 kb/s\n",
      "    Stream #0:0[0x1e0]: Video: mpeg1video, yuv420p(tv), 352x288 [SAR 178:163 DAR 1958:1467], 1500 kb/s, 25 fps, 25 tbr, 90k tbn, 25 tbc\n",
      "    Stream #0:1[0x1c0]: Audio: mp2, 48000 Hz, mono, s16p, 192 kb/s\n",
      "At least one output file must be specified\n",
      "\n",
      "Input #0, mpeg, from 'Data/CorpusNGT/gloss/CNGT0414_S022.mpg':\n",
      "  Duration: 00:01:21.00, start: 0.187533, bitrate: 1732 kb/s\n",
      "    Stream #0:0[0x1e0]: Video: mpeg1video, yuv420p(tv), 352x288 [SAR 178:163 DAR 1958:1467], 1500 kb/s, 25 fps, 25 tbr, 90k tbn, 25 tbc\n",
      "    Stream #0:1[0x1c0]: Audio: mp2, 48000 Hz, mono, s16p, 192 kb/s\n",
      "At least one output file must be specified\n",
      "\n"
     ]
    },
    {
     "name": "stderr",
     "output_type": "stream",
     "text": [
      " 43%|████▎     | 524/1208 [1:29:04<48:34,  4.26s/it]"
     ]
    },
    {
     "name": "stdout",
     "output_type": "stream",
     "text": [
      "Input #0, mpeg, from 'Data/CorpusNGT/gloss/CNGT0415_S021.mpg':\n",
      "  Duration: 00:01:39.00, start: 0.187533, bitrate: 1732 kb/s\n",
      "    Stream #0:0[0x1e0]: Video: mpeg1video, yuv420p(tv), 352x288 [SAR 178:163 DAR 1958:1467], 1500 kb/s, 25 fps, 25 tbr, 90k tbn, 25 tbc\n",
      "    Stream #0:1[0x1c0]: Audio: mp2, 48000 Hz, mono, s16p, 192 kb/s\n",
      "At least one output file must be specified\n",
      "\n"
     ]
    },
    {
     "name": "stderr",
     "output_type": "stream",
     "text": [
      " 44%|████▎     | 526/1208 [1:29:17<54:39,  4.81s/it]"
     ]
    },
    {
     "name": "stdout",
     "output_type": "stream",
     "text": [
      "Input #0, mpeg, from 'Data/CorpusNGT/gloss/CNGT0415_S022.mpg':\n",
      "  Duration: 00:01:39.00, start: 0.187533, bitrate: 1732 kb/s\n",
      "    Stream #0:0[0x1e0]: Video: mpeg1video, yuv420p(tv), 352x288 [SAR 178:163 DAR 1958:1467], 1500 kb/s, 25 fps, 25 tbr, 90k tbn, 25 tbc\n",
      "    Stream #0:1[0x1c0]: Audio: mp2, 48000 Hz, mono, s16p, 192 kb/s\n",
      "At least one output file must be specified\n",
      "\n"
     ]
    },
    {
     "name": "stderr",
     "output_type": "stream",
     "text": [
      " 44%|████▎     | 528/1208 [1:29:18<41:23,  3.65s/it]"
     ]
    },
    {
     "name": "stdout",
     "output_type": "stream",
     "text": [
      "Input #0, mpeg, from 'Data/CorpusNGT/gloss/CNGT0416_S021.mpg':\n",
      "  Duration: 00:01:45.00, start: 0.187533, bitrate: 1732 kb/s\n",
      "    Stream #0:0[0x1e0]: Video: mpeg1video, yuv420p(tv), 352x288 [SAR 178:163 DAR 1958:1467], 1500 kb/s, 25 fps, 25 tbr, 90k tbn, 25 tbc\n",
      "    Stream #0:1[0x1c0]: Audio: mp2, 48000 Hz, mono, s16p, 192 kb/s\n",
      "At least one output file must be specified\n",
      "\n"
     ]
    },
    {
     "name": "stderr",
     "output_type": "stream",
     "text": [
      " 44%|████▍     | 530/1208 [1:29:31<49:09,  4.35s/it]"
     ]
    },
    {
     "name": "stdout",
     "output_type": "stream",
     "text": [
      "Input #0, mpeg, from 'Data/CorpusNGT/gloss/CNGT0416_S022.mpg':\n",
      "  Duration: 00:01:45.00, start: 0.187533, bitrate: 1732 kb/s\n",
      "    Stream #0:0[0x1e0]: Video: mpeg1video, yuv420p(tv), 352x288 [SAR 178:163 DAR 1958:1467], 1500 kb/s, 25 fps, 25 tbr, 90k tbn, 25 tbc\n",
      "    Stream #0:1[0x1c0]: Audio: mp2, 48000 Hz, mono, s16p, 192 kb/s\n",
      "At least one output file must be specified\n",
      "\n"
     ]
    },
    {
     "name": "stderr",
     "output_type": "stream",
     "text": [
      " 44%|████▍     | 532/1208 [1:29:31<36:23,  3.23s/it]"
     ]
    },
    {
     "name": "stdout",
     "output_type": "stream",
     "text": [
      "Input #0, mpeg, from 'Data/CorpusNGT/gloss/CNGT0417_S022.mpg':\n",
      "  Duration: 00:02:21.00, start: 0.187533, bitrate: 1731 kb/s\n",
      "    Stream #0:0[0x1e0]: Video: mpeg1video, yuv420p(tv), 352x288 [SAR 178:163 DAR 1958:1467], 1500 kb/s, 25 fps, 25 tbr, 90k tbn, 25 tbc\n",
      "    Stream #0:1[0x1c0]: Audio: mp2, 48000 Hz, mono, s16p, 192 kb/s\n",
      "At least one output file must be specified\n",
      "\n"
     ]
    },
    {
     "name": "stderr",
     "output_type": "stream",
     "text": [
      " 44%|████▍     | 534/1208 [1:29:54<1:02:16,  5.54s/it]"
     ]
    },
    {
     "name": "stdout",
     "output_type": "stream",
     "text": [
      "Input #0, mpeg, from 'Data/CorpusNGT/gloss/CNGT0418_S021.mpg':\n",
      "  Duration: 00:01:31.00, start: 0.187533, bitrate: 1732 kb/s\n",
      "    Stream #0:0[0x1e0]: Video: mpeg1video, yuv420p(tv), 352x288 [SAR 178:163 DAR 1958:1467], 1500 kb/s, 25 fps, 25 tbr, 90k tbn, 25 tbc\n",
      "    Stream #0:1[0x1c0]: Audio: mp2, 48000 Hz, mono, s16p, 192 kb/s\n",
      "At least one output file must be specified\n",
      "\n"
     ]
    },
    {
     "name": "stderr",
     "output_type": "stream",
     "text": [
      " 45%|████▍     | 538/1208 [1:30:06<44:41,  4.00s/it]  "
     ]
    },
    {
     "name": "stdout",
     "output_type": "stream",
     "text": [
      "Input #0, mpeg, from 'Data/CorpusNGT/gloss/CNGT0418_S022.mpg':\n",
      "  Duration: 00:01:31.00, start: 0.187533, bitrate: 1732 kb/s\n",
      "    Stream #0:0[0x1e0]: Video: mpeg1video, yuv420p(tv), 352x288 [SAR 178:163 DAR 1958:1467], 1500 kb/s, 25 fps, 25 tbr, 90k tbn, 25 tbc\n",
      "    Stream #0:1[0x1c0]: Audio: mp2, 48000 Hz, mono, s16p, 192 kb/s\n",
      "At least one output file must be specified\n",
      "\n",
      "Input #0, mpeg, from 'Data/CorpusNGT/gloss/CNGT0419_S021.mpg':\n",
      "  Duration: 00:01:19.00, start: 0.187533, bitrate: 1733 kb/s\n",
      "    Stream #0:0[0x1e0]: Video: mpeg1video, yuv420p(tv), 352x288 [SAR 178:163 DAR 1958:1467], 1500 kb/s, 25 fps, 25 tbr, 90k tbn, 25 tbc\n",
      "    Stream #0:1[0x1c0]: Audio: mp2, 48000 Hz, mono, s16p, 192 kb/s\n",
      "At least one output file must be specified\n",
      "\n"
     ]
    },
    {
     "name": "stderr",
     "output_type": "stream",
     "text": [
      " 45%|████▍     | 540/1208 [1:30:06<31:48,  2.86s/it]"
     ]
    },
    {
     "name": "stdout",
     "output_type": "stream",
     "text": [
      "Input #0, mpeg, from 'Data/CorpusNGT/gloss/CNGT0419_S022.mpg':\n",
      "  Duration: 00:01:19.00, start: 0.187533, bitrate: 1733 kb/s\n",
      "    Stream #0:0[0x1e0]: Video: mpeg1video, yuv420p(tv), 352x288 [SAR 178:163 DAR 1958:1467], 1500 kb/s, 25 fps, 25 tbr, 90k tbn, 25 tbc\n",
      "    Stream #0:1[0x1c0]: Audio: mp2, 48000 Hz, mono, s16p, 192 kb/s\n",
      "At least one output file must be specified\n",
      "\n"
     ]
    },
    {
     "name": "stderr",
     "output_type": "stream",
     "text": [
      " 45%|████▍     | 542/1208 [1:30:16<39:34,  3.57s/it]"
     ]
    },
    {
     "name": "stdout",
     "output_type": "stream",
     "text": [
      "Input #0, mpeg, from 'Data/CorpusNGT/gloss/CNGT0421_S021.mpg':\n",
      "  Duration: 00:01:00.00, start: 0.187533, bitrate: 1733 kb/s\n",
      "    Stream #0:0[0x1e0]: Video: mpeg1video, yuv420p(tv), 352x288 [SAR 178:163 DAR 1958:1467], 1500 kb/s, 25 fps, 25 tbr, 90k tbn, 25 tbc\n",
      "    Stream #0:1[0x1c0]: Audio: mp2, 48000 Hz, mono, s16p, 192 kb/s\n",
      "At least one output file must be specified\n",
      "\n"
     ]
    },
    {
     "name": "stderr",
     "output_type": "stream",
     "text": [
      " 45%|████▌     | 544/1208 [1:30:22<36:38,  3.31s/it]"
     ]
    },
    {
     "name": "stdout",
     "output_type": "stream",
     "text": [
      "Input #0, mpeg, from 'Data/CorpusNGT/gloss/CNGT0421_S022.mpg':\n",
      "  Duration: 00:01:00.00, start: 0.187533, bitrate: 1733 kb/s\n",
      "    Stream #0:0[0x1e0]: Video: mpeg1video, yuv420p(tv), 352x288 [SAR 178:163 DAR 1958:1467], 1500 kb/s, 25 fps, 25 tbr, 90k tbn, 25 tbc\n",
      "    Stream #0:1[0x1c0]: Audio: mp2, 48000 Hz, mono, s16p, 192 kb/s\n",
      "At least one output file must be specified\n",
      "\n",
      "Input #0, mpeg, from 'Data/CorpusNGT/gloss/CNGT0423_S021.mpg':\n",
      "  Duration: 00:01:40.00, start: 0.187533, bitrate: 1732 kb/s\n",
      "    Stream #0:0[0x1e0]: Video: mpeg1video, yuv420p(tv), 352x288 [SAR 178:163 DAR 1958:1467], 1500 kb/s, 25 fps, 25 tbr, 90k tbn, 25 tbc\n",
      "    Stream #0:1[0x1c0]: Audio: mp2, 48000 Hz, mono, s16p, 192 kb/s\n",
      "At least one output file must be specified\n",
      "\n"
     ]
    },
    {
     "name": "stderr",
     "output_type": "stream",
     "text": [
      " 45%|████▌     | 548/1208 [1:30:33<33:31,  3.05s/it]"
     ]
    },
    {
     "name": "stdout",
     "output_type": "stream",
     "text": [
      "Input #0, mpeg, from 'Data/CorpusNGT/gloss/CNGT0425_S021.mpg':\n",
      "  Duration: 00:01:09.00, start: 0.187533, bitrate: 1733 kb/s\n",
      "    Stream #0:0[0x1e0]: Video: mpeg1video, yuv420p(tv), 352x288 [SAR 178:163 DAR 1958:1467], 1500 kb/s, 25 fps, 25 tbr, 90k tbn, 25 tbc\n",
      "    Stream #0:1[0x1c0]: Audio: mp2, 48000 Hz, mono, s16p, 192 kb/s\n",
      "At least one output file must be specified\n",
      "\n"
     ]
    },
    {
     "name": "stderr",
     "output_type": "stream",
     "text": [
      " 46%|████▌     | 552/1208 [1:30:40<25:41,  2.35s/it]"
     ]
    },
    {
     "name": "stdout",
     "output_type": "stream",
     "text": [
      "Input #0, mpeg, from 'Data/CorpusNGT/gloss/CNGT0425_S022.mpg':\n",
      "  Duration: 00:01:09.00, start: 0.187533, bitrate: 1733 kb/s\n",
      "    Stream #0:0[0x1e0]: Video: mpeg1video, yuv420p(tv), 352x288 [SAR 178:163 DAR 1958:1467], 1500 kb/s, 25 fps, 25 tbr, 90k tbn, 25 tbc\n",
      "    Stream #0:1[0x1c0]: Audio: mp2, 48000 Hz, mono, s16p, 192 kb/s\n",
      "At least one output file must be specified\n",
      "\n",
      "Input #0, mpeg, from 'Data/CorpusNGT/gloss/CNGT0427_S021.mpg':\n",
      "  Duration: 00:02:21.00, start: 0.187533, bitrate: 1731 kb/s\n",
      "    Stream #0:0[0x1e0]: Video: mpeg1video, yuv420p(tv), 352x288 [SAR 178:163 DAR 1958:1467], 1500 kb/s, 25 fps, 25 tbr, 90k tbn, 25 tbc\n",
      "    Stream #0:1[0x1c0]: Audio: mp2, 48000 Hz, mono, s16p, 192 kb/s\n",
      "At least one output file must be specified\n",
      "\n"
     ]
    },
    {
     "name": "stderr",
     "output_type": "stream",
     "text": [
      " 46%|████▌     | 554/1208 [1:30:51<34:29,  3.16s/it]"
     ]
    },
    {
     "name": "stdout",
     "output_type": "stream",
     "text": [
      "Input #0, mpeg, from 'Data/CorpusNGT/gloss/CNGT0427_S022.mpg':\n",
      "  Duration: 00:02:21.00, start: 0.187533, bitrate: 1731 kb/s\n",
      "    Stream #0:0[0x1e0]: Video: mpeg1video, yuv420p(tv), 352x288 [SAR 178:163 DAR 1958:1467], 1500 kb/s, 25 fps, 25 tbr, 90k tbn, 25 tbc\n",
      "    Stream #0:1[0x1c0]: Audio: mp2, 48000 Hz, mono, s16p, 192 kb/s\n",
      "At least one output file must be specified\n",
      "\n"
     ]
    },
    {
     "name": "stderr",
     "output_type": "stream",
     "text": [
      " 46%|████▌     | 556/1208 [1:31:04<45:34,  4.19s/it]"
     ]
    },
    {
     "name": "stdout",
     "output_type": "stream",
     "text": [
      "Input #0, mpeg, from 'Data/CorpusNGT/gloss/CNGT0428_S021.mpg':\n",
      "  Duration: 00:02:48.00, start: 0.187533, bitrate: 1731 kb/s\n",
      "    Stream #0:0[0x1e0]: Video: mpeg1video, yuv420p(tv), 352x288 [SAR 178:163 DAR 1958:1467], 1500 kb/s, 25 fps, 25 tbr, 90k tbn, 25 tbc\n",
      "    Stream #0:1[0x1c0]: Audio: mp2, 48000 Hz, mono, s16p, 192 kb/s\n",
      "At least one output file must be specified\n",
      "\n"
     ]
    },
    {
     "name": "stderr",
     "output_type": "stream",
     "text": [
      " 46%|████▌     | 558/1208 [1:31:16<50:25,  4.65s/it]"
     ]
    },
    {
     "name": "stdout",
     "output_type": "stream",
     "text": [
      "Input #0, mpeg, from 'Data/CorpusNGT/gloss/CNGT0428_S022.mpg':\n",
      "  Duration: 00:02:48.00, start: 0.187533, bitrate: 1731 kb/s\n",
      "    Stream #0:0[0x1e0]: Video: mpeg1video, yuv420p(tv), 352x288 [SAR 178:163 DAR 1958:1467], 1500 kb/s, 25 fps, 25 tbr, 90k tbn, 25 tbc\n",
      "    Stream #0:1[0x1c0]: Audio: mp2, 48000 Hz, mono, s16p, 192 kb/s\n",
      "At least one output file must be specified\n",
      "\n"
     ]
    },
    {
     "name": "stderr",
     "output_type": "stream",
     "text": [
      " 46%|████▋     | 560/1208 [1:31:33<1:03:06,  5.84s/it]"
     ]
    },
    {
     "name": "stdout",
     "output_type": "stream",
     "text": [
      "Input #0, mpeg, from 'Data/CorpusNGT/gloss/CNGT0429_S021.mpg':\n",
      "  Duration: 00:03:26.00, start: 0.187533, bitrate: 1731 kb/s\n",
      "    Stream #0:0[0x1e0]: Video: mpeg1video, yuv420p(tv), 352x288 [SAR 178:163 DAR 1958:1467], 1500 kb/s, 25 fps, 25 tbr, 90k tbn, 25 tbc\n",
      "    Stream #0:1[0x1c0]: Audio: mp2, 48000 Hz, mono, s16p, 192 kb/s\n",
      "At least one output file must be specified\n",
      "\n"
     ]
    },
    {
     "name": "stderr",
     "output_type": "stream",
     "text": [
      " 47%|████▋     | 562/1208 [1:31:46<1:03:57,  5.94s/it]"
     ]
    },
    {
     "name": "stdout",
     "output_type": "stream",
     "text": [
      "Input #0, mpeg, from 'Data/CorpusNGT/gloss/CNGT0429_S022.mpg':\n",
      "  Duration: 00:03:26.00, start: 0.187533, bitrate: 1731 kb/s\n",
      "    Stream #0:0[0x1e0]: Video: mpeg1video, yuv420p(tv), 352x288 [SAR 178:163 DAR 1958:1467], 1500 kb/s, 25 fps, 25 tbr, 90k tbn, 25 tbc\n",
      "    Stream #0:1[0x1c0]: Audio: mp2, 48000 Hz, mono, s16p, 192 kb/s\n",
      "At least one output file must be specified\n",
      "\n"
     ]
    },
    {
     "name": "stderr",
     "output_type": "stream",
     "text": [
      " 47%|████▋     | 564/1208 [1:32:15<1:30:44,  8.45s/it]"
     ]
    },
    {
     "name": "stdout",
     "output_type": "stream",
     "text": [
      "Input #0, mpeg, from 'Data/CorpusNGT/gloss/CNGT0430_S021.mpg':\n",
      "  Duration: 00:03:40.00, start: 0.187533, bitrate: 1730 kb/s\n",
      "    Stream #0:0[0x1e0]: Video: mpeg1video, yuv420p(tv), 352x288 [SAR 178:163 DAR 1958:1467], 1500 kb/s, 25 fps, 25 tbr, 90k tbn, 25 tbc\n",
      "    Stream #0:1[0x1c0]: Audio: mp2, 48000 Hz, mono, s16p, 192 kb/s\n",
      "At least one output file must be specified\n",
      "\n"
     ]
    },
    {
     "name": "stderr",
     "output_type": "stream",
     "text": [
      " 47%|████▋     | 566/1208 [1:32:27<1:23:42,  7.82s/it]"
     ]
    },
    {
     "name": "stdout",
     "output_type": "stream",
     "text": [
      "Input #0, mpeg, from 'Data/CorpusNGT/gloss/CNGT0430_S022.mpg':\n",
      "  Duration: 00:03:40.00, start: 0.187533, bitrate: 1730 kb/s\n",
      "    Stream #0:0[0x1e0]: Video: mpeg1video, yuv420p(tv), 352x288 [SAR 178:163 DAR 1958:1467], 1500 kb/s, 25 fps, 25 tbr, 90k tbn, 25 tbc\n",
      "    Stream #0:1[0x1c0]: Audio: mp2, 48000 Hz, mono, s16p, 192 kb/s\n",
      "At least one output file must be specified\n",
      "\n"
     ]
    },
    {
     "name": "stderr",
     "output_type": "stream",
     "text": [
      " 47%|████▋     | 568/1208 [1:32:52<1:37:43,  9.16s/it]"
     ]
    },
    {
     "name": "stdout",
     "output_type": "stream",
     "text": [
      "Input #0, mpeg, from 'Data/CorpusNGT/gloss/CNGT0431_S021.mpg':\n",
      "  Duration: 00:01:56.00, start: 0.187533, bitrate: 1731 kb/s\n",
      "    Stream #0:0[0x1e0]: Video: mpeg1video, yuv420p(tv), 352x288 [SAR 178:163 DAR 1958:1467], 1500 kb/s, 25 fps, 25 tbr, 90k tbn, 25 tbc\n",
      "    Stream #0:1[0x1c0]: Audio: mp2, 48000 Hz, mono, s16p, 192 kb/s\n",
      "At least one output file must be specified\n",
      "\n"
     ]
    },
    {
     "name": "stderr",
     "output_type": "stream",
     "text": [
      " 47%|████▋     | 570/1208 [1:33:00<1:20:19,  7.55s/it]"
     ]
    },
    {
     "name": "stdout",
     "output_type": "stream",
     "text": [
      "Input #0, mpeg, from 'Data/CorpusNGT/gloss/CNGT0431_S022.mpg':\n",
      "  Duration: 00:01:56.00, start: 0.187533, bitrate: 1731 kb/s\n",
      "    Stream #0:0[0x1e0]: Video: mpeg1video, yuv420p(tv), 352x288 [SAR 178:163 DAR 1958:1467], 1500 kb/s, 25 fps, 25 tbr, 90k tbn, 25 tbc\n",
      "    Stream #0:1[0x1c0]: Audio: mp2, 48000 Hz, mono, s16p, 192 kb/s\n",
      "At least one output file must be specified\n",
      "\n"
     ]
    },
    {
     "name": "stderr",
     "output_type": "stream",
     "text": [
      " 47%|████▋     | 572/1208 [1:33:11<1:14:22,  7.02s/it]"
     ]
    },
    {
     "name": "stdout",
     "output_type": "stream",
     "text": [
      "Input #0, mpeg, from 'Data/CorpusNGT/gloss/CNGT0432_S021.mpg':\n",
      "  Duration: 00:01:32.00, start: 0.187533, bitrate: 1732 kb/s\n",
      "    Stream #0:0[0x1e0]: Video: mpeg1video, yuv420p(tv), 352x288 [SAR 178:163 DAR 1958:1467], 1500 kb/s, 25 fps, 25 tbr, 90k tbn, 25 tbc\n",
      "    Stream #0:1[0x1c0]: Audio: mp2, 48000 Hz, mono, s16p, 192 kb/s\n",
      "At least one output file must be specified\n",
      "\n"
     ]
    },
    {
     "name": "stderr",
     "output_type": "stream",
     "text": [
      " 48%|████▊     | 574/1208 [1:33:20<1:05:14,  6.17s/it]"
     ]
    },
    {
     "name": "stdout",
     "output_type": "stream",
     "text": [
      "Input #0, mpeg, from 'Data/CorpusNGT/gloss/CNGT0432_S022.mpg':\n",
      "  Duration: 00:01:32.00, start: 0.187533, bitrate: 1732 kb/s\n",
      "    Stream #0:0[0x1e0]: Video: mpeg1video, yuv420p(tv), 352x288 [SAR 178:163 DAR 1958:1467], 1500 kb/s, 25 fps, 25 tbr, 90k tbn, 25 tbc\n",
      "    Stream #0:1[0x1c0]: Audio: mp2, 48000 Hz, mono, s16p, 192 kb/s\n",
      "At least one output file must be specified\n",
      "\n"
     ]
    },
    {
     "name": "stderr",
     "output_type": "stream",
     "text": [
      " 48%|████▊     | 576/1208 [1:33:27<57:22,  5.45s/it]  "
     ]
    },
    {
     "name": "stdout",
     "output_type": "stream",
     "text": [
      "Input #0, mpeg, from 'Data/CorpusNGT/gloss/CNGT0434_S021.mpg':\n",
      "  Duration: 00:02:24.00, start: 0.187533, bitrate: 1731 kb/s\n",
      "    Stream #0:0[0x1e0]: Video: mpeg1video, yuv420p(tv), 352x288 [SAR 178:163 DAR 1958:1467], 1500 kb/s, 25 fps, 25 tbr, 90k tbn, 25 tbc\n",
      "    Stream #0:1[0x1c0]: Audio: mp2, 48000 Hz, mono, s16p, 192 kb/s\n",
      "At least one output file must be specified\n",
      "\n"
     ]
    },
    {
     "name": "stderr",
     "output_type": "stream",
     "text": [
      " 48%|████▊     | 578/1208 [1:33:39<58:49,  5.60s/it]"
     ]
    },
    {
     "name": "stdout",
     "output_type": "stream",
     "text": [
      "Input #0, mpeg, from 'Data/CorpusNGT/gloss/CNGT0434_S022.mpg':\n",
      "  Duration: 00:02:24.00, start: 0.187533, bitrate: 1731 kb/s\n",
      "    Stream #0:0[0x1e0]: Video: mpeg1video, yuv420p(tv), 352x288 [SAR 178:163 DAR 1958:1467], 1500 kb/s, 25 fps, 25 tbr, 90k tbn, 25 tbc\n",
      "    Stream #0:1[0x1c0]: Audio: mp2, 48000 Hz, mono, s16p, 192 kb/s\n",
      "At least one output file must be specified\n",
      "\n"
     ]
    },
    {
     "name": "stderr",
     "output_type": "stream",
     "text": [
      " 48%|████▊     | 580/1208 [1:33:54<1:04:28,  6.16s/it]"
     ]
    },
    {
     "name": "stdout",
     "output_type": "stream",
     "text": [
      "Input #0, mpeg, from 'Data/CorpusNGT/gloss/CNGT0435_S021.mpg':\n",
      "  Duration: 00:04:39.00, start: 0.187533, bitrate: 1730 kb/s\n",
      "    Stream #0:0[0x1e0]: Video: mpeg1video, yuv420p(tv), 352x288 [SAR 178:163 DAR 1958:1467], 1500 kb/s, 25 fps, 25 tbr, 90k tbn, 25 tbc\n",
      "    Stream #0:1[0x1c0]: Audio: mp2, 48000 Hz, mono, s16p, 192 kb/s\n",
      "At least one output file must be specified\n",
      "\n"
     ]
    },
    {
     "name": "stderr",
     "output_type": "stream",
     "text": [
      " 48%|████▊     | 582/1208 [1:34:13<1:15:12,  7.21s/it]"
     ]
    },
    {
     "name": "stdout",
     "output_type": "stream",
     "text": [
      "Input #0, mpeg, from 'Data/CorpusNGT/gloss/CNGT0435_S022.mpg':\n",
      "  Duration: 00:04:39.00, start: 0.187533, bitrate: 1730 kb/s\n",
      "    Stream #0:0[0x1e0]: Video: mpeg1video, yuv420p(tv), 352x288 [SAR 178:163 DAR 1958:1467], 1500 kb/s, 25 fps, 25 tbr, 90k tbn, 25 tbc\n",
      "    Stream #0:1[0x1c0]: Audio: mp2, 48000 Hz, mono, s16p, 192 kb/s\n",
      "At least one output file must be specified\n",
      "\n"
     ]
    },
    {
     "name": "stderr",
     "output_type": "stream",
     "text": [
      " 48%|████▊     | 584/1208 [1:34:50<1:50:00, 10.58s/it]"
     ]
    },
    {
     "name": "stdout",
     "output_type": "stream",
     "text": [
      "Input #0, mpeg, from 'Data/CorpusNGT/gloss/CNGT0436_S021.mpg':\n",
      "  Duration: 00:01:50.00, start: 0.187533, bitrate: 1732 kb/s\n",
      "    Stream #0:0[0x1e0]: Video: mpeg1video, yuv420p(tv), 352x288 [SAR 178:163 DAR 1958:1467], 1500 kb/s, 25 fps, 25 tbr, 90k tbn, 25 tbc\n",
      "    Stream #0:1[0x1c0]: Audio: mp2, 48000 Hz, mono, s16p, 192 kb/s\n",
      "At least one output file must be specified\n",
      "\n"
     ]
    },
    {
     "name": "stderr",
     "output_type": "stream",
     "text": [
      " 49%|████▊     | 586/1208 [1:34:58<1:29:20,  8.62s/it]"
     ]
    },
    {
     "name": "stdout",
     "output_type": "stream",
     "text": [
      "Input #0, mpeg, from 'Data/CorpusNGT/gloss/CNGT0436_S022.mpg':\n",
      "  Duration: 00:01:50.00, start: 0.187533, bitrate: 1732 kb/s\n",
      "    Stream #0:0[0x1e0]: Video: mpeg1video, yuv420p(tv), 352x288 [SAR 178:163 DAR 1958:1467], 1500 kb/s, 25 fps, 25 tbr, 90k tbn, 25 tbc\n",
      "    Stream #0:1[0x1c0]: Audio: mp2, 48000 Hz, mono, s16p, 192 kb/s\n",
      "At least one output file must be specified\n",
      "\n"
     ]
    },
    {
     "name": "stderr",
     "output_type": "stream",
     "text": [
      " 49%|████▊     | 588/1208 [1:35:11<1:21:51,  7.92s/it]"
     ]
    },
    {
     "name": "stdout",
     "output_type": "stream",
     "text": [
      "Input #0, mpeg, from 'Data/CorpusNGT/gloss/CNGT0437_S021.mpg':\n",
      "  Duration: 00:04:38.00, start: 0.187533, bitrate: 1730 kb/s\n",
      "    Stream #0:0[0x1e0]: Video: mpeg1video, yuv420p(tv), 352x288 [SAR 178:163 DAR 1958:1467], 1500 kb/s, 25 fps, 25 tbr, 90k tbn, 25 tbc\n",
      "    Stream #0:1[0x1c0]: Audio: mp2, 48000 Hz, mono, s16p, 192 kb/s\n",
      "At least one output file must be specified\n",
      "\n"
     ]
    },
    {
     "name": "stderr",
     "output_type": "stream",
     "text": [
      " 49%|████▉     | 590/1208 [1:35:31<1:28:39,  8.61s/it]"
     ]
    },
    {
     "name": "stdout",
     "output_type": "stream",
     "text": [
      "Input #0, mpeg, from 'Data/CorpusNGT/gloss/CNGT0437_S022.mpg':\n",
      "  Duration: 00:04:38.00, start: 0.187533, bitrate: 1730 kb/s\n",
      "    Stream #0:0[0x1e0]: Video: mpeg1video, yuv420p(tv), 352x288 [SAR 178:163 DAR 1958:1467], 1500 kb/s, 25 fps, 25 tbr, 90k tbn, 25 tbc\n",
      "    Stream #0:1[0x1c0]: Audio: mp2, 48000 Hz, mono, s16p, 192 kb/s\n",
      "At least one output file must be specified\n",
      "\n"
     ]
    },
    {
     "name": "stderr",
     "output_type": "stream",
     "text": [
      " 49%|████▉     | 592/1208 [1:35:58<1:43:56, 10.12s/it]"
     ]
    },
    {
     "name": "stdout",
     "output_type": "stream",
     "text": [
      "Input #0, mpeg, from 'Data/CorpusNGT/gloss/CNGT0438_S021.mpg':\n",
      "  Duration: 00:02:44.00, start: 0.187533, bitrate: 1731 kb/s\n",
      "    Stream #0:0[0x1e0]: Video: mpeg1video, yuv420p(tv), 352x288 [SAR 178:163 DAR 1958:1467], 1500 kb/s, 25 fps, 25 tbr, 90k tbn, 25 tbc\n",
      "    Stream #0:1[0x1c0]: Audio: mp2, 48000 Hz, mono, s16p, 192 kb/s\n",
      "At least one output file must be specified\n",
      "\n"
     ]
    },
    {
     "name": "stderr",
     "output_type": "stream",
     "text": [
      " 49%|████▉     | 594/1208 [1:36:13<1:34:29,  9.23s/it]"
     ]
    },
    {
     "name": "stdout",
     "output_type": "stream",
     "text": [
      "Input #0, mpeg, from 'Data/CorpusNGT/gloss/CNGT0438_S022.mpg':\n",
      "  Duration: 00:02:44.00, start: 0.187533, bitrate: 1731 kb/s\n",
      "    Stream #0:0[0x1e0]: Video: mpeg1video, yuv420p(tv), 352x288 [SAR 178:163 DAR 1958:1467], 1500 kb/s, 25 fps, 25 tbr, 90k tbn, 25 tbc\n",
      "    Stream #0:1[0x1c0]: Audio: mp2, 48000 Hz, mono, s16p, 192 kb/s\n",
      "At least one output file must be specified\n",
      "\n"
     ]
    },
    {
     "name": "stderr",
     "output_type": "stream",
     "text": [
      " 49%|████▉     | 596/1208 [1:36:28<1:29:23,  8.76s/it]"
     ]
    },
    {
     "name": "stdout",
     "output_type": "stream",
     "text": [
      "Input #0, mpeg, from 'Data/CorpusNGT/gloss/CNGT0439_S021.mpg':\n",
      "  Duration: 00:02:18.00, start: 0.187533, bitrate: 1731 kb/s\n",
      "    Stream #0:0[0x1e0]: Video: mpeg1video, yuv420p(tv), 352x288 [SAR 178:163 DAR 1958:1467], 1500 kb/s, 25 fps, 25 tbr, 90k tbn, 25 tbc\n",
      "    Stream #0:1[0x1c0]: Audio: mp2, 48000 Hz, mono, s16p, 192 kb/s\n",
      "At least one output file must be specified\n",
      "\n"
     ]
    },
    {
     "name": "stderr",
     "output_type": "stream",
     "text": [
      " 50%|████▉     | 598/1208 [1:36:37<1:15:35,  7.44s/it]"
     ]
    },
    {
     "name": "stdout",
     "output_type": "stream",
     "text": [
      "Input #0, mpeg, from 'Data/CorpusNGT/gloss/CNGT0439_S022.mpg':\n",
      "  Duration: 00:02:18.00, start: 0.187533, bitrate: 1731 kb/s\n",
      "    Stream #0:0[0x1e0]: Video: mpeg1video, yuv420p(tv), 352x288 [SAR 178:163 DAR 1958:1467], 1500 kb/s, 25 fps, 25 tbr, 90k tbn, 25 tbc\n",
      "    Stream #0:1[0x1c0]: Audio: mp2, 48000 Hz, mono, s16p, 192 kb/s\n",
      "At least one output file must be specified\n",
      "\n"
     ]
    },
    {
     "name": "stderr",
     "output_type": "stream",
     "text": [
      " 50%|████▉     | 600/1208 [1:36:46<1:06:28,  6.56s/it]"
     ]
    },
    {
     "name": "stdout",
     "output_type": "stream",
     "text": [
      "Input #0, mpeg, from 'Data/CorpusNGT/gloss/CNGT0466_S023.mpg':\n",
      "  Duration: 00:01:31.00, start: 0.187533, bitrate: 1732 kb/s\n",
      "    Stream #0:0[0x1e0]: Video: mpeg1video, yuv420p(tv), 352x288 [SAR 178:163 DAR 1958:1467], 1500 kb/s, 25 fps, 25 tbr, 90k tbn, 25 tbc\n",
      "    Stream #0:1[0x1c0]: Audio: mp2, 48000 Hz, mono, s16p, 192 kb/s\n",
      "At least one output file must be specified\n",
      "\n"
     ]
    },
    {
     "name": "stderr",
     "output_type": "stream",
     "text": [
      " 50%|████▉     | 602/1208 [1:36:54<58:41,  5.81s/it]  "
     ]
    },
    {
     "name": "stdout",
     "output_type": "stream",
     "text": [
      "Input #0, mpeg, from 'Data/CorpusNGT/gloss/CNGT0466_S024.mpg':\n",
      "  Duration: 00:01:31.00, start: 0.187533, bitrate: 1732 kb/s\n",
      "    Stream #0:0[0x1e0]: Video: mpeg1video, yuv420p(tv), 352x288 [SAR 178:163 DAR 1958:1467], 1500 kb/s, 25 fps, 25 tbr, 90k tbn, 25 tbc\n",
      "    Stream #0:1[0x1c0]: Audio: mp2, 48000 Hz, mono, s16p, 192 kb/s\n",
      "At least one output file must be specified\n",
      "\n"
     ]
    },
    {
     "name": "stderr",
     "output_type": "stream",
     "text": [
      " 50%|█████     | 604/1208 [1:37:00<49:37,  4.93s/it]"
     ]
    },
    {
     "name": "stdout",
     "output_type": "stream",
     "text": [
      "Input #0, mpeg, from 'Data/CorpusNGT/gloss/CNGT0467_S023.mpg':\n",
      "  Duration: 00:07:38.00, start: 0.187533, bitrate: 1730 kb/s\n",
      "    Stream #0:0[0x1e0]: Video: mpeg1video, yuv420p(tv), 352x288 [SAR 178:163 DAR 1958:1467], 1500 kb/s, 25 fps, 25 tbr, 90k tbn, 25 tbc\n",
      "    Stream #0:1[0x1c0]: Audio: mp2, 48000 Hz, mono, s16p, 192 kb/s\n",
      "At least one output file must be specified\n",
      "\n"
     ]
    },
    {
     "name": "stderr",
     "output_type": "stream",
     "text": [
      " 50%|█████     | 606/1208 [1:37:00<35:26,  3.53s/it]"
     ]
    },
    {
     "name": "stdout",
     "output_type": "stream",
     "text": [
      "Input #0, mpeg, from 'Data/CorpusNGT/gloss/CNGT0467_S024.mpg':\n",
      "  Duration: 00:07:38.00, start: 0.187533, bitrate: 1730 kb/s\n",
      "    Stream #0:0[0x1e0]: Video: mpeg1video, yuv420p(tv), 352x288 [SAR 178:163 DAR 1958:1467], 1500 kb/s, 25 fps, 25 tbr, 90k tbn, 25 tbc\n",
      "    Stream #0:1[0x1c0]: Audio: mp2, 48000 Hz, mono, s16p, 192 kb/s\n",
      "At least one output file must be specified\n",
      "\n"
     ]
    },
    {
     "name": "stderr",
     "output_type": "stream",
     "text": [
      " 50%|█████     | 608/1208 [1:37:07<34:21,  3.44s/it]"
     ]
    },
    {
     "name": "stdout",
     "output_type": "stream",
     "text": [
      "Input #0, mpeg, from 'Data/CorpusNGT/gloss/CNGT0469_S024.mpg':\n",
      "  Duration: 00:01:07.00, start: 0.187533, bitrate: 1733 kb/s\n",
      "    Stream #0:0[0x1e0]: Video: mpeg1video, yuv420p(tv), 352x288 [SAR 178:163 DAR 1958:1467], 1500 kb/s, 25 fps, 25 tbr, 90k tbn, 25 tbc\n",
      "    Stream #0:1[0x1c0]: Audio: mp2, 48000 Hz, mono, s16p, 192 kb/s\n",
      "At least one output file must be specified\n",
      "\n"
     ]
    },
    {
     "name": "stderr",
     "output_type": "stream",
     "text": [
      " 50%|█████     | 610/1208 [1:37:14<34:43,  3.48s/it]"
     ]
    },
    {
     "name": "stdout",
     "output_type": "stream",
     "text": [
      "Input #0, mpeg, from 'Data/CorpusNGT/gloss/CNGT0470_S023.mpg':\n",
      "  Duration: 00:00:43.00, start: 0.187533, bitrate: 1735 kb/s\n",
      "    Stream #0:0[0x1e0]: Video: mpeg1video, yuv420p(tv), 352x288 [SAR 178:163 DAR 1958:1467], 1500 kb/s, 25 fps, 25 tbr, 90k tbn, 25 tbc\n",
      "    Stream #0:1[0x1c0]: Audio: mp2, 48000 Hz, mono, s16p, 192 kb/s\n",
      "At least one output file must be specified\n",
      "\n"
     ]
    },
    {
     "name": "stderr",
     "output_type": "stream",
     "text": [
      " 51%|█████     | 612/1208 [1:37:19<31:44,  3.20s/it]"
     ]
    },
    {
     "name": "stdout",
     "output_type": "stream",
     "text": [
      "Input #0, mpeg, from 'Data/CorpusNGT/gloss/CNGT0471_S024.mpg':\n",
      "  Duration: 00:00:47.00, start: 0.187533, bitrate: 1734 kb/s\n",
      "    Stream #0:0[0x1e0]: Video: mpeg1video, yuv420p(tv), 352x288 [SAR 178:163 DAR 1958:1467], 1500 kb/s, 25 fps, 25 tbr, 90k tbn, 25 tbc\n",
      "    Stream #0:1[0x1c0]: Audio: mp2, 48000 Hz, mono, s16p, 192 kb/s\n",
      "At least one output file must be specified\n",
      "\n"
     ]
    },
    {
     "name": "stderr",
     "output_type": "stream",
     "text": [
      " 51%|█████     | 614/1208 [1:37:24<30:03,  3.04s/it]"
     ]
    },
    {
     "name": "stdout",
     "output_type": "stream",
     "text": [
      "Input #0, mpeg, from 'Data/CorpusNGT/gloss/CNGT0472_S023.mpg':\n",
      "  Duration: 00:01:46.00, start: 0.187533, bitrate: 1732 kb/s\n",
      "    Stream #0:0[0x1e0]: Video: mpeg1video, yuv420p(tv), 352x288 [SAR 178:163 DAR 1958:1467], 1500 kb/s, 25 fps, 25 tbr, 90k tbn, 25 tbc\n",
      "    Stream #0:1[0x1c0]: Audio: mp2, 48000 Hz, mono, s16p, 192 kb/s\n",
      "At least one output file must be specified\n",
      "\n"
     ]
    },
    {
     "name": "stderr",
     "output_type": "stream",
     "text": [
      " 51%|█████     | 616/1208 [1:37:30<29:50,  3.02s/it]"
     ]
    },
    {
     "name": "stdout",
     "output_type": "stream",
     "text": [
      "Input #0, mpeg, from 'Data/CorpusNGT/gloss/CNGT0472_S024.mpg':\n",
      "  Duration: 00:01:46.00, start: 0.187533, bitrate: 1732 kb/s\n",
      "    Stream #0:0[0x1e0]: Video: mpeg1video, yuv420p(tv), 352x288 [SAR 178:163 DAR 1958:1467], 1500 kb/s, 25 fps, 25 tbr, 90k tbn, 25 tbc\n",
      "    Stream #0:1[0x1c0]: Audio: mp2, 48000 Hz, mono, s16p, 192 kb/s\n",
      "At least one output file must be specified\n",
      "\n",
      "Input #0, mpeg, from 'Data/CorpusNGT/gloss/CNGT0473_S024.mpg':\n",
      "  Duration: 00:01:31.00, start: 0.187533, bitrate: 1732 kb/s\n",
      "    Stream #0:0[0x1e0]: Video: mpeg1video, yuv420p(tv), 352x288 [SAR 178:163 DAR 1958:1467], 1500 kb/s, 25 fps, 25 tbr, 90k tbn, 25 tbc\n",
      "    Stream #0:1[0x1c0]: Audio: mp2, 48000 Hz, mono, s16p, 192 kb/s\n",
      "At least one output file must be specified\n",
      "\n"
     ]
    },
    {
     "name": "stderr",
     "output_type": "stream",
     "text": [
      " 51%|█████▏    | 620/1208 [1:37:41<28:21,  2.89s/it]"
     ]
    },
    {
     "name": "stdout",
     "output_type": "stream",
     "text": [
      "Input #0, mpeg, from 'Data/CorpusNGT/gloss/CNGT0474_S023.mpg':\n",
      "  Duration: 00:00:40.00, start: 0.187533, bitrate: 1735 kb/s\n",
      "    Stream #0:0[0x1e0]: Video: mpeg1video, yuv420p(tv), 352x288 [SAR 178:163 DAR 1958:1467], 1500 kb/s, 25 fps, 25 tbr, 90k tbn, 25 tbc\n",
      "    Stream #0:1[0x1c0]: Audio: mp2, 48000 Hz, mono, s16p, 192 kb/s\n",
      "At least one output file must be specified\n",
      "\n"
     ]
    },
    {
     "name": "stderr",
     "output_type": "stream",
     "text": [
      " 51%|█████▏    | 622/1208 [1:37:45<26:11,  2.68s/it]"
     ]
    },
    {
     "name": "stdout",
     "output_type": "stream",
     "text": [
      "Input #0, mpeg, from 'Data/CorpusNGT/gloss/CNGT0475_S024.mpg':\n",
      "  Duration: 00:01:42.00, start: 0.187533, bitrate: 1732 kb/s\n",
      "    Stream #0:0[0x1e0]: Video: mpeg1video, yuv420p(tv), 352x288 [SAR 178:163 DAR 1958:1467], 1500 kb/s, 25 fps, 25 tbr, 90k tbn, 25 tbc\n",
      "    Stream #0:1[0x1c0]: Audio: mp2, 48000 Hz, mono, s16p, 192 kb/s\n",
      "At least one output file must be specified\n",
      "\n"
     ]
    },
    {
     "name": "stderr",
     "output_type": "stream",
     "text": [
      " 52%|█████▏    | 624/1208 [1:37:57<33:51,  3.48s/it]"
     ]
    },
    {
     "name": "stdout",
     "output_type": "stream",
     "text": [
      "Input #0, mpeg, from 'Data/CorpusNGT/gloss/CNGT0476_S023.mpg':\n",
      "  Duration: 00:03:01.00, start: 0.187533, bitrate: 1731 kb/s\n",
      "    Stream #0:0[0x1e0]: Video: mpeg1video, yuv420p(tv), 352x288 [SAR 178:163 DAR 1958:1467], 1500 kb/s, 25 fps, 25 tbr, 90k tbn, 25 tbc\n",
      "    Stream #0:1[0x1c0]: Audio: mp2, 48000 Hz, mono, s16p, 192 kb/s\n",
      "At least one output file must be specified\n",
      "\n"
     ]
    },
    {
     "name": "stderr",
     "output_type": "stream",
     "text": [
      " 52%|█████▏    | 626/1208 [1:38:03<33:18,  3.43s/it]"
     ]
    },
    {
     "name": "stdout",
     "output_type": "stream",
     "text": [
      "Input #0, mpeg, from 'Data/CorpusNGT/gloss/CNGT0476_S024.mpg':\n",
      "  Duration: 00:03:01.00, start: 0.187533, bitrate: 1731 kb/s\n",
      "    Stream #0:0[0x1e0]: Video: mpeg1video, yuv420p(tv), 352x288 [SAR 178:163 DAR 1958:1467], 1500 kb/s, 25 fps, 25 tbr, 90k tbn, 25 tbc\n",
      "    Stream #0:1[0x1c0]: Audio: mp2, 48000 Hz, mono, s16p, 192 kb/s\n",
      "At least one output file must be specified\n",
      "\n"
     ]
    },
    {
     "name": "stderr",
     "output_type": "stream",
     "text": [
      " 52%|█████▏    | 628/1208 [1:38:22<49:04,  5.08s/it]"
     ]
    },
    {
     "name": "stdout",
     "output_type": "stream",
     "text": [
      "Input #0, mpeg, from 'Data/CorpusNGT/gloss/CNGT0485_S023.mpg':\n",
      "  Duration: 00:01:32.00, start: 0.187533, bitrate: 1732 kb/s\n",
      "    Stream #0:0[0x1e0]: Video: mpeg1video, yuv420p(tv), 352x288 [SAR 178:163 DAR 1958:1467], 1500 kb/s, 25 fps, 25 tbr, 90k tbn, 25 tbc\n",
      "    Stream #0:1[0x1c0]: Audio: mp2, 48000 Hz, mono, s16p, 192 kb/s\n",
      "At least one output file must be specified\n",
      "\n"
     ]
    },
    {
     "name": "stderr",
     "output_type": "stream",
     "text": [
      " 52%|█████▏    | 630/1208 [1:38:27<42:18,  4.39s/it]"
     ]
    },
    {
     "name": "stdout",
     "output_type": "stream",
     "text": [
      "Input #0, mpeg, from 'Data/CorpusNGT/gloss/CNGT0485_S024.mpg':\n",
      "  Duration: 00:01:32.00, start: 0.187533, bitrate: 1732 kb/s\n",
      "    Stream #0:0[0x1e0]: Video: mpeg1video, yuv420p(tv), 352x288 [SAR 178:163 DAR 1958:1467], 1500 kb/s, 25 fps, 25 tbr, 90k tbn, 25 tbc\n",
      "    Stream #0:1[0x1c0]: Audio: mp2, 48000 Hz, mono, s16p, 192 kb/s\n",
      "At least one output file must be specified\n",
      "\n"
     ]
    },
    {
     "name": "stderr",
     "output_type": "stream",
     "text": [
      " 52%|█████▏    | 632/1208 [1:38:36<42:16,  4.40s/it]"
     ]
    },
    {
     "name": "stdout",
     "output_type": "stream",
     "text": [
      "Input #0, mpeg, from 'Data/CorpusNGT/gloss/CNGT0486_S023.mpg':\n",
      "  Duration: 00:04:27.00, start: 0.187533, bitrate: 1730 kb/s\n",
      "    Stream #0:0[0x1e0]: Video: mpeg1video, yuv420p(tv), 352x288 [SAR 178:163 DAR 1958:1467], 1500 kb/s, 25 fps, 25 tbr, 90k tbn, 25 tbc\n",
      "    Stream #0:1[0x1c0]: Audio: mp2, 48000 Hz, mono, s16p, 192 kb/s\n",
      "At least one output file must be specified\n",
      "\n"
     ]
    },
    {
     "name": "stderr",
     "output_type": "stream",
     "text": [
      " 52%|█████▏    | 634/1208 [1:38:46<43:34,  4.55s/it]"
     ]
    },
    {
     "name": "stdout",
     "output_type": "stream",
     "text": [
      "Input #0, mpeg, from 'Data/CorpusNGT/gloss/CNGT0486_S024.mpg':\n",
      "  Duration: 00:04:27.00, start: 0.187533, bitrate: 1730 kb/s\n",
      "    Stream #0:0[0x1e0]: Video: mpeg1video, yuv420p(tv), 352x288 [SAR 178:163 DAR 1958:1467], 1500 kb/s, 25 fps, 25 tbr, 90k tbn, 25 tbc\n",
      "    Stream #0:1[0x1c0]: Audio: mp2, 48000 Hz, mono, s16p, 192 kb/s\n",
      "At least one output file must be specified\n",
      "\n"
     ]
    },
    {
     "name": "stderr",
     "output_type": "stream",
     "text": [
      " 53%|█████▎    | 636/1208 [1:39:21<1:19:35,  8.35s/it]"
     ]
    },
    {
     "name": "stdout",
     "output_type": "stream",
     "text": [
      "Input #0, mpeg, from 'Data/CorpusNGT/gloss/CNGT0487_S023.mpg':\n",
      "  Duration: 00:02:39.00, start: 0.187533, bitrate: 1731 kb/s\n",
      "    Stream #0:0[0x1e0]: Video: mpeg1video, yuv420p(tv), 352x288 [SAR 178:163 DAR 1958:1467], 1500 kb/s, 25 fps, 25 tbr, 90k tbn, 25 tbc\n",
      "    Stream #0:1[0x1c0]: Audio: mp2, 48000 Hz, mono, s16p, 192 kb/s\n",
      "At least one output file must be specified\n",
      "\n"
     ]
    },
    {
     "name": "stderr",
     "output_type": "stream",
     "text": [
      " 53%|█████▎    | 638/1208 [1:39:34<1:13:48,  7.77s/it]"
     ]
    },
    {
     "name": "stdout",
     "output_type": "stream",
     "text": [
      "Input #0, mpeg, from 'Data/CorpusNGT/gloss/CNGT0487_S024.mpg':\n",
      "  Duration: 00:02:39.00, start: 0.187533, bitrate: 1731 kb/s\n",
      "    Stream #0:0[0x1e0]: Video: mpeg1video, yuv420p(tv), 352x288 [SAR 178:163 DAR 1958:1467], 1500 kb/s, 25 fps, 25 tbr, 90k tbn, 25 tbc\n",
      "    Stream #0:1[0x1c0]: Audio: mp2, 48000 Hz, mono, s16p, 192 kb/s\n",
      "At least one output file must be specified\n",
      "\n"
     ]
    },
    {
     "name": "stderr",
     "output_type": "stream",
     "text": [
      " 53%|█████▎    | 640/1208 [1:39:44<1:06:20,  7.01s/it]"
     ]
    },
    {
     "name": "stdout",
     "output_type": "stream",
     "text": [
      "Input #0, mpeg, from 'Data/CorpusNGT/gloss/CNGT0488_S023.mpg':\n",
      "  Duration: 00:01:29.00, start: 0.187533, bitrate: 1732 kb/s\n",
      "    Stream #0:0[0x1e0]: Video: mpeg1video, yuv420p(tv), 352x288 [SAR 178:163 DAR 1958:1467], 1500 kb/s, 25 fps, 25 tbr, 90k tbn, 25 tbc\n",
      "    Stream #0:1[0x1c0]: Audio: mp2, 48000 Hz, mono, s16p, 192 kb/s\n",
      "At least one output file must be specified\n",
      "\n"
     ]
    },
    {
     "name": "stderr",
     "output_type": "stream",
     "text": [
      " 53%|█████▎    | 642/1208 [1:39:49<53:07,  5.63s/it]  "
     ]
    },
    {
     "name": "stdout",
     "output_type": "stream",
     "text": [
      "Input #0, mpeg, from 'Data/CorpusNGT/gloss/CNGT0488_S024.mpg':\n",
      "  Duration: 00:01:29.00, start: 0.187533, bitrate: 1732 kb/s\n",
      "    Stream #0:0[0x1e0]: Video: mpeg1video, yuv420p(tv), 352x288 [SAR 178:163 DAR 1958:1467], 1500 kb/s, 25 fps, 25 tbr, 90k tbn, 25 tbc\n",
      "    Stream #0:1[0x1c0]: Audio: mp2, 48000 Hz, mono, s16p, 192 kb/s\n",
      "At least one output file must be specified\n",
      "\n"
     ]
    },
    {
     "name": "stderr",
     "output_type": "stream",
     "text": [
      " 53%|█████▎    | 644/1208 [1:39:56<46:51,  4.99s/it]"
     ]
    },
    {
     "name": "stdout",
     "output_type": "stream",
     "text": [
      "Input #0, mpeg, from 'Data/CorpusNGT/gloss/CNGT0489_S023.mpg':\n",
      "  Duration: 00:04:55.00, start: 0.187533, bitrate: 1730 kb/s\n",
      "    Stream #0:0[0x1e0]: Video: mpeg1video, yuv420p(tv), 352x288 [SAR 178:163 DAR 1958:1467], 1500 kb/s, 25 fps, 25 tbr, 90k tbn, 25 tbc\n",
      "    Stream #0:1[0x1c0]: Audio: mp2, 48000 Hz, mono, s16p, 192 kb/s\n",
      "At least one output file must be specified\n",
      "\n"
     ]
    },
    {
     "name": "stderr",
     "output_type": "stream",
     "text": [
      " 53%|█████▎    | 646/1208 [1:40:05<45:48,  4.89s/it]"
     ]
    },
    {
     "name": "stdout",
     "output_type": "stream",
     "text": [
      "Input #0, mpeg, from 'Data/CorpusNGT/gloss/CNGT0489_S024.mpg':\n",
      "  Duration: 00:04:55.00, start: 0.187533, bitrate: 1730 kb/s\n",
      "    Stream #0:0[0x1e0]: Video: mpeg1video, yuv420p(tv), 352x288 [SAR 178:163 DAR 1958:1467], 1500 kb/s, 25 fps, 25 tbr, 90k tbn, 25 tbc\n",
      "    Stream #0:1[0x1c0]: Audio: mp2, 48000 Hz, mono, s16p, 192 kb/s\n",
      "At least one output file must be specified\n",
      "\n"
     ]
    },
    {
     "name": "stderr",
     "output_type": "stream",
     "text": [
      " 54%|█████▎    | 648/1208 [1:40:34<1:11:55,  7.71s/it]"
     ]
    },
    {
     "name": "stdout",
     "output_type": "stream",
     "text": [
      "Input #0, mpeg, from 'Data/CorpusNGT/gloss/CNGT0510_S025.mpg':\n",
      "  Duration: 00:03:38.00, start: 0.187533, bitrate: 1731 kb/s\n",
      "    Stream #0:0[0x1e0]: Video: mpeg1video, yuv420p(tv), 352x288 [SAR 178:163 DAR 1958:1467], 1500 kb/s, 25 fps, 25 tbr, 90k tbn, 25 tbc\n",
      "    Stream #0:1[0x1c0]: Audio: mp2, 48000 Hz, mono, s16p, 192 kb/s\n",
      "At least one output file must be specified\n",
      "\n"
     ]
    },
    {
     "name": "stderr",
     "output_type": "stream",
     "text": [
      " 54%|█████▍    | 650/1208 [1:40:41<1:00:37,  6.52s/it]"
     ]
    },
    {
     "name": "stdout",
     "output_type": "stream",
     "text": [
      "Input #0, mpeg, from 'Data/CorpusNGT/gloss/CNGT0510_S026.mpg':\n",
      "  Duration: 00:03:38.00, start: 0.187533, bitrate: 1731 kb/s\n",
      "    Stream #0:0[0x1e0]: Video: mpeg1video, yuv420p(tv), 352x288 [SAR 178:163 DAR 1958:1467], 1500 kb/s, 25 fps, 25 tbr, 90k tbn, 25 tbc\n",
      "    Stream #0:1[0x1c0]: Audio: mp2, 48000 Hz, mono, s16p, 192 kb/s\n",
      "At least one output file must be specified\n",
      "\n"
     ]
    },
    {
     "name": "stderr",
     "output_type": "stream",
     "text": [
      " 54%|█████▍    | 652/1208 [1:40:47<50:32,  5.45s/it]  "
     ]
    },
    {
     "name": "stdout",
     "output_type": "stream",
     "text": [
      "Input #0, mpeg, from 'Data/CorpusNGT/gloss/CNGT0512_S025.mpg':\n",
      "  Duration: 00:01:40.00, start: 0.187533, bitrate: 1732 kb/s\n",
      "    Stream #0:0[0x1e0]: Video: mpeg1video, yuv420p(tv), 352x288 [SAR 178:163 DAR 1958:1467], 1500 kb/s, 25 fps, 25 tbr, 90k tbn, 25 tbc\n",
      "    Stream #0:1[0x1c0]: Audio: mp2, 48000 Hz, mono, s16p, 192 kb/s\n",
      "At least one output file must be specified\n",
      "\n"
     ]
    },
    {
     "name": "stderr",
     "output_type": "stream",
     "text": [
      " 54%|█████▍    | 656/1208 [1:41:01<37:59,  4.13s/it]"
     ]
    },
    {
     "name": "stdout",
     "output_type": "stream",
     "text": [
      "Input #0, mpeg, from 'Data/CorpusNGT/gloss/CNGT0512_S026.mpg':\n",
      "  Duration: 00:01:40.00, start: 0.187533, bitrate: 1732 kb/s\n",
      "    Stream #0:0[0x1e0]: Video: mpeg1video, yuv420p(tv), 352x288 [SAR 178:163 DAR 1958:1467], 1500 kb/s, 25 fps, 25 tbr, 90k tbn, 25 tbc\n",
      "    Stream #0:1[0x1c0]: Audio: mp2, 48000 Hz, mono, s16p, 192 kb/s\n",
      "At least one output file must be specified\n",
      "\n",
      "Input #0, mpeg, from 'Data/CorpusNGT/gloss/CNGT0513_S025.mpg':\n",
      "  Duration: 00:02:28.00, start: 0.187533, bitrate: 1731 kb/s\n",
      "    Stream #0:0[0x1e0]: Video: mpeg1video, yuv420p(tv), 352x288 [SAR 178:163 DAR 1958:1467], 1500 kb/s, 25 fps, 25 tbr, 90k tbn, 25 tbc\n",
      "    Stream #0:1[0x1c0]: Audio: mp2, 48000 Hz, mono, s16p, 192 kb/s\n",
      "At least one output file must be specified\n",
      "\n"
     ]
    },
    {
     "name": "stderr",
     "output_type": "stream",
     "text": [
      " 54%|█████▍    | 658/1208 [1:41:04<30:47,  3.36s/it]"
     ]
    },
    {
     "name": "stdout",
     "output_type": "stream",
     "text": [
      "Input #0, mpeg, from 'Data/CorpusNGT/gloss/CNGT0513_S026.mpg':\n",
      "  Duration: 00:02:28.00, start: 0.187533, bitrate: 1731 kb/s\n",
      "    Stream #0:0[0x1e0]: Video: mpeg1video, yuv420p(tv), 352x288 [SAR 178:163 DAR 1958:1467], 1500 kb/s, 25 fps, 25 tbr, 90k tbn, 25 tbc\n",
      "    Stream #0:1[0x1c0]: Audio: mp2, 48000 Hz, mono, s16p, 192 kb/s\n",
      "At least one output file must be specified\n",
      "\n"
     ]
    },
    {
     "name": "stderr",
     "output_type": "stream",
     "text": [
      " 55%|█████▍    | 660/1208 [1:41:31<58:50,  6.44s/it]"
     ]
    },
    {
     "name": "stdout",
     "output_type": "stream",
     "text": [
      "Input #0, mpeg, from 'Data/CorpusNGT/gloss/CNGT0514_S025.mpg':\n",
      "  Duration: 00:01:24.00, start: 0.187533, bitrate: 1732 kb/s\n",
      "    Stream #0:0[0x1e0]: Video: mpeg1video, yuv420p(tv), 352x288 [SAR 178:163 DAR 1958:1467], 1500 kb/s, 25 fps, 25 tbr, 90k tbn, 25 tbc\n",
      "    Stream #0:1[0x1c0]: Audio: mp2, 48000 Hz, mono, s16p, 192 kb/s\n",
      "At least one output file must be specified\n",
      "\n"
     ]
    },
    {
     "name": "stderr",
     "output_type": "stream",
     "text": [
      " 55%|█████▍    | 664/1208 [1:41:45<41:32,  4.58s/it]"
     ]
    },
    {
     "name": "stdout",
     "output_type": "stream",
     "text": [
      "Input #0, mpeg, from 'Data/CorpusNGT/gloss/CNGT0514_S026.mpg':\n",
      "  Duration: 00:01:24.00, start: 0.187533, bitrate: 1732 kb/s\n",
      "    Stream #0:0[0x1e0]: Video: mpeg1video, yuv420p(tv), 352x288 [SAR 178:163 DAR 1958:1467], 1500 kb/s, 25 fps, 25 tbr, 90k tbn, 25 tbc\n",
      "    Stream #0:1[0x1c0]: Audio: mp2, 48000 Hz, mono, s16p, 192 kb/s\n",
      "At least one output file must be specified\n",
      "\n",
      "Input #0, mpeg, from 'Data/CorpusNGT/gloss/CNGT0515_S025.mpg':\n",
      "  Duration: 00:02:04.00, start: 0.187533, bitrate: 1731 kb/s\n",
      "    Stream #0:0[0x1e0]: Video: mpeg1video, yuv420p(tv), 352x288 [SAR 178:163 DAR 1958:1467], 1500 kb/s, 25 fps, 25 tbr, 90k tbn, 25 tbc\n",
      "    Stream #0:1[0x1c0]: Audio: mp2, 48000 Hz, mono, s16p, 192 kb/s\n",
      "At least one output file must be specified\n",
      "\n"
     ]
    },
    {
     "name": "stderr",
     "output_type": "stream",
     "text": [
      " 55%|█████▌    | 666/1208 [1:41:48<32:50,  3.64s/it]"
     ]
    },
    {
     "name": "stdout",
     "output_type": "stream",
     "text": [
      "Input #0, mpeg, from 'Data/CorpusNGT/gloss/CNGT0515_S026.mpg':\n",
      "  Duration: 00:02:04.00, start: 0.187533, bitrate: 1731 kb/s\n",
      "    Stream #0:0[0x1e0]: Video: mpeg1video, yuv420p(tv), 352x288 [SAR 178:163 DAR 1958:1467], 1500 kb/s, 25 fps, 25 tbr, 90k tbn, 25 tbc\n",
      "    Stream #0:1[0x1c0]: Audio: mp2, 48000 Hz, mono, s16p, 192 kb/s\n",
      "At least one output file must be specified\n",
      "\n"
     ]
    },
    {
     "name": "stderr",
     "output_type": "stream",
     "text": [
      " 55%|█████▌    | 668/1208 [1:42:07<48:41,  5.41s/it]"
     ]
    },
    {
     "name": "stdout",
     "output_type": "stream",
     "text": [
      "Input #0, mpeg, from 'Data/CorpusNGT/gloss/CNGT0516_S025.mpg':\n",
      "  Duration: 00:03:42.00, start: 0.187533, bitrate: 1731 kb/s\n",
      "    Stream #0:0[0x1e0]: Video: mpeg1video, yuv420p(tv), 352x288 [SAR 178:163 DAR 1958:1467], 1500 kb/s, 25 fps, 25 tbr, 90k tbn, 25 tbc\n",
      "    Stream #0:1[0x1c0]: Audio: mp2, 48000 Hz, mono, s16p, 192 kb/s\n",
      "At least one output file must be specified\n",
      "\n"
     ]
    },
    {
     "name": "stderr",
     "output_type": "stream",
     "text": [
      " 55%|█████▌    | 670/1208 [1:42:08<36:05,  4.03s/it]"
     ]
    },
    {
     "name": "stdout",
     "output_type": "stream",
     "text": [
      "Input #0, mpeg, from 'Data/CorpusNGT/gloss/CNGT0516_S026.mpg':\n",
      "  Duration: 00:03:42.00, start: 0.187533, bitrate: 1731 kb/s\n",
      "    Stream #0:0[0x1e0]: Video: mpeg1video, yuv420p(tv), 352x288 [SAR 178:163 DAR 1958:1467], 1500 kb/s, 25 fps, 25 tbr, 90k tbn, 25 tbc\n",
      "    Stream #0:1[0x1c0]: Audio: mp2, 48000 Hz, mono, s16p, 192 kb/s\n",
      "At least one output file must be specified\n",
      "\n"
     ]
    },
    {
     "name": "stderr",
     "output_type": "stream",
     "text": [
      " 56%|█████▌    | 672/1208 [1:42:56<1:29:04,  9.97s/it]"
     ]
    },
    {
     "name": "stdout",
     "output_type": "stream",
     "text": [
      "Input #0, mpeg, from 'Data/CorpusNGT/gloss/CNGT0517_S025.mpg':\n",
      "  Duration: 00:01:50.00, start: 0.187533, bitrate: 1732 kb/s\n",
      "    Stream #0:0[0x1e0]: Video: mpeg1video, yuv420p(tv), 352x288 [SAR 178:163 DAR 1958:1467], 1500 kb/s, 25 fps, 25 tbr, 90k tbn, 25 tbc\n",
      "    Stream #0:1[0x1c0]: Audio: mp2, 48000 Hz, mono, s16p, 192 kb/s\n",
      "At least one output file must be specified\n",
      "\n"
     ]
    },
    {
     "name": "stderr",
     "output_type": "stream",
     "text": [
      " 56%|█████▌    | 674/1208 [1:43:10<1:20:58,  9.10s/it]"
     ]
    },
    {
     "name": "stdout",
     "output_type": "stream",
     "text": [
      "Input #0, mpeg, from 'Data/CorpusNGT/gloss/CNGT0517_S026.mpg':\n",
      "  Duration: 00:01:50.00, start: 0.187533, bitrate: 1732 kb/s\n",
      "    Stream #0:0[0x1e0]: Video: mpeg1video, yuv420p(tv), 352x288 [SAR 178:163 DAR 1958:1467], 1500 kb/s, 25 fps, 25 tbr, 90k tbn, 25 tbc\n",
      "    Stream #0:1[0x1c0]: Audio: mp2, 48000 Hz, mono, s16p, 192 kb/s\n",
      "At least one output file must be specified\n",
      "\n"
     ]
    },
    {
     "name": "stderr",
     "output_type": "stream",
     "text": [
      " 56%|█████▌    | 676/1208 [1:43:13<1:00:32,  6.83s/it]"
     ]
    },
    {
     "name": "stdout",
     "output_type": "stream",
     "text": [
      "Input #0, mpeg, from 'Data/CorpusNGT/gloss/CNGT0518_S025.mpg':\n",
      "  Duration: 00:03:17.00, start: 0.187533, bitrate: 1731 kb/s\n",
      "    Stream #0:0[0x1e0]: Video: mpeg1video, yuv420p(tv), 352x288 [SAR 178:163 DAR 1958:1467], 1500 kb/s, 25 fps, 25 tbr, 90k tbn, 25 tbc\n",
      "    Stream #0:1[0x1c0]: Audio: mp2, 48000 Hz, mono, s16p, 192 kb/s\n",
      "At least one output file must be specified\n",
      "\n"
     ]
    },
    {
     "name": "stderr",
     "output_type": "stream",
     "text": [
      " 56%|█████▌    | 678/1208 [1:43:45<1:23:53,  9.50s/it]"
     ]
    },
    {
     "name": "stdout",
     "output_type": "stream",
     "text": [
      "Input #0, mpeg, from 'Data/CorpusNGT/gloss/CNGT0518_S026.mpg':\n",
      "  Duration: 00:03:17.00, start: 0.187533, bitrate: 1731 kb/s\n",
      "    Stream #0:0[0x1e0]: Video: mpeg1video, yuv420p(tv), 352x288 [SAR 178:163 DAR 1958:1467], 1500 kb/s, 25 fps, 25 tbr, 90k tbn, 25 tbc\n",
      "    Stream #0:1[0x1c0]: Audio: mp2, 48000 Hz, mono, s16p, 192 kb/s\n",
      "At least one output file must be specified\n",
      "\n"
     ]
    },
    {
     "name": "stderr",
     "output_type": "stream",
     "text": [
      " 56%|█████▋    | 680/1208 [1:43:48<1:02:40,  7.12s/it]"
     ]
    },
    {
     "name": "stdout",
     "output_type": "stream",
     "text": [
      "Input #0, mpeg, from 'Data/CorpusNGT/gloss/CNGT0519_S025.mpg':\n",
      "  Duration: 00:01:47.00, start: 0.187533, bitrate: 1732 kb/s\n",
      "    Stream #0:0[0x1e0]: Video: mpeg1video, yuv420p(tv), 352x288 [SAR 178:163 DAR 1958:1467], 1500 kb/s, 25 fps, 25 tbr, 90k tbn, 25 tbc\n",
      "    Stream #0:1[0x1c0]: Audio: mp2, 48000 Hz, mono, s16p, 192 kb/s\n",
      "At least one output file must be specified\n",
      "\n"
     ]
    },
    {
     "name": "stderr",
     "output_type": "stream",
     "text": [
      " 56%|█████▋    | 682/1208 [1:43:50<46:46,  5.34s/it]  "
     ]
    },
    {
     "name": "stdout",
     "output_type": "stream",
     "text": [
      "Input #0, mpeg, from 'Data/CorpusNGT/gloss/CNGT0519_S026.mpg':\n",
      "  Duration: 00:01:47.00, start: 0.187533, bitrate: 1732 kb/s\n",
      "    Stream #0:0[0x1e0]: Video: mpeg1video, yuv420p(tv), 352x288 [SAR 178:163 DAR 1958:1467], 1500 kb/s, 25 fps, 25 tbr, 90k tbn, 25 tbc\n",
      "    Stream #0:1[0x1c0]: Audio: mp2, 48000 Hz, mono, s16p, 192 kb/s\n",
      "At least one output file must be specified\n",
      "\n"
     ]
    },
    {
     "name": "stderr",
     "output_type": "stream",
     "text": [
      " 57%|█████▋    | 684/1208 [1:44:10<59:00,  6.76s/it]"
     ]
    },
    {
     "name": "stdout",
     "output_type": "stream",
     "text": [
      "Input #0, mpeg, from 'Data/CorpusNGT/gloss/CNGT0520_S025.mpg':\n",
      "  Duration: 00:01:30.00, start: 0.187533, bitrate: 1732 kb/s\n",
      "    Stream #0:0[0x1e0]: Video: mpeg1video, yuv420p(tv), 352x288 [SAR 178:163 DAR 1958:1467], 1500 kb/s, 25 fps, 25 tbr, 90k tbn, 25 tbc\n",
      "    Stream #0:1[0x1c0]: Audio: mp2, 48000 Hz, mono, s16p, 192 kb/s\n",
      "At least one output file must be specified\n",
      "\n"
     ]
    },
    {
     "name": "stderr",
     "output_type": "stream",
     "text": [
      " 57%|█████▋    | 690/1208 [1:44:24<31:20,  3.63s/it]"
     ]
    },
    {
     "name": "stdout",
     "output_type": "stream",
     "text": [
      "Input #0, mpeg, from 'Data/CorpusNGT/gloss/CNGT0520_S026.mpg':\n",
      "  Duration: 00:01:30.00, start: 0.187533, bitrate: 1732 kb/s\n",
      "    Stream #0:0[0x1e0]: Video: mpeg1video, yuv420p(tv), 352x288 [SAR 178:163 DAR 1958:1467], 1500 kb/s, 25 fps, 25 tbr, 90k tbn, 25 tbc\n",
      "    Stream #0:1[0x1c0]: Audio: mp2, 48000 Hz, mono, s16p, 192 kb/s\n",
      "At least one output file must be specified\n",
      "\n",
      "Input #0, mpeg, from 'Data/CorpusNGT/gloss/CNGT0521_S025.mpg':\n",
      "  Duration: 00:01:06.00, start: 0.187533, bitrate: 1733 kb/s\n",
      "    Stream #0:0[0x1e0]: Video: mpeg1video, yuv420p(tv), 352x288 [SAR 178:163 DAR 1958:1467], 1500 kb/s, 25 fps, 25 tbr, 90k tbn, 25 tbc\n",
      "    Stream #0:1[0x1c0]: Audio: mp2, 48000 Hz, mono, s16p, 192 kb/s\n",
      "At least one output file must be specified\n",
      "\n",
      "Input #0, mpeg, from 'Data/CorpusNGT/gloss/CNGT0521_S026.mpg':\n",
      "  Duration: 00:01:06.00, start: 0.187533, bitrate: 1733 kb/s\n",
      "    Stream #0:0[0x1e0]: Video: mpeg1video, yuv420p(tv), 352x288 [SAR 178:163 DAR 1958:1467], 1500 kb/s, 25 fps, 25 tbr, 90k tbn, 25 tbc\n",
      "    Stream #0:1[0x1c0]: Audio: mp2, 48000 Hz, mono, s16p, 192 kb/s\n",
      "At least one output file must be specified\n",
      "\n"
     ]
    },
    {
     "name": "stderr",
     "output_type": "stream",
     "text": [
      " 57%|█████▋    | 692/1208 [1:44:33<33:54,  3.94s/it]"
     ]
    },
    {
     "name": "stdout",
     "output_type": "stream",
     "text": [
      "Input #0, mpeg, from 'Data/CorpusNGT/gloss/CNGT0522_S025.mpg':\n",
      "  Duration: 00:01:06.00, start: 0.187533, bitrate: 1733 kb/s\n",
      "    Stream #0:0[0x1e0]: Video: mpeg1video, yuv420p(tv), 352x288 [SAR 178:163 DAR 1958:1467], 1500 kb/s, 25 fps, 25 tbr, 90k tbn, 25 tbc\n",
      "    Stream #0:1[0x1c0]: Audio: mp2, 48000 Hz, mono, s16p, 192 kb/s\n",
      "At least one output file must be specified\n",
      "\n"
     ]
    },
    {
     "name": "stderr",
     "output_type": "stream",
     "text": [
      " 57%|█████▋    | 694/1208 [1:44:43<35:50,  4.18s/it]"
     ]
    },
    {
     "name": "stdout",
     "output_type": "stream",
     "text": [
      "Input #0, mpeg, from 'Data/CorpusNGT/gloss/CNGT0522_S026.mpg':\n",
      "  Duration: 00:01:06.00, start: 0.187533, bitrate: 1733 kb/s\n",
      "    Stream #0:0[0x1e0]: Video: mpeg1video, yuv420p(tv), 352x288 [SAR 178:163 DAR 1958:1467], 1500 kb/s, 25 fps, 25 tbr, 90k tbn, 25 tbc\n",
      "    Stream #0:1[0x1c0]: Audio: mp2, 48000 Hz, mono, s16p, 192 kb/s\n",
      "At least one output file must be specified\n",
      "\n",
      "Input #0, mpeg, from 'Data/CorpusNGT/gloss/CNGT0523_S025.mpg':\n",
      "  Duration: 00:02:19.00, start: 0.187533, bitrate: 1731 kb/s\n",
      "    Stream #0:0[0x1e0]: Video: mpeg1video, yuv420p(tv), 352x288 [SAR 178:163 DAR 1958:1467], 1500 kb/s, 25 fps, 25 tbr, 90k tbn, 25 tbc\n",
      "    Stream #0:1[0x1c0]: Audio: mp2, 48000 Hz, mono, s16p, 192 kb/s\n",
      "At least one output file must be specified\n",
      "\n"
     ]
    },
    {
     "name": "stderr",
     "output_type": "stream",
     "text": [
      " 58%|█████▊    | 698/1208 [1:44:44<20:38,  2.43s/it]"
     ]
    },
    {
     "name": "stdout",
     "output_type": "stream",
     "text": [
      "Input #0, mpeg, from 'Data/CorpusNGT/gloss/CNGT0523_S026.mpg':\n",
      "  Duration: 00:02:19.00, start: 0.187533, bitrate: 1731 kb/s\n",
      "    Stream #0:0[0x1e0]: Video: mpeg1video, yuv420p(tv), 352x288 [SAR 178:163 DAR 1958:1467], 1500 kb/s, 25 fps, 25 tbr, 90k tbn, 25 tbc\n",
      "    Stream #0:1[0x1c0]: Audio: mp2, 48000 Hz, mono, s16p, 192 kb/s\n",
      "At least one output file must be specified\n",
      "\n"
     ]
    },
    {
     "name": "stderr",
     "output_type": "stream",
     "text": [
      " 58%|█████▊    | 700/1208 [1:45:09<40:57,  4.84s/it]"
     ]
    },
    {
     "name": "stdout",
     "output_type": "stream",
     "text": [
      "Input #0, mpeg, from 'Data/CorpusNGT/gloss/CNGT0524_S025.mpg':\n",
      "  Duration: 00:01:42.00, start: 0.187533, bitrate: 1732 kb/s\n",
      "    Stream #0:0[0x1e0]: Video: mpeg1video, yuv420p(tv), 352x288 [SAR 178:163 DAR 1958:1467], 1500 kb/s, 25 fps, 25 tbr, 90k tbn, 25 tbc\n",
      "    Stream #0:1[0x1c0]: Audio: mp2, 48000 Hz, mono, s16p, 192 kb/s\n",
      "At least one output file must be specified\n",
      "\n"
     ]
    },
    {
     "name": "stderr",
     "output_type": "stream",
     "text": [
      " 58%|█████▊    | 702/1208 [1:45:22<44:40,  5.30s/it]"
     ]
    },
    {
     "name": "stdout",
     "output_type": "stream",
     "text": [
      "Input #0, mpeg, from 'Data/CorpusNGT/gloss/CNGT0524_S026.mpg':\n",
      "  Duration: 00:01:42.00, start: 0.187533, bitrate: 1732 kb/s\n",
      "    Stream #0:0[0x1e0]: Video: mpeg1video, yuv420p(tv), 352x288 [SAR 178:163 DAR 1958:1467], 1500 kb/s, 25 fps, 25 tbr, 90k tbn, 25 tbc\n",
      "    Stream #0:1[0x1c0]: Audio: mp2, 48000 Hz, mono, s16p, 192 kb/s\n",
      "At least one output file must be specified\n",
      "\n"
     ]
    },
    {
     "name": "stderr",
     "output_type": "stream",
     "text": [
      " 58%|█████▊    | 704/1208 [1:45:23<33:14,  3.96s/it]"
     ]
    },
    {
     "name": "stdout",
     "output_type": "stream",
     "text": [
      "Input #0, mpeg, from 'Data/CorpusNGT/gloss/CNGT0525_S025.mpg':\n",
      "  Duration: 00:01:47.00, start: 0.187533, bitrate: 1732 kb/s\n",
      "    Stream #0:0[0x1e0]: Video: mpeg1video, yuv420p(tv), 352x288 [SAR 178:163 DAR 1958:1467], 1500 kb/s, 25 fps, 25 tbr, 90k tbn, 25 tbc\n",
      "    Stream #0:1[0x1c0]: Audio: mp2, 48000 Hz, mono, s16p, 192 kb/s\n",
      "At least one output file must be specified\n",
      "\n"
     ]
    },
    {
     "name": "stderr",
     "output_type": "stream",
     "text": [
      " 58%|█████▊    | 706/1208 [1:45:23<24:46,  2.96s/it]"
     ]
    },
    {
     "name": "stdout",
     "output_type": "stream",
     "text": [
      "Input #0, mpeg, from 'Data/CorpusNGT/gloss/CNGT0525_S026.mpg':\n",
      "  Duration: 00:01:47.00, start: 0.187533, bitrate: 1732 kb/s\n",
      "    Stream #0:0[0x1e0]: Video: mpeg1video, yuv420p(tv), 352x288 [SAR 178:163 DAR 1958:1467], 1500 kb/s, 25 fps, 25 tbr, 90k tbn, 25 tbc\n",
      "    Stream #0:1[0x1c0]: Audio: mp2, 48000 Hz, mono, s16p, 192 kb/s\n",
      "At least one output file must be specified\n",
      "\n"
     ]
    },
    {
     "name": "stderr",
     "output_type": "stream",
     "text": [
      " 59%|█████▊    | 708/1208 [1:45:37<34:05,  4.09s/it]"
     ]
    },
    {
     "name": "stdout",
     "output_type": "stream",
     "text": [
      "Input #0, mpeg, from 'Data/CorpusNGT/gloss/CNGT0526_S025.mpg':\n",
      "  Duration: 00:01:40.00, start: 0.187533, bitrate: 1732 kb/s\n",
      "    Stream #0:0[0x1e0]: Video: mpeg1video, yuv420p(tv), 352x288 [SAR 178:163 DAR 1958:1467], 1500 kb/s, 25 fps, 25 tbr, 90k tbn, 25 tbc\n",
      "    Stream #0:1[0x1c0]: Audio: mp2, 48000 Hz, mono, s16p, 192 kb/s\n",
      "At least one output file must be specified\n",
      "\n"
     ]
    },
    {
     "name": "stderr",
     "output_type": "stream",
     "text": [
      " 59%|█████▉    | 712/1208 [1:45:53<29:54,  3.62s/it]"
     ]
    },
    {
     "name": "stdout",
     "output_type": "stream",
     "text": [
      "Input #0, mpeg, from 'Data/CorpusNGT/gloss/CNGT0526_S026.mpg':\n",
      "  Duration: 00:01:40.00, start: 0.187533, bitrate: 1732 kb/s\n",
      "    Stream #0:0[0x1e0]: Video: mpeg1video, yuv420p(tv), 352x288 [SAR 178:163 DAR 1958:1467], 1500 kb/s, 25 fps, 25 tbr, 90k tbn, 25 tbc\n",
      "    Stream #0:1[0x1c0]: Audio: mp2, 48000 Hz, mono, s16p, 192 kb/s\n",
      "At least one output file must be specified\n",
      "\n",
      "Input #0, mpeg, from 'Data/CorpusNGT/gloss/CNGT0528_S025.mpg':\n",
      "  Duration: 00:02:24.00, start: 0.187533, bitrate: 1731 kb/s\n",
      "    Stream #0:0[0x1e0]: Video: mpeg1video, yuv420p(tv), 352x288 [SAR 178:163 DAR 1958:1467], 1500 kb/s, 25 fps, 25 tbr, 90k tbn, 25 tbc\n",
      "    Stream #0:1[0x1c0]: Audio: mp2, 48000 Hz, mono, s16p, 192 kb/s\n",
      "At least one output file must be specified\n",
      "\n"
     ]
    },
    {
     "name": "stderr",
     "output_type": "stream",
     "text": [
      " 59%|█████▉    | 714/1208 [1:46:03<33:55,  4.12s/it]"
     ]
    },
    {
     "name": "stdout",
     "output_type": "stream",
     "text": [
      "Input #0, mpeg, from 'Data/CorpusNGT/gloss/CNGT0528_S026.mpg':\n",
      "  Duration: 00:02:24.00, start: 0.187533, bitrate: 1731 kb/s\n",
      "    Stream #0:0[0x1e0]: Video: mpeg1video, yuv420p(tv), 352x288 [SAR 178:163 DAR 1958:1467], 1500 kb/s, 25 fps, 25 tbr, 90k tbn, 25 tbc\n",
      "    Stream #0:1[0x1c0]: Audio: mp2, 48000 Hz, mono, s16p, 192 kb/s\n",
      "At least one output file must be specified\n",
      "\n"
     ]
    },
    {
     "name": "stderr",
     "output_type": "stream",
     "text": [
      " 59%|█████▉    | 716/1208 [1:46:25<50:43,  6.19s/it]"
     ]
    },
    {
     "name": "stdout",
     "output_type": "stream",
     "text": [
      "Input #0, mpeg, from 'Data/CorpusNGT/gloss/CNGT0529_S025.mpg':\n",
      "  Duration: 00:05:26.00, start: 0.187533, bitrate: 1730 kb/s\n",
      "    Stream #0:0[0x1e0]: Video: mpeg1video, yuv420p(tv), 352x288 [SAR 178:163 DAR 1958:1467], 1500 kb/s, 25 fps, 25 tbr, 90k tbn, 25 tbc\n",
      "    Stream #0:1[0x1c0]: Audio: mp2, 48000 Hz, mono, s16p, 192 kb/s\n",
      "At least one output file must be specified\n",
      "\n"
     ]
    },
    {
     "name": "stderr",
     "output_type": "stream",
     "text": [
      " 59%|█████▉    | 718/1208 [1:46:47<1:01:58,  7.59s/it]"
     ]
    },
    {
     "name": "stdout",
     "output_type": "stream",
     "text": [
      "Input #0, mpeg, from 'Data/CorpusNGT/gloss/CNGT0529_S026.mpg':\n",
      "  Duration: 00:05:26.00, start: 0.187533, bitrate: 1730 kb/s\n",
      "    Stream #0:0[0x1e0]: Video: mpeg1video, yuv420p(tv), 352x288 [SAR 178:163 DAR 1958:1467], 1500 kb/s, 25 fps, 25 tbr, 90k tbn, 25 tbc\n",
      "    Stream #0:1[0x1c0]: Audio: mp2, 48000 Hz, mono, s16p, 192 kb/s\n",
      "At least one output file must be specified\n",
      "\n"
     ]
    },
    {
     "name": "stderr",
     "output_type": "stream",
     "text": [
      " 60%|█████▉    | 720/1208 [1:47:21<1:24:35, 10.40s/it]"
     ]
    },
    {
     "name": "stdout",
     "output_type": "stream",
     "text": [
      "Input #0, mpeg, from 'Data/CorpusNGT/gloss/CNGT0531_S025.mpg':\n",
      "  Duration: 00:02:44.00, start: 0.187533, bitrate: 1731 kb/s\n",
      "    Stream #0:0[0x1e0]: Video: mpeg1video, yuv420p(tv), 352x288 [SAR 178:163 DAR 1958:1467], 1500 kb/s, 25 fps, 25 tbr, 90k tbn, 25 tbc\n",
      "    Stream #0:1[0x1c0]: Audio: mp2, 48000 Hz, mono, s16p, 192 kb/s\n",
      "At least one output file must be specified\n",
      "\n"
     ]
    },
    {
     "name": "stderr",
     "output_type": "stream",
     "text": [
      " 60%|█████▉    | 722/1208 [1:47:37<1:17:40,  9.59s/it]"
     ]
    },
    {
     "name": "stdout",
     "output_type": "stream",
     "text": [
      "Input #0, mpeg, from 'Data/CorpusNGT/gloss/CNGT0531_S026.mpg':\n",
      "  Duration: 00:02:44.00, start: 0.187533, bitrate: 1731 kb/s\n",
      "    Stream #0:0[0x1e0]: Video: mpeg1video, yuv420p(tv), 352x288 [SAR 178:163 DAR 1958:1467], 1500 kb/s, 25 fps, 25 tbr, 90k tbn, 25 tbc\n",
      "    Stream #0:1[0x1c0]: Audio: mp2, 48000 Hz, mono, s16p, 192 kb/s\n",
      "At least one output file must be specified\n",
      "\n"
     ]
    },
    {
     "name": "stderr",
     "output_type": "stream",
     "text": [
      " 60%|█████▉    | 724/1208 [1:47:58<1:19:40,  9.88s/it]"
     ]
    },
    {
     "name": "stdout",
     "output_type": "stream",
     "text": [
      "Input #0, mpeg, from 'Data/CorpusNGT/gloss/CNGT0532_S025.mpg':\n",
      "  Duration: 00:05:21.00, start: 0.187533, bitrate: 1730 kb/s\n",
      "    Stream #0:0[0x1e0]: Video: mpeg1video, yuv420p(tv), 352x288 [SAR 178:163 DAR 1958:1467], 1500 kb/s, 25 fps, 25 tbr, 90k tbn, 25 tbc\n",
      "    Stream #0:1[0x1c0]: Audio: mp2, 48000 Hz, mono, s16p, 192 kb/s\n",
      "At least one output file must be specified\n",
      "\n"
     ]
    },
    {
     "name": "stderr",
     "output_type": "stream",
     "text": [
      " 60%|██████    | 726/1208 [1:48:29<1:33:10, 11.60s/it]"
     ]
    },
    {
     "name": "stdout",
     "output_type": "stream",
     "text": [
      "Input #0, mpeg, from 'Data/CorpusNGT/gloss/CNGT0532_S026.mpg':\n",
      "  Duration: 00:05:21.00, start: 0.187533, bitrate: 1730 kb/s\n",
      "    Stream #0:0[0x1e0]: Video: mpeg1video, yuv420p(tv), 352x288 [SAR 178:163 DAR 1958:1467], 1500 kb/s, 25 fps, 25 tbr, 90k tbn, 25 tbc\n",
      "    Stream #0:1[0x1c0]: Audio: mp2, 48000 Hz, mono, s16p, 192 kb/s\n",
      "At least one output file must be specified\n",
      "\n"
     ]
    },
    {
     "name": "stderr",
     "output_type": "stream",
     "text": [
      " 60%|██████    | 728/1208 [1:49:05<1:47:31, 13.44s/it]"
     ]
    },
    {
     "name": "stdout",
     "output_type": "stream",
     "text": [
      "Input #0, mpeg, from 'Data/CorpusNGT/gloss/CNGT0534_S025.mpg':\n",
      "  Duration: 00:03:02.00, start: 0.187533, bitrate: 1731 kb/s\n",
      "    Stream #0:0[0x1e0]: Video: mpeg1video, yuv420p(tv), 352x288 [SAR 178:163 DAR 1958:1467], 1500 kb/s, 25 fps, 25 tbr, 90k tbn, 25 tbc\n",
      "    Stream #0:1[0x1c0]: Audio: mp2, 48000 Hz, mono, s16p, 192 kb/s\n",
      "At least one output file must be specified\n",
      "\n"
     ]
    },
    {
     "name": "stderr",
     "output_type": "stream",
     "text": [
      " 60%|██████    | 730/1208 [1:49:16<1:28:08, 11.06s/it]"
     ]
    },
    {
     "name": "stdout",
     "output_type": "stream",
     "text": [
      "Input #0, mpeg, from 'Data/CorpusNGT/gloss/CNGT0534_S026.mpg':\n",
      "  Duration: 00:03:02.00, start: 0.187533, bitrate: 1731 kb/s\n",
      "    Stream #0:0[0x1e0]: Video: mpeg1video, yuv420p(tv), 352x288 [SAR 178:163 DAR 1958:1467], 1500 kb/s, 25 fps, 25 tbr, 90k tbn, 25 tbc\n",
      "    Stream #0:1[0x1c0]: Audio: mp2, 48000 Hz, mono, s16p, 192 kb/s\n",
      "At least one output file must be specified\n",
      "\n"
     ]
    },
    {
     "name": "stderr",
     "output_type": "stream",
     "text": [
      " 61%|██████    | 732/1208 [1:49:38<1:28:38, 11.17s/it]"
     ]
    },
    {
     "name": "stdout",
     "output_type": "stream",
     "text": [
      "Input #0, mpeg, from 'Data/CorpusNGT/gloss/CNGT0535_S025.mpg':\n",
      "  Duration: 00:03:10.00, start: 0.187533, bitrate: 1731 kb/s\n",
      "    Stream #0:0[0x1e0]: Video: mpeg1video, yuv420p(tv), 352x288 [SAR 178:163 DAR 1958:1467], 1500 kb/s, 25 fps, 25 tbr, 90k tbn, 25 tbc\n",
      "    Stream #0:1[0x1c0]: Audio: mp2, 48000 Hz, mono, s16p, 192 kb/s\n",
      "At least one output file must be specified\n",
      "\n"
     ]
    },
    {
     "name": "stderr",
     "output_type": "stream",
     "text": [
      " 61%|██████    | 734/1208 [1:49:39<1:02:45,  7.94s/it]"
     ]
    },
    {
     "name": "stdout",
     "output_type": "stream",
     "text": [
      "Input #0, mpeg, from 'Data/CorpusNGT/gloss/CNGT0535_S026.mpg':\n",
      "  Duration: 00:03:10.00, start: 0.187533, bitrate: 1731 kb/s\n",
      "    Stream #0:0[0x1e0]: Video: mpeg1video, yuv420p(tv), 352x288 [SAR 178:163 DAR 1958:1467], 1500 kb/s, 25 fps, 25 tbr, 90k tbn, 25 tbc\n",
      "    Stream #0:1[0x1c0]: Audio: mp2, 48000 Hz, mono, s16p, 192 kb/s\n",
      "At least one output file must be specified\n",
      "\n"
     ]
    },
    {
     "name": "stderr",
     "output_type": "stream",
     "text": [
      " 61%|██████    | 736/1208 [1:49:41<46:15,  5.88s/it]  "
     ]
    },
    {
     "name": "stdout",
     "output_type": "stream",
     "text": [
      "Input #0, mpeg, from 'Data/CorpusNGT/gloss/CNGT0536_S025.mpg':\n",
      "  Duration: 00:06:16.00, start: 0.187533, bitrate: 1730 kb/s\n",
      "    Stream #0:0[0x1e0]: Video: mpeg1video, yuv420p(tv), 352x288 [SAR 178:163 DAR 1958:1467], 1500 kb/s, 25 fps, 25 tbr, 90k tbn, 25 tbc\n",
      "    Stream #0:1[0x1c0]: Audio: mp2, 48000 Hz, mono, s16p, 192 kb/s\n",
      "At least one output file must be specified\n",
      "\n"
     ]
    },
    {
     "name": "stderr",
     "output_type": "stream",
     "text": [
      " 61%|██████    | 738/1208 [1:50:13<1:09:39,  8.89s/it]"
     ]
    },
    {
     "name": "stdout",
     "output_type": "stream",
     "text": [
      "Input #0, mpeg, from 'Data/CorpusNGT/gloss/CNGT0536_S026.mpg':\n",
      "  Duration: 00:06:16.00, start: 0.187533, bitrate: 1730 kb/s\n",
      "    Stream #0:0[0x1e0]: Video: mpeg1video, yuv420p(tv), 352x288 [SAR 178:163 DAR 1958:1467], 1500 kb/s, 25 fps, 25 tbr, 90k tbn, 25 tbc\n",
      "    Stream #0:1[0x1c0]: Audio: mp2, 48000 Hz, mono, s16p, 192 kb/s\n",
      "At least one output file must be specified\n",
      "\n"
     ]
    },
    {
     "name": "stderr",
     "output_type": "stream",
     "text": [
      " 61%|██████▏   | 740/1208 [1:51:02<1:45:34, 13.54s/it]"
     ]
    },
    {
     "name": "stdout",
     "output_type": "stream",
     "text": [
      "Input #0, mpeg, from 'Data/CorpusNGT/gloss/CNGT0537_S025.mpg':\n",
      "  Duration: 00:00:18.00, start: 0.187533, bitrate: 1742 kb/s\n",
      "    Stream #0:0[0x1e0]: Video: mpeg1video, yuv420p(tv), 352x288 [SAR 178:163 DAR 1958:1467], 1500 kb/s, 25 fps, 25 tbr, 90k tbn, 25 tbc\n",
      "    Stream #0:1[0x1c0]: Audio: mp2, 48000 Hz, mono, s16p, 192 kb/s\n",
      "At least one output file must be specified\n",
      "\n"
     ]
    },
    {
     "name": "stderr",
     "output_type": "stream",
     "text": [
      " 61%|██████▏   | 742/1208 [1:51:03<1:14:57,  9.65s/it]"
     ]
    },
    {
     "name": "stdout",
     "output_type": "stream",
     "text": [
      "Input #0, mpeg, from 'Data/CorpusNGT/gloss/CNGT0537_S026.mpg':\n",
      "  Duration: 00:00:18.00, start: 0.187533, bitrate: 1742 kb/s\n",
      "    Stream #0:0[0x1e0]: Video: mpeg1video, yuv420p(tv), 352x288 [SAR 178:163 DAR 1958:1467], 1500 kb/s, 25 fps, 25 tbr, 90k tbn, 25 tbc\n",
      "    Stream #0:1[0x1c0]: Audio: mp2, 48000 Hz, mono, s16p, 192 kb/s\n",
      "At least one output file must be specified\n",
      "\n"
     ]
    },
    {
     "name": "stderr",
     "output_type": "stream",
     "text": [
      " 62%|██████▏   | 744/1208 [1:51:05<53:58,  6.98s/it]  "
     ]
    },
    {
     "name": "stdout",
     "output_type": "stream",
     "text": [
      "Input #0, mpeg, from 'Data/CorpusNGT/gloss/CNGT0538_S025.mpg':\n",
      "  Duration: 00:02:14.00, start: 0.187533, bitrate: 1731 kb/s\n",
      "    Stream #0:0[0x1e0]: Video: mpeg1video, yuv420p(tv), 352x288 [SAR 178:163 DAR 1958:1467], 1500 kb/s, 25 fps, 25 tbr, 90k tbn, 25 tbc\n",
      "    Stream #0:1[0x1c0]: Audio: mp2, 48000 Hz, mono, s16p, 192 kb/s\n",
      "At least one output file must be specified\n",
      "\n"
     ]
    },
    {
     "name": "stderr",
     "output_type": "stream",
     "text": [
      " 62%|██████▏   | 746/1208 [1:51:12<46:12,  6.00s/it]"
     ]
    },
    {
     "name": "stdout",
     "output_type": "stream",
     "text": [
      "Input #0, mpeg, from 'Data/CorpusNGT/gloss/CNGT0538_S026.mpg':\n",
      "  Duration: 00:02:14.00, start: 0.187533, bitrate: 1731 kb/s\n",
      "    Stream #0:0[0x1e0]: Video: mpeg1video, yuv420p(tv), 352x288 [SAR 178:163 DAR 1958:1467], 1500 kb/s, 25 fps, 25 tbr, 90k tbn, 25 tbc\n",
      "    Stream #0:1[0x1c0]: Audio: mp2, 48000 Hz, mono, s16p, 192 kb/s\n",
      "At least one output file must be specified\n",
      "\n"
     ]
    },
    {
     "name": "stderr",
     "output_type": "stream",
     "text": [
      " 62%|██████▏   | 748/1208 [1:51:30<52:21,  6.83s/it]"
     ]
    },
    {
     "name": "stdout",
     "output_type": "stream",
     "text": [
      "Input #0, mpeg, from 'Data/CorpusNGT/gloss/CNGT0539_S025.mpg':\n",
      "  Duration: 00:04:32.00, start: 0.187533, bitrate: 1730 kb/s\n",
      "    Stream #0:0[0x1e0]: Video: mpeg1video, yuv420p(tv), 352x288 [SAR 178:163 DAR 1958:1467], 1500 kb/s, 25 fps, 25 tbr, 90k tbn, 25 tbc\n",
      "    Stream #0:1[0x1c0]: Audio: mp2, 48000 Hz, mono, s16p, 192 kb/s\n",
      "At least one output file must be specified\n",
      "\n"
     ]
    },
    {
     "name": "stderr",
     "output_type": "stream",
     "text": [
      " 62%|██████▏   | 750/1208 [1:51:50<59:31,  7.80s/it]"
     ]
    },
    {
     "name": "stdout",
     "output_type": "stream",
     "text": [
      "Input #0, mpeg, from 'Data/CorpusNGT/gloss/CNGT0539_S026.mpg':\n",
      "  Duration: 00:04:32.00, start: 0.187533, bitrate: 1730 kb/s\n",
      "    Stream #0:0[0x1e0]: Video: mpeg1video, yuv420p(tv), 352x288 [SAR 178:163 DAR 1958:1467], 1500 kb/s, 25 fps, 25 tbr, 90k tbn, 25 tbc\n",
      "    Stream #0:1[0x1c0]: Audio: mp2, 48000 Hz, mono, s16p, 192 kb/s\n",
      "At least one output file must be specified\n",
      "\n"
     ]
    },
    {
     "name": "stderr",
     "output_type": "stream",
     "text": [
      " 62%|██████▏   | 752/1208 [1:52:37<1:35:13, 12.53s/it]"
     ]
    },
    {
     "name": "stdout",
     "output_type": "stream",
     "text": [
      "Input #0, mpeg, from 'Data/CorpusNGT/gloss/CNGT0546_S027.mpg':\n",
      "  Duration: 00:01:35.16, start: 0.187533, bitrate: 1732 kb/s\n",
      "    Stream #0:0[0x1e0]: Video: mpeg1video, yuv420p(tv), 352x288 [SAR 178:163 DAR 1958:1467], 1500 kb/s, 25 fps, 25 tbr, 90k tbn, 25 tbc\n",
      "    Stream #0:1[0x1c0]: Audio: mp2, 48000 Hz, mono, s16p, 192 kb/s\n",
      "At least one output file must be specified\n",
      "\n"
     ]
    },
    {
     "name": "stderr",
     "output_type": "stream",
     "text": [
      " 62%|██████▏   | 754/1208 [1:52:52<1:23:15, 11.00s/it]"
     ]
    },
    {
     "name": "stdout",
     "output_type": "stream",
     "text": [
      "Input #0, mpeg, from 'Data/CorpusNGT/gloss/CNGT0546_S028.mpg':\n",
      "  Duration: 00:01:35.16, start: 0.187533, bitrate: 1732 kb/s\n",
      "    Stream #0:0[0x1e0]: Video: mpeg1video, yuv420p(tv), 352x288 [SAR 178:163 DAR 1958:1467], 1500 kb/s, 25 fps, 25 tbr, 90k tbn, 25 tbc\n",
      "    Stream #0:1[0x1c0]: Audio: mp2, 48000 Hz, mono, s16p, 192 kb/s\n",
      "At least one output file must be specified\n",
      "\n"
     ]
    },
    {
     "name": "stderr",
     "output_type": "stream",
     "text": [
      " 63%|██████▎   | 756/1208 [1:52:53<59:11,  7.86s/it]  "
     ]
    },
    {
     "name": "stdout",
     "output_type": "stream",
     "text": [
      "Input #0, mpeg, from 'Data/CorpusNGT/gloss/CNGT0557_S027.mpg':\n",
      "  Duration: 00:00:57.00, start: 0.187533, bitrate: 1733 kb/s\n",
      "    Stream #0:0[0x1e0]: Video: mpeg1video, yuv420p(tv), 352x288 [SAR 178:163 DAR 1958:1467], 1500 kb/s, 25 fps, 25 tbr, 90k tbn, 25 tbc\n",
      "    Stream #0:1[0x1c0]: Audio: mp2, 48000 Hz, mono, s16p, 192 kb/s\n",
      "At least one output file must be specified\n",
      "\n"
     ]
    },
    {
     "name": "stderr",
     "output_type": "stream",
     "text": [
      " 63%|██████▎   | 758/1208 [1:53:02<51:40,  6.89s/it]"
     ]
    },
    {
     "name": "stdout",
     "output_type": "stream",
     "text": [
      "Input #0, mpeg, from 'Data/CorpusNGT/gloss/CNGT0557_S028.mpg':\n",
      "  Duration: 00:00:57.00, start: 0.187533, bitrate: 1733 kb/s\n",
      "    Stream #0:0[0x1e0]: Video: mpeg1video, yuv420p(tv), 352x288 [SAR 178:163 DAR 1958:1467], 1500 kb/s, 25 fps, 25 tbr, 90k tbn, 25 tbc\n",
      "    Stream #0:1[0x1c0]: Audio: mp2, 48000 Hz, mono, s16p, 192 kb/s\n",
      "At least one output file must be specified\n",
      "\n"
     ]
    },
    {
     "name": "stderr",
     "output_type": "stream",
     "text": [
      " 63%|██████▎   | 760/1208 [1:53:04<37:57,  5.08s/it]"
     ]
    },
    {
     "name": "stdout",
     "output_type": "stream",
     "text": [
      "Input #0, mpeg, from 'Data/CorpusNGT/gloss/CNGT0564_S027.mpg':\n",
      "  Duration: 00:01:09.00, start: 0.187533, bitrate: 1733 kb/s\n",
      "    Stream #0:0[0x1e0]: Video: mpeg1video, yuv420p(tv), 352x288 [SAR 178:163 DAR 1958:1467], 1500 kb/s, 25 fps, 25 tbr, 90k tbn, 25 tbc\n",
      "    Stream #0:1[0x1c0]: Audio: mp2, 48000 Hz, mono, s16p, 192 kb/s\n",
      "At least one output file must be specified\n",
      "\n"
     ]
    },
    {
     "name": "stderr",
     "output_type": "stream",
     "text": [
      " 63%|██████▎   | 762/1208 [1:53:15<38:49,  5.22s/it]"
     ]
    },
    {
     "name": "stdout",
     "output_type": "stream",
     "text": [
      "Input #0, mpeg, from 'Data/CorpusNGT/gloss/CNGT0564_S028.mpg':\n",
      "  Duration: 00:01:09.00, start: 0.187533, bitrate: 1733 kb/s\n",
      "    Stream #0:0[0x1e0]: Video: mpeg1video, yuv420p(tv), 352x288 [SAR 178:163 DAR 1958:1467], 1500 kb/s, 25 fps, 25 tbr, 90k tbn, 25 tbc\n",
      "    Stream #0:1[0x1c0]: Audio: mp2, 48000 Hz, mono, s16p, 192 kb/s\n",
      "At least one output file must be specified\n",
      "\n"
     ]
    },
    {
     "name": "stderr",
     "output_type": "stream",
     "text": [
      " 63%|██████▎   | 764/1208 [1:53:20<32:42,  4.42s/it]"
     ]
    },
    {
     "name": "stdout",
     "output_type": "stream",
     "text": [
      "Input #0, mpeg, from 'Data/CorpusNGT/gloss/CNGT0566_S027.mpg':\n",
      "  Duration: 00:01:07.00, start: 0.187533, bitrate: 1733 kb/s\n",
      "    Stream #0:0[0x1e0]: Video: mpeg1video, yuv420p(tv), 352x288 [SAR 178:163 DAR 1958:1467], 1500 kb/s, 25 fps, 25 tbr, 90k tbn, 25 tbc\n",
      "    Stream #0:1[0x1c0]: Audio: mp2, 48000 Hz, mono, s16p, 192 kb/s\n",
      "At least one output file must be specified\n",
      "\n"
     ]
    },
    {
     "name": "stderr",
     "output_type": "stream",
     "text": [
      " 63%|██████▎   | 766/1208 [1:53:29<32:40,  4.43s/it]"
     ]
    },
    {
     "name": "stdout",
     "output_type": "stream",
     "text": [
      "Input #0, mpeg, from 'Data/CorpusNGT/gloss/CNGT0566_S028.mpg':\n",
      "  Duration: 00:01:07.00, start: 0.187533, bitrate: 1733 kb/s\n",
      "    Stream #0:0[0x1e0]: Video: mpeg1video, yuv420p(tv), 352x288 [SAR 178:163 DAR 1958:1467], 1500 kb/s, 25 fps, 25 tbr, 90k tbn, 25 tbc\n",
      "    Stream #0:1[0x1c0]: Audio: mp2, 48000 Hz, mono, s16p, 192 kb/s\n",
      "At least one output file must be specified\n",
      "\n"
     ]
    },
    {
     "name": "stderr",
     "output_type": "stream",
     "text": [
      " 64%|██████▎   | 768/1208 [1:53:33<26:57,  3.68s/it]"
     ]
    },
    {
     "name": "stdout",
     "output_type": "stream",
     "text": [
      "Input #0, mpeg, from 'Data/CorpusNGT/gloss/CNGT0567_S027.mpg':\n",
      "  Duration: 00:01:06.00, start: 0.187533, bitrate: 1733 kb/s\n",
      "    Stream #0:0[0x1e0]: Video: mpeg1video, yuv420p(tv), 352x288 [SAR 178:163 DAR 1958:1467], 1500 kb/s, 25 fps, 25 tbr, 90k tbn, 25 tbc\n",
      "    Stream #0:1[0x1c0]: Audio: mp2, 48000 Hz, mono, s16p, 192 kb/s\n",
      "At least one output file must be specified\n",
      "\n"
     ]
    },
    {
     "name": "stderr",
     "output_type": "stream",
     "text": [
      " 64%|██████▎   | 770/1208 [1:53:40<26:44,  3.66s/it]"
     ]
    },
    {
     "name": "stdout",
     "output_type": "stream",
     "text": [
      "Input #0, mpeg, from 'Data/CorpusNGT/gloss/CNGT0567_S028.mpg':\n",
      "  Duration: 00:01:06.00, start: 0.187533, bitrate: 1733 kb/s\n",
      "    Stream #0:0[0x1e0]: Video: mpeg1video, yuv420p(tv), 352x288 [SAR 178:163 DAR 1958:1467], 1500 kb/s, 25 fps, 25 tbr, 90k tbn, 25 tbc\n",
      "    Stream #0:1[0x1c0]: Audio: mp2, 48000 Hz, mono, s16p, 192 kb/s\n",
      "At least one output file must be specified\n",
      "\n"
     ]
    },
    {
     "name": "stderr",
     "output_type": "stream",
     "text": [
      " 64%|██████▍   | 772/1208 [1:53:45<23:49,  3.28s/it]"
     ]
    },
    {
     "name": "stdout",
     "output_type": "stream",
     "text": [
      "Input #0, mpeg, from 'Data/CorpusNGT/gloss/CNGT0570_S027.mpg':\n",
      "  Duration: 00:00:57.00, start: 0.187533, bitrate: 1733 kb/s\n",
      "    Stream #0:0[0x1e0]: Video: mpeg1video, yuv420p(tv), 352x288 [SAR 178:163 DAR 1958:1467], 1500 kb/s, 25 fps, 25 tbr, 90k tbn, 25 tbc\n",
      "    Stream #0:1[0x1c0]: Audio: mp2, 48000 Hz, mono, s16p, 192 kb/s\n",
      "At least one output file must be specified\n",
      "\n"
     ]
    },
    {
     "name": "stderr",
     "output_type": "stream",
     "text": [
      " 64%|██████▍   | 774/1208 [1:53:49<21:31,  2.98s/it]"
     ]
    },
    {
     "name": "stdout",
     "output_type": "stream",
     "text": [
      "Input #0, mpeg, from 'Data/CorpusNGT/gloss/CNGT0570_S028.mpg':\n",
      "  Duration: 00:00:57.00, start: 0.187533, bitrate: 1733 kb/s\n",
      "    Stream #0:0[0x1e0]: Video: mpeg1video, yuv420p(tv), 352x288 [SAR 178:163 DAR 1958:1467], 1500 kb/s, 25 fps, 25 tbr, 90k tbn, 25 tbc\n",
      "    Stream #0:1[0x1c0]: Audio: mp2, 48000 Hz, mono, s16p, 192 kb/s\n",
      "At least one output file must be specified\n",
      "\n"
     ]
    },
    {
     "name": "stderr",
     "output_type": "stream",
     "text": [
      " 64%|██████▍   | 776/1208 [1:53:51<16:57,  2.36s/it]"
     ]
    },
    {
     "name": "stdout",
     "output_type": "stream",
     "text": [
      "Input #0, mpeg, from 'Data/CorpusNGT/gloss/CNGT0571_S027.mpg':\n",
      "  Duration: 00:00:31.00, start: 0.187533, bitrate: 1737 kb/s\n",
      "    Stream #0:0[0x1e0]: Video: mpeg1video, yuv420p(tv), 352x288 [SAR 178:163 DAR 1958:1467], 1500 kb/s, 25 fps, 25 tbr, 90k tbn, 25 tbc\n",
      "    Stream #0:1[0x1c0]: Audio: mp2, 48000 Hz, mono, s16p, 192 kb/s\n",
      "At least one output file must be specified\n",
      "\n"
     ]
    },
    {
     "name": "stderr",
     "output_type": "stream",
     "text": [
      " 64%|██████▍   | 778/1208 [1:53:52<12:33,  1.75s/it]"
     ]
    },
    {
     "name": "stdout",
     "output_type": "stream",
     "text": [
      "Input #0, mpeg, from 'Data/CorpusNGT/gloss/CNGT0571_S028.mpg':\n",
      "  Duration: 00:00:31.00, start: 0.187533, bitrate: 1737 kb/s\n",
      "    Stream #0:0[0x1e0]: Video: mpeg1video, yuv420p(tv), 352x288 [SAR 178:163 DAR 1958:1467], 1500 kb/s, 25 fps, 25 tbr, 90k tbn, 25 tbc\n",
      "    Stream #0:1[0x1c0]: Audio: mp2, 48000 Hz, mono, s16p, 192 kb/s\n",
      "At least one output file must be specified\n",
      "\n"
     ]
    },
    {
     "name": "stderr",
     "output_type": "stream",
     "text": [
      " 65%|██████▍   | 780/1208 [1:53:54<10:53,  1.53s/it]"
     ]
    },
    {
     "name": "stdout",
     "output_type": "stream",
     "text": [
      "Input #0, mpeg, from 'Data/CorpusNGT/gloss/CNGT0597_S029.mpg':\n",
      "  Duration: 00:03:14.00, start: 0.187533, bitrate: 1731 kb/s\n",
      "    Stream #0:0[0x1e0]: Video: mpeg1video, yuv420p(tv), 352x288 [SAR 178:163 DAR 1958:1467], 1500 kb/s, 25 fps, 25 tbr, 90k tbn, 25 tbc\n",
      "    Stream #0:1[0x1c0]: Audio: mp2, 48000 Hz, mono, s16p, 192 kb/s\n",
      "At least one output file must be specified\n",
      "\n"
     ]
    },
    {
     "name": "stderr",
     "output_type": "stream",
     "text": [
      " 65%|██████▍   | 782/1208 [1:53:57<11:09,  1.57s/it]"
     ]
    },
    {
     "name": "stdout",
     "output_type": "stream",
     "text": [
      "Input #0, mpeg, from 'Data/CorpusNGT/gloss/CNGT0597_S030.mpg':\n",
      "  Duration: 00:03:14.00, start: 0.187533, bitrate: 1731 kb/s\n",
      "    Stream #0:0[0x1e0]: Video: mpeg1video, yuv420p(tv), 352x288 [SAR 178:163 DAR 1958:1467], 1500 kb/s, 25 fps, 25 tbr, 90k tbn, 25 tbc\n",
      "    Stream #0:1[0x1c0]: Audio: mp2, 48000 Hz, mono, s16p, 192 kb/s\n",
      "At least one output file must be specified\n",
      "\n"
     ]
    },
    {
     "name": "stderr",
     "output_type": "stream",
     "text": [
      " 65%|██████▍   | 784/1208 [1:54:31<44:03,  6.24s/it]"
     ]
    },
    {
     "name": "stdout",
     "output_type": "stream",
     "text": [
      "Input #0, mpeg, from 'Data/CorpusNGT/gloss/CNGT0601_S029.mpg':\n",
      "  Duration: 00:00:57.00, start: 0.187533, bitrate: 1733 kb/s\n",
      "    Stream #0:0[0x1e0]: Video: mpeg1video, yuv420p(tv), 352x288 [SAR 178:163 DAR 1958:1467], 1500 kb/s, 25 fps, 25 tbr, 90k tbn, 25 tbc\n",
      "    Stream #0:1[0x1c0]: Audio: mp2, 48000 Hz, mono, s16p, 192 kb/s\n",
      "At least one output file must be specified\n",
      "\n"
     ]
    },
    {
     "name": "stderr",
     "output_type": "stream",
     "text": [
      " 65%|██████▌   | 786/1208 [1:54:40<40:19,  5.73s/it]"
     ]
    },
    {
     "name": "stdout",
     "output_type": "stream",
     "text": [
      "Input #0, mpeg, from 'Data/CorpusNGT/gloss/CNGT0601_S030.mpg':\n",
      "  Duration: 00:00:57.00, start: 0.187533, bitrate: 1733 kb/s\n",
      "    Stream #0:0[0x1e0]: Video: mpeg1video, yuv420p(tv), 352x288 [SAR 178:163 DAR 1958:1467], 1500 kb/s, 25 fps, 25 tbr, 90k tbn, 25 tbc\n",
      "    Stream #0:1[0x1c0]: Audio: mp2, 48000 Hz, mono, s16p, 192 kb/s\n",
      "At least one output file must be specified\n",
      "\n"
     ]
    },
    {
     "name": "stderr",
     "output_type": "stream",
     "text": [
      " 65%|██████▌   | 788/1208 [1:54:41<28:40,  4.10s/it]"
     ]
    },
    {
     "name": "stdout",
     "output_type": "stream",
     "text": [
      "Input #0, mpeg, from 'Data/CorpusNGT/gloss/CNGT0602_S030.mpg':\n",
      "  Duration: 00:00:47.00, start: 0.187533, bitrate: 1734 kb/s\n",
      "    Stream #0:0[0x1e0]: Video: mpeg1video, yuv420p(tv), 352x288 [SAR 178:163 DAR 1958:1467], 1500 kb/s, 25 fps, 25 tbr, 90k tbn, 25 tbc\n",
      "    Stream #0:1[0x1c0]: Audio: mp2, 48000 Hz, mono, s16p, 192 kb/s\n",
      "At least one output file must be specified\n",
      "\n"
     ]
    },
    {
     "name": "stderr",
     "output_type": "stream",
     "text": [
      " 65%|██████▌   | 790/1208 [1:54:48<27:29,  3.95s/it]"
     ]
    },
    {
     "name": "stdout",
     "output_type": "stream",
     "text": [
      "Input #0, mpeg, from 'Data/CorpusNGT/gloss/CNGT0603_S029.mpg':\n",
      "  Duration: 00:00:45.00, start: 0.187533, bitrate: 1734 kb/s\n",
      "    Stream #0:0[0x1e0]: Video: mpeg1video, yuv420p(tv), 352x288 [SAR 178:163 DAR 1958:1467], 1500 kb/s, 25 fps, 25 tbr, 90k tbn, 25 tbc\n",
      "    Stream #0:1[0x1c0]: Audio: mp2, 48000 Hz, mono, s16p, 192 kb/s\n",
      "At least one output file must be specified\n",
      "\n"
     ]
    },
    {
     "name": "stderr",
     "output_type": "stream",
     "text": [
      " 66%|██████▌   | 792/1208 [1:54:55<26:27,  3.82s/it]"
     ]
    },
    {
     "name": "stdout",
     "output_type": "stream",
     "text": [
      "Input #0, mpeg, from 'Data/CorpusNGT/gloss/CNGT0604_S030.mpg':\n",
      "  Duration: 00:01:15.00, start: 0.187533, bitrate: 1733 kb/s\n",
      "    Stream #0:0[0x1e0]: Video: mpeg1video, yuv420p(tv), 352x288 [SAR 178:163 DAR 1958:1467], 1500 kb/s, 25 fps, 25 tbr, 90k tbn, 25 tbc\n",
      "    Stream #0:1[0x1c0]: Audio: mp2, 48000 Hz, mono, s16p, 192 kb/s\n",
      "At least one output file must be specified\n",
      "\n"
     ]
    },
    {
     "name": "stderr",
     "output_type": "stream",
     "text": [
      " 66%|██████▌   | 794/1208 [1:55:05<28:43,  4.16s/it]"
     ]
    },
    {
     "name": "stdout",
     "output_type": "stream",
     "text": [
      "Input #0, mpeg, from 'Data/CorpusNGT/gloss/CNGT0605_S029.mpg':\n",
      "  Duration: 00:01:19.00, start: 0.187533, bitrate: 1733 kb/s\n",
      "    Stream #0:0[0x1e0]: Video: mpeg1video, yuv420p(tv), 352x288 [SAR 178:163 DAR 1958:1467], 1500 kb/s, 25 fps, 25 tbr, 90k tbn, 25 tbc\n",
      "    Stream #0:1[0x1c0]: Audio: mp2, 48000 Hz, mono, s16p, 192 kb/s\n",
      "At least one output file must be specified\n",
      "\n"
     ]
    },
    {
     "name": "stderr",
     "output_type": "stream",
     "text": [
      " 66%|██████▌   | 796/1208 [1:55:18<33:09,  4.83s/it]"
     ]
    },
    {
     "name": "stdout",
     "output_type": "stream",
     "text": [
      "Input #0, mpeg, from 'Data/CorpusNGT/gloss/CNGT0606_S030.mpg':\n",
      "  Duration: 00:00:33.00, start: 0.187533, bitrate: 1736 kb/s\n",
      "    Stream #0:0[0x1e0]: Video: mpeg1video, yuv420p(tv), 352x288 [SAR 178:163 DAR 1958:1467], 1500 kb/s, 25 fps, 25 tbr, 90k tbn, 25 tbc\n",
      "    Stream #0:1[0x1c0]: Audio: mp2, 48000 Hz, mono, s16p, 192 kb/s\n",
      "At least one output file must be specified\n",
      "\n"
     ]
    },
    {
     "name": "stderr",
     "output_type": "stream",
     "text": [
      " 66%|██████▌   | 798/1208 [1:55:22<27:21,  4.00s/it]"
     ]
    },
    {
     "name": "stdout",
     "output_type": "stream",
     "text": [
      "Input #0, mpeg, from 'Data/CorpusNGT/gloss/CNGT0607_S029.mpg':\n",
      "  Duration: 00:01:28.00, start: 0.187533, bitrate: 1732 kb/s\n",
      "    Stream #0:0[0x1e0]: Video: mpeg1video, yuv420p(tv), 352x288 [SAR 178:163 DAR 1958:1467], 1500 kb/s, 25 fps, 25 tbr, 90k tbn, 25 tbc\n",
      "    Stream #0:1[0x1c0]: Audio: mp2, 48000 Hz, mono, s16p, 192 kb/s\n",
      "At least one output file must be specified\n",
      "\n"
     ]
    },
    {
     "name": "stderr",
     "output_type": "stream",
     "text": [
      " 66%|██████▌   | 800/1208 [1:55:33<30:16,  4.45s/it]"
     ]
    },
    {
     "name": "stdout",
     "output_type": "stream",
     "text": [
      "Input #0, mpeg, from 'Data/CorpusNGT/gloss/CNGT0616_S029.mpg':\n",
      "  Duration: 00:02:07.00, start: 0.187533, bitrate: 1731 kb/s\n",
      "    Stream #0:0[0x1e0]: Video: mpeg1video, yuv420p(tv), 352x288 [SAR 178:163 DAR 1958:1467], 1500 kb/s, 25 fps, 25 tbr, 90k tbn, 25 tbc\n",
      "    Stream #0:1[0x1c0]: Audio: mp2, 48000 Hz, mono, s16p, 192 kb/s\n",
      "At least one output file must be specified\n",
      "\n"
     ]
    },
    {
     "name": "stderr",
     "output_type": "stream",
     "text": [
      " 66%|██████▋   | 802/1208 [1:55:44<31:43,  4.69s/it]"
     ]
    },
    {
     "name": "stdout",
     "output_type": "stream",
     "text": [
      "Input #0, mpeg, from 'Data/CorpusNGT/gloss/CNGT0616_S030.mpg':\n",
      "  Duration: 00:02:07.00, start: 0.187533, bitrate: 1731 kb/s\n",
      "    Stream #0:0[0x1e0]: Video: mpeg1video, yuv420p(tv), 352x288 [SAR 178:163 DAR 1958:1467], 1500 kb/s, 25 fps, 25 tbr, 90k tbn, 25 tbc\n",
      "    Stream #0:1[0x1c0]: Audio: mp2, 48000 Hz, mono, s16p, 192 kb/s\n",
      "At least one output file must be specified\n",
      "\n"
     ]
    },
    {
     "name": "stderr",
     "output_type": "stream",
     "text": [
      " 67%|██████▋   | 804/1208 [1:56:00<38:46,  5.76s/it]"
     ]
    },
    {
     "name": "stdout",
     "output_type": "stream",
     "text": [
      "Input #0, mpeg, from 'Data/CorpusNGT/gloss/CNGT0617_S029.mpg':\n",
      "  Duration: 00:01:25.00, start: 0.187533, bitrate: 1732 kb/s\n",
      "    Stream #0:0[0x1e0]: Video: mpeg1video, yuv420p(tv), 352x288 [SAR 178:163 DAR 1958:1467], 1500 kb/s, 25 fps, 25 tbr, 90k tbn, 25 tbc\n",
      "    Stream #0:1[0x1c0]: Audio: mp2, 48000 Hz, mono, s16p, 192 kb/s\n",
      "At least one output file must be specified\n",
      "\n"
     ]
    },
    {
     "name": "stderr",
     "output_type": "stream",
     "text": [
      " 67%|██████▋   | 806/1208 [1:56:11<37:40,  5.62s/it]"
     ]
    },
    {
     "name": "stdout",
     "output_type": "stream",
     "text": [
      "Input #0, mpeg, from 'Data/CorpusNGT/gloss/CNGT0617_S030.mpg':\n",
      "  Duration: 00:01:25.00, start: 0.187533, bitrate: 1732 kb/s\n",
      "    Stream #0:0[0x1e0]: Video: mpeg1video, yuv420p(tv), 352x288 [SAR 178:163 DAR 1958:1467], 1500 kb/s, 25 fps, 25 tbr, 90k tbn, 25 tbc\n",
      "    Stream #0:1[0x1c0]: Audio: mp2, 48000 Hz, mono, s16p, 192 kb/s\n",
      "At least one output file must be specified\n",
      "\n"
     ]
    },
    {
     "name": "stderr",
     "output_type": "stream",
     "text": [
      " 67%|██████▋   | 808/1208 [1:56:21<36:10,  5.43s/it]"
     ]
    },
    {
     "name": "stdout",
     "output_type": "stream",
     "text": [
      "Input #0, mpeg, from 'Data/CorpusNGT/gloss/CNGT0618_S029.mpg':\n",
      "  Duration: 00:03:55.00, start: 0.187533, bitrate: 1730 kb/s\n",
      "    Stream #0:0[0x1e0]: Video: mpeg1video, yuv420p(tv), 352x288 [SAR 178:163 DAR 1958:1467], 1500 kb/s, 25 fps, 25 tbr, 90k tbn, 25 tbc\n",
      "    Stream #0:1[0x1c0]: Audio: mp2, 48000 Hz, mono, s16p, 192 kb/s\n",
      "At least one output file must be specified\n",
      "\n"
     ]
    },
    {
     "name": "stderr",
     "output_type": "stream",
     "text": [
      " 67%|██████▋   | 810/1208 [1:56:40<43:59,  6.63s/it]"
     ]
    },
    {
     "name": "stdout",
     "output_type": "stream",
     "text": [
      "Input #0, mpeg, from 'Data/CorpusNGT/gloss/CNGT0618_S030.mpg':\n",
      "  Duration: 00:03:55.00, start: 0.187533, bitrate: 1730 kb/s\n",
      "    Stream #0:0[0x1e0]: Video: mpeg1video, yuv420p(tv), 352x288 [SAR 178:163 DAR 1958:1467], 1500 kb/s, 25 fps, 25 tbr, 90k tbn, 25 tbc\n",
      "    Stream #0:1[0x1c0]: Audio: mp2, 48000 Hz, mono, s16p, 192 kb/s\n",
      "At least one output file must be specified\n",
      "\n"
     ]
    },
    {
     "name": "stderr",
     "output_type": "stream",
     "text": [
      " 67%|██████▋   | 812/1208 [1:56:57<47:30,  7.20s/it]"
     ]
    },
    {
     "name": "stdout",
     "output_type": "stream",
     "text": [
      "Input #0, mpeg, from 'Data/CorpusNGT/gloss/CNGT0620_S029.mpg':\n",
      "  Duration: 00:01:04.00, start: 0.187533, bitrate: 1733 kb/s\n",
      "    Stream #0:0[0x1e0]: Video: mpeg1video, yuv420p(tv), 352x288 [SAR 178:163 DAR 1958:1467], 1500 kb/s, 25 fps, 25 tbr, 90k tbn, 25 tbc\n",
      "    Stream #0:1[0x1c0]: Audio: mp2, 48000 Hz, mono, s16p, 192 kb/s\n",
      "At least one output file must be specified\n",
      "\n"
     ]
    },
    {
     "name": "stderr",
     "output_type": "stream",
     "text": [
      " 67%|██████▋   | 814/1208 [1:57:03<39:12,  5.97s/it]"
     ]
    },
    {
     "name": "stdout",
     "output_type": "stream",
     "text": [
      "Input #0, mpeg, from 'Data/CorpusNGT/gloss/CNGT0620_S030.mpg':\n",
      "  Duration: 00:01:04.00, start: 0.187533, bitrate: 1733 kb/s\n",
      "    Stream #0:0[0x1e0]: Video: mpeg1video, yuv420p(tv), 352x288 [SAR 178:163 DAR 1958:1467], 1500 kb/s, 25 fps, 25 tbr, 90k tbn, 25 tbc\n",
      "    Stream #0:1[0x1c0]: Audio: mp2, 48000 Hz, mono, s16p, 192 kb/s\n",
      "At least one output file must be specified\n",
      "\n"
     ]
    },
    {
     "name": "stderr",
     "output_type": "stream",
     "text": [
      " 68%|██████▊   | 816/1208 [1:57:09<33:45,  5.17s/it]"
     ]
    },
    {
     "name": "stdout",
     "output_type": "stream",
     "text": [
      "Input #0, mpeg, from 'Data/CorpusNGT/gloss/CNGT0642_S031.mpg':\n",
      "  Duration: 00:03:05.00, start: 0.187533, bitrate: 1731 kb/s\n",
      "    Stream #0:0[0x1e0]: Video: mpeg1video, yuv420p(tv), 352x288 [SAR 178:163 DAR 1958:1467], 1500 kb/s, 25 fps, 25 tbr, 90k tbn, 25 tbc\n",
      "    Stream #0:1[0x1c0]: Audio: mp2, 48000 Hz, mono, s16p, 192 kb/s\n",
      "At least one output file must be specified\n",
      "\n"
     ]
    },
    {
     "name": "stderr",
     "output_type": "stream",
     "text": [
      " 68%|██████▊   | 820/1208 [1:57:38<36:10,  5.59s/it]"
     ]
    },
    {
     "name": "stdout",
     "output_type": "stream",
     "text": [
      "Input #0, mpeg, from 'Data/CorpusNGT/gloss/CNGT0642_S032.mpg':\n",
      "  Duration: 00:03:05.00, start: 0.187533, bitrate: 1731 kb/s\n",
      "    Stream #0:0[0x1e0]: Video: mpeg1video, yuv420p(tv), 352x288 [SAR 178:163 DAR 1958:1467], 1500 kb/s, 25 fps, 25 tbr, 90k tbn, 25 tbc\n",
      "    Stream #0:1[0x1c0]: Audio: mp2, 48000 Hz, mono, s16p, 192 kb/s\n",
      "At least one output file must be specified\n",
      "\n",
      "Input #0, mpeg, from 'Data/CorpusNGT/gloss/CNGT0694_S031.mpg':\n",
      "  Duration: 00:00:30.20, start: 0.187533, bitrate: 1737 kb/s\n",
      "    Stream #0:0[0x1e0]: Video: mpeg1video, yuv420p(tv), 352x288 [SAR 178:163 DAR 1958:1467], 1500 kb/s, 25 fps, 25 tbr, 90k tbn, 25 tbc\n",
      "    Stream #0:1[0x1c0]: Audio: mp2, 48000 Hz, mono, s16p, 192 kb/s\n",
      "At least one output file must be specified\n",
      "\n"
     ]
    },
    {
     "name": "stderr",
     "output_type": "stream",
     "text": [
      " 68%|██████▊   | 822/1208 [1:57:40<27:01,  4.20s/it]"
     ]
    },
    {
     "name": "stdout",
     "output_type": "stream",
     "text": [
      "Input #0, mpeg, from 'Data/CorpusNGT/gloss/CNGT0694_S032.mpg':\n",
      "  Duration: 00:00:30.20, start: 0.187533, bitrate: 1737 kb/s\n",
      "    Stream #0:0[0x1e0]: Video: mpeg1video, yuv420p(tv), 352x288 [SAR 178:163 DAR 1958:1467], 1500 kb/s, 25 fps, 25 tbr, 90k tbn, 25 tbc\n",
      "    Stream #0:1[0x1c0]: Audio: mp2, 48000 Hz, mono, s16p, 192 kb/s\n",
      "At least one output file must be specified\n",
      "\n"
     ]
    },
    {
     "name": "stderr",
     "output_type": "stream",
     "text": [
      " 68%|██████▊   | 824/1208 [1:57:41<19:21,  3.02s/it]"
     ]
    },
    {
     "name": "stdout",
     "output_type": "stream",
     "text": [
      "Input #0, mpeg, from 'Data/CorpusNGT/gloss/CNGT0697_S033.mpg':\n",
      "  Duration: 00:00:23.00, start: 0.187533, bitrate: 1740 kb/s\n",
      "    Stream #0:0[0x1e0]: Video: mpeg1video, yuv420p(tv), 352x288 [SAR 178:163 DAR 1958:1467], 1500 kb/s, 25 fps, 25 tbr, 90k tbn, 25 tbc\n",
      "    Stream #0:1[0x1c0]: Audio: mp2, 48000 Hz, mono, s16p, 192 kb/s\n",
      "At least one output file must be specified\n",
      "\n"
     ]
    },
    {
     "name": "stderr",
     "output_type": "stream",
     "text": [
      " 68%|██████▊   | 826/1208 [1:57:42<14:51,  2.33s/it]"
     ]
    },
    {
     "name": "stdout",
     "output_type": "stream",
     "text": [
      "Input #0, mpeg, from 'Data/CorpusNGT/gloss/CNGT0697_S034.mpg':\n",
      "  Duration: 00:00:23.00, start: 0.187533, bitrate: 1740 kb/s\n",
      "    Stream #0:0[0x1e0]: Video: mpeg1video, yuv420p(tv), 352x288 [SAR 178:163 DAR 1958:1467], 1500 kb/s, 25 fps, 25 tbr, 90k tbn, 25 tbc\n",
      "    Stream #0:1[0x1c0]: Audio: mp2, 48000 Hz, mono, s16p, 192 kb/s\n",
      "At least one output file must be specified\n",
      "\n"
     ]
    },
    {
     "name": "stderr",
     "output_type": "stream",
     "text": [
      " 69%|██████▊   | 828/1208 [1:57:44<11:58,  1.89s/it]"
     ]
    },
    {
     "name": "stdout",
     "output_type": "stream",
     "text": [
      "Input #0, mpeg, from 'Data/CorpusNGT/gloss/CNGT0704_S034.mpg':\n",
      "  Duration: 00:00:56.00, start: 0.187533, bitrate: 1734 kb/s\n",
      "    Stream #0:0[0x1e0]: Video: mpeg1video, yuv420p(tv), 352x288 [SAR 178:163 DAR 1958:1467], 1500 kb/s, 25 fps, 25 tbr, 90k tbn, 25 tbc\n",
      "    Stream #0:1[0x1c0]: Audio: mp2, 48000 Hz, mono, s16p, 192 kb/s\n",
      "At least one output file must be specified\n",
      "\n"
     ]
    },
    {
     "name": "stderr",
     "output_type": "stream",
     "text": [
      " 69%|██████▊   | 830/1208 [1:57:50<14:10,  2.25s/it]"
     ]
    },
    {
     "name": "stdout",
     "output_type": "stream",
     "text": [
      "Input #0, mpeg, from 'Data/CorpusNGT/gloss/CNGT0708_S034.mpg':\n",
      "  Duration: 00:00:48.00, start: 0.187533, bitrate: 1734 kb/s\n",
      "    Stream #0:0[0x1e0]: Video: mpeg1video, yuv420p(tv), 352x288 [SAR 178:163 DAR 1958:1467], 1500 kb/s, 25 fps, 25 tbr, 90k tbn, 25 tbc\n",
      "    Stream #0:1[0x1c0]: Audio: mp2, 48000 Hz, mono, s16p, 192 kb/s\n",
      "At least one output file must be specified\n",
      "\n"
     ]
    },
    {
     "name": "stderr",
     "output_type": "stream",
     "text": [
      " 69%|██████▉   | 832/1208 [1:57:56<15:06,  2.41s/it]"
     ]
    },
    {
     "name": "stdout",
     "output_type": "stream",
     "text": [
      "Input #0, mpeg, from 'Data/CorpusNGT/gloss/CNGT0710_S034.mpg':\n",
      "  Duration: 00:01:44.00, start: 0.187533, bitrate: 1732 kb/s\n",
      "    Stream #0:0[0x1e0]: Video: mpeg1video, yuv420p(tv), 352x288 [SAR 178:163 DAR 1958:1467], 1500 kb/s, 25 fps, 25 tbr, 90k tbn, 25 tbc\n",
      "    Stream #0:1[0x1c0]: Audio: mp2, 48000 Hz, mono, s16p, 192 kb/s\n",
      "At least one output file must be specified\n",
      "\n"
     ]
    },
    {
     "name": "stderr",
     "output_type": "stream",
     "text": [
      " 69%|██████▉   | 834/1208 [1:58:06<19:48,  3.18s/it]"
     ]
    },
    {
     "name": "stdout",
     "output_type": "stream",
     "text": [
      "Input #0, mpeg, from 'Data/CorpusNGT/gloss/CNGT0712_S033.mpg':\n",
      "  Duration: 00:01:16.00, start: 0.187533, bitrate: 1732 kb/s\n",
      "    Stream #0:0[0x1e0]: Video: mpeg1video, yuv420p(tv), 352x288 [SAR 178:163 DAR 1958:1467], 1500 kb/s, 25 fps, 25 tbr, 90k tbn, 25 tbc\n",
      "    Stream #0:1[0x1c0]: Audio: mp2, 48000 Hz, mono, s16p, 192 kb/s\n",
      "At least one output file must be specified\n",
      "\n",
      "Input #0, mpeg, from 'Data/CorpusNGT/gloss/CNGT0712_S034.mpg':\n",
      "  Duration: 00:01:16.00, start: 0.187533, bitrate: 1732 kb/s\n",
      "    Stream #0:0[0x1e0]: Video: mpeg1video, yuv420p(tv), 352x288 [SAR 178:163 DAR 1958:1467], 1500 kb/s, 25 fps, 25 tbr, 90k tbn, 25 tbc\n",
      "    Stream #0:1[0x1c0]: Audio: mp2, 48000 Hz, mono, s16p, 192 kb/s\n",
      "At least one output file must be specified\n",
      "\n"
     ]
    },
    {
     "name": "stderr",
     "output_type": "stream",
     "text": [
      " 69%|██████▉   | 838/1208 [1:58:10<13:52,  2.25s/it]"
     ]
    },
    {
     "name": "stdout",
     "output_type": "stream",
     "text": [
      "Input #0, mpeg, from 'Data/CorpusNGT/gloss/CNGT0714_S033.mpg':\n",
      "  Duration: 00:02:32.00, start: 0.187533, bitrate: 1731 kb/s\n",
      "    Stream #0:0[0x1e0]: Video: mpeg1video, yuv420p(tv), 352x288 [SAR 178:163 DAR 1958:1467], 1500 kb/s, 25 fps, 25 tbr, 90k tbn, 25 tbc\n",
      "    Stream #0:1[0x1c0]: Audio: mp2, 48000 Hz, mono, s16p, 192 kb/s\n",
      "At least one output file must be specified\n",
      "\n"
     ]
    },
    {
     "name": "stderr",
     "output_type": "stream",
     "text": [
      " 70%|██████▉   | 840/1208 [1:58:21<18:41,  3.05s/it]"
     ]
    },
    {
     "name": "stdout",
     "output_type": "stream",
     "text": [
      "Input #0, mpeg, from 'Data/CorpusNGT/gloss/CNGT0714_S034.mpg':\n",
      "  Duration: 00:02:32.00, start: 0.187533, bitrate: 1731 kb/s\n",
      "    Stream #0:0[0x1e0]: Video: mpeg1video, yuv420p(tv), 352x288 [SAR 178:163 DAR 1958:1467], 1500 kb/s, 25 fps, 25 tbr, 90k tbn, 25 tbc\n",
      "    Stream #0:1[0x1c0]: Audio: mp2, 48000 Hz, mono, s16p, 192 kb/s\n",
      "At least one output file must be specified\n",
      "\n"
     ]
    },
    {
     "name": "stderr",
     "output_type": "stream",
     "text": [
      " 70%|██████▉   | 842/1208 [1:58:34<24:06,  3.95s/it]"
     ]
    },
    {
     "name": "stdout",
     "output_type": "stream",
     "text": [
      "Input #0, mpeg, from 'Data/CorpusNGT/gloss/CNGT0722_S033.mpg':\n",
      "  Duration: 00:02:30.00, start: 0.187533, bitrate: 1731 kb/s\n",
      "    Stream #0:0[0x1e0]: Video: mpeg1video, yuv420p(tv), 352x288 [SAR 178:163 DAR 1958:1467], 1500 kb/s, 25 fps, 25 tbr, 90k tbn, 25 tbc\n",
      "    Stream #0:1[0x1c0]: Audio: mp2, 48000 Hz, mono, s16p, 192 kb/s\n",
      "At least one output file must be specified\n",
      "\n"
     ]
    },
    {
     "name": "stderr",
     "output_type": "stream",
     "text": [
      " 70%|██████▉   | 844/1208 [1:58:48<29:04,  4.79s/it]"
     ]
    },
    {
     "name": "stdout",
     "output_type": "stream",
     "text": [
      "Input #0, mpeg, from 'Data/CorpusNGT/gloss/CNGT0722_S034.mpg':\n",
      "  Duration: 00:02:30.00, start: 0.187533, bitrate: 1731 kb/s\n",
      "    Stream #0:0[0x1e0]: Video: mpeg1video, yuv420p(tv), 352x288 [SAR 178:163 DAR 1958:1467], 1500 kb/s, 25 fps, 25 tbr, 90k tbn, 25 tbc\n",
      "    Stream #0:1[0x1c0]: Audio: mp2, 48000 Hz, mono, s16p, 192 kb/s\n",
      "At least one output file must be specified\n",
      "\n"
     ]
    },
    {
     "name": "stderr",
     "output_type": "stream",
     "text": [
      " 70%|███████   | 846/1208 [1:59:01<31:39,  5.25s/it]"
     ]
    },
    {
     "name": "stdout",
     "output_type": "stream",
     "text": [
      "Input #0, mpeg, from 'Data/CorpusNGT/gloss/CNGT0723_S033.mpg':\n",
      "  Duration: 00:03:13.00, start: 0.187533, bitrate: 1731 kb/s\n",
      "    Stream #0:0[0x1e0]: Video: mpeg1video, yuv420p(tv), 352x288 [SAR 178:163 DAR 1958:1467], 1500 kb/s, 25 fps, 25 tbr, 90k tbn, 25 tbc\n",
      "    Stream #0:1[0x1c0]: Audio: mp2, 48000 Hz, mono, s16p, 192 kb/s\n",
      "At least one output file must be specified\n",
      "\n"
     ]
    },
    {
     "name": "stderr",
     "output_type": "stream",
     "text": [
      " 70%|███████   | 848/1208 [1:59:29<46:12,  7.70s/it]"
     ]
    },
    {
     "name": "stdout",
     "output_type": "stream",
     "text": [
      "Input #0, mpeg, from 'Data/CorpusNGT/gloss/CNGT0723_S034.mpg':\n",
      "  Duration: 00:03:13.00, start: 0.187533, bitrate: 1731 kb/s\n",
      "    Stream #0:0[0x1e0]: Video: mpeg1video, yuv420p(tv), 352x288 [SAR 178:163 DAR 1958:1467], 1500 kb/s, 25 fps, 25 tbr, 90k tbn, 25 tbc\n",
      "    Stream #0:1[0x1c0]: Audio: mp2, 48000 Hz, mono, s16p, 192 kb/s\n",
      "At least one output file must be specified\n",
      "\n"
     ]
    },
    {
     "name": "stderr",
     "output_type": "stream",
     "text": [
      " 70%|███████   | 850/1208 [1:59:50<50:23,  8.45s/it]"
     ]
    },
    {
     "name": "stdout",
     "output_type": "stream",
     "text": [
      "Input #0, mpeg, from 'Data/CorpusNGT/gloss/CNGT0724_S033.mpg':\n",
      "  Duration: 00:00:38.00, start: 0.187533, bitrate: 1736 kb/s\n",
      "    Stream #0:0[0x1e0]: Video: mpeg1video, yuv420p(tv), 352x288 [SAR 178:163 DAR 1958:1467], 1500 kb/s, 25 fps, 25 tbr, 90k tbn, 25 tbc\n",
      "    Stream #0:1[0x1c0]: Audio: mp2, 48000 Hz, mono, s16p, 192 kb/s\n",
      "At least one output file must be specified\n",
      "\n"
     ]
    },
    {
     "name": "stderr",
     "output_type": "stream",
     "text": [
      " 71%|███████   | 852/1208 [1:59:53<38:27,  6.48s/it]"
     ]
    },
    {
     "name": "stdout",
     "output_type": "stream",
     "text": [
      "Input #0, mpeg, from 'Data/CorpusNGT/gloss/CNGT0724_S034.mpg':\n",
      "  Duration: 00:00:38.00, start: 0.187533, bitrate: 1736 kb/s\n",
      "    Stream #0:0[0x1e0]: Video: mpeg1video, yuv420p(tv), 352x288 [SAR 178:163 DAR 1958:1467], 1500 kb/s, 25 fps, 25 tbr, 90k tbn, 25 tbc\n",
      "    Stream #0:1[0x1c0]: Audio: mp2, 48000 Hz, mono, s16p, 192 kb/s\n",
      "At least one output file must be specified\n",
      "\n"
     ]
    },
    {
     "name": "stderr",
     "output_type": "stream",
     "text": [
      " 71%|███████   | 854/1208 [1:59:59<32:18,  5.48s/it]"
     ]
    },
    {
     "name": "stdout",
     "output_type": "stream",
     "text": [
      "Input #0, mpeg, from 'Data/CorpusNGT/gloss/CNGT0725_S033.mpg':\n",
      "  Duration: 00:00:50.00, start: 0.187533, bitrate: 1735 kb/s\n",
      "    Stream #0:0[0x1e0]: Video: mpeg1video, yuv420p(tv), 352x288 [SAR 178:163 DAR 1958:1467], 1500 kb/s, 25 fps, 25 tbr, 90k tbn, 25 tbc\n",
      "    Stream #0:1[0x1c0]: Audio: mp2, 48000 Hz, mono, s16p, 192 kb/s\n",
      "At least one output file must be specified\n",
      "\n"
     ]
    },
    {
     "name": "stderr",
     "output_type": "stream",
     "text": [
      " 71%|███████   | 856/1208 [2:00:02<25:09,  4.29s/it]"
     ]
    },
    {
     "name": "stdout",
     "output_type": "stream",
     "text": [
      "Input #0, mpeg, from 'Data/CorpusNGT/gloss/CNGT0725_S034.mpg':\n",
      "  Duration: 00:00:50.00, start: 0.187533, bitrate: 1735 kb/s\n",
      "    Stream #0:0[0x1e0]: Video: mpeg1video, yuv420p(tv), 352x288 [SAR 178:163 DAR 1958:1467], 1500 kb/s, 25 fps, 25 tbr, 90k tbn, 25 tbc\n",
      "    Stream #0:1[0x1c0]: Audio: mp2, 48000 Hz, mono, s16p, 192 kb/s\n",
      "At least one output file must be specified\n",
      "\n"
     ]
    },
    {
     "name": "stderr",
     "output_type": "stream",
     "text": [
      " 71%|███████   | 858/1208 [2:00:07<22:13,  3.81s/it]"
     ]
    },
    {
     "name": "stdout",
     "output_type": "stream",
     "text": [
      "Input #0, mpeg, from 'Data/CorpusNGT/gloss/CNGT0726_S033.mpg':\n",
      "  Duration: 00:06:22.00, start: 0.187533, bitrate: 1730 kb/s\n",
      "    Stream #0:0[0x1e0]: Video: mpeg1video, yuv420p(tv), 352x288 [SAR 178:163 DAR 1958:1467], 1500 kb/s, 25 fps, 25 tbr, 90k tbn, 25 tbc\n",
      "    Stream #0:1[0x1c0]: Audio: mp2, 48000 Hz, mono, s16p, 192 kb/s\n",
      "At least one output file must be specified\n",
      "\n"
     ]
    },
    {
     "name": "stderr",
     "output_type": "stream",
     "text": [
      " 71%|███████   | 860/1208 [2:00:43<45:58,  7.93s/it]"
     ]
    },
    {
     "name": "stdout",
     "output_type": "stream",
     "text": [
      "Input #0, mpeg, from 'Data/CorpusNGT/gloss/CNGT0726_S034.mpg':\n",
      "  Duration: 00:06:22.00, start: 0.187533, bitrate: 1730 kb/s\n",
      "    Stream #0:0[0x1e0]: Video: mpeg1video, yuv420p(tv), 352x288 [SAR 178:163 DAR 1958:1467], 1500 kb/s, 25 fps, 25 tbr, 90k tbn, 25 tbc\n",
      "    Stream #0:1[0x1c0]: Audio: mp2, 48000 Hz, mono, s16p, 192 kb/s\n",
      "At least one output file must be specified\n",
      "\n"
     ]
    },
    {
     "name": "stderr",
     "output_type": "stream",
     "text": [
      " 71%|███████▏  | 862/1208 [2:01:34<1:16:14, 13.22s/it]"
     ]
    },
    {
     "name": "stdout",
     "output_type": "stream",
     "text": [
      "Input #0, mpeg, from 'Data/CorpusNGT/gloss/CNGT0747_S037.mpg':\n",
      "  Duration: 00:00:38.00, start: 0.187533, bitrate: 1736 kb/s\n",
      "    Stream #0:0[0x1e0]: Video: mpeg1video, yuv420p(tv), 352x288 [SAR 178:163 DAR 1958:1467], 1500 kb/s, 25 fps, 25 tbr, 90k tbn, 25 tbc\n",
      "    Stream #0:1[0x1c0]: Audio: mp2, 48000 Hz, mono, s16p, 192 kb/s\n",
      "At least one output file must be specified\n",
      "\n"
     ]
    },
    {
     "name": "stderr",
     "output_type": "stream",
     "text": [
      " 72%|███████▏  | 864/1208 [2:01:37<55:32,  9.69s/it]  "
     ]
    },
    {
     "name": "stdout",
     "output_type": "stream",
     "text": [
      "Input #0, mpeg, from 'Data/CorpusNGT/gloss/CNGT0747_S038.mpg':\n",
      "  Duration: 00:00:38.00, start: 0.187533, bitrate: 1736 kb/s\n",
      "    Stream #0:0[0x1e0]: Video: mpeg1video, yuv420p(tv), 352x288 [SAR 178:163 DAR 1958:1467], 1500 kb/s, 25 fps, 25 tbr, 90k tbn, 25 tbc\n",
      "    Stream #0:1[0x1c0]: Audio: mp2, 48000 Hz, mono, s16p, 192 kb/s\n",
      "At least one output file must be specified\n",
      "\n"
     ]
    },
    {
     "name": "stderr",
     "output_type": "stream",
     "text": [
      " 72%|███████▏  | 866/1208 [2:01:40<41:25,  7.27s/it]"
     ]
    },
    {
     "name": "stdout",
     "output_type": "stream",
     "text": [
      "Input #0, mpeg, from 'Data/CorpusNGT/gloss/CNGT0749_S037.mpg':\n",
      "  Duration: 00:00:27.00, start: 0.187533, bitrate: 1738 kb/s\n",
      "    Stream #0:0[0x1e0]: Video: mpeg1video, yuv420p(tv), 352x288 [SAR 178:163 DAR 1958:1467], 1500 kb/s, 25 fps, 25 tbr, 90k tbn, 25 tbc\n",
      "    Stream #0:1[0x1c0]: Audio: mp2, 48000 Hz, mono, s16p, 192 kb/s\n",
      "At least one output file must be specified\n",
      "\n"
     ]
    },
    {
     "name": "stderr",
     "output_type": "stream",
     "text": [
      " 72%|███████▏  | 868/1208 [2:01:42<30:16,  5.34s/it]"
     ]
    },
    {
     "name": "stdout",
     "output_type": "stream",
     "text": [
      "Input #0, mpeg, from 'Data/CorpusNGT/gloss/CNGT0749_S038.mpg':\n",
      "  Duration: 00:00:27.00, start: 0.187533, bitrate: 1738 kb/s\n",
      "    Stream #0:0[0x1e0]: Video: mpeg1video, yuv420p(tv), 352x288 [SAR 178:163 DAR 1958:1467], 1500 kb/s, 25 fps, 25 tbr, 90k tbn, 25 tbc\n",
      "    Stream #0:1[0x1c0]: Audio: mp2, 48000 Hz, mono, s16p, 192 kb/s\n",
      "At least one output file must be specified\n",
      "\n"
     ]
    },
    {
     "name": "stderr",
     "output_type": "stream",
     "text": [
      " 72%|███████▏  | 870/1208 [2:01:43<22:06,  3.93s/it]"
     ]
    },
    {
     "name": "stdout",
     "output_type": "stream",
     "text": [
      "Input #0, mpeg, from 'Data/CorpusNGT/gloss/CNGT0752_S037.mpg':\n",
      "  Duration: 00:00:22.00, start: 0.187533, bitrate: 1740 kb/s\n",
      "    Stream #0:0[0x1e0]: Video: mpeg1video, yuv420p(tv), 352x288 [SAR 178:163 DAR 1958:1467], 1500 kb/s, 25 fps, 25 tbr, 90k tbn, 25 tbc\n",
      "    Stream #0:1[0x1c0]: Audio: mp2, 48000 Hz, mono, s16p, 192 kb/s\n",
      "At least one output file must be specified\n",
      "\n"
     ]
    },
    {
     "name": "stderr",
     "output_type": "stream",
     "text": [
      " 72%|███████▏  | 872/1208 [2:01:45<16:58,  3.03s/it]"
     ]
    },
    {
     "name": "stdout",
     "output_type": "stream",
     "text": [
      "Input #0, mpeg, from 'Data/CorpusNGT/gloss/CNGT0752_S038.mpg':\n",
      "  Duration: 00:00:22.00, start: 0.187533, bitrate: 1740 kb/s\n",
      "    Stream #0:0[0x1e0]: Video: mpeg1video, yuv420p(tv), 352x288 [SAR 178:163 DAR 1958:1467], 1500 kb/s, 25 fps, 25 tbr, 90k tbn, 25 tbc\n",
      "    Stream #0:1[0x1c0]: Audio: mp2, 48000 Hz, mono, s16p, 192 kb/s\n",
      "At least one output file must be specified\n",
      "\n"
     ]
    },
    {
     "name": "stderr",
     "output_type": "stream",
     "text": [
      " 72%|███████▏  | 874/1208 [2:01:46<12:42,  2.28s/it]"
     ]
    },
    {
     "name": "stdout",
     "output_type": "stream",
     "text": [
      "Input #0, mpeg, from 'Data/CorpusNGT/gloss/CNGT0764_S037.mpg':\n",
      "  Duration: 00:01:47.00, start: 0.187533, bitrate: 1732 kb/s\n",
      "    Stream #0:0[0x1e0]: Video: mpeg1video, yuv420p(tv), 352x288 [SAR 178:163 DAR 1958:1467], 1500 kb/s, 25 fps, 25 tbr, 90k tbn, 25 tbc\n",
      "    Stream #0:1[0x1c0]: Audio: mp2, 48000 Hz, mono, s16p, 192 kb/s\n",
      "At least one output file must be specified\n",
      "\n"
     ]
    },
    {
     "name": "stderr",
     "output_type": "stream",
     "text": [
      " 73%|███████▎  | 876/1208 [2:01:50<12:29,  2.26s/it]"
     ]
    },
    {
     "name": "stdout",
     "output_type": "stream",
     "text": [
      "Input #0, mpeg, from 'Data/CorpusNGT/gloss/CNGT0764_S038.mpg':\n",
      "  Duration: 00:01:47.00, start: 0.187533, bitrate: 1732 kb/s\n",
      "    Stream #0:0[0x1e0]: Video: mpeg1video, yuv420p(tv), 352x288 [SAR 178:163 DAR 1958:1467], 1500 kb/s, 25 fps, 25 tbr, 90k tbn, 25 tbc\n",
      "    Stream #0:1[0x1c0]: Audio: mp2, 48000 Hz, mono, s16p, 192 kb/s\n",
      "At least one output file must be specified\n",
      "\n"
     ]
    },
    {
     "name": "stderr",
     "output_type": "stream",
     "text": [
      " 73%|███████▎  | 878/1208 [2:02:08<23:28,  4.27s/it]"
     ]
    },
    {
     "name": "stdout",
     "output_type": "stream",
     "text": [
      "Input #0, mpeg, from 'Data/CorpusNGT/gloss/CNGT0765_S037.mpg':\n",
      "  Duration: 00:02:27.00, start: 0.187533, bitrate: 1731 kb/s\n",
      "    Stream #0:0[0x1e0]: Video: mpeg1video, yuv420p(tv), 352x288 [SAR 178:163 DAR 1958:1467], 1500 kb/s, 25 fps, 25 tbr, 90k tbn, 25 tbc\n",
      "    Stream #0:1[0x1c0]: Audio: mp2, 48000 Hz, mono, s16p, 192 kb/s\n",
      "At least one output file must be specified\n",
      "\n"
     ]
    },
    {
     "name": "stderr",
     "output_type": "stream",
     "text": [
      " 73%|███████▎  | 880/1208 [2:02:21<26:51,  4.91s/it]"
     ]
    },
    {
     "name": "stdout",
     "output_type": "stream",
     "text": [
      "Input #0, mpeg, from 'Data/CorpusNGT/gloss/CNGT0765_S038.mpg':\n",
      "  Duration: 00:02:27.00, start: 0.187533, bitrate: 1731 kb/s\n",
      "    Stream #0:0[0x1e0]: Video: mpeg1video, yuv420p(tv), 352x288 [SAR 178:163 DAR 1958:1467], 1500 kb/s, 25 fps, 25 tbr, 90k tbn, 25 tbc\n",
      "    Stream #0:1[0x1c0]: Audio: mp2, 48000 Hz, mono, s16p, 192 kb/s\n",
      "At least one output file must be specified\n",
      "\n"
     ]
    },
    {
     "name": "stderr",
     "output_type": "stream",
     "text": [
      " 73%|███████▎  | 882/1208 [2:02:42<35:48,  6.59s/it]"
     ]
    },
    {
     "name": "stdout",
     "output_type": "stream",
     "text": [
      "Input #0, mpeg, from 'Data/CorpusNGT/gloss/CNGT0766_S037.mpg':\n",
      "  Duration: 00:04:13.00, start: 0.187533, bitrate: 1730 kb/s\n",
      "    Stream #0:0[0x1e0]: Video: mpeg1video, yuv420p(tv), 352x288 [SAR 178:163 DAR 1958:1467], 1500 kb/s, 25 fps, 25 tbr, 90k tbn, 25 tbc\n",
      "    Stream #0:1[0x1c0]: Audio: mp2, 48000 Hz, mono, s16p, 192 kb/s\n",
      "At least one output file must be specified\n",
      "\n"
     ]
    },
    {
     "name": "stderr",
     "output_type": "stream",
     "text": [
      " 73%|███████▎  | 884/1208 [2:02:54<34:38,  6.41s/it]"
     ]
    },
    {
     "name": "stdout",
     "output_type": "stream",
     "text": [
      "Input #0, mpeg, from 'Data/CorpusNGT/gloss/CNGT0766_S038.mpg':\n",
      "  Duration: 00:04:13.00, start: 0.187533, bitrate: 1730 kb/s\n",
      "    Stream #0:0[0x1e0]: Video: mpeg1video, yuv420p(tv), 352x288 [SAR 178:163 DAR 1958:1467], 1500 kb/s, 25 fps, 25 tbr, 90k tbn, 25 tbc\n",
      "    Stream #0:1[0x1c0]: Audio: mp2, 48000 Hz, mono, s16p, 192 kb/s\n",
      "At least one output file must be specified\n",
      "\n"
     ]
    },
    {
     "name": "stderr",
     "output_type": "stream",
     "text": [
      " 73%|███████▎  | 886/1208 [2:03:33<55:48, 10.40s/it]"
     ]
    },
    {
     "name": "stdout",
     "output_type": "stream",
     "text": [
      "Input #0, mpeg, from 'Data/CorpusNGT/gloss/CNGT0767_S038.mpg':\n",
      "  Duration: 00:04:17.00, start: 0.187533, bitrate: 1730 kb/s\n",
      "    Stream #0:0[0x1e0]: Video: mpeg1video, yuv420p(tv), 352x288 [SAR 178:163 DAR 1958:1467], 1500 kb/s, 25 fps, 25 tbr, 90k tbn, 25 tbc\n",
      "    Stream #0:1[0x1c0]: Audio: mp2, 48000 Hz, mono, s16p, 192 kb/s\n",
      "At least one output file must be specified\n",
      "\n"
     ]
    },
    {
     "name": "stderr",
     "output_type": "stream",
     "text": [
      " 74%|███████▎  | 888/1208 [2:03:54<55:03, 10.32s/it]"
     ]
    },
    {
     "name": "stdout",
     "output_type": "stream",
     "text": [
      "Input #0, mpeg, from 'Data/CorpusNGT/gloss/CNGT0805_S035.mpg':\n",
      "  Duration: 00:04:00.00, start: 0.187533, bitrate: 1730 kb/s\n",
      "    Stream #0:0[0x1e0]: Video: mpeg1video, yuv420p(tv), 352x288 [SAR 178:163 DAR 1958:1467], 1500 kb/s, 25 fps, 25 tbr, 90k tbn, 25 tbc\n",
      "    Stream #0:1[0x1c0]: Audio: mp2, 48000 Hz, mono, s16p, 192 kb/s\n",
      "At least one output file must be specified\n",
      "\n"
     ]
    },
    {
     "name": "stderr",
     "output_type": "stream",
     "text": [
      " 74%|███████▎  | 890/1208 [2:04:31<1:08:17, 12.89s/it]"
     ]
    },
    {
     "name": "stdout",
     "output_type": "stream",
     "text": [
      "Input #0, mpeg, from 'Data/CorpusNGT/gloss/CNGT0806_S035.mpg':\n",
      "  Duration: 00:01:37.00, start: 0.187533, bitrate: 1732 kb/s\n",
      "    Stream #0:0[0x1e0]: Video: mpeg1video, yuv420p(tv), 352x288 [SAR 178:163 DAR 1958:1467], 1500 kb/s, 25 fps, 25 tbr, 90k tbn, 25 tbc\n",
      "    Stream #0:1[0x1c0]: Audio: mp2, 48000 Hz, mono, s16p, 192 kb/s\n",
      "At least one output file must be specified\n",
      "\n"
     ]
    },
    {
     "name": "stderr",
     "output_type": "stream",
     "text": [
      " 74%|███████▍  | 892/1208 [2:04:46<58:48, 11.17s/it]  "
     ]
    },
    {
     "name": "stdout",
     "output_type": "stream",
     "text": [
      "Input #0, mpeg, from 'Data/CorpusNGT/gloss/CNGT0814_S035.mpg':\n",
      "  Duration: 00:04:16.00, start: 0.187533, bitrate: 1730 kb/s\n",
      "    Stream #0:0[0x1e0]: Video: mpeg1video, yuv420p(tv), 352x288 [SAR 178:163 DAR 1958:1467], 1500 kb/s, 25 fps, 25 tbr, 90k tbn, 25 tbc\n",
      "    Stream #0:1[0x1c0]: Audio: mp2, 48000 Hz, mono, s16p, 192 kb/s\n",
      "At least one output file must be specified\n",
      "\n"
     ]
    },
    {
     "name": "stderr",
     "output_type": "stream",
     "text": [
      " 74%|███████▍  | 894/1208 [2:05:21<1:08:18, 13.05s/it]"
     ]
    },
    {
     "name": "stdout",
     "output_type": "stream",
     "text": [
      "Input #0, mpeg, from 'Data/CorpusNGT/gloss/CNGT0814_S036.mpg':\n",
      "  Duration: 00:04:16.00, start: 0.187533, bitrate: 1730 kb/s\n",
      "    Stream #0:0[0x1e0]: Video: mpeg1video, yuv420p(tv), 352x288 [SAR 178:163 DAR 1958:1467], 1500 kb/s, 25 fps, 25 tbr, 90k tbn, 25 tbc\n",
      "    Stream #0:1[0x1c0]: Audio: mp2, 48000 Hz, mono, s16p, 192 kb/s\n",
      "At least one output file must be specified\n",
      "\n"
     ]
    },
    {
     "name": "stderr",
     "output_type": "stream",
     "text": [
      " 74%|███████▍  | 896/1208 [2:05:29<54:14, 10.43s/it]  "
     ]
    },
    {
     "name": "stdout",
     "output_type": "stream",
     "text": [
      "Input #0, mpeg, from 'Data/CorpusNGT/gloss/CNGT0821_S035.mpg':\n",
      "  Duration: 00:06:15.00, start: 0.187533, bitrate: 1730 kb/s\n",
      "    Stream #0:0[0x1e0]: Video: mpeg1video, yuv420p(tv), 352x288 [SAR 178:163 DAR 1958:1467], 1500 kb/s, 25 fps, 25 tbr, 90k tbn, 25 tbc\n",
      "    Stream #0:1[0x1c0]: Audio: mp2, 48000 Hz, mono, s16p, 192 kb/s\n",
      "At least one output file must be specified\n",
      "\n"
     ]
    },
    {
     "name": "stderr",
     "output_type": "stream",
     "text": [
      " 74%|███████▍  | 898/1208 [2:06:10<1:09:34, 13.47s/it]"
     ]
    },
    {
     "name": "stdout",
     "output_type": "stream",
     "text": [
      "Input #0, mpeg, from 'Data/CorpusNGT/gloss/CNGT0821_S036.mpg':\n",
      "  Duration: 00:06:15.00, start: 0.187533, bitrate: 1730 kb/s\n",
      "    Stream #0:0[0x1e0]: Video: mpeg1video, yuv420p(tv), 352x288 [SAR 178:163 DAR 1958:1467], 1500 kb/s, 25 fps, 25 tbr, 90k tbn, 25 tbc\n",
      "    Stream #0:1[0x1c0]: Audio: mp2, 48000 Hz, mono, s16p, 192 kb/s\n",
      "At least one output file must be specified\n",
      "\n"
     ]
    },
    {
     "name": "stderr",
     "output_type": "stream",
     "text": [
      " 75%|███████▍  | 900/1208 [2:06:39<1:10:05, 13.65s/it]"
     ]
    },
    {
     "name": "stdout",
     "output_type": "stream",
     "text": [
      "Input #0, mpeg, from 'Data/CorpusNGT/gloss/CNGT0822_S035.mpg':\n",
      "  Duration: 00:05:02.00, start: 0.187533, bitrate: 1730 kb/s\n",
      "    Stream #0:0[0x1e0]: Video: mpeg1video, yuv420p(tv), 352x288 [SAR 178:163 DAR 1958:1467], 1500 kb/s, 25 fps, 25 tbr, 90k tbn, 25 tbc\n",
      "    Stream #0:1[0x1c0]: Audio: mp2, 48000 Hz, mono, s16p, 192 kb/s\n",
      "At least one output file must be specified\n",
      "\n"
     ]
    },
    {
     "name": "stderr",
     "output_type": "stream",
     "text": [
      " 75%|███████▍  | 902/1208 [2:07:03<1:07:04, 13.15s/it]"
     ]
    },
    {
     "name": "stdout",
     "output_type": "stream",
     "text": [
      "Input #0, mpeg, from 'Data/CorpusNGT/gloss/CNGT0822_S036.mpg':\n",
      "  Duration: 00:05:02.00, start: 0.187533, bitrate: 1730 kb/s\n",
      "    Stream #0:0[0x1e0]: Video: mpeg1video, yuv420p(tv), 352x288 [SAR 178:163 DAR 1958:1467], 1500 kb/s, 25 fps, 25 tbr, 90k tbn, 25 tbc\n",
      "    Stream #0:1[0x1c0]: Audio: mp2, 48000 Hz, mono, s16p, 192 kb/s\n",
      "At least one output file must be specified\n",
      "\n"
     ]
    },
    {
     "name": "stderr",
     "output_type": "stream",
     "text": [
      " 75%|███████▍  | 904/1208 [2:07:41<1:15:52, 14.98s/it]"
     ]
    },
    {
     "name": "stdout",
     "output_type": "stream",
     "text": [
      "Input #0, mpeg, from 'Data/CorpusNGT/gloss/CNGT0823_S035.mpg':\n",
      "  Duration: 00:03:32.00, start: 0.187533, bitrate: 1731 kb/s\n",
      "    Stream #0:0[0x1e0]: Video: mpeg1video, yuv420p(tv), 352x288 [SAR 178:163 DAR 1958:1467], 1500 kb/s, 25 fps, 25 tbr, 90k tbn, 25 tbc\n",
      "    Stream #0:1[0x1c0]: Audio: mp2, 48000 Hz, mono, s16p, 192 kb/s\n",
      "At least one output file must be specified\n",
      "\n"
     ]
    },
    {
     "name": "stderr",
     "output_type": "stream",
     "text": [
      " 75%|███████▌  | 906/1208 [2:08:11<1:15:11, 14.94s/it]"
     ]
    },
    {
     "name": "stdout",
     "output_type": "stream",
     "text": [
      "Input #0, mpeg, from 'Data/CorpusNGT/gloss/CNGT0823_S036.mpg':\n",
      "  Duration: 00:03:32.00, start: 0.187533, bitrate: 1731 kb/s\n",
      "    Stream #0:0[0x1e0]: Video: mpeg1video, yuv420p(tv), 352x288 [SAR 178:163 DAR 1958:1467], 1500 kb/s, 25 fps, 25 tbr, 90k tbn, 25 tbc\n",
      "    Stream #0:1[0x1c0]: Audio: mp2, 48000 Hz, mono, s16p, 192 kb/s\n",
      "At least one output file must be specified\n",
      "\n"
     ]
    },
    {
     "name": "stderr",
     "output_type": "stream",
     "text": [
      " 75%|███████▌  | 910/1208 [2:08:14<38:16,  7.71s/it]  "
     ]
    },
    {
     "name": "stdout",
     "output_type": "stream",
     "text": [
      "Input #0, mpeg, from 'Data/CorpusNGT/gloss/CNGT0824_S035.mpg':\n",
      "  Duration: 00:02:34.00, start: 0.187533, bitrate: 1731 kb/s\n",
      "    Stream #0:0[0x1e0]: Video: mpeg1video, yuv420p(tv), 352x288 [SAR 178:163 DAR 1958:1467], 1500 kb/s, 25 fps, 25 tbr, 90k tbn, 25 tbc\n",
      "    Stream #0:1[0x1c0]: Audio: mp2, 48000 Hz, mono, s16p, 192 kb/s\n",
      "At least one output file must be specified\n",
      "\n",
      "Input #0, mpeg, from 'Data/CorpusNGT/gloss/CNGT0824_S036.mpg':\n",
      "  Duration: 00:02:34.00, start: 0.187533, bitrate: 1731 kb/s\n",
      "    Stream #0:0[0x1e0]: Video: mpeg1video, yuv420p(tv), 352x288 [SAR 178:163 DAR 1958:1467], 1500 kb/s, 25 fps, 25 tbr, 90k tbn, 25 tbc\n",
      "    Stream #0:1[0x1c0]: Audio: mp2, 48000 Hz, mono, s16p, 192 kb/s\n",
      "At least one output file must be specified\n",
      "\n"
     ]
    },
    {
     "name": "stderr",
     "output_type": "stream",
     "text": [
      " 75%|███████▌  | 912/1208 [2:08:20<31:10,  6.32s/it]"
     ]
    },
    {
     "name": "stdout",
     "output_type": "stream",
     "text": [
      "Input #0, mpeg, from 'Data/CorpusNGT/gloss/CNGT0831_S039.mpg':\n",
      "  Duration: 00:00:47.00, start: 0.187533, bitrate: 1734 kb/s\n",
      "    Stream #0:0[0x1e0]: Video: mpeg1video, yuv420p(tv), 352x288 [SAR 178:163 DAR 1958:1467], 1500 kb/s, 25 fps, 25 tbr, 90k tbn, 25 tbc\n",
      "    Stream #0:1[0x1c0]: Audio: mp2, 48000 Hz, mono, s16p, 192 kb/s\n",
      "At least one output file must be specified\n",
      "\n"
     ]
    },
    {
     "name": "stderr",
     "output_type": "stream",
     "text": [
      " 76%|███████▌  | 914/1208 [2:08:22<22:48,  4.65s/it]"
     ]
    },
    {
     "name": "stdout",
     "output_type": "stream",
     "text": [
      "Input #0, mpeg, from 'Data/CorpusNGT/gloss/CNGT0831_S040.mpg':\n",
      "  Duration: 00:00:47.00, start: 0.187533, bitrate: 1734 kb/s\n",
      "    Stream #0:0[0x1e0]: Video: mpeg1video, yuv420p(tv), 352x288 [SAR 178:163 DAR 1958:1467], 1500 kb/s, 25 fps, 25 tbr, 90k tbn, 25 tbc\n",
      "    Stream #0:1[0x1c0]: Audio: mp2, 48000 Hz, mono, s16p, 192 kb/s\n",
      "At least one output file must be specified\n",
      "\n"
     ]
    },
    {
     "name": "stderr",
     "output_type": "stream",
     "text": [
      " 76%|███████▌  | 916/1208 [2:08:26<18:44,  3.85s/it]"
     ]
    },
    {
     "name": "stdout",
     "output_type": "stream",
     "text": [
      "Input #0, mpeg, from 'Data/CorpusNGT/gloss/CNGT0838_S039.mpg':\n",
      "  Duration: 00:02:29.00, start: 0.187533, bitrate: 1731 kb/s\n",
      "    Stream #0:0[0x1e0]: Video: mpeg1video, yuv420p(tv), 352x288 [SAR 178:163 DAR 1958:1467], 1500 kb/s, 25 fps, 25 tbr, 90k tbn, 25 tbc\n",
      "    Stream #0:1[0x1c0]: Audio: mp2, 48000 Hz, mono, s16p, 192 kb/s\n",
      "At least one output file must be specified\n",
      "\n"
     ]
    },
    {
     "name": "stderr",
     "output_type": "stream",
     "text": [
      " 76%|███████▌  | 918/1208 [2:08:27<13:58,  2.89s/it]"
     ]
    },
    {
     "name": "stdout",
     "output_type": "stream",
     "text": [
      "Input #0, mpeg, from 'Data/CorpusNGT/gloss/CNGT0838_S040.mpg':\n",
      "  Duration: 00:02:29.00, start: 0.187533, bitrate: 1731 kb/s\n",
      "    Stream #0:0[0x1e0]: Video: mpeg1video, yuv420p(tv), 352x288 [SAR 178:163 DAR 1958:1467], 1500 kb/s, 25 fps, 25 tbr, 90k tbn, 25 tbc\n",
      "    Stream #0:1[0x1c0]: Audio: mp2, 48000 Hz, mono, s16p, 192 kb/s\n",
      "At least one output file must be specified\n",
      "\n"
     ]
    },
    {
     "name": "stderr",
     "output_type": "stream",
     "text": [
      " 76%|███████▌  | 920/1208 [2:08:43<21:16,  4.43s/it]"
     ]
    },
    {
     "name": "stdout",
     "output_type": "stream",
     "text": [
      "Input #0, mpeg, from 'Data/CorpusNGT/gloss/CNGT0841_S040.mpg':\n",
      "  Duration: 00:01:07.00, start: 0.187533, bitrate: 1733 kb/s\n",
      "    Stream #0:0[0x1e0]: Video: mpeg1video, yuv420p(tv), 352x288 [SAR 178:163 DAR 1958:1467], 1500 kb/s, 25 fps, 25 tbr, 90k tbn, 25 tbc\n",
      "    Stream #0:1[0x1c0]: Audio: mp2, 48000 Hz, mono, s16p, 192 kb/s\n",
      "At least one output file must be specified\n",
      "\n"
     ]
    },
    {
     "name": "stderr",
     "output_type": "stream",
     "text": [
      " 76%|███████▋  | 922/1208 [2:08:51<20:15,  4.25s/it]"
     ]
    },
    {
     "name": "stdout",
     "output_type": "stream",
     "text": [
      "Input #0, mpeg, from 'Data/CorpusNGT/gloss/CNGT0843_S040.mpg':\n",
      "  Duration: 00:02:01.00, start: 0.187533, bitrate: 1732 kb/s\n",
      "    Stream #0:0[0x1e0]: Video: mpeg1video, yuv420p(tv), 352x288 [SAR 178:163 DAR 1958:1467], 1500 kb/s, 25 fps, 25 tbr, 90k tbn, 25 tbc\n",
      "    Stream #0:1[0x1c0]: Audio: mp2, 48000 Hz, mono, s16p, 192 kb/s\n",
      "At least one output file must be specified\n",
      "\n"
     ]
    },
    {
     "name": "stderr",
     "output_type": "stream",
     "text": [
      " 76%|███████▋  | 924/1208 [2:09:06<24:33,  5.19s/it]"
     ]
    },
    {
     "name": "stdout",
     "output_type": "stream",
     "text": [
      "Input #0, mpeg, from 'Data/CorpusNGT/gloss/CNGT0845_S040.mpg':\n",
      "  Duration: 00:00:46.00, start: 0.187533, bitrate: 1735 kb/s\n",
      "    Stream #0:0[0x1e0]: Video: mpeg1video, yuv420p(tv), 352x288 [SAR 178:163 DAR 1958:1467], 1500 kb/s, 25 fps, 25 tbr, 90k tbn, 25 tbc\n",
      "    Stream #0:1[0x1c0]: Audio: mp2, 48000 Hz, mono, s16p, 192 kb/s\n",
      "At least one output file must be specified\n",
      "\n"
     ]
    },
    {
     "name": "stderr",
     "output_type": "stream",
     "text": [
      " 77%|███████▋  | 926/1208 [2:09:10<20:22,  4.33s/it]"
     ]
    },
    {
     "name": "stdout",
     "output_type": "stream",
     "text": [
      "Input #0, mpeg, from 'Data/CorpusNGT/gloss/CNGT0847_S039.mpg':\n",
      "  Duration: 00:02:07.00, start: 0.187533, bitrate: 1731 kb/s\n",
      "    Stream #0:0[0x1e0]: Video: mpeg1video, yuv420p(tv), 352x288 [SAR 178:163 DAR 1958:1467], 1500 kb/s, 25 fps, 25 tbr, 90k tbn, 25 tbc\n",
      "    Stream #0:1[0x1c0]: Audio: mp2, 48000 Hz, mono, s16p, 192 kb/s\n",
      "At least one output file must be specified\n",
      "\n"
     ]
    },
    {
     "name": "stderr",
     "output_type": "stream",
     "text": [
      " 77%|███████▋  | 930/1208 [2:09:31<20:06,  4.34s/it]"
     ]
    },
    {
     "name": "stdout",
     "output_type": "stream",
     "text": [
      "Input #0, mpeg, from 'Data/CorpusNGT/gloss/CNGT0847_S040.mpg':\n",
      "  Duration: 00:02:07.00, start: 0.187533, bitrate: 1731 kb/s\n",
      "    Stream #0:0[0x1e0]: Video: mpeg1video, yuv420p(tv), 352x288 [SAR 178:163 DAR 1958:1467], 1500 kb/s, 25 fps, 25 tbr, 90k tbn, 25 tbc\n",
      "    Stream #0:1[0x1c0]: Audio: mp2, 48000 Hz, mono, s16p, 192 kb/s\n",
      "At least one output file must be specified\n",
      "\n",
      "Input #0, mpeg, from 'Data/CorpusNGT/gloss/CNGT0848_S039.mpg':\n",
      "  Duration: 00:01:23.00, start: 0.187533, bitrate: 1732 kb/s\n",
      "    Stream #0:0[0x1e0]: Video: mpeg1video, yuv420p(tv), 352x288 [SAR 178:163 DAR 1958:1467], 1500 kb/s, 25 fps, 25 tbr, 90k tbn, 25 tbc\n",
      "    Stream #0:1[0x1c0]: Audio: mp2, 48000 Hz, mono, s16p, 192 kb/s\n",
      "At least one output file must be specified\n",
      "\n"
     ]
    },
    {
     "name": "stderr",
     "output_type": "stream",
     "text": [
      " 77%|███████▋  | 932/1208 [2:09:32<14:37,  3.18s/it]"
     ]
    },
    {
     "name": "stdout",
     "output_type": "stream",
     "text": [
      "Input #0, mpeg, from 'Data/CorpusNGT/gloss/CNGT0848_S040.mpg':\n",
      "  Duration: 00:01:23.00, start: 0.187533, bitrate: 1732 kb/s\n",
      "    Stream #0:0[0x1e0]: Video: mpeg1video, yuv420p(tv), 352x288 [SAR 178:163 DAR 1958:1467], 1500 kb/s, 25 fps, 25 tbr, 90k tbn, 25 tbc\n",
      "    Stream #0:1[0x1c0]: Audio: mp2, 48000 Hz, mono, s16p, 192 kb/s\n",
      "At least one output file must be specified\n",
      "\n"
     ]
    },
    {
     "name": "stderr",
     "output_type": "stream",
     "text": [
      " 77%|███████▋  | 934/1208 [2:09:44<18:21,  4.02s/it]"
     ]
    },
    {
     "name": "stdout",
     "output_type": "stream",
     "text": [
      "Input #0, mpeg, from 'Data/CorpusNGT/gloss/CNGT0857_S039.mpg':\n",
      "  Duration: 00:02:35.00, start: 0.187533, bitrate: 1731 kb/s\n",
      "    Stream #0:0[0x1e0]: Video: mpeg1video, yuv420p(tv), 352x288 [SAR 178:163 DAR 1958:1467], 1500 kb/s, 25 fps, 25 tbr, 90k tbn, 25 tbc\n",
      "    Stream #0:1[0x1c0]: Audio: mp2, 48000 Hz, mono, s16p, 192 kb/s\n",
      "At least one output file must be specified\n",
      "\n"
     ]
    },
    {
     "name": "stderr",
     "output_type": "stream",
     "text": [
      " 77%|███████▋  | 936/1208 [2:09:59<22:39,  5.00s/it]"
     ]
    },
    {
     "name": "stdout",
     "output_type": "stream",
     "text": [
      "Input #0, mpeg, from 'Data/CorpusNGT/gloss/CNGT0857_S040.mpg':\n",
      "  Duration: 00:02:35.00, start: 0.187533, bitrate: 1731 kb/s\n",
      "    Stream #0:0[0x1e0]: Video: mpeg1video, yuv420p(tv), 352x288 [SAR 178:163 DAR 1958:1467], 1500 kb/s, 25 fps, 25 tbr, 90k tbn, 25 tbc\n",
      "    Stream #0:1[0x1c0]: Audio: mp2, 48000 Hz, mono, s16p, 192 kb/s\n",
      "At least one output file must be specified\n",
      "\n"
     ]
    },
    {
     "name": "stderr",
     "output_type": "stream",
     "text": [
      " 78%|███████▊  | 938/1208 [2:10:12<24:44,  5.50s/it]"
     ]
    },
    {
     "name": "stdout",
     "output_type": "stream",
     "text": [
      "Input #0, mpeg, from 'Data/CorpusNGT/gloss/CNGT0858_S039.mpg':\n",
      "  Duration: 00:01:47.00, start: 0.187533, bitrate: 1732 kb/s\n",
      "    Stream #0:0[0x1e0]: Video: mpeg1video, yuv420p(tv), 352x288 [SAR 178:163 DAR 1958:1467], 1500 kb/s, 25 fps, 25 tbr, 90k tbn, 25 tbc\n",
      "    Stream #0:1[0x1c0]: Audio: mp2, 48000 Hz, mono, s16p, 192 kb/s\n",
      "At least one output file must be specified\n",
      "\n"
     ]
    },
    {
     "name": "stderr",
     "output_type": "stream",
     "text": [
      " 78%|███████▊  | 940/1208 [2:10:25<25:56,  5.81s/it]"
     ]
    },
    {
     "name": "stdout",
     "output_type": "stream",
     "text": [
      "Input #0, mpeg, from 'Data/CorpusNGT/gloss/CNGT0858_S040.mpg':\n",
      "  Duration: 00:01:47.00, start: 0.187533, bitrate: 1732 kb/s\n",
      "    Stream #0:0[0x1e0]: Video: mpeg1video, yuv420p(tv), 352x288 [SAR 178:163 DAR 1958:1467], 1500 kb/s, 25 fps, 25 tbr, 90k tbn, 25 tbc\n",
      "    Stream #0:1[0x1c0]: Audio: mp2, 48000 Hz, mono, s16p, 192 kb/s\n",
      "At least one output file must be specified\n",
      "\n"
     ]
    },
    {
     "name": "stderr",
     "output_type": "stream",
     "text": [
      " 78%|███████▊  | 942/1208 [2:10:34<23:57,  5.40s/it]"
     ]
    },
    {
     "name": "stdout",
     "output_type": "stream",
     "text": [
      "Input #0, mpeg, from 'Data/CorpusNGT/gloss/CNGT0859_S039.mpg':\n",
      "  Duration: 00:01:27.00, start: 0.187533, bitrate: 1732 kb/s\n",
      "    Stream #0:0[0x1e0]: Video: mpeg1video, yuv420p(tv), 352x288 [SAR 178:163 DAR 1958:1467], 1500 kb/s, 25 fps, 25 tbr, 90k tbn, 25 tbc\n",
      "    Stream #0:1[0x1c0]: Audio: mp2, 48000 Hz, mono, s16p, 192 kb/s\n",
      "At least one output file must be specified\n",
      "\n"
     ]
    },
    {
     "name": "stderr",
     "output_type": "stream",
     "text": [
      " 78%|███████▊  | 944/1208 [2:10:43<22:43,  5.17s/it]"
     ]
    },
    {
     "name": "stdout",
     "output_type": "stream",
     "text": [
      "Input #0, mpeg, from 'Data/CorpusNGT/gloss/CNGT0859_S040.mpg':\n",
      "  Duration: 00:01:27.00, start: 0.187533, bitrate: 1732 kb/s\n",
      "    Stream #0:0[0x1e0]: Video: mpeg1video, yuv420p(tv), 352x288 [SAR 178:163 DAR 1958:1467], 1500 kb/s, 25 fps, 25 tbr, 90k tbn, 25 tbc\n",
      "    Stream #0:1[0x1c0]: Audio: mp2, 48000 Hz, mono, s16p, 192 kb/s\n",
      "At least one output file must be specified\n",
      "\n"
     ]
    },
    {
     "name": "stderr",
     "output_type": "stream",
     "text": [
      " 78%|███████▊  | 946/1208 [2:10:50<19:53,  4.55s/it]"
     ]
    },
    {
     "name": "stdout",
     "output_type": "stream",
     "text": [
      "Input #0, mpeg, from 'Data/CorpusNGT/gloss/CNGT0860_S039.mpg':\n",
      "  Duration: 00:01:33.00, start: 0.187533, bitrate: 1732 kb/s\n",
      "    Stream #0:0[0x1e0]: Video: mpeg1video, yuv420p(tv), 352x288 [SAR 178:163 DAR 1958:1467], 1500 kb/s, 25 fps, 25 tbr, 90k tbn, 25 tbc\n",
      "    Stream #0:1[0x1c0]: Audio: mp2, 48000 Hz, mono, s16p, 192 kb/s\n",
      "At least one output file must be specified\n",
      "\n"
     ]
    },
    {
     "name": "stderr",
     "output_type": "stream",
     "text": [
      " 78%|███████▊  | 948/1208 [2:10:58<19:16,  4.45s/it]"
     ]
    },
    {
     "name": "stdout",
     "output_type": "stream",
     "text": [
      "Input #0, mpeg, from 'Data/CorpusNGT/gloss/CNGT0860_S040.mpg':\n",
      "  Duration: 00:01:33.00, start: 0.187533, bitrate: 1732 kb/s\n",
      "    Stream #0:0[0x1e0]: Video: mpeg1video, yuv420p(tv), 352x288 [SAR 178:163 DAR 1958:1467], 1500 kb/s, 25 fps, 25 tbr, 90k tbn, 25 tbc\n",
      "    Stream #0:1[0x1c0]: Audio: mp2, 48000 Hz, mono, s16p, 192 kb/s\n",
      "At least one output file must be specified\n",
      "\n"
     ]
    },
    {
     "name": "stderr",
     "output_type": "stream",
     "text": [
      " 79%|███████▊  | 950/1208 [2:11:08<19:36,  4.56s/it]"
     ]
    },
    {
     "name": "stdout",
     "output_type": "stream",
     "text": [
      "Input #0, mpeg, from 'Data/CorpusNGT/gloss/CNGT0861_S039.mpg':\n",
      "  Duration: 00:03:08.00, start: 0.187533, bitrate: 1731 kb/s\n",
      "    Stream #0:0[0x1e0]: Video: mpeg1video, yuv420p(tv), 352x288 [SAR 178:163 DAR 1958:1467], 1500 kb/s, 25 fps, 25 tbr, 90k tbn, 25 tbc\n",
      "    Stream #0:1[0x1c0]: Audio: mp2, 48000 Hz, mono, s16p, 192 kb/s\n",
      "At least one output file must be specified\n",
      "\n"
     ]
    },
    {
     "name": "stderr",
     "output_type": "stream",
     "text": [
      " 79%|███████▉  | 952/1208 [2:11:24<23:47,  5.58s/it]"
     ]
    },
    {
     "name": "stdout",
     "output_type": "stream",
     "text": [
      "Input #0, mpeg, from 'Data/CorpusNGT/gloss/CNGT0861_S040.mpg':\n",
      "  Duration: 00:03:08.00, start: 0.187533, bitrate: 1731 kb/s\n",
      "    Stream #0:0[0x1e0]: Video: mpeg1video, yuv420p(tv), 352x288 [SAR 178:163 DAR 1958:1467], 1500 kb/s, 25 fps, 25 tbr, 90k tbn, 25 tbc\n",
      "    Stream #0:1[0x1c0]: Audio: mp2, 48000 Hz, mono, s16p, 192 kb/s\n",
      "At least one output file must be specified\n",
      "\n"
     ]
    },
    {
     "name": "stderr",
     "output_type": "stream",
     "text": [
      " 79%|███████▉  | 954/1208 [2:11:39<26:23,  6.23s/it]"
     ]
    },
    {
     "name": "stdout",
     "output_type": "stream",
     "text": [
      "Input #0, mpeg, from 'Data/CorpusNGT/gloss/CNGT0862_S039.mpg':\n",
      "  Duration: 00:04:03.00, start: 0.187533, bitrate: 1730 kb/s\n",
      "    Stream #0:0[0x1e0]: Video: mpeg1video, yuv420p(tv), 352x288 [SAR 178:163 DAR 1958:1467], 1500 kb/s, 25 fps, 25 tbr, 90k tbn, 25 tbc\n",
      "    Stream #0:1[0x1c0]: Audio: mp2, 48000 Hz, mono, s16p, 192 kb/s\n",
      "At least one output file must be specified\n",
      "\n"
     ]
    },
    {
     "name": "stderr",
     "output_type": "stream",
     "text": [
      " 79%|███████▉  | 956/1208 [2:12:03<33:28,  7.97s/it]"
     ]
    },
    {
     "name": "stdout",
     "output_type": "stream",
     "text": [
      "Input #0, mpeg, from 'Data/CorpusNGT/gloss/CNGT0862_S040.mpg':\n",
      "  Duration: 00:04:03.00, start: 0.187533, bitrate: 1730 kb/s\n",
      "    Stream #0:0[0x1e0]: Video: mpeg1video, yuv420p(tv), 352x288 [SAR 178:163 DAR 1958:1467], 1500 kb/s, 25 fps, 25 tbr, 90k tbn, 25 tbc\n",
      "    Stream #0:1[0x1c0]: Audio: mp2, 48000 Hz, mono, s16p, 192 kb/s\n",
      "At least one output file must be specified\n",
      "\n"
     ]
    },
    {
     "name": "stderr",
     "output_type": "stream",
     "text": [
      " 79%|███████▉  | 958/1208 [2:12:18<32:23,  7.77s/it]"
     ]
    },
    {
     "name": "stdout",
     "output_type": "stream",
     "text": [
      "Input #0, mpeg, from 'Data/CorpusNGT/gloss/CNGT0877_S039.mpg':\n",
      "  Duration: 00:00:37.00, start: 0.187533, bitrate: 1736 kb/s\n",
      "    Stream #0:0[0x1e0]: Video: mpeg1video, yuv420p(tv), 352x288 [SAR 178:163 DAR 1958:1467], 1500 kb/s, 25 fps, 25 tbr, 90k tbn, 25 tbc\n",
      "    Stream #0:1[0x1c0]: Audio: mp2, 48000 Hz, mono, s16p, 192 kb/s\n",
      "At least one output file must be specified\n",
      "\n"
     ]
    },
    {
     "name": "stderr",
     "output_type": "stream",
     "text": [
      " 80%|███████▉  | 962/1208 [2:12:19<16:21,  3.99s/it]"
     ]
    },
    {
     "name": "stdout",
     "output_type": "stream",
     "text": [
      "Input #0, mpeg, from 'Data/CorpusNGT/gloss/CNGT0877_S040.mpg':\n",
      "  Duration: 00:00:37.00, start: 0.187533, bitrate: 1736 kb/s\n",
      "    Stream #0:0[0x1e0]: Video: mpeg1video, yuv420p(tv), 352x288 [SAR 178:163 DAR 1958:1467], 1500 kb/s, 25 fps, 25 tbr, 90k tbn, 25 tbc\n",
      "    Stream #0:1[0x1c0]: Audio: mp2, 48000 Hz, mono, s16p, 192 kb/s\n",
      "At least one output file must be specified\n",
      "\n",
      "Input #0, mpeg, from 'Data/CorpusNGT/gloss/CNGT0905_S041.mpg':\n",
      "  Duration: 00:00:23.00, start: 0.187533, bitrate: 1740 kb/s\n",
      "    Stream #0:0[0x1e0]: Video: mpeg1video, yuv420p(tv), 352x288 [SAR 178:163 DAR 1958:1467], 1500 kb/s, 25 fps, 25 tbr, 90k tbn, 25 tbc\n",
      "    Stream #0:1[0x1c0]: Audio: mp2, 48000 Hz, mono, s16p, 192 kb/s\n",
      "At least one output file must be specified\n",
      "\n"
     ]
    },
    {
     "name": "stderr",
     "output_type": "stream",
     "text": [
      " 80%|███████▉  | 964/1208 [2:12:20<11:50,  2.91s/it]"
     ]
    },
    {
     "name": "stdout",
     "output_type": "stream",
     "text": [
      "Input #0, mpeg, from 'Data/CorpusNGT/gloss/CNGT0905_S042.mpg':\n",
      "  Duration: 00:00:23.00, start: 0.187533, bitrate: 1740 kb/s\n",
      "    Stream #0:0[0x1e0]: Video: mpeg1video, yuv420p(tv), 352x288 [SAR 178:163 DAR 1958:1467], 1500 kb/s, 25 fps, 25 tbr, 90k tbn, 25 tbc\n",
      "    Stream #0:1[0x1c0]: Audio: mp2, 48000 Hz, mono, s16p, 192 kb/s\n",
      "At least one output file must be specified\n",
      "\n"
     ]
    },
    {
     "name": "stderr",
     "output_type": "stream",
     "text": [
      " 80%|███████▉  | 966/1208 [2:12:22<09:14,  2.29s/it]"
     ]
    },
    {
     "name": "stdout",
     "output_type": "stream",
     "text": [
      "Input #0, mpeg, from 'Data/CorpusNGT/gloss/CNGT0947_S041.mpg':\n",
      "  Duration: 00:00:27.00, start: 0.187533, bitrate: 1738 kb/s\n",
      "    Stream #0:0[0x1e0]: Video: mpeg1video, yuv420p(tv), 352x288 [SAR 178:163 DAR 1958:1467], 1500 kb/s, 25 fps, 25 tbr, 90k tbn, 25 tbc\n",
      "    Stream #0:1[0x1c0]: Audio: mp2, 48000 Hz, mono, s16p, 192 kb/s\n",
      "At least one output file must be specified\n",
      "\n"
     ]
    },
    {
     "name": "stderr",
     "output_type": "stream",
     "text": [
      " 80%|████████  | 968/1208 [2:12:23<06:57,  1.74s/it]"
     ]
    },
    {
     "name": "stdout",
     "output_type": "stream",
     "text": [
      "Input #0, mpeg, from 'Data/CorpusNGT/gloss/CNGT0947_S042.mpg':\n",
      "  Duration: 00:00:27.00, start: 0.187533, bitrate: 1738 kb/s\n",
      "    Stream #0:0[0x1e0]: Video: mpeg1video, yuv420p(tv), 352x288 [SAR 178:163 DAR 1958:1467], 1500 kb/s, 25 fps, 25 tbr, 90k tbn, 25 tbc\n",
      "    Stream #0:1[0x1c0]: Audio: mp2, 48000 Hz, mono, s16p, 192 kb/s\n",
      "At least one output file must be specified\n",
      "\n"
     ]
    },
    {
     "name": "stderr",
     "output_type": "stream",
     "text": [
      " 80%|████████  | 970/1208 [2:12:24<05:45,  1.45s/it]"
     ]
    },
    {
     "name": "stdout",
     "output_type": "stream",
     "text": [
      "Input #0, mpeg, from 'Data/CorpusNGT/gloss/CNGT0958_S043.mpg':\n",
      "  Duration: 00:00:35.00, start: 0.187533, bitrate: 1737 kb/s\n",
      "    Stream #0:0[0x1e0]: Video: mpeg1video, yuv420p(tv), 352x288 [SAR 178:163 DAR 1958:1467], 1500 kb/s, 25 fps, 25 tbr, 90k tbn, 25 tbc\n",
      "    Stream #0:1[0x1c0]: Audio: mp2, 48000 Hz, mono, s16p, 192 kb/s\n",
      "At least one output file must be specified\n",
      "\n"
     ]
    },
    {
     "name": "stderr",
     "output_type": "stream",
     "text": [
      " 80%|████████  | 972/1208 [2:12:26<04:52,  1.24s/it]"
     ]
    },
    {
     "name": "stdout",
     "output_type": "stream",
     "text": [
      "Input #0, mpeg, from 'Data/CorpusNGT/gloss/CNGT0958_S044.mpg':\n",
      "  Duration: 00:00:35.00, start: 0.187533, bitrate: 1737 kb/s\n",
      "    Stream #0:0[0x1e0]: Video: mpeg1video, yuv420p(tv), 352x288 [SAR 178:163 DAR 1958:1467], 1500 kb/s, 25 fps, 25 tbr, 90k tbn, 25 tbc\n",
      "    Stream #0:1[0x1c0]: Audio: mp2, 48000 Hz, mono, s16p, 192 kb/s\n",
      "At least one output file must be specified\n",
      "\n"
     ]
    },
    {
     "name": "stderr",
     "output_type": "stream",
     "text": [
      " 81%|████████  | 974/1208 [2:12:27<03:46,  1.03it/s]"
     ]
    },
    {
     "name": "stdout",
     "output_type": "stream",
     "text": [
      "Input #0, mpeg, from 'Data/CorpusNGT/gloss/CNGT0961_S043.mpg':\n",
      "  Duration: 00:04:29.00, start: 0.187533, bitrate: 1730 kb/s\n",
      "    Stream #0:0[0x1e0]: Video: mpeg1video, yuv420p(tv), 352x288 [SAR 178:163 DAR 1958:1467], 1500 kb/s, 25 fps, 25 tbr, 90k tbn, 25 tbc\n",
      "    Stream #0:1[0x1c0]: Audio: mp2, 48000 Hz, mono, s16p, 192 kb/s\n",
      "At least one output file must be specified\n",
      "\n"
     ]
    },
    {
     "name": "stderr",
     "output_type": "stream",
     "text": [
      " 81%|████████  | 976/1208 [2:12:51<16:51,  4.36s/it]"
     ]
    },
    {
     "name": "stdout",
     "output_type": "stream",
     "text": [
      "Input #0, mpeg, from 'Data/CorpusNGT/gloss/CNGT0962_S043.mpg':\n",
      "  Duration: 00:02:48.00, start: 0.187533, bitrate: 1731 kb/s\n",
      "    Stream #0:0[0x1e0]: Video: mpeg1video, yuv420p(tv), 352x288 [SAR 178:163 DAR 1958:1467], 1500 kb/s, 25 fps, 25 tbr, 90k tbn, 25 tbc\n",
      "    Stream #0:1[0x1c0]: Audio: mp2, 48000 Hz, mono, s16p, 192 kb/s\n",
      "At least one output file must be specified\n",
      "\n"
     ]
    },
    {
     "name": "stderr",
     "output_type": "stream",
     "text": [
      " 81%|████████  | 978/1208 [2:12:52<11:56,  3.12s/it]"
     ]
    },
    {
     "name": "stdout",
     "output_type": "stream",
     "text": [
      "Input #0, mpeg, from 'Data/CorpusNGT/gloss/CNGT0962_S044.mpg':\n",
      "  Duration: 00:02:48.00, start: 0.187533, bitrate: 1731 kb/s\n",
      "    Stream #0:0[0x1e0]: Video: mpeg1video, yuv420p(tv), 352x288 [SAR 178:163 DAR 1958:1467], 1500 kb/s, 25 fps, 25 tbr, 90k tbn, 25 tbc\n",
      "    Stream #0:1[0x1c0]: Audio: mp2, 48000 Hz, mono, s16p, 192 kb/s\n",
      "At least one output file must be specified\n",
      "\n"
     ]
    },
    {
     "name": "stderr",
     "output_type": "stream",
     "text": [
      " 81%|████████  | 980/1208 [2:13:07<16:50,  4.43s/it]"
     ]
    },
    {
     "name": "stdout",
     "output_type": "stream",
     "text": [
      "Input #0, mpeg, from 'Data/CorpusNGT/gloss/CNGT0981_S043.mpg':\n",
      "  Duration: 00:00:47.00, start: 0.187533, bitrate: 1734 kb/s\n",
      "    Stream #0:0[0x1e0]: Video: mpeg1video, yuv420p(tv), 352x288 [SAR 178:163 DAR 1958:1467], 1500 kb/s, 25 fps, 25 tbr, 90k tbn, 25 tbc\n",
      "    Stream #0:1[0x1c0]: Audio: mp2, 48000 Hz, mono, s16p, 192 kb/s\n",
      "At least one output file must be specified\n",
      "\n"
     ]
    },
    {
     "name": "stderr",
     "output_type": "stream",
     "text": [
      " 81%|████████▏ | 982/1208 [2:13:08<12:36,  3.35s/it]"
     ]
    },
    {
     "name": "stdout",
     "output_type": "stream",
     "text": [
      "Input #0, mpeg, from 'Data/CorpusNGT/gloss/CNGT0981_S044.mpg':\n",
      "  Duration: 00:00:47.00, start: 0.187533, bitrate: 1734 kb/s\n",
      "    Stream #0:0[0x1e0]: Video: mpeg1video, yuv420p(tv), 352x288 [SAR 178:163 DAR 1958:1467], 1500 kb/s, 25 fps, 25 tbr, 90k tbn, 25 tbc\n",
      "    Stream #0:1[0x1c0]: Audio: mp2, 48000 Hz, mono, s16p, 192 kb/s\n",
      "At least one output file must be specified\n",
      "\n"
     ]
    },
    {
     "name": "stderr",
     "output_type": "stream",
     "text": [
      " 81%|████████▏ | 984/1208 [2:13:09<09:23,  2.52s/it]"
     ]
    },
    {
     "name": "stdout",
     "output_type": "stream",
     "text": [
      "Input #0, mpeg, from 'Data/CorpusNGT/gloss/CNGT1006_S045.mpg':\n",
      "  Duration: 00:01:45.00, start: 0.187533, bitrate: 1732 kb/s\n",
      "    Stream #0:0[0x1e0]: Video: mpeg1video, yuv420p(tv), 352x288 [SAR 178:163 DAR 1958:1467], 1500 kb/s, 25 fps, 25 tbr, 90k tbn, 25 tbc\n",
      "    Stream #0:1[0x1c0]: Audio: mp2, 48000 Hz, mono, s16p, 192 kb/s\n",
      "At least one output file must be specified\n",
      "\n"
     ]
    },
    {
     "name": "stderr",
     "output_type": "stream",
     "text": [
      " 82%|████████▏ | 986/1208 [2:13:19<11:57,  3.23s/it]"
     ]
    },
    {
     "name": "stdout",
     "output_type": "stream",
     "text": [
      "Input #0, mpeg, from 'Data/CorpusNGT/gloss/CNGT1008_S045.mpg':\n",
      "  Duration: 00:00:31.00, start: 0.187533, bitrate: 1737 kb/s\n",
      "    Stream #0:0[0x1e0]: Video: mpeg1video, yuv420p(tv), 352x288 [SAR 178:163 DAR 1958:1467], 1500 kb/s, 25 fps, 25 tbr, 90k tbn, 25 tbc\n",
      "    Stream #0:1[0x1c0]: Audio: mp2, 48000 Hz, mono, s16p, 192 kb/s\n",
      "At least one output file must be specified\n",
      "\n"
     ]
    },
    {
     "name": "stderr",
     "output_type": "stream",
     "text": [
      " 82%|████████▏ | 988/1208 [2:13:21<09:18,  2.54s/it]"
     ]
    },
    {
     "name": "stdout",
     "output_type": "stream",
     "text": [
      "Input #0, mpeg, from 'Data/CorpusNGT/gloss/CNGT1008_S046.mpg':\n",
      "  Duration: 00:00:31.00, start: 0.187533, bitrate: 1737 kb/s\n",
      "    Stream #0:0[0x1e0]: Video: mpeg1video, yuv420p(tv), 352x288 [SAR 178:163 DAR 1958:1467], 1500 kb/s, 25 fps, 25 tbr, 90k tbn, 25 tbc\n",
      "    Stream #0:1[0x1c0]: Audio: mp2, 48000 Hz, mono, s16p, 192 kb/s\n",
      "At least one output file must be specified\n",
      "\n"
     ]
    },
    {
     "name": "stderr",
     "output_type": "stream",
     "text": [
      " 82%|████████▏ | 990/1208 [2:13:23<07:44,  2.13s/it]"
     ]
    },
    {
     "name": "stdout",
     "output_type": "stream",
     "text": [
      "Input #0, mpeg, from 'Data/CorpusNGT/gloss/CNGT1028_S045.mpg':\n",
      "  Duration: 00:03:50.00, start: 0.187533, bitrate: 1730 kb/s\n",
      "    Stream #0:0[0x1e0]: Video: mpeg1video, yuv420p(tv), 352x288 [SAR 178:163 DAR 1958:1467], 1500 kb/s, 25 fps, 25 tbr, 90k tbn, 25 tbc\n",
      "    Stream #0:1[0x1c0]: Audio: mp2, 48000 Hz, mono, s16p, 192 kb/s\n",
      "At least one output file must be specified\n",
      "\n"
     ]
    },
    {
     "name": "stderr",
     "output_type": "stream",
     "text": [
      " 82%|████████▏ | 992/1208 [2:13:43<15:46,  4.38s/it]"
     ]
    },
    {
     "name": "stdout",
     "output_type": "stream",
     "text": [
      "Input #0, mpeg, from 'Data/CorpusNGT/gloss/CNGT1028_S046.mpg':\n",
      "  Duration: 00:03:50.00, start: 0.187533, bitrate: 1730 kb/s\n",
      "    Stream #0:0[0x1e0]: Video: mpeg1video, yuv420p(tv), 352x288 [SAR 178:163 DAR 1958:1467], 1500 kb/s, 25 fps, 25 tbr, 90k tbn, 25 tbc\n",
      "    Stream #0:1[0x1c0]: Audio: mp2, 48000 Hz, mono, s16p, 192 kb/s\n",
      "At least one output file must be specified\n",
      "\n"
     ]
    },
    {
     "name": "stderr",
     "output_type": "stream",
     "text": [
      " 82%|████████▏ | 994/1208 [2:13:53<16:37,  4.66s/it]"
     ]
    },
    {
     "name": "stdout",
     "output_type": "stream",
     "text": [
      "Input #0, mpeg, from 'Data/CorpusNGT/gloss/CNGT1046_S045.mpg':\n",
      "  Duration: 00:01:49.00, start: 0.187533, bitrate: 1732 kb/s\n",
      "    Stream #0:0[0x1e0]: Video: mpeg1video, yuv420p(tv), 352x288 [SAR 178:163 DAR 1958:1467], 1500 kb/s, 25 fps, 25 tbr, 90k tbn, 25 tbc\n",
      "    Stream #0:1[0x1c0]: Audio: mp2, 48000 Hz, mono, s16p, 192 kb/s\n",
      "At least one output file must be specified\n",
      "\n"
     ]
    },
    {
     "name": "stderr",
     "output_type": "stream",
     "text": [
      " 82%|████████▏ | 996/1208 [2:14:02<16:23,  4.64s/it]"
     ]
    },
    {
     "name": "stdout",
     "output_type": "stream",
     "text": [
      "Input #0, mpeg, from 'Data/CorpusNGT/gloss/CNGT1046_S046.mpg':\n",
      "  Duration: 00:01:49.00, start: 1.197333, bitrate: 1911 kb/s\n",
      "    Stream #0:0[0x1e0]: Video: mpeg1video, yuv420p(tv), 352x288 [SAR 178:163 DAR 1958:1467], 1500 kb/s, 25 fps, 25 tbr, 90k tbn, 25 tbc\n",
      "    Stream #0:1[0x1c0]: Audio: mp2, 44100 Hz, stereo, s16p, 384 kb/s\n",
      "At least one output file must be specified\n",
      "\n"
     ]
    },
    {
     "name": "stderr",
     "output_type": "stream",
     "text": [
      " 83%|████████▎ | 998/1208 [2:14:05<12:49,  3.66s/it]"
     ]
    },
    {
     "name": "stdout",
     "output_type": "stream",
     "text": [
      "<class 'Exception'> Command '['ffmpeg', '-hide_banner', '-loglevel', 'panic', '-ss', '93.71000000000001', '-t', '0.3299999999999983', '-i', 'Data/CorpusNGT/gloss/CNGT1046_S046.mpg', '-y', 'Data/CorpusNGT/gloss_split_8frames/MOOI-A/271.mpg']' returned non-zero exit status 69. 2\n",
      "Input #0, mpeg, from 'Data/CorpusNGT/gloss/CNGT1047_S045.mpg':\n",
      "  Duration: 00:00:40.00, start: 0.187533, bitrate: 1735 kb/s\n",
      "    Stream #0:0[0x1e0]: Video: mpeg1video, yuv420p(tv), 352x288 [SAR 178:163 DAR 1958:1467], 1500 kb/s, 25 fps, 25 tbr, 90k tbn, 25 tbc\n",
      "    Stream #0:1[0x1c0]: Audio: mp2, 48000 Hz, mono, s16p, 192 kb/s\n",
      "At least one output file must be specified\n",
      "\n"
     ]
    },
    {
     "name": "stderr",
     "output_type": "stream",
     "text": [
      " 83%|████████▎ | 1000/1208 [2:14:06<09:08,  2.64s/it]"
     ]
    },
    {
     "name": "stdout",
     "output_type": "stream",
     "text": [
      "Input #0, mpeg, from 'Data/CorpusNGT/gloss/CNGT1047_S046.mpg':\n",
      "  Duration: 00:00:40.00, start: 1.197333, bitrate: 1912 kb/s\n",
      "    Stream #0:0[0x1e0]: Video: mpeg1video, yuv420p(tv), 352x288 [SAR 178:163 DAR 1958:1467], 1500 kb/s, 25 fps, 25 tbr, 90k tbn, 25 tbc\n",
      "    Stream #0:1[0x1c0]: Audio: mp2, 44100 Hz, stereo, s16p, 384 kb/s\n",
      "At least one output file must be specified\n",
      "\n"
     ]
    },
    {
     "name": "stderr",
     "output_type": "stream",
     "text": [
      " 83%|████████▎ | 1002/1208 [2:14:08<07:21,  2.14s/it]"
     ]
    },
    {
     "name": "stdout",
     "output_type": "stream",
     "text": [
      "<class 'Exception'> Command '['ffmpeg', '-hide_banner', '-loglevel', 'panic', '-ss', '23.509999999999998', '-t', '0.6900000000000013', '-i', 'Data/CorpusNGT/gloss/CNGT1047_S046.mpg', '-y', 'Data/CorpusNGT/gloss_split_8frames/OPEN-C/21.mpg']' returned non-zero exit status 69. 3\n",
      "Input #0, mpeg, from 'Data/CorpusNGT/gloss/CNGT1048_S045.mpg':\n",
      "  Duration: 00:00:52.00, start: 0.187533, bitrate: 1734 kb/s\n",
      "    Stream #0:0[0x1e0]: Video: mpeg1video, yuv420p(tv), 352x288 [SAR 178:163 DAR 1958:1467], 1500 kb/s, 25 fps, 25 tbr, 90k tbn, 25 tbc\n",
      "    Stream #0:1[0x1c0]: Audio: mp2, 48000 Hz, mono, s16p, 192 kb/s\n",
      "At least one output file must be specified\n",
      "\n",
      "Input #0, mpeg, from 'Data/CorpusNGT/gloss/CNGT1048_S046.mpg':\n",
      "  Duration: 00:00:52.01, start: 1.197333, bitrate: 1911 kb/s\n",
      "    Stream #0:0[0x1e0]: Video: mpeg1video, yuv420p(tv), 352x288 [SAR 178:163 DAR 1958:1467], 1500 kb/s, 25 fps, 25 tbr, 90k tbn, 25 tbc\n",
      "    Stream #0:1[0x1c0]: Audio: mp2, 44100 Hz, stereo, s16p, 384 kb/s\n",
      "At least one output file must be specified\n",
      "\n"
     ]
    },
    {
     "name": "stderr",
     "output_type": "stream",
     "text": [
      " 83%|████████▎ | 1006/1208 [2:14:13<05:47,  1.72s/it]"
     ]
    },
    {
     "name": "stdout",
     "output_type": "stream",
     "text": [
      "<class 'Exception'> Command '['ffmpeg', '-hide_banner', '-loglevel', 'panic', '-ss', '38.71', '-t', '1.6499999999999986', '-i', 'Data/CorpusNGT/gloss/CNGT1048_S046.mpg', '-y', 'Data/CorpusNGT/gloss_split_8frames/SCHOONMAKEN/4.mpg']' returned non-zero exit status 69. 4\n",
      "Input #0, mpeg, from 'Data/CorpusNGT/gloss/CNGT1055_S045.mpg':\n",
      "  Duration: 00:00:18.00, start: 0.187533, bitrate: 1742 kb/s\n",
      "    Stream #0:0[0x1e0]: Video: mpeg1video, yuv420p(tv), 352x288 [SAR 178:163 DAR 1958:1467], 1500 kb/s, 25 fps, 25 tbr, 90k tbn, 25 tbc\n",
      "    Stream #0:1[0x1c0]: Audio: mp2, 48000 Hz, mono, s16p, 192 kb/s\n",
      "At least one output file must be specified\n",
      "\n"
     ]
    },
    {
     "name": "stderr",
     "output_type": "stream",
     "text": [
      " 84%|████████▎ | 1010/1208 [2:14:13<03:26,  1.04s/it]"
     ]
    },
    {
     "name": "stdout",
     "output_type": "stream",
     "text": [
      "Input #0, mpeg, from 'Data/CorpusNGT/gloss/CNGT1055_S046.mpg':\n",
      "  Duration: 00:00:18.02, start: 1.197333, bitrate: 1910 kb/s\n",
      "    Stream #0:0[0x1e0]: Video: mpeg1video, yuv420p(tv), 352x288 [SAR 178:163 DAR 1958:1467], 1500 kb/s, 25 fps, 25 tbr, 90k tbn, 25 tbc\n",
      "    Stream #0:1[0x1c0]: Audio: mp2, 44100 Hz, stereo, s16p, 384 kb/s\n",
      "At least one output file must be specified\n",
      "\n",
      "<class 'Exception'> Command '['ffmpeg', '-hide_banner', '-loglevel', 'panic', '-ss', '6.11', '-t', '0.9699999999999998', '-i', 'Data/CorpusNGT/gloss/CNGT1055_S046.mpg', '-y', 'Data/CorpusNGT/gloss_split_8frames/KLAAR-A/412.mpg']' returned non-zero exit status 69. 5\n",
      "Input #0, mpeg, from 'Data/CorpusNGT/gloss/CNGT1057_S048.mpg':\n",
      "  Duration: 00:01:41.00, start: 0.187533, bitrate: 1732 kb/s\n",
      "    Stream #0:0[0x1e0]: Video: mpeg1video, yuv420p(tv), 352x288 [SAR 178:163 DAR 1958:1467], 1500 kb/s, 25 fps, 25 tbr, 90k tbn, 25 tbc\n",
      "    Stream #0:1[0x1c0]: Audio: mp2, 48000 Hz, mono, s16p, 192 kb/s\n",
      "At least one output file must be specified\n",
      "\n"
     ]
    },
    {
     "name": "stderr",
     "output_type": "stream",
     "text": [
      " 84%|████████▍ | 1012/1208 [2:14:24<07:09,  2.19s/it]"
     ]
    },
    {
     "name": "stdout",
     "output_type": "stream",
     "text": [
      "Input #0, mpeg, from 'Data/CorpusNGT/gloss/CNGT1058_S047.mpg':\n",
      "  Duration: 00:01:29.00, start: 0.187533, bitrate: 1732 kb/s\n",
      "    Stream #0:0[0x1e0]: Video: mpeg1video, yuv420p(tv), 352x288 [SAR 178:163 DAR 1958:1467], 1500 kb/s, 25 fps, 25 tbr, 90k tbn, 25 tbc\n",
      "    Stream #0:1[0x1c0]: Audio: mp2, 48000 Hz, mono, s16p, 192 kb/s\n",
      "At least one output file must be specified\n",
      "\n"
     ]
    },
    {
     "name": "stderr",
     "output_type": "stream",
     "text": [
      " 84%|████████▍ | 1014/1208 [2:14:34<09:30,  2.94s/it]"
     ]
    },
    {
     "name": "stdout",
     "output_type": "stream",
     "text": [
      "Input #0, mpeg, from 'Data/CorpusNGT/gloss/CNGT1059_S047.mpg':\n",
      "  Duration: 00:01:24.00, start: 0.187533, bitrate: 1732 kb/s\n",
      "    Stream #0:0[0x1e0]: Video: mpeg1video, yuv420p(tv), 352x288 [SAR 178:163 DAR 1958:1467], 1500 kb/s, 25 fps, 25 tbr, 90k tbn, 25 tbc\n",
      "    Stream #0:1[0x1c0]: Audio: mp2, 48000 Hz, mono, s16p, 192 kb/s\n",
      "At least one output file must be specified\n",
      "\n"
     ]
    },
    {
     "name": "stderr",
     "output_type": "stream",
     "text": [
      " 84%|████████▍ | 1016/1208 [2:14:34<06:53,  2.15s/it]"
     ]
    },
    {
     "name": "stdout",
     "output_type": "stream",
     "text": [
      "Input #0, mpeg, from 'Data/CorpusNGT/gloss/CNGT1059_S048.mpg':\n",
      "  Duration: 00:01:24.00, start: 0.187533, bitrate: 1732 kb/s\n",
      "    Stream #0:0[0x1e0]: Video: mpeg1video, yuv420p(tv), 352x288 [SAR 178:163 DAR 1958:1467], 1500 kb/s, 25 fps, 25 tbr, 90k tbn, 25 tbc\n",
      "    Stream #0:1[0x1c0]: Audio: mp2, 48000 Hz, mono, s16p, 192 kb/s\n",
      "At least one output file must be specified\n",
      "\n"
     ]
    },
    {
     "name": "stderr",
     "output_type": "stream",
     "text": [
      " 84%|████████▍ | 1018/1208 [2:14:41<07:59,  2.52s/it]"
     ]
    },
    {
     "name": "stdout",
     "output_type": "stream",
     "text": [
      "Input #0, mpeg, from 'Data/CorpusNGT/gloss/CNGT1071_S047.mpg':\n",
      "  Duration: 00:01:17.00, start: 0.187533, bitrate: 1732 kb/s\n",
      "    Stream #0:0[0x1e0]: Video: mpeg1video, yuv420p(tv), 352x288 [SAR 178:163 DAR 1958:1467], 1500 kb/s, 25 fps, 25 tbr, 90k tbn, 25 tbc\n",
      "    Stream #0:1[0x1c0]: Audio: mp2, 48000 Hz, mono, s16p, 192 kb/s\n",
      "At least one output file must be specified\n",
      "\n"
     ]
    },
    {
     "name": "stderr",
     "output_type": "stream",
     "text": [
      " 84%|████████▍ | 1020/1208 [2:14:42<05:55,  1.89s/it]"
     ]
    },
    {
     "name": "stdout",
     "output_type": "stream",
     "text": [
      "Input #0, mpeg, from 'Data/CorpusNGT/gloss/CNGT1071_S048.mpg':\n",
      "  Duration: 00:01:17.00, start: 0.187533, bitrate: 1732 kb/s\n",
      "    Stream #0:0[0x1e0]: Video: mpeg1video, yuv420p(tv), 352x288 [SAR 178:163 DAR 1958:1467], 1500 kb/s, 25 fps, 25 tbr, 90k tbn, 25 tbc\n",
      "    Stream #0:1[0x1c0]: Audio: mp2, 48000 Hz, mono, s16p, 192 kb/s\n",
      "At least one output file must be specified\n",
      "\n"
     ]
    },
    {
     "name": "stderr",
     "output_type": "stream",
     "text": [
      " 85%|████████▍ | 1022/1208 [2:14:51<08:36,  2.78s/it]"
     ]
    },
    {
     "name": "stdout",
     "output_type": "stream",
     "text": [
      "Input #0, mpeg, from 'Data/CorpusNGT/gloss/CNGT1072_S047.mpg':\n",
      "  Duration: 00:01:10.00, start: 0.187533, bitrate: 1733 kb/s\n",
      "    Stream #0:0[0x1e0]: Video: mpeg1video, yuv420p(tv), 352x288 [SAR 178:163 DAR 1958:1467], 1500 kb/s, 25 fps, 25 tbr, 90k tbn, 25 tbc\n",
      "    Stream #0:1[0x1c0]: Audio: mp2, 48000 Hz, mono, s16p, 192 kb/s\n",
      "At least one output file must be specified\n",
      "\n"
     ]
    },
    {
     "name": "stderr",
     "output_type": "stream",
     "text": [
      " 85%|████████▍ | 1024/1208 [2:14:57<08:40,  2.83s/it]"
     ]
    },
    {
     "name": "stdout",
     "output_type": "stream",
     "text": [
      "Input #0, mpeg, from 'Data/CorpusNGT/gloss/CNGT1072_S048.mpg':\n",
      "  Duration: 00:01:10.00, start: 0.187533, bitrate: 1733 kb/s\n",
      "    Stream #0:0[0x1e0]: Video: mpeg1video, yuv420p(tv), 352x288 [SAR 178:163 DAR 1958:1467], 1500 kb/s, 25 fps, 25 tbr, 90k tbn, 25 tbc\n",
      "    Stream #0:1[0x1c0]: Audio: mp2, 48000 Hz, mono, s16p, 192 kb/s\n",
      "At least one output file must be specified\n",
      "\n"
     ]
    },
    {
     "name": "stderr",
     "output_type": "stream",
     "text": [
      " 85%|████████▍ | 1026/1208 [2:14:59<06:57,  2.29s/it]"
     ]
    },
    {
     "name": "stdout",
     "output_type": "stream",
     "text": [
      "Input #0, mpeg, from 'Data/CorpusNGT/gloss/CNGT1073_S047.mpg':\n",
      "  Duration: 00:00:54.00, start: 0.187533, bitrate: 1734 kb/s\n",
      "    Stream #0:0[0x1e0]: Video: mpeg1video, yuv420p(tv), 352x288 [SAR 178:163 DAR 1958:1467], 1500 kb/s, 25 fps, 25 tbr, 90k tbn, 25 tbc\n",
      "    Stream #0:1[0x1c0]: Audio: mp2, 48000 Hz, mono, s16p, 192 kb/s\n",
      "At least one output file must be specified\n",
      "\n"
     ]
    },
    {
     "name": "stderr",
     "output_type": "stream",
     "text": [
      " 85%|████████▌ | 1028/1208 [2:15:06<07:54,  2.64s/it]"
     ]
    },
    {
     "name": "stdout",
     "output_type": "stream",
     "text": [
      "Input #0, mpeg, from 'Data/CorpusNGT/gloss/CNGT1074_S048.mpg':\n",
      "  Duration: 00:00:38.00, start: 0.187533, bitrate: 1736 kb/s\n",
      "    Stream #0:0[0x1e0]: Video: mpeg1video, yuv420p(tv), 352x288 [SAR 178:163 DAR 1958:1467], 1500 kb/s, 25 fps, 25 tbr, 90k tbn, 25 tbc\n",
      "    Stream #0:1[0x1c0]: Audio: mp2, 48000 Hz, mono, s16p, 192 kb/s\n",
      "At least one output file must be specified\n",
      "\n"
     ]
    },
    {
     "name": "stderr",
     "output_type": "stream",
     "text": [
      " 85%|████████▌ | 1030/1208 [2:15:11<07:44,  2.61s/it]"
     ]
    },
    {
     "name": "stdout",
     "output_type": "stream",
     "text": [
      "Input #0, mpeg, from 'Data/CorpusNGT/gloss/CNGT1075_S047.mpg':\n",
      "  Duration: 00:01:29.00, start: 0.187533, bitrate: 1732 kb/s\n",
      "    Stream #0:0[0x1e0]: Video: mpeg1video, yuv420p(tv), 352x288 [SAR 178:163 DAR 1958:1467], 1500 kb/s, 25 fps, 25 tbr, 90k tbn, 25 tbc\n",
      "    Stream #0:1[0x1c0]: Audio: mp2, 48000 Hz, mono, s16p, 192 kb/s\n",
      "At least one output file must be specified\n",
      "\n"
     ]
    },
    {
     "name": "stderr",
     "output_type": "stream",
     "text": [
      " 86%|████████▌ | 1034/1208 [2:15:23<07:21,  2.54s/it]"
     ]
    },
    {
     "name": "stdout",
     "output_type": "stream",
     "text": [
      "Input #0, mpeg, from 'Data/CorpusNGT/gloss/CNGT1075_S048.mpg':\n",
      "  Duration: 00:01:29.00, start: 0.187533, bitrate: 1732 kb/s\n",
      "    Stream #0:0[0x1e0]: Video: mpeg1video, yuv420p(tv), 352x288 [SAR 178:163 DAR 1958:1467], 1500 kb/s, 25 fps, 25 tbr, 90k tbn, 25 tbc\n",
      "    Stream #0:1[0x1c0]: Audio: mp2, 48000 Hz, mono, s16p, 192 kb/s\n",
      "At least one output file must be specified\n",
      "\n",
      "Input #0, mpeg, from 'Data/CorpusNGT/gloss/CNGT1076_S047.mpg':\n",
      "  Duration: 00:00:40.00, start: 0.187533, bitrate: 1735 kb/s\n",
      "    Stream #0:0[0x1e0]: Video: mpeg1video, yuv420p(tv), 352x288 [SAR 178:163 DAR 1958:1467], 1500 kb/s, 25 fps, 25 tbr, 90k tbn, 25 tbc\n",
      "    Stream #0:1[0x1c0]: Audio: mp2, 48000 Hz, mono, s16p, 192 kb/s\n",
      "At least one output file must be specified\n",
      "\n"
     ]
    },
    {
     "name": "stderr",
     "output_type": "stream",
     "text": [
      " 86%|████████▌ | 1038/1208 [2:15:27<04:37,  1.63s/it]"
     ]
    },
    {
     "name": "stdout",
     "output_type": "stream",
     "text": [
      "Input #0, mpeg, from 'Data/CorpusNGT/gloss/CNGT1076_S048.mpg':\n",
      "  Duration: 00:00:37.04, start: 0.187533, bitrate: 1736 kb/s\n",
      "    Stream #0:0[0x1e0]: Video: mpeg1video, yuv420p(tv), 352x288 [SAR 178:163 DAR 1958:1467], 1500 kb/s, 25 fps, 25 tbr, 90k tbn, 25 tbc\n",
      "    Stream #0:1[0x1c0]: Audio: mp2, 48000 Hz, mono, s16p, 192 kb/s\n",
      "At least one output file must be specified\n",
      "\n",
      "Input #0, mpeg, from 'Data/CorpusNGT/gloss/CNGT1086_S047.mpg':\n",
      "  Duration: 00:02:35.00, start: 0.187533, bitrate: 1731 kb/s\n",
      "    Stream #0:0[0x1e0]: Video: mpeg1video, yuv420p(tv), 352x288 [SAR 178:163 DAR 1958:1467], 1500 kb/s, 25 fps, 25 tbr, 90k tbn, 25 tbc\n",
      "    Stream #0:1[0x1c0]: Audio: mp2, 48000 Hz, mono, s16p, 192 kb/s\n",
      "At least one output file must be specified\n",
      "\n"
     ]
    },
    {
     "name": "stderr",
     "output_type": "stream",
     "text": [
      " 86%|████████▌ | 1040/1208 [2:15:39<08:15,  2.95s/it]"
     ]
    },
    {
     "name": "stdout",
     "output_type": "stream",
     "text": [
      "Input #0, mpeg, from 'Data/CorpusNGT/gloss/CNGT1086_S048.mpg':\n",
      "  Duration: 00:02:35.00, start: 0.187533, bitrate: 1731 kb/s\n",
      "    Stream #0:0[0x1e0]: Video: mpeg1video, yuv420p(tv), 352x288 [SAR 178:163 DAR 1958:1467], 1500 kb/s, 25 fps, 25 tbr, 90k tbn, 25 tbc\n",
      "    Stream #0:1[0x1c0]: Audio: mp2, 48000 Hz, mono, s16p, 192 kb/s\n",
      "At least one output file must be specified\n",
      "\n"
     ]
    },
    {
     "name": "stderr",
     "output_type": "stream",
     "text": [
      " 86%|████████▋ | 1042/1208 [2:15:52<11:14,  4.06s/it]"
     ]
    },
    {
     "name": "stdout",
     "output_type": "stream",
     "text": [
      "Input #0, mpeg, from 'Data/CorpusNGT/gloss/CNGT1183_S052.mpg':\n",
      "  Duration: 00:04:08.00, start: 0.194911, bitrate: 1665 kb/s\n",
      "    Stream #0:0[0x1e0]: Video: mpeg1video, yuv420p(tv), 352x288 [SAR 178:163 DAR 1958:1467], 1500 kb/s, 25 fps, 25 tbr, 90k tbn, 25 tbc\n",
      "    Stream #0:1[0x1c0]: Audio: mp2, 48000 Hz, stereo, s16p, 128 kb/s\n",
      "At least one output file must be specified\n",
      "\n"
     ]
    },
    {
     "name": "stderr",
     "output_type": "stream",
     "text": [
      " 86%|████████▋ | 1044/1208 [2:15:55<08:51,  3.24s/it]"
     ]
    },
    {
     "name": "stdout",
     "output_type": "stream",
     "text": [
      "Input #0, mpeg, from 'Data/CorpusNGT/gloss/CNGT1185_S051.mpg':\n",
      "  Duration: 00:05:04.00, start: 0.194911, bitrate: 1665 kb/s\n",
      "    Stream #0:0[0x1e0]: Video: mpeg1video, yuv420p(tv), 352x288 [SAR 178:163 DAR 1958:1467], 1500 kb/s, 25 fps, 25 tbr, 90k tbn, 25 tbc\n",
      "    Stream #0:1[0x1c0]: Audio: mp2, 48000 Hz, stereo, s16p, 128 kb/s\n",
      "At least one output file must be specified\n",
      "\n"
     ]
    },
    {
     "name": "stderr",
     "output_type": "stream",
     "text": [
      " 87%|████████▋ | 1046/1208 [2:16:14<13:41,  5.07s/it]"
     ]
    },
    {
     "name": "stdout",
     "output_type": "stream",
     "text": [
      "Input #0, mpeg, from 'Data/CorpusNGT/gloss/CNGT1185_S052.mpg':\n",
      "  Duration: 00:05:04.00, start: 0.194911, bitrate: 1665 kb/s\n",
      "    Stream #0:0[0x1e0]: Video: mpeg1video, yuv420p(tv), 352x288 [SAR 178:163 DAR 1958:1467], 1500 kb/s, 25 fps, 25 tbr, 90k tbn, 25 tbc\n",
      "    Stream #0:1[0x1c0]: Audio: mp2, 48000 Hz, stereo, s16p, 128 kb/s\n",
      "At least one output file must be specified\n",
      "\n"
     ]
    },
    {
     "name": "stderr",
     "output_type": "stream",
     "text": [
      " 87%|████████▋ | 1048/1208 [2:16:21<12:14,  4.59s/it]"
     ]
    },
    {
     "name": "stdout",
     "output_type": "stream",
     "text": [
      "Input #0, mpeg, from 'Data/CorpusNGT/gloss/CNGT1328_S057.mpg':\n",
      "  Duration: 00:01:23.00, start: 0.194911, bitrate: 1667 kb/s\n",
      "    Stream #0:0[0x1e0]: Video: mpeg1video, yuv420p(tv), 352x288 [SAR 178:163 DAR 1958:1467], 1500 kb/s, 25 fps, 25 tbr, 90k tbn, 25 tbc\n",
      "    Stream #0:1[0x1c0]: Audio: mp2, 48000 Hz, stereo, s16p, 128 kb/s\n",
      "At least one output file must be specified\n",
      "\n"
     ]
    },
    {
     "name": "stderr",
     "output_type": "stream",
     "text": [
      " 87%|████████▋ | 1050/1208 [2:16:22<09:09,  3.48s/it]"
     ]
    },
    {
     "name": "stdout",
     "output_type": "stream",
     "text": [
      "Input #0, mpeg, from 'Data/CorpusNGT/gloss/CNGT1330_S057.mpg':\n",
      "  Duration: 00:03:02.00, start: 0.194911, bitrate: 1665 kb/s\n",
      "    Stream #0:0[0x1e0]: Video: mpeg1video, yuv420p(tv), 352x288 [SAR 178:163 DAR 1958:1467], 1500 kb/s, 25 fps, 25 tbr, 90k tbn, 25 tbc\n",
      "    Stream #0:1[0x1c0]: Audio: mp2, 48000 Hz, stereo, s16p, 128 kb/s\n",
      "At least one output file must be specified\n",
      "\n"
     ]
    },
    {
     "name": "stderr",
     "output_type": "stream",
     "text": [
      " 87%|████████▋ | 1052/1208 [2:16:24<07:05,  2.73s/it]"
     ]
    },
    {
     "name": "stdout",
     "output_type": "stream",
     "text": [
      "Input #0, mpeg, from 'Data/CorpusNGT/gloss/CNGT1550_S065.mpg':\n",
      "  Duration: 00:02:11.00, start: 0.194911, bitrate: 1666 kb/s\n",
      "    Stream #0:0[0x1e0]: Video: mpeg1video, yuv420p(tv), 352x288 [SAR 178:163 DAR 1958:1467], 1500 kb/s, 25 fps, 25 tbr, 90k tbn, 25 tbc\n",
      "    Stream #0:1[0x1c0]: Audio: mp2, 48000 Hz, stereo, s16p, 128 kb/s\n",
      "At least one output file must be specified\n",
      "\n"
     ]
    },
    {
     "name": "stderr",
     "output_type": "stream",
     "text": [
      " 87%|████████▋ | 1054/1208 [2:16:41<11:16,  4.39s/it]"
     ]
    },
    {
     "name": "stdout",
     "output_type": "stream",
     "text": [
      "Input #0, mpeg, from 'Data/CorpusNGT/gloss/CNGT1550_S066.mpg':\n",
      "  Duration: 00:02:11.00, start: 0.194911, bitrate: 1666 kb/s\n",
      "    Stream #0:0[0x1e0]: Video: mpeg1video, yuv420p(tv), 352x288 [SAR 178:163 DAR 1958:1467], 1500 kb/s, 25 fps, 25 tbr, 90k tbn, 25 tbc\n",
      "    Stream #0:1[0x1c0]: Audio: mp2, 48000 Hz, stereo, s16p, 128 kb/s\n",
      "At least one output file must be specified\n",
      "\n"
     ]
    },
    {
     "name": "stderr",
     "output_type": "stream",
     "text": [
      " 87%|████████▋ | 1056/1208 [2:16:49<10:53,  4.30s/it]"
     ]
    },
    {
     "name": "stdout",
     "output_type": "stream",
     "text": [
      "Input #0, mpeg, from 'Data/CorpusNGT/gloss/CNGT1551_S065.mpg':\n",
      "  Duration: 00:07:12.00, start: 0.194911, bitrate: 1664 kb/s\n",
      "    Stream #0:0[0x1e0]: Video: mpeg1video, yuv420p(tv), 352x288 [SAR 178:163 DAR 1958:1467], 1500 kb/s, 25 fps, 25 tbr, 90k tbn, 25 tbc\n",
      "    Stream #0:1[0x1c0]: Audio: mp2, 48000 Hz, stereo, s16p, 128 kb/s\n",
      "At least one output file must be specified\n",
      "\n"
     ]
    },
    {
     "name": "stderr",
     "output_type": "stream",
     "text": [
      " 88%|████████▊ | 1058/1208 [2:17:34<24:20,  9.74s/it]"
     ]
    },
    {
     "name": "stdout",
     "output_type": "stream",
     "text": [
      "Input #0, mpeg, from 'Data/CorpusNGT/gloss/CNGT1551_S066.mpg':\n",
      "  Duration: 00:07:12.00, start: 0.194911, bitrate: 1664 kb/s\n",
      "    Stream #0:0[0x1e0]: Video: mpeg1video, yuv420p(tv), 352x288 [SAR 178:163 DAR 1958:1467], 1500 kb/s, 25 fps, 25 tbr, 90k tbn, 25 tbc\n",
      "    Stream #0:1[0x1c0]: Audio: mp2, 48000 Hz, stereo, s16p, 128 kb/s\n",
      "At least one output file must be specified\n",
      "\n"
     ]
    },
    {
     "name": "stderr",
     "output_type": "stream",
     "text": [
      " 88%|████████▊ | 1060/1208 [2:17:49<22:30,  9.12s/it]"
     ]
    },
    {
     "name": "stdout",
     "output_type": "stream",
     "text": [
      "Input #0, mpeg, from 'Data/CorpusNGT/gloss/CNGT1683_S069.mpg':\n",
      "  Duration: 00:03:33.00, start: 0.194911, bitrate: 1665 kb/s\n",
      "    Stream #0:0[0x1e0]: Video: mpeg1video, yuv420p(tv), 352x288 [SAR 178:163 DAR 1958:1467], 1500 kb/s, 25 fps, 25 tbr, 90k tbn, 25 tbc\n",
      "    Stream #0:1[0x1c0]: Audio: mp2, 48000 Hz, stereo, s16p, 128 kb/s\n",
      "At least one output file must be specified\n",
      "\n"
     ]
    },
    {
     "name": "stderr",
     "output_type": "stream",
     "text": [
      " 88%|████████▊ | 1062/1208 [2:18:12<23:54,  9.83s/it]"
     ]
    },
    {
     "name": "stdout",
     "output_type": "stream",
     "text": [
      "Input #0, mpeg, from 'Data/CorpusNGT/gloss/CNGT1683_S070.mpg':\n",
      "  Duration: 00:03:33.00, start: 0.194911, bitrate: 1665 kb/s\n",
      "    Stream #0:0[0x1e0]: Video: mpeg1video, yuv420p(tv), 352x288 [SAR 178:163 DAR 1958:1467], 1500 kb/s, 25 fps, 25 tbr, 90k tbn, 25 tbc\n",
      "    Stream #0:1[0x1c0]: Audio: mp2, 48000 Hz, stereo, s16p, 128 kb/s\n",
      "At least one output file must be specified\n",
      "\n"
     ]
    },
    {
     "name": "stderr",
     "output_type": "stream",
     "text": [
      " 88%|████████▊ | 1064/1208 [2:18:36<24:59, 10.41s/it]"
     ]
    },
    {
     "name": "stdout",
     "output_type": "stream",
     "text": [
      "Input #0, mpeg, from 'Data/CorpusNGT/gloss/CNGT1684_S069.mpg':\n",
      "  Duration: 00:03:16.00, start: 0.194911, bitrate: 1665 kb/s\n",
      "    Stream #0:0[0x1e0]: Video: mpeg1video, yuv420p(tv), 352x288 [SAR 178:163 DAR 1958:1467], 1500 kb/s, 25 fps, 25 tbr, 90k tbn, 25 tbc\n",
      "    Stream #0:1[0x1c0]: Audio: mp2, 48000 Hz, stereo, s16p, 128 kb/s\n",
      "At least one output file must be specified\n",
      "\n"
     ]
    },
    {
     "name": "stderr",
     "output_type": "stream",
     "text": [
      " 88%|████████▊ | 1066/1208 [2:18:52<23:10,  9.79s/it]"
     ]
    },
    {
     "name": "stdout",
     "output_type": "stream",
     "text": [
      "Input #0, mpeg, from 'Data/CorpusNGT/gloss/CNGT1684_S070.mpg':\n",
      "  Duration: 00:03:16.00, start: 0.194911, bitrate: 1665 kb/s\n",
      "    Stream #0:0[0x1e0]: Video: mpeg1video, yuv420p(tv), 352x288 [SAR 178:163 DAR 1958:1467], 1500 kb/s, 25 fps, 25 tbr, 90k tbn, 25 tbc\n",
      "    Stream #0:1[0x1c0]: Audio: mp2, 48000 Hz, stereo, s16p, 128 kb/s\n",
      "At least one output file must be specified\n",
      "\n"
     ]
    },
    {
     "name": "stderr",
     "output_type": "stream",
     "text": [
      " 88%|████████▊ | 1068/1208 [2:19:19<25:14, 10.81s/it]"
     ]
    },
    {
     "name": "stdout",
     "output_type": "stream",
     "text": [
      "Input #0, mpeg, from 'Data/CorpusNGT/gloss/CNGT1685_S069.mpg':\n",
      "  Duration: 00:04:40.00, start: 0.194911, bitrate: 1665 kb/s\n",
      "    Stream #0:0[0x1e0]: Video: mpeg1video, yuv420p(tv), 352x288 [SAR 178:163 DAR 1958:1467], 1500 kb/s, 25 fps, 25 tbr, 90k tbn, 25 tbc\n",
      "    Stream #0:1[0x1c0]: Audio: mp2, 48000 Hz, stereo, s16p, 128 kb/s\n",
      "At least one output file must be specified\n",
      "\n"
     ]
    },
    {
     "name": "stderr",
     "output_type": "stream",
     "text": [
      " 89%|████████▊ | 1070/1208 [2:19:41<25:06, 10.92s/it]"
     ]
    },
    {
     "name": "stdout",
     "output_type": "stream",
     "text": [
      "Input #0, mpeg, from 'Data/CorpusNGT/gloss/CNGT1685_S070.mpg':\n",
      "  Duration: 00:04:40.00, start: 0.194911, bitrate: 1665 kb/s\n",
      "    Stream #0:0[0x1e0]: Video: mpeg1video, yuv420p(tv), 352x288 [SAR 178:163 DAR 1958:1467], 1500 kb/s, 25 fps, 25 tbr, 90k tbn, 25 tbc\n",
      "    Stream #0:1[0x1c0]: Audio: mp2, 48000 Hz, stereo, s16p, 128 kb/s\n",
      "At least one output file must be specified\n",
      "\n"
     ]
    },
    {
     "name": "stderr",
     "output_type": "stream",
     "text": [
      " 89%|████████▊ | 1072/1208 [2:20:09<26:46, 11.81s/it]"
     ]
    },
    {
     "name": "stdout",
     "output_type": "stream",
     "text": [
      "Input #0, mpeg, from 'Data/CorpusNGT/gloss/CNGT1687_S069.mpg':\n",
      "  Duration: 00:02:19.00, start: 0.194911, bitrate: 1666 kb/s\n",
      "    Stream #0:0[0x1e0]: Video: mpeg1video, yuv420p(tv), 352x288 [SAR 178:163 DAR 1958:1467], 1500 kb/s, 25 fps, 25 tbr, 90k tbn, 25 tbc\n",
      "    Stream #0:1[0x1c0]: Audio: mp2, 48000 Hz, stereo, s16p, 128 kb/s\n",
      "At least one output file must be specified\n",
      "\n"
     ]
    },
    {
     "name": "stderr",
     "output_type": "stream",
     "text": [
      " 89%|████████▉ | 1074/1208 [2:20:26<24:01, 10.76s/it]"
     ]
    },
    {
     "name": "stdout",
     "output_type": "stream",
     "text": [
      "Input #0, mpeg, from 'Data/CorpusNGT/gloss/CNGT1687_S070.mpg':\n",
      "  Duration: 00:02:19.00, start: 0.194911, bitrate: 1666 kb/s\n",
      "    Stream #0:0[0x1e0]: Video: mpeg1video, yuv420p(tv), 352x288 [SAR 178:163 DAR 1958:1467], 1500 kb/s, 25 fps, 25 tbr, 90k tbn, 25 tbc\n",
      "    Stream #0:1[0x1c0]: Audio: mp2, 48000 Hz, stereo, s16p, 128 kb/s\n",
      "At least one output file must be specified\n",
      "\n"
     ]
    },
    {
     "name": "stderr",
     "output_type": "stream",
     "text": [
      " 89%|████████▉ | 1076/1208 [2:20:32<18:41,  8.49s/it]"
     ]
    },
    {
     "name": "stdout",
     "output_type": "stream",
     "text": [
      "Input #0, mpeg, from 'Data/CorpusNGT/gloss/CNGT1712_S071.mpg':\n",
      "  Duration: 00:00:44.00, start: 0.194911, bitrate: 1670 kb/s\n",
      "    Stream #0:0[0x1e0]: Video: mpeg1video, yuv420p(tv), 352x288 [SAR 178:163 DAR 1958:1467], 1500 kb/s, 25 fps, 25 tbr, 90k tbn, 25 tbc\n",
      "    Stream #0:1[0x1c0]: Audio: mp2, 48000 Hz, stereo, s16p, 128 kb/s\n",
      "At least one output file must be specified\n",
      "\n"
     ]
    },
    {
     "name": "stderr",
     "output_type": "stream",
     "text": [
      " 89%|████████▉ | 1078/1208 [2:20:37<14:34,  6.73s/it]"
     ]
    },
    {
     "name": "stdout",
     "output_type": "stream",
     "text": [
      "Input #0, mpeg, from 'Data/CorpusNGT/gloss/CNGT1712_S072.mpg':\n",
      "  Duration: 00:00:44.00, start: 0.194911, bitrate: 1670 kb/s\n",
      "    Stream #0:0[0x1e0]: Video: mpeg1video, yuv420p(tv), 352x288 [SAR 178:163 DAR 1958:1467], 1500 kb/s, 25 fps, 25 tbr, 90k tbn, 25 tbc\n",
      "    Stream #0:1[0x1c0]: Audio: mp2, 48000 Hz, stereo, s16p, 128 kb/s\n",
      "At least one output file must be specified\n",
      "\n",
      "Input #0, mpeg, from 'Data/CorpusNGT/gloss/CNGT1714_S071.mpg':\n",
      "  Duration: 00:00:43.00, start: 0.194911, bitrate: 1669 kb/s\n",
      "    Stream #0:0[0x1e0]: Video: mpeg1video, yuv420p(tv), 352x288 [SAR 178:163 DAR 1958:1467], 1500 kb/s, 25 fps, 25 tbr, 90k tbn, 25 tbc\n",
      "    Stream #0:1[0x1c0]: Audio: mp2, 48000 Hz, stereo, s16p, 128 kb/s\n",
      "At least one output file must be specified\n",
      "\n"
     ]
    },
    {
     "name": "stderr",
     "output_type": "stream",
     "text": [
      " 90%|████████▉ | 1082/1208 [2:20:43<08:57,  4.27s/it]"
     ]
    },
    {
     "name": "stdout",
     "output_type": "stream",
     "text": [
      "Input #0, mpeg, from 'Data/CorpusNGT/gloss/CNGT1716_S071.mpg':\n",
      "  Duration: 00:01:04.00, start: 0.194911, bitrate: 1668 kb/s\n",
      "    Stream #0:0[0x1e0]: Video: mpeg1video, yuv420p(tv), 352x288 [SAR 178:163 DAR 1958:1467], 1500 kb/s, 25 fps, 25 tbr, 90k tbn, 25 tbc\n",
      "    Stream #0:1[0x1c0]: Audio: mp2, 48000 Hz, stereo, s16p, 128 kb/s\n",
      "At least one output file must be specified\n",
      "\n"
     ]
    },
    {
     "name": "stderr",
     "output_type": "stream",
     "text": [
      " 90%|████████▉ | 1084/1208 [2:20:52<08:52,  4.30s/it]"
     ]
    },
    {
     "name": "stdout",
     "output_type": "stream",
     "text": [
      "Input #0, mpeg, from 'Data/CorpusNGT/gloss/CNGT1718_S071.mpg':\n",
      "  Duration: 00:00:55.00, start: 0.194911, bitrate: 1668 kb/s\n",
      "    Stream #0:0[0x1e0]: Video: mpeg1video, yuv420p(tv), 352x288 [SAR 178:163 DAR 1958:1467], 1500 kb/s, 25 fps, 25 tbr, 90k tbn, 25 tbc\n",
      "    Stream #0:1[0x1c0]: Audio: mp2, 48000 Hz, stereo, s16p, 128 kb/s\n",
      "At least one output file must be specified\n",
      "\n"
     ]
    },
    {
     "name": "stderr",
     "output_type": "stream",
     "text": [
      " 90%|████████▉ | 1086/1208 [2:21:00<08:37,  4.25s/it]"
     ]
    },
    {
     "name": "stdout",
     "output_type": "stream",
     "text": [
      "Input #0, mpeg, from 'Data/CorpusNGT/gloss/CNGT1789_S073.mpg':\n",
      "  Duration: 00:01:15.00, start: 0.194911, bitrate: 1667 kb/s\n",
      "    Stream #0:0[0x1e0]: Video: mpeg1video, yuv420p(tv), 352x288 [SAR 178:163 DAR 1958:1467], 1500 kb/s, 25 fps, 25 tbr, 90k tbn, 25 tbc\n",
      "    Stream #0:1[0x1c0]: Audio: mp2, 48000 Hz, stereo, s16p, 128 kb/s\n",
      "At least one output file must be specified\n",
      "\n"
     ]
    },
    {
     "name": "stderr",
     "output_type": "stream",
     "text": [
      " 90%|█████████ | 1088/1208 [2:21:05<07:40,  3.83s/it]"
     ]
    },
    {
     "name": "stdout",
     "output_type": "stream",
     "text": [
      "Input #0, mpeg, from 'Data/CorpusNGT/gloss/CNGT1789_S074.mpg':\n",
      "  Duration: 00:01:15.00, start: 0.194911, bitrate: 1667 kb/s\n",
      "    Stream #0:0[0x1e0]: Video: mpeg1video, yuv420p(tv), 352x288 [SAR 178:163 DAR 1958:1467], 1500 kb/s, 25 fps, 25 tbr, 90k tbn, 25 tbc\n",
      "    Stream #0:1[0x1c0]: Audio: mp2, 48000 Hz, stereo, s16p, 128 kb/s\n",
      "At least one output file must be specified\n",
      "\n"
     ]
    },
    {
     "name": "stderr",
     "output_type": "stream",
     "text": [
      " 90%|█████████ | 1090/1208 [2:21:14<07:49,  3.98s/it]"
     ]
    },
    {
     "name": "stdout",
     "output_type": "stream",
     "text": [
      "Input #0, mpeg, from 'Data/CorpusNGT/gloss/CNGT1791_S073.mpg':\n",
      "  Duration: 00:01:21.00, start: 0.194911, bitrate: 1667 kb/s\n",
      "    Stream #0:0[0x1e0]: Video: mpeg1video, yuv420p(tv), 352x288 [SAR 178:163 DAR 1958:1467], 1500 kb/s, 25 fps, 25 tbr, 90k tbn, 25 tbc\n",
      "    Stream #0:1[0x1c0]: Audio: mp2, 48000 Hz, stereo, s16p, 128 kb/s\n",
      "At least one output file must be specified\n",
      "\n"
     ]
    },
    {
     "name": "stderr",
     "output_type": "stream",
     "text": [
      " 90%|█████████ | 1092/1208 [2:21:20<07:15,  3.75s/it]"
     ]
    },
    {
     "name": "stdout",
     "output_type": "stream",
     "text": [
      "Input #0, mpeg, from 'Data/CorpusNGT/gloss/CNGT1791_S074.mpg':\n",
      "  Duration: 00:01:21.00, start: 0.194911, bitrate: 1667 kb/s\n",
      "    Stream #0:0[0x1e0]: Video: mpeg1video, yuv420p(tv), 352x288 [SAR 178:163 DAR 1958:1467], 1500 kb/s, 25 fps, 25 tbr, 90k tbn, 25 tbc\n",
      "    Stream #0:1[0x1c0]: Audio: mp2, 48000 Hz, stereo, s16p, 128 kb/s\n",
      "At least one output file must be specified\n",
      "\n"
     ]
    },
    {
     "name": "stderr",
     "output_type": "stream",
     "text": [
      " 91%|█████████ | 1094/1208 [2:21:28<07:07,  3.75s/it]"
     ]
    },
    {
     "name": "stdout",
     "output_type": "stream",
     "text": [
      "Input #0, mpeg, from 'Data/CorpusNGT/gloss/CNGT1792_S073.mpg':\n",
      "  Duration: 00:02:35.00, start: 0.194911, bitrate: 1665 kb/s\n",
      "    Stream #0:0[0x1e0]: Video: mpeg1video, yuv420p(tv), 352x288 [SAR 178:163 DAR 1958:1467], 1500 kb/s, 25 fps, 25 tbr, 90k tbn, 25 tbc\n",
      "    Stream #0:1[0x1c0]: Audio: mp2, 48000 Hz, stereo, s16p, 128 kb/s\n",
      "At least one output file must be specified\n",
      "\n"
     ]
    },
    {
     "name": "stderr",
     "output_type": "stream",
     "text": [
      " 91%|█████████ | 1096/1208 [2:21:36<07:14,  3.88s/it]"
     ]
    },
    {
     "name": "stdout",
     "output_type": "stream",
     "text": [
      "Input #0, mpeg, from 'Data/CorpusNGT/gloss/CNGT1792_S074.mpg':\n",
      "  Duration: 00:02:35.00, start: 0.194911, bitrate: 1665 kb/s\n",
      "    Stream #0:0[0x1e0]: Video: mpeg1video, yuv420p(tv), 352x288 [SAR 178:163 DAR 1958:1467], 1500 kb/s, 25 fps, 25 tbr, 90k tbn, 25 tbc\n",
      "    Stream #0:1[0x1c0]: Audio: mp2, 48000 Hz, stereo, s16p, 128 kb/s\n",
      "At least one output file must be specified\n",
      "\n"
     ]
    },
    {
     "name": "stderr",
     "output_type": "stream",
     "text": [
      " 91%|█████████ | 1098/1208 [2:21:50<08:49,  4.81s/it]"
     ]
    },
    {
     "name": "stdout",
     "output_type": "stream",
     "text": [
      "Input #0, mpeg, from 'Data/CorpusNGT/gloss/CNGT1832_S075.mpg':\n",
      "  Duration: 00:00:56.00, start: 0.194911, bitrate: 1668 kb/s\n",
      "    Stream #0:0[0x1e0]: Video: mpeg1video, yuv420p(tv), 352x288 [SAR 178:163 DAR 1958:1467], 1500 kb/s, 25 fps, 25 tbr, 90k tbn, 25 tbc\n",
      "    Stream #0:1[0x1c0]: Audio: mp2, 48000 Hz, stereo, s16p, 128 kb/s\n",
      "At least one output file must be specified\n",
      "\n"
     ]
    },
    {
     "name": "stderr",
     "output_type": "stream",
     "text": [
      " 91%|█████████ | 1102/1208 [2:21:58<05:42,  3.23s/it]"
     ]
    },
    {
     "name": "stdout",
     "output_type": "stream",
     "text": [
      "Input #0, mpeg, from 'Data/CorpusNGT/gloss/CNGT1832_S076.mpg':\n",
      "  Duration: 00:00:56.00, start: 0.194911, bitrate: 1668 kb/s\n",
      "    Stream #0:0[0x1e0]: Video: mpeg1video, yuv420p(tv), 352x288 [SAR 178:163 DAR 1958:1467], 1500 kb/s, 25 fps, 25 tbr, 90k tbn, 25 tbc\n",
      "    Stream #0:1[0x1c0]: Audio: mp2, 48000 Hz, stereo, s16p, 128 kb/s\n",
      "At least one output file must be specified\n",
      "\n",
      "Input #0, mpeg, from 'Data/CorpusNGT/gloss/CNGT1833_S075.mpg':\n",
      "  Duration: 00:00:32.00, start: 0.194911, bitrate: 1672 kb/s\n",
      "    Stream #0:0[0x1e0]: Video: mpeg1video, yuv420p(tv), 352x288 [SAR 178:163 DAR 1958:1467], 1500 kb/s, 25 fps, 25 tbr, 90k tbn, 25 tbc\n",
      "    Stream #0:1[0x1c0]: Audio: mp2, 48000 Hz, stereo, s16p, 128 kb/s\n",
      "At least one output file must be specified\n",
      "\n",
      "Input #0, mpeg, from 'Data/CorpusNGT/gloss/CNGT1833_S076.mpg':\n",
      "  Duration: 00:00:32.00, start: 0.194911, bitrate: 1672 kb/s\n",
      "    Stream #0:0[0x1e0]: Video: mpeg1video, yuv420p(tv), 352x288 [SAR 178:163 DAR 1958:1467], 1500 kb/s, 25 fps, 25 tbr, 90k tbn, 25 tbc\n",
      "    Stream #0:1[0x1c0]: Audio: mp2, 48000 Hz, stereo, s16p, 128 kb/s\n",
      "At least one output file must be specified\n",
      "\n"
     ]
    },
    {
     "name": "stderr",
     "output_type": "stream",
     "text": [
      " 92%|█████████▏| 1106/1208 [2:22:02<03:47,  2.23s/it]"
     ]
    },
    {
     "name": "stdout",
     "output_type": "stream",
     "text": [
      "Input #0, mpeg, from 'Data/CorpusNGT/gloss/CNGT1834_S075.mpg':\n",
      "  Duration: 00:00:55.00, start: 0.194911, bitrate: 1668 kb/s\n",
      "    Stream #0:0[0x1e0]: Video: mpeg1video, yuv420p(tv), 352x288 [SAR 178:163 DAR 1958:1467], 1500 kb/s, 25 fps, 25 tbr, 90k tbn, 25 tbc\n",
      "    Stream #0:1[0x1c0]: Audio: mp2, 48000 Hz, stereo, s16p, 128 kb/s\n",
      "At least one output file must be specified\n",
      "\n"
     ]
    },
    {
     "name": "stderr",
     "output_type": "stream",
     "text": [
      " 92%|█████████▏| 1108/1208 [2:22:07<03:48,  2.29s/it]"
     ]
    },
    {
     "name": "stdout",
     "output_type": "stream",
     "text": [
      "Input #0, mpeg, from 'Data/CorpusNGT/gloss/CNGT1834_S076.mpg':\n",
      "  Duration: 00:00:55.00, start: 0.194911, bitrate: 1668 kb/s\n",
      "    Stream #0:0[0x1e0]: Video: mpeg1video, yuv420p(tv), 352x288 [SAR 178:163 DAR 1958:1467], 1500 kb/s, 25 fps, 25 tbr, 90k tbn, 25 tbc\n",
      "    Stream #0:1[0x1c0]: Audio: mp2, 48000 Hz, stereo, s16p, 128 kb/s\n",
      "At least one output file must be specified\n",
      "\n",
      "Input #0, mpeg, from 'Data/CorpusNGT/gloss/CNGT1835_S075.mpg':\n",
      "  Duration: 00:01:19.00, start: 0.194911, bitrate: 1667 kb/s\n",
      "    Stream #0:0[0x1e0]: Video: mpeg1video, yuv420p(tv), 352x288 [SAR 178:163 DAR 1958:1467], 1500 kb/s, 25 fps, 25 tbr, 90k tbn, 25 tbc\n",
      "    Stream #0:1[0x1c0]: Audio: mp2, 48000 Hz, stereo, s16p, 128 kb/s\n",
      "At least one output file must be specified\n",
      "\n"
     ]
    },
    {
     "name": "stderr",
     "output_type": "stream",
     "text": [
      " 92%|█████████▏| 1112/1208 [2:22:08<02:11,  1.37s/it]"
     ]
    },
    {
     "name": "stdout",
     "output_type": "stream",
     "text": [
      "Input #0, mpeg, from 'Data/CorpusNGT/gloss/CNGT1835_S076.mpg':\n",
      "  Duration: 00:01:19.00, start: 0.194911, bitrate: 1667 kb/s\n",
      "    Stream #0:0[0x1e0]: Video: mpeg1video, yuv420p(tv), 352x288 [SAR 178:163 DAR 1958:1467], 1500 kb/s, 25 fps, 25 tbr, 90k tbn, 25 tbc\n",
      "    Stream #0:1[0x1c0]: Audio: mp2, 48000 Hz, stereo, s16p, 128 kb/s\n",
      "At least one output file must be specified\n",
      "\n"
     ]
    },
    {
     "name": "stderr",
     "output_type": "stream",
     "text": [
      " 92%|█████████▏| 1114/1208 [2:22:20<03:48,  2.43s/it]"
     ]
    },
    {
     "name": "stdout",
     "output_type": "stream",
     "text": [
      "Input #0, mpeg, from 'Data/CorpusNGT/gloss/CNGT1836_S075.mpg':\n",
      "  Duration: 00:01:38.00, start: 0.194911, bitrate: 1666 kb/s\n",
      "    Stream #0:0[0x1e0]: Video: mpeg1video, yuv420p(tv), 352x288 [SAR 178:163 DAR 1958:1467], 1500 kb/s, 25 fps, 25 tbr, 90k tbn, 25 tbc\n",
      "    Stream #0:1[0x1c0]: Audio: mp2, 48000 Hz, stereo, s16p, 128 kb/s\n",
      "At least one output file must be specified\n",
      "\n"
     ]
    },
    {
     "name": "stderr",
     "output_type": "stream",
     "text": [
      " 92%|█████████▏| 1116/1208 [2:22:33<05:14,  3.41s/it]"
     ]
    },
    {
     "name": "stdout",
     "output_type": "stream",
     "text": [
      "Input #0, mpeg, from 'Data/CorpusNGT/gloss/CNGT1837_S076.mpg':\n",
      "  Duration: 00:00:49.00, start: 0.194911, bitrate: 1669 kb/s\n",
      "    Stream #0:0[0x1e0]: Video: mpeg1video, yuv420p(tv), 352x288 [SAR 178:163 DAR 1958:1467], 1500 kb/s, 25 fps, 25 tbr, 90k tbn, 25 tbc\n",
      "    Stream #0:1[0x1c0]: Audio: mp2, 48000 Hz, stereo, s16p, 128 kb/s\n",
      "At least one output file must be specified\n",
      "\n"
     ]
    },
    {
     "name": "stderr",
     "output_type": "stream",
     "text": [
      " 93%|█████████▎| 1118/1208 [2:22:39<04:58,  3.31s/it]"
     ]
    },
    {
     "name": "stdout",
     "output_type": "stream",
     "text": [
      "Input #0, mpeg, from 'Data/CorpusNGT/gloss/CNGT1838_S075.mpg':\n",
      "  Duration: 00:00:31.00, start: 0.194911, bitrate: 1672 kb/s\n",
      "    Stream #0:0[0x1e0]: Video: mpeg1video, yuv420p(tv), 352x288 [SAR 178:163 DAR 1958:1467], 1500 kb/s, 25 fps, 25 tbr, 90k tbn, 25 tbc\n",
      "    Stream #0:1[0x1c0]: Audio: mp2, 48000 Hz, stereo, s16p, 128 kb/s\n",
      "At least one output file must be specified\n",
      "\n"
     ]
    },
    {
     "name": "stderr",
     "output_type": "stream",
     "text": [
      " 93%|█████████▎| 1120/1208 [2:22:45<04:45,  3.25s/it]"
     ]
    },
    {
     "name": "stdout",
     "output_type": "stream",
     "text": [
      "Input #0, mpeg, from 'Data/CorpusNGT/gloss/CNGT1839_S076.mpg':\n",
      "  Duration: 00:00:47.00, start: 0.194911, bitrate: 1669 kb/s\n",
      "    Stream #0:0[0x1e0]: Video: mpeg1video, yuv420p(tv), 352x288 [SAR 178:163 DAR 1958:1467], 1500 kb/s, 25 fps, 25 tbr, 90k tbn, 25 tbc\n",
      "    Stream #0:1[0x1c0]: Audio: mp2, 48000 Hz, stereo, s16p, 128 kb/s\n",
      "At least one output file must be specified\n",
      "\n"
     ]
    },
    {
     "name": "stderr",
     "output_type": "stream",
     "text": [
      " 93%|█████████▎| 1122/1208 [2:22:53<04:56,  3.45s/it]"
     ]
    },
    {
     "name": "stdout",
     "output_type": "stream",
     "text": [
      "Input #0, mpeg, from 'Data/CorpusNGT/gloss/CNGT1840_S075.mpg':\n",
      "  Duration: 00:00:46.00, start: 0.194911, bitrate: 1669 kb/s\n",
      "    Stream #0:0[0x1e0]: Video: mpeg1video, yuv420p(tv), 352x288 [SAR 178:163 DAR 1958:1467], 1500 kb/s, 25 fps, 25 tbr, 90k tbn, 25 tbc\n",
      "    Stream #0:1[0x1c0]: Audio: mp2, 48000 Hz, stereo, s16p, 128 kb/s\n",
      "At least one output file must be specified\n",
      "\n"
     ]
    },
    {
     "name": "stderr",
     "output_type": "stream",
     "text": [
      " 93%|█████████▎| 1124/1208 [2:22:58<04:36,  3.29s/it]"
     ]
    },
    {
     "name": "stdout",
     "output_type": "stream",
     "text": [
      "Input #0, mpeg, from 'Data/CorpusNGT/gloss/CNGT1840_S076.mpg':\n",
      "  Duration: 00:00:46.00, start: 0.194911, bitrate: 1669 kb/s\n",
      "    Stream #0:0[0x1e0]: Video: mpeg1video, yuv420p(tv), 352x288 [SAR 178:163 DAR 1958:1467], 1500 kb/s, 25 fps, 25 tbr, 90k tbn, 25 tbc\n",
      "    Stream #0:1[0x1c0]: Audio: mp2, 48000 Hz, stereo, s16p, 128 kb/s\n",
      "At least one output file must be specified\n",
      "\n"
     ]
    },
    {
     "name": "stderr",
     "output_type": "stream",
     "text": [
      " 93%|█████████▎| 1126/1208 [2:22:59<03:15,  2.38s/it]"
     ]
    },
    {
     "name": "stdout",
     "output_type": "stream",
     "text": [
      "Input #0, mpeg, from 'Data/CorpusNGT/gloss/CNGT1853_S075.mpg':\n",
      "  Duration: 00:00:26.00, start: 0.194911, bitrate: 1673 kb/s\n",
      "    Stream #0:0[0x1e0]: Video: mpeg1video, yuv420p(tv), 352x288 [SAR 178:163 DAR 1958:1467], 1500 kb/s, 25 fps, 25 tbr, 90k tbn, 25 tbc\n",
      "    Stream #0:1[0x1c0]: Audio: mp2, 48000 Hz, stereo, s16p, 128 kb/s\n",
      "At least one output file must be specified\n",
      "\n"
     ]
    },
    {
     "name": "stderr",
     "output_type": "stream",
     "text": [
      " 93%|█████████▎| 1128/1208 [2:23:00<02:25,  1.82s/it]"
     ]
    },
    {
     "name": "stdout",
     "output_type": "stream",
     "text": [
      "Input #0, mpeg, from 'Data/CorpusNGT/gloss/CNGT1853_S076.mpg':\n",
      "  Duration: 00:00:26.00, start: 0.194911, bitrate: 1673 kb/s\n",
      "    Stream #0:0[0x1e0]: Video: mpeg1video, yuv420p(tv), 352x288 [SAR 178:163 DAR 1958:1467], 1500 kb/s, 25 fps, 25 tbr, 90k tbn, 25 tbc\n",
      "    Stream #0:1[0x1c0]: Audio: mp2, 48000 Hz, stereo, s16p, 128 kb/s\n",
      "At least one output file must be specified\n",
      "\n"
     ]
    },
    {
     "name": "stderr",
     "output_type": "stream",
     "text": [
      " 94%|█████████▎| 1130/1208 [2:23:01<01:57,  1.51s/it]"
     ]
    },
    {
     "name": "stdout",
     "output_type": "stream",
     "text": [
      "Input #0, mpeg, from 'Data/CorpusNGT/gloss/CNGT1854_S075.mpg':\n",
      "  Duration: 00:00:17.00, start: 0.194911, bitrate: 1679 kb/s\n",
      "    Stream #0:0[0x1e0]: Video: mpeg1video, yuv420p(tv), 352x288 [SAR 178:163 DAR 1958:1467], 1500 kb/s, 25 fps, 25 tbr, 90k tbn, 25 tbc\n",
      "    Stream #0:1[0x1c0]: Audio: mp2, 48000 Hz, stereo, s16p, 128 kb/s\n",
      "At least one output file must be specified\n",
      "\n"
     ]
    },
    {
     "name": "stderr",
     "output_type": "stream",
     "text": [
      " 94%|█████████▎| 1132/1208 [2:23:03<01:40,  1.33s/it]"
     ]
    },
    {
     "name": "stdout",
     "output_type": "stream",
     "text": [
      "Input #0, mpeg, from 'Data/CorpusNGT/gloss/CNGT1867_S075.mpg':\n",
      "  Duration: 00:03:01.00, start: 0.194911, bitrate: 1665 kb/s\n",
      "    Stream #0:0[0x1e0]: Video: mpeg1video, yuv420p(tv), 352x288 [SAR 178:163 DAR 1958:1467], 1500 kb/s, 25 fps, 25 tbr, 90k tbn, 25 tbc\n",
      "    Stream #0:1[0x1c0]: Audio: mp2, 48000 Hz, stereo, s16p, 128 kb/s\n",
      "At least one output file must be specified\n",
      "\n"
     ]
    },
    {
     "name": "stderr",
     "output_type": "stream",
     "text": [
      " 94%|█████████▍| 1134/1208 [2:23:04<01:14,  1.01s/it]"
     ]
    },
    {
     "name": "stdout",
     "output_type": "stream",
     "text": [
      "Input #0, mpeg, from 'Data/CorpusNGT/gloss/CNGT1867_S076.mpg':\n",
      "  Duration: 00:03:01.00, start: 0.194911, bitrate: 1665 kb/s\n",
      "    Stream #0:0[0x1e0]: Video: mpeg1video, yuv420p(tv), 352x288 [SAR 178:163 DAR 1958:1467], 1500 kb/s, 25 fps, 25 tbr, 90k tbn, 25 tbc\n",
      "    Stream #0:1[0x1c0]: Audio: mp2, 48000 Hz, stereo, s16p, 128 kb/s\n",
      "At least one output file must be specified\n",
      "\n"
     ]
    },
    {
     "name": "stderr",
     "output_type": "stream",
     "text": [
      " 94%|█████████▍| 1136/1208 [2:23:04<00:59,  1.21it/s]"
     ]
    },
    {
     "name": "stdout",
     "output_type": "stream",
     "text": [
      "Input #0, mpeg, from 'Data/CorpusNGT/gloss/CNGT1895_S077.mpg':\n",
      "  Duration: 00:01:01.00, start: 0.194911, bitrate: 1668 kb/s\n",
      "    Stream #0:0[0x1e0]: Video: mpeg1video, yuv420p(tv), 352x288 [SAR 178:163 DAR 1958:1467], 1500 kb/s, 25 fps, 25 tbr, 90k tbn, 25 tbc\n",
      "    Stream #0:1[0x1c0]: Audio: mp2, 48000 Hz, stereo, s16p, 128 kb/s\n",
      "At least one output file must be specified\n",
      "\n"
     ]
    },
    {
     "name": "stderr",
     "output_type": "stream",
     "text": [
      " 94%|█████████▍| 1138/1208 [2:23:12<02:02,  1.75s/it]"
     ]
    },
    {
     "name": "stdout",
     "output_type": "stream",
     "text": [
      "Input #0, mpeg, from 'Data/CorpusNGT/gloss/CNGT1897_S077.mpg':\n",
      "  Duration: 00:00:57.00, start: 0.194911, bitrate: 1668 kb/s\n",
      "    Stream #0:0[0x1e0]: Video: mpeg1video, yuv420p(tv), 352x288 [SAR 178:163 DAR 1958:1467], 1500 kb/s, 25 fps, 25 tbr, 90k tbn, 25 tbc\n",
      "    Stream #0:1[0x1c0]: Audio: mp2, 48000 Hz, stereo, s16p, 128 kb/s\n",
      "At least one output file must be specified\n",
      "\n"
     ]
    },
    {
     "name": "stderr",
     "output_type": "stream",
     "text": [
      " 94%|█████████▍| 1140/1208 [2:23:20<02:42,  2.39s/it]"
     ]
    },
    {
     "name": "stdout",
     "output_type": "stream",
     "text": [
      "Input #0, mpeg, from 'Data/CorpusNGT/gloss/CNGT1899_S077.mpg':\n",
      "  Duration: 00:01:35.00, start: 0.194911, bitrate: 1666 kb/s\n",
      "    Stream #0:0[0x1e0]: Video: mpeg1video, yuv420p(tv), 352x288 [SAR 178:163 DAR 1958:1467], 1500 kb/s, 25 fps, 25 tbr, 90k tbn, 25 tbc\n",
      "    Stream #0:1[0x1c0]: Audio: mp2, 48000 Hz, stereo, s16p, 128 kb/s\n",
      "At least one output file must be specified\n",
      "\n"
     ]
    },
    {
     "name": "stderr",
     "output_type": "stream",
     "text": [
      " 95%|█████████▍| 1144/1208 [2:23:32<02:39,  2.50s/it]"
     ]
    },
    {
     "name": "stdout",
     "output_type": "stream",
     "text": [
      "Input #0, mpeg, from 'Data/CorpusNGT/gloss/CNGT1899_S078.mpg':\n",
      "  Duration: 00:01:35.00, start: 0.194911, bitrate: 1666 kb/s\n",
      "    Stream #0:0[0x1e0]: Video: mpeg1video, yuv420p(tv), 352x288 [SAR 178:163 DAR 1958:1467], 1500 kb/s, 25 fps, 25 tbr, 90k tbn, 25 tbc\n",
      "    Stream #0:1[0x1c0]: Audio: mp2, 48000 Hz, stereo, s16p, 128 kb/s\n",
      "At least one output file must be specified\n",
      "\n",
      "Input #0, mpeg, from 'Data/CorpusNGT/gloss/CNGT1901_S077.mpg':\n",
      "  Duration: 00:00:33.00, start: 0.194911, bitrate: 1671 kb/s\n",
      "    Stream #0:0[0x1e0]: Video: mpeg1video, yuv420p(tv), 352x288 [SAR 178:163 DAR 1958:1467], 1500 kb/s, 25 fps, 25 tbr, 90k tbn, 25 tbc\n",
      "    Stream #0:1[0x1c0]: Audio: mp2, 48000 Hz, stereo, s16p, 128 kb/s\n",
      "At least one output file must be specified\n",
      "\n"
     ]
    },
    {
     "name": "stderr",
     "output_type": "stream",
     "text": [
      " 95%|█████████▍| 1146/1208 [2:23:36<02:20,  2.27s/it]"
     ]
    },
    {
     "name": "stdout",
     "output_type": "stream",
     "text": [
      "Input #0, mpeg, from 'Data/CorpusNGT/gloss/CNGT1904_S078.mpg':\n",
      "  Duration: 00:01:38.00, start: 0.194911, bitrate: 1666 kb/s\n",
      "    Stream #0:0[0x1e0]: Video: mpeg1video, yuv420p(tv), 352x288 [SAR 178:163 DAR 1958:1467], 1500 kb/s, 25 fps, 25 tbr, 90k tbn, 25 tbc\n",
      "    Stream #0:1[0x1c0]: Audio: mp2, 48000 Hz, stereo, s16p, 128 kb/s\n",
      "At least one output file must be specified\n",
      "\n"
     ]
    },
    {
     "name": "stderr",
     "output_type": "stream",
     "text": [
      " 95%|█████████▌| 1148/1208 [2:23:54<04:20,  4.35s/it]"
     ]
    },
    {
     "name": "stdout",
     "output_type": "stream",
     "text": [
      "Input #0, mpeg, from 'Data/CorpusNGT/gloss/CNGT1914_S077.mpg':\n",
      "  Duration: 00:04:53.00, start: 0.194911, bitrate: 1665 kb/s\n",
      "    Stream #0:0[0x1e0]: Video: mpeg1video, yuv420p(tv), 352x288 [SAR 178:163 DAR 1958:1467], 1500 kb/s, 25 fps, 25 tbr, 90k tbn, 25 tbc\n",
      "    Stream #0:1[0x1c0]: Audio: mp2, 48000 Hz, stereo, s16p, 128 kb/s\n",
      "At least one output file must be specified\n",
      "\n"
     ]
    },
    {
     "name": "stderr",
     "output_type": "stream",
     "text": [
      " 95%|█████████▌| 1150/1208 [2:24:22<06:54,  7.15s/it]"
     ]
    },
    {
     "name": "stdout",
     "output_type": "stream",
     "text": [
      "Input #0, mpeg, from 'Data/CorpusNGT/gloss/CNGT1914_S078.mpg':\n",
      "  Duration: 00:04:53.00, start: 0.194911, bitrate: 1665 kb/s\n",
      "    Stream #0:0[0x1e0]: Video: mpeg1video, yuv420p(tv), 352x288 [SAR 178:163 DAR 1958:1467], 1500 kb/s, 25 fps, 25 tbr, 90k tbn, 25 tbc\n",
      "    Stream #0:1[0x1c0]: Audio: mp2, 48000 Hz, stereo, s16p, 128 kb/s\n",
      "At least one output file must be specified\n",
      "\n"
     ]
    },
    {
     "name": "stderr",
     "output_type": "stream",
     "text": [
      " 95%|█████████▌| 1152/1208 [2:24:57<09:33, 10.25s/it]"
     ]
    },
    {
     "name": "stdout",
     "output_type": "stream",
     "text": [
      "Input #0, mpeg, from 'Data/CorpusNGT/gloss/CNGT1915_S077.mpg':\n",
      "  Duration: 00:02:50.00, start: 0.194911, bitrate: 1665 kb/s\n",
      "    Stream #0:0[0x1e0]: Video: mpeg1video, yuv420p(tv), 352x288 [SAR 178:163 DAR 1958:1467], 1500 kb/s, 25 fps, 25 tbr, 90k tbn, 25 tbc\n",
      "    Stream #0:1[0x1c0]: Audio: mp2, 48000 Hz, stereo, s16p, 128 kb/s\n",
      "At least one output file must be specified\n",
      "\n"
     ]
    },
    {
     "name": "stderr",
     "output_type": "stream",
     "text": [
      " 96%|█████████▌| 1154/1208 [2:25:16<09:04, 10.07s/it]"
     ]
    },
    {
     "name": "stdout",
     "output_type": "stream",
     "text": [
      "Input #0, mpeg, from 'Data/CorpusNGT/gloss/CNGT1915_S078.mpg':\n",
      "  Duration: 00:02:50.00, start: 0.194911, bitrate: 1665 kb/s\n",
      "    Stream #0:0[0x1e0]: Video: mpeg1video, yuv420p(tv), 352x288 [SAR 178:163 DAR 1958:1467], 1500 kb/s, 25 fps, 25 tbr, 90k tbn, 25 tbc\n",
      "    Stream #0:1[0x1c0]: Audio: mp2, 48000 Hz, stereo, s16p, 128 kb/s\n",
      "At least one output file must be specified\n",
      "\n"
     ]
    },
    {
     "name": "stderr",
     "output_type": "stream",
     "text": [
      " 96%|█████████▌| 1156/1208 [2:25:32<08:12,  9.48s/it]"
     ]
    },
    {
     "name": "stdout",
     "output_type": "stream",
     "text": [
      "Input #0, mpeg, from 'Data/CorpusNGT/gloss/CNGT1916_S077.mpg':\n",
      "  Duration: 00:04:25.00, start: 0.194911, bitrate: 1665 kb/s\n",
      "    Stream #0:0[0x1e0]: Video: mpeg1video, yuv420p(tv), 352x288 [SAR 178:163 DAR 1958:1467], 1500 kb/s, 25 fps, 25 tbr, 90k tbn, 25 tbc\n",
      "    Stream #0:1[0x1c0]: Audio: mp2, 48000 Hz, stereo, s16p, 128 kb/s\n",
      "At least one output file must be specified\n",
      "\n"
     ]
    },
    {
     "name": "stderr",
     "output_type": "stream",
     "text": [
      " 96%|█████████▌| 1158/1208 [2:25:57<08:34, 10.30s/it]"
     ]
    },
    {
     "name": "stdout",
     "output_type": "stream",
     "text": [
      "Input #0, mpeg, from 'Data/CorpusNGT/gloss/CNGT1916_S078.mpg':\n",
      "  Duration: 00:04:25.00, start: 0.194911, bitrate: 1665 kb/s\n",
      "    Stream #0:0[0x1e0]: Video: mpeg1video, yuv420p(tv), 352x288 [SAR 178:163 DAR 1958:1467], 1500 kb/s, 25 fps, 25 tbr, 90k tbn, 25 tbc\n",
      "    Stream #0:1[0x1c0]: Audio: mp2, 48000 Hz, stereo, s16p, 128 kb/s\n",
      "At least one output file must be specified\n",
      "\n"
     ]
    },
    {
     "name": "stderr",
     "output_type": "stream",
     "text": [
      " 96%|█████████▌| 1162/1208 [2:26:21<05:51,  7.63s/it]"
     ]
    },
    {
     "name": "stdout",
     "output_type": "stream",
     "text": [
      "Input #0, mpeg, from 'Data/CorpusNGT/gloss/CNGT1986_S080.mpg':\n",
      "  Duration: 00:02:16.00, start: 0.194911, bitrate: 1666 kb/s\n",
      "    Stream #0:0[0x1e0]: Video: mpeg1video, yuv420p(tv), 352x288 [SAR 178:163 DAR 1958:1467], 1500 kb/s, 25 fps, 25 tbr, 90k tbn, 25 tbc\n",
      "    Stream #0:1[0x1c0]: Audio: mp2, 48000 Hz, stereo, s16p, 128 kb/s\n",
      "At least one output file must be specified\n",
      "\n",
      "Input #0, mpeg, from 'Data/CorpusNGT/gloss/CNGT2035_S081.mpg':\n",
      "  Duration: 00:02:51.00, start: 0.194911, bitrate: 1665 kb/s\n",
      "    Stream #0:0[0x1e0]: Video: mpeg1video, yuv420p(tv), 352x288 [SAR 178:163 DAR 1958:1467], 1500 kb/s, 25 fps, 25 tbr, 90k tbn, 25 tbc\n",
      "    Stream #0:1[0x1c0]: Audio: mp2, 48000 Hz, stereo, s16p, 128 kb/s\n",
      "At least one output file must be specified\n",
      "\n"
     ]
    },
    {
     "name": "stderr",
     "output_type": "stream",
     "text": [
      " 96%|█████████▋| 1164/1208 [2:26:36<05:30,  7.50s/it]"
     ]
    },
    {
     "name": "stdout",
     "output_type": "stream",
     "text": [
      "Input #0, mpeg, from 'Data/CorpusNGT/gloss/CNGT2035_S082.mpg':\n",
      "  Duration: 00:02:51.00, start: 0.194911, bitrate: 1665 kb/s\n",
      "    Stream #0:0[0x1e0]: Video: mpeg1video, yuv420p(tv), 352x288 [SAR 178:163 DAR 1958:1467], 1500 kb/s, 25 fps, 25 tbr, 90k tbn, 25 tbc\n",
      "    Stream #0:1[0x1c0]: Audio: mp2, 48000 Hz, stereo, s16p, 128 kb/s\n",
      "At least one output file must be specified\n",
      "\n"
     ]
    },
    {
     "name": "stderr",
     "output_type": "stream",
     "text": [
      " 97%|█████████▋| 1166/1208 [2:26:45<04:42,  6.73s/it]"
     ]
    },
    {
     "name": "stdout",
     "output_type": "stream",
     "text": [
      "Input #0, mpeg, from 'Data/CorpusNGT/gloss/CNGT2036_S081.mpg':\n",
      "  Duration: 00:02:02.00, start: 0.194911, bitrate: 1666 kb/s\n",
      "    Stream #0:0[0x1e0]: Video: mpeg1video, yuv420p(tv), 352x288 [SAR 178:163 DAR 1958:1467], 1500 kb/s, 25 fps, 25 tbr, 90k tbn, 25 tbc\n",
      "    Stream #0:1[0x1c0]: Audio: mp2, 48000 Hz, stereo, s16p, 128 kb/s\n",
      "At least one output file must be specified\n",
      "\n"
     ]
    },
    {
     "name": "stderr",
     "output_type": "stream",
     "text": [
      " 97%|█████████▋| 1168/1208 [2:26:57<04:14,  6.36s/it]"
     ]
    },
    {
     "name": "stdout",
     "output_type": "stream",
     "text": [
      "Input #0, mpeg, from 'Data/CorpusNGT/gloss/CNGT2036_S082.mpg':\n",
      "  Duration: 00:02:02.00, start: 0.194911, bitrate: 1666 kb/s\n",
      "    Stream #0:0[0x1e0]: Video: mpeg1video, yuv420p(tv), 352x288 [SAR 178:163 DAR 1958:1467], 1500 kb/s, 25 fps, 25 tbr, 90k tbn, 25 tbc\n",
      "    Stream #0:1[0x1c0]: Audio: mp2, 48000 Hz, stereo, s16p, 128 kb/s\n",
      "At least one output file must be specified\n",
      "\n"
     ]
    },
    {
     "name": "stderr",
     "output_type": "stream",
     "text": [
      " 97%|█████████▋| 1170/1208 [2:27:04<03:31,  5.57s/it]"
     ]
    },
    {
     "name": "stdout",
     "output_type": "stream",
     "text": [
      "Input #0, mpeg, from 'Data/CorpusNGT/gloss/CNGT2045_S081.mpg':\n",
      "  Duration: 00:03:21.00, start: 0.194911, bitrate: 1665 kb/s\n",
      "    Stream #0:0[0x1e0]: Video: mpeg1video, yuv420p(tv), 352x288 [SAR 178:163 DAR 1958:1467], 1500 kb/s, 25 fps, 25 tbr, 90k tbn, 25 tbc\n",
      "    Stream #0:1[0x1c0]: Audio: mp2, 48000 Hz, stereo, s16p, 128 kb/s\n",
      "At least one output file must be specified\n",
      "\n"
     ]
    },
    {
     "name": "stderr",
     "output_type": "stream",
     "text": [
      " 97%|█████████▋| 1172/1208 [2:27:28<04:28,  7.46s/it]"
     ]
    },
    {
     "name": "stdout",
     "output_type": "stream",
     "text": [
      "Input #0, mpeg, from 'Data/CorpusNGT/gloss/CNGT2045_S082.mpg':\n",
      "  Duration: 00:03:21.00, start: 0.194911, bitrate: 1665 kb/s\n",
      "    Stream #0:0[0x1e0]: Video: mpeg1video, yuv420p(tv), 352x288 [SAR 178:163 DAR 1958:1467], 1500 kb/s, 25 fps, 25 tbr, 90k tbn, 25 tbc\n",
      "    Stream #0:1[0x1c0]: Audio: mp2, 48000 Hz, stereo, s16p, 128 kb/s\n",
      "At least one output file must be specified\n",
      "\n"
     ]
    },
    {
     "name": "stderr",
     "output_type": "stream",
     "text": [
      " 97%|█████████▋| 1174/1208 [2:27:39<03:57,  6.98s/it]"
     ]
    },
    {
     "name": "stdout",
     "output_type": "stream",
     "text": [
      "Input #0, mpeg, from 'Data/CorpusNGT/gloss/CNGT2142_S086.mpg':\n",
      "  Duration: 00:00:51.00, start: 0.194911, bitrate: 1668 kb/s\n",
      "    Stream #0:0[0x1e0]: Video: mpeg1video, yuv420p(tv), 352x288 [SAR 178:163 DAR 1958:1467], 1500 kb/s, 25 fps, 25 tbr, 90k tbn, 25 tbc\n",
      "    Stream #0:1[0x1c0]: Audio: mp2, 48000 Hz, stereo, s16p, 128 kb/s\n",
      "At least one output file must be specified\n",
      "\n"
     ]
    },
    {
     "name": "stderr",
     "output_type": "stream",
     "text": [
      " 97%|█████████▋| 1176/1208 [2:27:45<03:01,  5.68s/it]"
     ]
    },
    {
     "name": "stdout",
     "output_type": "stream",
     "text": [
      "Input #0, mpeg, from 'Data/CorpusNGT/gloss/CNGT2143_S085.mpg':\n",
      "  Duration: 00:00:40.00, start: 0.194911, bitrate: 1670 kb/s\n",
      "    Stream #0:0[0x1e0]: Video: mpeg1video, yuv420p(tv), 352x288 [SAR 178:163 DAR 1958:1467], 1500 kb/s, 25 fps, 25 tbr, 90k tbn, 25 tbc\n",
      "    Stream #0:1[0x1c0]: Audio: mp2, 48000 Hz, stereo, s16p, 128 kb/s\n",
      "At least one output file must be specified\n",
      "\n"
     ]
    },
    {
     "name": "stderr",
     "output_type": "stream",
     "text": [
      " 98%|█████████▊| 1178/1208 [2:27:49<02:16,  4.56s/it]"
     ]
    },
    {
     "name": "stdout",
     "output_type": "stream",
     "text": [
      "Input #0, mpeg, from 'Data/CorpusNGT/gloss/CNGT2144_S086.mpg':\n",
      "  Duration: 00:00:44.00, start: 0.194911, bitrate: 1670 kb/s\n",
      "    Stream #0:0[0x1e0]: Video: mpeg1video, yuv420p(tv), 352x288 [SAR 178:163 DAR 1958:1467], 1500 kb/s, 25 fps, 25 tbr, 90k tbn, 25 tbc\n",
      "    Stream #0:1[0x1c0]: Audio: mp2, 48000 Hz, stereo, s16p, 128 kb/s\n",
      "At least one output file must be specified\n",
      "\n"
     ]
    },
    {
     "name": "stderr",
     "output_type": "stream",
     "text": [
      " 98%|█████████▊| 1180/1208 [2:27:53<01:46,  3.82s/it]"
     ]
    },
    {
     "name": "stdout",
     "output_type": "stream",
     "text": [
      "Input #0, mpeg, from 'Data/CorpusNGT/gloss/CNGT2145_S085.mpg':\n",
      "  Duration: 00:01:21.00, start: 0.194911, bitrate: 1667 kb/s\n",
      "    Stream #0:0[0x1e0]: Video: mpeg1video, yuv420p(tv), 352x288 [SAR 178:163 DAR 1958:1467], 1500 kb/s, 25 fps, 25 tbr, 90k tbn, 25 tbc\n",
      "    Stream #0:1[0x1c0]: Audio: mp2, 48000 Hz, stereo, s16p, 128 kb/s\n",
      "At least one output file must be specified\n",
      "\n"
     ]
    },
    {
     "name": "stderr",
     "output_type": "stream",
     "text": [
      " 98%|█████████▊| 1182/1208 [2:28:02<01:44,  4.00s/it]"
     ]
    },
    {
     "name": "stdout",
     "output_type": "stream",
     "text": [
      "Input #0, mpeg, from 'Data/CorpusNGT/gloss/CNGT2146_S086.mpg':\n",
      "  Duration: 00:01:15.00, start: 0.194911, bitrate: 1667 kb/s\n",
      "    Stream #0:0[0x1e0]: Video: mpeg1video, yuv420p(tv), 352x288 [SAR 178:163 DAR 1958:1467], 1500 kb/s, 25 fps, 25 tbr, 90k tbn, 25 tbc\n",
      "    Stream #0:1[0x1c0]: Audio: mp2, 48000 Hz, stereo, s16p, 128 kb/s\n",
      "At least one output file must be specified\n",
      "\n"
     ]
    },
    {
     "name": "stderr",
     "output_type": "stream",
     "text": [
      " 98%|█████████▊| 1184/1208 [2:28:08<01:30,  3.75s/it]"
     ]
    },
    {
     "name": "stdout",
     "output_type": "stream",
     "text": [
      "Input #0, mpeg, from 'Data/CorpusNGT/gloss/CNGT2147_S085.mpg':\n",
      "  Duration: 00:00:26.96, start: 0.194911, bitrate: 1673 kb/s\n",
      "    Stream #0:0[0x1e0]: Video: mpeg1video, yuv420p(tv), 352x288 [SAR 178:163 DAR 1958:1467], 1500 kb/s, 25 fps, 25 tbr, 90k tbn, 25 tbc\n",
      "    Stream #0:1[0x1c0]: Audio: mp2, 48000 Hz, stereo, s16p, 128 kb/s\n",
      "At least one output file must be specified\n",
      "\n"
     ]
    },
    {
     "name": "stderr",
     "output_type": "stream",
     "text": [
      " 98%|█████████▊| 1186/1208 [2:28:11<01:09,  3.14s/it]"
     ]
    },
    {
     "name": "stdout",
     "output_type": "stream",
     "text": [
      "Input #0, mpeg, from 'Data/CorpusNGT/gloss/CNGT2148_S086.mpg':\n",
      "  Duration: 00:00:43.00, start: 0.194911, bitrate: 1669 kb/s\n",
      "    Stream #0:0[0x1e0]: Video: mpeg1video, yuv420p(tv), 352x288 [SAR 178:163 DAR 1958:1467], 1500 kb/s, 25 fps, 25 tbr, 90k tbn, 25 tbc\n",
      "    Stream #0:1[0x1c0]: Audio: mp2, 48000 Hz, stereo, s16p, 128 kb/s\n",
      "At least one output file must be specified\n",
      "\n"
     ]
    },
    {
     "name": "stderr",
     "output_type": "stream",
     "text": [
      " 99%|█████████▊| 1190/1208 [2:28:16<00:36,  2.00s/it]"
     ]
    },
    {
     "name": "stdout",
     "output_type": "stream",
     "text": [
      "Input #0, mpeg, from 'Data/CorpusNGT/gloss/CNGT2149_S085.mpg':\n",
      "  Duration: 00:00:48.00, start: 0.194911, bitrate: 1669 kb/s\n",
      "    Stream #0:0[0x1e0]: Video: mpeg1video, yuv420p(tv), 352x288 [SAR 178:163 DAR 1958:1467], 1500 kb/s, 25 fps, 25 tbr, 90k tbn, 25 tbc\n",
      "    Stream #0:1[0x1c0]: Audio: mp2, 48000 Hz, stereo, s16p, 128 kb/s\n",
      "At least one output file must be specified\n",
      "\n",
      "Input #0, mpeg, from 'Data/CorpusNGT/gloss/CNGT2149_S086.mpg':\n",
      "  Duration: 00:00:48.00, start: 0.194911, bitrate: 1669 kb/s\n",
      "    Stream #0:0[0x1e0]: Video: mpeg1video, yuv420p(tv), 352x288 [SAR 178:163 DAR 1958:1467], 1500 kb/s, 25 fps, 25 tbr, 90k tbn, 25 tbc\n",
      "    Stream #0:1[0x1c0]: Audio: mp2, 48000 Hz, stereo, s16p, 128 kb/s\n",
      "At least one output file must be specified\n",
      "\n"
     ]
    },
    {
     "name": "stderr",
     "output_type": "stream",
     "text": [
      " 99%|█████████▊| 1192/1208 [2:28:19<00:30,  1.90s/it]"
     ]
    },
    {
     "name": "stdout",
     "output_type": "stream",
     "text": [
      "Input #0, mpeg, from 'Data/CorpusNGT/gloss/CNGT2150_S085.mpg':\n",
      "  Duration: 00:01:48.00, start: 0.194911, bitrate: 1666 kb/s\n",
      "    Stream #0:0[0x1e0]: Video: mpeg1video, yuv420p(tv), 352x288 [SAR 178:163 DAR 1958:1467], 1500 kb/s, 25 fps, 25 tbr, 90k tbn, 25 tbc\n",
      "    Stream #0:1[0x1c0]: Audio: mp2, 48000 Hz, stereo, s16p, 128 kb/s\n",
      "At least one output file must be specified\n",
      "\n"
     ]
    },
    {
     "name": "stderr",
     "output_type": "stream",
     "text": [
      " 99%|█████████▉| 1196/1208 [2:28:31<00:26,  2.23s/it]"
     ]
    },
    {
     "name": "stdout",
     "output_type": "stream",
     "text": [
      "Input #0, mpeg, from 'Data/CorpusNGT/gloss/CNGT2150_S086.mpg':\n",
      "  Duration: 00:01:48.00, start: 0.194911, bitrate: 1666 kb/s\n",
      "    Stream #0:0[0x1e0]: Video: mpeg1video, yuv420p(tv), 352x288 [SAR 178:163 DAR 1958:1467], 1500 kb/s, 25 fps, 25 tbr, 90k tbn, 25 tbc\n",
      "    Stream #0:1[0x1c0]: Audio: mp2, 48000 Hz, stereo, s16p, 128 kb/s\n",
      "At least one output file must be specified\n",
      "\n",
      "Input #0, mpeg, from 'Data/CorpusNGT/gloss/CNGT2211_S087.mpg':\n",
      "  Duration: 00:01:30.00, start: 0.194911, bitrate: 1666 kb/s\n",
      "    Stream #0:0[0x1e0]: Video: mpeg1video, yuv420p(tv), 352x288 [SAR 178:163 DAR 1958:1467], 1500 kb/s, 25 fps, 25 tbr, 90k tbn, 25 tbc\n",
      "    Stream #0:1[0x1c0]: Audio: mp2, 48000 Hz, stereo, s16p, 128 kb/s\n",
      "At least one output file must be specified\n",
      "\n"
     ]
    },
    {
     "name": "stderr",
     "output_type": "stream",
     "text": [
      " 99%|█████████▉| 1198/1208 [2:28:33<00:18,  1.84s/it]"
     ]
    },
    {
     "name": "stdout",
     "output_type": "stream",
     "text": [
      "Input #0, mpeg, from 'Data/CorpusNGT/gloss/CNGT2212_S087.mpg':\n",
      "  Duration: 00:03:26.00, start: 0.194911, bitrate: 1665 kb/s\n",
      "    Stream #0:0[0x1e0]: Video: mpeg1video, yuv420p(tv), 352x288 [SAR 178:163 DAR 1958:1467], 1500 kb/s, 25 fps, 25 tbr, 90k tbn, 25 tbc\n",
      "    Stream #0:1[0x1c0]: Audio: mp2, 48000 Hz, stereo, s16p, 128 kb/s\n",
      "At least one output file must be specified\n",
      "\n"
     ]
    },
    {
     "name": "stderr",
     "output_type": "stream",
     "text": [
      " 99%|█████████▉| 1200/1208 [2:28:51<00:31,  3.95s/it]"
     ]
    },
    {
     "name": "stdout",
     "output_type": "stream",
     "text": [
      "Input #0, mpeg, from 'Data/CorpusNGT/gloss/CNGT2212_S088.mpg':\n",
      "  Duration: 00:03:26.00, start: 0.194911, bitrate: 1665 kb/s\n",
      "    Stream #0:0[0x1e0]: Video: mpeg1video, yuv420p(tv), 352x288 [SAR 178:163 DAR 1958:1467], 1500 kb/s, 25 fps, 25 tbr, 90k tbn, 25 tbc\n",
      "    Stream #0:1[0x1c0]: Audio: mp2, 48000 Hz, stereo, s16p, 128 kb/s\n",
      "At least one output file must be specified\n",
      "\n"
     ]
    },
    {
     "name": "stderr",
     "output_type": "stream",
     "text": [
      "100%|█████████▉| 1202/1208 [2:28:57<00:21,  3.61s/it]"
     ]
    },
    {
     "name": "stdout",
     "output_type": "stream",
     "text": [
      "Input #0, mpeg, from 'Data/CorpusNGT/gloss/CNGT2220_S087.mpg':\n",
      "  Duration: 00:02:09.00, start: 0.194911, bitrate: 1666 kb/s\n",
      "    Stream #0:0[0x1e0]: Video: mpeg1video, yuv420p(tv), 352x288 [SAR 178:163 DAR 1958:1467], 1500 kb/s, 25 fps, 25 tbr, 90k tbn, 25 tbc\n",
      "    Stream #0:1[0x1c0]: Audio: mp2, 48000 Hz, stereo, s16p, 128 kb/s\n",
      "At least one output file must be specified\n",
      "\n"
     ]
    },
    {
     "name": "stderr",
     "output_type": "stream",
     "text": [
      "100%|█████████▉| 1204/1208 [2:29:00<00:12,  3.05s/it]"
     ]
    },
    {
     "name": "stdout",
     "output_type": "stream",
     "text": [
      "Input #0, mpeg, from 'Data/CorpusNGT/gloss/CNGT2272_S090.mpg':\n",
      "  Duration: 00:02:08.00, start: 0.194911, bitrate: 1666 kb/s\n",
      "    Stream #0:0[0x1e0]: Video: mpeg1video, yuv420p(tv), 352x288 [SAR 178:163 DAR 1958:1467], 1500 kb/s, 25 fps, 25 tbr, 90k tbn, 25 tbc\n",
      "    Stream #0:1[0x1c0]: Audio: mp2, 48000 Hz, stereo, s16p, 128 kb/s\n",
      "At least one output file must be specified\n",
      "\n"
     ]
    },
    {
     "name": "stderr",
     "output_type": "stream",
     "text": [
      "100%|█████████▉| 1206/1208 [2:29:02<00:04,  2.44s/it]"
     ]
    },
    {
     "name": "stdout",
     "output_type": "stream",
     "text": [
      "Input #0, mpeg, from 'Data/CorpusNGT/gloss/CNGT2276_S090.mpg':\n",
      "  Duration: 00:01:05.00, start: 0.194911, bitrate: 1667 kb/s\n",
      "    Stream #0:0[0x1e0]: Video: mpeg1video, yuv420p(tv), 352x288 [SAR 178:163 DAR 1958:1467], 1500 kb/s, 25 fps, 25 tbr, 90k tbn, 25 tbc\n",
      "    Stream #0:1[0x1c0]: Audio: mp2, 48000 Hz, stereo, s16p, 128 kb/s\n",
      "At least one output file must be specified\n",
      "\n"
     ]
    },
    {
     "name": "stderr",
     "output_type": "stream",
     "text": [
      "100%|██████████| 1208/1208 [2:29:03<00:00,  7.40s/it]\n"
     ]
    }
   ],
   "source": [
    "## Here I split all the glossed videos by gloss and save as gloss chunks for CorpusNGT\n",
    "\n",
    "datapath = \"Data/CorpusNGT/gloss/\"\n",
    "glossvideopath = viddir_name + \"/\"\n",
    "ext = 'mpg'\n",
    "\n",
    "gloss_counter = dict([(i, 0) for i in c_unique_glosses]) # start counting the glosses so that we can give each split video a number so they don't overwrite eachother\n",
    "error_count = 0\n",
    "\n",
    "for filename in tqdm(os.listdir(datapath)):\n",
    "    file, extension = filename.split('.')\n",
    "    if extension == ext:\n",
    "        gloss = pd.read_csv((datapath + file + \".csv\")) #, header=None, names = ['signer', 'start seconds', 'start time', 'stop seconds', 'stop time', 'duration', 'value', 'gloss'])\n",
    "        gloss['gloss'].replace('', np.nan, inplace=True)\n",
    "        gloss.dropna(subset = ['gloss'], inplace = True)\n",
    "        gloss = gloss.dropna(axis=0)\n",
    "        gloss = gloss.iloc[1:]\n",
    "        gloss = gloss.reset_index(drop=True)\n",
    "        try:\n",
    "            split_cut(datapath, glossvideopath, file, ext, gloss['start seconds'], gloss['stop seconds'], gloss['gloss'], gloss_counter)\n",
    "        except Exception as err:\n",
    "            error_count += 1\n",
    "            print(Exception, err, error_count)\n",
    "\n",
    "## We've now done it only for the videos with just glosses, we do the same for the videos with glosses and translations\n",
    "\n",
    "#datapath = \"drive/My Drive/Thesis/Data/ECHO/gloss_trans/\"\n",
    "\n",
    "## We keep counting where we've been counting from so no need to set gloss counter to 0\n",
    "\n",
    "#for filename in os.listdir(datapath):\n",
    "#    file, extension = filename.split('.')\n",
    "#    if extension == ext:\n",
    "#        print(file)\n",
    "#        gloss = pd.read_csv((datapath + file + \".csv\"), header=None, names = ['start seconds', 'start time', 'stop seconds', 'stop time', 'duration', 'value', 'gloss'])\n",
    "#        gloss = gloss.dropna(axis=0)\n",
    "#        gloss = gloss.loc[[\"Gloss RH\", \"Gloss LH\"]]\n",
    "#        gloss = gloss[~gloss.gloss.str.contains(\"(p-)\")] ## removes unfinished annotations\n",
    "#        gloss = gloss[~gloss.gloss.str.contains(\"(g-)\")] ## removes unfinished annotations\n",
    "#        gloss['gloss'] = gloss['gloss'].apply(lambda x: cleanItem(x)) ## cleans up the glosses like we did with the statisitcs\n",
    "\n",
    "#        split_cut(datapath, glossvideopath, file, ext, gloss['start time'], gloss['stop time'], gloss['gloss'], gloss_counter)"
   ]
  },
  {
   "cell_type": "code",
   "execution_count": 45,
   "metadata": {
    "id": "qrC4araYhxBU"
   },
   "outputs": [],
   "source": [
    "np.save('Data/CorpusNGT/gloss_counts.npy', gloss_counter)"
   ]
  },
  {
   "cell_type": "code",
   "execution_count": 46,
   "metadata": {
    "id": "CHhCIujlzrYH",
    "scrolled": true
   },
   "outputs": [
    {
     "name": "stdout",
     "output_type": "stream",
     "text": [
      "NGT_AH_fab1\n",
      "NGT_AH_fab2\n",
      "NGT_AH_fab3\n",
      "NGT_AH_fab4\n",
      "NGT_AH_fab5\n",
      "NGT_AW_fab1\n",
      "NGT_AW_fab2\n",
      "NGT_AW_fab3\n",
      "NGT_AW_fab4\n",
      "NGT_AW_fab5\n",
      "NGT_JR_fab1\n",
      "NGT_JR_fab2\n",
      "NGT_JR_fab3\n",
      "NGT_JR_fab4\n",
      "NGT_JR_fab5\n",
      "NGT_WE_poems\n"
     ]
    }
   ],
   "source": [
    "## Here I connect every translation to every gloss for the translated videos and save that as the new csv data file\n",
    "\n",
    "datapath = \"Data/ECHO/gloss_trans/\"\n",
    "outputpath = \"Data/ECHO/\"\n",
    "ext = 'csv'\n",
    "\n",
    "def check_interval(startgloss, stopgloss, startsent, stopsent):\n",
    "    if startgloss >= startsent and stopgloss <=stopsent:\n",
    "        return True\n",
    "    else:\n",
    "        return False\n",
    "\n",
    "total_data_df = pd.DataFrame()\n",
    "\n",
    "for filename in os.listdir(datapath):\n",
    "    file, extension = filename.split('.')\n",
    "    if extension == ext:\n",
    "        print(file)\n",
    "        gloss_location = os.path.join(datapath, filename)\n",
    "        gloss = pd.read_csv(gloss_location, header=None, names = ['start seconds', 'start time', 'stop seconds', 'stop time', 'duration', 'value', 'item'])\n",
    "        gloss = gloss.dropna(axis=0)\n",
    "        gloss = gloss[~gloss.item.str.contains(\"(p-)\")] ## removes unfinished annotations\n",
    "        gloss = gloss[~gloss.item.str.contains(\"(g-)\")] ## removes unfinished annotations\n",
    "        gloss.rename(index={\"Translation Dutch\" : \"Translation\"},inplace=True)\n",
    "        gloss.rename(index={\"Translation Dutch \" : \"Translation\"},inplace=True)\n",
    "        gloss.rename(index={\"Dutch Translation\" : \"Translation\"},inplace=True)\n",
    "        gloss.rename(index={\"Dutch Translation \" : \"Translation\"},inplace=True)\n",
    "        sentences = gloss.loc[[\"Translation\"]]                                  # copy dataframe with just translations to seperate df\n",
    "        sentences['gloss'] = sentences.apply(lambda x: list(), axis=1)          # create another column with empty lists, we will add the glosses to this\n",
    "\n",
    "        gloss = gloss.loc[[\"Gloss RH Dutch\", \"Gloss LH Dutch\"]]\n",
    "        gloss['item'] = cleanItem(gloss['item'])           # cleans up the glosses like we did with the statisitcs\n",
    "\n",
    "        for i, sentence in sentences.iterrows():\n",
    "            for j, glossrow in gloss.iterrows():\n",
    "                if check_interval(glossrow['start time'], glossrow['stop time'], sentence['start time'], sentence['stop time']):\n",
    "                    item = glossrow['item']\n",
    "                    sentence['gloss'].append(item)\n",
    "\n",
    "\n",
    "        total_data_df = pd.concat([total_data_df, sentences], ignore_index=False, sort=False)\n"
   ]
  },
  {
   "cell_type": "code",
   "execution_count": 47,
   "metadata": {
    "id": "5sOIKftnJVnj"
   },
   "outputs": [],
   "source": [
    "import string\n",
    "\n",
    "total = total_data_df[total_data_df['gloss'].map(len) > 0]\n",
    "total = total.rename(columns={\"item\": \"sentence\"})\n",
    "total = total.reset_index(drop=True)\n",
    "\n",
    "total['sentence'] = total['sentence'].apply(lambda x: (x.lower().translate(str.maketrans('', '', string.punctuation)) ))\n",
    "\n",
    "total = total.drop(['start seconds',\t'start time',\t'stop seconds',\t'stop time',\t'duration',\t'value'], axis=1)"
   ]
  },
  {
   "cell_type": "code",
   "execution_count": 48,
   "metadata": {
    "colab": {
     "base_uri": "https://localhost:8080/",
     "height": 363
    },
    "id": "Kfz9ZdYI6KKx",
    "outputId": "4c3669be-b301-4f82-a7c6-533ee4cf0add"
   },
   "outputs": [
    {
     "data": {
      "text/html": [
       "<div>\n",
       "<style scoped>\n",
       "    .dataframe tbody tr th:only-of-type {\n",
       "        vertical-align: middle;\n",
       "    }\n",
       "\n",
       "    .dataframe tbody tr th {\n",
       "        vertical-align: top;\n",
       "    }\n",
       "\n",
       "    .dataframe thead th {\n",
       "        text-align: right;\n",
       "    }\n",
       "</style>\n",
       "<table border=\"1\" class=\"dataframe\">\n",
       "  <thead>\n",
       "    <tr style=\"text-align: right;\">\n",
       "      <th></th>\n",
       "      <th>sentence</th>\n",
       "      <th>gloss</th>\n",
       "    </tr>\n",
       "  </thead>\n",
       "  <tbody>\n",
       "    <tr>\n",
       "      <th>474</th>\n",
       "      <td>de kwaliteit bewijst het</td>\n",
       "      <td>[BEWIJS, BEWIJS]</td>\n",
       "    </tr>\n",
       "    <tr>\n",
       "      <th>475</th>\n",
       "      <td>dus laten we altijd zo verder gaan</td>\n",
       "      <td>[LEKKER, RICHTING-OPGAAN]</td>\n",
       "    </tr>\n",
       "    <tr>\n",
       "      <th>476</th>\n",
       "      <td>de aarde draait</td>\n",
       "      <td>[AARDE-DRAAIEN]</td>\n",
       "    </tr>\n",
       "    <tr>\n",
       "      <th>477</th>\n",
       "      <td>donkerte</td>\n",
       "      <td>[VALLEN-VIA-HART, VALLEN-VIA-HART]</td>\n",
       "    </tr>\n",
       "    <tr>\n",
       "      <th>478</th>\n",
       "      <td>innerlijke strijd</td>\n",
       "      <td>[INNERLIJKE-STRIJD, INNERLIJKE-STRIJD]</td>\n",
       "    </tr>\n",
       "    <tr>\n",
       "      <th>479</th>\n",
       "      <td>chaos</td>\n",
       "      <td>[INNERLIJKE-CHAOS, INNERLIJKE-CHAOS]</td>\n",
       "    </tr>\n",
       "    <tr>\n",
       "      <th>480</th>\n",
       "      <td>donkerte</td>\n",
       "      <td>[VALLEN-VIA-HART, VALLEN-VIA-HART]</td>\n",
       "    </tr>\n",
       "    <tr>\n",
       "      <th>481</th>\n",
       "      <td>yinyang</td>\n",
       "      <td>[YIN-YANG, YIN-YANG]</td>\n",
       "    </tr>\n",
       "    <tr>\n",
       "      <th>482</th>\n",
       "      <td>een bonzend hart</td>\n",
       "      <td>[YIN-YANG-IN-HART-KLOPPEN, YIN-YANG-IN-HART-KL...</td>\n",
       "    </tr>\n",
       "    <tr>\n",
       "      <th>483</th>\n",
       "      <td>de zon gaat langzaam onder</td>\n",
       "      <td>[ZON-ONDERGAAN, AARDE]</td>\n",
       "    </tr>\n",
       "  </tbody>\n",
       "</table>\n",
       "</div>"
      ],
      "text/plain": [
       "                               sentence  \\\n",
       "474            de kwaliteit bewijst het   \n",
       "475  dus laten we altijd zo verder gaan   \n",
       "476                     de aarde draait   \n",
       "477                            donkerte   \n",
       "478                   innerlijke strijd   \n",
       "479                               chaos   \n",
       "480                            donkerte   \n",
       "481                             yinyang   \n",
       "482                    een bonzend hart   \n",
       "483          de zon gaat langzaam onder   \n",
       "\n",
       "                                                 gloss  \n",
       "474                                   [BEWIJS, BEWIJS]  \n",
       "475                          [LEKKER, RICHTING-OPGAAN]  \n",
       "476                                    [AARDE-DRAAIEN]  \n",
       "477                 [VALLEN-VIA-HART, VALLEN-VIA-HART]  \n",
       "478             [INNERLIJKE-STRIJD, INNERLIJKE-STRIJD]  \n",
       "479               [INNERLIJKE-CHAOS, INNERLIJKE-CHAOS]  \n",
       "480                 [VALLEN-VIA-HART, VALLEN-VIA-HART]  \n",
       "481                               [YIN-YANG, YIN-YANG]  \n",
       "482  [YIN-YANG-IN-HART-KLOPPEN, YIN-YANG-IN-HART-KL...  \n",
       "483                             [ZON-ONDERGAAN, AARDE]  "
      ]
     },
     "execution_count": 48,
     "metadata": {},
     "output_type": "execute_result"
    }
   ],
   "source": [
    "total.tail(10)\n",
    "\n",
    "## After removing the entries with no glosses, we are left with just 483 sentences"
   ]
  },
  {
   "cell_type": "code",
   "execution_count": 49,
   "metadata": {
    "id": "9v4jVJ5Eut84"
   },
   "outputs": [],
   "source": [
    "# Save the dataframe to csv\n",
    "total.to_csv('Data/ECHO/sentences_with_gloss.csv')"
   ]
  },
  {
   "cell_type": "markdown",
   "metadata": {
    "id": "wMIMFBleuq1P"
   },
   "source": [
    "\n",
    "\n",
    "---\n",
    "\n"
   ]
  },
  {
   "cell_type": "markdown",
   "metadata": {
    "id": "N_ziM8onun9Y"
   },
   "source": [
    "Turn each video into frames\n"
   ]
  },
  {
   "cell_type": "code",
   "execution_count": 50,
   "metadata": {
    "id": "EifzTSZgqt_X"
   },
   "outputs": [],
   "source": [
    "def get_frames(filename, n_frames= 1):\n",
    "    frames = []\n",
    "    v_cap = cv.VideoCapture(filename)\n",
    "    v_len = int(v_cap.get(cv.CAP_PROP_FRAME_COUNT))\n",
    "    frame_list= np.linspace(0, v_len-1, n_frames+1, dtype=np.int16)\n",
    "\n",
    "    for fn in range(v_len):\n",
    "        success, frame = v_cap.read()\n",
    "        if success is False:\n",
    "            continue\n",
    "        if (fn in frame_list):\n",
    "            frame = cv.cvtColor(frame, cv.COLOR_BGR2RGB)\n",
    "            frames.append(frame)\n",
    "    v_cap.release()\n",
    "    return frames, v_len\n",
    "\n",
    "def store_frames(frames, path2store):\n",
    "    for ii, frame in enumerate(frames):\n",
    "        frame = cv.cvtColor(frame, cv.COLOR_RGB2BGR)\n",
    "        path2img = os.path.join(path2store, \"frame\"+str(ii)+\".jpg\")\n",
    "        cv.imwrite(path2img, frame)"
   ]
  },
  {
   "cell_type": "code",
   "execution_count": 51,
   "metadata": {
    "colab": {
     "base_uri": "https://localhost:8080/"
    },
    "id": "4KcxbMpd4XEH",
    "outputId": "78d74c3d-d377-43c9-c6ae-35b8628702ec",
    "scrolled": true
   },
   "outputs": [
    {
     "name": "stderr",
     "output_type": "stream",
     "text": [
      " 54%|█████▎    | 2024/3781 [1:01:52<08:08,  3.60it/s] "
     ]
    },
    {
     "name": "stdout",
     "output_type": "stream",
     "text": [
      "Data/CorpusNGT/gloss_split_8frames\\DRAW\\R-4 not found in directory\n"
     ]
    },
    {
     "name": "stderr",
     "output_type": "stream",
     "text": [
      "100%|██████████| 3781/3781 [1:05:50<00:00,  1.04s/it]\n"
     ]
    }
   ],
   "source": [
    "from tqdm import tqdm\n",
    "\n",
    "path2data = viddir_name\n",
    "\n",
    "c_unique_glosses = np.load('Data/CorpusNGT/gloss_labels.npy',allow_pickle='TRUE').item()\n",
    "#gloss_counter = np.load('Data/CorpusNGT/gloss_counts.npy',allow_pickle='TRUE').item()\n",
    "\n",
    "for item in tqdm(c_unique_glosses):\n",
    "    try:\n",
    "        sub_folder = item\n",
    "        path2gloss = os.path.join(path2data, sub_folder)\n",
    "    \n",
    "        listOfCategories = os.listdir(path2gloss)\n",
    "        listOfCategories, len(listOfCategories)\n",
    "    \n",
    "        extension = \".mpg\"\n",
    "        n_frames = 8\n",
    "        for root, dirs, files in os.walk(path2gloss, topdown=False):\n",
    "            try:\n",
    "                for name in files:\n",
    "                    try:\n",
    "                        if extension not in name:\n",
    "                            continue\n",
    "                        path2vid = os.path.join(root, name)\n",
    "                        frames, vlen = get_frames(path2vid, n_frames= n_frames)\n",
    "                        path2store = path2vid.replace(extension, \"\")\n",
    "                        #print(path2store)\n",
    "                        os.makedirs(path2store, exist_ok= True)\n",
    "                        store_frames(frames, path2store)\n",
    "                    except:\n",
    "                        print(extension + \" not in name\")\n",
    "            except:\n",
    "                print(name + \" not in files\")\n",
    "    except:\n",
    "        print(path2gloss + \" not found in directory\")"
   ]
  },
  {
   "cell_type": "code",
   "execution_count": 4,
   "metadata": {},
   "outputs": [
    {
     "name": "stderr",
     "output_type": "stream",
     "text": [
      "100%|██████████| 3780/3780 [00:19<00:00, 191.13it/s]"
     ]
    },
    {
     "name": "stdout",
     "output_type": "stream",
     "text": [
      "15696\n",
      "116227\n",
      "0.13504607363177232\n"
     ]
    },
    {
     "name": "stderr",
     "output_type": "stream",
     "text": [
      "\n"
     ]
    }
   ],
   "source": [
    "from tqdm import tqdm\n",
    "import pandas as pd\n",
    "import os\n",
    "\n",
    "totalcount = 0\n",
    "removecount = 0\n",
    "removelist = []\n",
    "for catg in tqdm(os.listdir(viddir_name)):\n",
    "    f1 = '{}/{}'.format(viddir_name, catg)\n",
    "    for number in os.listdir(f1):\n",
    "        f2 = '{}/{}'.format(f1, number)\n",
    "        remove = False\n",
    "        if os.path.isdir(f2):\n",
    "            if len(os.listdir(f2)) < 9: \n",
    "                removecount += 1\n",
    "                totalcount += 1\n",
    "                removelist.append(f2)\n",
    "            else:\n",
    "                totalcount += 1\n",
    "\n",
    "print(removecount)\n",
    "print(totalcount)\n",
    "print(removecount/totalcount)   ## This is the fraction of the data we have to remove because there were not enough frames \n",
    "                                ## in the sign to reach the 8 frame minimum"
   ]
  },
  {
   "cell_type": "code",
   "execution_count": 9,
   "metadata": {},
   "outputs": [],
   "source": [
    "## So now we remove these entries that didn't have enough frames, after which the pose estimation should work!\n",
    "\n",
    "for path in tqdm(removelist):\n",
    "    if len(os.listdir(path)) != 0:\n",
    "        for item in os.listdir(path):\n",
    "            os.remove('{}/{}'.format(path, item))\n",
    "    os.rmdir(path)"
   ]
  },
  {
   "cell_type": "markdown",
   "metadata": {},
   "source": [
    "## Stop Here and go run the MediaPipe_Data "
   ]
  },
  {
   "cell_type": "markdown",
   "metadata": {},
   "source": [
    "## Fixing the Train/Test/Val Split CorpusNGT"
   ]
  },
  {
   "cell_type": "code",
   "execution_count": 73,
   "metadata": {},
   "outputs": [
    {
     "data": {
      "text/plain": [
       "<torch._C.Generator at 0x1e48d8a0bf0>"
      ]
     },
     "execution_count": 73,
     "metadata": {},
     "output_type": "execute_result"
    }
   ],
   "source": [
    "import os\n",
    "import shutil\n",
    "import pandas as pd\n",
    "import numpy as np\n",
    "from numpy import asarray\n",
    "import cv2 as cv\n",
    "import re\n",
    "import math\n",
    "from subprocess import check_call, PIPE, Popen\n",
    "import shlex\n",
    "import glob\n",
    "from PIL import Image\n",
    "import random\n",
    "\n",
    "import torchvision.transforms as transforms\n",
    "from PIL import Image\n",
    "import torch\n",
    "from torchvision import models\n",
    "from torch import nn\n",
    "from torch.utils.data import Dataset, DataLoader, Subset\n",
    "\n",
    "import torchvision.transforms as transforms\n",
    "from torchvision.transforms.functional import to_pil_image\n",
    "import matplotlib.pylab as plt\n",
    "\n",
    "np.random.seed(2024)\n",
    "random.seed(2024)\n",
    "torch.manual_seed(2024)"
   ]
  },
  {
   "cell_type": "code",
   "execution_count": 74,
   "metadata": {},
   "outputs": [
    {
     "name": "stdout",
     "output_type": "stream",
     "text": [
      "3781\n"
     ]
    }
   ],
   "source": [
    "path2data = \"Data/CorpusNGT/gloss_split_8frames/\"\n",
    "\n",
    "listOfCategories = os.listdir(path2data)\n",
    "listOfCategories, len(listOfCategories)\n",
    "\n",
    "unique_glosses = np.load('Data/CorpusNGT/gloss_labels.npy',allow_pickle='TRUE').item()\n",
    "gloss_counter = np.load('Data/CorpusNGT/gloss_counts.npy',allow_pickle='TRUE').item()\n",
    "print(len(unique_glosses))"
   ]
  },
  {
   "cell_type": "code",
   "execution_count": 118,
   "metadata": {},
   "outputs": [
    {
     "data": {
      "text/plain": [
       "(74840, 74840, 344)"
      ]
     },
     "execution_count": 118,
     "metadata": {},
     "output_type": "execute_result"
    }
   ],
   "source": [
    "cutoff = 50  ## You can change the cutoff and upper limit values to see how that affects the results.\n",
    "upperlimit = 2000  ## Run the code from here and change these values to save the different cutoffs\n",
    "\n",
    "def get_vids(path2data):\n",
    "    listOfCats = os.listdir(path2data)\n",
    "    ids = []\n",
    "    labels = []\n",
    "    usableListOfCats = []\n",
    "    for catg in listOfCats:\n",
    "        path2catg = os.path.join(path2data, catg)\n",
    "        counter = 0\n",
    "        nr = len(os.listdir(path2catg))\n",
    "        if nr >= cutoff and counter <=upperlimit:  # We can only use glosses which have more than 4 occurences, meaning more than 2*2 files in dir, since video and frames are in there.\n",
    "            counter += 1\n",
    "            listOfSubCats = os.listdir(path2catg)\n",
    "            path2subCats = [os.path.join(path2catg, los) for los in listOfSubCats if os.path.isdir(os.path.join(path2catg, los))]\n",
    "            path2subCats = [path for path in path2subCats if len(os.listdir(path)) > 8]  \n",
    "            #9 because there are 8 frames and one keypoints object, and we want to make sure there is a keypoints object\n",
    "            if len(path2subCats) >= cutoff: ## check that there's still at least 10 paths after removing outliers, enough for a test, training, val split that goes 1:9:1\n",
    "                ids.extend(path2subCats)\n",
    "                labels.extend([catg]*len(path2subCats))\n",
    "                usableListOfCats.append(catg)\n",
    "    return ids, labels, usableListOfCats\n",
    "\n",
    "all_vids, all_labels, catgs = get_vids(path2data)\n",
    "len(all_vids), len(all_labels), len(catgs)"
   ]
  },
  {
   "cell_type": "code",
   "execution_count": 119,
   "metadata": {},
   "outputs": [
    {
     "data": {
      "text/plain": [
       "(74840, 74840)"
      ]
     },
     "execution_count": 119,
     "metadata": {},
     "output_type": "execute_result"
    }
   ],
   "source": [
    "labels_dict = {}\n",
    "ind = 0\n",
    "for uc in catgs:\n",
    "    labels_dict[uc] = ind\n",
    "    ind+=1\n",
    "\n",
    "num_classes = len(catgs)\n",
    "unique_ids = [id_ for id_, label in zip(all_vids,all_labels) if labels_dict[label]<num_classes]\n",
    "unique_labels = [label for id_, label in zip(all_vids,all_labels) if labels_dict[label]<num_classes]\n",
    "len(unique_ids), len(unique_labels)"
   ]
  },
  {
   "cell_type": "code",
   "execution_count": 120,
   "metadata": {},
   "outputs": [],
   "source": [
    "def train_validate_test_split(df, train_percent=.8, validate_percent=.1, seed=None):\n",
    "    np.random.seed(seed)\n",
    "    perm = np.random.permutation(df.index)\n",
    "    m = len(df.index)\n",
    "    train_end = int(train_percent * m)\n",
    "    validate_end = int(validate_percent * m) + train_end\n",
    "    train = df.iloc[perm[:train_end]]\n",
    "    validate = df.iloc[perm[train_end:validate_end]]\n",
    "    test = df.iloc[perm[validate_end:]]\n",
    "    return train, validate, test"
   ]
  },
  {
   "cell_type": "code",
   "execution_count": 121,
   "metadata": {},
   "outputs": [],
   "source": [
    "df = pd.DataFrame(unique_ids, unique_labels)\n",
    "df = df.reset_index()\n",
    "df = df.rename(columns={\"index\": \"id\", 0: \"path\"})"
   ]
  },
  {
   "cell_type": "code",
   "execution_count": 122,
   "metadata": {},
   "outputs": [],
   "source": [
    "train, validate, test = train_validate_test_split(df, train_percent=.8, validate_percent=.1, seed=0)"
   ]
  },
  {
   "cell_type": "code",
   "execution_count": 123,
   "metadata": {},
   "outputs": [
    {
     "data": {
      "text/plain": [
       "8.0"
      ]
     },
     "execution_count": 123,
     "metadata": {},
     "output_type": "execute_result"
    }
   ],
   "source": [
    "train.size / validate.size"
   ]
  },
  {
   "cell_type": "code",
   "execution_count": 124,
   "metadata": {},
   "outputs": [
    {
     "data": {
      "text/html": [
       "<div>\n",
       "<style scoped>\n",
       "    .dataframe tbody tr th:only-of-type {\n",
       "        vertical-align: middle;\n",
       "    }\n",
       "\n",
       "    .dataframe tbody tr th {\n",
       "        vertical-align: top;\n",
       "    }\n",
       "\n",
       "    .dataframe thead th {\n",
       "        text-align: right;\n",
       "    }\n",
       "</style>\n",
       "<table border=\"1\" class=\"dataframe\">\n",
       "  <thead>\n",
       "    <tr style=\"text-align: right;\">\n",
       "      <th></th>\n",
       "      <th>id</th>\n",
       "      <th>path</th>\n",
       "    </tr>\n",
       "  </thead>\n",
       "  <tbody>\n",
       "    <tr>\n",
       "      <th>6663</th>\n",
       "      <td>CI-A</td>\n",
       "      <td>Data/CorpusNGT/gloss_split_8frames/CI-A\\41</td>\n",
       "    </tr>\n",
       "    <tr>\n",
       "      <th>38415</th>\n",
       "      <td>PO</td>\n",
       "      <td>Data/CorpusNGT/gloss_split_8frames/PO\\2284</td>\n",
       "    </tr>\n",
       "    <tr>\n",
       "      <th>17294</th>\n",
       "      <td>HANDEN-WRIJVEN-B</td>\n",
       "      <td>Data/CorpusNGT/gloss_split_8frames/HANDEN-WRIJ...</td>\n",
       "    </tr>\n",
       "    <tr>\n",
       "      <th>20835</th>\n",
       "      <td>JA-A</td>\n",
       "      <td>Data/CorpusNGT/gloss_split_8frames/JA-A\\974</td>\n",
       "    </tr>\n",
       "    <tr>\n",
       "      <th>55764</th>\n",
       "      <td>PT</td>\n",
       "      <td>Data/CorpusNGT/gloss_split_8frames/PT\\3410</td>\n",
       "    </tr>\n",
       "  </tbody>\n",
       "</table>\n",
       "</div>"
      ],
      "text/plain": [
       "                     id                                               path\n",
       "6663               CI-A         Data/CorpusNGT/gloss_split_8frames/CI-A\\41\n",
       "38415                PO         Data/CorpusNGT/gloss_split_8frames/PO\\2284\n",
       "17294  HANDEN-WRIJVEN-B  Data/CorpusNGT/gloss_split_8frames/HANDEN-WRIJ...\n",
       "20835              JA-A        Data/CorpusNGT/gloss_split_8frames/JA-A\\974\n",
       "55764                PT         Data/CorpusNGT/gloss_split_8frames/PT\\3410"
      ]
     },
     "execution_count": 124,
     "metadata": {},
     "output_type": "execute_result"
    }
   ],
   "source": [
    "train.head()"
   ]
  },
  {
   "cell_type": "code",
   "execution_count": 125,
   "metadata": {},
   "outputs": [
    {
     "name": "stdout",
     "output_type": "stream",
     "text": [
      "149680\n"
     ]
    }
   ],
   "source": [
    "print(train.size+validate.size+test.size)"
   ]
  },
  {
   "cell_type": "code",
   "execution_count": 126,
   "metadata": {},
   "outputs": [],
   "source": [
    "train.to_pickle(\"Data/CorpusNGT/train_cutoff{}_upperlimit{}.pkl\".format(cutoff, upperlimit))\n",
    "test.to_pickle(\"Data/CorpusNGT/test_cutoff{}_upperlimit{}.pkl\".format(cutoff, upperlimit))\n",
    "validate.to_pickle(\"Data/CorpusNGT/validate_cutoff{}_upperlimit{}.pkl\".format(cutoff, upperlimit))"
   ]
  },
  {
   "cell_type": "markdown",
   "metadata": {},
   "source": [
    "You're done! Go train the model now\n",
    "\n",
    "----------------------------"
   ]
  },
  {
   "cell_type": "code",
   "execution_count": 3,
   "metadata": {},
   "outputs": [],
   "source": [
    "### Extra code for the SURF server\n",
    "import os\n",
    "import glob\n",
    "\n",
    "for p in glob.glob('Data/CorpusNGT/gloss_split_8frames/**/*.MPG', recursive=True):\n",
    "    if os.path.isfile(p):\n",
    "        os.remove(p)"
   ]
  },
  {
   "cell_type": "code",
   "execution_count": 2,
   "metadata": {},
   "outputs": [
    {
     "data": {
      "text/plain": [
       "'C:\\\\Users\\\\novan\\\\Desktop\\\\Thesis\\\\CSL-Daily.zip'"
      ]
     },
     "execution_count": 2,
     "metadata": {},
     "output_type": "execute_result"
    }
   ],
   "source": [
    "### Extra code to zip the data and upload it to SURF server\n",
    "import shutil\n",
    "shutil.make_archive(\"CSL-Daily\", 'zip', \"Data/CSL-Daily\")"
   ]
  },
  {
   "cell_type": "code",
   "execution_count": 3,
   "metadata": {},
   "outputs": [
    {
     "ename": "KeyboardInterrupt",
     "evalue": "",
     "output_type": "error",
     "traceback": [
      "\u001b[1;31m---------------------------------------------------------------------------\u001b[0m",
      "\u001b[1;31mKeyboardInterrupt\u001b[0m                         Traceback (most recent call last)",
      "Cell \u001b[1;32mIn[3], line 3\u001b[0m\n\u001b[0;32m      1\u001b[0m filename \u001b[38;5;241m=\u001b[39m \u001b[38;5;124m'\u001b[39m\u001b[38;5;124mgloss_split_8frames_zipped2.zip\u001b[39m\u001b[38;5;124m'\u001b[39m\n\u001b[0;32m      2\u001b[0m zipdir \u001b[38;5;241m=\u001b[39m \u001b[38;5;124m'\u001b[39m\u001b[38;5;124mgloss_split_8frames\u001b[39m\u001b[38;5;124m'\u001b[39m\n\u001b[1;32m----> 3\u001b[0m \u001b[43mshutil\u001b[49m\u001b[38;5;241;43m.\u001b[39;49m\u001b[43munpack_archive\u001b[49m\u001b[43m(\u001b[49m\u001b[43mfilename\u001b[49m\u001b[43m,\u001b[49m\u001b[43m \u001b[49m\u001b[43mzipdir\u001b[49m\u001b[43m,\u001b[49m\u001b[43m \u001b[49m\u001b[38;5;124;43m\"\u001b[39;49m\u001b[38;5;124;43mzip\u001b[39;49m\u001b[38;5;124;43m\"\u001b[39;49m\u001b[43m)\u001b[49m\n",
      "File \u001b[1;32m~\\anaconda3\\lib\\shutil.py:1239\u001b[0m, in \u001b[0;36munpack_archive\u001b[1;34m(filename, extract_dir, format, filter)\u001b[0m\n\u001b[0;32m   1236\u001b[0m         \u001b[38;5;28;01mraise\u001b[39;00m \u001b[38;5;167;01mValueError\u001b[39;00m(\u001b[38;5;124m\"\u001b[39m\u001b[38;5;124mUnknown unpack format \u001b[39m\u001b[38;5;124m'\u001b[39m\u001b[38;5;132;01m{0}\u001b[39;00m\u001b[38;5;124m'\u001b[39m\u001b[38;5;124m\"\u001b[39m\u001b[38;5;241m.\u001b[39mformat(\u001b[38;5;28mformat\u001b[39m)) \u001b[38;5;28;01mfrom\u001b[39;00m \u001b[38;5;28;01mNone\u001b[39;00m\n\u001b[0;32m   1238\u001b[0m     func \u001b[38;5;241m=\u001b[39m format_info[\u001b[38;5;241m1\u001b[39m]\n\u001b[1;32m-> 1239\u001b[0m     \u001b[43mfunc\u001b[49m\u001b[43m(\u001b[49m\u001b[43mfilename\u001b[49m\u001b[43m,\u001b[49m\u001b[43m \u001b[49m\u001b[43mextract_dir\u001b[49m\u001b[43m,\u001b[49m\u001b[43m \u001b[49m\u001b[38;5;241;43m*\u001b[39;49m\u001b[38;5;241;43m*\u001b[39;49m\u001b[38;5;28;43mdict\u001b[39;49m\u001b[43m(\u001b[49m\u001b[43mformat_info\u001b[49m\u001b[43m[\u001b[49m\u001b[38;5;241;43m2\u001b[39;49m\u001b[43m]\u001b[49m\u001b[43m)\u001b[49m\u001b[43m,\u001b[49m\u001b[43m \u001b[49m\u001b[38;5;241;43m*\u001b[39;49m\u001b[38;5;241;43m*\u001b[39;49m\u001b[43mfilter_kwargs\u001b[49m\u001b[43m)\u001b[49m\n\u001b[0;32m   1240\u001b[0m \u001b[38;5;28;01melse\u001b[39;00m:\n\u001b[0;32m   1241\u001b[0m     \u001b[38;5;66;03m# we need to look at the registered unpackers supported extensions\u001b[39;00m\n\u001b[0;32m   1242\u001b[0m     \u001b[38;5;28mformat\u001b[39m \u001b[38;5;241m=\u001b[39m _find_unpack_format(filename)\n",
      "File \u001b[1;32m~\\anaconda3\\lib\\shutil.py:1151\u001b[0m, in \u001b[0;36m_unpack_zipfile\u001b[1;34m(filename, extract_dir)\u001b[0m\n\u001b[0;32m   1148\u001b[0m \u001b[38;5;28;01mif\u001b[39;00m \u001b[38;5;129;01mnot\u001b[39;00m target:\n\u001b[0;32m   1149\u001b[0m     \u001b[38;5;28;01mcontinue\u001b[39;00m\n\u001b[1;32m-> 1151\u001b[0m \u001b[43m_ensure_directory\u001b[49m\u001b[43m(\u001b[49m\u001b[43mtarget\u001b[49m\u001b[43m)\u001b[49m\n\u001b[0;32m   1152\u001b[0m \u001b[38;5;28;01mif\u001b[39;00m \u001b[38;5;129;01mnot\u001b[39;00m name\u001b[38;5;241m.\u001b[39mendswith(\u001b[38;5;124m'\u001b[39m\u001b[38;5;124m/\u001b[39m\u001b[38;5;124m'\u001b[39m):\n\u001b[0;32m   1153\u001b[0m     \u001b[38;5;66;03m# file\u001b[39;00m\n\u001b[0;32m   1154\u001b[0m     data \u001b[38;5;241m=\u001b[39m \u001b[38;5;28mzip\u001b[39m\u001b[38;5;241m.\u001b[39mread(info\u001b[38;5;241m.\u001b[39mfilename)\n",
      "File \u001b[1;32m~\\anaconda3\\lib\\shutil.py:1127\u001b[0m, in \u001b[0;36m_ensure_directory\u001b[1;34m(path)\u001b[0m\n\u001b[0;32m   1125\u001b[0m \u001b[38;5;250m\u001b[39m\u001b[38;5;124;03m\"\"\"Ensure that the parent directory of `path` exists\"\"\"\u001b[39;00m\n\u001b[0;32m   1126\u001b[0m dirname \u001b[38;5;241m=\u001b[39m os\u001b[38;5;241m.\u001b[39mpath\u001b[38;5;241m.\u001b[39mdirname(path)\n\u001b[1;32m-> 1127\u001b[0m \u001b[38;5;28;01mif\u001b[39;00m \u001b[38;5;129;01mnot\u001b[39;00m \u001b[43mos\u001b[49m\u001b[38;5;241;43m.\u001b[39;49m\u001b[43mpath\u001b[49m\u001b[38;5;241;43m.\u001b[39;49m\u001b[43misdir\u001b[49m\u001b[43m(\u001b[49m\u001b[43mdirname\u001b[49m\u001b[43m)\u001b[49m:\n\u001b[0;32m   1128\u001b[0m     os\u001b[38;5;241m.\u001b[39mmakedirs(dirname)\n",
      "File \u001b[1;32m~\\anaconda3\\lib\\genericpath.py:42\u001b[0m, in \u001b[0;36misdir\u001b[1;34m(s)\u001b[0m\n\u001b[0;32m     40\u001b[0m \u001b[38;5;250m\u001b[39m\u001b[38;5;124;03m\"\"\"Return true if the pathname refers to an existing directory.\"\"\"\u001b[39;00m\n\u001b[0;32m     41\u001b[0m \u001b[38;5;28;01mtry\u001b[39;00m:\n\u001b[1;32m---> 42\u001b[0m     st \u001b[38;5;241m=\u001b[39m \u001b[43mos\u001b[49m\u001b[38;5;241;43m.\u001b[39;49m\u001b[43mstat\u001b[49m\u001b[43m(\u001b[49m\u001b[43ms\u001b[49m\u001b[43m)\u001b[49m\n\u001b[0;32m     43\u001b[0m \u001b[38;5;28;01mexcept\u001b[39;00m (\u001b[38;5;167;01mOSError\u001b[39;00m, \u001b[38;5;167;01mValueError\u001b[39;00m):\n\u001b[0;32m     44\u001b[0m     \u001b[38;5;28;01mreturn\u001b[39;00m \u001b[38;5;28;01mFalse\u001b[39;00m\n",
      "\u001b[1;31mKeyboardInterrupt\u001b[0m: "
     ]
    }
   ],
   "source": [
    "filename = 'gloss_split_8frames_zipped2.zip'\n",
    "zipdir = 'gloss_split_8frames'\n",
    "shutil.unpack_archive(filename, zipdir, \"zip\")  "
   ]
  },
  {
   "cell_type": "code",
   "execution_count": null,
   "metadata": {},
   "outputs": [],
   "source": []
  }
 ],
 "metadata": {
  "colab": {
   "provenance": []
  },
  "kernelspec": {
   "display_name": "Python 3 (ipykernel)",
   "language": "python",
   "name": "python3"
  },
  "language_info": {
   "codemirror_mode": {
    "name": "ipython",
    "version": 3
   },
   "file_extension": ".py",
   "mimetype": "text/x-python",
   "name": "python",
   "nbconvert_exporter": "python",
   "pygments_lexer": "ipython3",
   "version": "3.8.19"
  }
 },
 "nbformat": 4,
 "nbformat_minor": 4
}
